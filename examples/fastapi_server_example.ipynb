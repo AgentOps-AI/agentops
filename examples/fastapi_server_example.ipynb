{
 "cells": [
  {
   "cell_type": "markdown",
   "source": [
    "# Flask Server Example\n",
    "There are a few considerations when using AgentOps in a server setting."
   ],
   "metadata": {
    "collapsed": false
   },
   "id": "f0479f079802747"
  },
  {
   "cell_type": "markdown",
   "source": [
    "AgentOps uses a [Singleton](https://refactoring.guru/design-patterns/singleton) pattern. This means that you can call functions on the agentops module and the client is inferred because only one client exists at a time.\n",
    "\n",
    "Ex:\n",
    "\n",
    "```python\n",
    "import agentops\n",
    "\n",
    "agentops.init()  # <-- This creates a default client that the entire module uses\n",
    "agentops.end_session(\n",
    "    end_state=\"Success\"\n",
    ")  # <-- functions are called on the default client\n",
    "```"
   ],
   "metadata": {
    "collapsed": false
   },
   "id": "e7de0260e6c7211b"
  },
  {
   "cell_type": "markdown",
   "source": [
    "In simple use-cases, each agentops client only needs to maintain one [Session](https://docs.agentops.ai/v1/concepts/core-concepts#sessions). In a server setting, its likely that the developer wants to be able to handle multiple sessions concurrently.\n",
    "\n",
    "For this, we have exposed a function `agentops.start_session()` to create new sessions. This function allows for the AgentOps client to maintain multiple sessions at the same time. Once more than 1 session is started, however, `session_id: str` parameters become required in the following functions:\n",
    "- `agentops.end_session()`\n",
    "- `agentops.add_tags()`\n",
    "- `agentops.set_tags()`\n",
    "- `agentops.record()`"
   ],
   "metadata": {
    "collapsed": false
   },
   "id": "7098c4f72f57da9b"
  },
  {
   "cell_type": "markdown",
   "source": [
    "## Creating our Server"
   ],
   "metadata": {
    "collapsed": false
   },
   "id": "fb3ba6b249ad78a8"
  },
  {
   "cell_type": "code",
   "outputs": [
    {
     "name": "stderr",
     "output_type": "stream",
     "text": [
      "🖇 AgentOps: \u001b[34m\u001b[34mSession Replay: https://app.agentops.ai/drilldown?session_id=63e795a8-5e91-4ba9-aa4b-e0a52fd42c7d\u001b[0m\u001b[0m\n"
     ]
    }
   ],
   "source": [
    "agentops = None  # removing the above instance\n",
    "import agentops\n",
    "\n",
    "from fastapi import FastAPI\n",
    "import uvicorn\n",
    "import threading\n",
    "from dotenv import load_dotenv\n",
    "\n",
    "load_dotenv()\n",
    "\n",
    "agentops.init()  # the server_hosted param is not required, but it blocks the creation of a default Client and saves memory on the machine.\n",
    "\n",
    "app = FastAPI()\n",
    "\n",
    "\n",
    "### ---- code to run the app in jupyter notebook ----\n",
    "class ServerThread(threading.Thread):\n",
    "\n",
    "    def __init__(self):\n",
    "        super(ServerThread, self).__init__()\n",
    "        self.stop_event = threading.Event()\n",
    "\n",
    "    def stop(self):\n",
    "        # Stop the Flask server\n",
    "        self.stop_event.set()\n",
    "\n",
    "    def run(self):\n",
    "        while not self.stop_event.is_set():\n",
    "            uvicorn.run(app, host=\"0.0.0.0\", port=9696)\n",
    "\n",
    "\n",
    "### -------------------------------------------------"
   ],
   "metadata": {
    "collapsed": false,
    "ExecuteTime": {
     "end_time": "2024-06-12T23:05:07.607979Z",
     "start_time": "2024-06-12T23:05:06.537709Z"
    }
   },
   "id": "4e6682781128a851",
   "execution_count": 1
  },
  {
   "cell_type": "markdown",
   "source": [
    "## AgentOps Client\n",
    "A lot of AgentOps is designed to be __\"magical\"__, but more complicated applications like use on an API server require us to pull back the curtain a bit."
   ],
   "metadata": {
    "collapsed": false
   },
   "id": "ddd0e60858cf5d90"
  },
  {
   "cell_type": "code",
   "outputs": [],
   "source": [
    "import agentops\n",
    "from agentops import ActionEvent\n",
    "from openai import OpenAI\n",
    "\n",
    "openai = OpenAI()"
   ],
   "metadata": {
    "collapsed": false,
    "ExecuteTime": {
     "end_time": "2024-06-12T23:05:07.928636Z",
     "start_time": "2024-06-12T23:05:07.608778Z"
    }
   },
   "id": "4675cdb64a3ce822",
   "execution_count": 2
  },
  {
   "cell_type": "markdown",
   "source": [
    "Instead of calling `agentops.init()` as we normally would, instead we'll use what's called a [Factory Pattern](https://refactoring.guru/design-patterns/factory-method). This allows us to create a client, and in-turn a session, as needed."
   ],
   "metadata": {
    "collapsed": false
   },
   "id": "e666ed1a99933b2e"
  },
  {
   "cell_type": "code",
   "outputs": [],
   "source": [
    "@app.get(\"/completion\")\n",
    "def completion():\n",
    "\n",
    "    session_id = agentops.start_session(tags=[\"user-hello\"])\n",
    "\n",
    "    messages = [{\"role\": \"user\", \"content\": \"Hello\"}]\n",
    "    response = openai.chat.completions.create(\n",
    "        model=\"gpt-3.5-turbo\",\n",
    "        messages=messages,\n",
    "        temperature=0.5,\n",
    "        session_id=session_id,  # <-- add the agentops session_id to the create function\n",
    "    )\n",
    "\n",
    "    if \"hello\" in str(response.choices[0].message.content).lower():\n",
    "        agentops.record(\n",
    "            ActionEvent(\n",
    "                action_type=\"Agent says hello\",\n",
    "                params=messages,\n",
    "                returns=str(response.choices[0].message.content),\n",
    "            ),\n",
    "            session_id=session_id,  # <-- be sure to include session_id here if there are multiple sessions at once\n",
    "        )\n",
    "\n",
    "    agentops.end_session(end_state=\"Success\", session_id=session_id)\n",
    "\n",
    "    return {\"response\": response}"
   ],
   "metadata": {
    "collapsed": false,
    "ExecuteTime": {
     "end_time": "2024-06-12T23:05:07.933542Z",
     "start_time": "2024-06-12T23:05:07.930377Z"
    }
   },
   "id": "75938a1382012859",
   "execution_count": 3
  },
  {
   "cell_type": "markdown",
   "source": [
    "Let's start the server"
   ],
   "metadata": {
    "collapsed": false
   },
   "id": "aaf7f58fd0af542c"
  },
  {
   "cell_type": "code",
   "outputs": [],
   "source": [
    "# Running server in a different thread\n",
    "server_thread = ServerThread()\n",
    "server_thread.start()"
   ],
   "metadata": {
    "collapsed": false,
    "ExecuteTime": {
     "end_time": "2024-06-12T23:05:07.935994Z",
     "start_time": "2024-06-12T23:05:07.933054Z"
    }
   },
   "id": "5bb83811ca777e41",
   "execution_count": 4
  },
  {
   "cell_type": "markdown",
   "source": [
    "we'll give the server a few seconds to start"
   ],
   "metadata": {
    "collapsed": false
   },
   "id": "979f12047631c9e5"
  },
  {
   "cell_type": "code",
   "outputs": [
    {
     "name": "stderr",
     "output_type": "stream",
     "text": [
      "INFO:     Started server process [53716]\n",
      "INFO:     Waiting for application startup.\n",
      "INFO:     Application startup complete.\n",
      "INFO:     Uvicorn running on http://0.0.0.0:9696 (Press CTRL+C to quit)\n"
     ]
    }
   ],
   "source": [
    "import time\n",
    "\n",
    "time.sleep(2)"
   ],
   "metadata": {
    "collapsed": false,
    "ExecuteTime": {
     "end_time": "2024-06-12T23:05:09.949237Z",
     "start_time": "2024-06-12T23:05:07.936452Z"
    }
   },
   "id": "55df8a389b345b70",
   "execution_count": 5
  },
  {
   "cell_type": "markdown",
   "source": [
    "Now let's send a request to make our completion"
   ],
   "metadata": {
    "collapsed": false
   },
   "id": "3478fb9a1c5db00e"
  },
  {
   "cell_type": "code",
   "outputs": [
    {
     "name": "stderr",
     "output_type": "stream",
     "text": [
      "🖇 AgentOps: \u001b[34m\u001b[34mSession Replay: https://app.agentops.ai/drilldown?session_id=8239934d-7cc2-4979-95d0-2382dad2a2be\u001b[0m\u001b[0m\n"
     ]
    },
    {
     "name": "stdout",
     "output_type": "stream",
     "text": [
      "INFO:     127.0.0.1:50287 - \"GET /completion HTTP/1.1\" 500 Internal Server Error\n"
     ]
    },
    {
     "name": "stderr",
     "output_type": "stream",
     "text": [
      "ERROR:    Exception in ASGI application\n",
      "Traceback (most recent call last):\n",
      "  File \"/opt/homebrew/lib/python3.11/site-packages/uvicorn/protocols/http/httptools_impl.py\", line 426, in run_asgi\n",
      "    result = await app(  # type: ignore[func-returns-value]\n",
      "             ^^^^^^^^^^^^^^^^^^^^^^^^^^^^^^^^^^^^^^^^^^^^^^\n",
      "  File \"/opt/homebrew/lib/python3.11/site-packages/uvicorn/middleware/proxy_headers.py\", line 84, in __call__\n",
      "    return await self.app(scope, receive, send)\n",
      "           ^^^^^^^^^^^^^^^^^^^^^^^^^^^^^^^^^^^^\n",
      "  File \"/opt/homebrew/lib/python3.11/site-packages/fastapi/applications.py\", line 1054, in __call__\n",
      "    await super().__call__(scope, receive, send)\n",
      "  File \"/opt/homebrew/lib/python3.11/site-packages/starlette/applications.py\", line 123, in __call__\n",
      "    await self.middleware_stack(scope, receive, send)\n",
      "  File \"/opt/homebrew/lib/python3.11/site-packages/starlette/middleware/errors.py\", line 186, in __call__\n",
      "    raise exc\n",
      "  File \"/opt/homebrew/lib/python3.11/site-packages/starlette/middleware/errors.py\", line 164, in __call__\n",
      "    await self.app(scope, receive, _send)\n",
      "  File \"/opt/homebrew/lib/python3.11/site-packages/starlette/middleware/exceptions.py\", line 62, in __call__\n",
      "    await wrap_app_handling_exceptions(self.app, conn)(scope, receive, send)\n",
      "  File \"/opt/homebrew/lib/python3.11/site-packages/starlette/_exception_handler.py\", line 64, in wrapped_app\n",
      "    raise exc\n",
      "  File \"/opt/homebrew/lib/python3.11/site-packages/starlette/_exception_handler.py\", line 53, in wrapped_app\n",
      "    await app(scope, receive, sender)\n",
      "  File \"/opt/homebrew/lib/python3.11/site-packages/starlette/routing.py\", line 758, in __call__\n",
      "    await self.middleware_stack(scope, receive, send)\n",
      "  File \"/opt/homebrew/lib/python3.11/site-packages/starlette/routing.py\", line 778, in app\n",
      "    await route.handle(scope, receive, send)\n",
      "  File \"/opt/homebrew/lib/python3.11/site-packages/starlette/routing.py\", line 299, in handle\n",
      "    await self.app(scope, receive, send)\n",
      "  File \"/opt/homebrew/lib/python3.11/site-packages/starlette/routing.py\", line 79, in app\n",
      "    await wrap_app_handling_exceptions(app, request)(scope, receive, send)\n",
      "  File \"/opt/homebrew/lib/python3.11/site-packages/starlette/_exception_handler.py\", line 64, in wrapped_app\n",
      "    raise exc\n",
      "  File \"/opt/homebrew/lib/python3.11/site-packages/starlette/_exception_handler.py\", line 53, in wrapped_app\n",
      "    await app(scope, receive, sender)\n",
      "  File \"/opt/homebrew/lib/python3.11/site-packages/starlette/routing.py\", line 74, in app\n",
      "    response = await func(request)\n",
      "               ^^^^^^^^^^^^^^^^^^^\n",
      "  File \"/opt/homebrew/lib/python3.11/site-packages/fastapi/routing.py\", line 278, in app\n",
      "    raw_response = await run_endpoint_function(\n",
      "                   ^^^^^^^^^^^^^^^^^^^^^^^^^^^^\n",
      "  File \"/opt/homebrew/lib/python3.11/site-packages/fastapi/routing.py\", line 193, in run_endpoint_function\n",
      "    return await run_in_threadpool(dependant.call, **values)\n",
      "           ^^^^^^^^^^^^^^^^^^^^^^^^^^^^^^^^^^^^^^^^^^^^^^^^^\n",
      "  File \"/opt/homebrew/lib/python3.11/site-packages/starlette/concurrency.py\", line 42, in run_in_threadpool\n",
      "    return await anyio.to_thread.run_sync(func, *args)\n",
      "           ^^^^^^^^^^^^^^^^^^^^^^^^^^^^^^^^^^^^^^^^^^^\n",
      "  File \"/opt/homebrew/lib/python3.11/site-packages/anyio/to_thread.py\", line 31, in run_sync\n",
      "    return await get_asynclib().run_sync_in_worker_thread(\n",
      "           ^^^^^^^^^^^^^^^^^^^^^^^^^^^^^^^^^^^^^^^^^^^^^^^\n",
      "  File \"/opt/homebrew/lib/python3.11/site-packages/anyio/_backends/_asyncio.py\", line 937, in run_sync_in_worker_thread\n",
      "    return await future\n",
      "           ^^^^^^^^^^^^\n",
      "  File \"/opt/homebrew/lib/python3.11/site-packages/anyio/_backends/_asyncio.py\", line 867, in run\n",
      "    result = context.run(func, *args)\n",
      "             ^^^^^^^^^^^^^^^^^^^^^^^^\n",
      "  File \"/var/folders/hq/_qbf2g9n6hjbdfqcpk9kycmm0000gn/T/ipykernel_53716/708895420.py\", line 7, in completion\n",
      "    response = openai.chat.completions.create(\n",
      "               ^^^^^^^^^^^^^^^^^^^^^^^^^^^^^^^\n",
      "  File \"/opt/homebrew/lib/python3.11/site-packages/openai/_utils/_utils.py\", line 275, in wrapper\n",
      "    return func(*args, **kwargs)\n",
      "           ^^^^^^^^^^^^^^^^^^^^^\n",
      "TypeError: Completions.create() got an unexpected keyword argument 'session_id'\n",
      "🖇 AgentOps: \u001b[34m\u001b[34mSession Replay: https://app.agentops.ai/drilldown?session_id=aed1653a-53c7-41a8-9b43-31be717f06ac\u001b[0m\u001b[0m\n"
     ]
    },
    {
     "name": "stdout",
     "output_type": "stream",
     "text": [
      "INFO:     127.0.0.1:50294 - \"GET /completion HTTP/1.1\" 500 Internal Server Error\n"
     ]
    },
    {
     "name": "stderr",
     "output_type": "stream",
     "text": [
      "ERROR:    Exception in ASGI application\n",
      "Traceback (most recent call last):\n",
      "  File \"/opt/homebrew/lib/python3.11/site-packages/uvicorn/protocols/http/httptools_impl.py\", line 426, in run_asgi\n",
      "    result = await app(  # type: ignore[func-returns-value]\n",
      "             ^^^^^^^^^^^^^^^^^^^^^^^^^^^^^^^^^^^^^^^^^^^^^^\n",
      "  File \"/opt/homebrew/lib/python3.11/site-packages/uvicorn/middleware/proxy_headers.py\", line 84, in __call__\n",
      "    return await self.app(scope, receive, send)\n",
      "           ^^^^^^^^^^^^^^^^^^^^^^^^^^^^^^^^^^^^\n",
      "  File \"/opt/homebrew/lib/python3.11/site-packages/fastapi/applications.py\", line 1054, in __call__\n",
      "    await super().__call__(scope, receive, send)\n",
      "  File \"/opt/homebrew/lib/python3.11/site-packages/starlette/applications.py\", line 123, in __call__\n",
      "    await self.middleware_stack(scope, receive, send)\n",
      "  File \"/opt/homebrew/lib/python3.11/site-packages/starlette/middleware/errors.py\", line 186, in __call__\n",
      "    raise exc\n",
      "  File \"/opt/homebrew/lib/python3.11/site-packages/starlette/middleware/errors.py\", line 164, in __call__\n",
      "    await self.app(scope, receive, _send)\n",
      "  File \"/opt/homebrew/lib/python3.11/site-packages/starlette/middleware/exceptions.py\", line 62, in __call__\n",
      "    await wrap_app_handling_exceptions(self.app, conn)(scope, receive, send)\n",
      "  File \"/opt/homebrew/lib/python3.11/site-packages/starlette/_exception_handler.py\", line 64, in wrapped_app\n",
      "    raise exc\n",
      "  File \"/opt/homebrew/lib/python3.11/site-packages/starlette/_exception_handler.py\", line 53, in wrapped_app\n",
      "    await app(scope, receive, sender)\n",
      "  File \"/opt/homebrew/lib/python3.11/site-packages/starlette/routing.py\", line 758, in __call__\n",
      "    await self.middleware_stack(scope, receive, send)\n",
      "  File \"/opt/homebrew/lib/python3.11/site-packages/starlette/routing.py\", line 778, in app\n",
      "    await route.handle(scope, receive, send)\n",
      "  File \"/opt/homebrew/lib/python3.11/site-packages/starlette/routing.py\", line 299, in handle\n",
      "    await self.app(scope, receive, send)\n",
      "  File \"/opt/homebrew/lib/python3.11/site-packages/starlette/routing.py\", line 79, in app\n",
      "    await wrap_app_handling_exceptions(app, request)(scope, receive, send)\n",
      "  File \"/opt/homebrew/lib/python3.11/site-packages/starlette/_exception_handler.py\", line 64, in wrapped_app\n",
      "    raise exc\n",
      "  File \"/opt/homebrew/lib/python3.11/site-packages/starlette/_exception_handler.py\", line 53, in wrapped_app\n",
      "    await app(scope, receive, sender)\n",
      "  File \"/opt/homebrew/lib/python3.11/site-packages/starlette/routing.py\", line 74, in app\n",
      "    response = await func(request)\n",
      "               ^^^^^^^^^^^^^^^^^^^\n",
      "  File \"/opt/homebrew/lib/python3.11/site-packages/fastapi/routing.py\", line 278, in app\n",
      "    raw_response = await run_endpoint_function(\n",
      "                   ^^^^^^^^^^^^^^^^^^^^^^^^^^^^\n",
      "  File \"/opt/homebrew/lib/python3.11/site-packages/fastapi/routing.py\", line 193, in run_endpoint_function\n",
      "    return await run_in_threadpool(dependant.call, **values)\n",
      "           ^^^^^^^^^^^^^^^^^^^^^^^^^^^^^^^^^^^^^^^^^^^^^^^^^\n",
      "  File \"/opt/homebrew/lib/python3.11/site-packages/starlette/concurrency.py\", line 42, in run_in_threadpool\n",
      "    return await anyio.to_thread.run_sync(func, *args)\n",
      "           ^^^^^^^^^^^^^^^^^^^^^^^^^^^^^^^^^^^^^^^^^^^\n",
      "  File \"/opt/homebrew/lib/python3.11/site-packages/anyio/to_thread.py\", line 31, in run_sync\n",
      "    return await get_asynclib().run_sync_in_worker_thread(\n",
      "           ^^^^^^^^^^^^^^^^^^^^^^^^^^^^^^^^^^^^^^^^^^^^^^^\n",
      "  File \"/opt/homebrew/lib/python3.11/site-packages/anyio/_backends/_asyncio.py\", line 937, in run_sync_in_worker_thread\n",
      "    return await future\n",
      "           ^^^^^^^^^^^^\n",
      "  File \"/opt/homebrew/lib/python3.11/site-packages/anyio/_backends/_asyncio.py\", line 867, in run\n",
      "    result = context.run(func, *args)\n",
      "             ^^^^^^^^^^^^^^^^^^^^^^^^\n",
      "  File \"/var/folders/hq/_qbf2g9n6hjbdfqcpk9kycmm0000gn/T/ipykernel_53716/708895420.py\", line 7, in completion\n",
      "    response = openai.chat.completions.create(\n",
      "               ^^^^^^^^^^^^^^^^^^^^^^^^^^^^^^^\n",
      "  File \"/opt/homebrew/lib/python3.11/site-packages/openai/_utils/_utils.py\", line 275, in wrapper\n",
      "    return func(*args, **kwargs)\n",
      "           ^^^^^^^^^^^^^^^^^^^^^\n",
      "TypeError: Completions.create() got an unexpected keyword argument 'session_id'\n"
     ]
    }
   ],
   "source": [
    "import requests\n",
    "\n",
    "response = requests.get(\"http://localhost:9696/completion\")\n",
    "response = requests.get(\"http://localhost:9696/completion\")"
   ],
   "metadata": {
    "collapsed": false,
    "ExecuteTime": {
     "end_time": "2024-06-12T23:05:10.733006Z",
     "start_time": "2024-06-12T23:05:09.950113Z"
    }
   },
   "id": "4a7c473443259faa",
   "execution_count": 6
  },
  {
   "cell_type": "markdown",
   "source": [
    "Now if we look at the session printed in the output, we should see an LLM Event and Action Event\n",
    "\n",
    "![ss](assets/fastapi-1.png)"
   ],
   "metadata": {
    "collapsed": false
   },
   "id": "c6e7982614749b19"
  },
  {
   "cell_type": "code",
   "outputs": [],
   "source": [],
   "metadata": {
    "collapsed": false,
    "ExecuteTime": {
     "end_time": "2024-06-12T23:05:10.735767Z",
     "start_time": "2024-06-12T23:05:10.732721Z"
    }
   },
   "id": "7f64026a8b406b98",
   "execution_count": 6
  },
  {
   "cell_type": "code",
   "outputs": [],
   "source": [
    "server_thread.stop()"
   ],
   "metadata": {
    "collapsed": false,
    "ExecuteTime": {
     "end_time": "2024-06-12T23:05:10.738261Z",
     "start_time": "2024-06-12T23:05:10.736131Z"
    }
   },
   "id": "8d2fddb869bedc18",
   "execution_count": 7
  },
  {
   "cell_type": "code",
   "outputs": [],
   "source": [],
   "metadata": {
    "collapsed": false,
    "ExecuteTime": {
     "end_time": "2024-06-12T23:05:10.740338Z",
     "start_time": "2024-06-12T23:05:10.738246Z"
    }
   },
   "id": "b6ab4476fd12eb60",
   "execution_count": 7
  }
 ],
 "metadata": {
  "kernelspec": {
   "display_name": "Python 3",
   "language": "python",
   "name": "python3"
  },
  "language_info": {
   "codemirror_mode": {
    "name": "ipython",
    "version": 2
   },
   "file_extension": ".py",
   "mimetype": "text/x-python",
   "name": "python",
   "nbconvert_exporter": "python",
   "pygments_lexer": "ipython2",
   "version": "2.7.6"
  }
 },
 "nbformat": 4,
 "nbformat_minor": 5
}
