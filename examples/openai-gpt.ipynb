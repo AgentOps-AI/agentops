{
 "cells": [
  {
   "cell_type": "markdown",
   "id": "212799f5255f3513",
   "metadata": {
    "collapsed": false
   },
   "source": [
    "# AgentOps Basic Monitoring \n",
    "This is an example of how to use the AgentOps library for basic Agent monitoring with OpenAI's GPT"
   ]
  },
  {
   "cell_type": "code",
   "execution_count": 1,
   "id": "c51dcbda80eb8c53",
   "metadata": {
    "collapsed": false,
    "ExecuteTime": {
     "end_time": "2024-07-12T21:55:33.022596Z",
     "start_time": "2024-07-12T21:55:32.354452Z"
    }
   },
   "outputs": [],
   "source": [
    "from openai import OpenAI\n",
    "import agentops\n",
    "import os\n",
    "from dotenv import load_dotenv"
   ]
  },
  {
   "cell_type": "markdown",
   "id": "33bb35b82e9a8f71",
   "metadata": {
    "collapsed": false
   },
   "source": [
    "Next, we'll grab our two API keys. You can use dotenv like below or however else you like to load environment variables"
   ]
  },
  {
   "cell_type": "code",
   "execution_count": null,
   "id": "cbc5d13679e269dc",
   "metadata": {
    "collapsed": false
   },
   "outputs": [],
   "source": [
    "load_dotenv()\n",
    "OPENAI_API_KEY = os.getenv(\"OPENAI_API_KEY\") or \"<your_openai_key>\"\n",
    "AGENTOPS_API_KEY = os.getenv(\"AGENTOPS_API_KEY\") or \"<your_agentops_key>\""
   ]
  },
  {
   "cell_type": "markdown",
   "id": "82fdff21ff00ef37",
   "metadata": {
    "collapsed": false
   },
   "source": [
    "The AgentOps library is designed to be a plug-and-play replacement for the OpenAI Client, maximizing use with minimal install effort."
   ]
  },
  {
   "cell_type": "code",
   "outputs": [
    {
     "name": "stderr",
     "output_type": "stream",
     "text": [
      "🖇 AgentOps: \u001B[34m\u001B[34mSession Replay: https://app.agentops.ai/drilldown?session_id=4d085e0e-0b07-409e-a4b4-065d84db1ced\u001B[0m\u001B[0m\n"
     ]
    },
    {
     "data": {
      "text/plain": "<agentops.session.Session at 0x116b51910>"
     },
     "execution_count": 3,
     "metadata": {},
     "output_type": "execute_result"
    }
   ],
   "source": [
    "openai = OpenAI(api_key=OPENAI_API_KEY)\n",
    "agentops.init(AGENTOPS_API_KEY, tags=[\"openai-gpt-notebook\"])"
   ],
   "metadata": {
    "collapsed": false,
    "ExecuteTime": {
     "end_time": "2024-07-12T21:55:39.741204Z",
     "start_time": "2024-07-12T21:55:33.032622Z"
    }
   },
   "id": "5d424a02e30ce7f4",
   "execution_count": 3
  },
  {
   "cell_type": "markdown",
   "source": [
    "Now just use OpenAI as you would normally!"
   ],
   "metadata": {
    "collapsed": false
   },
   "id": "c77f4f920c07e3e6"
  },
  {
   "cell_type": "markdown",
   "source": [
    "## Single Session with ChatCompletion"
   ],
   "metadata": {
    "collapsed": false
   },
   "id": "ca7011cf1ba076c9"
  },
  {
   "cell_type": "code",
   "outputs": [],
   "source": [
    "message = ({\"role\": \"user\", \"content\": \"Write a 12 word poem about secret agents.\"},)\n",
    "res = openai.chat.completions.create(\n",
    "    model=\"gpt-3.5-turbo\", messages=message, temperature=0.5, stream=True\n",
    ")"
   ],
   "metadata": {
    "collapsed": false,
    "ExecuteTime": {
     "end_time": "2024-07-12T21:55:40.118413Z",
     "start_time": "2024-07-12T21:55:39.744231Z"
    }
   },
   "id": "2704d6d625efa77f",
   "execution_count": 4
  },
  {
   "cell_type": "markdown",
   "source": [
    "Make sure to end your session with a `Result` (Success|Fail|Indeterminate) for better tracking"
   ],
   "metadata": {
    "collapsed": false
   },
   "id": "ce4965fc1614b5fe"
  },
  {
   "cell_type": "code",
   "outputs": [
    {
     "name": "stderr",
     "output_type": "stream",
     "text": [
      "🖇 AgentOps: This run's cost $0.00\n",
      "🖇 AgentOps: \u001B[34m\u001B[34mSession Replay: https://app.agentops.ai/drilldown?session_id=4d085e0e-0b07-409e-a4b4-065d84db1ced\u001B[0m\u001B[0m\n"
     ]
    }
   ],
   "source": [
    "agentops.end_session(\"Success\")"
   ],
   "metadata": {
    "collapsed": false,
    "ExecuteTime": {
     "end_time": "2024-07-12T21:55:41.396250Z",
     "start_time": "2024-07-12T21:55:40.118602Z"
    }
   },
   "id": "537abd77cd0e0d25",
   "execution_count": 5
  },
  {
   "cell_type": "markdown",
   "source": [
    "Now if you check the AgentOps dashboard, you should see information related to this run!"
   ],
   "metadata": {
    "collapsed": false
   },
   "id": "dd69580627842705"
  },
  {
   "cell_type": "markdown",
   "source": [
    "# Events\n",
    "Additionally, you can track custom events via AgentOps.\n",
    "Let's start a new session and record some events "
   ],
   "metadata": {
    "collapsed": false
   },
   "id": "b824bb935c7b7f80"
  },
  {
   "cell_type": "code",
   "outputs": [
    {
     "name": "stderr",
     "output_type": "stream",
     "text": [
      "🖇 AgentOps: \u001B[34m\u001B[34mSession Replay: https://app.agentops.ai/drilldown?session_id=380a7dc0-2075-4bb6-916f-1cb4553a4379\u001B[0m\u001B[0m\n"
     ]
    },
    {
     "data": {
      "text/plain": "<agentops.session.Session at 0x116b51e50>"
     },
     "execution_count": 6,
     "metadata": {},
     "output_type": "execute_result"
    }
   ],
   "source": [
    "# Create new session\n",
    "agentops.start_session(tags=[\"openai-gpt-notebook-events\"])"
   ],
   "metadata": {
    "collapsed": false,
    "ExecuteTime": {
     "end_time": "2024-07-12T21:55:42.010670Z",
     "start_time": "2024-07-12T21:55:41.394026Z"
    }
   },
   "id": "544c8f1bdb8c6e4b",
   "execution_count": 6
  },
  {
   "cell_type": "markdown",
   "id": "e94f1b56",
   "metadata": {},
   "source": [
    "The easiest way to record actions is through the use of AgentOp's decorators"
   ]
  },
  {
   "cell_type": "code",
   "execution_count": 7,
   "id": "b45754a57148eed1",
   "metadata": {
    "collapsed": false,
    "ExecuteTime": {
     "end_time": "2024-07-12T21:55:42.021396Z",
     "start_time": "2024-07-12T21:55:42.009253Z"
    }
   },
   "outputs": [
    {
     "data": {
      "text/plain": "6"
     },
     "execution_count": 7,
     "metadata": {},
     "output_type": "execute_result"
    }
   ],
   "source": [
    "from agentops import record_function\n",
    "\n",
    "\n",
    "@record_function(\"add numbers\")\n",
    "def add(x, y):\n",
    "    return x + y\n",
    "\n",
    "\n",
    "add(2, 4)"
   ]
  },
  {
   "cell_type": "markdown",
   "id": "1e3cc512",
   "metadata": {},
   "source": [
    "We can also manually craft an event exactly the way we want"
   ]
  },
  {
   "cell_type": "code",
   "execution_count": 8,
   "id": "2ac84c35",
   "metadata": {
    "ExecuteTime": {
     "end_time": "2024-07-12T21:55:42.729526Z",
     "start_time": "2024-07-12T21:55:42.023088Z"
    }
   },
   "outputs": [],
   "source": [
    "from agentops import ActionEvent\n",
    "\n",
    "message = ({\"role\": \"user\", \"content\": \"Hello\"},)\n",
    "response = openai.chat.completions.create(\n",
    "    model=\"gpt-3.5-turbo\", messages=message, temperature=0.5\n",
    ")\n",
    "\n",
    "if \"hello\" in str(response.choices[0].message.content).lower():\n",
    "    agentops.record(\n",
    "        ActionEvent(\n",
    "            action_type=\"Agent says hello\",\n",
    "            params=str(message),\n",
    "            returns=str(response.choices[0].message.content),\n",
    "        )\n",
    "    )"
   ]
  },
  {
   "cell_type": "code",
   "outputs": [
    {
     "name": "stderr",
     "output_type": "stream",
     "text": [
      "🖇 AgentOps: This run's cost $0.000017\n",
      "🖇 AgentOps: \u001B[34m\u001B[34mSession Replay: https://app.agentops.ai/drilldown?session_id=380a7dc0-2075-4bb6-916f-1cb4553a4379\u001B[0m\u001B[0m\n"
     ]
    }
   ],
   "source": [
    "agentops.end_session(\"Success\")"
   ],
   "metadata": {
    "collapsed": false,
    "ExecuteTime": {
     "end_time": "2024-07-12T21:55:46.237201Z",
     "start_time": "2024-07-12T21:55:42.729469Z"
    }
   },
   "id": "4ca2b49fc06adddb",
   "execution_count": 9
  }
 ],
 "metadata": {
  "kernelspec": {
   "display_name": "Python 3",
   "language": "python",
   "name": "python3"
  },
  "language_info": {
   "codemirror_mode": {
    "name": "ipython",
    "version": 3
   },
   "file_extension": ".py",
   "mimetype": "text/x-python",
   "name": "python",
   "nbconvert_exporter": "python",
   "pygments_lexer": "ipython3",
   "version": "3.11.8"
  }
 },
 "nbformat": 4,
 "nbformat_minor": 5
}
