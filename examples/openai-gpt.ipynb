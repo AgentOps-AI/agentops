{
 "cells": [
  {
   "cell_type": "markdown",
   "id": "212799f5255f3513",
   "metadata": {
    "collapsed": false
   },
   "source": [
    "# AgentOps Basic Monitoring \n",
    "This is an example of how to use the AgentOps library for basic Agent monitoring with OpenAI's GPT"
   ]
  },
  {
   "cell_type": "markdown",
   "id": "3b2bf0da",
   "metadata": {},
   "source": [
    "First let's install the required packages"
   ]
  },
  {
   "cell_type": "code",
   "execution_count": null,
   "id": "88c8f60d",
   "metadata": {},
   "outputs": [],
   "source": [
    "%pip install -U openai\n",
    "%pip install -U agentops\n",
    "%pip install -U python-dotenv"
   ]
  },
  {
   "cell_type": "markdown",
   "id": "fa9151e5",
   "metadata": {},
   "source": [
    "Then import them"
   ]
  },
  {
   "cell_type": "code",
   "execution_count": null,
   "id": "c51dcbda80eb8c53",
   "metadata": {
    "collapsed": false
   },
   "outputs": [],
   "source": [
    "from openai import OpenAI\n",
    "import agentops\n",
    "import os\n",
    "from dotenv import load_dotenv"
   ]
  },
  {
   "cell_type": "markdown",
   "id": "33bb35b82e9a8f71",
   "metadata": {
    "collapsed": false
   },
   "source": [
    "Next, we'll set our API keys. There are several ways to do this, the code below is just the most foolproof way for the purposes of this notebook. It accounts for both users who use environment variables and those who just want to set the API Key here in this notebook.\n",
    "\n",
    "[Get an AgentOps API key](https://agentops.ai/settings/projects)\n",
    "\n",
    "1. Create an environment variable in a .env file or other method. By default, the AgentOps `init()` function will look for an environment variable named `AGENTOPS_API_KEY`. Or...\n",
    "\n",
    "2. Replace `<your_agentops_key>` below and pass in the optional `api_key` parameter to the AgentOps `init(api_key=...)` function. Remember not to commit your API key to a public repo!"
   ]
  },
  {
   "cell_type": "code",
   "execution_count": null,
   "id": "cbc5d13679e269dc",
   "metadata": {
    "collapsed": false
   },
   "outputs": [],
   "source": [
    "load_dotenv()\n",
    "OPENAI_API_KEY = os.getenv(\"OPENAI_API_KEY\") or \"<your_openai_key>\"\n",
    "AGENTOPS_API_KEY = os.getenv(\"AGENTOPS_API_KEY\") or \"<your_agentops_key>\""
   ]
  },
  {
   "cell_type": "markdown",
   "id": "82fdff21ff00ef37",
   "metadata": {
    "collapsed": false
   },
   "source": [
    "The AgentOps library is designed to be a plug-and-play replacement for the OpenAI Client, maximizing use with minimal install effort."
   ]
  },
  {
   "cell_type": "code",
   "execution_count": null,
   "id": "5d424a02e30ce7f4",
   "metadata": {
    "collapsed": false
   },
   "outputs": [],
   "source": [
    "openai = OpenAI(api_key=OPENAI_API_KEY)\n",
    "agentops.init(AGENTOPS_API_KEY, default_tags=[\"openai-gpt-notebook\"])"
   ]
  },
  {
   "cell_type": "markdown",
   "id": "c77f4f920c07e3e6",
   "metadata": {
    "collapsed": false
   },
   "source": [
    "Now just use OpenAI as you would normally!"
   ]
  },
  {
   "cell_type": "markdown",
   "id": "ca7011cf1ba076c9",
   "metadata": {
    "collapsed": false
   },
   "source": [
    "## Single Session with ChatCompletion"
   ]
  },
  {
   "cell_type": "code",
   "execution_count": null,
   "id": "2704d6d625efa77f",
   "metadata": {
    "collapsed": false
   },
   "outputs": [],
   "source": [
    "message = [{\"role\": \"user\", \"content\": \"Write a 12 word poem about secret agents.\"}]\n",
    "response = openai.chat.completions.create(\n",
    "    model=\"gpt-3.5-turbo\", messages=message, temperature=0.5, stream=False\n",
    ")\n",
    "print(response.choices[0].message.content)"
   ]
  },
  {
   "cell_type": "markdown",
   "id": "ce4965fc1614b5fe",
   "metadata": {
    "collapsed": false
   },
   "source": [
    "Make sure to end your session with a `Result` (Success|Fail|Indeterminate) for better tracking"
   ]
  },
  {
   "cell_type": "code",
   "execution_count": null,
   "id": "537abd77cd0e0d25",
   "metadata": {
    "collapsed": false
   },
   "outputs": [],
   "source": [
    "agentops.end_session(\"Success\")"
   ]
  },
  {
   "cell_type": "markdown",
   "id": "dd69580627842705",
   "metadata": {
    "collapsed": false
   },
   "source": [
    "Now if you check the AgentOps dashboard, you should see information related to this run!"
   ]
  },
  {
   "cell_type": "markdown",
   "id": "b824bb935c7b7f80",
   "metadata": {
    "collapsed": false
   },
   "source": [
    "# Events\n",
    "Additionally, you can track custom events via AgentOps.\n",
    "Let's start a new session and record some events "
   ]
  },
  {
   "cell_type": "code",
   "execution_count": null,
   "id": "544c8f1bdb8c6e4b",
   "metadata": {
    "collapsed": false
   },
   "outputs": [],
   "source": [
    "# Create new session\n",
    "agentops.start_session(tags=[\"openai-gpt-notebook-events\"])"
   ]
  },
  {
   "cell_type": "markdown",
   "id": "e94f1b56",
   "metadata": {},
   "source": [
    "The easiest way to record actions is through the use of AgentOps' decorators"
   ]
  },
  {
   "cell_type": "code",
   "execution_count": null,
   "id": "b45754a57148eed1",
   "metadata": {
    "collapsed": false
   },
   "outputs": [],
   "source": [
    "from agentops import record_action\n",
    "\n",
    "\n",
    "@record_action(\"add numbers\")\n",
    "def add(x, y):\n",
    "    return x + y\n",
    "\n",
    "\n",
    "add(2, 4)"
   ]
  },
  {
   "cell_type": "markdown",
   "id": "1e3cc512",
   "metadata": {},
   "source": [
    "We can also manually craft an event exactly the way we want"
   ]
  },
  {
   "cell_type": "code",
   "execution_count": null,
   "id": "2ac84c35",
   "metadata": {},
   "outputs": [],
   "source": [
    "from agentops import ActionEvent\n",
    "\n",
    "message = ({\"role\": \"user\", \"content\": \"Hello\"},)\n",
    "response = openai.chat.completions.create(\n",
    "    model=\"gpt-3.5-turbo\", messages=message, temperature=0.5\n",
    ")\n",
    "\n",
    "if \"hello\" in str(response.choices[0].message.content).lower():\n",
    "    agentops.record(\n",
    "        ActionEvent(\n",
    "            action_type=\"Agent says hello\",\n",
    "            params=str(message),\n",
    "            returns=str(response.choices[0].message.content),\n",
    "        )\n",
    "    )"
   ]
  },
  {
   "cell_type": "code",
   "execution_count": null,
   "id": "4ca2b49fc06adddb",
   "metadata": {
    "collapsed": false
   },
   "outputs": [],
   "source": [
    "agentops.end_session(\"Success\")"
   ]
  }
 ],
 "metadata": {
  "kernelspec": {
   "display_name": "Python 3",
   "language": "python",
   "name": "python3"
  },
  "language_info": {
   "codemirror_mode": {
    "name": "ipython",
    "version": 3
   },
   "file_extension": ".py",
   "mimetype": "text/x-python",
   "name": "python",
   "nbconvert_exporter": "python",
   "pygments_lexer": "ipython3",
   "version": "3.12.5"
  }
 },
 "nbformat": 4,
 "nbformat_minor": 5
}
