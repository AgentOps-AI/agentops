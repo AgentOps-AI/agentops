{
 "cells": [
  {
   "cell_type": "markdown",
   "id": "212799f5255f3513",
   "metadata": {
    "collapsed": false
   },
   "source": [
    "# AgentOps Basic Monitoring \n",
    "This is an example of how to use the AgentOps library for basic Agent monitoring with OpenAI's GPT"
   ]
  },
  {
   "cell_type": "code",
   "execution_count": 1,
   "id": "c51dcbda80eb8c53",
   "metadata": {
    "collapsed": false,
    "ExecuteTime": {
     "end_time": "2024-06-08T00:23:51.499312Z",
     "start_time": "2024-06-08T00:23:50.856103Z"
    }
   },
   "outputs": [
    {
     "name": "stderr",
     "output_type": "stream",
     "text": [
      "/Users/braelynboynton/Developer/agentops/agentops/agentops/client.py:363: SyntaxWarning: \"is not\" with a literal. Did you mean \"!=\"?\n",
      "  if len(self._sessions) is not 0:\n"
     ]
    },
    {
     "ename": "ImportError",
     "evalue": "cannot import name 'Client' from partially initialized module 'agentops' (most likely due to a circular import) (/Users/braelynboynton/Developer/agentops/agentops/agentops/__init__.py)",
     "output_type": "error",
     "traceback": [
      "\u001b[0;31m---------------------------------------------------------------------------\u001b[0m",
      "\u001b[0;31mImportError\u001b[0m                               Traceback (most recent call last)",
      "Cell \u001b[0;32mIn[1], line 2\u001b[0m\n\u001b[1;32m      1\u001b[0m \u001b[38;5;28;01mfrom\u001b[39;00m \u001b[38;5;21;01mopenai\u001b[39;00m \u001b[38;5;28;01mimport\u001b[39;00m OpenAI\n\u001b[0;32m----> 2\u001b[0m \u001b[38;5;28;01mimport\u001b[39;00m \u001b[38;5;21;01magentops\u001b[39;00m\n\u001b[1;32m      3\u001b[0m \u001b[38;5;28;01mimport\u001b[39;00m \u001b[38;5;21;01mos\u001b[39;00m\n\u001b[1;32m      4\u001b[0m \u001b[38;5;28;01mfrom\u001b[39;00m \u001b[38;5;21;01mdotenv\u001b[39;00m \u001b[38;5;28;01mimport\u001b[39;00m load_dotenv\n",
      "File \u001b[0;32m~/Developer/agentops/agentops/agentops/__init__.py:5\u001b[0m\n\u001b[1;32m      3\u001b[0m \u001b[38;5;28;01mimport\u001b[39;00m \u001b[38;5;21;01mlogging\u001b[39;00m\n\u001b[1;32m      4\u001b[0m \u001b[38;5;28;01mfrom\u001b[39;00m \u001b[38;5;21;01mtyping\u001b[39;00m \u001b[38;5;28;01mimport\u001b[39;00m Optional, List, Union\n\u001b[0;32m----> 5\u001b[0m \u001b[38;5;28;01mfrom\u001b[39;00m \u001b[38;5;21;01m.\u001b[39;00m\u001b[38;5;21;01mclient\u001b[39;00m \u001b[38;5;28;01mimport\u001b[39;00m Client\n\u001b[1;32m      6\u001b[0m \u001b[38;5;28;01mfrom\u001b[39;00m \u001b[38;5;21;01m.\u001b[39;00m\u001b[38;5;21;01mconfig\u001b[39;00m \u001b[38;5;28;01mimport\u001b[39;00m ClientConfiguration\n\u001b[1;32m      7\u001b[0m \u001b[38;5;28;01mfrom\u001b[39;00m \u001b[38;5;21;01m.\u001b[39;00m\u001b[38;5;21;01mevent\u001b[39;00m \u001b[38;5;28;01mimport\u001b[39;00m Event, ActionEvent, LLMEvent, ToolEvent, ErrorEvent\n",
      "File \u001b[0;32m~/Developer/agentops/agentops/agentops/client.py:28\u001b[0m\n\u001b[1;32m     21\u001b[0m \u001b[38;5;28;01mfrom\u001b[39;00m \u001b[38;5;21;01m.\u001b[39;00m\u001b[38;5;21;01menums\u001b[39;00m \u001b[38;5;28;01mimport\u001b[39;00m EndState\n\u001b[1;32m     22\u001b[0m \u001b[38;5;28;01mfrom\u001b[39;00m \u001b[38;5;21;01m.\u001b[39;00m\u001b[38;5;21;01mhelpers\u001b[39;00m \u001b[38;5;28;01mimport\u001b[39;00m (\n\u001b[1;32m     23\u001b[0m     get_ISO_time,\n\u001b[1;32m     24\u001b[0m     conditional_singleton,\n\u001b[1;32m     25\u001b[0m     check_call_stack_for_agent_id,\n\u001b[1;32m     26\u001b[0m     get_partner_frameworks,\n\u001b[1;32m     27\u001b[0m )\n\u001b[0;32m---> 28\u001b[0m \u001b[38;5;28;01mfrom\u001b[39;00m \u001b[38;5;21;01m.\u001b[39;00m\u001b[38;5;21;01msession\u001b[39;00m \u001b[38;5;28;01mimport\u001b[39;00m Session\n\u001b[1;32m     29\u001b[0m \u001b[38;5;28;01mfrom\u001b[39;00m \u001b[38;5;21;01m.\u001b[39;00m\u001b[38;5;21;01mworker\u001b[39;00m \u001b[38;5;28;01mimport\u001b[39;00m Worker\n\u001b[1;32m     30\u001b[0m \u001b[38;5;28;01mfrom\u001b[39;00m \u001b[38;5;21;01m.\u001b[39;00m\u001b[38;5;21;01mhost_env\u001b[39;00m \u001b[38;5;28;01mimport\u001b[39;00m get_host_env\n",
      "File \u001b[0;32m~/Developer/agentops/agentops/agentops/session.py:1\u001b[0m\n\u001b[0;32m----> 1\u001b[0m \u001b[38;5;28;01mfrom\u001b[39;00m \u001b[38;5;21;01m.\u001b[39;00m \u001b[38;5;28;01mimport\u001b[39;00m Client\n\u001b[1;32m      2\u001b[0m \u001b[38;5;28;01mfrom\u001b[39;00m \u001b[38;5;21;01m.\u001b[39;00m\u001b[38;5;21;01mhelpers\u001b[39;00m \u001b[38;5;28;01mimport\u001b[39;00m get_ISO_time\n\u001b[1;32m      3\u001b[0m \u001b[38;5;28;01mfrom\u001b[39;00m \u001b[38;5;21;01mtyping\u001b[39;00m \u001b[38;5;28;01mimport\u001b[39;00m Optional, List\n",
      "\u001b[0;31mImportError\u001b[0m: cannot import name 'Client' from partially initialized module 'agentops' (most likely due to a circular import) (/Users/braelynboynton/Developer/agentops/agentops/agentops/__init__.py)"
     ]
    }
   ],
   "source": [
    "from openai import OpenAI\n",
    "import agentops\n",
    "import os\n",
    "from dotenv import load_dotenv"
   ]
  },
  {
   "cell_type": "markdown",
   "id": "33bb35b82e9a8f71",
   "metadata": {
    "collapsed": false
   },
   "source": [
    "Next, we'll grab our two API keys. You can use dotenv like below or however else you like to load environment variables"
   ]
  },
  {
   "cell_type": "code",
   "execution_count": null,
   "id": "cbc5d13679e269dc",
   "metadata": {
    "collapsed": false,
    "ExecuteTime": {
     "end_time": "2024-06-08T00:23:51.501944Z",
     "start_time": "2024-06-08T00:23:51.501320Z"
    }
   },
   "outputs": [],
   "source": [
    "load_dotenv()\n",
    "OPENAI_API_KEY = os.getenv(\"OPENAI_API_KEY\") or \"<your_openai_key>\"\n",
    "AGENTOPS_API_KEY = os.getenv(\"AGENTOPS_API_KEY\") or \"<your_agentops_key>\""
   ]
  },
  {
   "cell_type": "markdown",
   "id": "82fdff21ff00ef37",
   "metadata": {
    "collapsed": false
   },
   "source": [
    "The AgentOps library is designed to be a plug-and-play replacement for the OpenAI Client, maximizing use with minimal install effort."
   ]
  },
  {
   "cell_type": "code",
   "execution_count": null,
   "id": "fe8116d5969f1d23",
   "metadata": {
    "collapsed": false,
    "ExecuteTime": {
     "start_time": "2024-06-08T00:23:51.502284Z"
    }
   },
   "outputs": [],
   "source": [
    "openai = OpenAI(api_key=OPENAI_API_KEY)\n",
    "agentops.init(AGENTOPS_API_KEY)"
   ]
  },
  {
   "cell_type": "markdown",
   "id": "3c20bbfa91b3419c",
   "metadata": {
    "collapsed": false
   },
   "source": [
    "Now just use OpenAI as you would normally!"
   ]
  },
  {
   "cell_type": "markdown",
   "id": "b42f5685ac4af5c2",
   "metadata": {
    "collapsed": false
   },
   "source": [
    "## Single Session with ChatCompletion"
   ]
  },
  {
   "cell_type": "code",
   "execution_count": null,
   "id": "9cd47d3fa1e252e1",
   "metadata": {
    "collapsed": false,
    "ExecuteTime": {
     "start_time": "2024-06-08T00:23:51.503676Z"
    }
   },
   "outputs": [],
   "source": [
    "message = ({\"role\": \"user\", \"content\": \"Hello\"},)\n",
    "openai.chat.completions.create(\n",
    "    model=\"gpt-3.5-turbo\", messages=message, temperature=0.5, stream=True\n",
    ")"
   ]
  },
  {
   "cell_type": "markdown",
   "id": "bf75276ad9fbb3f4",
   "metadata": {
    "collapsed": false
   },
   "source": [
    "Make sure to end your session with a `Result` (Success|Fail|Indeterminate) for better tracking"
   ]
  },
  {
   "cell_type": "code",
   "execution_count": null,
   "id": "f59fe80a7e00e6e8",
   "metadata": {
    "collapsed": false,
    "ExecuteTime": {
     "start_time": "2024-06-08T00:23:51.505010Z"
    }
   },
   "outputs": [],
   "source": [
    "agentops.end_session(\"Success\")"
   ]
  },
  {
   "cell_type": "markdown",
   "id": "318a7186c1be2d59",
   "metadata": {
    "collapsed": false
   },
   "source": [
    "Now if you check the AgentOps dashboard, you should see information related to this run!"
   ]
  },
  {
   "cell_type": "markdown",
   "id": "ccf998561cb9a834",
   "metadata": {
    "collapsed": false
   },
   "source": [
    "# Events\n",
    "Additionally, you can track custom events via AgentOps.\n",
    "Let's start a new session and record some events "
   ]
  },
  {
   "cell_type": "code",
   "execution_count": null,
   "id": "f5a1a63ff4ecf127",
   "metadata": {
    "collapsed": false,
    "ExecuteTime": {
     "start_time": "2024-06-08T00:23:51.505943Z"
    }
   },
   "outputs": [],
   "source": [
    "# Create new session\n",
    "agentops.start_session()\n",
    "\n",
    "# Optionally, we can add tags to the session\n",
    "# ao_client.start_session(['Hello Tracker'])"
   ]
  },
  {
   "cell_type": "markdown",
   "id": "e94f1b56",
   "metadata": {},
   "source": [
    "The easiest way to record actions is through the use of AgentOp's decorators"
   ]
  },
  {
   "cell_type": "code",
   "execution_count": null,
   "id": "b45754a57148eed1",
   "metadata": {
    "collapsed": false,
    "ExecuteTime": {
     "start_time": "2024-06-08T00:23:51.506931Z"
    }
   },
   "outputs": [],
   "source": [
    "from agentops import record_function\n",
    "\n",
    "\n",
    "@record_function(\"add numbers\")\n",
    "def add(x, y):\n",
    "    return x + y\n",
    "\n",
    "\n",
    "add(2, 4)"
   ]
  },
  {
   "cell_type": "markdown",
   "id": "1e3cc512",
   "metadata": {},
   "source": [
    "We can also manually craft an event exactly the way we want"
   ]
  },
  {
   "cell_type": "code",
   "execution_count": null,
   "id": "2ac84c35",
   "metadata": {
    "ExecuteTime": {
     "start_time": "2024-06-08T00:23:51.507736Z"
    }
   },
   "outputs": [],
   "source": [
    "from agentops import ActionEvent\n",
    "\n",
    "message = ({\"role\": \"user\", \"content\": \"Hello\"},)\n",
    "response = openai.chat.completions.create(\n",
    "    model=\"gpt-3.5-turbo\", messages=message, temperature=0.5\n",
    ")\n",
    "\n",
    "if \"hello\" in str(response.choices[0].message.content).lower():\n",
    "    agentops.record(\n",
    "        ActionEvent(\n",
    "            action_type=\"Agent says hello\",\n",
    "            params=str(message),\n",
    "            returns=str(response.choices[0].message.content),\n",
    "        )\n",
    "    )"
   ]
  },
  {
   "cell_type": "code",
   "outputs": [],
   "source": [
    "agentops.end_session(\"Success\")"
   ],
   "metadata": {
    "collapsed": false,
    "ExecuteTime": {
     "start_time": "2024-06-08T00:23:51.508490Z"
    }
   },
   "id": "4ca2b49fc06adddb",
   "execution_count": null
  }
 ],
 "metadata": {
  "kernelspec": {
   "display_name": "Python 3",
   "language": "python",
   "name": "python3"
  },
  "language_info": {
   "codemirror_mode": {
    "name": "ipython",
    "version": 3
   },
   "file_extension": ".py",
   "mimetype": "text/x-python",
   "name": "python",
   "nbconvert_exporter": "python",
   "pygments_lexer": "ipython3",
   "version": "3.11.8"
  }
 },
 "nbformat": 4,
 "nbformat_minor": 5
}
