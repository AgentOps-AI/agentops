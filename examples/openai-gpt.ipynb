{
 "cells": [
  {
   "cell_type": "markdown",
   "id": "212799f5255f3513",
   "metadata": {
    "collapsed": false
   },
   "source": [
    "# AgentOps Basic Monitoring \n",
    "This is an example of how to use the AgentOps library for basic Agent monitoring with OpenAI's GPT"
   ]
  },
  {
   "cell_type": "code",
   "execution_count": 1,
   "id": "c51dcbda80eb8c53",
   "metadata": {
    "collapsed": false,
    "ExecuteTime": {
     "end_time": "2024-06-28T00:30:03.825152Z",
     "start_time": "2024-06-28T00:30:02.908978Z"
    }
   },
   "outputs": [],
   "source": [
    "from openai import OpenAI\n",
    "import agentops\n",
    "import os\n",
    "from dotenv import load_dotenv"
   ]
  },
  {
   "cell_type": "markdown",
   "id": "33bb35b82e9a8f71",
   "metadata": {
    "collapsed": false
   },
   "source": [
    "Next, we'll grab our two API keys. You can use dotenv like below or however else you like to load environment variables"
   ]
  },
  {
   "cell_type": "code",
   "execution_count": 2,
   "id": "cbc5d13679e269dc",
   "metadata": {
    "collapsed": false,
    "ExecuteTime": {
     "end_time": "2024-06-28T00:30:03.833846Z",
     "start_time": "2024-06-28T00:30:03.826673Z"
    }
   },
   "outputs": [],
   "source": [
    "load_dotenv()\n",
    "OPENAI_API_KEY = os.getenv(\"OPENAI_API_KEY\") or \"<your_openai_key>\"\n",
    "AGENTOPS_API_KEY = os.getenv(\"AGENTOPS_API_KEY\") or \"<your_agentops_key>\""
   ]
  },
  {
   "cell_type": "markdown",
   "id": "82fdff21ff00ef37",
   "metadata": {
    "collapsed": false
   },
   "source": [
    "The AgentOps library is designed to be a plug-and-play replacement for the OpenAI Client, maximizing use with minimal install effort."
   ]
  },
  {
   "cell_type": "code",
   "outputs": [],
   "source": [
    "openai = OpenAI(api_key=OPENAI_API_KEY)\n",
    "agentops.init(AGENTOPS_API_KEY, tags=['openai-gpt-notebook'])"
   ],
   "metadata": {
    "collapsed": false
   },
   "id": "5d424a02e30ce7f4"
  },
  {
   "cell_type": "markdown",
   "source": [
    "Now just use OpenAI as you would normally!"
   ],
   "metadata": {
    "collapsed": false
   },
   "id": "c77f4f920c07e3e6"
  },
  {
   "cell_type": "markdown",
   "source": [
    "## Single Session with ChatCompletion"
   ],
   "metadata": {
    "collapsed": false
   },
   "id": "ca7011cf1ba076c9"
  },
  {
   "cell_type": "code",
   "outputs": [],
   "source": [
    "message = ({\"role\": \"user\", \"content\": \"Write a 12 word poem about secret agents.\"},)\n",
    "res = openai.chat.completions.create(\n",
    "    model=\"gpt-3.5-turbo\", messages=message, temperature=0.5, stream=True\n",
    ")"
   ],
   "metadata": {
    "collapsed": false
   },
   "id": "2704d6d625efa77f"
  },
  {
   "cell_type": "markdown",
   "source": [
    "Make sure to end your session with a `Result` (Success|Fail|Indeterminate) for better tracking"
   ],
   "metadata": {
    "collapsed": false
   },
   "id": "ce4965fc1614b5fe"
  },
  {
   "cell_type": "code",
   "outputs": [],
   "source": [
    "agentops.end_session(\"Success\")"
   ],
   "metadata": {
    "collapsed": false
   },
   "id": "537abd77cd0e0d25"
  },
  {
   "cell_type": "markdown",
   "source": [
    "Now if you check the AgentOps dashboard, you should see information related to this run!"
   ],
   "metadata": {
    "collapsed": false
   },
   "id": "dd69580627842705"
  },
  {
   "cell_type": "markdown",
   "source": [
    "# Events\n",
    "Additionally, you can track custom events via AgentOps.\n",
    "Let's start a new session and record some events "
   ],
   "metadata": {
    "collapsed": false
   },
   "id": "b824bb935c7b7f80"
  },
  {
   "cell_type": "code",
   "outputs": [],
   "source": [
    "# Create new session\n",
    "agentops.start_session(tags=[\"openai-gpt-notebook-events\"])"
   ],
   "metadata": {
    "collapsed": false
   },
   "id": "544c8f1bdb8c6e4b"
  },
  {
   "cell_type": "markdown",
   "id": "e94f1b56",
   "metadata": {},
   "source": [
    "The easiest way to record actions is through the use of AgentOp's decorators"
   ]
  },
  {
   "cell_type": "code",
   "execution_count": 7,
   "id": "b45754a57148eed1",
   "metadata": {
    "collapsed": false,
    "ExecuteTime": {
     "end_time": "2024-06-28T00:30:06.891420Z",
     "start_time": "2024-06-28T00:30:06.878086Z"
    }
   },
   "outputs": [
    {
     "data": {
      "text/plain": "6"
     },
     "execution_count": 7,
     "metadata": {},
     "output_type": "execute_result"
    }
   ],
   "source": [
    "from agentops import record_function\n",
    "\n",
    "\n",
    "@record_function(\"add numbers\")\n",
    "def add(x, y):\n",
    "    return x + y\n",
    "\n",
    "\n",
    "add(2, 4)"
   ]
  },
  {
   "cell_type": "markdown",
   "id": "1e3cc512",
   "metadata": {},
   "source": [
    "We can also manually craft an event exactly the way we want"
   ]
  },
  {
   "cell_type": "code",
   "execution_count": 8,
   "id": "2ac84c35",
   "metadata": {
    "ExecuteTime": {
     "end_time": "2024-06-28T00:30:07.509006Z",
     "start_time": "2024-06-28T00:30:06.891103Z"
    }
   },
   "outputs": [],
   "source": [
    "from agentops import ActionEvent\n",
    "\n",
    "message = ({\"role\": \"user\", \"content\": \"Hello\"},)\n",
    "response = openai.chat.completions.create(\n",
    "    model=\"gpt-3.5-turbo\", messages=message, temperature=0.5\n",
    ")\n",
    "\n",
    "if \"hello\" in str(response.choices[0].message.content).lower():\n",
    "    agentops.record(\n",
    "        ActionEvent(\n",
    "            action_type=\"Agent says hello\",\n",
    "            params=str(message),\n",
    "            returns=str(response.choices[0].message.content),\n",
    "        )\n",
    "    )"
   ]
  },
  {
   "cell_type": "code",
   "outputs": [
    {
     "name": "stderr",
     "output_type": "stream",
     "text": [
      "🖇 AgentOps: This run's cost $0.000017\n",
      "🖇 AgentOps: \u001B[34m\u001B[34mSession Replay: https://app.agentops.ai/drilldown?session_id=128cc6ae-3bd3-405f-865d-6fbc0b34f4b9\u001B[0m\u001B[0m\n"
     ]
    },
    {
     "name": "stdout",
     "output_type": "stream",
     "text": [
      "[{'event_type': 'actions', 'params': {'x': 2, 'y': 4}, 'returns': 6, 'init_timestamp': '2024-06-28T00:30:06.877Z', 'end_timestamp': '2024-06-28T00:30:06.883Z', 'agent_id': None, 'id': UUID('80bbb402-84fb-4ebf-a1b7-181109f356ea'), 'action_type': 'add numbers', 'logs': None, 'screenshot': None}, {'event_type': 'llms', 'params': {'model': 'gpt-3.5-turbo', 'messages': ({'role': 'user', 'content': 'Hello'},), 'temperature': 0.5}, 'returns': {'id': 'chatcmpl-9etn5beqXFWcKcYjN7cz8KfjV9nkr', 'choices': [{'finish_reason': 'stop', 'index': 0, 'logprobs': None, 'message': {'content': 'Hello! How can I assist you today?', 'role': 'assistant', 'function_call': None, 'tool_calls': None}}], 'created': 1719534607, 'model': 'gpt-3.5-turbo-0125', 'object': 'chat.completion', 'system_fingerprint': None, 'usage': {'completion_tokens': 9, 'prompt_tokens': 8, 'total_tokens': 17}}, 'init_timestamp': '2024-06-28T00:30:06.887Z', 'end_timestamp': '2024-06-28T00:30:07.500Z', 'agent_id': None, 'id': UUID('a9cd45d7-02cf-4998-8930-d22614a617e6'), 'thread_id': None, 'prompt': ({'role': 'user', 'content': 'Hello'},), 'prompt_tokens': 8, 'completion': {'content': 'Hello! How can I assist you today?', 'role': 'assistant', 'function_call': None, 'tool_calls': None}, 'completion_tokens': 9, 'model': 'gpt-3.5-turbo-0125'}, {'event_type': 'actions', 'params': \"({'role': 'user', 'content': 'Hello'},)\", 'returns': 'Hello! How can I assist you today?', 'init_timestamp': '2024-06-28T00:30:07.500Z', 'end_timestamp': '2024-06-28T00:30:07.506Z', 'agent_id': None, 'id': UUID('64ea5e0e-10ed-4907-9520-ac7fe5ad8e4e'), 'action_type': 'Agent says hello', 'logs': None, 'screenshot': None}]\n"
     ]
    }
   ],
   "source": [
    "agentops.end_session(\"Success\")"
   ],
   "metadata": {
    "collapsed": false,
    "ExecuteTime": {
     "end_time": "2024-06-28T00:30:08.615332Z",
     "start_time": "2024-06-28T00:30:07.509346Z"
    }
   },
   "id": "4ca2b49fc06adddb",
   "execution_count": 9
  }
 ],
 "metadata": {
  "kernelspec": {
   "display_name": "Python 3",
   "language": "python",
   "name": "python3"
  },
  "language_info": {
   "codemirror_mode": {
    "name": "ipython",
    "version": 3
   },
   "file_extension": ".py",
   "mimetype": "text/x-python",
   "name": "python",
   "nbconvert_exporter": "python",
   "pygments_lexer": "ipython3",
   "version": "3.11.8"
  }
 },
 "nbformat": 4,
 "nbformat_minor": 5
}
