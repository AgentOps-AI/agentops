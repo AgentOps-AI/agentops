{
 "cells": [
  {
   "cell_type": "markdown",
   "id": "212799f5255f3513",
   "metadata": {
    "collapsed": false
   },
   "source": [
    "# AgentOps Basic Monitoring \n",
    "This is an example of how to use the AgentOps library for basic Agent monitoring with OpenAI's GPT"
   ]
  },
  {
   "cell_type": "code",
   "execution_count": null,
   "id": "c51dcbda80eb8c53",
   "metadata": {
    "collapsed": false
   },
   "outputs": [],
   "source": [
    "from openai import OpenAI\n",
    "import agentops\n",
    "import os\n",
    "from dotenv import load_dotenv"
   ]
  },
  {
   "cell_type": "markdown",
   "id": "33bb35b82e9a8f71",
   "metadata": {
    "collapsed": false
   },
   "source": [
    "Next, we'll grab our two API keys. You can use dotenv like below or however else you like to load environment variables"
   ]
  },
  {
   "cell_type": "code",
   "execution_count": null,
   "id": "cbc5d13679e269dc",
   "metadata": {
    "collapsed": false
   },
   "outputs": [],
   "source": [
    "load_dotenv()\n",
    "OPENAI_API_KEY = os.getenv(\"OPENAI_API_KEY\") or \"<your_openai_key>\"\n",
    "AGENTOPS_API_KEY = os.getenv(\"AGENTOPS_API_KEY\") or \"<your_agentops_key>\""
   ]
  },
  {
   "cell_type": "markdown",
   "id": "82fdff21ff00ef37",
   "metadata": {
    "collapsed": false
   },
   "source": [
    "The AgentOps library is designed to be a plug-and-play replacement for the OpenAI Client, maximizing use with minimal install effort."
   ]
  },
  {
   "cell_type": "code",
   "execution_count": null,
   "id": "fe8116d5969f1d23",
   "metadata": {
    "collapsed": false
   },
   "outputs": [],
   "source": [
    "openai = OpenAI(api_key=OPENAI_API_KEY)\n",
    "agentops.init(AGENTOPS_API_KEY)"
   ]
  },
  {
   "cell_type": "markdown",
   "id": "3c20bbfa91b3419c",
   "metadata": {
    "collapsed": false
   },
   "source": [
    "Now just use OpenAI as you would normally!"
   ]
  },
  {
   "cell_type": "markdown",
   "id": "b42f5685ac4af5c2",
   "metadata": {
    "collapsed": false
   },
   "source": [
    "## Single Session with ChatCompletion"
   ]
  },
  {
   "cell_type": "code",
   "execution_count": null,
   "id": "9cd47d3fa1e252e1",
   "metadata": {
    "collapsed": false
   },
   "outputs": [],
   "source": [
    "message = ({\"role\": \"user\", \"content\": \"Write a 12 word poem about secret agents.\"},)\n",
    "res = openai.chat.completions.create(\n",
    "    model=\"gpt-3.5-turbo\", messages=message, temperature=0.5, stream=True\n",
    ")"
   ]
  },
  {
   "cell_type": "markdown",
   "id": "4a231440",
   "metadata": {},
   "source": [
    "Streamed completions are also automatically logged to AgentOps."
   ]
  },
  {
   "cell_type": "code",
   "execution_count": null,
   "id": "19704228",
   "metadata": {},
   "outputs": [],
   "source": [
    "full_response = \"\"\n",
    "for chunk in res:\n",
    "    if chunk.choices[0].delta.content is not None:\n",
    "        full_response += chunk.choices[0].delta.content\n",
    "\n",
    "print(full_response.strip())"
   ]
  },
  {
   "cell_type": "markdown",
   "id": "bf75276ad9fbb3f4",
   "metadata": {
    "collapsed": false
   },
   "source": [
    "Make sure to end your session with a `Result` (Success|Fail|Indeterminate) for better tracking"
   ]
  },
  {
   "cell_type": "code",
   "execution_count": null,
   "id": "f59fe80a7e00e6e8",
   "metadata": {
    "collapsed": false
   },
   "outputs": [],
   "source": [
    "agentops.end_session(\"Success\")"
   ]
  },
  {
   "cell_type": "markdown",
   "id": "318a7186c1be2d59",
   "metadata": {
    "collapsed": false
   },
   "source": [
    "Now if you check the AgentOps dashboard, you should see information related to this run!"
   ]
  },
  {
   "cell_type": "markdown",
   "id": "ccf998561cb9a834",
   "metadata": {
    "collapsed": false
   },
   "source": [
    "# Events\n",
    "Additionally, you can track custom events via AgentOps.\n",
    "Let's start a new session and record some events "
   ]
  },
  {
   "cell_type": "code",
   "execution_count": null,
   "id": "f5a1a63ff4ecf127",
   "metadata": {
    "collapsed": false
   },
   "outputs": [],
   "source": [
    "# Create new session\n",
    "agentops.start_session()\n",
    "\n",
    "# Optionally, we can add tags to the session\n",
    "# ao_client.start_session(['Hello Tracker'])"
   ]
  },
  {
   "cell_type": "markdown",
   "id": "e94f1b56",
   "metadata": {},
   "source": [
    "The easiest way to record actions is through the use of AgentOp's decorators"
   ]
  },
  {
   "cell_type": "code",
   "execution_count": null,
   "id": "b45754a57148eed1",
   "metadata": {
    "collapsed": false
   },
   "outputs": [],
   "source": [
    "from agentops import record_function\n",
    "\n",
    "\n",
    "@record_function(\"add numbers\")\n",
    "def add(x, y):\n",
    "    return x + y\n",
    "\n",
    "\n",
    "add(2, 4)"
   ]
  },
  {
   "cell_type": "markdown",
   "id": "1e3cc512",
   "metadata": {},
   "source": [
    "We can also manually craft an event exactly the way we want"
   ]
  },
  {
   "cell_type": "code",
   "execution_count": null,
   "id": "2ac84c35",
   "metadata": {},
   "outputs": [],
   "source": [
    "from agentops import ActionEvent\n",
    "\n",
    "message = ({\"role\": \"user\", \"content\": \"Hello\"},)\n",
    "response = openai.chat.completions.create(\n",
    "    model=\"gpt-3.5-turbo\", messages=message, temperature=0.5\n",
    ")\n",
    "\n",
    "if \"hello\" in str(response.choices[0].message.content).lower():\n",
    "    agentops.record(\n",
    "        ActionEvent(\n",
    "            action_type=\"Agent says hello\",\n",
    "            params=str(message),\n",
    "            returns=str(response.choices[0].message.content),\n",
    "        )\n",
    "    )"
   ]
  },
  {
   "cell_type": "code",
   "execution_count": null,
   "id": "4ca2b49fc06adddb",
   "metadata": {
    "collapsed": false
   },
   "outputs": [],
   "source": [
    "agentops.end_session(\"Success\")"
   ]
  }
 ],
 "metadata": {
  "kernelspec": {
   "display_name": "Python 3",
   "language": "python",
   "name": "python3"
  },
  "language_info": {
   "codemirror_mode": {
    "name": "ipython",
    "version": 3
   },
   "file_extension": ".py",
   "mimetype": "text/x-python",
   "name": "python",
   "nbconvert_exporter": "python",
   "pygments_lexer": "ipython3",
   "version": "3.11.8"
  }
 },
 "nbformat": 4,
 "nbformat_minor": 5
}
