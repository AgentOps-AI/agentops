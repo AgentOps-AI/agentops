{
 "cells": [
  {
   "cell_type": "markdown",
   "id": "212799f5255f3513",
   "metadata": {
    "collapsed": false
   },
   "source": [
    "# AgentOps Basic Monitoring \n",
    "This is an example of how to use the AgentOps library for basic Agent monitoring with OpenAI's GPT"
   ]
  },
  {
   "cell_type": "code",
   "execution_count": null,
   "id": "c51dcbda80eb8c53",
   "metadata": {
    "collapsed": false
   },
   "outputs": [],
   "source": [
    "from openai import OpenAI\n",
    "import agentops\n",
    "import os\n",
    "from dotenv import load_dotenv"
   ]
  },
  {
   "cell_type": "markdown",
   "id": "33bb35b82e9a8f71",
   "metadata": {
    "collapsed": false
   },
   "source": [
    "Next, we'll grab our two API keys. You can use dotenv like below or however else you like to load environment variables"
   ]
  },
  {
   "cell_type": "code",
   "execution_count": null,
   "id": "cbc5d13679e269dc",
   "metadata": {
    "collapsed": false
   },
   "outputs": [],
   "source": [
    "load_dotenv()\n",
    "OPENAI_API_KEY = os.getenv(\"OPENAI_API_KEY\") or \"<your_openai_key>\"\n",
    "AGENTOPS_API_KEY = os.getenv(\"AGENTOPS_API_KEY\") or \"<your_agentops_key>\""
   ]
  },
  {
   "cell_type": "markdown",
   "id": "82fdff21ff00ef37",
   "metadata": {
    "collapsed": false
   },
   "source": [
    "The AgentOps library is designed to be a plug-and-play replacement for the OpenAI Client, maximizing use with minimal install effort."
   ]
  },
  {
   "cell_type": "code",
   "outputs": [],
   "source": [
    "openai = OpenAI(api_key=OPENAI_API_KEY)\n",
    "agentops.init(AGENTOPS_API_KEY, tags=['openai-gpt-notebook'])"
   ],
   "metadata": {
    "collapsed": false
   },
   "id": "5d424a02e30ce7f4"
  },
  {
   "cell_type": "markdown",
   "source": [
    "Now just use OpenAI as you would normally!"
   ],
   "metadata": {
    "collapsed": false
   },
   "id": "c77f4f920c07e3e6"
  },
  {
   "cell_type": "markdown",
   "source": [
    "## Single Session with ChatCompletion"
   ],
   "metadata": {
    "collapsed": false
   },
   "id": "ca7011cf1ba076c9"
  },
  {
   "cell_type": "code",
   "outputs": [],
   "source": [
    "message = ({\"role\": \"user\", \"content\": \"Write a 12 word poem about secret agents.\"},)\n",
    "res = openai.chat.completions.create(\n",
    "    model=\"gpt-3.5-turbo\", messages=message, temperature=0.5, stream=True\n",
    ")"
   ],
   "metadata": {
    "collapsed": false
   },
   "id": "2704d6d625efa77f"
  },
  {
   "cell_type": "markdown",
   "source": [
    "Make sure to end your session with a `Result` (Success|Fail|Indeterminate) for better tracking"
   ],
   "metadata": {
    "collapsed": false
   },
   "id": "ce4965fc1614b5fe"
  },
  {
   "cell_type": "code",
   "outputs": [],
   "source": [
    "agentops.end_session(\"Success\")"
   ],
   "metadata": {
    "collapsed": false
   },
   "id": "537abd77cd0e0d25"
  },
  {
   "cell_type": "markdown",
   "source": [
    "Now if you check the AgentOps dashboard, you should see information related to this run!"
   ],
   "metadata": {
    "collapsed": false
   },
   "id": "dd69580627842705"
  },
  {
   "cell_type": "markdown",
   "source": [
    "# Events\n",
    "Additionally, you can track custom events via AgentOps.\n",
    "Let's start a new session and record some events "
   ],
   "metadata": {
    "collapsed": false
   },
   "id": "b824bb935c7b7f80"
  },
  {
   "cell_type": "code",
   "outputs": [],
   "source": [
    "# Create new session\n",
    "agentops.start_session(tags=[\"openai-gpt-notebook-events\"])"
   ],
   "metadata": {
    "collapsed": false
   },
   "id": "544c8f1bdb8c6e4b"
  },
  {
   "cell_type": "markdown",
   "id": "e94f1b56",
   "metadata": {},
   "source": [
    "The easiest way to record actions is through the use of AgentOp's decorators"
   ]
  },
  {
   "cell_type": "code",
   "execution_count": null,
   "id": "b45754a57148eed1",
   "metadata": {
    "collapsed": false
   },
   "outputs": [],
   "source": [
    "from agentops import record_function\n",
    "\n",
    "\n",
    "@record_function(\"add numbers\")\n",
    "def add(x, y):\n",
    "    return x + y\n",
    "\n",
    "\n",
    "add(2, 4)"
   ]
  },
  {
   "cell_type": "markdown",
   "id": "1e3cc512",
   "metadata": {},
   "source": [
    "We can also manually craft an event exactly the way we want"
   ]
  },
  {
   "cell_type": "code",
   "execution_count": null,
   "id": "2ac84c35",
   "metadata": {},
   "outputs": [],
   "source": [
    "from agentops import ActionEvent\n",
    "\n",
    "message = ({\"role\": \"user\", \"content\": \"Hello\"},)\n",
    "response = openai.chat.completions.create(\n",
    "    model=\"gpt-3.5-turbo\", messages=message, temperature=0.5\n",
    ")\n",
    "\n",
    "if \"hello\" in str(response.choices[0].message.content).lower():\n",
    "    agentops.record(\n",
    "        ActionEvent(\n",
    "            action_type=\"Agent says hello\",\n",
    "            params=str(message),\n",
    "            returns=str(response.choices[0].message.content),\n",
    "        )\n",
    "    )"
   ]
  },
  {
   "cell_type": "code",
   "outputs": [],
   "source": [
    "agentops.end_session(\"Success\")"
   ],
   "metadata": {
    "collapsed": false
   },
   "id": "4ca2b49fc06adddb",
   "execution_count": null
  }
 ],
 "metadata": {
  "kernelspec": {
   "display_name": "Python 3",
   "language": "python",
   "name": "python3"
  },
  "language_info": {
   "codemirror_mode": {
    "name": "ipython",
    "version": 3
   },
   "file_extension": ".py",
   "mimetype": "text/x-python",
   "name": "python",
   "nbconvert_exporter": "python",
   "pygments_lexer": "ipython3",
   "version": "3.11.8"
  }
 },
 "nbformat": 4,
 "nbformat_minor": 5
}
