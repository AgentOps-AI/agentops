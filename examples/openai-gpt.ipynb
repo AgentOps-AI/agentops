{
 "cells": [
  {
   "cell_type": "markdown",
   "id": "212799f5255f3513",
   "metadata": {
    "collapsed": false
   },
   "source": [
    "# AgentOps Basic Monitoring \n",
    "This is an example of how to use the AgentOps library for basic Agent monitoring with OpenAI's GPT"
   ]
  },
  {
   "cell_type": "markdown",
   "id": "3b2bf0da",
   "metadata": {},
   "source": [
    "First let's install the required packages"
   ]
  },
  {
   "cell_type": "code",
   "execution_count": 1,
   "id": "88c8f60d",
   "metadata": {},
   "outputs": [
    {
     "name": "stdout",
     "output_type": "stream",
     "text": [
      "Requirement already satisfied: openai in /home/siyangqiu/DevDrive/pythonsdk/env/lib/python3.12/site-packages (1.40.6)\n",
      "Requirement already satisfied: anyio<5,>=3.5.0 in /home/siyangqiu/DevDrive/pythonsdk/env/lib/python3.12/site-packages (from openai) (4.4.0)\n",
      "Requirement already satisfied: distro<2,>=1.7.0 in /home/siyangqiu/DevDrive/pythonsdk/env/lib/python3.12/site-packages (from openai) (1.9.0)\n",
      "Requirement already satisfied: httpx<1,>=0.23.0 in /home/siyangqiu/DevDrive/pythonsdk/env/lib/python3.12/site-packages (from openai) (0.27.0)\n",
      "Requirement already satisfied: jiter<1,>=0.4.0 in /home/siyangqiu/DevDrive/pythonsdk/env/lib/python3.12/site-packages (from openai) (0.4.2)\n",
      "Requirement already satisfied: pydantic<3,>=1.9.0 in /home/siyangqiu/DevDrive/pythonsdk/env/lib/python3.12/site-packages (from openai) (2.8.2)\n",
      "Requirement already satisfied: sniffio in /home/siyangqiu/DevDrive/pythonsdk/env/lib/python3.12/site-packages (from openai) (1.3.1)\n",
      "Requirement already satisfied: tqdm>4 in /home/siyangqiu/DevDrive/pythonsdk/env/lib/python3.12/site-packages (from openai) (4.66.5)\n",
      "Requirement already satisfied: typing-extensions<5,>=4.11 in /home/siyangqiu/DevDrive/pythonsdk/env/lib/python3.12/site-packages (from openai) (4.12.2)\n",
      "Requirement already satisfied: idna>=2.8 in /home/siyangqiu/DevDrive/pythonsdk/env/lib/python3.12/site-packages (from anyio<5,>=3.5.0->openai) (3.7)\n",
      "Requirement already satisfied: certifi in /home/siyangqiu/DevDrive/pythonsdk/env/lib/python3.12/site-packages (from httpx<1,>=0.23.0->openai) (2024.7.4)\n",
      "Requirement already satisfied: httpcore==1.* in /home/siyangqiu/DevDrive/pythonsdk/env/lib/python3.12/site-packages (from httpx<1,>=0.23.0->openai) (1.0.5)\n",
      "Requirement already satisfied: h11<0.15,>=0.13 in /home/siyangqiu/DevDrive/pythonsdk/env/lib/python3.12/site-packages (from httpcore==1.*->httpx<1,>=0.23.0->openai) (0.14.0)\n",
      "Requirement already satisfied: annotated-types>=0.4.0 in /home/siyangqiu/DevDrive/pythonsdk/env/lib/python3.12/site-packages (from pydantic<3,>=1.9.0->openai) (0.7.0)\n",
      "Requirement already satisfied: pydantic-core==2.20.1 in /home/siyangqiu/DevDrive/pythonsdk/env/lib/python3.12/site-packages (from pydantic<3,>=1.9.0->openai) (2.20.1)\n",
      "\n",
      "\u001b[1m[\u001b[0m\u001b[34;49mnotice\u001b[0m\u001b[1;39;49m]\u001b[0m\u001b[39;49m A new release of pip is available: \u001b[0m\u001b[31;49m24.0\u001b[0m\u001b[39;49m -> \u001b[0m\u001b[32;49m24.2\u001b[0m\n",
      "\u001b[1m[\u001b[0m\u001b[34;49mnotice\u001b[0m\u001b[1;39;49m]\u001b[0m\u001b[39;49m To update, run: \u001b[0m\u001b[32;49mpip install --upgrade pip\u001b[0m\n",
      "Note: you may need to restart the kernel to use updated packages.\n",
      "Requirement already satisfied: agentops in /home/siyangqiu/DevDrive/pythonsdk/env/lib/python3.12/site-packages (0.3.7)\n",
      "Requirement already satisfied: requests==2.31.0 in /home/siyangqiu/DevDrive/pythonsdk/env/lib/python3.12/site-packages (from agentops) (2.31.0)\n",
      "Requirement already satisfied: psutil==5.9.8 in /home/siyangqiu/DevDrive/pythonsdk/env/lib/python3.12/site-packages (from agentops) (5.9.8)\n",
      "Requirement already satisfied: packaging==23.2 in /home/siyangqiu/DevDrive/pythonsdk/env/lib/python3.12/site-packages (from agentops) (23.2)\n",
      "Requirement already satisfied: termcolor==2.4.0 in /home/siyangqiu/DevDrive/pythonsdk/env/lib/python3.12/site-packages (from agentops) (2.4.0)\n",
      "Requirement already satisfied: charset-normalizer<4,>=2 in /home/siyangqiu/DevDrive/pythonsdk/env/lib/python3.12/site-packages (from requests==2.31.0->agentops) (3.3.2)\n",
      "Requirement already satisfied: idna<4,>=2.5 in /home/siyangqiu/DevDrive/pythonsdk/env/lib/python3.12/site-packages (from requests==2.31.0->agentops) (3.7)\n",
      "Requirement already satisfied: urllib3<3,>=1.21.1 in /home/siyangqiu/DevDrive/pythonsdk/env/lib/python3.12/site-packages (from requests==2.31.0->agentops) (2.2.2)\n",
      "Requirement already satisfied: certifi>=2017.4.17 in /home/siyangqiu/DevDrive/pythonsdk/env/lib/python3.12/site-packages (from requests==2.31.0->agentops) (2024.7.4)\n",
      "\n",
      "\u001b[1m[\u001b[0m\u001b[34;49mnotice\u001b[0m\u001b[1;39;49m]\u001b[0m\u001b[39;49m A new release of pip is available: \u001b[0m\u001b[31;49m24.0\u001b[0m\u001b[39;49m -> \u001b[0m\u001b[32;49m24.2\u001b[0m\n",
      "\u001b[1m[\u001b[0m\u001b[34;49mnotice\u001b[0m\u001b[1;39;49m]\u001b[0m\u001b[39;49m To update, run: \u001b[0m\u001b[32;49mpip install --upgrade pip\u001b[0m\n",
      "Note: you may need to restart the kernel to use updated packages.\n",
      "Requirement already satisfied: python-dotenv in /home/siyangqiu/DevDrive/pythonsdk/env/lib/python3.12/site-packages (1.0.1)\n",
      "\n",
      "\u001b[1m[\u001b[0m\u001b[34;49mnotice\u001b[0m\u001b[1;39;49m]\u001b[0m\u001b[39;49m A new release of pip is available: \u001b[0m\u001b[31;49m24.0\u001b[0m\u001b[39;49m -> \u001b[0m\u001b[32;49m24.2\u001b[0m\n",
      "\u001b[1m[\u001b[0m\u001b[34;49mnotice\u001b[0m\u001b[1;39;49m]\u001b[0m\u001b[39;49m To update, run: \u001b[0m\u001b[32;49mpip install --upgrade pip\u001b[0m\n",
      "Note: you may need to restart the kernel to use updated packages.\n"
     ]
    }
   ],
   "source": [
    "%pip install -U openai\n",
    "%pip install -U agentops\n",
    "%pip install -U python-dotenv"
   ]
  },
  {
   "cell_type": "markdown",
   "id": "fa9151e5",
   "metadata": {},
   "source": [
    "Then import them"
   ]
  },
  {
   "cell_type": "code",
   "execution_count": 2,
   "id": "c51dcbda80eb8c53",
   "metadata": {
    "collapsed": false
   },
   "outputs": [],
   "source": [
    "from openai import OpenAI\n",
    "import agentops\n",
    "import os\n",
    "from dotenv import load_dotenv"
   ]
  },
  {
   "cell_type": "markdown",
   "id": "33bb35b82e9a8f71",
   "metadata": {
    "collapsed": false
   },
   "source": [
    "Next, we'll grab our API keys. You can use dotenv like below or however else you like to load environment variables"
   ]
  },
  {
   "cell_type": "code",
   "execution_count": 3,
   "id": "cbc5d13679e269dc",
   "metadata": {
    "collapsed": false
   },
   "outputs": [],
   "source": [
    "load_dotenv()\n",
    "OPENAI_API_KEY = os.getenv(\"OPENAI_API_KEY\") or \"<your_openai_key>\"\n",
    "AGENTOPS_API_KEY = os.getenv(\"AGENTOPS_API_KEY\") or \"<your_agentops_key>\""
   ]
  },
  {
   "cell_type": "markdown",
   "id": "82fdff21ff00ef37",
   "metadata": {
    "collapsed": false
   },
   "source": [
    "The AgentOps library is designed to be a plug-and-play replacement for the OpenAI Client, maximizing use with minimal install effort."
   ]
  },
  {
   "cell_type": "code",
   "execution_count": 4,
   "id": "5d424a02e30ce7f4",
   "metadata": {
    "collapsed": false
   },
   "outputs": [
    {
     "name": "stderr",
     "output_type": "stream",
     "text": [
      "🖇 AgentOps: \u001b[34m\u001b[34mSession Replay: https://app.agentops.ai/drilldown?session_id=037c5380-e7f2-4ab7-b85b-54b714416fc8\u001b[0m\u001b[0m\n"
     ]
    },
    {
     "data": {
      "text/plain": [
       "<agentops.session.Session at 0x7f341784db20>"
      ]
     },
     "execution_count": 4,
     "metadata": {},
     "output_type": "execute_result"
    }
   ],
   "source": [
    "openai = OpenAI(api_key=OPENAI_API_KEY)\n",
    "agentops.init(AGENTOPS_API_KEY, default_tags=[\"openai-gpt-notebook\"])"
   ]
  },
  {
   "cell_type": "markdown",
   "id": "c77f4f920c07e3e6",
   "metadata": {
    "collapsed": false
   },
   "source": [
    "Now just use OpenAI as you would normally!"
   ]
  },
  {
   "cell_type": "markdown",
   "id": "ca7011cf1ba076c9",
   "metadata": {
    "collapsed": false
   },
   "source": [
    "## Single Session with ChatCompletion"
   ]
  },
  {
   "cell_type": "code",
   "execution_count": 5,
   "id": "2704d6d625efa77f",
   "metadata": {
    "collapsed": false
   },
   "outputs": [
    {
     "name": "stdout",
     "output_type": "stream",
     "text": [
      "ChatCompletion(id='chatcmpl-9vfc9uAbQf2b4gkBLF8r2S1hemHff', choices=[Choice(finish_reason='stop', index=0, logprobs=None, message=ChatCompletionMessage(content='Silent shadows move, unseen, on covert missions of intrigue and espionage.', refusal=None, role='assistant', function_call=None, tool_calls=None))], created=1723531689, model='gpt-3.5-turbo-0125', object='chat.completion', service_tier=None, system_fingerprint=None, usage=CompletionUsage(completion_tokens=15, prompt_tokens=17, total_tokens=32))\n"
     ]
    }
   ],
   "source": [
    "message = [{\"role\": \"user\", \"content\": \"Write a 12 word poem about secret agents.\"}]\n",
    "res = openai.chat.completions.create(\n",
    "    model=\"gpt-3.5-turbo\", messages=message, temperature=0.5, stream=False\n",
    ")\n",
    "print(res.choices[0].message[\"content\"])"
   ]
  },
  {
   "cell_type": "markdown",
   "id": "ce4965fc1614b5fe",
   "metadata": {
    "collapsed": false
   },
   "source": [
    "Make sure to end your session with a `Result` (Success|Fail|Indeterminate) for better tracking"
   ]
  },
  {
   "cell_type": "code",
   "execution_count": 6,
   "id": "537abd77cd0e0d25",
   "metadata": {
    "collapsed": false
   },
   "outputs": [
    {
     "name": "stderr",
     "output_type": "stream",
     "text": [
      "🖇 AgentOps: This run's cost $0.000031\n",
      "🖇 AgentOps: \u001b[34m\u001b[34mSession Replay: https://app.agentops.ai/drilldown?session_id=037c5380-e7f2-4ab7-b85b-54b714416fc8\u001b[0m\u001b[0m\n"
     ]
    }
   ],
   "source": [
    "agentops.end_session(\"Success\")"
   ]
  },
  {
   "cell_type": "markdown",
   "id": "dd69580627842705",
   "metadata": {
    "collapsed": false
   },
   "source": [
    "Now if you check the AgentOps dashboard, you should see information related to this run!"
   ]
  },
  {
   "cell_type": "markdown",
   "id": "b824bb935c7b7f80",
   "metadata": {
    "collapsed": false
   },
   "source": [
    "# Events\n",
    "Additionally, you can track custom events via AgentOps.\n",
    "Let's start a new session and record some events "
   ]
  },
  {
   "cell_type": "code",
   "execution_count": 7,
   "id": "544c8f1bdb8c6e4b",
   "metadata": {
    "collapsed": false
   },
   "outputs": [
    {
     "name": "stderr",
     "output_type": "stream",
     "text": [
      "🖇 AgentOps: \u001b[34m\u001b[34mSession Replay: https://app.agentops.ai/drilldown?session_id=ed47e38d-39c7-498e-bccf-e4b5280c983d\u001b[0m\u001b[0m\n"
     ]
    },
    {
     "data": {
      "text/plain": [
       "<agentops.session.Session at 0x7f3417633fe0>"
      ]
     },
     "execution_count": 7,
     "metadata": {},
     "output_type": "execute_result"
    }
   ],
   "source": [
    "# Create new session\n",
    "agentops.start_session(tags=[\"openai-gpt-notebook-events\"])"
   ]
  },
  {
   "cell_type": "markdown",
   "id": "e94f1b56",
   "metadata": {},
   "source": [
    "The easiest way to record actions is through the use of AgentOp's decorators"
   ]
  },
  {
   "cell_type": "code",
   "execution_count": 8,
   "id": "b45754a57148eed1",
   "metadata": {
    "collapsed": false
   },
   "outputs": [
    {
     "data": {
      "text/plain": [
       "6"
      ]
     },
     "execution_count": 8,
     "metadata": {},
     "output_type": "execute_result"
    }
   ],
   "source": [
    "from agentops import record_action\n",
    "\n",
    "\n",
    "@record_action(\"add numbers\")\n",
    "def add(x, y):\n",
    "    return x + y\n",
    "\n",
    "\n",
    "add(2, 4)"
   ]
  },
  {
   "cell_type": "markdown",
   "id": "1e3cc512",
   "metadata": {},
   "source": [
    "We can also manually craft an event exactly the way we want"
   ]
  },
  {
   "cell_type": "code",
   "execution_count": 9,
   "id": "2ac84c35",
   "metadata": {},
   "outputs": [],
   "source": [
    "from agentops import ActionEvent\n",
    "\n",
    "message = ({\"role\": \"user\", \"content\": \"Hello\"},)\n",
    "response = openai.chat.completions.create(\n",
    "    model=\"gpt-3.5-turbo\", messages=message, temperature=0.5\n",
    ")\n",
    "\n",
    "if \"hello\" in str(response.choices[0].message.content).lower():\n",
    "    agentops.record(\n",
    "        ActionEvent(\n",
    "            action_type=\"Agent says hello\",\n",
    "            params=str(message),\n",
    "            returns=str(response.choices[0].message.content),\n",
    "        )\n",
    "    )"
   ]
  },
  {
   "cell_type": "code",
   "execution_count": 10,
   "id": "4ca2b49fc06adddb",
   "metadata": {
    "collapsed": false
   },
   "outputs": [
    {
     "name": "stderr",
     "output_type": "stream",
     "text": [
      "🖇 AgentOps: This run's cost $0.000017\n",
      "🖇 AgentOps: \u001b[34m\u001b[34mSession Replay: https://app.agentops.ai/drilldown?session_id=ed47e38d-39c7-498e-bccf-e4b5280c983d\u001b[0m\u001b[0m\n"
     ]
    }
   ],
   "source": [
    "agentops.end_session(\"Success\")"
   ]
  }
 ],
 "metadata": {
  "kernelspec": {
   "display_name": "Python 3",
   "language": "python",
   "name": "python3"
  },
  "language_info": {
   "codemirror_mode": {
    "name": "ipython",
    "version": 3
   },
   "file_extension": ".py",
   "mimetype": "text/x-python",
   "name": "python",
   "nbconvert_exporter": "python",
   "pygments_lexer": "ipython3",
   "version": "3.12.4"
  }
 },
 "nbformat": 4,
 "nbformat_minor": 5
}
