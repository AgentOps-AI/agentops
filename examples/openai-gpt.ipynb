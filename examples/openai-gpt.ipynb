{
 "cells": [
  {
   "cell_type": "markdown",
   "id": "212799f5255f3513",
   "metadata": {
    "collapsed": false
   },
   "source": [
    "# Monitoring \n",
    "This is an example of how to use the AgentOps library for basic Agent monitoring with OpenAI's GPT"
   ]
  },
  {
   "cell_type": "markdown",
   "id": "6d717e4c8bf0de9c",
   "metadata": {
    "collapsed": false
   },
   "source": [
    "_At this time, make sure to install openai==0.28.1_"
   ]
  },
  {
   "cell_type": "code",
   "execution_count": null,
   "id": "c51dcbda80eb8c53",
   "metadata": {
    "ExecuteTime": {
     "end_time": "2023-12-15T21:33:47.472626Z",
     "start_time": "2023-12-15T21:33:47.448868Z"
    },
    "collapsed": false
   },
   "outputs": [],
   "source": [
    "import openai\n",
    "import agentops\n",
    "from dotenv import load_dotenv\n",
    "import os\n",
    "from openai import ChatCompletion"
   ]
  },
  {
   "cell_type": "markdown",
   "id": "33bb35b82e9a8f71",
   "metadata": {
    "collapsed": false
   },
   "source": [
    "Next, we'll grab our two API keys. You can use dotenv like below or however else you like to load environment variables"
   ]
  },
  {
   "cell_type": "code",
   "execution_count": null,
   "id": "cbc5d13679e269dc",
   "metadata": {
    "ExecuteTime": {
     "end_time": "2023-12-15T21:33:47.473321Z",
     "start_time": "2023-12-15T21:33:47.460144Z"
    },
    "collapsed": false
   },
   "outputs": [],
   "source": [
    "load_dotenv()\n",
    "OPENAI_API_KEY = os.getenv('OPENAI_API_KEY') or \"<your_openai_key>\"\n",
    "AGENTOPS_API_KEY = os.getenv('AGENTOPS_API_KEY') or \"<your_agentops_key>\""
   ]
  },
  {
   "cell_type": "markdown",
   "id": "82fdff21ff00ef37",
   "metadata": {
    "collapsed": false
   },
   "source": [
    "The AgentOps library is designed to be a plug-and-play replacement for the OpenAI Client, maximizing use with minimal install effort."
   ]
  },
  {
   "cell_type": "code",
   "execution_count": null,
   "id": "fe8116d5969f1d23",
   "metadata": {
    "ExecuteTime": {
     "end_time": "2023-12-15T21:33:48.179508Z",
     "start_time": "2023-12-15T21:33:47.463468Z"
    },
    "collapsed": false
   },
   "outputs": [],
   "source": [
    "ao_client = agentops.Client(AGENTOPS_API_KEY)\n",
    "openai.api_key = OPENAI_API_KEY"
   ]
  },
  {
   "cell_type": "markdown",
   "id": "3c20bbfa91b3419c",
   "metadata": {
    "collapsed": false
   },
   "source": [
    "Now just use OpenAI as you would normally!"
   ]
  },
  {
   "cell_type": "markdown",
   "id": "b42f5685ac4af5c2",
   "metadata": {
    "collapsed": false
   },
   "source": [
    "## Single Session with ChatCompletion"
   ]
  },
  {
   "cell_type": "code",
   "execution_count": null,
   "id": "9cd47d3fa1e252e1",
   "metadata": {
    "ExecuteTime": {
     "end_time": "2023-12-15T21:33:49.022014Z",
     "start_time": "2023-12-15T21:33:48.181090Z"
    },
    "collapsed": false
   },
   "outputs": [],
   "source": [
    "message = {\"role\": \"user\", \"content\": \"Hello\"},\n",
    "ChatCompletion.create(\n",
    "    model='gpt-3.5-turbo', messages=message, temperature=0.5)"
   ]
  },
  {
   "cell_type": "markdown",
   "id": "bf75276ad9fbb3f4",
   "metadata": {
    "collapsed": false
   },
   "source": [
    "Make sure to end your session with a `Result` (Success|Fail|Indeterminate) for better tracking"
   ]
  },
  {
   "cell_type": "code",
   "execution_count": null,
   "id": "f59fe80a7e00e6e8",
   "metadata": {
    "ExecuteTime": {
     "end_time": "2023-12-15T21:33:50.619934Z",
     "start_time": "2023-12-15T21:33:49.021089Z"
    },
    "collapsed": false
   },
   "outputs": [],
   "source": [
    "ao_client.end_session('Success')"
   ]
  },
  {
   "cell_type": "markdown",
   "id": "318a7186c1be2d59",
   "metadata": {
    "collapsed": false
   },
   "source": [
    "Now if you check the AgentOps dashboard, you should see information related to this run!"
   ]
  },
  {
   "cell_type": "markdown",
   "id": "ccf998561cb9a834",
   "metadata": {
    "collapsed": false
   },
   "source": [
    "# Events\n",
    "Additionally, you can track custom events via AgentOps.\n",
    "Lets record an event when an LLM says \"Hello\""
   ]
  },
  {
   "cell_type": "code",
   "execution_count": null,
   "id": "f5a1a63ff4ecf127",
   "metadata": {
    "ExecuteTime": {
     "end_time": "2023-12-15T21:33:50.914863Z",
     "start_time": "2023-12-15T21:33:50.620442Z"
    },
    "collapsed": false
   },
   "outputs": [],
   "source": [
    "# Create new session\n",
    "ao_client.start_session()\n",
    "\n",
    "# Optionally, we can add tags to the session\n",
    "# ao_client.start_session(['Hello Tracker'])"
   ]
  },
  {
   "cell_type": "code",
   "execution_count": null,
   "id": "7daafba014c1a4d8",
   "metadata": {
    "ExecuteTime": {
     "end_time": "2023-12-15T21:33:51.321518Z",
     "start_time": "2023-12-15T21:33:50.915612Z"
    },
    "collapsed": false
   },
   "outputs": [],
   "source": [
    "message = {\"role\": \"user\", \"content\": \"Hello\"},\n",
    "response = ChatCompletion.create(\n",
    "    model='gpt-3.5-turbo', messages=message, temperature=0.5)"
   ]
  },
  {
   "cell_type": "code",
   "execution_count": null,
   "id": "b45754a57148eed1",
   "metadata": {
    "ExecuteTime": {
     "end_time": "2023-12-15T21:34:24.301681Z",
     "start_time": "2023-12-15T21:34:24.297258Z"
    },
    "collapsed": false
   },
   "outputs": [],
   "source": [
    "from agentops import ActionEvent\n",
    "\n",
    "if \"hello\" in str(response.choices[0].message.content).lower():\n",
    "    print('📝 Recording Event')\n",
    "    ao_client.record(ActionEvent(action_type=\"said hello\"))"
   ]
  },
  {
   "cell_type": "code",
   "execution_count": null,
   "id": "4ca2b49fc06adddb",
   "metadata": {
    "ExecuteTime": {
     "end_time": "2023-12-15T21:34:26.439101Z",
     "start_time": "2023-12-15T21:34:26.436252Z"
    },
    "collapsed": false
   },
   "outputs": [],
   "source": [
    "ao_client.end_session('Success')"
   ]
  }
 ],
 "metadata": {
  "kernelspec": {
   "display_name": "Python 3",
   "language": "python",
   "name": "python3"
  },
  "language_info": {
   "codemirror_mode": {
    "name": "ipython",
    "version": 2
   },
   "file_extension": ".py",
   "mimetype": "text/x-python",
   "name": "python",
   "nbconvert_exporter": "python",
   "pygments_lexer": "ipython2",
   "version": "2.7.6"
  }
 },
 "nbformat": 4,
 "nbformat_minor": 5
}
