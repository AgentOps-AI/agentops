{
 "cells": [
  {
   "cell_type": "markdown",
   "metadata": {},
   "source": [
    "# Llama Stack Client Examples\n",
    "Use the llama_stack_client library to interact with a Llama Stack server"
   ]
  },
  {
   "cell_type": "markdown",
   "metadata": {},
   "source": [
    "First let's install the required packages"
   ]
  },
  {
   "cell_type": "code",
   "execution_count": 1,
   "metadata": {},
   "outputs": [
    {
     "name": "stdout",
     "output_type": "stream",
     "text": [
      "Requirement already satisfied: llama-stack-client in /Users/a/src/projects/11_2024/agentops/venv/lib/python3.12/site-packages (0.0.55)\n",
      "Requirement already satisfied: anyio<5,>=3.5.0 in /Users/a/src/projects/11_2024/agentops/venv/lib/python3.12/site-packages (from llama-stack-client) (4.6.2.post1)\n",
      "Requirement already satisfied: click in /Users/a/src/projects/11_2024/agentops/venv/lib/python3.12/site-packages (from llama-stack-client) (8.1.7)\n",
      "Requirement already satisfied: distro<2,>=1.7.0 in /Users/a/src/projects/11_2024/agentops/venv/lib/python3.12/site-packages (from llama-stack-client) (1.9.0)\n",
      "Requirement already satisfied: httpx<1,>=0.23.0 in /Users/a/src/projects/11_2024/agentops/venv/lib/python3.12/site-packages (from llama-stack-client) (0.27.2)\n",
      "Requirement already satisfied: pandas in /Users/a/src/projects/11_2024/agentops/venv/lib/python3.12/site-packages (from llama-stack-client) (2.2.3)\n",
      "Requirement already satisfied: prompt-toolkit in /Users/a/src/projects/11_2024/agentops/venv/lib/python3.12/site-packages (from llama-stack-client) (3.0.48)\n",
      "Requirement already satisfied: pyaml in /Users/a/src/projects/11_2024/agentops/venv/lib/python3.12/site-packages (from llama-stack-client) (24.9.0)\n",
      "Requirement already satisfied: pydantic<3,>=1.9.0 in /Users/a/src/projects/11_2024/agentops/venv/lib/python3.12/site-packages (from llama-stack-client) (2.10.1)\n",
      "Requirement already satisfied: rich in /Users/a/src/projects/11_2024/agentops/venv/lib/python3.12/site-packages (from llama-stack-client) (13.9.4)\n",
      "Requirement already satisfied: sniffio in /Users/a/src/projects/11_2024/agentops/venv/lib/python3.12/site-packages (from llama-stack-client) (1.3.1)\n",
      "Requirement already satisfied: tqdm in /Users/a/src/projects/11_2024/agentops/venv/lib/python3.12/site-packages (from llama-stack-client) (4.67.0)\n",
      "Requirement already satisfied: typing-extensions<5,>=4.7 in /Users/a/src/projects/11_2024/agentops/venv/lib/python3.12/site-packages (from llama-stack-client) (4.12.2)\n",
      "Requirement already satisfied: idna>=2.8 in /Users/a/src/projects/11_2024/agentops/venv/lib/python3.12/site-packages (from anyio<5,>=3.5.0->llama-stack-client) (3.10)\n",
      "Requirement already satisfied: certifi in /Users/a/src/projects/11_2024/agentops/venv/lib/python3.12/site-packages (from httpx<1,>=0.23.0->llama-stack-client) (2024.8.30)\n",
      "Requirement already satisfied: httpcore==1.* in /Users/a/src/projects/11_2024/agentops/venv/lib/python3.12/site-packages (from httpx<1,>=0.23.0->llama-stack-client) (1.0.7)\n",
      "Requirement already satisfied: h11<0.15,>=0.13 in /Users/a/src/projects/11_2024/agentops/venv/lib/python3.12/site-packages (from httpcore==1.*->httpx<1,>=0.23.0->llama-stack-client) (0.14.0)\n",
      "Requirement already satisfied: annotated-types>=0.6.0 in /Users/a/src/projects/11_2024/agentops/venv/lib/python3.12/site-packages (from pydantic<3,>=1.9.0->llama-stack-client) (0.7.0)\n",
      "Requirement already satisfied: pydantic-core==2.27.1 in /Users/a/src/projects/11_2024/agentops/venv/lib/python3.12/site-packages (from pydantic<3,>=1.9.0->llama-stack-client) (2.27.1)\n",
      "Requirement already satisfied: numpy>=1.26.0 in /Users/a/src/projects/11_2024/agentops/venv/lib/python3.12/site-packages (from pandas->llama-stack-client) (2.1.3)\n",
      "Requirement already satisfied: python-dateutil>=2.8.2 in /Users/a/src/projects/11_2024/agentops/venv/lib/python3.12/site-packages (from pandas->llama-stack-client) (2.9.0.post0)\n",
      "Requirement already satisfied: pytz>=2020.1 in /Users/a/src/projects/11_2024/agentops/venv/lib/python3.12/site-packages (from pandas->llama-stack-client) (2024.2)\n",
      "Requirement already satisfied: tzdata>=2022.7 in /Users/a/src/projects/11_2024/agentops/venv/lib/python3.12/site-packages (from pandas->llama-stack-client) (2024.2)\n",
      "Requirement already satisfied: wcwidth in /Users/a/src/projects/11_2024/agentops/venv/lib/python3.12/site-packages (from prompt-toolkit->llama-stack-client) (0.2.13)\n",
      "Requirement already satisfied: PyYAML in /Users/a/src/projects/11_2024/agentops/venv/lib/python3.12/site-packages (from pyaml->llama-stack-client) (6.0.2)\n",
      "Requirement already satisfied: markdown-it-py>=2.2.0 in /Users/a/src/projects/11_2024/agentops/venv/lib/python3.12/site-packages (from rich->llama-stack-client) (3.0.0)\n",
      "Requirement already satisfied: pygments<3.0.0,>=2.13.0 in /Users/a/src/projects/11_2024/agentops/venv/lib/python3.12/site-packages (from rich->llama-stack-client) (2.18.0)\n",
      "Requirement already satisfied: mdurl~=0.1 in /Users/a/src/projects/11_2024/agentops/venv/lib/python3.12/site-packages (from markdown-it-py>=2.2.0->rich->llama-stack-client) (0.1.2)\n",
      "Requirement already satisfied: six>=1.5 in /Users/a/src/projects/11_2024/agentops/venv/lib/python3.12/site-packages (from python-dateutil>=2.8.2->pandas->llama-stack-client) (1.16.0)\n",
      "\n",
      "\u001b[1m[\u001b[0m\u001b[34;49mnotice\u001b[0m\u001b[1;39;49m]\u001b[0m\u001b[39;49m A new release of pip is available: \u001b[0m\u001b[31;49m24.0\u001b[0m\u001b[39;49m -> \u001b[0m\u001b[32;49m24.3.1\u001b[0m\n",
      "\u001b[1m[\u001b[0m\u001b[34;49mnotice\u001b[0m\u001b[1;39;49m]\u001b[0m\u001b[39;49m To update, run: \u001b[0m\u001b[32;49mpip install --upgrade pip\u001b[0m\n",
      "Note: you may need to restart the kernel to use updated packages.\n",
      "Requirement already satisfied: agentops in /Users/a/src/projects/11_2024/agentops/venv/lib/python3.12/site-packages (0.3.18)\n",
      "Requirement already satisfied: requests<3.0.0,>=2.0.0 in /Users/a/src/projects/11_2024/agentops/venv/lib/python3.12/site-packages (from agentops) (2.32.3)\n",
      "Requirement already satisfied: psutil==5.9.8 in /Users/a/src/projects/11_2024/agentops/venv/lib/python3.12/site-packages (from agentops) (5.9.8)\n",
      "Requirement already satisfied: packaging==23.2 in /Users/a/src/projects/11_2024/agentops/venv/lib/python3.12/site-packages (from agentops) (23.2)\n",
      "Requirement already satisfied: termcolor>=2.3.0 in /Users/a/src/projects/11_2024/agentops/venv/lib/python3.12/site-packages (from agentops) (2.5.0)\n",
      "Requirement already satisfied: PyYAML<7.0,>=5.3 in /Users/a/src/projects/11_2024/agentops/venv/lib/python3.12/site-packages (from agentops) (6.0.2)\n",
      "Requirement already satisfied: charset-normalizer<4,>=2 in /Users/a/src/projects/11_2024/agentops/venv/lib/python3.12/site-packages (from requests<3.0.0,>=2.0.0->agentops) (3.4.0)\n",
      "Requirement already satisfied: idna<4,>=2.5 in /Users/a/src/projects/11_2024/agentops/venv/lib/python3.12/site-packages (from requests<3.0.0,>=2.0.0->agentops) (3.10)\n",
      "Requirement already satisfied: urllib3<3,>=1.21.1 in /Users/a/src/projects/11_2024/agentops/venv/lib/python3.12/site-packages (from requests<3.0.0,>=2.0.0->agentops) (2.2.3)\n",
      "Requirement already satisfied: certifi>=2017.4.17 in /Users/a/src/projects/11_2024/agentops/venv/lib/python3.12/site-packages (from requests<3.0.0,>=2.0.0->agentops) (2024.8.30)\n",
      "\n",
      "\u001b[1m[\u001b[0m\u001b[34;49mnotice\u001b[0m\u001b[1;39;49m]\u001b[0m\u001b[39;49m A new release of pip is available: \u001b[0m\u001b[31;49m24.0\u001b[0m\u001b[39;49m -> \u001b[0m\u001b[32;49m24.3.1\u001b[0m\n",
      "\u001b[1m[\u001b[0m\u001b[34;49mnotice\u001b[0m\u001b[1;39;49m]\u001b[0m\u001b[39;49m To update, run: \u001b[0m\u001b[32;49mpip install --upgrade pip\u001b[0m\n",
      "Note: you may need to restart the kernel to use updated packages.\n",
      "Requirement already satisfied: python-dotenv in /Users/a/src/projects/11_2024/agentops/venv/lib/python3.12/site-packages (1.0.1)\n",
      "\n",
      "\u001b[1m[\u001b[0m\u001b[34;49mnotice\u001b[0m\u001b[1;39;49m]\u001b[0m\u001b[39;49m A new release of pip is available: \u001b[0m\u001b[31;49m24.0\u001b[0m\u001b[39;49m -> \u001b[0m\u001b[32;49m24.3.1\u001b[0m\n",
      "\u001b[1m[\u001b[0m\u001b[34;49mnotice\u001b[0m\u001b[1;39;49m]\u001b[0m\u001b[39;49m To update, run: \u001b[0m\u001b[32;49mpip install --upgrade pip\u001b[0m\n",
      "Note: you may need to restart the kernel to use updated packages.\n"
     ]
    }
   ],
   "source": [
    "%pip install -U llama-stack-client\n",
    "%pip install -U agentops\n",
    "%pip install -U python-dotenv"
   ]
  },
  {
   "cell_type": "markdown",
   "metadata": {},
   "source": [
    "Then import them"
   ]
  },
  {
   "cell_type": "code",
   "execution_count": 1,
   "metadata": {},
   "outputs": [],
   "source": [
    "from llama_stack_client import LlamaStackClient\n",
    "from llama_stack_client.lib.inference.event_logger import EventLogger\n",
    "from llama_stack_client.types import UserMessage\n",
    "from dotenv import load_dotenv\n",
    "import os\n",
    "import agentops"
   ]
  },
  {
   "cell_type": "markdown",
   "metadata": {},
   "source": [
    "Next, we'll grab our API keys. You can use dotenv like below or however else you like to load environment variables"
   ]
  },
  {
   "cell_type": "code",
   "execution_count": 2,
   "metadata": {},
   "outputs": [],
   "source": [
    "load_dotenv()\n",
    "AGENTOPS_API_KEY = os.getenv(\"AGENTOPS_API_KEY\") or \"<your_agentops_key>\""
   ]
  },
  {
   "cell_type": "code",
   "execution_count": 3,
   "metadata": {},
   "outputs": [],
   "source": [
    "agentops.init(AGENTOPS_API_KEY, default_tags=[\"llama-stack-client-example\"], auto_start_session=False)\n",
    "\n",
    "host = \"0.0.0.0\" # LLAMA_STACK_HOST\n",
    "port = 5001 # LLAMA_STACK_PORT\n",
    "\n",
    "full_host = f\"http://{host}:{port}\"\n",
    "\n",
    "client = LlamaStackClient(\n",
    "    base_url=f\"{full_host}\",\n",
    ")"
   ]
  },
  {
   "cell_type": "markdown",
   "metadata": {},
   "source": [
    "## Completion Example"
   ]
  },
  {
   "cell_type": "code",
   "execution_count": 4,
   "metadata": {},
   "outputs": [
    {
     "name": "stderr",
     "output_type": "stream",
     "text": [
      "🖇 AgentOps: \u001b[34m\u001b[34mSession Replay: https://app.agentops.ai/drilldown?session_id=963e5fa7-078f-4119-ab1e-de8cde3cbe77\u001b[0m\u001b[0m\n"
     ]
    },
    {
     "name": "stdout",
     "output_type": "stream",
     "text": [
      "> Response: ChatCompletionResponse(completion_message=CompletionMessage(content='Silver glowing crescent', role='assistant', stop_reason='end_of_turn', tool_calls=[]), logprobs=None)\n"
     ]
    },
    {
     "name": "stderr",
     "output_type": "stream",
     "text": [
      "🖇 AgentOps: Session Stats - \u001b[1mDuration:\u001b[0m 5.8s | \u001b[1mCost:\u001b[0m $0.00 | \u001b[1mLLMs:\u001b[0m 1 | \u001b[1mTools:\u001b[0m 0 | \u001b[1mActions:\u001b[0m 0 | \u001b[1mErrors:\u001b[0m 0\n",
      "🖇 AgentOps: \u001b[34m\u001b[34mSession Replay: https://app.agentops.ai/drilldown?session_id=963e5fa7-078f-4119-ab1e-de8cde3cbe77\u001b[0m\u001b[0m\n"
     ]
    }
   ],
   "source": [
    "agentops.start_session()\n",
    "response = client.inference.chat_completion(\n",
    "    messages=[\n",
    "        UserMessage(\n",
    "            content=\"write me a 3 word poem about the moon\",\n",
    "            role=\"user\",\n",
    "        ),\n",
    "    ],\n",
    "    model_id=\"meta-llama/Llama-3.2-3B-Instruct\",\n",
    "    stream=False\n",
    ")\n",
    "\n",
    "print(f\"> Response: {response}\")\n",
    "agentops.end_session(\"Success\")"
   ]
  },
  {
   "cell_type": "markdown",
   "metadata": {},
   "source": [
    "## Completion with Streaming Example"
   ]
  },
  {
   "cell_type": "code",
   "execution_count": 5,
   "metadata": {},
   "outputs": [
    {
     "name": "stderr",
     "output_type": "stream",
     "text": [
      "🖇 AgentOps: \u001b[34m\u001b[34mSession Replay: https://app.agentops.ai/drilldown?session_id=9113bc40-0057-4ed1-849a-511eb15ee873\u001b[0m\u001b[0m\n"
     ]
    },
    {
     "name": "stdout",
     "output_type": "stream",
     "text": [
      "\u001b[36mAssistant> \u001b[0m\u001b[33m\"C\u001b[0m\u001b[33mele\u001b[0m\u001b[33mstial\u001b[0m\u001b[33m Gentle\u001b[0m\u001b[33m Glow\u001b[0m\u001b[33m\"\u001b[0m\u001b[97m\u001b[0m\n"
     ]
    },
    {
     "name": "stderr",
     "output_type": "stream",
     "text": [
      "🖇 AgentOps: Session Stats - \u001b[1mDuration:\u001b[0m 4.2s | \u001b[1mCost:\u001b[0m $0.00 | \u001b[1mLLMs:\u001b[0m 1 | \u001b[1mTools:\u001b[0m 0 | \u001b[1mActions:\u001b[0m 0 | \u001b[1mErrors:\u001b[0m 0\n",
      "🖇 AgentOps: \u001b[34m\u001b[34mSession Replay: https://app.agentops.ai/drilldown?session_id=9113bc40-0057-4ed1-849a-511eb15ee873\u001b[0m\u001b[0m\n"
     ]
    }
   ],
   "source": [
    "agentops.start_session()\n",
    "response = client.inference.chat_completion(\n",
    "    messages=[\n",
    "        UserMessage(\n",
    "            content=\"hello world, write me a 3 word poem about the moon\",\n",
    "            role=\"user\",\n",
    "        ),\n",
    "    ],\n",
    "    model_id=\"meta-llama/Llama-3.2-3B-Instruct\",\n",
    "    stream=True\n",
    ")\n",
    "\n",
    "async for log in EventLogger().log(response):\n",
    "    log.print()\n",
    "\n",
    "agentops.end_session(\"Success\")"
   ]
  },
  {
   "cell_type": "code",
   "execution_count": null,
   "metadata": {},
   "outputs": [],
   "source": []
  }
 ],
 "metadata": {
  "kernelspec": {
   "display_name": "venv",
   "language": "python",
   "name": "python3"
  },
  "language_info": {
   "codemirror_mode": {
    "name": "ipython",
    "version": 3
   },
   "file_extension": ".py",
   "mimetype": "text/x-python",
   "name": "python",
   "nbconvert_exporter": "python",
   "pygments_lexer": "ipython3",
   "version": "3.12.2"
  }
 },
 "nbformat": 4,
 "nbformat_minor": 2
}
