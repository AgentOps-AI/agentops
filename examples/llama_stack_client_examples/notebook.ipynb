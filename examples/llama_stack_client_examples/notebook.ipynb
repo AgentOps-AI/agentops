{
 "cells": [
  {
   "cell_type": "markdown",
   "metadata": {},
   "source": [
    "# Llama Stack Client Examples\n",
    "Use the llama_stack_client library to interact with a Llama Stack server"
   ]
  },
  {
   "cell_type": "markdown",
   "metadata": {},
   "source": [
    "First let's install the required packages"
   ]
  },
  {
   "cell_type": "code",
   "execution_count": null,
   "metadata": {},
   "outputs": [
    {
     "ename": "SyntaxError",
     "evalue": "invalid syntax (2472932708.py, line 1)",
     "output_type": "error",
     "traceback": [
      "\u001b[0;36m  Cell \u001b[0;32mIn[1], line 1\u001b[0;36m\u001b[0m\n\u001b[0;31m    python -m venv .venv\u001b[0m\n\u001b[0m              ^\u001b[0m\n\u001b[0;31mSyntaxError\u001b[0m\u001b[0;31m:\u001b[0m invalid syntax\n"
     ]
    }
   ],
   "source": [
    "# python -m venv .venv\n",
    "# source .venv/bin/activate"
   ]
  },
  {
   "cell_type": "code",
   "execution_count": 2,
   "metadata": {},
   "outputs": [
    {
     "name": "stdout",
     "output_type": "stream",
     "text": [
      "Requirement already satisfied: llama-stack-client in /Users/a/src/projects/11_2024/agentops/venv/lib/python3.12/site-packages (0.0.57)\n",
      "Requirement already satisfied: anyio<5,>=3.5.0 in /Users/a/src/projects/11_2024/agentops/venv/lib/python3.12/site-packages (from llama-stack-client) (4.6.2.post1)\n",
      "Requirement already satisfied: click in /Users/a/src/projects/11_2024/agentops/venv/lib/python3.12/site-packages (from llama-stack-client) (8.1.7)\n",
      "Requirement already satisfied: distro<2,>=1.7.0 in /Users/a/src/projects/11_2024/agentops/venv/lib/python3.12/site-packages (from llama-stack-client) (1.9.0)\n",
      "Requirement already satisfied: httpx<1,>=0.23.0 in /Users/a/src/projects/11_2024/agentops/venv/lib/python3.12/site-packages (from llama-stack-client) (0.27.2)\n",
      "Requirement already satisfied: pandas in /Users/a/src/projects/11_2024/agentops/venv/lib/python3.12/site-packages (from llama-stack-client) (2.2.3)\n",
      "Requirement already satisfied: prompt-toolkit in /Users/a/src/projects/11_2024/agentops/venv/lib/python3.12/site-packages (from llama-stack-client) (3.0.48)\n",
      "Requirement already satisfied: pyaml in /Users/a/src/projects/11_2024/agentops/venv/lib/python3.12/site-packages (from llama-stack-client) (24.9.0)\n",
      "Requirement already satisfied: pydantic<3,>=1.9.0 in /Users/a/src/projects/11_2024/agentops/venv/lib/python3.12/site-packages (from llama-stack-client) (2.10.1)\n",
      "Requirement already satisfied: rich in /Users/a/src/projects/11_2024/agentops/venv/lib/python3.12/site-packages (from llama-stack-client) (13.9.4)\n",
      "Requirement already satisfied: sniffio in /Users/a/src/projects/11_2024/agentops/venv/lib/python3.12/site-packages (from llama-stack-client) (1.3.1)\n",
      "Requirement already satisfied: tqdm in /Users/a/src/projects/11_2024/agentops/venv/lib/python3.12/site-packages (from llama-stack-client) (4.67.0)\n",
      "Requirement already satisfied: typing-extensions<5,>=4.7 in /Users/a/src/projects/11_2024/agentops/venv/lib/python3.12/site-packages (from llama-stack-client) (4.12.2)\n",
      "Requirement already satisfied: idna>=2.8 in /Users/a/src/projects/11_2024/agentops/venv/lib/python3.12/site-packages (from anyio<5,>=3.5.0->llama-stack-client) (3.10)\n",
      "Requirement already satisfied: certifi in /Users/a/src/projects/11_2024/agentops/venv/lib/python3.12/site-packages (from httpx<1,>=0.23.0->llama-stack-client) (2024.8.30)\n",
      "Requirement already satisfied: httpcore==1.* in /Users/a/src/projects/11_2024/agentops/venv/lib/python3.12/site-packages (from httpx<1,>=0.23.0->llama-stack-client) (1.0.7)\n",
      "Requirement already satisfied: h11<0.15,>=0.13 in /Users/a/src/projects/11_2024/agentops/venv/lib/python3.12/site-packages (from httpcore==1.*->httpx<1,>=0.23.0->llama-stack-client) (0.14.0)\n",
      "Requirement already satisfied: annotated-types>=0.6.0 in /Users/a/src/projects/11_2024/agentops/venv/lib/python3.12/site-packages (from pydantic<3,>=1.9.0->llama-stack-client) (0.7.0)\n",
      "Requirement already satisfied: pydantic-core==2.27.1 in /Users/a/src/projects/11_2024/agentops/venv/lib/python3.12/site-packages (from pydantic<3,>=1.9.0->llama-stack-client) (2.27.1)\n",
      "Requirement already satisfied: numpy>=1.26.0 in /Users/a/src/projects/11_2024/agentops/venv/lib/python3.12/site-packages (from pandas->llama-stack-client) (2.1.3)\n",
      "Requirement already satisfied: python-dateutil>=2.8.2 in /Users/a/src/projects/11_2024/agentops/venv/lib/python3.12/site-packages (from pandas->llama-stack-client) (2.9.0.post0)\n",
      "Requirement already satisfied: pytz>=2020.1 in /Users/a/src/projects/11_2024/agentops/venv/lib/python3.12/site-packages (from pandas->llama-stack-client) (2024.2)\n",
      "Requirement already satisfied: tzdata>=2022.7 in /Users/a/src/projects/11_2024/agentops/venv/lib/python3.12/site-packages (from pandas->llama-stack-client) (2024.2)\n",
      "Requirement already satisfied: wcwidth in /Users/a/src/projects/11_2024/agentops/venv/lib/python3.12/site-packages (from prompt-toolkit->llama-stack-client) (0.2.13)\n",
      "Requirement already satisfied: PyYAML in /Users/a/src/projects/11_2024/agentops/venv/lib/python3.12/site-packages (from pyaml->llama-stack-client) (6.0.2)\n",
      "Requirement already satisfied: markdown-it-py>=2.2.0 in /Users/a/src/projects/11_2024/agentops/venv/lib/python3.12/site-packages (from rich->llama-stack-client) (3.0.0)\n",
      "Requirement already satisfied: pygments<3.0.0,>=2.13.0 in /Users/a/src/projects/11_2024/agentops/venv/lib/python3.12/site-packages (from rich->llama-stack-client) (2.18.0)\n",
      "Requirement already satisfied: mdurl~=0.1 in /Users/a/src/projects/11_2024/agentops/venv/lib/python3.12/site-packages (from markdown-it-py>=2.2.0->rich->llama-stack-client) (0.1.2)\n",
      "Requirement already satisfied: six>=1.5 in /Users/a/src/projects/11_2024/agentops/venv/lib/python3.12/site-packages (from python-dateutil>=2.8.2->pandas->llama-stack-client) (1.16.0)\n",
      "\n",
      "\u001b[1m[\u001b[0m\u001b[34;49mnotice\u001b[0m\u001b[1;39;49m]\u001b[0m\u001b[39;49m A new release of pip is available: \u001b[0m\u001b[31;49m24.0\u001b[0m\u001b[39;49m -> \u001b[0m\u001b[32;49m24.3.1\u001b[0m\n",
      "\u001b[1m[\u001b[0m\u001b[34;49mnotice\u001b[0m\u001b[1;39;49m]\u001b[0m\u001b[39;49m To update, run: \u001b[0m\u001b[32;49mpip install --upgrade pip\u001b[0m\n",
      "Note: you may need to restart the kernel to use updated packages.\n",
      "Requirement already satisfied: llama-stack in /Users/a/src/projects/11_2024/agentops/venv/lib/python3.12/site-packages (0.0.57)\n",
      "Requirement already satisfied: blobfile in /Users/a/src/projects/11_2024/agentops/venv/lib/python3.12/site-packages (from llama-stack) (3.0.0)\n",
      "Requirement already satisfied: fire in /Users/a/src/projects/11_2024/agentops/venv/lib/python3.12/site-packages (from llama-stack) (0.7.0)\n",
      "Requirement already satisfied: httpx in /Users/a/src/projects/11_2024/agentops/venv/lib/python3.12/site-packages (from llama-stack) (0.27.2)\n",
      "Requirement already satisfied: huggingface-hub in /Users/a/src/projects/11_2024/agentops/venv/lib/python3.12/site-packages (from llama-stack) (0.26.3)\n",
      "Requirement already satisfied: llama-models>=0.0.57 in /Users/a/src/projects/11_2024/agentops/venv/lib/python3.12/site-packages (from llama-stack) (0.0.57)\n",
      "Requirement already satisfied: llama-stack-client>=0.0.57 in /Users/a/src/projects/11_2024/agentops/venv/lib/python3.12/site-packages (from llama-stack) (0.0.57)\n",
      "Requirement already satisfied: prompt-toolkit in /Users/a/src/projects/11_2024/agentops/venv/lib/python3.12/site-packages (from llama-stack) (3.0.48)\n",
      "Requirement already satisfied: python-dotenv in /Users/a/src/projects/11_2024/agentops/venv/lib/python3.12/site-packages (from llama-stack) (1.0.1)\n",
      "Requirement already satisfied: pydantic>=2 in /Users/a/src/projects/11_2024/agentops/venv/lib/python3.12/site-packages (from llama-stack) (2.10.1)\n",
      "Requirement already satisfied: requests in /Users/a/src/projects/11_2024/agentops/venv/lib/python3.12/site-packages (from llama-stack) (2.32.3)\n",
      "Requirement already satisfied: rich in /Users/a/src/projects/11_2024/agentops/venv/lib/python3.12/site-packages (from llama-stack) (13.9.4)\n",
      "Requirement already satisfied: setuptools in /Users/a/src/projects/11_2024/agentops/venv/lib/python3.12/site-packages (from llama-stack) (75.6.0)\n",
      "Requirement already satisfied: termcolor in /Users/a/src/projects/11_2024/agentops/venv/lib/python3.12/site-packages (from llama-stack) (2.5.0)\n",
      "Requirement already satisfied: PyYAML in /Users/a/src/projects/11_2024/agentops/venv/lib/python3.12/site-packages (from llama-models>=0.0.57->llama-stack) (6.0.2)\n",
      "Requirement already satisfied: jinja2 in /Users/a/src/projects/11_2024/agentops/venv/lib/python3.12/site-packages (from llama-models>=0.0.57->llama-stack) (3.1.4)\n",
      "Requirement already satisfied: tiktoken in /Users/a/src/projects/11_2024/agentops/venv/lib/python3.12/site-packages (from llama-models>=0.0.57->llama-stack) (0.8.0)\n",
      "Requirement already satisfied: Pillow in /Users/a/src/projects/11_2024/agentops/venv/lib/python3.12/site-packages (from llama-models>=0.0.57->llama-stack) (11.0.0)\n",
      "Requirement already satisfied: anyio<5,>=3.5.0 in /Users/a/src/projects/11_2024/agentops/venv/lib/python3.12/site-packages (from llama-stack-client>=0.0.57->llama-stack) (4.6.2.post1)\n",
      "Requirement already satisfied: click in /Users/a/src/projects/11_2024/agentops/venv/lib/python3.12/site-packages (from llama-stack-client>=0.0.57->llama-stack) (8.1.7)\n",
      "Requirement already satisfied: distro<2,>=1.7.0 in /Users/a/src/projects/11_2024/agentops/venv/lib/python3.12/site-packages (from llama-stack-client>=0.0.57->llama-stack) (1.9.0)\n",
      "Requirement already satisfied: pandas in /Users/a/src/projects/11_2024/agentops/venv/lib/python3.12/site-packages (from llama-stack-client>=0.0.57->llama-stack) (2.2.3)\n",
      "Requirement already satisfied: pyaml in /Users/a/src/projects/11_2024/agentops/venv/lib/python3.12/site-packages (from llama-stack-client>=0.0.57->llama-stack) (24.9.0)\n",
      "Requirement already satisfied: sniffio in /Users/a/src/projects/11_2024/agentops/venv/lib/python3.12/site-packages (from llama-stack-client>=0.0.57->llama-stack) (1.3.1)\n",
      "Requirement already satisfied: tqdm in /Users/a/src/projects/11_2024/agentops/venv/lib/python3.12/site-packages (from llama-stack-client>=0.0.57->llama-stack) (4.67.0)\n",
      "Requirement already satisfied: typing-extensions<5,>=4.7 in /Users/a/src/projects/11_2024/agentops/venv/lib/python3.12/site-packages (from llama-stack-client>=0.0.57->llama-stack) (4.12.2)\n",
      "Requirement already satisfied: certifi in /Users/a/src/projects/11_2024/agentops/venv/lib/python3.12/site-packages (from httpx->llama-stack) (2024.8.30)\n",
      "Requirement already satisfied: httpcore==1.* in /Users/a/src/projects/11_2024/agentops/venv/lib/python3.12/site-packages (from httpx->llama-stack) (1.0.7)\n",
      "Requirement already satisfied: idna in /Users/a/src/projects/11_2024/agentops/venv/lib/python3.12/site-packages (from httpx->llama-stack) (3.10)\n",
      "Requirement already satisfied: h11<0.15,>=0.13 in /Users/a/src/projects/11_2024/agentops/venv/lib/python3.12/site-packages (from httpcore==1.*->httpx->llama-stack) (0.14.0)\n",
      "Requirement already satisfied: annotated-types>=0.6.0 in /Users/a/src/projects/11_2024/agentops/venv/lib/python3.12/site-packages (from pydantic>=2->llama-stack) (0.7.0)\n",
      "Requirement already satisfied: pydantic-core==2.27.1 in /Users/a/src/projects/11_2024/agentops/venv/lib/python3.12/site-packages (from pydantic>=2->llama-stack) (2.27.1)\n",
      "Requirement already satisfied: pycryptodomex>=3.8 in /Users/a/src/projects/11_2024/agentops/venv/lib/python3.12/site-packages (from blobfile->llama-stack) (3.21.0)\n",
      "Requirement already satisfied: urllib3<3,>=1.25.3 in /Users/a/src/projects/11_2024/agentops/venv/lib/python3.12/site-packages (from blobfile->llama-stack) (2.2.3)\n",
      "Requirement already satisfied: lxml>=4.9 in /Users/a/src/projects/11_2024/agentops/venv/lib/python3.12/site-packages (from blobfile->llama-stack) (5.3.0)\n",
      "Requirement already satisfied: filelock>=3.0 in /Users/a/src/projects/11_2024/agentops/venv/lib/python3.12/site-packages (from blobfile->llama-stack) (3.16.1)\n",
      "Requirement already satisfied: fsspec>=2023.5.0 in /Users/a/src/projects/11_2024/agentops/venv/lib/python3.12/site-packages (from huggingface-hub->llama-stack) (2024.10.0)\n",
      "Requirement already satisfied: packaging>=20.9 in /Users/a/src/projects/11_2024/agentops/venv/lib/python3.12/site-packages (from huggingface-hub->llama-stack) (23.2)\n",
      "Requirement already satisfied: wcwidth in /Users/a/src/projects/11_2024/agentops/venv/lib/python3.12/site-packages (from prompt-toolkit->llama-stack) (0.2.13)\n",
      "Requirement already satisfied: charset-normalizer<4,>=2 in /Users/a/src/projects/11_2024/agentops/venv/lib/python3.12/site-packages (from requests->llama-stack) (3.4.0)\n",
      "Requirement already satisfied: markdown-it-py>=2.2.0 in /Users/a/src/projects/11_2024/agentops/venv/lib/python3.12/site-packages (from rich->llama-stack) (3.0.0)\n",
      "Requirement already satisfied: pygments<3.0.0,>=2.13.0 in /Users/a/src/projects/11_2024/agentops/venv/lib/python3.12/site-packages (from rich->llama-stack) (2.18.0)\n",
      "Requirement already satisfied: mdurl~=0.1 in /Users/a/src/projects/11_2024/agentops/venv/lib/python3.12/site-packages (from markdown-it-py>=2.2.0->rich->llama-stack) (0.1.2)\n",
      "Requirement already satisfied: MarkupSafe>=2.0 in /Users/a/src/projects/11_2024/agentops/venv/lib/python3.12/site-packages (from jinja2->llama-models>=0.0.57->llama-stack) (3.0.2)\n",
      "Requirement already satisfied: numpy>=1.26.0 in /Users/a/src/projects/11_2024/agentops/venv/lib/python3.12/site-packages (from pandas->llama-stack-client>=0.0.57->llama-stack) (2.1.3)\n",
      "Requirement already satisfied: python-dateutil>=2.8.2 in /Users/a/src/projects/11_2024/agentops/venv/lib/python3.12/site-packages (from pandas->llama-stack-client>=0.0.57->llama-stack) (2.9.0.post0)\n",
      "Requirement already satisfied: pytz>=2020.1 in /Users/a/src/projects/11_2024/agentops/venv/lib/python3.12/site-packages (from pandas->llama-stack-client>=0.0.57->llama-stack) (2024.2)\n",
      "Requirement already satisfied: tzdata>=2022.7 in /Users/a/src/projects/11_2024/agentops/venv/lib/python3.12/site-packages (from pandas->llama-stack-client>=0.0.57->llama-stack) (2024.2)\n",
      "Requirement already satisfied: regex>=2022.1.18 in /Users/a/src/projects/11_2024/agentops/venv/lib/python3.12/site-packages (from tiktoken->llama-models>=0.0.57->llama-stack) (2024.11.6)\n",
      "Requirement already satisfied: six>=1.5 in /Users/a/src/projects/11_2024/agentops/venv/lib/python3.12/site-packages (from python-dateutil>=2.8.2->pandas->llama-stack-client>=0.0.57->llama-stack) (1.16.0)\n",
      "\n",
      "\u001b[1m[\u001b[0m\u001b[34;49mnotice\u001b[0m\u001b[1;39;49m]\u001b[0m\u001b[39;49m A new release of pip is available: \u001b[0m\u001b[31;49m24.0\u001b[0m\u001b[39;49m -> \u001b[0m\u001b[32;49m24.3.1\u001b[0m\n",
      "\u001b[1m[\u001b[0m\u001b[34;49mnotice\u001b[0m\u001b[1;39;49m]\u001b[0m\u001b[39;49m To update, run: \u001b[0m\u001b[32;49mpip install --upgrade pip\u001b[0m\n",
      "Note: you may need to restart the kernel to use updated packages.\n",
      "Requirement already satisfied: agentops in /Users/a/src/projects/11_2024/agentops/venv/lib/python3.12/site-packages (0.3.18)\n",
      "Requirement already satisfied: requests<3.0.0,>=2.0.0 in /Users/a/src/projects/11_2024/agentops/venv/lib/python3.12/site-packages (from agentops) (2.32.3)\n",
      "Requirement already satisfied: psutil==5.9.8 in /Users/a/src/projects/11_2024/agentops/venv/lib/python3.12/site-packages (from agentops) (5.9.8)\n",
      "Requirement already satisfied: packaging==23.2 in /Users/a/src/projects/11_2024/agentops/venv/lib/python3.12/site-packages (from agentops) (23.2)\n",
      "Requirement already satisfied: termcolor>=2.3.0 in /Users/a/src/projects/11_2024/agentops/venv/lib/python3.12/site-packages (from agentops) (2.5.0)\n",
      "Requirement already satisfied: PyYAML<7.0,>=5.3 in /Users/a/src/projects/11_2024/agentops/venv/lib/python3.12/site-packages (from agentops) (6.0.2)\n",
      "Requirement already satisfied: charset-normalizer<4,>=2 in /Users/a/src/projects/11_2024/agentops/venv/lib/python3.12/site-packages (from requests<3.0.0,>=2.0.0->agentops) (3.4.0)\n",
      "Requirement already satisfied: idna<4,>=2.5 in /Users/a/src/projects/11_2024/agentops/venv/lib/python3.12/site-packages (from requests<3.0.0,>=2.0.0->agentops) (3.10)\n",
      "Requirement already satisfied: urllib3<3,>=1.21.1 in /Users/a/src/projects/11_2024/agentops/venv/lib/python3.12/site-packages (from requests<3.0.0,>=2.0.0->agentops) (2.2.3)\n",
      "Requirement already satisfied: certifi>=2017.4.17 in /Users/a/src/projects/11_2024/agentops/venv/lib/python3.12/site-packages (from requests<3.0.0,>=2.0.0->agentops) (2024.8.30)\n",
      "\n",
      "\u001b[1m[\u001b[0m\u001b[34;49mnotice\u001b[0m\u001b[1;39;49m]\u001b[0m\u001b[39;49m A new release of pip is available: \u001b[0m\u001b[31;49m24.0\u001b[0m\u001b[39;49m -> \u001b[0m\u001b[32;49m24.3.1\u001b[0m\n",
      "\u001b[1m[\u001b[0m\u001b[34;49mnotice\u001b[0m\u001b[1;39;49m]\u001b[0m\u001b[39;49m To update, run: \u001b[0m\u001b[32;49mpip install --upgrade pip\u001b[0m\n",
      "Note: you may need to restart the kernel to use updated packages.\n",
      "Requirement already satisfied: python-dotenv in /Users/a/src/projects/11_2024/agentops/venv/lib/python3.12/site-packages (1.0.1)\n",
      "\n",
      "\u001b[1m[\u001b[0m\u001b[34;49mnotice\u001b[0m\u001b[1;39;49m]\u001b[0m\u001b[39;49m A new release of pip is available: \u001b[0m\u001b[31;49m24.0\u001b[0m\u001b[39;49m -> \u001b[0m\u001b[32;49m24.3.1\u001b[0m\n",
      "\u001b[1m[\u001b[0m\u001b[34;49mnotice\u001b[0m\u001b[1;39;49m]\u001b[0m\u001b[39;49m To update, run: \u001b[0m\u001b[32;49mpip install --upgrade pip\u001b[0m\n",
      "Note: you may need to restart the kernel to use updated packages.\n",
      "Requirement already satisfied: fastapi in /Users/a/src/projects/11_2024/agentops/venv/lib/python3.12/site-packages (0.115.5)\n",
      "Requirement already satisfied: starlette<0.42.0,>=0.40.0 in /Users/a/src/projects/11_2024/agentops/venv/lib/python3.12/site-packages (from fastapi) (0.41.3)\n",
      "Requirement already satisfied: pydantic!=1.8,!=1.8.1,!=2.0.0,!=2.0.1,!=2.1.0,<3.0.0,>=1.7.4 in /Users/a/src/projects/11_2024/agentops/venv/lib/python3.12/site-packages (from fastapi) (2.10.1)\n",
      "Requirement already satisfied: typing-extensions>=4.8.0 in /Users/a/src/projects/11_2024/agentops/venv/lib/python3.12/site-packages (from fastapi) (4.12.2)\n",
      "Requirement already satisfied: annotated-types>=0.6.0 in /Users/a/src/projects/11_2024/agentops/venv/lib/python3.12/site-packages (from pydantic!=1.8,!=1.8.1,!=2.0.0,!=2.0.1,!=2.1.0,<3.0.0,>=1.7.4->fastapi) (0.7.0)\n",
      "Requirement already satisfied: pydantic-core==2.27.1 in /Users/a/src/projects/11_2024/agentops/venv/lib/python3.12/site-packages (from pydantic!=1.8,!=1.8.1,!=2.0.0,!=2.0.1,!=2.1.0,<3.0.0,>=1.7.4->fastapi) (2.27.1)\n",
      "Requirement already satisfied: anyio<5,>=3.4.0 in /Users/a/src/projects/11_2024/agentops/venv/lib/python3.12/site-packages (from starlette<0.42.0,>=0.40.0->fastapi) (4.6.2.post1)\n",
      "Requirement already satisfied: idna>=2.8 in /Users/a/src/projects/11_2024/agentops/venv/lib/python3.12/site-packages (from anyio<5,>=3.4.0->starlette<0.42.0,>=0.40.0->fastapi) (3.10)\n",
      "Requirement already satisfied: sniffio>=1.1 in /Users/a/src/projects/11_2024/agentops/venv/lib/python3.12/site-packages (from anyio<5,>=3.4.0->starlette<0.42.0,>=0.40.0->fastapi) (1.3.1)\n",
      "\n",
      "\u001b[1m[\u001b[0m\u001b[34;49mnotice\u001b[0m\u001b[1;39;49m]\u001b[0m\u001b[39;49m A new release of pip is available: \u001b[0m\u001b[31;49m24.0\u001b[0m\u001b[39;49m -> \u001b[0m\u001b[32;49m24.3.1\u001b[0m\n",
      "\u001b[1m[\u001b[0m\u001b[34;49mnotice\u001b[0m\u001b[1;39;49m]\u001b[0m\u001b[39;49m To update, run: \u001b[0m\u001b[32;49mpip install --upgrade pip\u001b[0m\n",
      "Note: you may need to restart the kernel to use updated packages.\n",
      "Requirement already satisfied: opentelemetry-api in /Users/a/src/projects/11_2024/agentops/venv/lib/python3.12/site-packages (1.28.2)\n",
      "Requirement already satisfied: deprecated>=1.2.6 in /Users/a/src/projects/11_2024/agentops/venv/lib/python3.12/site-packages (from opentelemetry-api) (1.2.15)\n",
      "Requirement already satisfied: importlib-metadata<=8.5.0,>=6.0 in /Users/a/src/projects/11_2024/agentops/venv/lib/python3.12/site-packages (from opentelemetry-api) (8.5.0)\n",
      "Requirement already satisfied: wrapt<2,>=1.10 in /Users/a/src/projects/11_2024/agentops/venv/lib/python3.12/site-packages (from deprecated>=1.2.6->opentelemetry-api) (1.17.0)\n",
      "Requirement already satisfied: zipp>=3.20 in /Users/a/src/projects/11_2024/agentops/venv/lib/python3.12/site-packages (from importlib-metadata<=8.5.0,>=6.0->opentelemetry-api) (3.21.0)\n",
      "\n",
      "\u001b[1m[\u001b[0m\u001b[34;49mnotice\u001b[0m\u001b[1;39;49m]\u001b[0m\u001b[39;49m A new release of pip is available: \u001b[0m\u001b[31;49m24.0\u001b[0m\u001b[39;49m -> \u001b[0m\u001b[32;49m24.3.1\u001b[0m\n",
      "\u001b[1m[\u001b[0m\u001b[34;49mnotice\u001b[0m\u001b[1;39;49m]\u001b[0m\u001b[39;49m To update, run: \u001b[0m\u001b[32;49mpip install --upgrade pip\u001b[0m\n",
      "Note: you may need to restart the kernel to use updated packages.\n",
      "Requirement already satisfied: opentelemetry-sdk in /Users/a/src/projects/11_2024/agentops/venv/lib/python3.12/site-packages (1.28.2)\n",
      "Requirement already satisfied: opentelemetry-api==1.28.2 in /Users/a/src/projects/11_2024/agentops/venv/lib/python3.12/site-packages (from opentelemetry-sdk) (1.28.2)\n",
      "Requirement already satisfied: opentelemetry-semantic-conventions==0.49b2 in /Users/a/src/projects/11_2024/agentops/venv/lib/python3.12/site-packages (from opentelemetry-sdk) (0.49b2)\n",
      "Requirement already satisfied: typing-extensions>=3.7.4 in /Users/a/src/projects/11_2024/agentops/venv/lib/python3.12/site-packages (from opentelemetry-sdk) (4.12.2)\n",
      "Requirement already satisfied: deprecated>=1.2.6 in /Users/a/src/projects/11_2024/agentops/venv/lib/python3.12/site-packages (from opentelemetry-api==1.28.2->opentelemetry-sdk) (1.2.15)\n",
      "Requirement already satisfied: importlib-metadata<=8.5.0,>=6.0 in /Users/a/src/projects/11_2024/agentops/venv/lib/python3.12/site-packages (from opentelemetry-api==1.28.2->opentelemetry-sdk) (8.5.0)\n",
      "Requirement already satisfied: wrapt<2,>=1.10 in /Users/a/src/projects/11_2024/agentops/venv/lib/python3.12/site-packages (from deprecated>=1.2.6->opentelemetry-api==1.28.2->opentelemetry-sdk) (1.17.0)\n",
      "Requirement already satisfied: zipp>=3.20 in /Users/a/src/projects/11_2024/agentops/venv/lib/python3.12/site-packages (from importlib-metadata<=8.5.0,>=6.0->opentelemetry-api==1.28.2->opentelemetry-sdk) (3.21.0)\n",
      "\n",
      "\u001b[1m[\u001b[0m\u001b[34;49mnotice\u001b[0m\u001b[1;39;49m]\u001b[0m\u001b[39;49m A new release of pip is available: \u001b[0m\u001b[31;49m24.0\u001b[0m\u001b[39;49m -> \u001b[0m\u001b[32;49m24.3.1\u001b[0m\n",
      "\u001b[1m[\u001b[0m\u001b[34;49mnotice\u001b[0m\u001b[1;39;49m]\u001b[0m\u001b[39;49m To update, run: \u001b[0m\u001b[32;49mpip install --upgrade pip\u001b[0m\n",
      "Note: you may need to restart the kernel to use updated packages.\n"
     ]
    }
   ],
   "source": [
    "%pip install -U llama-stack-client\n",
    "%pip install -U llama-stack\n",
    "%pip install -U agentops\n",
    "%pip install -U python-dotenv\n",
    "%pip install -U fastapi\n",
    "%pip install opentelemetry-api\n",
    "%pip install opentelemetry-sdk\n"
   ]
  },
  {
   "cell_type": "markdown",
   "metadata": {},
   "source": [
    "Then import them"
   ]
  },
  {
   "cell_type": "code",
   "execution_count": 3,
   "metadata": {},
   "outputs": [],
   "source": [
    "from llama_stack_client import LlamaStackClient\n",
    "from llama_stack_client import LlamaStackClient\n",
    "from llama_stack_client.lib.inference.event_logger import EventLogger\n",
    "from llama_stack_client.types import UserMessage\n",
    "from llama_stack_client.types.agent_create_params import AgentConfig\n",
    "from llama_stack_client.lib.agents.agent import Agent\n",
    "from dotenv import load_dotenv\n",
    "import os\n",
    "import agentops\n",
    "\n",
    "load_dotenv()\n",
    "AGENTOPS_API_KEY = os.getenv(\"AGENTOPS_API_KEY\") or \"<your_agentops_key>\"\n",
    "\n",
    "agentops.init(AGENTOPS_API_KEY, default_tags=[\"llama-stack-client-example\"], auto_start_session=False)\n",
    "\n",
    "host = \"0.0.0.0\" # LLAMA_STACK_HOST\n",
    "port = 5001 # LLAMA_STACK_PORT\n",
    "\n",
    "full_host = f\"http://{host}:{port}\"\n",
    "\n",
    "client = LlamaStackClient(\n",
    "    base_url=f\"{full_host}\",\n",
    ")"
   ]
  },
  {
   "cell_type": "markdown",
   "metadata": {},
   "source": [
    "# Inference Canary 1 - Completion with Streaming"
   ]
  },
  {
   "cell_type": "code",
   "execution_count": 4,
   "metadata": {},
   "outputs": [
    {
     "name": "stderr",
     "output_type": "stream",
     "text": [
      "🖇 AgentOps: \u001b[34m\u001b[34mSession Replay: https://app.agentops.ai/drilldown?session_id=9755b642-26e5-49ac-8371-3ff0b871a001\u001b[0m\u001b[0m\n"
     ]
    },
    {
     "name": "stdout",
     "output_type": "stream",
     "text": [
      "\u001b[36mAssistant> \u001b[0m\u001b[33mHere\u001b[0m\u001b[33m is\u001b[0m\u001b[33m a\u001b[0m\u001b[33m \u001b[0m\u001b[33m3\u001b[0m\u001b[33m-word\u001b[0m\u001b[33m poem\u001b[0m\u001b[33m about\u001b[0m\u001b[33m the\u001b[0m\u001b[33m moon\u001b[0m\u001b[33m:\n",
      "\n",
      "\u001b[0m\u001b[33mSilver\u001b[0m\u001b[33m glowing\u001b[0m\u001b[33m orb\u001b[0m\u001b[33m of\u001b[0m\u001b[33m night\u001b[0m\u001b[33m.\u001b[0m\u001b[97m\u001b[0m\n"
     ]
    },
    {
     "name": "stderr",
     "output_type": "stream",
     "text": [
      "🖇 AgentOps: Session Stats - \u001b[1mDuration:\u001b[0m 5.3s | \u001b[1mCost:\u001b[0m $0.00 | \u001b[1mLLMs:\u001b[0m 1 | \u001b[1mTools:\u001b[0m 0 | \u001b[1mActions:\u001b[0m 0 | \u001b[1mErrors:\u001b[0m 0\n",
      "🖇 AgentOps: \u001b[34m\u001b[34mSession Replay: https://app.agentops.ai/drilldown?session_id=9755b642-26e5-49ac-8371-3ff0b871a001\u001b[0m\u001b[0m\n"
     ]
    }
   ],
   "source": [
    "agentops.start_session()\n",
    "response = client.inference.chat_completion(\n",
    "    messages=[\n",
    "        UserMessage(\n",
    "            content=\"hello world, write me a 3 word poem about the moon\",\n",
    "            role=\"user\",\n",
    "        ),\n",
    "    ],\n",
    "    model_id=\"meta-llama/Llama-3.2-1B-Instruct\",\n",
    "    stream=True\n",
    ")\n",
    "\n",
    "async for log in EventLogger().log(response):\n",
    "    log.print()\n",
    "\n",
    "agentops.end_session(\"Success\")"
   ]
  },
  {
   "cell_type": "markdown",
   "metadata": {},
   "source": [
    "# Inference Canary Example 2 - Completion without Streaming"
   ]
  },
  {
   "cell_type": "code",
   "execution_count": null,
   "metadata": {},
   "outputs": [],
   "source": [
    "agentops.start_session()\n",
    "response = client.inference.chat_completion(\n",
    "    messages=[\n",
    "        UserMessage(\n",
    "            content=\"write me a 3 word poem about the moon\",\n",
    "            role=\"user\",\n",
    "        ),\n",
    "    ],\n",
    "    model_id=\"meta-llama/Llama-3.2-1B-Instruct\",\n",
    "    stream=False\n",
    ")\n",
    "\n",
    "print(f\"> Response: {response}\")\n",
    "agentops.end_session(\"Success\")"
   ]
  },
  {
   "cell_type": "markdown",
   "metadata": {},
   "source": [
    "# Agent Canary Example"
   ]
  },
  {
   "cell_type": "code",
   "execution_count": 11,
   "metadata": {},
   "outputs": [
    {
     "name": "stderr",
     "output_type": "stream",
     "text": [
      "🖇 AgentOps: AgentOps has already been initialized. If you are trying to start a session, call agentops.start_session() instead.\n",
      "🖇 AgentOps: \u001b[34m\u001b[34mSession Replay: https://app.agentops.ai/drilldown?session_id=0b54e8e9-dc76-447e-b1f5-94583dbe124a\u001b[0m\u001b[0m\n"
     ]
    },
    {
     "name": "stdout",
     "output_type": "stream",
     "text": [
      "No available shields. Disable safety.\n",
      "Using model: meta-llama/Llama-3.2-1B-Instruct\n",
      "response=<async_generator object LlamaStackClientProvider.handle_response.<locals>.async_generator at 0x1304e75a0>\n",
      "response=<async_generator object LlamaStackClientProvider.handle_response.<locals>.async_generator at 0x1304e7140>\n"
     ]
    },
    {
     "name": "stderr",
     "output_type": "stream",
     "text": [
      "🖇 AgentOps: Session Stats - \u001b[1mDuration:\u001b[0m 0.5s | \u001b[1mCost:\u001b[0m $0.00 | \u001b[1mLLMs:\u001b[0m 0 | \u001b[1mTools:\u001b[0m 0 | \u001b[1mActions:\u001b[0m 0 | \u001b[1mErrors:\u001b[0m 0\n",
      "🖇 AgentOps: \u001b[34m\u001b[34mSession Replay: https://app.agentops.ai/drilldown?session_id=0b54e8e9-dc76-447e-b1f5-94583dbe124a\u001b[0m\u001b[0m\n"
     ]
    }
   ],
   "source": [
    "import os\n",
    "from llama_stack_client import LlamaStackClient\n",
    "from llama_stack_client.lib.agents.agent import Agent\n",
    "from llama_stack_client.lib.agents.event_logger import EventLogger\n",
    "from llama_stack_client.types.agent_create_params import AgentConfig\n",
    "\n",
    "agentops.init(AGENTOPS_API_KEY, default_tags=[\"llama-stack-client-example\"], auto_start_session=False)\n",
    "\n",
    "# Apply nest_asyncio to handle nested event loops\n",
    "# nest_asyncio.apply()\n",
    "\n",
    "LLAMA_STACK_PORT = 5001\n",
    "\n",
    "# Replace with actual API keys for functionality\n",
    "os.environ[\"BRAVE_SEARCH_API_KEY\"] = \"your-brave-search-api-key\"\n",
    "\n",
    "async def agent_test():\n",
    "    client = LlamaStackClient(\n",
    "        base_url=f\"http://0.0.0.0:{LLAMA_STACK_PORT}\",\n",
    "    )\n",
    "\n",
    "    available_shields = [shield.identifier for shield in client.shields.list()]\n",
    "    if not available_shields:\n",
    "        print(\"No available shields. Disable safety.\")\n",
    "    else:\n",
    "        print(f\"Available shields found: {available_shields}\")\n",
    "    available_models = [model.identifier for model in client.models.list()]\n",
    "    if not available_models:\n",
    "        raise ValueError(\"No available models\")\n",
    "    else:\n",
    "        selected_model = available_models[0]\n",
    "        print(f\"Using model: {selected_model}\")\n",
    "\n",
    "    agent_config = AgentConfig(\n",
    "        model=selected_model,\n",
    "        instructions=\"You are a helpful assistant. Just say hello as a greeting.\",\n",
    "        sampling_params={\n",
    "            \"strategy\": \"greedy\",\n",
    "            \"temperature\": 1.0,\n",
    "            \"top_p\": 0.9,\n",
    "        },\n",
    "        tools=[\n",
    "            {\n",
    "                \"type\": \"brave_search\",\n",
    "                \"engine\": \"brave\",\n",
    "                \"api_key\": os.getenv(\"BRAVE_SEARCH_API_KEY\"),\n",
    "            }\n",
    "        ],\n",
    "        tool_choice=\"auto\",\n",
    "        tool_prompt_format=\"json\",\n",
    "        input_shields=available_shields if available_shields else [],\n",
    "        output_shields=available_shields if available_shields else [],\n",
    "        enable_session_persistence=False,\n",
    "    )\n",
    "    agent = Agent(client, agent_config)\n",
    "    user_prompts = [\n",
    "        \"Hello\",\n",
    "        \"Which players played in the winning team of the NBA western conference semifinals of 2014, please use tools\",\n",
    "    ]\n",
    "\n",
    "    session_id = agent.create_session(\"test-session\")\n",
    "\n",
    "    for prompt in user_prompts:\n",
    "        response = agent.create_turn(\n",
    "            messages=[\n",
    "                {\n",
    "                    \"role\": \"user\",\n",
    "                    \"content\": prompt,\n",
    "                }\n",
    "            ],\n",
    "            session_id=session_id,\n",
    "        )\n",
    "\n",
    "        print(f\"{response=}\")\n",
    "\n",
    "        # async for log in EventLogger().log(response):\n",
    "        #     log.print()\n",
    "\n",
    "agentops.start_session()\n",
    "\n",
    "await agent_test()\n",
    "\n",
    "agentops.end_session(\"Success\")"
   ]
  },
  {
   "cell_type": "code",
   "execution_count": null,
   "metadata": {},
   "outputs": [],
   "source": []
  }
 ],
 "metadata": {
  "kernelspec": {
   "display_name": "venv",
   "language": "python",
   "name": "python3"
  },
  "language_info": {
   "codemirror_mode": {
    "name": "ipython",
    "version": 3
   },
   "file_extension": ".py",
   "mimetype": "text/x-python",
   "name": "python",
   "nbconvert_exporter": "python",
   "pygments_lexer": "ipython3",
   "version": "3.12.2"
  }
 },
 "nbformat": 4,
 "nbformat_minor": 2
}
