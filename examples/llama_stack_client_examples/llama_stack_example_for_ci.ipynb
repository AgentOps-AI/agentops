{
 "cells": [
  {
   "cell_type": "markdown",
   "metadata": {},
   "source": [
    "# Llama Stack Client Examples\n",
    "Use the llama_stack_client library to interact with a Llama Stack server"
   ]
  },
  {
   "cell_type": "markdown",
   "metadata": {},
   "source": [
    "First let's install the required packages"
   ]
  },
  {
   "cell_type": "code",
   "execution_count": null,
   "metadata": {},
   "outputs": [],
   "source": [
    "%pip install -U llama-stack-client\n",
    "%pip install -U llama-stack\n",
    "%pip install -U agentops\n",
    "%pip install -U python-dotenv\n",
    "%pip install -U fastapi\n",
    "%pip install opentelemetry-api\n",
    "%pip install opentelemetry-sdk\n"
   ]
  },
  {
   "cell_type": "code",
   "execution_count": null,
   "metadata": {},
   "outputs": [],
   "source": [
    "from llama_stack_client import LlamaStackClient\n",
    "from llama_stack_client import LlamaStackClient\n",
    "from llama_stack_client.lib.inference.event_logger import EventLogger\n",
    "from llama_stack_client.types import UserMessage\n",
    "from llama_stack_client.types.agent_create_params import AgentConfig\n",
    "from llama_stack_client.lib.agents.agent import Agent\n",
    "from dotenv import load_dotenv\n",
    "import os\n",
    "import agentops\n",
    "\n",
    "load_dotenv()\n",
    "AGENTOPS_API_KEY = os.getenv(\"AGENTOPS_API_KEY\") or \"<your_agentops_key>\"\n",
    "\n",
    "agentops.init(AGENTOPS_API_KEY, default_tags=[\"llama-stack-client-example\"], auto_start_session=False)\n",
    "\n",
    "host = \"0.0.0.0\" # LLAMA_STACK_HOST\n",
    "port = 5001 # LLAMA_STACK_PORT\n",
    "\n",
    "full_host = f\"http://{host}:{port}\"\n",
    "\n",
    "client = LlamaStackClient(\n",
    "    base_url=f\"{full_host}\",\n",
    ")"
   ]
  },
  {
   "cell_type": "markdown",
   "metadata": {},
   "source": [
    "# Inference Canary + Agent Canary"
   ]
  },
  {
   "cell_type": "code",
   "execution_count": null,
   "metadata": {},
   "outputs": [],
   "source": [
    "### Inference Canary\n",
    "\n",
    "agentops.start_session() # AgentOps start session\n",
    "\n",
    "response = client.inference.chat_completion(\n",
    "    messages=[\n",
    "        UserMessage(\n",
    "            content=\"hello world, write me a 3 word poem about the moon\",\n",
    "            role=\"user\",\n",
    "        ),\n",
    "    ],\n",
    "    model_id=\"meta-llama/Llama-3.2-1B-Instruct\",\n",
    "    stream=True\n",
    ")\n",
    "\n",
    "async for log in EventLogger().log(response):\n",
    "    log.print()\n",
    "\n",
    "\n",
    "### Agent Canary\n",
    "\n",
    "import os\n",
    "from llama_stack_client import LlamaStackClient\n",
    "from llama_stack_client.lib.agents.agent import Agent\n",
    "from llama_stack_client.lib.agents.event_logger import EventLogger\n",
    "from llama_stack_client.types.agent_create_params import AgentConfig\n",
    "\n",
    "LLAMA_STACK_PORT = 5001\n",
    "\n",
    "# Replace with actual API keys for functionality\n",
    "BRAVE_SEARCH_API_KEY = os.getenv(\"BRAVE_SEARCH_API_KEY\") or \"your-brave-search-api-key\"\n",
    "\n",
    "async def agent_test():\n",
    "    client = LlamaStackClient(\n",
    "        base_url=f\"http://0.0.0.0:{LLAMA_STACK_PORT}\",\n",
    "    )\n",
    "\n",
    "    available_shields = [shield.identifier for shield in client.shields.list()]\n",
    "    if not available_shields:\n",
    "        print(\"No available shields. Disable safety.\")\n",
    "    else:\n",
    "        print(f\"Available shields found: {available_shields}\")\n",
    "    available_models = [model.identifier for model in client.models.list()]\n",
    "    if not available_models:\n",
    "        raise ValueError(\"No available models\")\n",
    "    else:\n",
    "        selected_model = available_models[0]\n",
    "        print(f\"Using model: {selected_model}\")\n",
    "\n",
    "    agent_config = AgentConfig(\n",
    "        model=selected_model,\n",
    "        instructions=\"You are a helpful assistant. Just say hello as a greeting.\",\n",
    "        sampling_params={\n",
    "            \"strategy\": \"greedy\",\n",
    "            \"temperature\": 1.0,\n",
    "            \"top_p\": 0.9,\n",
    "        },\n",
    "        tools=[\n",
    "            {\n",
    "                \"type\": \"brave_search\",\n",
    "                \"engine\": \"brave\",\n",
    "                \"api_key\": BRAVE_SEARCH_API_KEY,\n",
    "            }\n",
    "        ],\n",
    "        tool_choice=\"auto\",\n",
    "        tool_prompt_format=\"json\",\n",
    "        input_shields=available_shields if available_shields else [],\n",
    "        output_shields=available_shields if available_shields else [],\n",
    "        enable_session_persistence=False,\n",
    "    )\n",
    "    agent = Agent(client, agent_config)\n",
    "    user_prompts = [\n",
    "        \"Hello\",\n",
    "        \"Which players played in the winning team of the NBA western conference semifinals of 2014, please use tools\",\n",
    "    ]\n",
    "\n",
    "    session_id = agent.create_session(\"test-session\")\n",
    "\n",
    "    for prompt in user_prompts:\n",
    "        response = agent.create_turn(\n",
    "            messages=[\n",
    "                {\n",
    "                    \"role\": \"user\",\n",
    "                    \"content\": prompt,\n",
    "                }\n",
    "            ],\n",
    "            session_id=session_id,\n",
    "        )\n",
    "\n",
    "        print(f\"{response=}\")\n",
    "\n",
    "        for log in EventLogger().log(response):\n",
    "            log.print()\n",
    "\n",
    "await agent_test()\n",
    "\n",
    "agentops.end_session(\"Success\") # AgentOps end session"
   ]
  },
  {
   "cell_type": "code",
   "execution_count": 4,
   "metadata": {},
   "outputs": [],
   "source": [
    "agentops.end_all_sessions()"
   ]
  }
 ],
 "metadata": {
  "kernelspec": {
   "display_name": "venv",
   "language": "python",
   "name": "python3"
  },
  "language_info": {
   "codemirror_mode": {
    "name": "ipython",
    "version": 3
   },
   "file_extension": ".py",
   "mimetype": "text/x-python",
   "name": "python",
   "nbconvert_exporter": "python",
   "pygments_lexer": "ipython3",
   "version": "3.10.0"
  }
 },
 "nbformat": 4,
 "nbformat_minor": 2
}
