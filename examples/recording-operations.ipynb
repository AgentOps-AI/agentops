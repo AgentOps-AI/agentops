{
 "cells": [
  {
   "cell_type": "markdown",
   "id": "dc8cfd2cfa8a594b",
   "metadata": {
    "collapsed": false
   },
   "source": [
    "# Recording Operations with Spans\n",
    "AgentOps v0.4 uses spans to track different types of operations in your agent workflows.\n",
    "\n",
    "We automatically instrument your LLM Calls from OpenAI, Anthropic, OpenAi Agents, and more. Just make sure their SDKs are imported before initializing AgentOps like we see below."
   ]
  },
  {
   "cell_type": "markdown",
   "id": "0c475b2e",
   "metadata": {},
   "source": [
    "First let's install the required packages"
   ]
  },
  {
   "cell_type": "code",
   "execution_count": null,
   "id": "ef2a575d",
   "metadata": {},
   "outputs": [],
   "source": [
    "%pip install -U openai\n",
    "%pip install -U agentops\n",
    "%pip install -U python-dotenv"
   ]
  },
  {
   "cell_type": "markdown",
   "id": "45f3c28f",
   "metadata": {},
   "source": [
    "Then import them"
   ]
  },
  {
   "cell_type": "code",
   "execution_count": null,
   "id": "54b0b276",
   "metadata": {},
   "outputs": [],
   "source": [
    "from openai import OpenAI\n",
    "import agentops\n",
    "from agentops.sdk.decorators import session, agent, operation\n",
    "import os\n",
    "from dotenv import load_dotenv"
   ]
  },
  {
   "cell_type": "markdown",
   "id": "985ed1da",
   "metadata": {},
   "source": [
    "Next, we'll set our API keys. There are several ways to do this, the code below is just the most foolproof way for the purposes of this notebook. It accounts for both users who use environment variables and those who just want to set the API Key here in this notebook.\n",
    "\n",
    "[Get an AgentOps API key](https://agentops.ai/settings/projects)\n",
    "\n",
    "1. Create an environment variable in a .env file or other method. By default, the AgentOps `init()` function will look for an environment variable named `AGENTOPS_API_KEY`. Or...\n",
    "\n",
    "2. Replace `<your_agentops_key>` below and pass in the optional `api_key` parameter to the AgentOps `init(api_key=...)` function. Remember not to commit your API key to a public repo!"
   ]
  },
  {
   "cell_type": "code",
   "execution_count": null,
   "id": "0c3f4b1a",
   "metadata": {},
   "outputs": [],
   "source": [
    "load_dotenv()\n",
    "OPENAI_API_KEY = os.getenv(\"OPENAI_API_KEY\") or \"<your_openai_key>\"\n",
    "AGENTOPS_API_KEY = os.getenv(\"AGENTOPS_API_KEY\") or \"<your_agentops_key>\""
   ]
  },
  {
   "cell_type": "code",
   "execution_count": null,
   "id": "168ecd05cc123de0",
   "metadata": {
    "collapsed": false
   },
   "outputs": [],
   "source": [
    "# Initialize the client\n",
    "agentops.init()\n",
    "\n",
    "# Optionally, we can add default tags to all sessions\n",
    "# agentops.init(tags=['Hello Tracker'])\n",
    "\n",
    "openai_client = OpenAI()\n",
    "\n",
    "# Create a session to track all operations\n",
    "@session\n",
    "def my_session():\n",
    "    messages = [{\"role\": \"user\", \"content\": \"Hello\"}]\n",
    "    response = openai_client.chat.completions.create(\n",
    "        model=\"gpt-3.5-turbo\", messages=messages, temperature=0.5\n",
    "    )\n",
    "    print(response.choices[0].message.content)\n",
    "    \n",
    "    # Call our operation\n",
    "    result = add(2, 4)\n",
    "    print(f\"Addition result: {result}\")\n",
    "    \n",
    "    # Call our agent\n",
    "    agent = MyAgent()\n",
    "    agent.process_data(\"test data\")\n",
    "    \n",
    "# Run the session\n",
    "my_session()"
   ]
  },
  {
   "cell_type": "markdown",
   "id": "c6d06ee8c66dad17",
   "metadata": {
    "collapsed": false
   },
   "source": [
    "Click the AgentOps link above to see your session!\n",
    "## Operations\n",
    "AgentOps allows you to record operations using the `@operation` decorator:"
   ]
  },
  {
   "cell_type": "code",
   "execution_count": null,
   "id": "b460318317adc624",
   "metadata": {
    "collapsed": false
   },
   "outputs": [],
   "source": [
    "from agentops.sdk.decorators import operation\n",
    "\n",
    "@operation\n",
    "def add(x, y):\n",
    "    return x + y"
   ]
  },
  {
   "cell_type": "markdown",
   "id": "9068a4cdd328f652",
   "metadata": {
    "collapsed": false
   },
   "source": [
    "## Agents\n",
    "You can create agent spans that contain operations using the `@agent` decorator:"
   ]
  },
  {
   "cell_type": "code",
   "execution_count": null,
   "id": "b62ad88921ff26f2",
   "metadata": {
    "collapsed": false
   },
   "outputs": [],
   "source": [
    "from agentops.sdk.decorators import agent, operation\n",
    "\n",
    "@agent\n",
    "class MyAgent:\n",
    "    @operation\n",
    "    def process_data(self, data):\n",
    "        print(f\"Processing data: {data}\")\n",
    "        return f\"Processed: {data.upper()}\""
   ]
  },
  {
   "cell_type": "markdown",
   "id": "f7c947d815f581e7",
   "metadata": {
    "collapsed": false
   },
   "source": [
    "## Error Handling\n",
    "Errors are automatically captured by the spans. When an exception occurs within a decorated function, it's recorded in the span:"
   ]
  },
  {
   "cell_type": "code",
   "execution_count": null,
   "id": "5d387a071a1c70cf",
   "metadata": {
    "collapsed": false
   },
   "outputs": [],
   "source": [
    "from agentops.sdk.decorators import operation\n",
    "\n",
    "@operation\n",
    "def risky_operation():\n",
    "    # This exception will be recorded in the span\n",
    "    try:\n",
    "        1 / 0  # Ooops! Something went wrong\n",
    "    except Exception as e:\n",
    "        print(f\"Error occurred: {e}\")\n",
    "        raise\n",
    "\n",
    "# Create a session that includes the error\n",
    "@session\n",
    "def error_session():\n",
    "    try:\n",
    "        risky_operation()\n",
    "    except Exception:\n",
    "        print(\"Caught the error, but it's still recorded in the span\")\n",
    "\n",
    "# Run the error session\n",
    "error_session()"
   ]
  },
  {
   "cell_type": "markdown",
   "id": "968d1503dd0aae9a",
   "metadata": {
    "collapsed": false
   },
   "source": [
    "## Custom Span Attributes\n",
    "You can add custom attributes to spans for additional context:"
   ]
  },
  {
   "cell_type": "code",
   "execution_count": null,
   "id": "eb23c1325298e22f",
   "metadata": {
    "collapsed": false
   },
   "outputs": [],
   "source": [
    "from agentops.sdk.decorators import operation\n",
    "\n",
    "@operation(name=\"custom-operation\")\n",
    "def custom_operation(data):\n",
    "    # Your operation logic here\n",
    "    return f\"Custom: {data}\"\n",
    "\n",
    "# Create a session with custom operation\n",
    "@session(name=\"custom-session\")\n",
    "def custom_session():\n",
    "    result = custom_operation(\"test\")\n",
    "    print(result)\n",
    "\n",
    "# Run the custom session\n",
    "custom_session()"
   ]
  }
 ],
 "metadata": {
  "kernelspec": {
   "display_name": "Python 3",
   "language": "python",
   "name": "python3"
  },
  "language_info": {
   "codemirror_mode": {
    "name": "ipython",
    "version": 3
   },
   "file_extension": ".py",
   "mimetype": "text/x-python",
   "name": "python",
   "nbconvert_exporter": "python",
   "pygments_lexer": "ipython3",
   "version": "3.11.5"
  }
 },
 "nbformat": 4,
 "nbformat_minor": 5
}
