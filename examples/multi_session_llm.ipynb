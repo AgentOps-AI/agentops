{
 "cells": [
  {
   "cell_type": "markdown",
   "id": "a0fe80a38dec2f7b",
   "metadata": {
    "collapsed": false
   },
   "source": [
    "# Multiple Concurrent Sessions\n",
    "This example will show you how to run multiple sessions concurrently, assigning LLM cals to a specific session."
   ]
  },
  {
   "cell_type": "markdown",
   "id": "ef25b661",
   "metadata": {},
   "source": [
    "First let's install the required packages"
   ]
  },
  {
   "cell_type": "code",
   "execution_count": null,
   "id": "f507526f",
   "metadata": {},
   "outputs": [],
   "source": [
    "%pip install -U openai\n",
    "%pip install -U agentops\n",
    "%pip install -U python-dotenv"
   ]
  },
  {
   "cell_type": "markdown",
   "id": "b6abd496",
   "metadata": {},
   "source": [
    "Then import them"
   ]
  },
  {
   "cell_type": "code",
   "execution_count": null,
   "id": "initial_id",
   "metadata": {
    "collapsed": true
   },
   "outputs": [],
   "source": [
    "from openai import OpenAI\n",
    "import agentops\n",
    "from agentops import ActionEvent\n",
    "import os\n",
    "from dotenv import load_dotenv"
   ]
  },
  {
   "cell_type": "markdown",
   "id": "c1da7e59",
   "metadata": {},
   "source": [
    "Next, we'll set our API keys. There are several ways to do this, the code below is just the most foolproof way for the purposes of this notebook. It accounts for both users who use environment variables and those who just want to set the API Key here in this notebook.\n",
    "\n",
    "[Get an AgentOps API key](https://agentops.ai/settings/projects)\n",
    "\n",
    "1. Create an environment variable in a .env file or other method. By default, the AgentOps `init()` function will look for an environment variable named `AGENTOPS_API_KEY`. Or...\n",
    "\n",
    "2. Replace `<your_agentops_key>` below and pass in the optional `api_key` parameter to the AgentOps `init(api_key=...)` function. Remember not to commit your API key to a public repo!"
   ]
  },
  {
   "cell_type": "code",
   "execution_count": null,
   "id": "8325866b",
   "metadata": {},
   "outputs": [],
   "source": [
    "load_dotenv()\n",
    "OPENAI_API_KEY = os.getenv(\"OPENAI_API_KEY\") or \"<your_openai_key>\"\n",
    "AGENTOPS_API_KEY = os.getenv(\"AGENTOPS_API_KEY\") or \"<your_agentops_key>\""
   ]
  },
  {
   "cell_type": "markdown",
   "id": "da9cf64965c86ee9",
   "metadata": {
    "collapsed": false
   },
   "source": [
    "Then, of course, lets init AgentOps. We're going to bypass creating a session automatically for the sake of showing it below."
   ]
  },
  {
   "cell_type": "code",
   "execution_count": null,
   "id": "39af2cd027ce268",
   "metadata": {
    "collapsed": false
   },
   "outputs": [],
   "source": [
    "agentops.init(AGENTOPS_API_KEY, auto_start_session=False)\n",
    "openai = OpenAI()"
   ]
  },
  {
   "cell_type": "markdown",
   "id": "9501d298aec35510",
   "metadata": {
    "collapsed": false
   },
   "source": [
    "Now lets create two sessions, each with an identifiable tag."
   ]
  },
  {
   "cell_type": "code",
   "execution_count": null,
   "id": "4f24d06dd29579ff",
   "metadata": {
    "collapsed": false
   },
   "outputs": [],
   "source": [
    "session_1 = agentops.start_session(tags=[\"multi-session-test-1\"])\n",
    "session_2 = agentops.start_session(tags=[\"multi-session-test-2\"])\n",
    "\n",
    "print(\"session_id_1: {}\".format(session_1.session_id))\n",
    "print(\"session_id_2: {}\".format(session_2.session_id))"
   ]
  },
  {
   "cell_type": "markdown",
   "id": "38f373b7a8878a68",
   "metadata": {
    "collapsed": false
   },
   "source": [
    "## LLM Calls\n",
    "Now lets go ahead and make our first OpenAI LLM call. The challenge with having multiple sessions at the same time is that there is no way for AgentOps to know what LLM call is intended to pertain to what active session. This means we need to do a little extra work in one of two ways."
   ]
  },
  {
   "cell_type": "code",
   "execution_count": null,
   "id": "8a2d65f5fcdb137",
   "metadata": {
    "collapsed": false
   },
   "outputs": [],
   "source": [
    "messages = [{\"role\": \"user\", \"content\": \"Hello\"}]"
   ]
  },
  {
   "cell_type": "markdown",
   "id": "e1859e37b65669b2",
   "metadata": {
    "collapsed": false
   },
   "source": [
    "### Patching Function\n",
    "This method involves wrapping the LLM call withing a function on session. It can look a little counter-intuitive, but it easily tells us what session the call belongs to."
   ]
  },
  {
   "cell_type": "code",
   "execution_count": null,
   "id": "106a1c899602bd33",
   "metadata": {
    "collapsed": false
   },
   "outputs": [],
   "source": [
    "# option 1: use session.patch\n",
    "response = session_1.patch(openai.chat.completions.create)(\n",
    "    model=\"gpt-3.5-turbo\",\n",
    "    messages=messages,\n",
    "    temperature=0.5,\n",
    ")"
   ]
  },
  {
   "cell_type": "markdown",
   "id": "3e129661929e8368",
   "metadata": {
    "collapsed": false
   },
   "source": [
    "### Create patched function\n",
    "If you're using the create function multiple times, you can create a new function with the same method"
   ]
  },
  {
   "cell_type": "code",
   "execution_count": null,
   "id": "be3b866ee04ef767",
   "metadata": {
    "collapsed": false
   },
   "outputs": [],
   "source": [
    "observed_create = session_1.patch(openai.chat.completions.create)\n",
    "obs_response = observed_create(\n",
    "    model=\"gpt-3.5-turbo\",\n",
    "    messages=messages,\n",
    "    temperature=0.5,\n",
    ")"
   ]
  },
  {
   "cell_type": "markdown",
   "id": "ec03dbfb7a185d1d",
   "metadata": {
    "collapsed": false
   },
   "source": [
    "### Keyword Argument\n",
    "Alternatively, you can also pass the session into the LLM function call as a keyword argument. While this method works and is a bit more readable, it is not a \"pythonic\" pattern and can lead to linting errors in the code, as the base function is not expecting a `session` keyword."
   ]
  },
  {
   "cell_type": "code",
   "execution_count": null,
   "id": "4ad4c7629509b4be",
   "metadata": {
    "collapsed": false
   },
   "outputs": [],
   "source": [
    "# option 2: add session as a keyword argument\n",
    "response2 = openai.chat.completions.create(\n",
    "    model=\"gpt-3.5-turbo\", messages=messages, temperature=0.5, session=session_2\n",
    ")"
   ]
  },
  {
   "cell_type": "markdown",
   "id": "e6de84850aa2e135",
   "metadata": {
    "collapsed": false
   },
   "source": [
    "## Recording Events\n",
    "Outside of LLM calls, there are plenty of other events that we want to track. You can learn more about these events [here](https://docs.agentops.ai/v1/concepts/events).\n",
    "\n",
    "Recording these events on a session is as simple as `session.record(...)`"
   ]
  },
  {
   "cell_type": "code",
   "execution_count": null,
   "id": "964e3073bac33223",
   "metadata": {
    "collapsed": false
   },
   "outputs": [],
   "source": [
    "session_1.record(ActionEvent(action_type=\"test event\"))"
   ]
  },
  {
   "cell_type": "markdown",
   "id": "43ac0b9b99eab5c7",
   "metadata": {
    "collapsed": false
   },
   "source": [
    "Now let's go ahead and end the sessions"
   ]
  },
  {
   "cell_type": "code",
   "execution_count": null,
   "id": "7e3050abcb72421b",
   "metadata": {
    "collapsed": false
   },
   "outputs": [],
   "source": [
    "session_1.end_session(end_state=\"Success\")\n",
    "session_2.end_session(end_state=\"Success\")"
   ]
  },
  {
   "cell_type": "markdown",
   "id": "53ea2b8dfee6270a",
   "metadata": {
    "collapsed": false
   },
   "source": [
    "If you look in the AgentOps dashboard for these sessions, you will see two unique sessions, both with one LLM Event each, one with an Action Event as well."
   ]
  },
  {
   "cell_type": "markdown",
   "id": "dbc7483434f8c147",
   "metadata": {
    "collapsed": false
   },
   "source": []
  }
 ],
 "metadata": {
  "kernelspec": {
   "display_name": "Python 3",
   "language": "python",
   "name": "python3"
  },
  "language_info": {
   "codemirror_mode": {
    "name": "ipython",
    "version": 2
   },
   "file_extension": ".py",
   "mimetype": "text/x-python",
   "name": "python",
   "nbconvert_exporter": "python",
   "pygments_lexer": "ipython2",
   "version": "2.7.6"
  }
 },
 "nbformat": 4,
 "nbformat_minor": 5
}
