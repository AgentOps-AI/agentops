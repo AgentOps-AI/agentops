{
 "cells": [
  {
   "cell_type": "markdown",
   "id": "dc8cfd2cfa8a594b",
   "metadata": {
    "collapsed": false
   },
   "source": [
    "# Recording Events\n",
    "AgentOps has a number of different [Event Types](https://docs.agentops.ai/v1/details/events)\n",
    "\n",
    "We automatically instrument your LLM Calls from OpenAI, LiteLLM, Cohere, and more. Just make sure their SDKs are imported before initializing AgentOps like we see below"
   ]
  },
  {
   "cell_type": "markdown",
   "id": "0c475b2e",
   "metadata": {},
   "source": [
    "First let's install the required packages"
   ]
  },
  {
   "cell_type": "code",
   "execution_count": null,
   "id": "ef2a575d",
   "metadata": {},
   "outputs": [],
   "source": [
    "%pip install -U openai\n",
    "%pip install -U agentops\n",
    "%pip install -U python-dotenv"
   ]
  },
  {
   "cell_type": "markdown",
   "id": "45f3c28f",
   "metadata": {},
   "source": [
    "Then import them"
   ]
  },
  {
   "cell_type": "code",
   "execution_count": null,
   "id": "54b0b276",
   "metadata": {},
   "outputs": [],
   "source": [
    "from openai import OpenAI\n",
    "import agentops\n",
    "import os\n",
    "from dotenv import load_dotenv"
   ]
  },
  {
   "cell_type": "markdown",
   "id": "985ed1da",
   "metadata": {},
   "source": [
    "Next, we'll set our API keys. There are several ways to do this, the code below is just the most foolproof way for the purposes of this notebook. It accounts for both users who use environment variables and those who just want to set the API Key here in this notebook.\n",
    "\n",
    "[Get an AgentOps API key](https://agentops.ai/settings/projects)\n",
    "\n",
    "1. Create an environment variable in a .env file or other method. By default, the AgentOps `init()` function will look for an environment variable named `AGENTOPS_API_KEY`. Or...\n",
    "\n",
    "2. Replace `<your_agentops_key>` below and pass in the optional `api_key` parameter to the AgentOps `init(api_key=...)` function. Remember not to commit your API key to a public repo!"
   ]
  },
  {
   "cell_type": "code",
   "execution_count": null,
   "id": "0c3f4b1a",
   "metadata": {},
   "outputs": [],
   "source": [
    "load_dotenv()\n",
    "OPENAI_API_KEY = os.getenv(\"OPENAI_API_KEY\") or \"<your_openai_key>\"\n",
    "AGENTOPS_API_KEY = os.getenv(\"AGENTOPS_API_KEY\") or \"<your_agentops_key>\""
   ]
  },
  {
   "cell_type": "code",
   "execution_count": null,
   "id": "168ecd05cc123de0",
   "metadata": {
    "collapsed": false
   },
   "outputs": [],
   "source": [
    "# Initialize the client, which will automatically start a session\n",
    "agentops.init()\n",
    "\n",
    "# Optionally, we can add default tags to all sessions\n",
    "# agentops.init(default_tags=['Hello Tracker'])\n",
    "\n",
    "openai = OpenAI()\n",
    "\n",
    "messages = [{\"role\": \"user\", \"content\": \"Hello\"}]\n",
    "response = openai.chat.completions.create(\n",
    "    model=\"gpt-3.5-turbo\", messages=messages, temperature=0.5\n",
    ")\n",
    "print(response.choices[0].message.content)"
   ]
  },
  {
   "cell_type": "markdown",
   "id": "95a6047d",
   "metadata": {},
   "source": [
    "Click the AgentOps link above to see your session!"
   ]
  },
  {
   "cell_type": "markdown",
   "id": "c6d06ee8c66dad17",
   "metadata": {
    "collapsed": false
   },
   "source": [
    "## Action Event\n",
    "\n",
    "AgentOps allows you to record other actions. The easiest way to record actions is through the use of AgentOps' decorators"
   ]
  },
  {
   "cell_type": "code",
   "execution_count": null,
   "id": "b460318317adc624",
   "metadata": {
    "collapsed": false
   },
   "outputs": [],
   "source": [
    "from agentops import record_action\n",
    "\n",
    "\n",
    "@record_action(\"add numbers\")\n",
    "def add(x, y):\n",
    "    return x + y\n",
    "\n",
    "\n",
    "add(2, 4)"
   ]
  },
  {
   "cell_type": "markdown",
   "id": "9068a4cdd328f652",
   "metadata": {
    "collapsed": false
   },
   "source": [
    "We can also manually craft an event exactly the way we want by creating and recording an `ActionEvent`"
   ]
  },
  {
   "cell_type": "code",
   "execution_count": null,
   "id": "b62ad88921ff26f2",
   "metadata": {
    "collapsed": false
   },
   "outputs": [],
   "source": [
    "from agentops import ActionEvent\n",
    "\n",
    "agentops.record(\n",
    "    ActionEvent(\n",
    "        action_type=\"Agent says hello\", params={\"message\": \"Hi\"}, returns=\"Hi Back!\"\n",
    "    )\n",
    ")"
   ]
  },
  {
   "cell_type": "markdown",
   "id": "f7c947d815f581e7",
   "metadata": {
    "collapsed": false
   },
   "source": [
    "## Tool Event\n",
    "Agents use tools. These tools are useful to track with information such as name, end status, runtime, etc. To record tool usage, you can create and record a `ToolEvent` similar to above."
   ]
  },
  {
   "cell_type": "code",
   "execution_count": null,
   "id": "5d387a071a1c70cf",
   "metadata": {
    "collapsed": false
   },
   "outputs": [],
   "source": [
    "from agentops import ToolEvent, record\n",
    "\n",
    "\n",
    "def scrape_website(url: str):\n",
    "    tool_event = ToolEvent(\n",
    "        name=\"scrape_website\", params={\"url\": url}\n",
    "    )  # the start timestamp is set when the obj is created\n",
    "    result = \"scraped data\"  # perform tool logic\n",
    "    tool_event.returns = result\n",
    "    record(tool_event)"
   ]
  },
  {
   "cell_type": "markdown",
   "id": "968d1503dd0aae9a",
   "metadata": {
    "collapsed": false
   },
   "source": [
    "## Error Events\n",
    "Error events can be used alone or in reference to another event. Lets add a catch block to the code above"
   ]
  },
  {
   "cell_type": "code",
   "execution_count": null,
   "id": "eb23c1325298e22f",
   "metadata": {
    "collapsed": false
   },
   "outputs": [],
   "source": [
    "from agentops import ToolEvent, record, ErrorEvent\n",
    "\n",
    "\n",
    "def scrape_website(url: str):\n",
    "    tool_event = ToolEvent(\n",
    "        name=\"scrape_website\", params={\"url\": url}\n",
    "    )  # the start timestamp is set when the obj is created\n",
    "\n",
    "    try:\n",
    "        1 / 0  # Ooops! Something went wrong\n",
    "    except Exception as e:\n",
    "        record(ErrorEvent(exception=e, trigger_event=tool_event))\n",
    "\n",
    "\n",
    "scrape_website(\"https://app.agentops.ai\")\n",
    "\n",
    "agentops.end_session(\"Success\")"
   ]
  }
 ],
 "metadata": {
  "kernelspec": {
   "display_name": "Python 3",
   "language": "python",
   "name": "python3"
  },
  "language_info": {
   "codemirror_mode": {
    "name": "ipython",
    "version": 3
   },
   "file_extension": ".py",
   "mimetype": "text/x-python",
   "name": "python",
   "nbconvert_exporter": "python",
   "pygments_lexer": "ipython3",
   "version": "3.11.5"
  }
 },
 "nbformat": 4,
 "nbformat_minor": 5
}
