{
 "cells": [
  {
   "cell_type": "markdown",
   "id": "dc8cfd2cfa8a594b",
   "metadata": {
    "collapsed": false
   },
   "source": [
    "# Recording Events\n",
    "AgentOps has a number of different [Event Types](https://docs.agentops.ai/v1/details/events)\n",
    "\n",
    "AgentOps automatically instruments your LLM Calls from OpenAI, LiteLLM, and Cohere. Just make sure their SDKs are imported before initializing AgentOps like we see below"
   ]
  },
  {
   "cell_type": "code",
   "execution_count": null,
   "id": "168ecd05cc123de0",
   "metadata": {
    "collapsed": false,
    "is_executing": true
   },
   "outputs": [],
   "source": [
    "import agentops\n",
    "import openai\n",
    "\n",
    "# Create new session\n",
    "agentops.init()\n",
    "\n",
    "# Optionally, we can add tags to the session\n",
    "# agentops.init(tags=['Hello Tracker'])\n",
    "\n",
    "message = {\"role\": \"user\", \"content\": \"Hello\"},\n",
    "response = openai.chat.completions.create(\n",
    "    model='gpt-3.5-turbo', messages=message, temperature=0.5)"
   ]
  },
  {
   "cell_type": "markdown",
   "id": "95a6047d",
   "metadata": {},
   "source": [
    "Click the AgentOps link above to see your session!"
   ]
  },
  {
   "cell_type": "markdown",
   "id": "c6d06ee8c66dad17",
   "metadata": {
    "collapsed": false
   },
   "source": [
    "## Action Event\n",
    "\n",
    "AgentOps allows you to record other actions. The easiest way to record actions is through the use of AgentOp's decorators"
   ]
  },
  {
   "cell_type": "code",
   "execution_count": null,
   "id": "b460318317adc624",
   "metadata": {
    "collapsed": false
   },
   "outputs": [],
   "source": [
    "from agentops import record_function\n",
    "\n",
    "@record_function(\"add numbers\")\n",
    "def add(x, y):\n",
    "    return x + y\n",
    "\n",
    "add(2,4)"
   ]
  },
  {
   "cell_type": "markdown",
   "id": "9068a4cdd328f652",
   "metadata": {
    "collapsed": false
   },
   "source": [
    "We can also manually craft an event exactly the way we want by creating and recording an `ActionEvent`"
   ]
  },
  {
   "cell_type": "code",
   "execution_count": null,
   "id": "b62ad88921ff26f2",
   "metadata": {
    "collapsed": false
   },
   "outputs": [],
   "source": [
    "from agentops import ActionEvent\n",
    "\n",
    "agentops.record(ActionEvent(action_type=\"Agent says hello\", params={\"message\": \"Hi\"}, returns=\"Hi Back!\" ))"
   ]
  },
  {
   "cell_type": "markdown",
   "id": "f7c947d815f581e7",
   "metadata": {
    "collapsed": false
   },
   "source": [
    "## Tool Event\n",
    "Agents use tools. These tools are useful to track with information such as name, end status, runtime, etc. To record tool usage, you can create and record a `ToolEvent` similar to above."
   ]
  },
  {
   "cell_type": "code",
   "execution_count": null,
   "id": "5d387a071a1c70cf",
   "metadata": {
    "collapsed": false
   },
   "outputs": [],
   "source": [
    "from agentops import ToolEvent, record\n",
    "def scrape_website(url: str):\n",
    "    tool_event = ToolEvent(name='scrape_website', params={'url':url}) # the start timestamp is set when the obj is created\n",
    "    result = integration.scrape_website(data) # perform tool logic\n",
    "    tool_event.returns = result\n",
    "    record(tool_event)"
   ]
  },
  {
   "cell_type": "markdown",
   "id": "968d1503dd0aae9a",
   "metadata": {
    "collapsed": false
   },
   "source": [
    "## Error Events\n",
    "Error events can be used alone or in reference to another event. Lets add a catch block to the code above"
   ]
  },
  {
   "cell_type": "code",
   "execution_count": null,
   "id": "eb23c1325298e22f",
   "metadata": {
    "collapsed": false
   },
   "outputs": [],
   "source": [
    "from agentops import ToolEvent, record, ErrorEvent\n",
    "\n",
    "def scrape_website(url: str):\n",
    "    tool_event = ToolEvent(name='scrape_website', params={'url':url}) # the start timestamp is set when the obj is created\n",
    "\n",
    "    try:\n",
    "        1 / 0 # Ooops! Something went wrong\n",
    "    except Exception as e:\n",
    "        record(ErrorEvent(exception=e, trigger_event=tool_event))\n",
    "\n",
    "scrape_website('https://app.agentops.ai') \n",
    "\n",
    "agentops.end_session('Success')"
   ]
  }
 ],
 "metadata": {
  "kernelspec": {
   "display_name": "Python 3",
   "language": "python",
   "name": "python3"
  },
  "language_info": {
   "codemirror_mode": {
    "name": "ipython",
    "version": 3
   },
   "file_extension": ".py",
   "mimetype": "text/x-python",
   "name": "python",
   "nbconvert_exporter": "python",
   "pygments_lexer": "ipython3",
   "version": "3.12.3"
  }
 },
 "nbformat": 4,
 "nbformat_minor": 5
}
