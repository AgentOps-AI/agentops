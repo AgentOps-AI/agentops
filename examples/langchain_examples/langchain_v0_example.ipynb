{
 "cells": [
  {
   "cell_type": "markdown",
   "id": "97a1a264a71876",
   "metadata": {
    "collapsed": false
   },
   "source": [
    "# AgentOps Langchain Agent Implementation"
   ]
  },
  {
   "cell_type": "code",
   "execution_count": null,
   "id": "decac159bb492462",
   "metadata": {},
   "outputs": [],
   "source": [
    "%pip install langchain==0.1.6\n",
    "%pip install agentops"
   ]
  },
  {
   "cell_type": "code",
   "execution_count": null,
   "id": "initial_id",
   "metadata": {},
   "outputs": [],
   "source": [
    "import os\n",
    "from langchain_openai import ChatOpenAI\n",
    "from langchain.agents import initialize_agent, AgentType\n",
    "from langchain.agents import tool"
   ]
  },
  {
   "cell_type": "markdown",
   "id": "57ddb8eca4e8a3cb",
   "metadata": {},
   "source": [
    "The only difference with using AgentOps is that we'll also import this special Callback Handler"
   ]
  },
  {
   "cell_type": "code",
   "execution_count": null,
   "id": "7e8f8cd098ad5b57",
   "metadata": {},
   "outputs": [],
   "source": [
    "from agentops.partners.langchain_callback_handler import (\n",
    "    LangchainCallbackHandler as AgentOpsLangchainCallbackHandler,\n",
    ")"
   ]
  },
  {
   "cell_type": "markdown",
   "id": "14a1b8e08a2e9eb3",
   "metadata": {},
   "source": [
    "Next, we'll grab our two API keys."
   ]
  },
  {
   "cell_type": "code",
   "execution_count": null,
   "id": "ff6cfc570599871f",
   "metadata": {},
   "outputs": [],
   "source": [
    "from dotenv import load_dotenv\n",
    "\n",
    "load_dotenv()"
   ]
  },
  {
   "cell_type": "markdown",
   "id": "51f083697b783fa4",
   "metadata": {},
   "source": [
    "This is where AgentOps comes into play. Before creating our LLM instance via Langchain, first we'll create an instance of the AO LangchainCallbackHandler. After the handler is initialized, a session will be recorded automatically.\n",
    "\n",
    "Pass in your API key, and optionally any tags to describe this session for easier lookup in the AO dashboard."
   ]
  },
  {
   "cell_type": "code",
   "execution_count": null,
   "id": "d432fe915edb6365",
   "metadata": {},
   "outputs": [],
   "source": [
    "AGENTOPS_API_KEY = os.environ.get(\"AGENTOPS_API_KEY\")\n",
    "OPENAI_API_KEY = os.environ.get(\"OPENAI_API_KEY\")\n",
    "\n",
    "agentops_handler = AgentOpsLangchainCallbackHandler(\n",
    "    api_key=AGENTOPS_API_KEY, default_tags=[\"Langchain Example\"]\n",
    ")\n",
    "\n",
    "llm = ChatOpenAI(\n",
    "    openai_api_key=OPENAI_API_KEY, callbacks=[agentops_handler], model=\"gpt-3.5-turbo\"\n",
    ")"
   ]
  },
  {
   "cell_type": "markdown",
   "id": "38d309f07363b58e",
   "metadata": {},
   "source": [
    "You can also retrieve the `session_id` of the newly created session."
   ]
  },
  {
   "cell_type": "code",
   "execution_count": null,
   "id": "f7e3a37cde3f9c22",
   "metadata": {},
   "outputs": [],
   "source": [
    "print(\"Agent Ops session ID: \" + str(agentops_handler.current_session_ids))"
   ]
  },
  {
   "cell_type": "markdown",
   "id": "42f226ace56ef6f5",
   "metadata": {},
   "source": [
    "Agents generally use tools. Let's define a simple tool here. Tool usage is also recorded."
   ]
  },
  {
   "cell_type": "code",
   "execution_count": null,
   "id": "c103a2edbe837abd",
   "metadata": {},
   "outputs": [],
   "source": [
    "@tool\n",
    "def find_movie(genre) -> str:\n",
    "    \"\"\"Find available movies\"\"\"\n",
    "    if genre == \"drama\":\n",
    "        return \"Dune 2\"\n",
    "    else:\n",
    "        return \"Pineapple Express\"\n",
    "\n",
    "\n",
    "tools = [find_movie]"
   ]
  },
  {
   "cell_type": "markdown",
   "id": "4fb7633857b19bf0",
   "metadata": {},
   "source": [
    "For each tool, you need to also add the callback handler"
   ]
  },
  {
   "cell_type": "code",
   "execution_count": null,
   "id": "a0345f08bf1c5ecd",
   "metadata": {},
   "outputs": [],
   "source": [
    "for t in tools:\n",
    "    t.callbacks = [agentops_handler]"
   ]
  },
  {
   "cell_type": "markdown",
   "id": "12a02b833716676b",
   "metadata": {},
   "source": [
    "Finally, let's use our agent! Pass in the callback handler to the agent, and all the actions will be recorded in the AO Dashboard"
   ]
  },
  {
   "cell_type": "code",
   "execution_count": null,
   "id": "2d2e83fa69b30add",
   "metadata": {},
   "outputs": [],
   "source": [
    "agent = initialize_agent(\n",
    "    tools,\n",
    "    llm,\n",
    "    agent=AgentType.CHAT_ZERO_SHOT_REACT_DESCRIPTION,\n",
    "    verbose=True,\n",
    "    callbacks=[\n",
    "        agentops_handler\n",
    "    ],  # You must pass in a callback handler to record your agent\n",
    "    handle_parsing_errors=True,\n",
    ")"
   ]
  },
  {
   "cell_type": "code",
   "execution_count": null,
   "id": "df2bc3a384493e1e",
   "metadata": {},
   "outputs": [],
   "source": [
    "agent.invoke(\"What comedies are playing?\", callbacks=[agentops_handler])"
   ]
  },
  {
   "cell_type": "markdown",
   "id": "2230edd919182a55",
   "metadata": {},
   "source": [
    "## Check your session\n",
    "Finally, check your run on [AgentOps](https://app.agentops.ai)"
   ]
  }
 ],
 "metadata": {
  "kernelspec": {
   "display_name": "Python 3 (ipykernel)",
   "language": "python",
   "name": "python3"
  },
  "language_info": {
   "codemirror_mode": {
    "name": "ipython",
    "version": 3
   },
   "file_extension": ".py",
   "mimetype": "text/x-python",
   "name": "python",
   "nbconvert_exporter": "python",
   "pygments_lexer": "ipython3",
   "version": "3.10.15"
  }
 },
 "nbformat": 4,
 "nbformat_minor": 5
}
