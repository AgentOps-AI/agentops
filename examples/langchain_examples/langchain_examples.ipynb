{
 "cells": [
  {
   "cell_type": "markdown",
   "id": "e0deea1ab1db2a19",
   "metadata": {},
   "source": [
    "# AgentOps Langchain Agent Implementation\n",
    "\n",
    "Using AgentOps monitoring with Langchain is simple. We've created a LangchainCallbackHandler that will do all of the heavy lifting!\n",
    "\n",
    "First let's install the required packages"
   ]
  },
  {
   "cell_type": "code",
   "execution_count": null,
   "id": "8e3d38adc7861277",
   "metadata": {
    "ExecuteTime": {
     "end_time": "2024-08-08T00:29:29.288644Z",
     "start_time": "2024-08-08T00:29:29.026314Z"
    }
   },
   "outputs": [],
   "source": [
    "%pip install langchain==0.2.9\n",
    "%pip install langchain_openai\n",
    "%pip install -U agentops\n",
    "%pip install -U python-dotenv"
   ]
  },
  {
   "cell_type": "markdown",
   "id": "effc8ee7453a6c3",
   "metadata": {},
   "source": [
    "Then import them"
   ]
  },
  {
   "cell_type": "code",
   "execution_count": null,
   "id": "d344305baa26d651",
   "metadata": {
    "ExecuteTime": {
     "end_time": "2024-08-08T00:29:30.052348Z",
     "start_time": "2024-08-08T00:29:29.289841Z"
    },
    "collapsed": false
   },
   "outputs": [],
   "source": [
    "import os\n",
    "from langchain_openai import ChatOpenAI\n",
    "from langchain.agents import tool, AgentExecutor, create_openai_tools_agent\n",
    "from dotenv import load_dotenv\n",
    "from langchain_core.prompts import ChatPromptTemplate"
   ]
  },
  {
   "cell_type": "markdown",
   "id": "3584d84a441169b0",
   "metadata": {
    "collapsed": false
   },
   "source": [
    "The only difference with using AgentOps is that we'll also import this special Callback Handler"
   ]
  },
  {
   "cell_type": "code",
   "execution_count": null,
   "id": "256f01cac66d7d90",
   "metadata": {
    "ExecuteTime": {
     "end_time": "2024-08-08T00:29:30.058535Z",
     "start_time": "2024-08-08T00:29:30.054497Z"
    },
    "collapsed": false
   },
   "outputs": [],
   "source": [
    "from agentops.partners.langchain_callback_handler import (\n",
    "    LangchainCallbackHandler as AgentOpsLangchainCallbackHandler,\n",
    ")"
   ]
  },
  {
   "cell_type": "markdown",
   "id": "afab0f7bbd847916",
   "metadata": {
    "collapsed": false
   },
   "source": [
    "Next, we'll set our API keys. There are several ways to do this, the code below is just the most foolproof way for the purposes of this notebook. It accounts for both users who use environment variables and those who just want to set the API Key here in this notebook.\n",
    "\n",
    "[Get an AgentOps API key](https://agentops.ai/settings/projects)\n",
    "\n",
    "1. Create an environment variable in a .env file or other method. By default, the AgentOps `init()` function will look for an environment variable named `AGENTOPS_API_KEY`. Or...\n",
    "\n",
    "2. Replace `<your_agentops_key>` below and pass in the optional `api_key` parameter to the AgentOps `init(api_key=...)` function. Remember not to commit your API key to a public repo!"
   ]
  },
  {
   "cell_type": "code",
   "execution_count": null,
   "id": "3f9189f4d13ebd07",
   "metadata": {
    "ExecuteTime": {
     "end_time": "2024-08-08T00:29:30.072366Z",
     "start_time": "2024-08-08T00:29:30.063997Z"
    },
    "collapsed": false
   },
   "outputs": [],
   "source": [
    "load_dotenv()\n",
    "AGENTOPS_API_KEY = os.environ.get(\"AGENTOPS_API_KEY\")\n",
    "OPENAI_API_KEY = os.environ.get(\"OPENAI_API_KEY\")"
   ]
  },
  {
   "cell_type": "markdown",
   "id": "6f5a9ab030c636c6",
   "metadata": {
    "collapsed": false
   },
   "source": [
    "This is where AgentOps comes into play. Before creating our LLM instance via Langchain, first we'll create an instance of the AO LangchainCallbackHandler. After the handler is initialized, a session will be recorded automatically.\n",
    "\n",
    "Pass in your API key, and optionally any tags to describe this session for easier lookup in the AO dashboard.\n",
    "\n",
    "agentops_handler = AgentOpsLangchainCallbackHandler(\n",
    "    api_key=AGENTOPS_API_KEY, default_tags=[\"Langchain Example\"]\n",
    ")\n"
   ]
  },
  {
   "cell_type": "code",
   "execution_count": null,
   "id": "7d4accd2f68404fb",
   "metadata": {
    "ExecuteTime": {
     "end_time": "2024-08-08T00:29:31.018329Z",
     "start_time": "2024-08-08T00:29:30.074528Z"
    },
    "collapsed": false
   },
   "outputs": [],
   "source": [
    "agentops_handler = AgentOpsLangchainCallbackHandler(\n",
    "    api_key=AGENTOPS_API_KEY, default_tags=[\"Langchain Example\"]\n",
    ")\n",
    "\n",
    "llm = ChatOpenAI(\n",
    "    openai_api_key=OPENAI_API_KEY, callbacks=[agentops_handler], model=\"gpt-3.5-turbo\"\n",
    ")\n",
    "\n",
    "# You must pass in a callback handler to record your agent\n",
    "llm.callbacks = [agentops_handler]\n",
    "\n",
    "prompt = ChatPromptTemplate.from_messages(\n",
    "    [\n",
    "        (\"system\", \"You are a helpful assistant. Respond only in Spanish.\"),\n",
    "        (\"human\", \"{input}\"),\n",
    "        # Placeholders fill up a **list** of messages\n",
    "        (\"placeholder\", \"{agent_scratchpad}\"),\n",
    "        # (\"tool_names\", \"find_movie\")\n",
    "    ]\n",
    ")"
   ]
  },
  {
   "cell_type": "markdown",
   "id": "821b2367b1082673",
   "metadata": {
    "collapsed": false
   },
   "source": [
    "You can also retrieve the `session_id` of the newly created session."
   ]
  },
  {
   "cell_type": "code",
   "execution_count": null,
   "id": "6bb30c31eaa5ba02",
   "metadata": {
    "ExecuteTime": {
     "end_time": "2024-08-08T00:29:31.021351Z",
     "start_time": "2024-08-08T00:29:31.019165Z"
    },
    "collapsed": false
   },
   "outputs": [],
   "source": [
    "print(\"Agent Ops session ID: \" + str(agentops_handler.current_session_ids))"
   ]
  },
  {
   "cell_type": "markdown",
   "id": "f7362d89b6a7af4c",
   "metadata": {
    "collapsed": false
   },
   "source": [
    "Agents generally use tools. Let's define a simple tool here. Tool usage is also recorded."
   ]
  },
  {
   "cell_type": "code",
   "execution_count": null,
   "id": "4a28f85842129016",
   "metadata": {
    "ExecuteTime": {
     "end_time": "2024-08-08T00:29:31.071133Z",
     "start_time": "2024-08-08T00:29:31.022304Z"
    },
    "collapsed": false
   },
   "outputs": [],
   "source": [
    "@tool\n",
    "def find_movie(genre: str) -> str:\n",
    "    \"\"\"Find available movies\"\"\"\n",
    "    if genre == \"drama\":\n",
    "        return \"Dune 2\"\n",
    "    else:\n",
    "        return \"Pineapple Express\"\n",
    "\n",
    "\n",
    "tools = [find_movie]"
   ]
  },
  {
   "cell_type": "markdown",
   "id": "186984add993f839",
   "metadata": {
    "collapsed": false
   },
   "source": [
    "For each tool, you need to also add the callback handler"
   ]
  },
  {
   "cell_type": "code",
   "execution_count": null,
   "id": "afe9113b61c67e80",
   "metadata": {
    "ExecuteTime": {
     "end_time": "2024-08-08T00:29:31.073655Z",
     "start_time": "2024-08-08T00:29:31.071945Z"
    },
    "collapsed": false
   },
   "outputs": [],
   "source": [
    "for t in tools:\n",
    "    t.callbacks = [agentops_handler]"
   ]
  },
  {
   "cell_type": "markdown",
   "id": "6dd5f322d26f692",
   "metadata": {},
   "source": [
    "Add the tools to our LLM"
   ]
  },
  {
   "cell_type": "code",
   "execution_count": null,
   "id": "e469ab337023053e",
   "metadata": {},
   "outputs": [],
   "source": [
    "llm_with_tools = llm.bind_tools([find_movie])"
   ]
  },
  {
   "cell_type": "markdown",
   "id": "88b96e62db542900",
   "metadata": {
    "collapsed": false
   },
   "source": [
    "Finally, let's create our agent! Pass in the callback handler to the agent, and all the actions will be recorded in the AO Dashboard"
   ]
  },
  {
   "cell_type": "code",
   "execution_count": null,
   "id": "d45ff1b7a3843191",
   "metadata": {
    "ExecuteTime": {
     "end_time": "2024-08-08T00:29:31.127744Z",
     "start_time": "2024-08-08T00:29:31.124945Z"
    }
   },
   "outputs": [],
   "source": [
    "agent = create_openai_tools_agent(llm, tools, prompt)\n",
    "agent_executor = AgentExecutor(agent=agent, tools=tools)"
   ]
  },
  {
   "cell_type": "code",
   "execution_count": null,
   "id": "bb90bf54b5a42a63",
   "metadata": {
    "ExecuteTime": {
     "end_time": "2024-08-08T00:29:32.666768Z",
     "start_time": "2024-08-08T00:29:31.128749Z"
    }
   },
   "outputs": [],
   "source": [
    "agent_executor.invoke(\n",
    "    {\"input\": \"What comedies are playing?\"}, config={\"callback\": [agentops_handler]}\n",
    ")"
   ]
  },
  {
   "cell_type": "markdown",
   "id": "fb276a2e-f1c3-4f0f-8818-b7730e9d3ff7",
   "metadata": {
    "collapsed": false
   },
   "source": [
    "## Check your session\n",
    "Finally, check your run on [AgentOps](https://app.agentops.ai)\n",
    "\n",
    "Now if we look in the AgentOps dashboard, you will see a session recorded with the LLM calls and tool usage."
   ]
  },
  {
   "cell_type": "markdown",
   "id": "97a1a264a71876",
   "metadata": {
    "collapsed": false
   },
   "source": [
    "## Langchain V0.1 Example\n",
    "This example is out of date. You can uncomment all the following cells and the example will run but AgentOps is deprecating support."
   ]
  },
  {
   "cell_type": "code",
   "execution_count": null,
   "id": "decac159bb492462",
   "metadata": {
    "ExecuteTime": {
     "end_time": "2024-08-08T00:29:32.741186Z",
     "start_time": "2024-08-08T00:29:32.741133Z"
    }
   },
   "outputs": [],
   "source": [
    "# %pip install langchain==0.1.6"
   ]
  },
  {
   "cell_type": "code",
   "execution_count": null,
   "id": "initial_id",
   "metadata": {
    "ExecuteTime": {
     "end_time": "2024-08-08T00:29:32.741653Z",
     "start_time": "2024-08-08T00:29:32.741599Z"
    }
   },
   "outputs": [],
   "source": [
    "# import os\n",
    "# from langchain_openai import ChatOpenAI\n",
    "# from langchain.agents import initialize_agent, AgentType\n",
    "# from langchain.agents import tool"
   ]
  },
  {
   "cell_type": "markdown",
   "id": "57ddb8eca4e8a3cb",
   "metadata": {},
   "source": [
    "The only difference with using AgentOps is that we'll also import this special Callback Handler"
   ]
  },
  {
   "cell_type": "code",
   "execution_count": null,
   "id": "7e8f8cd098ad5b57",
   "metadata": {
    "collapsed": false
   },
   "outputs": [],
   "source": [
    "# from agentops.partners.langchain_callback_handler import (\n",
    "#     LangchainCallbackHandler as AgentOpsLangchainCallbackHandler,\n",
    "# )"
   ]
  },
  {
   "cell_type": "markdown",
   "id": "14a1b8e08a2e9eb3",
   "metadata": {
    "collapsed": false
   },
   "source": [
    "Next, we'll grab our two API keys."
   ]
  },
  {
   "cell_type": "code",
   "execution_count": null,
   "id": "ff6cfc570599871f",
   "metadata": {
    "collapsed": false
   },
   "outputs": [],
   "source": [
    "# from dotenv import load_dotenv\n",
    "\n",
    "# load_dotenv()"
   ]
  },
  {
   "cell_type": "markdown",
   "id": "51f083697b783fa4",
   "metadata": {
    "collapsed": false
   },
   "source": [
    "This is where AgentOps comes into play. Before creating our LLM instance via Langchain, first we'll create an instance of the AO LangchainCallbackHandler. After the handler is initialized, a session will be recorded automatically.\n",
    "\n",
    "Pass in your API key, and optionally any tags to describe this session for easier lookup in the AO dashboard."
   ]
  },
  {
   "cell_type": "code",
   "execution_count": null,
   "id": "d432fe915edb6365",
   "metadata": {
    "collapsed": false
   },
   "outputs": [],
   "source": [
    "# AGENTOPS_API_KEY = os.environ.get(\"AGENTOPS_API_KEY\")\n",
    "# OPENAI_API_KEY = os.environ.get(\"OPENAI_API_KEY\")\n",
    "\n",
    "# agentops_handler = AgentOpsLangchainCallbackHandler(\n",
    "#     api_key=AGENTOPS_API_KEY, default_tags=[\"Langchain Example\"]\n",
    "# )\n",
    "\n",
    "# llm = ChatOpenAI(\n",
    "#     openai_api_key=OPENAI_API_KEY, callbacks=[agentops_handler], model=\"gpt-3.5-turbo\"\n",
    "# )"
   ]
  },
  {
   "cell_type": "markdown",
   "id": "38d309f07363b58e",
   "metadata": {
    "collapsed": false
   },
   "source": [
    "You can also retrieve the `session_id` of the newly created session."
   ]
  },
  {
   "cell_type": "code",
   "execution_count": null,
   "id": "f7e3a37cde3f9c22",
   "metadata": {
    "collapsed": false
   },
   "outputs": [],
   "source": [
    "# print(\"Agent Ops session ID: \" + str(agentops_handler.current_session_ids))"
   ]
  },
  {
   "cell_type": "markdown",
   "id": "42f226ace56ef6f5",
   "metadata": {
    "collapsed": false
   },
   "source": [
    "Agents generally use tools. Let's define a simple tool here. Tool usage is also recorded."
   ]
  },
  {
   "cell_type": "code",
   "execution_count": null,
   "id": "c103a2edbe837abd",
   "metadata": {
    "collapsed": false
   },
   "outputs": [],
   "source": [
    "# @tool\n",
    "# def find_movie(genre) -> str:\n",
    "#     \"\"\"Find available movies\"\"\"\n",
    "#     if genre == \"drama\":\n",
    "#         return \"Dune 2\"\n",
    "#     else:\n",
    "#         return \"Pineapple Express\"\n",
    "\n",
    "\n",
    "# tools = [find_movie]"
   ]
  },
  {
   "cell_type": "markdown",
   "id": "4fb7633857b19bf0",
   "metadata": {
    "collapsed": false
   },
   "source": [
    "For each tool, you need to also add the callback handler"
   ]
  },
  {
   "cell_type": "code",
   "execution_count": null,
   "id": "a0345f08bf1c5ecd",
   "metadata": {
    "collapsed": false
   },
   "outputs": [],
   "source": [
    "# for t in tools:\n",
    "#     t.callbacks = [agentops_handler]"
   ]
  },
  {
   "cell_type": "markdown",
   "id": "12a02b833716676b",
   "metadata": {
    "collapsed": false
   },
   "source": [
    "Finally, let's use our agent! Pass in the callback handler to the agent, and all the actions will be recorded in the AO Dashboard"
   ]
  },
  {
   "cell_type": "code",
   "execution_count": null,
   "id": "2d2e83fa69b30add",
   "metadata": {
    "collapsed": false
   },
   "outputs": [],
   "source": [
    "# agent = initialize_agent(\n",
    "#     tools,\n",
    "#     llm,\n",
    "#     agent=AgentType.CHAT_ZERO_SHOT_REACT_DESCRIPTION,\n",
    "#     verbose=True,\n",
    "#     callbacks=[\n",
    "#         agentops_handler\n",
    "#     ],  # You must pass in a callback handler to record your agent\n",
    "#     handle_parsing_errors=True,\n",
    "# )"
   ]
  },
  {
   "cell_type": "code",
   "execution_count": null,
   "id": "df2bc3a384493e1e",
   "metadata": {
    "collapsed": false
   },
   "outputs": [],
   "source": [
    "# agent.invoke(\"What comedies are playing?\", callbacks=[agentops_handler])"
   ]
  },
  {
   "cell_type": "markdown",
   "id": "2230edd919182a55",
   "metadata": {
    "collapsed": false
   },
   "source": [
    "## Check your session\n",
    "Finally, check your run on [AgentOps](https://app.agentops.ai)"
   ]
  },
  {
   "cell_type": "markdown",
   "id": "fbf4a3ec5fa60d74",
   "metadata": {
    "collapsed": false
   },
   "source": [
    "# Async Agents\n",
    "\n",
    "Several langchain agents require async callback handlers. AgentOps also supports this."
   ]
  },
  {
   "cell_type": "code",
   "execution_count": null,
   "id": "ed63a166b343e1a2",
   "metadata": {
    "collapsed": false
   },
   "outputs": [],
   "source": [
    "# import os\n",
    "# from langchain.chat_models import ChatOpenAI\n",
    "# from langchain.agents import initialize_agent, AgentType\n",
    "# from langchain.agents import tool"
   ]
  },
  {
   "cell_type": "code",
   "execution_count": null,
   "id": "aa15223969f97b3d",
   "metadata": {
    "collapsed": false
   },
   "outputs": [],
   "source": [
    "# from agentops.partners.langchain_callback_handler import (\n",
    "#     AsyncLangchainCallbackHandler as AgentOpsAsyncLangchainCallbackHandler,\n",
    "# )"
   ]
  },
  {
   "cell_type": "code",
   "execution_count": null,
   "id": "818357483f039b60",
   "metadata": {
    "collapsed": false
   },
   "outputs": [],
   "source": [
    "# from dotenv import load_dotenv\n",
    "\n",
    "# load_dotenv()\n",
    "\n",
    "# AGENTOPS_API_KEY = os.environ.get(\"AGENTOPS_API_KEY\")\n",
    "# OPENAI_API_KEY = os.environ.get(\"OPENAI_API_KEY\")"
   ]
  },
  {
   "cell_type": "code",
   "execution_count": null,
   "id": "ae76cfe058f5e4e4",
   "metadata": {
    "collapsed": false
   },
   "outputs": [],
   "source": [
    "# agentops_handler = AgentOpsAsyncLangchainCallbackHandler(\n",
    "#     api_key=AGENTOPS_API_KEY, tags=[\"Async Example\"]\n",
    "# )\n",
    "\n",
    "# llm = ChatOpenAI(\n",
    "#     openai_api_key=OPENAI_API_KEY, callbacks=[agentops_handler], model=\"gpt-3.5-turbo\"\n",
    "# )\n",
    "\n",
    "# print(\"Agent Ops session ID: \" + str(await agentops_handler.session_id))"
   ]
  },
  {
   "cell_type": "code",
   "execution_count": null,
   "id": "1201049766be84a7",
   "metadata": {
    "collapsed": false
   },
   "outputs": [],
   "source": [
    "# @tool\n",
    "# def find_movie(genre) -> str:\n",
    "#     \"\"\"Find available movies\"\"\"\n",
    "#     if genre == \"drama\":\n",
    "#         return \"Dune 2\"\n",
    "#     else:\n",
    "#         return \"Pineapple Express\"\n",
    "\n",
    "\n",
    "# tools = [find_movie]\n",
    "\n",
    "# for t in tools:\n",
    "#     t.callbacks = [agentops_handler]"
   ]
  },
  {
   "cell_type": "code",
   "execution_count": null,
   "id": "8d4f9dd39b79d542",
   "metadata": {
    "collapsed": false
   },
   "outputs": [],
   "source": [
    "# agent = initialize_agent(\n",
    "#     tools,\n",
    "#     llm,\n",
    "#     agent=AgentType.CHAT_ZERO_SHOT_REACT_DESCRIPTION,\n",
    "#     verbose=True,\n",
    "#     handle_parsing_errors=True,\n",
    "#     callbacks=[agentops_handler],\n",
    "# )\n",
    "\n",
    "# await agent.arun(\"What comedies are playing?\")"
   ]
  }
 ],
 "metadata": {
  "kernelspec": {
   "display_name": "Python 3 (ipykernel)",
   "language": "python",
   "name": "python3"
  },
  "language_info": {
   "codemirror_mode": {
    "name": "ipython",
    "version": 3
   },
   "file_extension": ".py",
   "mimetype": "text/x-python",
   "name": "python",
   "nbconvert_exporter": "python",
   "pygments_lexer": "ipython3",
   "version": "3.12.0"
  }
 },
 "nbformat": 4,
 "nbformat_minor": 5
}
