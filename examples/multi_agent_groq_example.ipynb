{
 "cells": [
  {
   "cell_type": "markdown",
   "id": "a2e266428cefc683",
   "metadata": {
    "collapsed": false,
    "jupyter": {
     "outputs_hidden": false
    }
   },
   "source": [
    "# Multi-Agent Support\n",
    "This is an example implementation of tracking events from two separate agents"
   ]
  },
  {
   "cell_type": "markdown",
   "id": "fde50a03",
   "metadata": {},
   "source": [
    "First let's install the required packages"
   ]
  },
  {
   "cell_type": "code",
   "execution_count": 1,
   "id": "f846ae29",
   "metadata": {},
   "outputs": [
    {
     "name": "stdout",
     "output_type": "stream",
     "text": [
      "Requirement already satisfied: openai in /Users/howardgil/Desktop/agentops/HowieG/env/lib/python3.12/site-packages (1.40.2)\n",
      "Requirement already satisfied: anyio<5,>=3.5.0 in /Users/howardgil/Desktop/agentops/HowieG/env/lib/python3.12/site-packages (from openai) (4.4.0)\n",
      "Requirement already satisfied: distro<2,>=1.7.0 in /Users/howardgil/Desktop/agentops/HowieG/env/lib/python3.12/site-packages (from openai) (1.9.0)\n",
      "Requirement already satisfied: httpx<1,>=0.23.0 in /Users/howardgil/Desktop/agentops/HowieG/env/lib/python3.12/site-packages (from openai) (0.27.0)\n",
      "Requirement already satisfied: jiter<1,>=0.4.0 in /Users/howardgil/Desktop/agentops/HowieG/env/lib/python3.12/site-packages (from openai) (0.5.0)\n",
      "Requirement already satisfied: pydantic<3,>=1.9.0 in /Users/howardgil/Desktop/agentops/HowieG/env/lib/python3.12/site-packages (from openai) (2.8.2)\n",
      "Requirement already satisfied: sniffio in /Users/howardgil/Desktop/agentops/HowieG/env/lib/python3.12/site-packages (from openai) (1.3.1)\n",
      "Requirement already satisfied: tqdm>4 in /Users/howardgil/Desktop/agentops/HowieG/env/lib/python3.12/site-packages (from openai) (4.66.5)\n",
      "Requirement already satisfied: typing-extensions<5,>=4.11 in /Users/howardgil/Desktop/agentops/HowieG/env/lib/python3.12/site-packages (from openai) (4.12.2)\n",
      "Requirement already satisfied: idna>=2.8 in /Users/howardgil/Desktop/agentops/HowieG/env/lib/python3.12/site-packages (from anyio<5,>=3.5.0->openai) (3.7)\n",
      "Requirement already satisfied: certifi in /Users/howardgil/Desktop/agentops/HowieG/env/lib/python3.12/site-packages (from httpx<1,>=0.23.0->openai) (2024.7.4)\n",
      "Requirement already satisfied: httpcore==1.* in /Users/howardgil/Desktop/agentops/HowieG/env/lib/python3.12/site-packages (from httpx<1,>=0.23.0->openai) (1.0.5)\n",
      "Requirement already satisfied: h11<0.15,>=0.13 in /Users/howardgil/Desktop/agentops/HowieG/env/lib/python3.12/site-packages (from httpcore==1.*->httpx<1,>=0.23.0->openai) (0.14.0)\n",
      "Requirement already satisfied: annotated-types>=0.4.0 in /Users/howardgil/Desktop/agentops/HowieG/env/lib/python3.12/site-packages (from pydantic<3,>=1.9.0->openai) (0.7.0)\n",
      "Requirement already satisfied: pydantic-core==2.20.1 in /Users/howardgil/Desktop/agentops/HowieG/env/lib/python3.12/site-packages (from pydantic<3,>=1.9.0->openai) (2.20.1)\n",
      "Note: you may need to restart the kernel to use updated packages.\n",
      "Requirement already satisfied: agentops in /Users/howardgil/Desktop/agentops/HowieG/env/lib/python3.12/site-packages (0.3.7)\n",
      "Requirement already satisfied: requests==2.31.0 in /Users/howardgil/Desktop/agentops/HowieG/env/lib/python3.12/site-packages (from agentops) (2.31.0)\n",
      "Requirement already satisfied: psutil==5.9.8 in /Users/howardgil/Desktop/agentops/HowieG/env/lib/python3.12/site-packages (from agentops) (5.9.8)\n",
      "Requirement already satisfied: packaging==23.2 in /Users/howardgil/Desktop/agentops/HowieG/env/lib/python3.12/site-packages (from agentops) (23.2)\n",
      "Requirement already satisfied: termcolor==2.4.0 in /Users/howardgil/Desktop/agentops/HowieG/env/lib/python3.12/site-packages (from agentops) (2.4.0)\n",
      "Requirement already satisfied: charset-normalizer<4,>=2 in /Users/howardgil/Desktop/agentops/HowieG/env/lib/python3.12/site-packages (from requests==2.31.0->agentops) (3.3.2)\n",
      "Requirement already satisfied: idna<4,>=2.5 in /Users/howardgil/Desktop/agentops/HowieG/env/lib/python3.12/site-packages (from requests==2.31.0->agentops) (3.7)\n",
      "Requirement already satisfied: urllib3<3,>=1.21.1 in /Users/howardgil/Desktop/agentops/HowieG/env/lib/python3.12/site-packages (from requests==2.31.0->agentops) (2.2.2)\n",
      "Requirement already satisfied: certifi>=2017.4.17 in /Users/howardgil/Desktop/agentops/HowieG/env/lib/python3.12/site-packages (from requests==2.31.0->agentops) (2024.7.4)\n",
      "Note: you may need to restart the kernel to use updated packages.\n",
      "Collecting groq\n",
      "  Using cached groq-0.9.0-py3-none-any.whl.metadata (13 kB)\n",
      "Requirement already satisfied: anyio<5,>=3.5.0 in /Users/howardgil/Desktop/agentops/HowieG/env/lib/python3.12/site-packages (from groq) (4.4.0)\n",
      "Requirement already satisfied: distro<2,>=1.7.0 in /Users/howardgil/Desktop/agentops/HowieG/env/lib/python3.12/site-packages (from groq) (1.9.0)\n",
      "Requirement already satisfied: httpx<1,>=0.23.0 in /Users/howardgil/Desktop/agentops/HowieG/env/lib/python3.12/site-packages (from groq) (0.27.0)\n",
      "Requirement already satisfied: pydantic<3,>=1.9.0 in /Users/howardgil/Desktop/agentops/HowieG/env/lib/python3.12/site-packages (from groq) (2.8.2)\n",
      "Requirement already satisfied: sniffio in /Users/howardgil/Desktop/agentops/HowieG/env/lib/python3.12/site-packages (from groq) (1.3.1)\n",
      "Requirement already satisfied: typing-extensions<5,>=4.7 in /Users/howardgil/Desktop/agentops/HowieG/env/lib/python3.12/site-packages (from groq) (4.12.2)\n",
      "Requirement already satisfied: idna>=2.8 in /Users/howardgil/Desktop/agentops/HowieG/env/lib/python3.12/site-packages (from anyio<5,>=3.5.0->groq) (3.7)\n",
      "Requirement already satisfied: certifi in /Users/howardgil/Desktop/agentops/HowieG/env/lib/python3.12/site-packages (from httpx<1,>=0.23.0->groq) (2024.7.4)\n",
      "Requirement already satisfied: httpcore==1.* in /Users/howardgil/Desktop/agentops/HowieG/env/lib/python3.12/site-packages (from httpx<1,>=0.23.0->groq) (1.0.5)\n",
      "Requirement already satisfied: h11<0.15,>=0.13 in /Users/howardgil/Desktop/agentops/HowieG/env/lib/python3.12/site-packages (from httpcore==1.*->httpx<1,>=0.23.0->groq) (0.14.0)\n",
      "Requirement already satisfied: annotated-types>=0.4.0 in /Users/howardgil/Desktop/agentops/HowieG/env/lib/python3.12/site-packages (from pydantic<3,>=1.9.0->groq) (0.7.0)\n",
      "Requirement already satisfied: pydantic-core==2.20.1 in /Users/howardgil/Desktop/agentops/HowieG/env/lib/python3.12/site-packages (from pydantic<3,>=1.9.0->groq) (2.20.1)\n",
      "Using cached groq-0.9.0-py3-none-any.whl (103 kB)\n",
      "Installing collected packages: groq\n",
      "Successfully installed groq-0.9.0\n",
      "Note: you may need to restart the kernel to use updated packages.\n",
      "Requirement already satisfied: python-dotenv in /Users/howardgil/Desktop/agentops/HowieG/env/lib/python3.12/site-packages (1.0.1)\n",
      "Note: you may need to restart the kernel to use updated packages.\n"
     ]
    }
   ],
   "source": [
    "%pip install -U openai\n",
    "%pip install -U agentops\n",
    "%pip install -U groq\n",
    "%pip install -U python-dotenv"
   ]
  },
  {
   "cell_type": "markdown",
   "id": "882b027b",
   "metadata": {},
   "source": [
    "Then import them"
   ]
  },
  {
   "cell_type": "code",
   "execution_count": 2,
   "id": "7c566fac57d3b6ce",
   "metadata": {
    "collapsed": false,
    "jupyter": {
     "outputs_hidden": false
    }
   },
   "outputs": [],
   "source": [
    "import agentops\n",
    "from agentops import track_agent\n",
    "from dotenv import load_dotenv\n",
    "import os\n",
    "from groq import Groq\n",
    "import logging\n",
    "\n",
    "from IPython.display import display, Markdown"
   ]
  },
  {
   "cell_type": "markdown",
   "id": "d614aaf3",
   "metadata": {},
   "source": [
    "Next, we'll grab our API keys. You can use dotenv like below or however else you like to load environment variables"
   ]
  },
  {
   "cell_type": "code",
   "execution_count": 3,
   "id": "9f8c52496c04693",
   "metadata": {
    "collapsed": false,
    "jupyter": {
     "outputs_hidden": false
    }
   },
   "outputs": [],
   "source": [
    "load_dotenv()\n",
    "GROQ_API_KEY = os.getenv(\"GROQ_API_KEY\") or \"<your_openai_key>\"\n",
    "AGENTOPS_API_KEY = os.getenv(\"AGENTOPS_API_KEY\") or \"<your_agentops_key>\"\n",
    "logging.basicConfig(\n",
    "    level=logging.DEBUG\n",
    ")  # this will let us see that calls are assigned to an agent"
   ]
  },
  {
   "cell_type": "code",
   "execution_count": 4,
   "id": "af062552554d60ce",
   "metadata": {
    "collapsed": false,
    "jupyter": {
     "outputs_hidden": false
    }
   },
   "outputs": [
    {
     "name": "stderr",
     "output_type": "stream",
     "text": [
      "🖇 AgentOps: The 'tags' parameter is deprecated. Use 'default_tags' instead\n",
      "DEBUG:urllib3.connectionpool:Starting new HTTPS connection (1): api.agentops.ai:443\n",
      "DEBUG:urllib3.connectionpool:https://api.agentops.ai:443 \"POST /v2/create_session HTTP/11\" 200 204\n",
      "🖇 AgentOps: \u001b[34m\u001b[34mSession Replay: https://app.agentops.ai/drilldown?session_id=2f6d54d7-372e-41e5-81df-3d0a31ce23b0\u001b[0m\u001b[0m\n",
      "DEBUG:httpx:load_ssl_context verify=True cert=None trust_env=True http2=False\n",
      "DEBUG:httpx:load_verify_locations cafile='/Users/howardgil/Desktop/agentops/HowieG/env/lib/python3.12/site-packages/certifi/cacert.pem'\n"
     ]
    },
    {
     "name": "stderr",
     "output_type": "stream",
     "text": [
      "DEBUG:urllib3.connectionpool:Starting new HTTPS connection (1): api.agentops.ai:443\n",
      "DEBUG:urllib3.connectionpool:https://api.agentops.ai:443 \"POST /v2/create_events HTTP/11\" 200 9\n"
     ]
    }
   ],
   "source": [
    "agentops.init(AGENTOPS_API_KEY, default_tags=[\"multi-agent-groq-notebook\"])\n",
    "groq_client = Groq(api_key=GROQ_API_KEY)"
   ]
  },
  {
   "cell_type": "markdown",
   "id": "95d212546aaf1f82",
   "metadata": {
    "collapsed": false,
    "jupyter": {
     "outputs_hidden": false
    }
   },
   "source": [
    "Now lets create a few agents!"
   ]
  },
  {
   "cell_type": "code",
   "execution_count": 5,
   "id": "727e3cc26ce3ec3",
   "metadata": {
    "collapsed": false,
    "jupyter": {
     "outputs_hidden": false
    }
   },
   "outputs": [],
   "source": [
    "@track_agent(name=\"qa\")\n",
    "class QaAgent:\n",
    "    def completion(self, prompt: str):\n",
    "        res = groq_client.chat.completions.create(\n",
    "            model=\"llama3-70b-8192\",\n",
    "            messages=[\n",
    "                {\n",
    "                    \"role\": \"system\",\n",
    "                    \"content\": \"You are a qa engineer and only output python code, no markdown tags.\",\n",
    "                },\n",
    "                {\"role\": \"user\", \"content\": prompt},\n",
    "            ],\n",
    "            temperature=0.5,\n",
    "        )\n",
    "        return res.choices[0].message.content\n",
    "\n",
    "\n",
    "@track_agent(name=\"engineer\")\n",
    "class EngineerAgent:\n",
    "    def completion(self, prompt: str):\n",
    "        res = groq_client.chat.completions.create(\n",
    "            model=\"llama3-70b-8192\",\n",
    "            messages=[\n",
    "                {\n",
    "                    \"role\": \"system\",\n",
    "                    \"content\": \"You are a software engineer and only output python code, no markdown tags.\",\n",
    "                },\n",
    "                {\"role\": \"user\", \"content\": prompt},\n",
    "            ],\n",
    "            temperature=0.5,\n",
    "        )\n",
    "        return res.choices[0].message.content"
   ]
  },
  {
   "cell_type": "code",
   "execution_count": 6,
   "id": "79b75d65de738522",
   "metadata": {
    "collapsed": false,
    "jupyter": {
     "outputs_hidden": false
    }
   },
   "outputs": [
    {
     "name": "stderr",
     "output_type": "stream",
     "text": [
      "DEBUG:urllib3.connectionpool:Starting new HTTPS connection (1): api.agentops.ai:443\n"
     ]
    },
    {
     "name": "stderr",
     "output_type": "stream",
     "text": [
      "DEBUG:urllib3.connectionpool:https://api.agentops.ai:443 \"POST /v2/create_agent HTTP/11\" 200 9\n",
      "DEBUG:urllib3.connectionpool:Starting new HTTPS connection (1): api.agentops.ai:443\n",
      "DEBUG:urllib3.connectionpool:https://api.agentops.ai:443 \"POST /v2/create_agent HTTP/11\" 200 9\n"
     ]
    }
   ],
   "source": [
    "qa = QaAgent()\n",
    "engineer = EngineerAgent()"
   ]
  },
  {
   "cell_type": "markdown",
   "id": "69dd3af9206308cc",
   "metadata": {
    "collapsed": false,
    "jupyter": {
     "outputs_hidden": false
    }
   },
   "source": [
    "Now we have our agents and we tagged them with the `@track_agent` decorator. Any LLM calls that go through this class will now be tagged as agent calls in AgentOps.\n",
    "\n",
    "Lets use these agents!"
   ]
  },
  {
   "cell_type": "code",
   "execution_count": 7,
   "id": "7272b927-67ef-4b8c-84a5-63ed06f75aa5",
   "metadata": {},
   "outputs": [
    {
     "name": "stderr",
     "output_type": "stream",
     "text": [
      "DEBUG:groq._base_client:Request options: {'method': 'post', 'url': '/openai/v1/chat/completions', 'files': None, 'json_data': {'messages': [{'role': 'system', 'content': 'You are a software engineer and only output python code, no markdown tags.'}, {'role': 'user', 'content': 'python function to test prime number'}], 'model': 'llama3-70b-8192', 'temperature': 0.5}}\n",
      "DEBUG:groq._base_client:Sending HTTP Request: POST https://api.groq.com/openai/v1/chat/completions\n",
      "DEBUG:httpcore.connection:connect_tcp.started host='api.groq.com' port=443 local_address=None timeout=5.0 socket_options=None\n",
      "DEBUG:httpcore.connection:connect_tcp.complete return_value=<httpcore._backends.sync.SyncStream object at 0x124f0bef0>\n",
      "DEBUG:httpcore.connection:start_tls.started ssl_context=<ssl.SSLContext object at 0x125456ad0> server_hostname='api.groq.com' timeout=5.0\n",
      "DEBUG:httpcore.connection:start_tls.complete return_value=<httpcore._backends.sync.SyncStream object at 0x12542bbc0>\n",
      "DEBUG:httpcore.http11:send_request_headers.started request=<Request [b'POST']>\n",
      "DEBUG:httpcore.http11:send_request_headers.complete\n",
      "DEBUG:httpcore.http11:send_request_body.started request=<Request [b'POST']>\n",
      "DEBUG:httpcore.http11:send_request_body.complete\n",
      "DEBUG:httpcore.http11:receive_response_headers.started request=<Request [b'POST']>\n",
      "DEBUG:httpcore.http11:receive_response_headers.complete return_value=(b'HTTP/1.1', 200, b'OK', [(b'Date', b'Fri, 09 Aug 2024 08:21:04 GMT'), (b'Content-Type', b'application/json'), (b'Transfer-Encoding', b'chunked'), (b'Connection', b'keep-alive'), (b'Cache-Control', b'private, max-age=0, no-store, no-cache, must-revalidate'), (b'vary', b'Origin'), (b'x-ratelimit-limit-requests', b'1440000000'), (b'x-ratelimit-limit-tokens', b'4000000'), (b'x-ratelimit-remaining-requests', b'1439999999'), (b'x-ratelimit-remaining-tokens', b'3999963'), (b'x-ratelimit-reset-requests', b'59.999\\xc2\\xb5s'), (b'x-ratelimit-reset-tokens', b'554.999\\xc2\\xb5s'), (b'x-request-id', b'req_01j4v3m7c8e0s882mc7q1rf0g3'), (b'via', b'1.1 google'), (b'alt-svc', b'h3=\":443\"; ma=86400'), (b'CF-Cache-Status', b'DYNAMIC'), (b'Set-Cookie', b'__cf_bm=vrk2Zq.8W8QzV3zIhxA3dod2E7EL999Oncd0HxXHp6w-1723191664-1.0.1.1-yB_12tyvrZBBab771ZsEPiOA08q6KmO11z8Jb9WC3A9Pc_D9cJjJbuyI25.psJBe8grIahOrexZoac9Mv1zMSg; path=/; expires=Fri, 09-Aug-24 08:51:04 GMT; domain=.groq.com; HttpOnly; Secure; SameSite=None'), (b'Server', b'cloudflare'), (b'CF-RAY', b'8b06549bb85bfb50-SJC'), (b'Content-Encoding', b'gzip')])\n",
      "INFO:httpx:HTTP Request: POST https://api.groq.com/openai/v1/chat/completions \"HTTP/1.1 200 OK\"\n",
      "DEBUG:httpcore.http11:receive_response_body.started request=<Request [b'POST']>\n",
      "DEBUG:httpcore.http11:receive_response_body.complete\n",
      "DEBUG:httpcore.http11:response_closed.started\n",
      "DEBUG:httpcore.http11:response_closed.complete\n",
      "DEBUG:groq._base_client:HTTP Response: POST https://api.groq.com/openai/v1/chat/completions \"200 OK\" Headers({'date': 'Fri, 09 Aug 2024 08:21:04 GMT', 'content-type': 'application/json', 'transfer-encoding': 'chunked', 'connection': 'keep-alive', 'cache-control': 'private, max-age=0, no-store, no-cache, must-revalidate', 'vary': 'Origin', 'x-ratelimit-limit-requests': '1440000000', 'x-ratelimit-limit-tokens': '4000000', 'x-ratelimit-remaining-requests': '1439999999', 'x-ratelimit-remaining-tokens': '3999963', 'x-ratelimit-reset-requests': '59.999µs', 'x-ratelimit-reset-tokens': '554.999µs', 'x-request-id': 'req_01j4v3m7c8e0s882mc7q1rf0g3', 'via': '1.1 google', 'alt-svc': 'h3=\":443\"; ma=86400', 'cf-cache-status': 'DYNAMIC', 'set-cookie': '__cf_bm=vrk2Zq.8W8QzV3zIhxA3dod2E7EL999Oncd0HxXHp6w-1723191664-1.0.1.1-yB_12tyvrZBBab771ZsEPiOA08q6KmO11z8Jb9WC3A9Pc_D9cJjJbuyI25.psJBe8grIahOrexZoac9Mv1zMSg; path=/; expires=Fri, 09-Aug-24 08:51:04 GMT; domain=.groq.com; HttpOnly; Secure; SameSite=None', 'server': 'cloudflare', 'cf-ray': '8b06549bb85bfb50-SJC', 'content-encoding': 'gzip'}, encoding='utf-8')\n"
     ]
    }
   ],
   "source": [
    "generated_func = engineer.completion(\"python function to test prime number\")"
   ]
  },
  {
   "cell_type": "code",
   "execution_count": 8,
   "id": "830b86dac47dceb3",
   "metadata": {
    "collapsed": false,
    "jupyter": {
     "outputs_hidden": false
    }
   },
   "outputs": [
    {
     "data": {
      "text/markdown": [
       "```python\n",
       "def is_prime(n):\n",
       "    if n <= 1:\n",
       "        return False\n",
       "    if n == 2:\n",
       "        return True\n",
       "    if n % 2 == 0:\n",
       "        return False\n",
       "    max_divisor = int(n**0.5) + 1\n",
       "    for d in range(3, max_divisor, 2):\n",
       "        if n % d == 0:\n",
       "            return False\n",
       "    return True\n",
       "```"
      ],
      "text/plain": [
       "<IPython.core.display.Markdown object>"
      ]
     },
     "metadata": {},
     "output_type": "display_data"
    }
   ],
   "source": [
    "display(Markdown(\"```python\\n\" + generated_func + \"\\n```\"))"
   ]
  },
  {
   "cell_type": "code",
   "execution_count": 9,
   "id": "63c9d0d457aee91a",
   "metadata": {
    "collapsed": false,
    "jupyter": {
     "outputs_hidden": false
    }
   },
   "outputs": [
    {
     "name": "stderr",
     "output_type": "stream",
     "text": [
      "DEBUG:groq._base_client:Request options: {'method': 'post', 'url': '/openai/v1/chat/completions', 'files': None, 'json_data': {'messages': [{'role': 'system', 'content': 'You are a qa engineer and only output python code, no markdown tags.'}, {'role': 'user', 'content': 'Write a python unit test that test the following function: \\n def is_prime(n):\\n    if n <= 1:\\n        return False\\n    if n == 2:\\n        return True\\n    if n % 2 == 0:\\n        return False\\n    max_divisor = int(n**0.5) + 1\\n    for d in range(3, max_divisor, 2):\\n        if n % d == 0:\\n            return False\\n    return True'}], 'model': 'llama3-70b-8192', 'temperature': 0.5}}\n",
      "DEBUG:groq._base_client:Sending HTTP Request: POST https://api.groq.com/openai/v1/chat/completions\n",
      "DEBUG:httpcore.http11:send_request_headers.started request=<Request [b'POST']>\n",
      "DEBUG:httpcore.http11:send_request_headers.complete\n",
      "DEBUG:httpcore.http11:send_request_body.started request=<Request [b'POST']>\n",
      "DEBUG:httpcore.http11:send_request_body.complete\n",
      "DEBUG:httpcore.http11:receive_response_headers.started request=<Request [b'POST']>\n",
      "DEBUG:httpcore.http11:receive_response_headers.complete return_value=(b'HTTP/1.1', 200, b'OK', [(b'Date', b'Fri, 09 Aug 2024 08:21:05 GMT'), (b'Content-Type', b'application/json'), (b'Transfer-Encoding', b'chunked'), (b'Connection', b'keep-alive'), (b'Cache-Control', b'private, max-age=0, no-store, no-cache, must-revalidate'), (b'vary', b'Origin'), (b'x-ratelimit-limit-requests', b'1440000000'), (b'x-ratelimit-limit-tokens', b'4000000'), (b'x-ratelimit-remaining-requests', b'1439999999'), (b'x-ratelimit-remaining-tokens', b'3999892'), (b'x-ratelimit-reset-requests', b'59.999\\xc2\\xb5s'), (b'x-ratelimit-reset-tokens', b'1.62ms'), (b'x-request-id', b'req_01j4v3m7vxfs5sp2z9fm4skzcx'), (b'via', b'1.1 google'), (b'alt-svc', b'h3=\":443\"; ma=86400'), (b'CF-Cache-Status', b'DYNAMIC'), (b'Server', b'cloudflare'), (b'CF-RAY', b'8b06549f1ac0fb50-SJC'), (b'Content-Encoding', b'gzip')])\n",
      "INFO:httpx:HTTP Request: POST https://api.groq.com/openai/v1/chat/completions \"HTTP/1.1 200 OK\"\n",
      "DEBUG:httpcore.http11:receive_response_body.started request=<Request [b'POST']>\n",
      "DEBUG:httpcore.http11:receive_response_body.complete\n",
      "DEBUG:httpcore.http11:response_closed.started\n",
      "DEBUG:httpcore.http11:response_closed.complete\n",
      "DEBUG:groq._base_client:HTTP Response: POST https://api.groq.com/openai/v1/chat/completions \"200 OK\" Headers({'date': 'Fri, 09 Aug 2024 08:21:05 GMT', 'content-type': 'application/json', 'transfer-encoding': 'chunked', 'connection': 'keep-alive', 'cache-control': 'private, max-age=0, no-store, no-cache, must-revalidate', 'vary': 'Origin', 'x-ratelimit-limit-requests': '1440000000', 'x-ratelimit-limit-tokens': '4000000', 'x-ratelimit-remaining-requests': '1439999999', 'x-ratelimit-remaining-tokens': '3999892', 'x-ratelimit-reset-requests': '59.999µs', 'x-ratelimit-reset-tokens': '1.62ms', 'x-request-id': 'req_01j4v3m7vxfs5sp2z9fm4skzcx', 'via': '1.1 google', 'alt-svc': 'h3=\":443\"; ma=86400', 'cf-cache-status': 'DYNAMIC', 'server': 'cloudflare', 'cf-ray': '8b06549f1ac0fb50-SJC', 'content-encoding': 'gzip'}, encoding='utf-8')\n"
     ]
    }
   ],
   "source": [
    "generated_test = qa.completion(\n",
    "    \"Write a python unit test that test the following function: \\n \" + generated_func\n",
    ")"
   ]
  },
  {
   "cell_type": "code",
   "execution_count": 10,
   "id": "a88ffcbd2015d422",
   "metadata": {
    "collapsed": false,
    "jupyter": {
     "outputs_hidden": false
    }
   },
   "outputs": [
    {
     "data": {
      "text/markdown": [
       "```python\n",
       "import unittest\n",
       "\n",
       "def is_prime(n):\n",
       "    if n <= 1:\n",
       "        return False\n",
       "    if n == 2:\n",
       "        return True\n",
       "    if n % 2 == 0:\n",
       "        return False\n",
       "    max_divisor = int(n**0.5) + 1\n",
       "    for d in range(3, max_divisor, 2):\n",
       "        if n % d == 0:\n",
       "            return False\n",
       "    return True\n",
       "\n",
       "class TestIsPrimeFunction(unittest.TestCase):\n",
       "\n",
       "    def test_is_prime_with_prime_numbers(self):\n",
       "        self.assertTrue(is_prime(2))\n",
       "        self.assertTrue(is_prime(3))\n",
       "        self.assertTrue(is_prime(5))\n",
       "        self.assertTrue(is_prime(7))\n",
       "        self.assertTrue(is_prime(11))\n",
       "        self.assertTrue(is_prime(13))\n",
       "\n",
       "    def test_is_prime_with_non_prime_numbers(self):\n",
       "        self.assertFalse(is_prime(0))\n",
       "        self.assertFalse(is_prime(1))\n",
       "        self.assertFalse(is_prime(4))\n",
       "        self.assertFalse(is_prime(6))\n",
       "        self.assertFalse(is_prime(8))\n",
       "        self.assertFalse(is_prime(9))\n",
       "\n",
       "    def test_is_prime_with_negative_numbers(self):\n",
       "        self.assertFalse(is_prime(-2))\n",
       "        self.assertFalse(is_prime(-3))\n",
       "        self.assertFalse(is_prime(-5))\n",
       "        self.assertFalse(is_prime(-7))\n",
       "        self.assertFalse(is_prime(-11))\n",
       "        self.assertFalse(is_prime(-13))\n",
       "\n",
       "if __name__ == '__main__':\n",
       "    unittest.main()\n",
       "```"
      ],
      "text/plain": [
       "<IPython.core.display.Markdown object>"
      ]
     },
     "metadata": {},
     "output_type": "display_data"
    }
   ],
   "source": [
    "display(Markdown(\"```python\\n\" + generated_test + \"\\n```\"))"
   ]
  },
  {
   "cell_type": "markdown",
   "id": "1bd312ed049a5511",
   "metadata": {
    "collapsed": false,
    "jupyter": {
     "outputs_hidden": false
    }
   },
   "source": [
    "Perfect! It generated the code as expected, and in the DEBUG logs, you can see that the calls were made by agents named \"engineer\" and \"qa\"!"
   ]
  },
  {
   "cell_type": "markdown",
   "id": "cbd0817a31756397",
   "metadata": {
    "collapsed": false,
    "jupyter": {
     "outputs_hidden": false
    }
   },
   "source": [
    "Lets verify one more thing! If we make an LLM call outside of the context of a tracked agent, we want to make sure it gets assigned to the Default Agent."
   ]
  },
  {
   "cell_type": "code",
   "execution_count": 11,
   "id": "122e923cb07fd5f4",
   "metadata": {
    "collapsed": false,
    "jupyter": {
     "outputs_hidden": false
    }
   },
   "outputs": [
    {
     "name": "stderr",
     "output_type": "stream",
     "text": [
      "DEBUG:groq._base_client:Request options: {'method': 'post', 'url': '/openai/v1/chat/completions', 'files': None, 'json_data': {'messages': [{'role': 'system', 'content': 'You are not a tracked agent'}, {'role': 'user', 'content': 'Say hello'}], 'model': 'llama3-70b-8192'}}\n",
      "DEBUG:groq._base_client:Sending HTTP Request: POST https://api.groq.com/openai/v1/chat/completions\n",
      "DEBUG:httpcore.http11:send_request_headers.started request=<Request [b'POST']>\n",
      "DEBUG:httpcore.http11:send_request_headers.complete\n",
      "DEBUG:httpcore.http11:send_request_body.started request=<Request [b'POST']>\n",
      "DEBUG:httpcore.http11:send_request_body.complete\n",
      "DEBUG:httpcore.http11:receive_response_headers.started request=<Request [b'POST']>\n",
      "DEBUG:httpcore.http11:receive_response_headers.complete return_value=(b'HTTP/1.1', 200, b'OK', [(b'Date', b'Fri, 09 Aug 2024 08:21:05 GMT'), (b'Content-Type', b'application/json'), (b'Transfer-Encoding', b'chunked'), (b'Connection', b'keep-alive'), (b'Cache-Control', b'private, max-age=0, no-store, no-cache, must-revalidate'), (b'vary', b'Origin'), (b'x-ratelimit-limit-requests', b'1440000000'), (b'x-ratelimit-limit-tokens', b'4000000'), (b'x-ratelimit-remaining-requests', b'1439999999'), (b'x-ratelimit-remaining-tokens', b'3999982'), (b'x-ratelimit-reset-requests', b'59.999\\xc2\\xb5s'), (b'x-ratelimit-reset-tokens', b'270\\xc2\\xb5s'), (b'x-request-id', b'req_01j4v3m8xmfhmv35n2r9xyjyap'), (b'via', b'1.1 google'), (b'alt-svc', b'h3=\":443\"; ma=86400'), (b'CF-Cache-Status', b'DYNAMIC'), (b'Server', b'cloudflare'), (b'CF-RAY', b'8b0654a5cfb4fb50-SJC'), (b'Content-Encoding', b'gzip')])\n",
      "INFO:httpx:HTTP Request: POST https://api.groq.com/openai/v1/chat/completions \"HTTP/1.1 200 OK\"\n",
      "DEBUG:httpcore.http11:receive_response_body.started request=<Request [b'POST']>\n",
      "DEBUG:httpcore.http11:receive_response_body.complete\n",
      "DEBUG:httpcore.http11:response_closed.started\n",
      "DEBUG:httpcore.http11:response_closed.complete\n",
      "DEBUG:groq._base_client:HTTP Response: POST https://api.groq.com/openai/v1/chat/completions \"200 OK\" Headers({'date': 'Fri, 09 Aug 2024 08:21:05 GMT', 'content-type': 'application/json', 'transfer-encoding': 'chunked', 'connection': 'keep-alive', 'cache-control': 'private, max-age=0, no-store, no-cache, must-revalidate', 'vary': 'Origin', 'x-ratelimit-limit-requests': '1440000000', 'x-ratelimit-limit-tokens': '4000000', 'x-ratelimit-remaining-requests': '1439999999', 'x-ratelimit-remaining-tokens': '3999982', 'x-ratelimit-reset-requests': '59.999µs', 'x-ratelimit-reset-tokens': '270µs', 'x-request-id': 'req_01j4v3m8xmfhmv35n2r9xyjyap', 'via': '1.1 google', 'alt-svc': 'h3=\":443\"; ma=86400', 'cf-cache-status': 'DYNAMIC', 'server': 'cloudflare', 'cf-ray': '8b0654a5cfb4fb50-SJC', 'content-encoding': 'gzip'}, encoding='utf-8')\n"
     ]
    },
    {
     "data": {
      "text/plain": [
       "'Hello!'"
      ]
     },
     "execution_count": 11,
     "metadata": {},
     "output_type": "execute_result"
    }
   ],
   "source": [
    "res = groq_client.chat.completions.create(\n",
    "    model=\"llama3-70b-8192\",\n",
    "    messages=[\n",
    "        {\"role\": \"system\", \"content\": \"You are not a tracked agent\"},\n",
    "        {\"role\": \"user\", \"content\": \"Say hello\"},\n",
    "    ],\n",
    ")\n",
    "res.choices[0].message.content"
   ]
  },
  {
   "cell_type": "markdown",
   "id": "a30909020c6a1ada",
   "metadata": {
    "collapsed": false,
    "jupyter": {
     "outputs_hidden": false
    }
   },
   "source": [
    "You'll notice that we didn't log an agent name, so the AgentOps backend will assign it to the Default Agent for the session!"
   ]
  },
  {
   "cell_type": "code",
   "execution_count": null,
   "id": "d7a167c1-61f3-4499-8790-ec001e361e39",
   "metadata": {},
   "outputs": [],
   "source": []
  }
 ],
 "metadata": {
  "kernelspec": {
   "display_name": "Python 3 (ipykernel)",
   "language": "python",
   "name": "python3"
  },
  "language_info": {
   "codemirror_mode": {
    "name": "ipython",
    "version": 3
   },
   "file_extension": ".py",
   "mimetype": "text/x-python",
   "name": "python",
   "nbconvert_exporter": "python",
   "pygments_lexer": "ipython3",
   "version": "3.12.3"
  }
 },
 "nbformat": 4,
 "nbformat_minor": 5
}
