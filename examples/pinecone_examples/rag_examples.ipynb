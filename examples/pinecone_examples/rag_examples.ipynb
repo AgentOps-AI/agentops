{
 "cells": [
  {
   "cell_type": "markdown",
   "id": "87e6bc71",
   "metadata": {},
   "source": [
    "# Pinecone RAG Test\n"
   ]
  },
  {
   "cell_type": "markdown",
   "id": "8c503db5",
   "metadata": {},
   "source": [
    "# Import the necessary libraries"
   ]
  },
  {
   "cell_type": "code",
   "execution_count": 2,
   "id": "c703d336",
   "metadata": {},
   "outputs": [],
   "source": [
    "\n",
    "import agentops\n",
    "from dotenv import load_dotenv\n",
    "from pinecone import Pinecone, ServerlessSpec\n",
    "import numpy as np\n",
    "import os\n",
    "import time\n",
    "from openai import OpenAI\n",
    "\n",
    "load_dotenv()\n",
    "\n",
    "# Initialize clients\n",
    "openai_client = OpenAI()\n",
    "pc = Pinecone(api_key=os.getenv(\"PINECONE_API_KEY\"))\n"
   ]
  },
  {
   "cell_type": "markdown",
   "id": "d7323eb0",
   "metadata": {},
   "source": [
    "# Sample texts"
   ]
  },
  {
   "cell_type": "code",
   "execution_count": 3,
   "id": "4f27205c",
   "metadata": {},
   "outputs": [],
   "source": [
    "\n",
    "# Test dataset - State of the Union paragraphs\n",
    "SAMPLE_TEXTS = [\n",
    "    \"The state of our Union is strong because our people are strong. Over the last year, we've made progress. Created jobs. Reduced deficit. Lowered prescription drug costs.\",\n",
    "    \"We are the only country that has emerged from every crisis stronger than when we entered it. That is what we are doing again.\",\n",
    "    \"We have more to do, but here is the good news: Our country is stronger today than we were a year ago.\",\n",
    "    \"As I stand here tonight, we have created a record 12 million new jobs – more jobs created in two years than any president has ever created in four years.\",\n",
    "    \"For decades, the middle class was hollowed out. Too many good-paying manufacturing jobs moved overseas. Factories closed down.\",\n",
    "]\n"
   ]
  },
  {
   "cell_type": "markdown",
   "id": "75bb583f",
   "metadata": {},
   "source": [
    "# Define helper functions"
   ]
  },
  {
   "cell_type": "code",
   "execution_count": 4,
   "id": "8f2af278",
   "metadata": {},
   "outputs": [],
   "source": [
    "\n",
    "def get_embedding(text, model=\"text-embedding-3-small\"):\n",
    "    \"\"\"Get OpenAI embedding for text\"\"\"\n",
    "    response = openai_client.embeddings.create(\n",
    "        model=model,\n",
    "        input=text,\n",
    "        encoding_format=\"float\"\n",
    "    )\n",
    "    return response.data[0].embedding\n",
    "\n",
    "def create_index(index_name, dimension):\n",
    "    \"\"\"Create Pinecone index\"\"\"\n",
    "    print(f\"Creating index {index_name}...\")\n",
    "    try:\n",
    "        pc.create_index(\n",
    "            name=index_name,\n",
    "            dimension=dimension,\n",
    "            metric=\"cosine\",\n",
    "            spec=ServerlessSpec(cloud=\"aws\", region=\"us-east-1\")\n",
    "        )\n",
    "        while True:\n",
    "            try:\n",
    "                description = pc.describe_index(index_name)\n",
    "                status = description.get(\"status\", {})\n",
    "                if status.get(\"ready\", False):\n",
    "                    break\n",
    "                time.sleep(2)\n",
    "            except Exception as e:\n",
    "                print(f\"Error checking index status: {e}\")\n",
    "                time.sleep(2)\n",
    "        return pc.Index(index_name)\n",
    "    except Exception as e:\n",
    "        print(f\"Error creating index: {e}\")\n",
    "        raise\n",
    "\n",
    "def index_documents(index, texts):\n",
    "    \"\"\"Index documents with their embeddings\"\"\"\n",
    "    print(\"Indexing documents...\")\n",
    "    vectors = [(f\"doc{i}\", get_embedding(text), {\"text\": text}) for i, text in enumerate(texts)]\n",
    "    index.upsert(vectors=vectors, namespace=\"test-namespace\")\n",
    "    print(f\"Indexed {len(vectors)} documents\")\n",
    "\n",
    "def query_similar(index, query, top_k=2):\n",
    "    \"\"\"Query similar documents\"\"\"\n",
    "    print(f\"Querying: {query}\")\n",
    "    query_embedding = get_embedding(query)\n",
    "    results = index.query(vector=query_embedding, top_k=top_k, namespace=\"test-namespace\", include_metadata=True)\n",
    "    for match in results.matches:\n",
    "        print(f\"Score: {match.score:.4f}, Text: {match.metadata['text'][:100]}...\")\n",
    "    return results\n",
    "\n",
    "def generate_answer(query, context):\n",
    "    \"\"\"Generate answer using OpenAI\"\"\"\n",
    "    prompt = f\"Based on the following context, answer the question.\\nContext:\\n{context}\\n\\nQuestion: {query}\"\n",
    "    response = openai_client.chat.completions.create(\n",
    "        model=\"gpt-4o-mini\",\n",
    "        messages=[{\"role\": \"system\", \"content\": \"You are a helpful assistant.\"}, {\"role\": \"user\", \"content\": prompt}]\n",
    "    )\n",
    "    return response.choices[0].message.content\n"
   ]
  },
  {
   "cell_type": "markdown",
   "id": "b30f4e91",
   "metadata": {},
   "source": [
    "# Test the RAG pipeline"
   ]
  },
  {
   "cell_type": "code",
   "execution_count": 5,
   "id": "f28c8dda",
   "metadata": {},
   "outputs": [],
   "source": [
    "\n",
    "def test_rag_pipeline():\n",
    "    \"\"\"Test complete RAG pipeline with additional operations\"\"\"\n",
    "    index_name = \"test-index-rag\"\n",
    "    dimension = 1536\n",
    "    try:\n",
    "        # Check existing indexes and create a new one if needed\n",
    "        if index_name not in pc.list_indexes():\n",
    "            index = create_index(index_name, dimension)\n",
    "        else:\n",
    "            pc.delete_index(index_name)\n",
    "            time.sleep(2)\n",
    "            index = create_index(index_name, dimension)\n",
    "        \n",
    "        # Index sample documents\n",
    "        index_documents(index, SAMPLE_TEXTS)\n",
    "        time.sleep(5)\n",
    "        \n",
    "        # Example queries and response generation\n",
    "        test_queries = [\n",
    "            \"How many jobs were created according to the speech?\",\n",
    "            \"What happened to manufacturing jobs and the middle class?\",\n",
    "            \"What is the current state of the Union?\",\n",
    "            \"What about education?\"\n",
    "        ]\n",
    "        \n",
    "        for query in test_queries:\n",
    "            results = query_similar(index, query)\n",
    "            context = \"\\n\".join([match.metadata[\"text\"] for match in results.matches])\n",
    "            answer = generate_answer(query, context)\n",
    "            print(f\"Q: {query}\\nA: {answer}\\n---\")\n",
    "        \n",
    "        # Clean up by deleting the index\n",
    "        pc.delete_index(index_name)\n",
    "        print(f\"Index {index_name} deleted\")\n",
    "        \n",
    "    except Exception as e:\n",
    "        print(f\"Error during testing: {e}\")\n",
    "        agentops.end_session(end_state=\"Fail\")\n",
    "        return\n",
    "    \n",
    "    agentops.end_session(end_state=\"Success\")\n",
    "    print(\"RAG pipeline test completed successfully!\")\n"
   ]
  },
  {
   "cell_type": "markdown",
   "id": "5650e1a4",
   "metadata": {},
   "source": [
    "# Execute the test"
   ]
  },
  {
   "cell_type": "code",
   "execution_count": 6,
   "id": "f5031b1b",
   "metadata": {},
   "outputs": [
    {
     "name": "stderr",
     "output_type": "stream",
     "text": [
      "🖇 AgentOps:  WARNING: agentops is out of date. Please update with the command: 'pip install --upgrade agentops'\n",
      "🖇 AgentOps: \u001b[34m\u001b[34mSession Replay: https://app.agentops.ai/drilldown?session_id=21dced24-4179-4784-8a86-1fba5a971f6b\u001b[0m\u001b[0m\n"
     ]
    },
    {
     "name": "stdout",
     "output_type": "stream",
     "text": [
      "Creating index test-index-rag...\n",
      "Indexing documents...\n",
      "Indexed 5 documents\n",
      "Querying: How many jobs were created according to the speech?\n",
      "Q: How many jobs were created according to the speech?\n",
      "A: To provide an accurate answer, I would need the specific details or excerpt from the speech that mentions the number of jobs created. Please provide that information, and I’ll be glad to help!\n",
      "---\n",
      "Querying: What happened to manufacturing jobs and the middle class?\n",
      "Q: What happened to manufacturing jobs and the middle class?\n",
      "A: Manufacturing jobs have declined over the decades, significantly impacting the middle class. This decline can be attributed to various factors, including globalization, automation, and shifts in the economy towards service-oriented jobs. As manufacturing jobs, which often provided stable incomes and benefits, have decreased, many workers have struggled to find equivalent employment with similar pay and job security. This shift has contributed to the erosion of the middle class, leading to increased economic inequality and challenges for workers who relied on these jobs to support their families and maintain their standard of living.\n",
      "---\n",
      "Querying: What is the current state of the Union?\n",
      "Score: 0.5374, Text: The state of our Union is strong because our people are strong. Over the last year, we've made progr...\n",
      "Score: 0.3420, Text: We have more to do, but here is the good news: Our country is stronger today than we were a year ago...\n",
      "Q: What is the current state of the Union?\n",
      "A: The current state of the Union is strong, as it is indicated that the country is stronger today than it was a year ago. Progress has been made in creating jobs, reducing the deficit, and lowering prescription drug costs.\n",
      "---\n",
      "Querying: What about education?\n",
      "Score: 0.1816, Text: For decades, the middle class was hollowed out. Too many good-paying manufacturing jobs moved overse...\n",
      "Score: 0.1590, Text: The state of our Union is strong because our people are strong. Over the last year, we've made progr...\n",
      "Q: What about education?\n",
      "A: The provided context does not directly address education. However, it implies that a strong economy and job creation can contribute to better educational opportunities and outcomes. If the middle class is thriving, there might be more resources available for education. For a more comprehensive answer regarding education, additional information would be needed on specific education initiatives, policies, or achievements related to education in the recent context.\n",
      "---\n",
      "Index test-index-rag deleted\n"
     ]
    },
    {
     "name": "stderr",
     "output_type": "stream",
     "text": [
      "🖇 AgentOps: Session Stats - \u001b[1mDuration:\u001b[0m 32.8s | \u001b[1mCost:\u001b[0m $0.000199 | \u001b[1mLLMs:\u001b[0m 4 | \u001b[1mTools:\u001b[0m 0 | \u001b[1mActions:\u001b[0m 18 | \u001b[1mErrors:\u001b[0m 0 | \u001b[1mVectors:\u001b[0m 11\n",
      "🖇 AgentOps: \u001b[34m\u001b[34mSession Replay: https://app.agentops.ai/drilldown?session_id=21dced24-4179-4784-8a86-1fba5a971f6b\u001b[0m\u001b[0m\n"
     ]
    },
    {
     "name": "stdout",
     "output_type": "stream",
     "text": [
      "RAG pipeline test completed successfully!\n"
     ]
    }
   ],
   "source": [
    "\n",
    "if __name__ == \"__main__\":\n",
    "    agentops.init(default_tags=[\"pinecone-rag-test\"])\n",
    "    test_rag_pipeline()\n"
   ]
  }
 ],
 "metadata": {
  "kernelspec": {
   "display_name": "agentops-F4gm0d-M-py3.11",
   "language": "python",
   "name": "python3"
  },
  "language_info": {
   "codemirror_mode": {
    "name": "ipython",
    "version": 3
   },
   "file_extension": ".py",
   "mimetype": "text/x-python",
   "name": "python",
   "nbconvert_exporter": "python",
   "pygments_lexer": "ipython3",
   "version": "3.11.5"
  }
 },
 "nbformat": 4,
 "nbformat_minor": 5
}
