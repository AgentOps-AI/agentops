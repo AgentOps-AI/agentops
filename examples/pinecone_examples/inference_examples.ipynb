{
 "cells": [
  {
   "cell_type": "markdown",
   "id": "c8a5e223",
   "metadata": {},
   "source": [
    "# Pinecone Inference Operations Notebook\n"
   ]
  },
  {
   "cell_type": "markdown",
   "id": "e5e029ce",
   "metadata": {},
   "source": [
    "# Import the necessary libraries"
   ]
  },
  {
   "cell_type": "code",
   "execution_count": 1,
   "id": "2b231e89",
   "metadata": {},
   "outputs": [
    {
     "name": "stderr",
     "output_type": "stream",
     "text": [
      "/Users/maksymliamin/Library/Caches/pypoetry/virtualenvs/agentops-F4gm0d-M-py3.11/lib/python3.11/site-packages/pinecone/data/index.py:1: TqdmWarning: IProgress not found. Please update jupyter and ipywidgets. See https://ipywidgets.readthedocs.io/en/stable/user_install.html\n",
      "  from tqdm.autonotebook import tqdm\n"
     ]
    },
    {
     "data": {
      "text/plain": [
       "True"
      ]
     },
     "execution_count": 1,
     "metadata": {},
     "output_type": "execute_result"
    }
   ],
   "source": [
    "\n",
    "import agentops\n",
    "from dotenv import load_dotenv\n",
    "from pinecone import Pinecone\n",
    "import os\n",
    "from pinecone_plugins.assistant.models.chat import Message\n",
    "import time\n",
    "\n",
    "load_dotenv()  # Load environment variables\n"
   ]
  },
  {
   "cell_type": "markdown",
   "id": "8423d334",
   "metadata": {},
   "source": [
    "# Test inference operations"
   ]
  },
  {
   "cell_type": "code",
   "execution_count": 4,
   "id": "d59d5e4c",
   "metadata": {},
   "outputs": [],
   "source": [
    "\n",
    "def test_inference_operations():\n",
    "    \"\"\"Test Pinecone's Inference API operations\"\"\"\n",
    "    print(\"\\nTesting Pinecone Inference API operations...\")\n",
    "    \n",
    "    # Initialize Pinecone\n",
    "    pc = Pinecone(api_key=os.getenv(\"PINECONE_API_KEY\"))\n",
    "    provider = agentops.llms.PineconeProvider(pc)\n",
    "    \n",
    "    try:\n",
    "        # Embedding generation test\n",
    "        test_texts = [\n",
    "            \"Apple is a popular fruit known for its sweetness.\",\n",
    "            \"Apple Inc. is a technology company that makes iPhones.\"\n",
    "        ]\n",
    "        embeddings = provider.embed(\n",
    "            pc,  \n",
    "            model=\"multilingual-e5-large\",\n",
    "            inputs=test_texts,\n",
    "            parameters={\"input_type\": \"passage\", \"truncate\": \"END\"}\n",
    "        )\n",
    "        print(f\"Generated {len(embeddings.data)} embeddings\")\n",
    "        print(f\"Embedding dimension: {len(embeddings.data[0].values)}\")\n",
    "        \n",
    "        # Document reranking test\n",
    "        rerank_result = provider.rerank(\n",
    "            pc,\n",
    "            model=\"bge-reranker-v2-m3\",\n",
    "            query=\"Tell me about the tech company Apple\",\n",
    "            documents=[\n",
    "                {\"id\": \"vec1\", \"text\": \"Apple is a popular fruit known for its sweetness.\"},\n",
    "                {\"id\": \"vec2\", \"text\": \"Apple Inc. has revolutionized the tech industry with its iPhone.\"}\n",
    "            ],\n",
    "            top_n=2,\n",
    "            return_documents=True\n",
    "        )\n",
    "        for result in rerank_result.data:\n",
    "            print(f\"Score: {result.score:.4f} | Document: {result.document['text'][:100]}...\")\n",
    "\n",
    "    except Exception as e:\n",
    "        print(f\"Error in inference operations: {e}\")\n",
    "        agentops.end_session(end_state=\"Fail\")\n",
    "        return\n",
    "    \n",
    "    agentops.end_session(end_state=\"Success\")\n",
    "    print(\"\\nInference test completed successfully!\")\n"
   ]
  },
  {
   "cell_type": "markdown",
   "id": "05cc2216",
   "metadata": {},
   "source": [
    "# Execute the test"
   ]
  },
  {
   "cell_type": "code",
   "execution_count": 5,
   "id": "0c7dfaaf",
   "metadata": {},
   "outputs": [
    {
     "name": "stderr",
     "output_type": "stream",
     "text": [
      "🖇 AgentOps: AgentOps has already been initialized. If you are trying to start a session, call agentops.start_session() instead.\n"
     ]
    },
    {
     "name": "stdout",
     "output_type": "stream",
     "text": [
      "\n",
      "Testing Pinecone Inference API operations...\n"
     ]
    },
    {
     "name": "stderr",
     "output_type": "stream",
     "text": [
      "🖇 AgentOps:  WARNING: agentops is out of date. Please update with the command: 'pip install --upgrade agentops'\n",
      "🖇 AgentOps: Could not end session - no sessions detected\n"
     ]
    },
    {
     "name": "stdout",
     "output_type": "stream",
     "text": [
      "Generated 2 embeddings\n",
      "Embedding dimension: 1024\n",
      "Score: 0.2187 | Document: Apple Inc. has revolutionized the tech industry with its iPhone....\n",
      "Score: 0.0113 | Document: Apple is a popular fruit known for its sweetness....\n",
      "\n",
      "Inference test completed successfully!\n"
     ]
    }
   ],
   "source": [
    "\n",
    "if __name__ == \"__main__\":\n",
    "    agentops.init(default_tags=[\"pinecone-inference-test\"])\n",
    "    test_inference_operations()\n"
   ]
  }
 ],
 "metadata": {
  "kernelspec": {
   "display_name": "agentops-F4gm0d-M-py3.11",
   "language": "python",
   "name": "python3"
  },
  "language_info": {
   "codemirror_mode": {
    "name": "ipython",
    "version": 3
   },
   "file_extension": ".py",
   "mimetype": "text/x-python",
   "name": "python",
   "nbconvert_exporter": "python",
   "pygments_lexer": "ipython3",
   "version": "3.11.5"
  }
 },
 "nbformat": 4,
 "nbformat_minor": 5
}
