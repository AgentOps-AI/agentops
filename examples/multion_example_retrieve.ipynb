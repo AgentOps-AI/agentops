{
 "cells": [
  {
   "cell_type": "code",
   "execution_count": null,
   "metadata": {},
   "outputs": [],
   "source": [
    "%pip install -e ../../../HowieG/multion-python\n",
    "%pip install .."
   ]
  },
  {
   "cell_type": "code",
   "execution_count": null,
   "metadata": {},
   "outputs": [],
   "source": [
    "import multion\n",
    "from multion.client import MultiOn\n",
    "import os\n",
    "\n",
    "multion = MultiOn(\n",
    "    api_key=os.environ.get(\"MULTION_API_KEY\"),\n",
    "    agentops_api_key=os.environ.get(\"AGENTOPS_API_KEY\"),\n",
    ")\n",
    "create_session_params = {\"url\": \"https://www.rei.com/\"}\n",
    "\n",
    "create_session_response = multion.sessions.create(**create_session_params)\n",
    "session_id = create_session_response.session_id\n",
    "cmd = \"find the cheapest satellite phone on REI\"\n",
    "print(create_session_response.message)\n",
    "\n",
    "retrieve_response = multion.sessions.retrieve(session_id=session_id, cmd=cmd, url=\"https://www.rei.com/\", fields=[\"price\"], page_number=2, include_screenshot=True)\n",
    "print(retrieve_response.message)\n",
    "\n",
    "while retrieve_response.status == \"CONTINUE\":\n",
    "    retrieve_response = multion.sessions.retrieve(\n",
    "        session_id=session_id,\n",
    "        cmd=cmd,\n",
    "        url=\"https://www.rei.com/\",\n",
    "        fields=[\"price\"],\n",
    "        page_number=2,\n",
    "        include_screenshot=True,\n",
    "    )\n",
    "    print(retrieve_response.message)\n",
    "\n",
    "if retrieve_response.status == \"DONE\":\n",
    "    print(\"task completed\")\n",
    "\n",
    "get_screenshot = multion.sessions.screenshot(session_id=session_id)\n",
    "close_session_response = multion.sessions.close(session_id=session_id)"
   ]
  }
 ],
 "metadata": {
  "kernelspec": {
   "display_name": "env",
   "language": "python",
   "name": "python3"
  },
  "language_info": {
   "codemirror_mode": {
    "name": "ipython",
    "version": 3
   },
   "file_extension": ".py",
   "mimetype": "text/x-python",
   "name": "python",
   "nbconvert_exporter": "python",
   "pygments_lexer": "ipython3",
   "version": "3.12.2"
  }
 },
 "nbformat": 4,
 "nbformat_minor": 2
}
