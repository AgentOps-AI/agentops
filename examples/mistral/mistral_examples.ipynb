{
 "cells": [
  {
   "cell_type": "markdown",
   "metadata": {},
   "source": [
    "# Mistral Example\n",
    "Uses the mistralai library to interact with Mistral"
   ]
  },
  {
   "cell_type": "markdown",
   "metadata": {},
   "source": [
    "First let's install the required packages"
   ]
  },
  {
   "cell_type": "code",
   "execution_count": null,
   "metadata": {},
   "outputs": [],
   "source": [
    "%pip install -U mistralai\n",
    "%pip install -U agentops"
   ]
  },
  {
   "cell_type": "markdown",
   "metadata": {},
   "source": [
    "Then import them"
   ]
  },
  {
   "cell_type": "code",
   "execution_count": 1,
   "metadata": {},
   "outputs": [],
   "source": [
    "from mistralai import Mistral\n",
    "from dotenv import load_dotenv\n",
    "import os\n",
    "import agentops"
   ]
  },
  {
   "cell_type": "markdown",
   "metadata": {},
   "source": [
    "Next, we'll grab our API keys. You can use dotenv like below or however else you like to load environment variables"
   ]
  },
  {
   "cell_type": "code",
   "execution_count": 2,
   "metadata": {},
   "outputs": [],
   "source": [
    "load_dotenv()\n",
    "MISTRAL_API_KEY = os.getenv(\"MISTRAL_API_KEY\") or \"<your_mistral_key>\"\n",
    "AGENTOPS_API_KEY = os.getenv(\"AGENTOPS_API_KEY\") or \"<your_agentops_key>\""
   ]
  },
  {
   "cell_type": "code",
   "execution_count": 3,
   "metadata": {},
   "outputs": [
    {
     "name": "stderr",
     "output_type": "stream",
     "text": [
      "🖇 AgentOps: \u001b[34m\u001b[34mSession Replay: https://app.agentops.ai/drilldown?session_id=d03da43c-f1fa-46b0-9e93-f56f2a8273d6\u001b[0m\u001b[0m\n"
     ]
    }
   ],
   "source": [
    "agentops.init(AGENTOPS_API_KEY, default_tags=[\"mistral-example\"])\n",
    "client = Mistral(MISTRAL_API_KEY)"
   ]
  },
  {
   "cell_type": "code",
   "execution_count": 4,
   "metadata": {},
   "outputs": [
    {
     "name": "stdout",
     "output_type": "stream",
     "text": [
      "The answer to 2+2 is 4.\n"
     ]
    }
   ],
   "source": [
    "response = client.chat.complete(\n",
    "    model=\"open-mistral-nemo\",\n",
    "    messages=[\n",
    "    {\n",
    "        \"role\": \"user\",\n",
    "        \"content\": \"What is 2+2?\",\n",
    "    },\n",
    "])\n",
    "print(response.choices[0].message.content)"
   ]
  },
  {
   "cell_type": "code",
   "execution_count": 5,
   "metadata": {},
   "outputs": [
    {
     "name": "stdout",
     "output_type": "stream",
     "text": [
      "Sure, I'd be happy to explain the addition of 2 + 2 step by step in a simple and clear way:\n",
      "\n",
      "1. **Understand the Numbers**: We start with two numbers, 2 and 2. Each of these numbers represents a quantity.\n",
      "\n",
      "2. **Identify the Operation**: The symbol \"+\" between them indicates that we're performing addition. Addition is a mathematical operation that combines two or more numbers to find a total.\n",
      "\n",
      "3. **Break it Down**: To make it easier to understand, let's break down the numbers into their individual parts. Each 2 can be thought of as two ones (2 = 1 + 1).\n",
      "\n",
      "4. **Combine the Ones**: Now, let's combine all the ones from both numbers. We have 2 ones from the first 2 and 2 ones from the second 2, making a total of 4 ones.\n",
      "\n",
      "5. **Write the Answer**: In the standard way of writing numbers, we write 4 ones as \"4\". So, 2 + 2 equals 4.\n",
      "\n",
      "Here's a simple visual representation:\n",
      "\n",
      "```\n",
      " 2\n",
      "+2\n",
      "----\n",
      " 4\n",
      "```\n",
      "\n",
      "So, 2 + 2 equals 4.\n"
     ]
    }
   ],
   "source": [
    "async def main() -> None:\n",
    "    response = await client.chat.complete_async(\n",
    "        model=\"open-mistral-nemo\",\n",
    "        messages=[\n",
    "        {\n",
    "            \"role\": \"user\",\n",
    "            \"content\": \"Explain step by step what is 2+2?\",\n",
    "        }]\n",
    "    )\n",
    "    print(response.choices[0].message.content)\n",
    "\n",
    "\n",
    "await main()"
   ]
  },
  {
   "cell_type": "code",
   "execution_count": 11,
   "metadata": {},
   "outputs": [
    {
     "name": "stdout",
     "output_type": "stream",
     "text": [
      "The Leibniz theorem, named after Gottfried Wilhelm Leibniz, is a fundamental result in calculus that provides a way to find the derivative of a product of two functions. It's also known as the \"product rule.\" Here's the theorem:\n",
      "\n",
      "**Leibniz Theorem (Product Rule):**\n",
      "If *u(x)* and *v(x)* are differentiable functions of *x*, then the derivative of their product is given by:\n",
      "\n",
      "*d/dx [u(x) * v(x)] = u'(x) * v(x) + u(x) * v'(x)*\n",
      "\n",
      "Where:\n",
      "- *u'(x)* is the derivative of *u(x)* with respect to *x*\n",
      "- *v'(x)* is the derivative of *v(x)* with respect to *x*\n",
      "\n",
      "In other words, the derivative of a product of two functions is the first function times the derivative of the second, plus the second function times the derivative of the first.\n",
      "\n",
      "Here's a simple example to illustrate the theorem:\n",
      "\n",
      "Let *u(x) = x²* and *v(x) = 3x*. Then,\n",
      "\n",
      "*u'(x) = 2x* and *v'(x) = 3*\n",
      "\n",
      "Using the Leibniz theorem:\n",
      "\n",
      "*d/dx [u(x) * v(x)] = d/dx [x² * 3x] = (2x) * (3x) + (x²) * (3) = 6x² + 3x*\n",
      "\n",
      "You can verify this result by finding the derivative of the product *x² * 3x* directly.\n"
     ]
    }
   ],
   "source": [
    "response = client.chat.stream(\n",
    "    model=\"open-mistral-nemo\",\n",
    "    messages=[\n",
    "    {\n",
    "        \"role\": \"user\",\n",
    "        \"content\": \"What is the Leibniz theorem?\",\n",
    "    }]\n",
    ")\n",
    "\n",
    "result = \"\"\n",
    "for event in response:\n",
    "    if event.data.choices[0].finish_reason == \"stop\":\n",
    "        print(result)\n",
    "    else:\n",
    "        result += event.data.choices[0].delta.content"
   ]
  },
  {
   "cell_type": "code",
   "execution_count": 10,
   "metadata": {},
   "outputs": [
    {
     "name": "stdout",
     "output_type": "stream",
     "text": [
      "The meaning of life is a philosophical question that has been debated for centuries, and it doesn't have one definitive answer as it can vary greatly depending on personal beliefs, religious or spiritual views, and philosophical persuasions. Here are a few perspectives:\n",
      "\n",
      "1. **Existentialism**: Existentialists like Jean-Paul Sartre argued that life has no inherent meaning, and it's up to each individual to create their own purpose.\n",
      "\n",
      "2. **Religious and Spiritual Perspectives**: Many religions provide their own answers. For example:\n",
      "   - In Christianity, the purpose of life might be seen as loving and serving God and others, and preparing for eternal life.\n",
      "   - In Buddhism, the purpose could be achieving enlightenment and ending the cycle of rebirth.\n",
      "   - In Hinduism, the purpose might involve fulfilling one's dharma and ultimately achieving Moksha (liberation from the cycle of life and death).\n",
      "\n",
      "3. **Hedonism**: Hedonists believe the purpose of life is to seek pleasure and happiness.\n",
      "\n",
      "4. **Altruism**: Some people find meaning in life through helping others and making the world a better place.\n",
      "\n",
      "5. **Personal Growth**: Many people find purpose in learning, growing, and becoming the best version of themselves.\n",
      "\n",
      "6. **Biological Perspective**: From a scientific or biological standpoint, one might say the purpose of life is to survive and reproduce.\n",
      "\n",
      "7. **The Answer from \"The Hitchhiker's Guide to the Galaxy\"**: In this book by Douglas Adams, the answer to the Ultimate Question of Life, The Universe, and Everything is... 42. This is a humorous and arbitrary answer, highlighting the absurdity of the question.\n",
      "\n",
      "Ultimately, the meaning of life may be a deeply personal and subjective concept. It could be helpful to reflect on what gives your life purpose and what you're passionate about.\n"
     ]
    }
   ],
   "source": [
    "async def main() -> None:\n",
    "    response = await client.chat.stream_async(\n",
    "        model=\"open-mistral-nemo\",\n",
    "        messages=[\n",
    "        {\n",
    "            \"role\": \"user\",\n",
    "            \"content\": \"What is the meaning of life?\",\n",
    "        }]\n",
    "    )\n",
    "\n",
    "    result = \"\"\n",
    "    async for event in response:\n",
    "        if event.data.choices[0].finish_reason == \"stop\":\n",
    "            print(result)\n",
    "        else:\n",
    "            result += event.data.choices[0].delta.content\n",
    "\n",
    "await main()"
   ]
  },
  {
   "cell_type": "code",
   "execution_count": 12,
   "metadata": {},
   "outputs": [
    {
     "name": "stderr",
     "output_type": "stream",
     "text": [
      "🖇 AgentOps: This run's cost $0.00\n",
      "🖇 AgentOps: \u001b[34m\u001b[34mSession Replay: https://app.agentops.ai/drilldown?session_id=d03da43c-f1fa-46b0-9e93-f56f2a8273d6\u001b[0m\u001b[0m\n"
     ]
    }
   ],
   "source": [
    "agentops.end_session(\"Success\")"
   ]
  }
 ],
 "metadata": {
  "kernelspec": {
   "display_name": "ops",
   "language": "python",
   "name": "python3"
  },
  "language_info": {
   "codemirror_mode": {
    "name": "ipython",
    "version": 3
   },
   "file_extension": ".py",
   "mimetype": "text/x-python",
   "name": "python",
   "nbconvert_exporter": "python",
   "pygments_lexer": "ipython3",
   "version": "3.9.19"
  }
 },
 "nbformat": 4,
 "nbformat_minor": 2
}
