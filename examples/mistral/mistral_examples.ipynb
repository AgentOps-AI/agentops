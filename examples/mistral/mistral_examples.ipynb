{
 "cells": [
  {
   "cell_type": "markdown",
   "metadata": {},
   "source": [
    "# Mistral Example\n",
    "Uses the mistralai library to interact with Mistral"
   ]
  },
  {
   "cell_type": "markdown",
   "metadata": {},
   "source": [
    "First let's install the required packages"
   ]
  },
  {
   "cell_type": "code",
   "execution_count": null,
   "metadata": {},
   "outputs": [],
   "source": [
    "%pip install -U mistralai\n",
    "%pip install -U agentops"
   ]
  },
  {
   "cell_type": "markdown",
   "metadata": {},
   "source": [
    "Then import them"
   ]
  },
  {
   "cell_type": "code",
   "execution_count": 1,
   "metadata": {},
   "outputs": [],
   "source": [
    "from mistralai import Mistral\n",
    "from dotenv import load_dotenv\n",
    "import os\n",
    "import agentops"
   ]
  },
  {
   "cell_type": "markdown",
   "metadata": {},
   "source": [
    "Next, we'll grab our API keys. You can use dotenv like below or however else you like to load environment variables"
   ]
  },
  {
   "cell_type": "code",
   "execution_count": 2,
   "metadata": {},
   "outputs": [],
   "source": [
    "load_dotenv()\n",
    "MISTRAL_API_KEY = os.getenv(\"MISTRAL_API_KEY\") or \"<your_mistral_key>\"\n",
    "AGENTOPS_API_KEY = os.getenv(\"AGENTOPS_API_KEY\") or \"<your_agentops_key>\""
   ]
  },
  {
   "cell_type": "code",
   "execution_count": 3,
   "metadata": {},
   "outputs": [
    {
     "name": "stderr",
     "output_type": "stream",
     "text": [
      "🖇 AgentOps:  WARNING: agentops is out of date. Please update with the command: 'pip install --upgrade agentops'\n",
      "🖇 AgentOps: \u001b[34m\u001b[34mSession Replay: https://app.agentops.ai/drilldown?session_id=c549f59d-9944-45a7-a5bd-3ada559bad19\u001b[0m\u001b[0m\n"
     ]
    }
   ],
   "source": [
    "agentops.init(AGENTOPS_API_KEY, default_tags=[\"mistral-example\"])\n",
    "client = Mistral(MISTRAL_API_KEY)"
   ]
  },
  {
   "cell_type": "code",
   "execution_count": 4,
   "metadata": {},
   "outputs": [
    {
     "name": "stdout",
     "output_type": "stream",
     "text": [
      "The meaning of life is a philosophical question that has been debated for centuries, and it doesn't have one definitive answer as it can vary greatly depending on personal beliefs, religious or spiritual views, and philosophical persuasions. Here are a few perspectives:\n",
      "\n",
      "1. **Existentialism**: Existentialists like Jean-Paul Sartre and Simone de Beauvoir argued that life has no inherent meaning, and it's up to each individual to create their own purpose.\n",
      "\n",
      "2. **Religious and Spiritual Perspectives**: Many religions offer their own answers. For example:\n",
      "   - In Christianity, the purpose of life might be seen as loving and serving God and others, and preparing for eternal life.\n",
      "   - In Buddhism, the purpose could be achieving enlightenment and escaping the cycle of rebirth.\n",
      "   - In Hinduism, the purpose might involve fulfilling one's dharma and ultimately achieving Moksha (liberation from the cycle of birth and death).\n",
      "\n",
      "3. **Hedonism**: Hedonists believe the purpose of life is to seek pleasure and happiness.\n",
      "\n",
      "4. **Altruism**: Some people find meaning in life through helping others and making the world a better place.\n",
      "\n",
      "5. **Personal Growth**: Many people find purpose in learning, growing, and becoming the best version of themselves.\n",
      "\n",
      "6. **Biological Perspective**: From a scientific or biological standpoint, one might say the purpose of life is to survive and reproduce.\n",
      "\n",
      "7. **The Answer from \"The Hitchhiker's Guide to the Galaxy\"**: In this book by Douglas Adams, the answer to the Ultimate Question of Life, The Universe, and Everything is... 42. It's a humorous and arbitrary answer, highlighting the absurdity of the question.\n",
      "\n",
      "Ultimately, the meaning of life may be a deeply personal and subjective concept. It could be helpful to reflect on what gives your life purpose and what you're passionate about.\n"
     ]
    }
   ],
   "source": [
    "response = client.chat.complete(\n",
    "    model=\"open-mistral-nemo\",\n",
    "    messages=[\n",
    "    {\n",
    "        \"role\": \"user\",\n",
    "        \"content\": \"What is 2+2?\",\n",
    "    },\n",
    "])\n",
    "print(response.choices[0].message.content)"
   ]
  },
  {
   "cell_type": "code",
   "execution_count": 5,
   "metadata": {},
   "outputs": [
    {
     "name": "stdout",
     "output_type": "stream",
     "text": [
      "The sum of 2 + 2 is 4.\n"
     ]
    }
   ],
   "source": [
    "res = client.chat.stream(\n",
    "    model=\"open-mistral-nemo\",\n",
    "    messages=[\n",
    "    {\n",
    "        \"role\": \"user\",\n",
    "        \"content\": \"What is the meaning of life?\",\n",
    "    }]\n",
    ")\n",
    "\n",
    "result = \"\"\n",
    "for event in res:\n",
    "    if event.data.choices[0].finish_reason == \"stop\":\n",
    "        print(result)\n",
    "    else:\n",
    "        result += event.data.choices[0].delta.content"
   ]
  },
  {
   "cell_type": "code",
   "execution_count": 6,
   "metadata": {},
   "outputs": [
    {
     "name": "stderr",
     "output_type": "stream",
     "text": [
      "🖇 AgentOps: This run's cost $0.00\n",
      "🖇 AgentOps: \u001b[34m\u001b[34mSession Replay: https://app.agentops.ai/drilldown?session_id=c549f59d-9944-45a7-a5bd-3ada559bad19\u001b[0m\u001b[0m\n"
     ]
    }
   ],
   "source": [
    "agentops.end_session(\"Success\")"
   ]
  }
 ],
 "metadata": {
  "kernelspec": {
   "display_name": "ops",
   "language": "python",
   "name": "python3"
  },
  "language_info": {
   "codemirror_mode": {
    "name": "ipython",
    "version": 3
   },
   "file_extension": ".py",
   "mimetype": "text/x-python",
   "name": "python",
   "nbconvert_exporter": "python",
   "pygments_lexer": "ipython3",
   "version": "3.9.19"
  }
 },
 "nbformat": 4,
 "nbformat_minor": 2
}
