{
 "cells": [
  {
   "cell_type": "markdown",
   "id": "e5f12856",
   "metadata": {},
   "source": [
    "# Monitoring Mistral with AgentOps\n",
    "\n",
    "This notebook demonstrates how to monitor and analyze Mistral model runs using AgentOps. We'll cover:\n",
    "- Basic model completions with monitoring\n",
    "- Streaming responses\n",
    "- Async operations\n",
    "- Custom event tracking"
   ]
  },
  {
   "cell_type": "markdown",
   "id": "da8f9aa4",
   "metadata": {},
   "source": [
    "## Setup\n",
    "\n",
    "First, let's install the required packages:"
   ]
  },
  {
   "cell_type": "code",
   "execution_count": 1,
   "id": "83cdfb5f",
   "metadata": {
    "execution": {
     "iopub.execute_input": "2024-12-12T21:48:41.386023Z",
     "iopub.status.busy": "2024-12-12T21:48:41.385807Z",
     "iopub.status.idle": "2024-12-12T21:48:43.143389Z",
     "shell.execute_reply": "2024-12-12T21:48:43.142549Z"
    }
   },
   "outputs": [
    {
     "name": "stdout",
     "output_type": "stream",
     "text": [
      "Requirement already satisfied: mistralai in /home/ubuntu/.pyenv/versions/3.12.7/lib/python3.12/site-packages (1.2.5)\r\n"
     ]
    },
    {
     "name": "stdout",
     "output_type": "stream",
     "text": [
      "Requirement already satisfied: agentops in /home/ubuntu/.pyenv/versions/3.12.7/lib/python3.12/site-packages (0.3.21)\r\n"
     ]
    },
    {
     "name": "stdout",
     "output_type": "stream",
     "text": [
      "Requirement already satisfied: python-dotenv in /home/ubuntu/.pyenv/versions/3.12.7/lib/python3.12/site-packages (1.0.1)\r\n",
      "Requirement already satisfied: eval-type-backport<0.3.0,>=0.2.0 in /home/ubuntu/.pyenv/versions/3.12.7/lib/python3.12/site-packages (from mistralai) (0.2.0)\r\n",
      "Requirement already satisfied: httpx<0.28.0,>=0.27.0 in /home/ubuntu/.pyenv/versions/3.12.7/lib/python3.12/site-packages (from mistralai) (0.27.2)\r\n",
      "Requirement already satisfied: jsonpath-python<2.0.0,>=1.0.6 in /home/ubuntu/.pyenv/versions/3.12.7/lib/python3.12/site-packages (from mistralai) (1.0.6)\r\n",
      "Requirement already satisfied: pydantic<3.0.0,>=2.9.0 in /home/ubuntu/.pyenv/versions/3.12.7/lib/python3.12/site-packages (from mistralai) (2.10.3)\r\n",
      "Requirement already satisfied: python-dateutil<3.0.0,>=2.8.2 in /home/ubuntu/.pyenv/versions/3.12.7/lib/python3.12/site-packages (from mistralai) (2.9.0.post0)\r\n",
      "Requirement already satisfied: typing-inspect<0.10.0,>=0.9.0 in /home/ubuntu/.pyenv/versions/3.12.7/lib/python3.12/site-packages (from mistralai) (0.9.0)\r\n",
      "Requirement already satisfied: requests<3.0.0,>=2.0.0 in /home/ubuntu/.pyenv/versions/3.12.7/lib/python3.12/site-packages (from agentops) (2.32.3)\r\n",
      "Requirement already satisfied: psutil<6.1.0,>=5.9.8 in /home/ubuntu/.pyenv/versions/3.12.7/lib/python3.12/site-packages (from agentops) (6.0.0)\r\n",
      "Requirement already satisfied: termcolor<2.5.0,>=2.3.0 in /home/ubuntu/.pyenv/versions/3.12.7/lib/python3.12/site-packages (from agentops) (2.4.0)\r\n",
      "Requirement already satisfied: PyYAML<7.0,>=5.3 in /home/ubuntu/.pyenv/versions/3.12.7/lib/python3.12/site-packages (from agentops) (6.0.2)\r\n",
      "Requirement already satisfied: opentelemetry-api<2.0.0,>=1.22.0 in /home/ubuntu/.pyenv/versions/3.12.7/lib/python3.12/site-packages (from agentops) (1.28.2)\r\n",
      "Requirement already satisfied: opentelemetry-sdk<2.0.0,>=1.22.0 in /home/ubuntu/.pyenv/versions/3.12.7/lib/python3.12/site-packages (from agentops) (1.28.2)\r\n",
      "Requirement already satisfied: opentelemetry-exporter-otlp-proto-http<2.0.0,>=1.22.0 in /home/ubuntu/.pyenv/versions/3.12.7/lib/python3.12/site-packages (from agentops) (1.28.2)\r\n",
      "Requirement already satisfied: anyio in /home/ubuntu/.pyenv/versions/3.12.7/lib/python3.12/site-packages (from httpx<0.28.0,>=0.27.0->mistralai) (4.7.0)\r\n"
     ]
    },
    {
     "name": "stdout",
     "output_type": "stream",
     "text": [
      "Requirement already satisfied: certifi in /home/ubuntu/.pyenv/versions/3.12.7/lib/python3.12/site-packages (from httpx<0.28.0,>=0.27.0->mistralai) (2024.8.30)\r\n",
      "Requirement already satisfied: httpcore==1.* in /home/ubuntu/.pyenv/versions/3.12.7/lib/python3.12/site-packages (from httpx<0.28.0,>=0.27.0->mistralai) (1.0.7)\r\n",
      "Requirement already satisfied: idna in /home/ubuntu/.pyenv/versions/3.12.7/lib/python3.12/site-packages (from httpx<0.28.0,>=0.27.0->mistralai) (3.10)\r\n",
      "Requirement already satisfied: sniffio in /home/ubuntu/.pyenv/versions/3.12.7/lib/python3.12/site-packages (from httpx<0.28.0,>=0.27.0->mistralai) (1.3.1)\r\n",
      "Requirement already satisfied: h11<0.15,>=0.13 in /home/ubuntu/.pyenv/versions/3.12.7/lib/python3.12/site-packages (from httpcore==1.*->httpx<0.28.0,>=0.27.0->mistralai) (0.14.0)\r\n",
      "Requirement already satisfied: deprecated>=1.2.6 in /home/ubuntu/.pyenv/versions/3.12.7/lib/python3.12/site-packages (from opentelemetry-api<2.0.0,>=1.22.0->agentops) (1.2.15)\r\n",
      "Requirement already satisfied: importlib-metadata<=8.5.0,>=6.0 in /home/ubuntu/.pyenv/versions/3.12.7/lib/python3.12/site-packages (from opentelemetry-api<2.0.0,>=1.22.0->agentops) (8.5.0)\r\n",
      "Requirement already satisfied: googleapis-common-protos~=1.52 in /home/ubuntu/.pyenv/versions/3.12.7/lib/python3.12/site-packages (from opentelemetry-exporter-otlp-proto-http<2.0.0,>=1.22.0->agentops) (1.66.0)\r\n",
      "Requirement already satisfied: opentelemetry-exporter-otlp-proto-common==1.28.2 in /home/ubuntu/.pyenv/versions/3.12.7/lib/python3.12/site-packages (from opentelemetry-exporter-otlp-proto-http<2.0.0,>=1.22.0->agentops) (1.28.2)\r\n",
      "Requirement already satisfied: opentelemetry-proto==1.28.2 in /home/ubuntu/.pyenv/versions/3.12.7/lib/python3.12/site-packages (from opentelemetry-exporter-otlp-proto-http<2.0.0,>=1.22.0->agentops) (1.28.2)\r\n",
      "Requirement already satisfied: protobuf<6.0,>=5.0 in /home/ubuntu/.pyenv/versions/3.12.7/lib/python3.12/site-packages (from opentelemetry-proto==1.28.2->opentelemetry-exporter-otlp-proto-http<2.0.0,>=1.22.0->agentops) (5.29.1)\r\n",
      "Requirement already satisfied: opentelemetry-semantic-conventions==0.49b2 in /home/ubuntu/.pyenv/versions/3.12.7/lib/python3.12/site-packages (from opentelemetry-sdk<2.0.0,>=1.22.0->agentops) (0.49b2)\r\n",
      "Requirement already satisfied: typing-extensions>=3.7.4 in /home/ubuntu/.pyenv/versions/3.12.7/lib/python3.12/site-packages (from opentelemetry-sdk<2.0.0,>=1.22.0->agentops) (4.12.2)\r\n",
      "Requirement already satisfied: annotated-types>=0.6.0 in /home/ubuntu/.pyenv/versions/3.12.7/lib/python3.12/site-packages (from pydantic<3.0.0,>=2.9.0->mistralai) (0.7.0)\r\n",
      "Requirement already satisfied: pydantic-core==2.27.1 in /home/ubuntu/.pyenv/versions/3.12.7/lib/python3.12/site-packages (from pydantic<3.0.0,>=2.9.0->mistralai) (2.27.1)\r\n",
      "Requirement already satisfied: six>=1.5 in /home/ubuntu/.pyenv/versions/3.12.7/lib/python3.12/site-packages (from python-dateutil<3.0.0,>=2.8.2->mistralai) (1.17.0)\r\n",
      "Requirement already satisfied: charset-normalizer<4,>=2 in /home/ubuntu/.pyenv/versions/3.12.7/lib/python3.12/site-packages (from requests<3.0.0,>=2.0.0->agentops) (3.4.0)\r\n",
      "Requirement already satisfied: urllib3<3,>=1.21.1 in /home/ubuntu/.pyenv/versions/3.12.7/lib/python3.12/site-packages (from requests<3.0.0,>=2.0.0->agentops) (2.2.3)\r\n",
      "Requirement already satisfied: mypy-extensions>=0.3.0 in /home/ubuntu/.pyenv/versions/3.12.7/lib/python3.12/site-packages (from typing-inspect<0.10.0,>=0.9.0->mistralai) (1.0.0)\r\n",
      "Requirement already satisfied: wrapt<2,>=1.10 in /home/ubuntu/.pyenv/versions/3.12.7/lib/python3.12/site-packages (from deprecated>=1.2.6->opentelemetry-api<2.0.0,>=1.22.0->agentops) (1.17.0)\r\n"
     ]
    },
    {
     "name": "stdout",
     "output_type": "stream",
     "text": [
      "Requirement already satisfied: zipp>=3.20 in /home/ubuntu/.pyenv/versions/3.12.7/lib/python3.12/site-packages (from importlib-metadata<=8.5.0,>=6.0->opentelemetry-api<2.0.0,>=1.22.0->agentops) (3.21.0)\r\n"
     ]
    },
    {
     "name": "stdout",
     "output_type": "stream",
     "text": [
      "\r\n",
      "\u001b[1m[\u001b[0m\u001b[34;49mnotice\u001b[0m\u001b[1;39;49m]\u001b[0m\u001b[39;49m A new release of pip is available: \u001b[0m\u001b[31;49m24.2\u001b[0m\u001b[39;49m -> \u001b[0m\u001b[32;49m24.3.1\u001b[0m\r\n",
      "\u001b[1m[\u001b[0m\u001b[34;49mnotice\u001b[0m\u001b[1;39;49m]\u001b[0m\u001b[39;49m To update, run: \u001b[0m\u001b[32;49m/home/ubuntu/.pyenv/versions/3.12.7/bin/python3 -m pip install --upgrade pip\u001b[0m\r\n"
     ]
    },
    {
     "name": "stdout",
     "output_type": "stream",
     "text": [
      "Note: you may need to restart the kernel to use updated packages.\n"
     ]
    }
   ],
   "source": [
    "%pip install -U mistralai agentops python-dotenv"
   ]
  },
  {
   "cell_type": "markdown",
   "id": "2d6cd0e6",
   "metadata": {},
   "source": [
    "Import dependencies and initialize clients:"
   ]
  },
  {
   "cell_type": "code",
   "execution_count": 2,
   "id": "afe63572",
   "metadata": {
    "execution": {
     "iopub.execute_input": "2024-12-12T21:48:43.146524Z",
     "iopub.status.busy": "2024-12-12T21:48:43.146189Z",
     "iopub.status.idle": "2024-12-12T21:48:43.930912Z",
     "shell.execute_reply": "2024-12-12T21:48:43.930130Z"
    }
   },
   "outputs": [
    {
     "name": "stdout",
     "output_type": "stream",
     "text": [
      "Warning: Missing API keys. Please set MISTRAL_API_KEY and AGENTOPS_API_KEY in your .env file\n",
      "Using placeholder responses for demonstration purposes.\n",
      "Running in demonstration mode with placeholder responses\n"
     ]
    }
   ],
   "source": [
    "from mistralai import Mistral\n",
    "import agentops\n",
    "import os\n",
    "from dotenv import load_dotenv\n",
    "\n",
    "# Load environment variables\n",
    "load_dotenv()\n",
    "\n",
    "# Function to validate API keys\n",
    "def validate_api_keys():\n",
    "    mistral_key = os.getenv(\"MISTRAL_API_KEY\")\n",
    "    agentops_key = os.getenv(\"AGENTOPS_API_KEY\")\n",
    "\n",
    "    if not mistral_key or not agentops_key:\n",
    "        print(\"Warning: Missing API keys. Please set MISTRAL_API_KEY and AGENTOPS_API_KEY in your .env file\")\n",
    "        print(\"Using placeholder responses for demonstration purposes.\")\n",
    "        return False\n",
    "    return True\n",
    "\n",
    "# Initialize clients with validation\n",
    "has_valid_keys = validate_api_keys()\n",
    "\n",
    "try:\n",
    "    if has_valid_keys:\n",
    "        agentops.init(os.getenv(\"AGENTOPS_API_KEY\"))\n",
    "        client = Mistral(api_key=os.getenv(\"MISTRAL_API_KEY\"))\n",
    "        print(\"Successfully initialized AgentOps and Mistral clients\")\n",
    "    else:\n",
    "        print(\"Running in demonstration mode with placeholder responses\")\n",
    "except Exception as e:\n",
    "    print(f\"Error initializing clients: {str(e)}\")\n",
    "    has_valid_keys = False"
   ]
  },
  {
   "cell_type": "markdown",
   "id": "dec05a69",
   "metadata": {},
   "source": [
    "## Basic Completion with Monitoring\n",
    "\n",
    "Let's create a simple function that gets completions from Mistral and is monitored by AgentOps:"
   ]
  },
  {
   "cell_type": "code",
   "execution_count": 3,
   "id": "8eb7d2ea",
   "metadata": {
    "execution": {
     "iopub.execute_input": "2024-12-12T21:48:43.933528Z",
     "iopub.status.busy": "2024-12-12T21:48:43.933303Z",
     "iopub.status.idle": "2024-12-12T21:48:43.938566Z",
     "shell.execute_reply": "2024-12-12T21:48:43.937895Z"
    }
   },
   "outputs": [
    {
     "name": "stdout",
     "output_type": "stream",
     "text": [
      "This is a placeholder response. Please set valid API keys to get actual completions.\n"
     ]
    }
   ],
   "source": [
    "@agentops.track_agent(name='mistral-agent')\n",
    "def get_completion(prompt):\n",
    "    \"\"\"Get a completion from Mistral with monitoring.\"\"\"\n",
    "    if not has_valid_keys:\n",
    "        return \"This is a placeholder response. Please set valid API keys to get actual completions.\"\n",
    "\n",
    "    try:\n",
    "        response = client.chat.complete(\n",
    "            model=\"mistral-small-latest\",\n",
    "            messages=[{\"role\": \"user\", \"content\": prompt}]\n",
    "        )\n",
    "        return response.choices[0].message.content\n",
    "    except Exception as e:\n",
    "        print(f\"Error getting completion: {str(e)}\")\n",
    "        return f\"Error: {str(e)}\"\n",
    "\n",
    "# Example usage\n",
    "response = get_completion(\"Explain quantum computing in simple terms\")\n",
    "print(response)"
   ]
  },
  {
   "cell_type": "markdown",
   "id": "461c79da",
   "metadata": {},
   "source": [
    "## Streaming Responses\n",
    "\n",
    "For longer responses, you might want to use streaming to get tokens as they're generated:"
   ]
  },
  {
   "cell_type": "code",
   "execution_count": 4,
   "id": "7a43ee78",
   "metadata": {
    "execution": {
     "iopub.execute_input": "2024-12-12T21:48:43.940865Z",
     "iopub.status.busy": "2024-12-12T21:48:43.940655Z",
     "iopub.status.idle": "2024-12-12T21:48:43.946230Z",
     "shell.execute_reply": "2024-12-12T21:48:43.945587Z"
    }
   },
   "outputs": [
    {
     "name": "stdout",
     "output_type": "stream",
     "text": [
      "This is a placeholder streaming response. Please set valid API keys.\n"
     ]
    }
   ],
   "source": [
    "@agentops.track_agent(name='mistral-stream-agent')\n",
    "def get_streaming_completion(prompt):\n",
    "    \"\"\"Get a streaming completion from Mistral with monitoring.\"\"\"\n",
    "    if not has_valid_keys:\n",
    "        print(\"This is a placeholder streaming response. Please set valid API keys.\")\n",
    "        return \"Placeholder streaming response\"\n",
    "\n",
    "    try:\n",
    "        response = client.chat.stream(\n",
    "            model=\"mistral-small-latest\",\n",
    "            messages=[{\"role\": \"user\", \"content\": prompt}]\n",
    "        )\n",
    "\n",
    "        result = \"\"\n",
    "        for chunk in response:\n",
    "            if chunk.data.choices[0].finish_reason == \"stop\":\n",
    "                return result\n",
    "            result += chunk.data.choices[0].delta.content\n",
    "            print(chunk.data.choices[0].delta.content, end=\"\")\n",
    "        return result\n",
    "    except Exception as e:\n",
    "        print(f\"Error in streaming: {str(e)}\")\n",
    "        return f\"Error: {str(e)}\"\n",
    "\n",
    "# Example usage\n",
    "response = get_streaming_completion(\"What is machine learning?\")"
   ]
  },
  {
   "cell_type": "markdown",
   "id": "7863a338",
   "metadata": {},
   "source": [
    "## Async Operations\n",
    "\n",
    "For better performance in async applications:"
   ]
  },
  {
   "cell_type": "code",
   "execution_count": 5,
   "id": "a877f95c",
   "metadata": {
    "execution": {
     "iopub.execute_input": "2024-12-12T21:48:43.948659Z",
     "iopub.status.busy": "2024-12-12T21:48:43.948405Z",
     "iopub.status.idle": "2024-12-12T21:48:43.953295Z",
     "shell.execute_reply": "2024-12-12T21:48:43.952641Z"
    }
   },
   "outputs": [
    {
     "name": "stdout",
     "output_type": "stream",
     "text": [
      "This is a placeholder async response. Please set valid API keys.\n"
     ]
    }
   ],
   "source": [
    "import asyncio\n",
    "\n",
    "@agentops.track_agent(name='mistral-async-agent')\n",
    "async def get_async_completion(prompt):\n",
    "    \"\"\"Get an async completion from Mistral with monitoring.\"\"\"\n",
    "    if not has_valid_keys:\n",
    "        return \"This is a placeholder async response. Please set valid API keys.\"\n",
    "\n",
    "    try:\n",
    "        response = await client.chat.complete_async(\n",
    "            model=\"mistral-small-latest\",\n",
    "            messages=[{\"role\": \"user\", \"content\": prompt}]\n",
    "        )\n",
    "        return response.choices[0].message.content\n",
    "    except Exception as e:\n",
    "        print(f\"Error in async completion: {str(e)}\")\n",
    "        return f\"Error: {str(e)}\"\n",
    "\n",
    "# Example usage\n",
    "async def main():\n",
    "    response = await get_async_completion(\"What are the benefits of async programming?\")\n",
    "    print(response)\n",
    "\n",
    "await main()"
   ]
  },
  {
   "cell_type": "markdown",
   "id": "0256ca28",
   "metadata": {},
   "source": [
    "## Custom Event Tracking\n",
    "\n",
    "Track specific functions in your application:"
   ]
  },
  {
   "cell_type": "code",
   "execution_count": 6,
   "id": "1bf51283",
   "metadata": {
    "execution": {
     "iopub.execute_input": "2024-12-12T21:48:43.955646Z",
     "iopub.status.busy": "2024-12-12T21:48:43.955393Z",
     "iopub.status.idle": "2024-12-12T21:48:44.092667Z",
     "shell.execute_reply": "2024-12-12T21:48:44.091833Z"
    }
   },
   "outputs": [
    {
     "name": "stdout",
     "output_type": "stream",
     "text": [
      "Processing response with 14 words\n",
      "Response word count: 14\n"
     ]
    }
   ],
   "source": [
    "@agentops.record_action('process-response')\n",
    "def process_response(response):\n",
    "    \"\"\"Process and analyze the model's response.\"\"\"\n",
    "    try:\n",
    "        # Add your processing logic here\n",
    "        word_count = len(response.split())\n",
    "        print(f\"Processing response with {word_count} words\")\n",
    "        return word_count\n",
    "    except Exception as e:\n",
    "        print(f\"Error processing response: {str(e)}\")\n",
    "        return 0\n",
    "\n",
    "# Example usage combining completion and processing\n",
    "response = get_completion(\"Explain the theory of relativity\")\n",
    "word_count = process_response(response)\n",
    "print(f\"Response word count: {word_count}\")"
   ]
  },
  {
   "cell_type": "markdown",
   "id": "cc3cb2b5",
   "metadata": {},
   "source": [
    "## Multiple Prompts\n",
    "\n",
    "Track multiple interactions in a single session:"
   ]
  },
  {
   "cell_type": "code",
   "execution_count": 7,
   "id": "51928376",
   "metadata": {
    "execution": {
     "iopub.execute_input": "2024-12-12T21:48:44.094954Z",
     "iopub.status.busy": "2024-12-12T21:48:44.094746Z",
     "iopub.status.idle": "2024-12-12T21:48:44.099509Z",
     "shell.execute_reply": "2024-12-12T21:48:44.098826Z"
    }
   },
   "outputs": [
    {
     "name": "stdout",
     "output_type": "stream",
     "text": [
      "\n",
      "Prompt: What is artificial intelligence?\n",
      "Response: This is a placeholder response. Please set valid API keys to get actual completions.\n",
      "\n",
      "\n",
      "Prompt: How does natural language processing work?\n",
      "Response: This is a placeholder response. Please set valid API keys to get actual completions.\n",
      "\n",
      "\n",
      "Prompt: Explain neural networks\n",
      "Response: This is a placeholder response. Please set valid API keys to get actual completions.\n",
      "\n"
     ]
    }
   ],
   "source": [
    "prompts = [\n",
    "    \"What is artificial intelligence?\",\n",
    "    \"How does natural language processing work?\",\n",
    "    \"Explain neural networks\"\n",
    "]\n",
    "\n",
    "responses = []\n",
    "for prompt in prompts:\n",
    "    response = get_completion(prompt)\n",
    "    responses.append(response)\n",
    "    print(f\"\\nPrompt: {prompt}\\nResponse: {response}\\n\")"
   ]
  },
  {
   "cell_type": "markdown",
   "id": "96505a89",
   "metadata": {},
   "source": [
    "## End Session\n",
    "\n",
    "Always remember to end your AgentOps session:"
   ]
  },
  {
   "cell_type": "code",
   "execution_count": 8,
   "id": "493db2c3",
   "metadata": {
    "execution": {
     "iopub.execute_input": "2024-12-12T21:48:44.102047Z",
     "iopub.status.busy": "2024-12-12T21:48:44.101577Z",
     "iopub.status.idle": "2024-12-12T21:48:44.105813Z",
     "shell.execute_reply": "2024-12-12T21:48:44.105165Z"
    }
   },
   "outputs": [
    {
     "name": "stderr",
     "output_type": "stream",
     "text": [
      "🖇 AgentOps: Could not end session - no sessions detected\n"
     ]
    }
   ],
   "source": [
    "agentops.end_session(\"Success\")"
   ]
  }
 ],
 "metadata": {
  "language_info": {
   "codemirror_mode": {
    "name": "ipython",
    "version": 3
   },
   "file_extension": ".py",
   "mimetype": "text/x-python",
   "name": "python",
   "nbconvert_exporter": "python",
   "pygments_lexer": "ipython3",
   "version": "3.12.7"
  }
 },
 "nbformat": 4,
 "nbformat_minor": 5
}
