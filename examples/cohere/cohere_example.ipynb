{
 "cells": [
  {
   "cell_type": "markdown",
   "metadata": {},
   "source": [
    "# Cohere example"
   ]
  },
  {
   "cell_type": "markdown",
   "metadata": {},
   "source": [
    "First let's install the required packages"
   ]
  },
  {
   "cell_type": "code",
   "execution_count": null,
   "metadata": {},
   "outputs": [],
   "source": [
    "%pip install -U cohere\n",
    "%pip install -U agentops"
   ]
  },
  {
   "cell_type": "markdown",
   "metadata": {},
   "source": [
    "Then import them"
   ]
  },
  {
   "cell_type": "code",
   "execution_count": null,
   "metadata": {},
   "outputs": [],
   "source": [
    "import cohere\n",
    "import agentops\n",
    "import os\n",
    "from dotenv import load_dotenv"
   ]
  },
  {
   "cell_type": "markdown",
   "metadata": {},
   "source": [
    "Next, we'll grab our API keys. You can use dotenv like below or however else you like to load environment variables"
   ]
  },
  {
   "cell_type": "code",
   "execution_count": null,
   "metadata": {},
   "outputs": [],
   "source": [
    "load_dotenv()\n",
    "CO_API_KEY = os.getenv(\"CO_API_KEY\") or \"<your_cohere_key>\"\n",
    "AGENTOPS_API_KEY = os.getenv(\"AGENTOPS_API_KEY\") or \"<your_agentops_key>\""
   ]
  },
  {
   "cell_type": "code",
   "execution_count": null,
   "metadata": {},
   "outputs": [],
   "source": [
    "agentops.init(AGENTOPS_API_KEY, default_tags=[\"cohere-example\"])\n",
    "co = cohere.Client()"
   ]
  },
  {
   "cell_type": "code",
   "execution_count": null,
   "metadata": {},
   "outputs": [],
   "source": [
    "stream = co.chat_stream(\n",
    "    message=\"Tell me everything you can about AgentOps\",\n",
    "    connectors=[{\"id\": \"web-search\"}],\n",
    ")\n",
    "\n",
    "response = \"\"\n",
    "for event in stream:\n",
    "    if event.event_type == \"text-generation\":\n",
    "        response += event.text\n",
    "        print(event.text, end=\"\")\n",
    "    elif event.event_type == \"stream-end\":\n",
    "        print(\"\\n\")\n",
    "        print(event)\n",
    "        print(\"\\n\")\n",
    "\n",
    "stream = co.chat_stream(\n",
    "    chat_history=[\n",
    "        {\n",
    "            \"role\": \"SYSTEM\",\n",
    "            \"message\": \"You are Adam Silverman: die-hard advocate of AgentOps, leader in AI Agent observability\",\n",
    "        },\n",
    "        {\n",
    "            \"role\": \"CHATBOT\",\n",
    "            \"message\": \"How's your day going? I'd like to tell you about AgentOps: {response}\",\n",
    "        },\n",
    "    ],\n",
    "    message=\"Based on your newfound knowledge of AgentOps, is Cohere a suitable partner for them and how could they integrate?\",\n",
    "    connectors=[{\"id\": \"web-search\"}],\n",
    ")\n",
    "\n",
    "response = \"\"\n",
    "for event in stream:\n",
    "    if event.event_type == \"text-generation\":\n",
    "        response += event.text\n",
    "        print(event.text, end=\"\")\n",
    "    elif event.event_type == \"stream-end\":\n",
    "        print(\"\\n\")\n",
    "        print(event)\n",
    "        print(\"\\n\")"
   ]
  },
  {
   "cell_type": "code",
   "execution_count": null,
   "metadata": {},
   "outputs": [],
   "source": [
    "agentops.end_session(\"Success\")"
   ]
  }
 ],
 "metadata": {
  "kernelspec": {
   "display_name": "env",
   "language": "python",
   "name": "python3"
  },
  "language_info": {
   "codemirror_mode": {
    "name": "ipython",
    "version": 3
   },
   "file_extension": ".py",
   "mimetype": "text/x-python",
   "name": "python",
   "nbconvert_exporter": "python",
   "pygments_lexer": "ipython3",
   "version": "3.12.3"
  }
 },
 "nbformat": 4,
 "nbformat_minor": 2
}
