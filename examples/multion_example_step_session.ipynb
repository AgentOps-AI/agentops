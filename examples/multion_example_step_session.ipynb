{
 "cells": [
  {
   "cell_type": "code",
   "execution_count": 1,
   "metadata": {},
   "outputs": [
    {
     "name": "stdout",
     "output_type": "stream",
     "text": [
      "Obtaining file:///Users/howardgil/Desktop/agentops/HowieG/multion-python\n",
      "  Installing build dependencies ... \u001b[?25ldone\n",
      "\u001b[?25h  Checking if build backend supports build_editable ... \u001b[?25ldone\n",
      "\u001b[?25h  Getting requirements to build editable ... \u001b[?25ldone\n",
      "\u001b[?25h  Preparing editable metadata (pyproject.toml) ... \u001b[?25ldone\n",
      "\u001b[?25hRequirement already satisfied: agentops<0.3.0,>=0.2.0 in /Users/howardgil/Desktop/agentops/AgentOps-AI/agentops/env/lib/python3.12/site-packages (from multion==1.2.0) (0.2.0)\n",
      "Requirement already satisfied: httpx>=0.21.2 in /Users/howardgil/Desktop/agentops/AgentOps-AI/agentops/env/lib/python3.12/site-packages (from multion==1.2.0) (0.27.0)\n",
      "Requirement already satisfied: httpx-sse==0.4.0 in /Users/howardgil/Desktop/agentops/AgentOps-AI/agentops/env/lib/python3.12/site-packages (from multion==1.2.0) (0.4.0)\n",
      "Requirement already satisfied: pydantic>=1.9.2 in /Users/howardgil/Desktop/agentops/AgentOps-AI/agentops/env/lib/python3.12/site-packages (from multion==1.2.0) (2.7.2)\n",
      "Requirement already satisfied: typing_extensions>=4.0.0 in /Users/howardgil/Desktop/agentops/AgentOps-AI/agentops/env/lib/python3.12/site-packages (from multion==1.2.0) (4.12.0)\n",
      "Requirement already satisfied: requests==2.31.0 in /Users/howardgil/Desktop/agentops/AgentOps-AI/agentops/env/lib/python3.12/site-packages (from agentops<0.3.0,>=0.2.0->multion==1.2.0) (2.31.0)\n",
      "Requirement already satisfied: psutil==5.9.8 in /Users/howardgil/Desktop/agentops/AgentOps-AI/agentops/env/lib/python3.12/site-packages (from agentops<0.3.0,>=0.2.0->multion==1.2.0) (5.9.8)\n",
      "Requirement already satisfied: packaging==23.2 in /Users/howardgil/Desktop/agentops/AgentOps-AI/agentops/env/lib/python3.12/site-packages (from agentops<0.3.0,>=0.2.0->multion==1.2.0) (23.2)\n",
      "Requirement already satisfied: charset-normalizer<4,>=2 in /Users/howardgil/Desktop/agentops/AgentOps-AI/agentops/env/lib/python3.12/site-packages (from requests==2.31.0->agentops<0.3.0,>=0.2.0->multion==1.2.0) (3.3.2)\n",
      "Requirement already satisfied: idna<4,>=2.5 in /Users/howardgil/Desktop/agentops/AgentOps-AI/agentops/env/lib/python3.12/site-packages (from requests==2.31.0->agentops<0.3.0,>=0.2.0->multion==1.2.0) (3.7)\n",
      "Requirement already satisfied: urllib3<3,>=1.21.1 in /Users/howardgil/Desktop/agentops/AgentOps-AI/agentops/env/lib/python3.12/site-packages (from requests==2.31.0->agentops<0.3.0,>=0.2.0->multion==1.2.0) (2.2.1)\n",
      "Requirement already satisfied: certifi>=2017.4.17 in /Users/howardgil/Desktop/agentops/AgentOps-AI/agentops/env/lib/python3.12/site-packages (from requests==2.31.0->agentops<0.3.0,>=0.2.0->multion==1.2.0) (2024.2.2)\n",
      "Requirement already satisfied: anyio in /Users/howardgil/Desktop/agentops/AgentOps-AI/agentops/env/lib/python3.12/site-packages (from httpx>=0.21.2->multion==1.2.0) (4.4.0)\n",
      "Requirement already satisfied: httpcore==1.* in /Users/howardgil/Desktop/agentops/AgentOps-AI/agentops/env/lib/python3.12/site-packages (from httpx>=0.21.2->multion==1.2.0) (1.0.5)\n",
      "Requirement already satisfied: sniffio in /Users/howardgil/Desktop/agentops/AgentOps-AI/agentops/env/lib/python3.12/site-packages (from httpx>=0.21.2->multion==1.2.0) (1.3.1)\n",
      "Requirement already satisfied: h11<0.15,>=0.13 in /Users/howardgil/Desktop/agentops/AgentOps-AI/agentops/env/lib/python3.12/site-packages (from httpcore==1.*->httpx>=0.21.2->multion==1.2.0) (0.14.0)\n",
      "Requirement already satisfied: annotated-types>=0.4.0 in /Users/howardgil/Desktop/agentops/AgentOps-AI/agentops/env/lib/python3.12/site-packages (from pydantic>=1.9.2->multion==1.2.0) (0.7.0)\n",
      "Requirement already satisfied: pydantic-core==2.18.3 in /Users/howardgil/Desktop/agentops/AgentOps-AI/agentops/env/lib/python3.12/site-packages (from pydantic>=1.9.2->multion==1.2.0) (2.18.3)\n",
      "Building wheels for collected packages: multion\n",
      "  Building editable for multion (pyproject.toml) ... \u001b[?25ldone\n",
      "\u001b[?25h  Created wheel for multion: filename=multion-1.2.0-py3-none-any.whl size=2792 sha256=142c67040af03f6fd4e406d67bc5cdcf78f025c5b289ffe58f887de2f60c0b9c\n",
      "  Stored in directory: /private/var/folders/jb/71y2z4v178jdr5xcgbxfm0gc0000gp/T/pip-ephem-wheel-cache-0ob6p75o/wheels/df/4b/d9/cccd5ceada6ca92256cee7f065c3e64e9c91b3d307977e2bba\n",
      "Successfully built multion\n",
      "Installing collected packages: multion\n",
      "  Attempting uninstall: multion\n",
      "    Found existing installation: multion 1.2.0\n",
      "    Uninstalling multion-1.2.0:\n",
      "      Successfully uninstalled multion-1.2.0\n",
      "Successfully installed multion-1.2.0\n",
      "Note: you may need to restart the kernel to use updated packages.\n",
      "Requirement already satisfied: agentops in /Users/howardgil/Desktop/agentops/AgentOps-AI/agentops/env/lib/python3.12/site-packages (0.2.0)\n",
      "Requirement already satisfied: requests==2.31.0 in /Users/howardgil/Desktop/agentops/AgentOps-AI/agentops/env/lib/python3.12/site-packages (from agentops) (2.31.0)\n",
      "Requirement already satisfied: psutil==5.9.8 in /Users/howardgil/Desktop/agentops/AgentOps-AI/agentops/env/lib/python3.12/site-packages (from agentops) (5.9.8)\n",
      "Requirement already satisfied: packaging==23.2 in /Users/howardgil/Desktop/agentops/AgentOps-AI/agentops/env/lib/python3.12/site-packages (from agentops) (23.2)\n",
      "Requirement already satisfied: charset-normalizer<4,>=2 in /Users/howardgil/Desktop/agentops/AgentOps-AI/agentops/env/lib/python3.12/site-packages (from requests==2.31.0->agentops) (3.3.2)\n",
      "Requirement already satisfied: idna<4,>=2.5 in /Users/howardgil/Desktop/agentops/AgentOps-AI/agentops/env/lib/python3.12/site-packages (from requests==2.31.0->agentops) (3.7)\n",
      "Requirement already satisfied: urllib3<3,>=1.21.1 in /Users/howardgil/Desktop/agentops/AgentOps-AI/agentops/env/lib/python3.12/site-packages (from requests==2.31.0->agentops) (2.2.1)\n",
      "Requirement already satisfied: certifi>=2017.4.17 in /Users/howardgil/Desktop/agentops/AgentOps-AI/agentops/env/lib/python3.12/site-packages (from requests==2.31.0->agentops) (2024.2.2)\n",
      "Note: you may need to restart the kernel to use updated packages.\n"
     ]
    }
   ],
   "source": [
    "%pip install -e ../../../HowieG/multion-python\n",
    "%pip install agentops"
   ]
  },
  {
   "cell_type": "code",
   "execution_count": 2,
   "metadata": {},
   "outputs": [
    {
     "name": "stderr",
     "output_type": "stream",
     "text": [
      "🖇 AgentOps: \u001b[34mSession Replay: https://app.agentops.ai/drilldown?session_id=5952a59f-7730-408c-9ac7-c45f2930e2fb\u001b[0m\n"
     ]
    },
    {
     "name": "stdout",
     "output_type": "stream",
     "text": [
      "New Session Created\n",
      "I am searching for \"satellite phone\" on REI to find the top-reviewed one.\n",
      "\n",
      "I'm going to keep scrolling to find the information I need so I can memorize it.\n",
      "\n",
      "I am closing the modal to continue reviewing the search results for satellite phones.\n",
      "\n",
      "I am clearing the previous search and trying a different query to find satellite phones.\n",
      "\n",
      "I am clicking on the available product to review its details and determine if it is the top-reviewed satellite phone.\n",
      "\n",
      "I am adding the ZOLEO Satellite Communicator to the cart and then viewing the cart to confirm the addition.\n",
      "\n",
      "I am dismissing the feedback modal to continue reviewing the search results for satellite phones.\n",
      "\n",
      "I am adding the ZOLEO Satellite Communicator to the cart and then viewing the cart to confirm the addition.\n",
      "\n",
      "I am navigating back to the search results page to ensure I can add the ZOLEO Satellite Communicator to the cart.\n",
      "\n",
      "I am clicking on the available product (ZOLEO Satellite Communicator) to review its details and add it to the cart. I will then view the cart to confirm the addition.\n",
      "\n",
      "I am adding the ZOLEO Satellite Communicator to the cart and then viewing the cart to confirm the addition.\n",
      "\n"
     ]
    },
    {
     "name": "stderr",
     "output_type": "stream",
     "text": [
      "🖇 AgentOps: SIGINT detected. Ending session...\n",
      "🖇 AgentOps: This run's cost $0.00\n",
      "🖇 AgentOps: \u001b[34mSession Replay: https://app.agentops.ai/drilldown?session_id=5952a59f-7730-408c-9ac7-c45f2930e2fb\u001b[0m\n"
     ]
    },
    {
     "ename": "SystemExit",
     "evalue": "0",
     "output_type": "error",
     "traceback": [
      "An exception has occurred, use %tb to see the full traceback.\n",
      "\u001b[0;31mSystemExit\u001b[0m\u001b[0;31m:\u001b[0m 0\n"
     ]
    },
    {
     "name": "stderr",
     "output_type": "stream",
     "text": [
      "/Users/howardgil/Desktop/agentops/AgentOps-AI/agentops/env/lib/python3.12/site-packages/IPython/core/interactiveshell.py:3585: UserWarning: To exit: use 'exit', 'quit', or Ctrl-D.\n",
      "  warn(\"To exit: use 'exit', 'quit', or Ctrl-D.\", stacklevel=1)\n"
     ]
    }
   ],
   "source": [
    "import multion\n",
    "from multion.client import MultiOn\n",
    "from multion.sessions.types.sessions_step_request_browser_params import SessionsStepRequestBrowserParams\n",
    "from multion.core.request_options import RequestOptions\n",
    "import os\n",
    "\n",
    "multion = MultiOn(\n",
    "    api_key=os.environ.get(\"MULTION_API_KEY\"),\n",
    "    agentops_api_key=os.environ.get(\"AGENTOPS_API_KEY\"),\n",
    ")\n",
    "create_session_response = multion.sessions.create(url=\"https://www.rei.com/\")\n",
    "session_id = create_session_response.session_id\n",
    "print(create_session_response.message)\n",
    "cmd=\"find the top reviewed satellite phone on REI and add it to my cart. Dismiss any modals as necessary.\"\n",
    "browser_params = SessionsStepRequestBrowserParams(height=2000, width=2000)\n",
    "request_options = RequestOptions(timeout_in_seconds=60, max_retries=2, additional_headers={\"test\":\"ing\"})\n",
    "step_session_response = multion.sessions.step(session_id=session_id, cmd=cmd, url=\"https://www.rei.com/\", browser_params=browser_params, include_screenshot=True, request_options=request_options)\n",
    "print(step_session_response.message)\n",
    "\n",
    "while step_session_response.status == 'CONTINUE':\n",
    "    step_session_response = multion.sessions.step(\n",
    "        session_id=session_id,\n",
    "        cmd=cmd,\n",
    "        url=\"https://www.rei.com/\",\n",
    "        include_screenshot=True,\n",
    "    )\n",
    "    print(step_session_response.message)\n",
    "\n",
    "if step_session_response.status == 'DONE':\n",
    "    print('task completed')\n",
    "\n",
    "print(step_session_response.message)\n",
    "get_screenshot = multion.sessions.screenshot(session_id=session_id)\n",
    "print(\"screenshot of session: \", get_screenshot.screenshot)\n",
    "close_session_response = multion.sessions.close(session_id=session_id)\n",
    "print(\"close_session_response: \", close_session_response)"
   ]
  }
 ],
 "metadata": {
  "kernelspec": {
   "display_name": "env",
   "language": "python",
   "name": "python3"
  },
  "language_info": {
   "codemirror_mode": {
    "name": "ipython",
    "version": 3
   },
   "file_extension": ".py",
   "mimetype": "text/x-python",
   "name": "python",
   "nbconvert_exporter": "python",
   "pygments_lexer": "ipython3",
   "version": "3.12.2"
  }
 },
 "nbformat": 4,
 "nbformat_minor": 2
}
