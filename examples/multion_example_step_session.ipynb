{
 "cells": [
  {
   "cell_type": "code",
   "execution_count": null,
   "metadata": {},
   "outputs": [],
   "source": [
    "%pip install -e ../../../HowieG/multion-python\n",
    "%pip install agentops"
   ]
  },
  {
   "cell_type": "code",
   "execution_count": null,
   "metadata": {},
   "outputs": [],
   "source": [
    "import multion\n",
    "from multion.client import MultiOn\n",
    "import os\n",
    "\n",
    "multion = MultiOn(\n",
    "    api_key=os.environ.get(\"MULTION_API_KEY\"),\n",
    "    agentops_api_key=os.environ.get(\"AGENTOPS_API_KEY\"),\n",
    ")\n",
    "create_session_params= {\n",
    "    \"url\": \"https://www.rei.com/\"\n",
    "}\n",
    "\n",
    "create_session_response = multion.sessions.create(**create_session_params)\n",
    "session_id = create_session_response.session_id\n",
    "print(create_session_response.message)\n",
    "cmd=\"find the top reviewed satellite phone on REI and add it to my cart. Dismiss any modals as necessary.\"\n",
    "step_session_params= {\n",
    "   \t\"session_id\": session_id,\n",
    "    \"cmd\": cmd,\n",
    "    \"url\": \"https://www.rei.com/\",\n",
    "    \"include_screenshot\":True,\n",
    "}\n",
    "\n",
    "step_session_response = multion.sessions.step(**step_session_params)\n",
    "print(step_session_response.message)\n",
    "\n",
    "while step_session_response.status == 'CONTINUE':\n",
    "  step_session_response = multion.sessions.step(**step_session_params)\n",
    "  print(step_session_response.message)\n",
    "\n",
    "if step_session_response.status == 'DONE':\n",
    "    print('task completed')\n",
    "\n",
    "print(step_session_response.message)\n",
    "get_screenshot = multion.sessions.screenshot(session_id=session_id)\n",
    "print(\"screenshot of session: \", get_screenshot.screenshot)\n",
    "close_session_response = multion.sessions.close(session_id=session_id)\n",
    "print(\"close_session_response: \", close_session_response)"
   ]
  }
 ],
 "metadata": {
  "kernelspec": {
   "display_name": "env",
   "language": "python",
   "name": "python3"
  },
  "language_info": {
   "codemirror_mode": {
    "name": "ipython",
    "version": 3
   },
   "file_extension": ".py",
   "mimetype": "text/x-python",
   "name": "python",
   "nbconvert_exporter": "python",
   "pygments_lexer": "ipython3",
   "version": "3.12.2"
  }
 },
 "nbformat": 4,
 "nbformat_minor": 2
}
