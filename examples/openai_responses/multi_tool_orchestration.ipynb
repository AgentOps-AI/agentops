{
 "cells": [
  {
   "cell_type": "markdown",
   "metadata": {},
   "source": [
    "### Multi-Tool Orchestration with RAG approach using OpenAI's Responses API"
   ]
  },
  {
   "cell_type": "markdown",
   "metadata": {},
   "source": [
    "\n",
    "This cookbook guides you through building dynamic, multi-tool workflows using OpenAI's Responses API. It demonstrates how to implement a Retrieval-Augmented Generation (RAG) approach that intelligently routes user queries to the appropriate in-built or external tools. Whether your query calls for general knowledge or requires accessing specific internal context from a vector database (like Pinecone), this guide shows you how to integrate function calls, web searches in-built tool, and leverage document retrieval to generate accurate, context-aware responses."
   ]
  },
  {
   "cell_type": "code",
   "execution_count": null,
   "metadata": {},
   "outputs": [],
   "source": [
    "# Install required dependencies\n",
    "%pip install datasets tqdm pandas pinecone openai"
   ]
  },
  {
   "cell_type": "code",
   "execution_count": null,
   "metadata": {},
   "outputs": [],
   "source": [
    "import os\n",
    "from dotenv import load_dotenv\n",
    "import time\n",
    "from tqdm.auto import tqdm\n",
    "from pandas import DataFrame\n",
    "from datasets import load_dataset\n",
    "import random\n",
    "import string\n",
    "\n",
    "# Import Pinecone client and related specifications.\n",
    "from pinecone import Pinecone\n",
    "from pinecone import ServerlessSpec"
   ]
  },
  {
   "cell_type": "code",
   "execution_count": 2,
   "metadata": {},
   "outputs": [],
   "source": [
    "load_dotenv()\n",
    "\n",
    "AGENTOPS_API_KEY = os.getenv(\"AGENTOPS_API_KEY\")\n",
    "AGENTOPS_API_ENDPOINT = os.getenv(\"AGENTOPS_API_ENDPOINT\")\n",
    "AGENTOPS_EXPORTER_ENDPOINT = os.getenv(\"AGENTOPS_EXPORTER_ENDPOINT\")\n",
    "OPENAI_API_KEY = os.getenv(\"OPENAI_API_KEY\")\n",
    "PINECONE_API_KEY = os.getenv(\"PINECONE_API_KEY\")"
   ]
  },
  {
   "cell_type": "code",
   "execution_count": null,
   "metadata": {},
   "outputs": [],
   "source": [
    "# Import AgentOps client and initialize with your API key.\n",
    "import agentops\n",
    "\n",
    "agentops.init(\n",
    "    api_key=AGENTOPS_API_KEY,\n",
    "    endpoint=AGENTOPS_API_ENDPOINT,\n",
    "    exporter_endpoint=AGENTOPS_EXPORTER_ENDPOINT,\n",
    "    tags=[\"openai\", \"responses\", \"multi-tool\", \"rag\", \"test\"],\n",
    ")\n",
    "\n",
    "# Import OpenAI client and initialize with your API key.\n",
    "from openai import OpenAI\n",
    "\n",
    "client = OpenAI(api_key=OPENAI_API_KEY)"
   ]
  },
  {
   "cell_type": "markdown",
   "metadata": {},
   "source": [
    "In this example we use a sample medical reasoning dataset from Hugging Face. We convert the dataset into a Pandas DataFrame and merge the “Question” and “Response” columns into a single string. This merged text is used for embedding and later stored as metadata."
   ]
  },
  {
   "cell_type": "code",
   "execution_count": null,
   "metadata": {},
   "outputs": [],
   "source": [
    "# Load the dataset (ensure you're logged in with huggingface-cli if needed)\n",
    "ds = load_dataset(\"FreedomIntelligence/medical-o1-reasoning-SFT\", \"en\", split='train[:100]', trust_remote_code=True)\n",
    "ds_dataframe = DataFrame(ds)\n",
    "\n",
    "# Merge the Question and Response columns into a single string.\n",
    "ds_dataframe['merged'] = ds_dataframe.apply(\n",
    "    lambda row: f\"Question: {row['Question']} Answer: {row['Response']}\", axis=1\n",
    ")\n",
    "print(\"Example merged text:\", ds_dataframe['merged'].iloc[0])"
   ]
  },
  {
   "cell_type": "code",
   "execution_count": null,
   "metadata": {},
   "outputs": [],
   "source": [
    "ds_dataframe"
   ]
  },
  {
   "cell_type": "markdown",
   "metadata": {},
   "source": [
    "### Create a Pinecone Index Based on the Dataset\n",
    "Use the dataset itself to determine the embedding dimensionality. For example, compute one embedding from the merged column and then create the index accordingly."
   ]
  },
  {
   "cell_type": "code",
   "execution_count": null,
   "metadata": {},
   "outputs": [],
   "source": [
    "MODEL = \"text-embedding-3-small\"  # Replace with your production embedding model if needed\n",
    "# Compute an embedding for the first document to obtain the embedding dimension.\n",
    "sample_embedding_resp = client.embeddings.create(\n",
    "    input=[ds_dataframe['merged'].iloc[0]],\n",
    "    model=MODEL\n",
    ")\n",
    "embed_dim = len(sample_embedding_resp.data[0].embedding)\n",
    "print(f\"Embedding dimension: {embed_dim}\")\n"
   ]
  },
  {
   "cell_type": "code",
   "execution_count": null,
   "metadata": {},
   "outputs": [],
   "source": [
    "# Initialize Pinecone using your API key.\n",
    "pc = Pinecone(api_key=PINECONE_API_KEY)\n",
    "\n",
    "# Define the Pinecone serverless specification.\n",
    "AWS_REGION = \"us-east-1\"\n",
    "spec = ServerlessSpec(cloud=\"aws\", region=AWS_REGION)\n",
    "\n",
    "# Create a random index name with lower case alphanumeric characters and '-'\n",
    "index_name = 'pinecone-index-' + ''.join(random.choices(string.ascii_lowercase + string.digits, k=10))\n",
    "\n",
    "# Create the index if it doesn't already exist.\n",
    "if index_name not in pc.list_indexes().names():\n",
    "    pc.create_index(\n",
    "        index_name,\n",
    "        dimension=embed_dim,\n",
    "        metric='dotproduct',\n",
    "        spec=spec\n",
    "    )\n",
    "\n",
    "# Connect to the index.\n",
    "index = pc.Index(index_name)\n",
    "time.sleep(1)\n",
    "print(\"Index stats:\", index.describe_index_stats())"
   ]
  },
  {
   "cell_type": "markdown",
   "metadata": {},
   "source": [
    "#### Upsert the Dataset into Pinecone index\n",
    "\n",
    "Process the dataset in batches, generate embeddings for each merged text, prepare metadata (including separate Question and Answer fields), and upsert each batch into the index. You may also update metadata for specific entries if needed."
   ]
  },
  {
   "cell_type": "code",
   "execution_count": null,
   "metadata": {},
   "outputs": [],
   "source": [
    "batch_size = 32\n",
    "for i in tqdm(range(0, len(ds_dataframe['merged']), batch_size), desc=\"Upserting to Pinecone\"):\n",
    "    i_end = min(i + batch_size, len(ds_dataframe['merged']))\n",
    "    lines_batch = ds_dataframe['merged'][i: i_end]\n",
    "    ids_batch = [str(n) for n in range(i, i_end)]\n",
    "    \n",
    "    # Create embeddings for the current batch.\n",
    "    res = client.embeddings.create(input=[line for line in lines_batch], model=MODEL)\n",
    "    embeds = [record.embedding for record in res.data]\n",
    "    \n",
    "    # Prepare metadata by extracting original Question and Answer.\n",
    "    meta = []\n",
    "    for record in ds_dataframe.iloc[i:i_end].to_dict('records'):\n",
    "        q_text = record['Question']\n",
    "        a_text = record['Response']\n",
    "        # Optionally update metadata for specific entries.\n",
    "        meta.append({\"Question\": q_text, \"Answer\": a_text})\n",
    "    \n",
    "    # Upsert the batch into Pinecone.\n",
    "    vectors = list(zip(ids_batch, embeds, meta))\n",
    "    index.upsert(vectors=vectors)\n"
   ]
  },
  {
   "cell_type": "markdown",
   "metadata": {},
   "source": [
    "![Pinecone Image](../../images/responses_pinecone_rag.png)"
   ]
  },
  {
   "cell_type": "markdown",
   "metadata": {},
   "source": [
    "### Query the Pinecone Index\n",
    "\n",
    "Create a natural language query, compute its embedding, and perform a similarity search on the Pinecone index. The returned results include metadata that provides context for generating answers."
   ]
  },
  {
   "cell_type": "code",
   "execution_count": 9,
   "metadata": {},
   "outputs": [],
   "source": [
    "def query_pinecone_index(client, index, model, query_text):\n",
    "    # Generate an embedding for the query.\n",
    "    query_embedding = client.embeddings.create(input=query_text, model=model).data[0].embedding\n",
    "\n",
    "    # Query the index and return top 5 matches.\n",
    "    res = index.query(vector=[query_embedding], top_k=5, include_metadata=True)\n",
    "    print(\"Query Results:\")\n",
    "    for match in res['matches']:\n",
    "        print(f\"{match['score']:.2f}: {match['metadata'].get('Question', 'N/A')} - {match['metadata'].get('Answer', 'N/A')}\")\n",
    "    return res"
   ]
  },
  {
   "cell_type": "code",
   "execution_count": null,
   "metadata": {},
   "outputs": [],
   "source": [
    "# Example usage with a different query from the train/test set\n",
    "query = (\n",
    "    \"A 45-year-old man with a history of alcohol use presents with symptoms including confusion, ataxia, and ophthalmoplegia. \"\n",
    "    \"What is the most likely diagnosis and the recommended treatment?\"\n",
    ")\n",
    "query_pinecone_index(client, index, MODEL, query)"
   ]
  },
  {
   "cell_type": "markdown",
   "metadata": {},
   "source": [
    "### Generate a Response Using the Retrieved Context\n",
    "\n",
    "Select the best matching result from your query results and use the OpenAI Responses API to generate a final answer by combining the retrieved context with the original question."
   ]
  },
  {
   "cell_type": "code",
   "execution_count": null,
   "metadata": {},
   "outputs": [],
   "source": [
    "# Retrieve and concatenate top 3 match contexts.\n",
    "matches = index.query(\n",
    "    vector=[client.embeddings.create(input=query, model=MODEL).data[0].embedding],\n",
    "    top_k=3,\n",
    "    include_metadata=True\n",
    ")['matches']\n",
    "\n",
    "context = \"\\n\\n\".join(\n",
    "    f\"Question: {m['metadata'].get('Question', '')}\\nAnswer: {m['metadata'].get('Answer', '')}\"\n",
    "    for m in matches\n",
    ")\n",
    "# Use the context to generate a final answer.\n",
    "response = client.responses.create(\n",
    "    model=\"gpt-4o\",\n",
    "    input=f\"Provide the answer based on the context: {context} and the question: {query} as per the internal knowledge base\",\n",
    ")\n",
    "print(\"\\nFinal Answer:\")\n",
    "print(response.output_text)"
   ]
  },
  {
   "cell_type": "markdown",
   "metadata": {},
   "source": [
    "### Orchestrate Multi-Tool Calls\n",
    "\n",
    "Now, we'll define the built-in function available through the Responses API, including the ability to invoke the external Vector Store - Pinecone as an example.\n",
    "\n",
    "*Web Search Preview Tool*: Enables the model to perform live web searches and preview the results. This is ideal for retrieving real-time or up-to-date information from the internet.\n",
    "\n",
    "*Pinecone Search Tool*: Allows the model to query a vector database using semantic search. This is especially useful for retrieving relevant documents—such as medical literature or other domain-specific content—that have been stored in a vectorized format."
   ]
  },
  {
   "cell_type": "code",
   "execution_count": 12,
   "metadata": {},
   "outputs": [],
   "source": [
    "# Tools definition: The list of tools includes:\n",
    "# - A web search preview tool.\n",
    "# - A Pinecone search tool for retrieving medical documents.\n",
    "\n",
    "# Define available tools.\n",
    "tools = [   \n",
    "    {\"type\": \"web_search_preview\",\n",
    "      \"user_location\": {\n",
    "        \"type\": \"approximate\",\n",
    "        \"country\": \"US\",\n",
    "        \"region\": \"California\",\n",
    "        \"city\": \"SF\"\n",
    "      },\n",
    "      \"search_context_size\": \"medium\"},\n",
    "    {\n",
    "        \"type\": \"function\",\n",
    "        \"name\": \"PineconeSearchDocuments\",\n",
    "        \"description\": \"Search for relevant documents based on the medical question asked by the user that is stored within the vector database using a semantic query.\",\n",
    "        \"parameters\": {\n",
    "            \"type\": \"object\",\n",
    "            \"properties\": {\n",
    "                \"query\": {\n",
    "                    \"type\": \"string\",\n",
    "                    \"description\": \"The natural language query to search the vector database.\"\n",
    "                },\n",
    "                \"top_k\": {\n",
    "                    \"type\": \"integer\",\n",
    "                    \"description\": \"Number of top results to return.\",\n",
    "                    \"default\": 3\n",
    "                }\n",
    "            },\n",
    "            \"required\": [\"query\"],\n",
    "            \"additionalProperties\": False\n",
    "        }\n",
    "    }\n",
    "]\n"
   ]
  },
  {
   "cell_type": "code",
   "execution_count": 13,
   "metadata": {},
   "outputs": [],
   "source": [
    "# Example queries that the model should route appropriately.\n",
    "queries = [\n",
    "    {\"query\": \"Who won the cricket world cup in 1983?\"},\n",
    "    {\"query\": \"What is the most common cause of death in the United States according to the internet?\"},\n",
    "    {\"query\": (\"A 7-year-old boy with sickle cell disease is experiencing knee and hip pain, \"\n",
    "               \"has been admitted for pain crises in the past, and now walks with a limp. \"\n",
    "               \"His exam shows a normal, cool hip with decreased range of motion and pain with ambulation. \"\n",
    "               \"What is the most appropriate next step in management according to the internal knowledge base?\")}\n",
    "]"
   ]
  },
  {
   "cell_type": "code",
   "execution_count": null,
   "metadata": {},
   "outputs": [],
   "source": [
    "# Process each query dynamically.\n",
    "for item in queries:\n",
    "    input_messages = [{\"role\": \"user\", \"content\": item[\"query\"]}]\n",
    "    print(\"\\n🌟--- Processing Query ---🌟\")\n",
    "    print(f\"🔍 **User Query:** {item['query']}\")\n",
    "    \n",
    "    # Call the Responses API with tools enabled and allow parallel tool calls.\n",
    "    response = client.responses.create(\n",
    "        model=\"gpt-4o\",\n",
    "        input=[\n",
    "            {\"role\": \"system\", \"content\": \"When prompted with a question, select the right tool to use based on the question.\"\n",
    "            },\n",
    "            {\"role\": \"user\", \"content\": item[\"query\"]}\n",
    "        ],\n",
    "        tools=tools,\n",
    "        parallel_tool_calls=True\n",
    "    )\n",
    "    \n",
    "    print(\"\\n✨ **Initial Response Output:**\")\n",
    "    print(response.output)\n",
    "    \n",
    "    # Determine if a tool call is needed and process accordingly.\n",
    "    if response.output:\n",
    "        tool_call = response.output[0]\n",
    "        if tool_call.type in [\"web_search_preview\", \"function_call\"]:\n",
    "            tool_name = tool_call.name if tool_call.type == \"function_call\" else \"web_search_preview\"\n",
    "            print(f\"\\n🔧 **Model triggered a tool call:** {tool_name}\")\n",
    "            \n",
    "            if tool_name == \"PineconeSearchDocuments\":\n",
    "                print(\"🔍 **Invoking PineconeSearchDocuments tool...**\")\n",
    "                res = query_pinecone_index(client, index, MODEL, item[\"query\"])\n",
    "                if res[\"matches\"]:\n",
    "                    best_match = res[\"matches\"][0][\"metadata\"]\n",
    "                    result = f\"**Question:** {best_match.get('Question', 'N/A')}\\n**Answer:** {best_match.get('Answer', 'N/A')}\"\n",
    "                else:\n",
    "                    result = \"**No matching documents found in the index.**\"\n",
    "                print(\"✅ **PineconeSearchDocuments tool invoked successfully.**\")\n",
    "            else:\n",
    "                print(\"🔍 **Invoking simulated web search tool...**\")\n",
    "                result = \"**Simulated web search result.**\"\n",
    "                print(\"✅ **Simulated web search tool invoked successfully.**\")\n",
    "            \n",
    "            # Append the tool call and its output back into the conversation.\n",
    "            input_messages.append(tool_call)\n",
    "            input_messages.append({\n",
    "                \"type\": \"function_call_output\",\n",
    "                \"call_id\": tool_call.call_id,\n",
    "                \"output\": str(result)\n",
    "            })\n",
    "            \n",
    "            # Get the final answer incorporating the tool's result.\n",
    "            final_response = client.responses.create(\n",
    "                model=\"gpt-4o\",\n",
    "                input=input_messages,\n",
    "                tools=tools,\n",
    "                parallel_tool_calls=True\n",
    "            )\n",
    "            print(\"\\n💡 **Final Answer:**\")\n",
    "            print(final_response.output_text)\n",
    "        else:\n",
    "            # If no tool call is triggered, print the response directly.\n",
    "            print(\"💡 **Final Answer:**\")\n",
    "            print(response.output_text)"
   ]
  },
  {
   "cell_type": "markdown",
   "metadata": {},
   "source": [
    "As shown above, depending on the query, appropriate tool is invoked in order to determine the optimal response.\n",
    "\n",
    "For instance, looking at the third example, when the model triggers the tool named \"PineconeSearchDocuments\", the code calls `query_pinecone_index` with the current query and then extracts the best match (or an appropriate context) as the result. For non health related inqueries or queries where explicit internet search is asked, the code calls the web_search_call function and for other queries, it may choose to not call any tool and rather provide a response based on the question under consideration.\n",
    "\n",
    "Finally, the tool call and its output are appended to the conversation, and the final answer is generated by the Responses API."
   ]
  },
  {
   "cell_type": "markdown",
   "metadata": {},
   "source": [
    "### Multi-tool orchestration flow\n",
    "\n",
    "Now let us try to modify the input query and the system instructions to the responses API in order to follow a tool calling sequence and generate the output. "
   ]
  },
  {
   "cell_type": "code",
   "execution_count": null,
   "metadata": {},
   "outputs": [],
   "source": [
    "# Process one query as an example to understand the tool calls and function calls as part of the response output\n",
    "item = \"What is the most common cause of death in the United States\"\n",
    "\n",
    "# Initialize input messages with the user's query.\n",
    "input_messages = [{\"role\": \"user\", \"content\": item}]\n",
    "print(\"\\n🌟--- Processing Query ---🌟\")\n",
    "print(f\"🔍 **User Query:** {item}\")\n",
    "    \n",
    "    # Call the Responses API with tools enabled and allow parallel tool calls.\n",
    "print(\"\\n🔧 **Calling Responses API with Tools Enabled**\")\n",
    "print(\"\\n🕵️‍♂️ **Step 1: Web Search Call**\")\n",
    "print(\"   - Initiating web search to gather initial information.\")\n",
    "print(\"\\n📚 **Step 2: Pinecone Search Call**\")\n",
    "print(\"   - Querying Pinecone to find relevant examples from the internal knowledge base.\")\n",
    "    \n",
    "response = client.responses.create(\n",
    "        model=\"gpt-4o\",\n",
    "        input=[\n",
    "            {\"role\": \"system\", \"content\": \"Every time it's prompted with a question, first call the web search tool for results, then call `PineconeSearchDocuments` to find real examples in the internal knowledge base.\"},\n",
    "            {\"role\": \"user\", \"content\": item}\n",
    "        ],\n",
    "        tools=tools,\n",
    "        parallel_tool_calls=True\n",
    "    )\n",
    "    \n",
    "# Print the initial response output.\n",
    "print(\"input_messages\", input_messages)\n",
    "\n",
    "print(\"\\n✨ **Initial Response Output:**\")\n",
    "print(response.output)"
   ]
  },
  {
   "cell_type": "code",
   "execution_count": null,
   "metadata": {},
   "outputs": [],
   "source": [
    "# Understand the tool calls and function calls as part of the response output\n",
    "\n",
    "import pandas as pd\n",
    "\n",
    "# Create a list to store the tool call and function call details\n",
    "tool_calls = []\n",
    "\n",
    "# Iterate through the response output and collect the details\n",
    "for i in response.output:\n",
    "    tool_calls.append({\n",
    "        \"Type\": i.type,\n",
    "        \"Call ID\": i.call_id if hasattr(i, 'call_id') else i.id if hasattr(i, 'id') else \"N/A\",\n",
    "        \"Output\": str(i.output) if hasattr(i, 'output') else \"N/A\",\n",
    "        \"Name\": i.name if hasattr(i, 'name') else \"N/A\"\n",
    "    })\n",
    "\n",
    "# Convert the list to a DataFrame for tabular display\n",
    "df_tool_calls = pd.DataFrame(tool_calls)\n",
    "\n",
    "# Display the DataFrame\n",
    "df_tool_calls"
   ]
  },
  {
   "cell_type": "code",
   "execution_count": null,
   "metadata": {},
   "outputs": [],
   "source": [
    "tool_call_1 = response.output[0]\n",
    "print(tool_call_1)\n",
    "print(tool_call_1.id)\n",
    "\n",
    "tool_call_2 = response.output[2]\n",
    "print(tool_call_2)\n",
    "print(tool_call_2.call_id)"
   ]
  },
  {
   "cell_type": "code",
   "execution_count": null,
   "metadata": {},
   "outputs": [],
   "source": [
    "# append the tool call and its output back into the conversation.\n",
    "input_messages.append(response.output[2])\n",
    "input_messages.append({\n",
    "    \"type\": \"function_call_output\",\n",
    "    \"call_id\": tool_call_2.call_id,\n",
    "    \"output\": str(result)\n",
    "})\n",
    "print(input_messages)"
   ]
  },
  {
   "cell_type": "code",
   "execution_count": null,
   "metadata": {},
   "outputs": [],
   "source": [
    "\n",
    "# Get the final answer incorporating the tool's result.\n",
    "print(\"\\n🔧 **Calling Responses API for Final Answer**\")\n",
    "\n",
    "response_2 = client.responses.create(\n",
    "    model=\"gpt-4o\",\n",
    "    input=input_messages,\n",
    ")\n",
    "print(response_2)"
   ]
  },
  {
   "cell_type": "code",
   "execution_count": null,
   "metadata": {},
   "outputs": [],
   "source": [
    "# print the final answer\n",
    "print(response_2.output_text)"
   ]
  },
  {
   "cell_type": "markdown",
   "metadata": {},
   "source": [
    "\n",
    "Here, we have seen  how to utilize OpenAI's Responses API to implement a Retrieval-Augmented Generation (RAG) approach with multi-tool calling capabilities. It showcases an example where the model selects the appropriate tool based on the input query: general questions may be handled by built-in tools such as web-search, while specific medical inquiries related to internal knowledge are addressed by retrieving context from a vector database (such as Pinecone) via function calls. Additonally, we have showcased how multiple tool calls can be sequentially combined to generate a final response based on our instructions provided to responses API. Happy coding! "
   ]
  }
 ],
 "metadata": {
  "kernelspec": {
   "display_name": ".venv",
   "language": "python",
   "name": "python3"
  },
  "language_info": {
   "codemirror_mode": {
    "name": "ipython",
    "version": 3
   },
   "file_extension": ".py",
   "mimetype": "text/x-python",
   "name": "python",
   "nbconvert_exporter": "python",
   "pygments_lexer": "ipython3",
   "version": "3.11.11"
  }
 },
 "nbformat": 4,
 "nbformat_minor": 2
}
