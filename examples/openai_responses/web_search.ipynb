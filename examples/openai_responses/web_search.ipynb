{
 "cells": [
  {
   "cell_type": "markdown",
   "metadata": {},
   "source": [
    "## What is the Responses API\n",
    "\n",
    "The Responses API is a new API that focuses on greater simplicity and greater expressivity when using our APIs. It is designed for multiple tools, multiple turns, and multiple modalities — as opposed to current APIs, which either have these features bolted onto an API designed primarily for text in and out (chat completions) or need a lot bootstrapping to perform simple actions (assistants api).\n",
    "\n",
    "Here I will show you a couple of new features that the Responses API has to offer and tie it all together at the end.\n",
    "`responses` solves for a number of user painpoints with our current set of APIs. During our time with the completions API, we found that folks wanted:\n",
    "\n",
    "- the ability to easily perform multi-turn model interactions in a single API call\n",
    "- to have access to our hosted tools (file_search, web_search, code_interpreter)\n",
    "- granular control over the context sent to the model\n",
    "\n",
    "As models start to develop longer running reasoning and thinking capabilities, users will want an async-friendly and stateful primitive. Response solves for this. \n"
   ]
  },
  {
   "cell_type": "markdown",
   "metadata": {},
   "source": [
    "## Basics\n",
    "By design, on the surface, the Responses API is very similar to the Completions API."
   ]
  },
  {
   "cell_type": "code",
   "execution_count": null,
   "metadata": {},
   "outputs": [],
   "source": [
    "from dotenv import load_dotenv\n",
    "import os\n",
    "\n",
    "load_dotenv()\n",
    "OPENAI_API_KEY = os.getenv(\"OPENAI_API_KEY\")\n",
    "AGENTOPS_API_KEY = os.getenv(\"AGENTOPS_API_KEY\")\n",
    "\n",
    "import agentops\n",
    "agentops.init(api_key=AGENTOPS_API_KEY)"
   ]
  },
  {
   "cell_type": "code",
   "execution_count": 2,
   "metadata": {},
   "outputs": [],
   "source": [
    "from openai import OpenAI\n",
    "client = OpenAI(api_key=OPENAI_API_KEY)"
   ]
  },
  {
   "cell_type": "code",
   "execution_count": 3,
   "metadata": {},
   "outputs": [],
   "source": [
    "response = client.responses.create(\n",
    "    model=\"gpt-4o-mini\",\n",
    "    input=\"tell me a joke\",\n",
    ")\n"
   ]
  },
  {
   "cell_type": "code",
   "execution_count": null,
   "metadata": {},
   "outputs": [],
   "source": [
    "print(response.output[0].content[0].text)"
   ]
  },
  {
   "cell_type": "markdown",
   "metadata": {},
   "source": [
    "One key feature of the Response API is that it is stateful. This means that you do not have to manage the state of the conversation by yourself, the API will handle it for you. For example, you can retrieve the response at any time and it will include the full conversation history."
   ]
  },
  {
   "cell_type": "code",
   "execution_count": null,
   "metadata": {},
   "outputs": [],
   "source": [
    "fetched_response = client.responses.retrieve(\n",
    "response_id=response.id)\n",
    "\n",
    "print(fetched_response.output[0].content[0].text)\n"
   ]
  },
  {
   "cell_type": "markdown",
   "metadata": {},
   "source": [
    "You can continue the conversation by referring to the previous response."
   ]
  },
  {
   "cell_type": "code",
   "execution_count": 6,
   "metadata": {},
   "outputs": [],
   "source": [
    "response_two = client.responses.create(\n",
    "    model=\"gpt-4o-mini\",\n",
    "    input=\"tell me another\",\n",
    "    previous_response_id=response.id\n",
    ")\n"
   ]
  },
  {
   "cell_type": "code",
   "execution_count": null,
   "metadata": {},
   "outputs": [],
   "source": [
    "print(response_two.output[0].content[0].text)"
   ]
  },
  {
   "cell_type": "markdown",
   "metadata": {},
   "source": [
    "You can of course manage the context yourself. But one benefit of OpenAI maintaining the context for you is that you can fork the response at any point and continue the conversation from that point."
   ]
  },
  {
   "cell_type": "code",
   "execution_count": null,
   "metadata": {},
   "outputs": [],
   "source": [
    "response_two_forked = client.responses.create(\n",
    "    model=\"gpt-4o-mini\",\n",
    "    input=\"I didn't like that joke, tell me another and tell me the difference between the two jokes\",\n",
    "    previous_response_id=response.id # Forking and continuing from the first response\n",
    ")\n",
    "\n",
    "output_text = response_two_forked.output[0].content[0].text\n",
    "print(output_text)"
   ]
  },
  {
   "cell_type": "markdown",
   "metadata": {},
   "source": [
    "## Hosted Tools\n",
    "\n",
    "Another benefit of the Responses API is that it adds support for hosted tools like `file_search` and `web_search`. Instead of manually calling the tools, simply pass in the tools and the API will decide which tool to use and use it.\n",
    "\n",
    "Here is an example of using the `web_search` tool to incorporate web search results into the response. You may already be familiar with how ChatGPT can search the web. You can now build similar experiences too! The web search tool uses the OpenAI Index, the one that powers the web search in ChatGPT, having being optimized for chat applications.\n"
   ]
  },
  {
   "cell_type": "code",
   "execution_count": null,
   "metadata": {},
   "outputs": [],
   "source": [
    "response = client.responses.create(\n",
    "    model=\"gpt-4o\",  # or another supported model\n",
    "    input=\"What's the latest news about AI?\",\n",
    "    tools=[\n",
    "        {\n",
    "            \"type\": \"web_search\"\n",
    "        }\n",
    "    ]\n",
    ")"
   ]
  },
  {
   "cell_type": "code",
   "execution_count": null,
   "metadata": {},
   "outputs": [],
   "source": [
    "import json\n",
    "print(json.dumps(response.output, default=lambda o: o.__dict__, indent=2))"
   ]
  },
  {
   "cell_type": "markdown",
   "metadata": {},
   "source": [
    "## Multimodal, Tool-augmented conversation\n",
    "\n",
    "The Responses API natively supports text, images, and audio modalities. \n",
    "Tying everything together, we can build a fully multimodal, tool-augmented interaction with one API call through the responses API."
   ]
  },
  {
   "cell_type": "code",
   "execution_count": null,
   "metadata": {},
   "outputs": [],
   "source": [
    "import base64\n",
    "\n",
    "from IPython.display import Image, display\n",
    "\n",
    "# Display the image from the provided URL\n",
    "url = \"https://upload.wikimedia.org/wikipedia/commons/thumb/1/15/Cat_August_2010-4.jpg/2880px-Cat_August_2010-4.jpg\"\n",
    "display(Image(url=url, width=400))\n",
    "\n",
    "response_multimodal = client.responses.create(\n",
    "    model=\"gpt-4o\",\n",
    "    input=[\n",
    "        {\n",
    "            \"role\": \"user\",\n",
    "            \"content\": [\n",
    "                {\"type\": \"input_text\", \"text\": \n",
    "                 \"Come up with keywords related to the image, and search on the web using the search tool for any news related to the keywords\"\n",
    "                 \", summarize the findings and cite the sources.\"},\n",
    "                {\"type\": \"input_image\", \"image_url\": \"https://upload.wikimedia.org/wikipedia/commons/thumb/1/15/Cat_August_2010-4.jpg/2880px-Cat_August_2010-4.jpg\"}\n",
    "            ]\n",
    "        }\n",
    "    ],\n",
    "    tools=[\n",
    "        {\"type\": \"web_search\"}\n",
    "    ]\n",
    ")\n"
   ]
  },
  {
   "cell_type": "code",
   "execution_count": null,
   "metadata": {},
   "outputs": [],
   "source": [
    "import json\n",
    "print(json.dumps(response_multimodal.__dict__, default=lambda o: o.__dict__, indent=4))"
   ]
  },
  {
   "cell_type": "markdown",
   "metadata": {},
   "source": [
    "In the above example, we were able to use the `web_search` tool to search the web for news related to the image in one API call instead of multiple round trips that would be required if we were using the Chat Completions API."
   ]
  },
  {
   "cell_type": "markdown",
   "metadata": {},
   "source": [
    "With the responses API\n",
    "🔥 a single API call can handle:\n",
    "\n",
    "✅ Analyze a given image using a multimodal input.\n",
    "\n",
    "✅ Perform web search via the `web_search` hosted tool\n",
    "\n",
    "✅ Summarize the results.\n",
    "\n",
    "In contrast, With Chat Completions API would require multiple steps, each requiring a round trip to the API:\n",
    "\n",
    "1️⃣ Upload image and get analysis → 1 request\n",
    "\n",
    "2️⃣ Extract info, call external web search → manual step + tool execution\n",
    "\n",
    "3️⃣ Re-submit tool results for summarization → another request\n",
    "\n",
    "See the following diagram for a side by side visualized comparison!\n",
    "\n",
    "![Responses vs Completions](../../images/comparisons.png)\n",
    "\n",
    "\n",
    "We are very excited for you to try out the Responses API and see how it can simplify your code and make it easier to build complex, multimodal, tool-augmented interactions!\n"
   ]
  }
 ],
 "metadata": {
  "kernelspec": {
   "display_name": ".venv",
   "language": "python",
   "name": "python3"
  },
  "language_info": {
   "codemirror_mode": {
    "name": "ipython",
    "version": 3
   },
   "file_extension": ".py",
   "mimetype": "text/x-python",
   "name": "python",
   "nbconvert_exporter": "python",
   "pygments_lexer": "ipython3",
   "version": "3.11.11"
  }
 },
 "nbformat": 4,
 "nbformat_minor": 2
}
