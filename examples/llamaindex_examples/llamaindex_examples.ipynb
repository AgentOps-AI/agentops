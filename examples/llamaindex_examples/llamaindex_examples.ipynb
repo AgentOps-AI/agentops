{
 "cells": [
  {
   "cell_type": "markdown",
   "id": "82aa4ae2",
   "metadata": {},
   "source": [
    "# LlamaIndex Integration Example\n",
    "\n",
    "This notebook demonstrates how to use AgentOps with LlamaIndex for monitoring and observability of your LLM applications.\n",
    "\n",
    "## Setup\n",
    "\n",
    "First, ensure you have the required packages installed:\n",
    "```bash\n",
    "pip install agentops llama-index python-dotenv openai\n",
    "```"
   ]
  },
  {
   "cell_type": "code",
   "execution_count": null,
   "id": "cc6137f4",
   "metadata": {},
   "outputs": [],
   "source": [
    "# Import required packages\n",
    "from llama_index.core import VectorStoreIndex, SimpleDirectoryReader\n",
    "from llama_index.llms.openai import OpenAI\n",
    "from llama_index.instrumentation.agentops import AgentOpsHandler\n",
    "from agentops import Client\n",
    "import os\n",
    "from dotenv import load_dotenv"
   ]
  },
  {
   "cell_type": "markdown",
   "id": "1df168b3",
   "metadata": {},
   "source": [
    "## Environment Setup\n",
    "\n",
    "Load environment variables from `.env` file. Make sure to copy `.env.tpl` to `.env` and fill in your API keys."
   ]
  },
  {
   "cell_type": "code",
   "execution_count": null,
   "id": "0dfcc445",
   "metadata": {},
   "outputs": [],
   "source": [
    "# Load environment variables\n",
    "load_dotenv()\n",
    "\n",
    "# Configure API keys\n",
    "AGENTOPS_API_KEY = os.getenv(\"AGENTOPS_API_KEY\")\n",
    "OPENAI_API_KEY = os.getenv(\"OPENAI_API_KEY\")\n",
    "\n",
    "if not all([AGENTOPS_API_KEY, OPENAI_API_KEY]):\n",
    "    raise ValueError(\"Please set AGENTOPS_API_KEY and OPENAI_API_KEY in your .env file\")"
   ]
  },
  {
   "cell_type": "markdown",
   "id": "c14a16bc",
   "metadata": {},
   "source": [
    "## Initialize AgentOps Handler\n",
    "\n",
    "Set up the AgentOps handler to track LlamaIndex operations."
   ]
  },
  {
   "cell_type": "code",
   "execution_count": null,
   "id": "1b54b2d4",
   "metadata": {},
   "outputs": [],
   "source": [
    "# Initialize AgentOps handler\n",
    "AgentOpsHandler.init(api_key=AGENTOPS_API_KEY)"
   ]
  },
  {
   "cell_type": "markdown",
   "id": "5b38d476",
   "metadata": {},
   "source": [
    "## Document Processing Example\n",
    "\n",
    "Let's create a simple example using LlamaIndex to process and query documents while tracking the operations with AgentOps."
   ]
  },
  {
   "cell_type": "code",
   "execution_count": null,
   "id": "3a3b44f4",
   "metadata": {},
   "outputs": [],
   "source": [
    "# Load documents from the data directory\n",
    "documents = SimpleDirectoryReader('data').load_data()\n",
    "\n",
    "# Create an index from the documents\n",
    "index = VectorStoreIndex.from_documents(documents)\n",
    "\n",
    "# Create a query engine\n",
    "query_engine = index.as_query_engine()"
   ]
  },
  {
   "cell_type": "markdown",
   "id": "5c1c3a56",
   "metadata": {},
   "source": [
    "## Query Example\n",
    "\n",
    "Now let's query our indexed documents. AgentOps will automatically track the LLM calls and their responses."
   ]
  },
  {
   "cell_type": "code",
   "execution_count": null,
   "id": "18a191f6",
   "metadata": {},
   "outputs": [],
   "source": [
    "# Query the index\n",
    "response = query_engine.query(\"What is this document about?\")\n",
    "print(f\"Response: {response}\")\n",
    "\n",
    "# Try another query\n",
    "response = query_engine.query(\"What are the main topics covered?\")\n",
    "print(f\"Response: {response}\")"
   ]
  },
  {
   "cell_type": "markdown",
   "id": "c03fdffa",
   "metadata": {},
   "source": [
    "## Error Handling Example\n",
    "\n",
    "Let's demonstrate how AgentOps tracks errors in LlamaIndex operations."
   ]
  },
  {
   "cell_type": "code",
   "execution_count": null,
   "id": "63187bb6",
   "metadata": {},
   "outputs": [],
   "source": [
    "try:\n",
    "    # Attempt to load documents from a non-existent directory\n",
    "    documents = SimpleDirectoryReader('nonexistent_directory').load_data()\n",
    "except Exception as e:\n",
    "    print(f\"Error caught and tracked by AgentOps: {str(e)}\")"
   ]
  },
  {
   "cell_type": "markdown",
   "id": "bf4de9ab",
   "metadata": {},
   "source": [
    "## Viewing Results\n",
    "\n",
    "You can view the tracked operations, including LLM calls, errors, and performance metrics in the AgentOps dashboard:\n",
    "https://app.agentops.ai/\n",
    "\n",
    "The dashboard will show:\n",
    "- LLM interactions and their costs\n",
    "- Query performance metrics\n",
    "- Error tracking and debugging information\n",
    "- Document processing statistics"
   ]
  }
 ],
 "metadata": {},
 "nbformat": 4,
 "nbformat_minor": 5
}
