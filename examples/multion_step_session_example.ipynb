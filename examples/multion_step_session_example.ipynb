{
 "cells": [
  {
   "cell_type": "code",
   "execution_count": 1,
   "metadata": {},
   "outputs": [
    {
     "name": "stdout",
     "output_type": "stream",
     "text": [
      "Collecting multion\n",
      "  Using cached multion-1.1.0-py3-none-any.whl.metadata (4.5 kB)\n",
      "Requirement already satisfied: httpx>=0.21.2 in /Users/howardgil/Desktop/agentops/AgentOps-AI/agentops/env/lib/python3.12/site-packages (from multion) (0.27.0)\n",
      "Collecting httpx-sse==0.4.0 (from multion)\n",
      "  Using cached httpx_sse-0.4.0-py3-none-any.whl.metadata (9.0 kB)\n",
      "Requirement already satisfied: pydantic>=1.9.2 in /Users/howardgil/Desktop/agentops/AgentOps-AI/agentops/env/lib/python3.12/site-packages (from multion) (2.7.1)\n",
      "Requirement already satisfied: typing_extensions>=4.0.0 in /Users/howardgil/Desktop/agentops/AgentOps-AI/agentops/env/lib/python3.12/site-packages (from multion) (4.11.0)\n",
      "Requirement already satisfied: anyio in /Users/howardgil/Desktop/agentops/AgentOps-AI/agentops/env/lib/python3.12/site-packages (from httpx>=0.21.2->multion) (4.3.0)\n",
      "Requirement already satisfied: certifi in /Users/howardgil/Desktop/agentops/AgentOps-AI/agentops/env/lib/python3.12/site-packages (from httpx>=0.21.2->multion) (2024.2.2)\n",
      "Requirement already satisfied: httpcore==1.* in /Users/howardgil/Desktop/agentops/AgentOps-AI/agentops/env/lib/python3.12/site-packages (from httpx>=0.21.2->multion) (1.0.5)\n",
      "Requirement already satisfied: idna in /Users/howardgil/Desktop/agentops/AgentOps-AI/agentops/env/lib/python3.12/site-packages (from httpx>=0.21.2->multion) (3.7)\n",
      "Requirement already satisfied: sniffio in /Users/howardgil/Desktop/agentops/AgentOps-AI/agentops/env/lib/python3.12/site-packages (from httpx>=0.21.2->multion) (1.3.1)\n",
      "Requirement already satisfied: h11<0.15,>=0.13 in /Users/howardgil/Desktop/agentops/AgentOps-AI/agentops/env/lib/python3.12/site-packages (from httpcore==1.*->httpx>=0.21.2->multion) (0.14.0)\n",
      "Requirement already satisfied: annotated-types>=0.4.0 in /Users/howardgil/Desktop/agentops/AgentOps-AI/agentops/env/lib/python3.12/site-packages (from pydantic>=1.9.2->multion) (0.7.0)\n",
      "Requirement already satisfied: pydantic-core==2.18.2 in /Users/howardgil/Desktop/agentops/AgentOps-AI/agentops/env/lib/python3.12/site-packages (from pydantic>=1.9.2->multion) (2.18.2)\n",
      "Using cached multion-1.1.0-py3-none-any.whl (39 kB)\n",
      "Using cached httpx_sse-0.4.0-py3-none-any.whl (7.8 kB)\n",
      "Installing collected packages: httpx-sse, multion\n",
      "Successfully installed httpx-sse-0.4.0 multion-1.1.0\n",
      "Note: you may need to restart the kernel to use updated packages.\n",
      "Requirement already satisfied: agentops in /Users/howardgil/Desktop/agentops/AgentOps-AI/agentops/env/lib/python3.12/site-packages (0.1.11)\n",
      "Requirement already satisfied: requests==2.31.0 in /Users/howardgil/Desktop/agentops/AgentOps-AI/agentops/env/lib/python3.12/site-packages (from agentops) (2.31.0)\n",
      "Requirement already satisfied: psutil==5.9.8 in /Users/howardgil/Desktop/agentops/AgentOps-AI/agentops/env/lib/python3.12/site-packages (from agentops) (5.9.8)\n",
      "Requirement already satisfied: packaging==23.2 in /Users/howardgil/Desktop/agentops/AgentOps-AI/agentops/env/lib/python3.12/site-packages (from agentops) (23.2)\n",
      "Requirement already satisfied: charset-normalizer<4,>=2 in /Users/howardgil/Desktop/agentops/AgentOps-AI/agentops/env/lib/python3.12/site-packages (from requests==2.31.0->agentops) (3.3.2)\n",
      "Requirement already satisfied: idna<4,>=2.5 in /Users/howardgil/Desktop/agentops/AgentOps-AI/agentops/env/lib/python3.12/site-packages (from requests==2.31.0->agentops) (3.7)\n",
      "Requirement already satisfied: urllib3<3,>=1.21.1 in /Users/howardgil/Desktop/agentops/AgentOps-AI/agentops/env/lib/python3.12/site-packages (from requests==2.31.0->agentops) (2.2.1)\n",
      "Requirement already satisfied: certifi>=2017.4.17 in /Users/howardgil/Desktop/agentops/AgentOps-AI/agentops/env/lib/python3.12/site-packages (from requests==2.31.0->agentops) (2024.2.2)\n",
      "Note: you may need to restart the kernel to use updated packages.\n",
      "Requirement already satisfied: python-dotenv in /Users/howardgil/Desktop/agentops/AgentOps-AI/agentops/env/lib/python3.12/site-packages (1.0.1)\n",
      "Note: you may need to restart the kernel to use updated packages.\n"
     ]
    }
   ],
   "source": [
    "%pip install multion\n",
    "%pip install agentops\n",
    "%pip install python-dotenv"
   ]
  },
  {
   "cell_type": "code",
   "execution_count": 2,
   "metadata": {},
   "outputs": [
    {
     "ename": "ImportError",
     "evalue": "cannot import name 'load_env' from 'dotenv' (/Users/howardgil/Desktop/agentops/AgentOps-AI/agentops/env/lib/python3.12/site-packages/dotenv/__init__.py)",
     "output_type": "error",
     "traceback": [
      "\u001b[0;31m---------------------------------------------------------------------------\u001b[0m",
      "\u001b[0;31mImportError\u001b[0m                               Traceback (most recent call last)",
      "Cell \u001b[0;32mIn[2], line 6\u001b[0m\n\u001b[1;32m      4\u001b[0m \u001b[38;5;28;01mfrom\u001b[39;00m \u001b[38;5;21;01magentops\u001b[39;00m \u001b[38;5;28;01mimport\u001b[39;00m ActionEvent, LLMEvent, ToolEvent, ErrorEvent\n\u001b[1;32m      5\u001b[0m \u001b[38;5;28;01mimport\u001b[39;00m \u001b[38;5;21;01mdotenv\u001b[39;00m\n\u001b[0;32m----> 6\u001b[0m \u001b[38;5;28;01mfrom\u001b[39;00m \u001b[38;5;21;01mdotenv\u001b[39;00m \u001b[38;5;28;01mimport\u001b[39;00m load_env\n\u001b[1;32m      8\u001b[0m load_env()\n\u001b[1;32m     10\u001b[0m agentops\u001b[38;5;241m.\u001b[39minit(api_key\u001b[38;5;241m=\u001b[39menv\u001b[38;5;241m.\u001b[39mget(\u001b[38;5;124m\"\u001b[39m\u001b[38;5;124mAGENTOPS_API_KEY\u001b[39m\u001b[38;5;124m\"\u001b[39m))\n",
      "\u001b[0;31mImportError\u001b[0m: cannot import name 'load_env' from 'dotenv' (/Users/howardgil/Desktop/agentops/AgentOps-AI/agentops/env/lib/python3.12/site-packages/dotenv/__init__.py)"
     ]
    }
   ],
   "source": [
    "import multion\n",
    "from multion.client import MultiOn\n",
    "import agentops\n",
    "from agentops import ActionEvent, LLMEvent, ToolEvent, ErrorEvent\n",
    "import os\n",
    "import dotenv\n",
    "from dotenv import load_dotenv\n",
    "\n",
    "load_dotenv()\n",
    "\n",
    "agentops.init(api_key=os.environ.get(\"AGENTOPS_API_KEY\"))\n",
    "multion = MultiOn(api_key=os.environ.get(\"MULTION_API_KEY\"))\n",
    "create_session_params= {\n",
    "    \"url\": \"https://www.rei.com/\"\n",
    "}\n",
    "action_event = ActionEvent(params=create_session_params,action_type=\"create_session\")\n",
    "create_session_response = multion.sessions.create(**create_session_params)\n",
    "action_event.returns = create_session_response.__dict__\n",
    "agentops.record(action_event)\n",
    "session_id = create_session_response.session_id\n",
    "print(create_session_response.message)\n",
    "cmd=\"find the top reviewed satellite phone on REI and add it to my cart. Dismiss any modals as necessary.\"\n",
    "step_session_params= {\n",
    "   \t\"session_id\": session_id,\n",
    "    \"cmd\": cmd,\n",
    "    \"url\": \"https://www.rei.com/\",\n",
    "    \"include_screenshot\":True,\n",
    "}\n",
    "llm_event = LLMEvent(prompt=cmd)\n",
    "agentops.record(llm_event)\n",
    "\n",
    "action_event = ActionEvent(params=step_session_params,action_type=\"step_session\")\n",
    "llm_event = LLMEvent()\n",
    "step_session_response = multion.sessions.step(**step_session_params)\n",
    "print(step_session_response.message)\n",
    "action_event.returns = step_session_response.__dict__\n",
    "action_event.screenshot = step_session_response.screenshot\n",
    "llm_event.prompt = step_session_response.message\n",
    "agentops.record(action_event)\n",
    "agentops.record(llm_event)\n",
    "\n",
    "while step_session_response.status == 'CONTINUE':\n",
    "  action_event = ActionEvent(params=step_session_params,action_type=\"step_session\")\n",
    "  llm_event = LLMEvent()\n",
    "  step_session_response = multion.sessions.step(**step_session_params)\n",
    "  print(step_session_response.message)\n",
    "  action_event.returns = step_session_response.__dict__\n",
    "  action_event.screenshot = step_session_response.screenshot\n",
    "  llm_event.prompt = step_session_response.message\n",
    "  agentops.record(action_event)\n",
    "  agentops.record(llm_event)\n",
    "  \n",
    "if step_session_response.status == 'DONE':\n",
    "    action_event = ActionEvent(params=step_session_params,action_type=\"step_session\")\n",
    "    llm_event = LLMEvent()\n",
    "    print('task completed')\n",
    "    action_event.returns = step_session_response.__dict__\n",
    "    action_event.screenshot = step_session_response.screenshot\n",
    "    llm_event.prompt = step_session_response.message\n",
    "    agentops.record(action_event)\n",
    "    agentops.record(llm_event)\n",
    "\n",
    "print(step_session_response.message)\n",
    "get_screenshot = multion.sessions.screenshot(session_id=session_id)\n",
    "print(\"screenshot of session: \", get_screenshot.screenshot)\n",
    "close_session_response = multion.sessions.close(session_id=session_id)\n",
    "print(\"close_session_response: \", close_session_response)\n",
    "\n",
    "agentops.end_session(\"Success\")"
   ]
  }
 ],
 "metadata": {
  "kernelspec": {
   "display_name": "env",
   "language": "python",
   "name": "python3"
  },
  "language_info": {
   "codemirror_mode": {
    "name": "ipython",
    "version": 3
   },
   "file_extension": ".py",
   "mimetype": "text/x-python",
   "name": "python",
   "nbconvert_exporter": "python",
   "pygments_lexer": "ipython3",
   "version": "3.12.2"
  }
 },
 "nbformat": 4,
 "nbformat_minor": 2
}
