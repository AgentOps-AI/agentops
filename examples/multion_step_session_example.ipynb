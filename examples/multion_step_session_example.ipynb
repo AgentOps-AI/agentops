{
 "cells": [
  {
   "cell_type": "code",
   "execution_count": 1,
   "metadata": {},
   "outputs": [
    {
     "name": "stdout",
     "output_type": "stream",
     "text": [
      "Requirement already satisfied: multion in ./env/lib/python3.12/site-packages (1.1.0)\n",
      "Requirement already satisfied: httpx>=0.21.2 in ./env/lib/python3.12/site-packages (from multion) (0.27.0)\n",
      "Requirement already satisfied: httpx-sse==0.4.0 in ./env/lib/python3.12/site-packages (from multion) (0.4.0)\n",
      "Requirement already satisfied: pydantic>=1.9.2 in ./env/lib/python3.12/site-packages (from multion) (2.7.1)\n",
      "Requirement already satisfied: typing_extensions>=4.0.0 in ./env/lib/python3.12/site-packages (from multion) (4.12.0)\n",
      "Requirement already satisfied: anyio in ./env/lib/python3.12/site-packages (from httpx>=0.21.2->multion) (4.4.0)\n",
      "Requirement already satisfied: certifi in ./env/lib/python3.12/site-packages (from httpx>=0.21.2->multion) (2024.2.2)\n",
      "Requirement already satisfied: httpcore==1.* in ./env/lib/python3.12/site-packages (from httpx>=0.21.2->multion) (1.0.5)\n",
      "Requirement already satisfied: idna in ./env/lib/python3.12/site-packages (from httpx>=0.21.2->multion) (3.7)\n",
      "Requirement already satisfied: sniffio in ./env/lib/python3.12/site-packages (from httpx>=0.21.2->multion) (1.3.1)\n",
      "Requirement already satisfied: h11<0.15,>=0.13 in ./env/lib/python3.12/site-packages (from httpcore==1.*->httpx>=0.21.2->multion) (0.14.0)\n",
      "Requirement already satisfied: annotated-types>=0.4.0 in ./env/lib/python3.12/site-packages (from pydantic>=1.9.2->multion) (0.7.0)\n",
      "Requirement already satisfied: pydantic-core==2.18.2 in ./env/lib/python3.12/site-packages (from pydantic>=1.9.2->multion) (2.18.2)\n",
      "Note: you may need to restart the kernel to use updated packages.\n",
      "Requirement already satisfied: agentops in ./env/lib/python3.12/site-packages (0.1.12)\n",
      "Requirement already satisfied: requests==2.31.0 in ./env/lib/python3.12/site-packages (from agentops) (2.31.0)\n",
      "Requirement already satisfied: psutil==5.9.8 in ./env/lib/python3.12/site-packages (from agentops) (5.9.8)\n",
      "Requirement already satisfied: packaging==23.2 in ./env/lib/python3.12/site-packages (from agentops) (23.2)\n",
      "Requirement already satisfied: charset-normalizer<4,>=2 in ./env/lib/python3.12/site-packages (from requests==2.31.0->agentops) (3.3.2)\n",
      "Requirement already satisfied: idna<4,>=2.5 in ./env/lib/python3.12/site-packages (from requests==2.31.0->agentops) (3.7)\n",
      "Requirement already satisfied: urllib3<3,>=1.21.1 in ./env/lib/python3.12/site-packages (from requests==2.31.0->agentops) (2.2.1)\n",
      "Requirement already satisfied: certifi>=2017.4.17 in ./env/lib/python3.12/site-packages (from requests==2.31.0->agentops) (2024.2.2)\n",
      "Note: you may need to restart the kernel to use updated packages.\n"
     ]
    }
   ],
   "source": [
    "%pip install multion\n",
    "%pip install agentops"
   ]
  },
  {
   "cell_type": "code",
   "execution_count": 2,
   "metadata": {},
   "outputs": [
    {
     "name": "stderr",
     "output_type": "stream",
     "text": [
      "🖇 AgentOps: \u001b[34mSession Replay: https://app.agentops.ai/drilldown?session_id=7090aebc-97f7-462a-aed3-3375f813c014\u001b[0m\n"
     ]
    },
    {
     "name": "stdout",
     "output_type": "stream",
     "text": [
      "New Session Created\n",
      "I am searching for \"satellite phone\" on the REI website to find the top reviewed one.\n",
      "\n",
      "I am clicking on the Garmin inReach Mini 2, which has the highest number of reviews and the highest average rating, to view its details.\n",
      "\n",
      "I am clicking on the Garmin inReach Mini 2, which has the highest number of reviews and the highest average rating, to view its details.\n",
      "\n",
      "I am clicking on the \"Add to Cart\" button to add the Garmin inReach Mini 2 to the cart.\n",
      "\n",
      "I am closing the shipping terms & conditions popup to proceed with adding the Garmin inReach Mini 2 to the cart.\n",
      "\n",
      "I am clicking on the \"Add to Cart\" button to add the Garmin inReach Mini 2 to the cart.\n",
      "\n",
      "I am clicking on the \"Check other stores\" button to proceed with adding the Garmin inReach Mini 2 to the cart.\n",
      "\n",
      "I am closing the \"Find a store near you\" popup to proceed with adding the Garmin inReach Mini 2 to the cart.\n",
      "\n",
      "I am clicking on the \"Check other stores\" button to proceed with adding the Garmin inReach Mini 2 to the cart.\n",
      "\n",
      "I am closing the \"Find a store near you\" popup to proceed with adding the Garmin inReach Mini 2 to the cart.\n",
      "\n",
      "I am clicking on the \"Cart\" link to verify if the Garmin inReach Mini 2 has been added to the cart.\n",
      "\n",
      "The Garmin inReach Mini 2 has been successfully added to your cart. You can proceed with the checkout process.\n",
      "\n",
      "task completed\n",
      "The Garmin inReach Mini 2 has been successfully added to your cart. You can proceed with the checkout process.\n",
      "\n",
      "screenshot of session:  https://multion-client-screenshots.s3.us-east-2.amazonaws.com/58832e32-4243-45fa-b1b8-26c4ecbbfb98_f59c74f3-e331-49d7-8f70-9659f97dd498_screenshot.png\n",
      "close_session_response:  status='Session closed' session_id='58832e32-4243-45fa-b1b8-26c4ecbbfb98'\n"
     ]
    },
    {
     "name": "stderr",
     "output_type": "stream",
     "text": [
      "🖇 AgentOps: This run's cost $0.00\n",
      "🖇 AgentOps: \u001b[34mSession Replay: https://app.agentops.ai/drilldown?session_id=7090aebc-97f7-462a-aed3-3375f813c014\u001b[0m\n"
     ]
    }
   ],
   "source": [
    "import multion\n",
    "from multion.client import MultiOn\n",
    "import agentops\n",
    "from agentops import ActionEvent, LLMEvent, ToolEvent, ErrorEvent\n",
    "\n",
    "agentops.init(api_key=\"33413f5a-5cf1-4d8f-b0a2-e995a8d4298a\")\n",
    "multion = MultiOn(api_key=\"0a4f3bc7361f4ec1aac78fae687808fb\")\n",
    "create_session_params= {\n",
    "    \"url\": \"https://www.rei.com/\"\n",
    "}\n",
    "action_event = ActionEvent(params=create_session_params,action_type=\"create_session\")\n",
    "create_session_response = multion.sessions.create(**create_session_params)\n",
    "action_event.returns = create_session_response.__dict__\n",
    "agentops.record(action_event)\n",
    "session_id = create_session_response.session_id\n",
    "print(create_session_response.message)\n",
    "cmd=\"find the top reviewed satellite phone on REI and add it to my cart. Dismiss any modals as necessary.\"\n",
    "step_session_params= {\n",
    "   \t\"session_id\": session_id,\n",
    "    \"cmd\": cmd,\n",
    "    \"url\": \"https://www.rei.com/\",\n",
    "    \"include_screenshot\":True,\n",
    "}\n",
    "llm_event = LLMEvent(prompt=cmd)\n",
    "agentops.record(llm_event)\n",
    "\n",
    "action_event = ActionEvent(params=step_session_params,action_type=\"step_session\")\n",
    "llm_event = LLMEvent()\n",
    "step_session_response = multion.sessions.step(**step_session_params)\n",
    "print(step_session_response.message)\n",
    "action_event.returns = step_session_response.__dict__\n",
    "action_event.screenshot = step_session_response.screenshot\n",
    "llm_event.prompt = step_session_response.message\n",
    "agentops.record(action_event)\n",
    "agentops.record(llm_event)\n",
    "\n",
    "while step_session_response.status == 'CONTINUE':\n",
    "  action_event = ActionEvent(params=step_session_params,action_type=\"step_session\")\n",
    "  llm_event = LLMEvent()\n",
    "  step_session_response = multion.sessions.step(**step_session_params)\n",
    "  print(step_session_response.message)\n",
    "  action_event.returns = step_session_response.__dict__\n",
    "  action_event.screenshot = step_session_response.screenshot\n",
    "  llm_event.prompt = step_session_response.message\n",
    "  agentops.record(action_event)\n",
    "  agentops.record(llm_event)\n",
    "  \n",
    "if step_session_response.status == 'DONE':\n",
    "    action_event = ActionEvent(params=step_session_params,action_type=\"step_session\")\n",
    "    llm_event = LLMEvent()\n",
    "    print('task completed')\n",
    "    action_event.returns = step_session_response.__dict__\n",
    "    action_event.screenshot = step_session_response.screenshot\n",
    "    llm_event.prompt = step_session_response.message\n",
    "    agentops.record(action_event)\n",
    "    agentops.record(llm_event)\n",
    "\n",
    "print(step_session_response.message)\n",
    "get_screenshot = multion.sessions.screenshot(session_id=session_id)\n",
    "print(\"screenshot of session: \", get_screenshot.screenshot)\n",
    "close_session_response = multion.sessions.close(session_id=session_id)\n",
    "print(\"close_session_response: \", close_session_response)\n",
    "\n",
    "agentops.end_session(\"Success\")"
   ]
  }
 ],
 "metadata": {
  "kernelspec": {
   "display_name": "env",
   "language": "python",
   "name": "python3"
  },
  "language_info": {
   "codemirror_mode": {
    "name": "ipython",
    "version": 3
   },
   "file_extension": ".py",
   "mimetype": "text/x-python",
   "name": "python",
   "nbconvert_exporter": "python",
   "pygments_lexer": "ipython3",
   "version": "3.12.2"
  }
 },
 "nbformat": 4,
 "nbformat_minor": 2
}
