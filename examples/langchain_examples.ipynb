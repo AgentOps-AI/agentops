{
 "cells": [
  {
   "cell_type": "markdown",
   "id": "e0deea1ab1db2a19",
   "metadata": {},
   "source": [
    "# AgentOps Langchain Agent Implementation\n",
    "\n",
    "Using AgentOps monitoring with Langchain is simple. We've created a LangchainCallbackHandler that will do all of the heavy lifting!\n",
    "\n",
    "First we'll import the typical Langchain packages:"
   ]
  },
  {
   "cell_type": "code",
   "outputs": [],
   "source": [
    "import os\n",
    "from langchain_openai import ChatOpenAI\n",
    "from langchain.agents import create_tool_calling_agent, AgentExecutor \n",
    "from langchain.agents import tool"
   ],
   "metadata": {
    "collapsed": false,
    "ExecuteTime": {
     "end_time": "2024-07-25T01:06:26.672684Z",
     "start_time": "2024-07-25T01:06:26.670022Z"
    }
   },
   "id": "d344305baa26d651",
   "execution_count": 27
  },
  {
   "cell_type": "markdown",
   "source": [
    "The only difference with using AgentOps is that we'll also import this special Callback Handler"
   ],
   "metadata": {
    "collapsed": false
   },
   "id": "3584d84a441169b0"
  },
  {
   "cell_type": "code",
   "outputs": [],
   "source": [
    "from agentops.partners.langchain_callback_handler import (\n",
    "    LangchainCallbackHandler as AgentOpsLangchainCallbackHandler,\n",
    ")"
   ],
   "metadata": {
    "collapsed": false,
    "ExecuteTime": {
     "end_time": "2024-07-25T00:46:35.081425Z",
     "start_time": "2024-07-25T00:46:35.076975Z"
    }
   },
   "id": "256f01cac66d7d90",
   "execution_count": 16
  },
  {
   "cell_type": "markdown",
   "source": [
    "Next, we'll grab our two API keys. You can use dotenv like below or however else you like to load environment variables"
   ],
   "metadata": {
    "collapsed": false
   },
   "id": "afab0f7bbd847916"
  },
  {
   "cell_type": "code",
   "outputs": [
    {
     "data": {
      "text/plain": "True"
     },
     "execution_count": 17,
     "metadata": {},
     "output_type": "execute_result"
    }
   ],
   "source": [
    "from dotenv import load_dotenv\n",
    "\n",
    "load_dotenv()"
   ],
   "metadata": {
    "collapsed": false,
    "ExecuteTime": {
     "end_time": "2024-07-25T00:46:36.037008Z",
     "start_time": "2024-07-25T00:46:36.031221Z"
    }
   },
   "id": "3f9189f4d13ebd07",
   "execution_count": 17
  },
  {
   "cell_type": "markdown",
   "source": [
    "This is where AgentOps comes into play. Before creating our LLM instance via Langchain, first we'll create an instance of the AO LangchainCallbackHandler. After the handler is initialized, a session will be recorded automatically.\n",
    "\n",
    "Pass in your API key, and optionally any tags to describe this session for easier lookup in the AO dashboard."
   ],
   "metadata": {
    "collapsed": false
   },
   "id": "6f5a9ab030c636c6"
  },
  {
   "cell_type": "code",
   "outputs": [],
   "source": [
    "from langchain_core.prompts import ChatPromptTemplate\n",
    "\n",
    "AGENTOPS_API_KEY = os.environ.get(\"AGENTOPS_API_KEY\")\n",
    "OPENAI_API_KEY = os.environ.get(\"OPENAI_API_KEY\")\n",
    "\n",
    "agentops_handler = AgentOpsLangchainCallbackHandler(\n",
    "    api_key=AGENTOPS_API_KEY, tags=[\"Langchain Example\"]\n",
    ")\n",
    "\n",
    "llm = ChatOpenAI(\n",
    "    openai_api_key=OPENAI_API_KEY, callbacks=[agentops_handler], model=\"gpt-3.5-turbo\"\n",
    ")\n",
    "\n",
    "# You must pass in a callback handler to record your agent\n",
    "llm.callbacks = [agentops_handler]\n",
    "\n",
    "prompt = ChatPromptTemplate.from_messages(\n",
    "    [\n",
    "        (\"system\", \"You are a helpful assistant. Respond only in Spanish.\"),\n",
    "        (\"human\", \"{input}\"),\n",
    "        # Placeholders fill up a **list** of messages\n",
    "        (\"placeholder\", \"{agent_scratchpad}\"),\n",
    "    ]\n",
    ")\n"
   ],
   "metadata": {
    "collapsed": false,
    "ExecuteTime": {
     "end_time": "2024-07-25T01:05:26.820585Z",
     "start_time": "2024-07-25T01:05:26.800540Z"
    }
   },
   "id": "7d4accd2f68404fb",
   "execution_count": 24
  },
  {
   "cell_type": "markdown",
   "source": [
    "You can also retrieve the `session_id` of the newly created session."
   ],
   "metadata": {
    "collapsed": false
   },
   "id": "821b2367b1082673"
  },
  {
   "cell_type": "code",
   "outputs": [
    {
     "name": "stdout",
     "output_type": "stream",
     "text": [
      "Agent Ops session ID: []\n"
     ]
    }
   ],
   "source": [
    "print(\"Agent Ops session ID: \" + str(agentops_handler.current_session_ids))"
   ],
   "metadata": {
    "collapsed": false,
    "ExecuteTime": {
     "end_time": "2024-07-25T00:46:38.879781Z",
     "start_time": "2024-07-25T00:46:38.874903Z"
    }
   },
   "id": "6bb30c31eaa5ba02",
   "execution_count": 19
  },
  {
   "cell_type": "markdown",
   "source": [
    "Agents generally use tools. Let's define a simple tool here. Tool usage is also recorded."
   ],
   "metadata": {
    "collapsed": false
   },
   "id": "f7362d89b6a7af4c"
  },
  {
   "cell_type": "code",
   "outputs": [],
   "source": [
    "@tool\n",
    "def find_movie(genre: str) -> str:\n",
    "    \"\"\"Find available movies\"\"\"\n",
    "    if genre == \"drama\":\n",
    "        return \"Dune 2\"\n",
    "    else:\n",
    "        return \"Pineapple Express\"\n",
    "\n",
    "\n",
    "tools = [find_movie]"
   ],
   "metadata": {
    "collapsed": false,
    "ExecuteTime": {
     "end_time": "2024-07-25T01:17:01.232229Z",
     "start_time": "2024-07-25T01:17:01.229579Z"
    }
   },
   "id": "4a28f85842129016",
   "execution_count": 31
  },
  {
   "cell_type": "markdown",
   "source": [
    "For each tool, you need to also add the callback handler"
   ],
   "metadata": {
    "collapsed": false
   },
   "id": "186984add993f839"
  },
  {
   "cell_type": "code",
   "outputs": [],
   "source": [
    "for t in tools:\n",
    "    t.callbacks = [agentops_handler]"
   ],
   "metadata": {
    "collapsed": false,
    "ExecuteTime": {
     "end_time": "2024-07-25T01:17:02.832831Z",
     "start_time": "2024-07-25T01:17:02.825928Z"
    }
   },
   "id": "afe9113b61c67e80",
   "execution_count": 32
  },
  {
   "cell_type": "markdown",
   "source": [
    "Finally, let's use our agent! Pass in the callback handler to the agent, and all the actions will be recorded in the AO Dashboard"
   ],
   "metadata": {
    "collapsed": false
   },
   "id": "88b96e62db542900"
  },
  {
   "cell_type": "code",
   "outputs": [],
   "source": [
    "agent = create_tool_calling_agent(llm, tools, prompt)\n",
    "agent_executor = AgentExecutor(agent=agent, tools=tools)"
   ],
   "metadata": {
    "collapsed": false,
    "ExecuteTime": {
     "end_time": "2024-07-25T01:17:03.217627Z",
     "start_time": "2024-07-25T01:17:03.212519Z"
    }
   },
   "id": "397081f2796f4aff",
   "execution_count": 33
  },
  {
   "cell_type": "code",
   "outputs": [
    {
     "ename": "AssertionError",
     "evalue": "The input to RunnablePassthrough.assign() must be a dict.",
     "output_type": "error",
     "traceback": [
      "\u001B[0;31m---------------------------------------------------------------------------\u001B[0m",
      "\u001B[0;31mAssertionError\u001B[0m                            Traceback (most recent call last)",
      "Cell \u001B[0;32mIn[34], line 1\u001B[0m\n\u001B[0;32m----> 1\u001B[0m \u001B[43magent\u001B[49m\u001B[38;5;241;43m.\u001B[39;49m\u001B[43minvoke\u001B[49m\u001B[43m(\u001B[49m\u001B[38;5;124;43m\"\u001B[39;49m\u001B[38;5;124;43mWhat comedies are playing?\u001B[39;49m\u001B[38;5;124;43m\"\u001B[39;49m\u001B[43m,\u001B[49m\u001B[43m \u001B[49m\u001B[43mcallbacks\u001B[49m\u001B[38;5;241;43m=\u001B[39;49m\u001B[43m[\u001B[49m\u001B[43magentops_handler\u001B[49m\u001B[43m]\u001B[49m\u001B[43m)\u001B[49m\n",
      "File \u001B[0;32m/opt/homebrew/lib/python3.11/site-packages/langchain_core/runnables/base.py:2871\u001B[0m, in \u001B[0;36mRunnableSequence.invoke\u001B[0;34m(self, input, config, **kwargs)\u001B[0m\n\u001B[1;32m   2867\u001B[0m config \u001B[38;5;241m=\u001B[39m patch_config(\n\u001B[1;32m   2868\u001B[0m     config, callbacks\u001B[38;5;241m=\u001B[39mrun_manager\u001B[38;5;241m.\u001B[39mget_child(\u001B[38;5;124mf\u001B[39m\u001B[38;5;124m\"\u001B[39m\u001B[38;5;124mseq:step:\u001B[39m\u001B[38;5;132;01m{\u001B[39;00mi\u001B[38;5;241m+\u001B[39m\u001B[38;5;241m1\u001B[39m\u001B[38;5;132;01m}\u001B[39;00m\u001B[38;5;124m\"\u001B[39m)\n\u001B[1;32m   2869\u001B[0m )\n\u001B[1;32m   2870\u001B[0m \u001B[38;5;28;01mif\u001B[39;00m i \u001B[38;5;241m==\u001B[39m \u001B[38;5;241m0\u001B[39m:\n\u001B[0;32m-> 2871\u001B[0m     \u001B[38;5;28minput\u001B[39m \u001B[38;5;241m=\u001B[39m \u001B[43mstep\u001B[49m\u001B[38;5;241;43m.\u001B[39;49m\u001B[43minvoke\u001B[49m\u001B[43m(\u001B[49m\u001B[38;5;28;43minput\u001B[39;49m\u001B[43m,\u001B[49m\u001B[43m \u001B[49m\u001B[43mconfig\u001B[49m\u001B[43m,\u001B[49m\u001B[43m \u001B[49m\u001B[38;5;241;43m*\u001B[39;49m\u001B[38;5;241;43m*\u001B[39;49m\u001B[43mkwargs\u001B[49m\u001B[43m)\u001B[49m\n\u001B[1;32m   2872\u001B[0m \u001B[38;5;28;01melse\u001B[39;00m:\n\u001B[1;32m   2873\u001B[0m     \u001B[38;5;28minput\u001B[39m \u001B[38;5;241m=\u001B[39m step\u001B[38;5;241m.\u001B[39minvoke(\u001B[38;5;28minput\u001B[39m, config)\n",
      "File \u001B[0;32m/opt/homebrew/lib/python3.11/site-packages/langchain_core/runnables/passthrough.py:495\u001B[0m, in \u001B[0;36mRunnableAssign.invoke\u001B[0;34m(self, input, config, **kwargs)\u001B[0m\n\u001B[1;32m    489\u001B[0m \u001B[38;5;28;01mdef\u001B[39;00m \u001B[38;5;21minvoke\u001B[39m(\n\u001B[1;32m    490\u001B[0m     \u001B[38;5;28mself\u001B[39m,\n\u001B[1;32m    491\u001B[0m     \u001B[38;5;28minput\u001B[39m: Dict[\u001B[38;5;28mstr\u001B[39m, Any],\n\u001B[1;32m    492\u001B[0m     config: Optional[RunnableConfig] \u001B[38;5;241m=\u001B[39m \u001B[38;5;28;01mNone\u001B[39;00m,\n\u001B[1;32m    493\u001B[0m     \u001B[38;5;241m*\u001B[39m\u001B[38;5;241m*\u001B[39mkwargs: Any,\n\u001B[1;32m    494\u001B[0m ) \u001B[38;5;241m-\u001B[39m\u001B[38;5;241m>\u001B[39m Dict[\u001B[38;5;28mstr\u001B[39m, Any]:\n\u001B[0;32m--> 495\u001B[0m     \u001B[38;5;28;01mreturn\u001B[39;00m \u001B[38;5;28;43mself\u001B[39;49m\u001B[38;5;241;43m.\u001B[39;49m\u001B[43m_call_with_config\u001B[49m\u001B[43m(\u001B[49m\u001B[38;5;28;43mself\u001B[39;49m\u001B[38;5;241;43m.\u001B[39;49m\u001B[43m_invoke\u001B[49m\u001B[43m,\u001B[49m\u001B[43m \u001B[49m\u001B[38;5;28;43minput\u001B[39;49m\u001B[43m,\u001B[49m\u001B[43m \u001B[49m\u001B[43mconfig\u001B[49m\u001B[43m,\u001B[49m\u001B[43m \u001B[49m\u001B[38;5;241;43m*\u001B[39;49m\u001B[38;5;241;43m*\u001B[39;49m\u001B[43mkwargs\u001B[49m\u001B[43m)\u001B[49m\n",
      "File \u001B[0;32m/opt/homebrew/lib/python3.11/site-packages/langchain_core/runnables/base.py:1783\u001B[0m, in \u001B[0;36mRunnable._call_with_config\u001B[0;34m(self, func, input, config, run_type, **kwargs)\u001B[0m\n\u001B[1;32m   1779\u001B[0m     context \u001B[38;5;241m=\u001B[39m copy_context()\n\u001B[1;32m   1780\u001B[0m     context\u001B[38;5;241m.\u001B[39mrun(_set_config_context, child_config)\n\u001B[1;32m   1781\u001B[0m     output \u001B[38;5;241m=\u001B[39m cast(\n\u001B[1;32m   1782\u001B[0m         Output,\n\u001B[0;32m-> 1783\u001B[0m         \u001B[43mcontext\u001B[49m\u001B[38;5;241;43m.\u001B[39;49m\u001B[43mrun\u001B[49m\u001B[43m(\u001B[49m\n\u001B[1;32m   1784\u001B[0m \u001B[43m            \u001B[49m\u001B[43mcall_func_with_variable_args\u001B[49m\u001B[43m,\u001B[49m\u001B[43m  \u001B[49m\u001B[38;5;66;43;03m# type: ignore[arg-type]\u001B[39;49;00m\n\u001B[1;32m   1785\u001B[0m \u001B[43m            \u001B[49m\u001B[43mfunc\u001B[49m\u001B[43m,\u001B[49m\u001B[43m  \u001B[49m\u001B[38;5;66;43;03m# type: ignore[arg-type]\u001B[39;49;00m\n\u001B[1;32m   1786\u001B[0m \u001B[43m            \u001B[49m\u001B[38;5;28;43minput\u001B[39;49m\u001B[43m,\u001B[49m\u001B[43m  \u001B[49m\u001B[38;5;66;43;03m# type: ignore[arg-type]\u001B[39;49;00m\n\u001B[1;32m   1787\u001B[0m \u001B[43m            \u001B[49m\u001B[43mconfig\u001B[49m\u001B[43m,\u001B[49m\n\u001B[1;32m   1788\u001B[0m \u001B[43m            \u001B[49m\u001B[43mrun_manager\u001B[49m\u001B[43m,\u001B[49m\n\u001B[1;32m   1789\u001B[0m \u001B[43m            \u001B[49m\u001B[38;5;241;43m*\u001B[39;49m\u001B[38;5;241;43m*\u001B[39;49m\u001B[43mkwargs\u001B[49m\u001B[43m,\u001B[49m\n\u001B[1;32m   1790\u001B[0m \u001B[43m        \u001B[49m\u001B[43m)\u001B[49m,\n\u001B[1;32m   1791\u001B[0m     )\n\u001B[1;32m   1792\u001B[0m \u001B[38;5;28;01mexcept\u001B[39;00m \u001B[38;5;167;01mBaseException\u001B[39;00m \u001B[38;5;28;01mas\u001B[39;00m e:\n\u001B[1;32m   1793\u001B[0m     run_manager\u001B[38;5;241m.\u001B[39mon_chain_error(e)\n",
      "File \u001B[0;32m/opt/homebrew/lib/python3.11/site-packages/langchain_core/runnables/config.py:383\u001B[0m, in \u001B[0;36mcall_func_with_variable_args\u001B[0;34m(func, input, config, run_manager, **kwargs)\u001B[0m\n\u001B[1;32m    381\u001B[0m \u001B[38;5;28;01mif\u001B[39;00m run_manager \u001B[38;5;129;01mis\u001B[39;00m \u001B[38;5;129;01mnot\u001B[39;00m \u001B[38;5;28;01mNone\u001B[39;00m \u001B[38;5;129;01mand\u001B[39;00m accepts_run_manager(func):\n\u001B[1;32m    382\u001B[0m     kwargs[\u001B[38;5;124m\"\u001B[39m\u001B[38;5;124mrun_manager\u001B[39m\u001B[38;5;124m\"\u001B[39m] \u001B[38;5;241m=\u001B[39m run_manager\n\u001B[0;32m--> 383\u001B[0m \u001B[38;5;28;01mreturn\u001B[39;00m \u001B[43mfunc\u001B[49m\u001B[43m(\u001B[49m\u001B[38;5;28;43minput\u001B[39;49m\u001B[43m,\u001B[49m\u001B[43m \u001B[49m\u001B[38;5;241;43m*\u001B[39;49m\u001B[38;5;241;43m*\u001B[39;49m\u001B[43mkwargs\u001B[49m\u001B[43m)\u001B[49m\n",
      "File \u001B[0;32m/opt/homebrew/lib/python3.11/site-packages/langchain_core/runnables/passthrough.py:476\u001B[0m, in \u001B[0;36mRunnableAssign._invoke\u001B[0;34m(self, input, run_manager, config, **kwargs)\u001B[0m\n\u001B[1;32m    469\u001B[0m \u001B[38;5;28;01mdef\u001B[39;00m \u001B[38;5;21m_invoke\u001B[39m(\n\u001B[1;32m    470\u001B[0m     \u001B[38;5;28mself\u001B[39m,\n\u001B[1;32m    471\u001B[0m     \u001B[38;5;28minput\u001B[39m: Dict[\u001B[38;5;28mstr\u001B[39m, Any],\n\u001B[0;32m   (...)\u001B[0m\n\u001B[1;32m    474\u001B[0m     \u001B[38;5;241m*\u001B[39m\u001B[38;5;241m*\u001B[39mkwargs: Any,\n\u001B[1;32m    475\u001B[0m ) \u001B[38;5;241m-\u001B[39m\u001B[38;5;241m>\u001B[39m Dict[\u001B[38;5;28mstr\u001B[39m, Any]:\n\u001B[0;32m--> 476\u001B[0m     \u001B[38;5;28;01massert\u001B[39;00m \u001B[38;5;28misinstance\u001B[39m(\n\u001B[1;32m    477\u001B[0m         \u001B[38;5;28minput\u001B[39m, \u001B[38;5;28mdict\u001B[39m\n\u001B[1;32m    478\u001B[0m     ), \u001B[38;5;124m\"\u001B[39m\u001B[38;5;124mThe input to RunnablePassthrough.assign() must be a dict.\u001B[39m\u001B[38;5;124m\"\u001B[39m\n\u001B[1;32m    480\u001B[0m     \u001B[38;5;28;01mreturn\u001B[39;00m {\n\u001B[1;32m    481\u001B[0m         \u001B[38;5;241m*\u001B[39m\u001B[38;5;241m*\u001B[39m\u001B[38;5;28minput\u001B[39m,\n\u001B[1;32m    482\u001B[0m         \u001B[38;5;241m*\u001B[39m\u001B[38;5;241m*\u001B[39m\u001B[38;5;28mself\u001B[39m\u001B[38;5;241m.\u001B[39mmapper\u001B[38;5;241m.\u001B[39minvoke(\n\u001B[0;32m   (...)\u001B[0m\n\u001B[1;32m    486\u001B[0m         ),\n\u001B[1;32m    487\u001B[0m     }\n",
      "\u001B[0;31mAssertionError\u001B[0m: The input to RunnablePassthrough.assign() must be a dict."
     ]
    }
   ],
   "source": [
    "agent.invoke(\"What comedies are playing?\", callbacks=[agentops_handler])"
   ],
   "metadata": {
    "collapsed": false,
    "ExecuteTime": {
     "end_time": "2024-07-25T01:17:03.501828Z",
     "start_time": "2024-07-25T01:17:03.405268Z"
    }
   },
   "id": "eb8c1798d26f7795",
   "execution_count": 34
  },
  {
   "cell_type": "markdown",
   "source": [
    "## Langchain V0.1 Example\n",
    "This example is out of date."
   ],
   "metadata": {
    "collapsed": false
   },
   "id": "97a1a264a71876"
  },
  {
   "cell_type": "code",
   "execution_count": 1,
   "id": "initial_id",
   "metadata": {
    "ExecuteTime": {
     "end_time": "2024-07-24T23:31:38.382895Z",
     "start_time": "2024-07-24T23:31:37.438364Z"
    }
   },
   "outputs": [],
   "source": [
    "import os\n",
    "from langchain_openai import ChatOpenAI\n",
    "from langchain.agents import initialize_agent, AgentType\n",
    "from langchain.agents import tool"
   ]
  },
  {
   "cell_type": "markdown",
   "id": "57ddb8eca4e8a3cb",
   "metadata": {},
   "source": [
    "The only difference with using AgentOps is that we'll also import this special Callback Handler"
   ]
  },
  {
   "cell_type": "code",
   "outputs": [],
   "source": [
    "from agentops.partners.langchain_callback_handler import (\n",
    "    LangchainCallbackHandler as AgentOpsLangchainCallbackHandler,\n",
    ")"
   ],
   "metadata": {
    "collapsed": false,
    "ExecuteTime": {
     "end_time": "2024-07-24T23:31:38.414965Z",
     "start_time": "2024-07-24T23:31:38.384928Z"
    }
   },
   "id": "7e8f8cd098ad5b57",
   "execution_count": 2
  },
  {
   "cell_type": "markdown",
   "source": [
    "Next, we'll grab our two API keys. You can use dotenv like below or however else you like to load environment variables"
   ],
   "metadata": {
    "collapsed": false
   },
   "id": "14a1b8e08a2e9eb3"
  },
  {
   "cell_type": "code",
   "outputs": [
    {
     "data": {
      "text/plain": "True"
     },
     "execution_count": 3,
     "metadata": {},
     "output_type": "execute_result"
    }
   ],
   "source": [
    "from dotenv import load_dotenv\n",
    "\n",
    "load_dotenv()"
   ],
   "metadata": {
    "collapsed": false,
    "ExecuteTime": {
     "end_time": "2024-07-24T23:31:38.422428Z",
     "start_time": "2024-07-24T23:31:38.410366Z"
    }
   },
   "id": "ff6cfc570599871f",
   "execution_count": 3
  },
  {
   "cell_type": "markdown",
   "source": [
    "This is where AgentOps comes into play. Before creating our LLM instance via Langchain, first we'll create an instance of the AO LangchainCallbackHandler. After the handler is initialized, a session will be recorded automatically.\n",
    "\n",
    "Pass in your API key, and optionally any tags to describe this session for easier lookup in the AO dashboard."
   ],
   "metadata": {
    "collapsed": false
   },
   "id": "51f083697b783fa4"
  },
  {
   "cell_type": "code",
   "outputs": [],
   "source": [
    "AGENTOPS_API_KEY = os.environ.get(\"AGENTOPS_API_KEY\")\n",
    "OPENAI_API_KEY = os.environ.get(\"OPENAI_API_KEY\")\n",
    "\n",
    "agentops_handler = AgentOpsLangchainCallbackHandler(\n",
    "    api_key=AGENTOPS_API_KEY, tags=[\"Langchain Example\"]\n",
    ")\n",
    "\n",
    "llm = ChatOpenAI(\n",
    "    openai_api_key=OPENAI_API_KEY, callbacks=[agentops_handler], model=\"gpt-3.5-turbo\"\n",
    ")"
   ],
   "metadata": {
    "collapsed": false,
    "ExecuteTime": {
     "end_time": "2024-07-24T23:31:38.452467Z",
     "start_time": "2024-07-24T23:31:38.427868Z"
    }
   },
   "id": "d432fe915edb6365",
   "execution_count": 4
  },
  {
   "cell_type": "markdown",
   "source": [
    "You can also retrieve the `session_id` of the newly created session."
   ],
   "metadata": {
    "collapsed": false
   },
   "id": "38d309f07363b58e"
  },
  {
   "cell_type": "code",
   "outputs": [
    {
     "name": "stdout",
     "output_type": "stream",
     "text": [
      "Agent Ops session ID: []\n"
     ]
    }
   ],
   "source": [
    "print(\"Agent Ops session ID: \" + str(agentops_handler.current_session_ids))"
   ],
   "metadata": {
    "collapsed": false,
    "ExecuteTime": {
     "end_time": "2024-07-24T23:31:38.460010Z",
     "start_time": "2024-07-24T23:31:38.453048Z"
    }
   },
   "id": "f7e3a37cde3f9c22",
   "execution_count": 5
  },
  {
   "cell_type": "markdown",
   "source": [
    "Agents generally use tools. Let's define a simple tool here. Tool usage is also recorded."
   ],
   "metadata": {
    "collapsed": false
   },
   "id": "42f226ace56ef6f5"
  },
  {
   "cell_type": "code",
   "outputs": [],
   "source": [
    "@tool\n",
    "def find_movie(genre) -> str:\n",
    "    \"\"\"Find available movies\"\"\"\n",
    "    if genre == \"drama\":\n",
    "        return \"Dune 2\"\n",
    "    else:\n",
    "        return \"Pineapple Express\"\n",
    "\n",
    "\n",
    "tools = [find_movie]"
   ],
   "metadata": {
    "collapsed": false,
    "ExecuteTime": {
     "end_time": "2024-07-24T23:31:38.469773Z",
     "start_time": "2024-07-24T23:31:38.465140Z"
    }
   },
   "id": "c103a2edbe837abd",
   "execution_count": 6
  },
  {
   "cell_type": "markdown",
   "source": [
    "For each tool, you need to also add the callback handler"
   ],
   "metadata": {
    "collapsed": false
   },
   "id": "4fb7633857b19bf0"
  },
  {
   "cell_type": "code",
   "outputs": [],
   "source": [
    "for t in tools:\n",
    "    t.callbacks = [agentops_handler]"
   ],
   "metadata": {
    "collapsed": false,
    "ExecuteTime": {
     "end_time": "2024-07-24T23:31:38.486472Z",
     "start_time": "2024-07-24T23:31:38.472956Z"
    }
   },
   "id": "a0345f08bf1c5ecd",
   "execution_count": 7
  },
  {
   "cell_type": "markdown",
   "source": [
    "Finally, let's use our agent! Pass in the callback handler to the agent, and all the actions will be recorded in the AO Dashboard"
   ],
   "metadata": {
    "collapsed": false
   },
   "id": "12a02b833716676b"
  },
  {
   "cell_type": "code",
   "outputs": [
    {
     "name": "stderr",
     "output_type": "stream",
     "text": [
      "/opt/homebrew/lib/python3.11/site-packages/langchain_core/_api/deprecation.py:139: LangChainDeprecationWarning: The function `initialize_agent` was deprecated in LangChain 0.1.0 and will be removed in 0.3.0. Use Use new agent constructor methods like create_react_agent, create_json_agent, create_structured_chat_agent, etc. instead.\n",
      "  warn_deprecated(\n"
     ]
    }
   ],
   "source": [
    "agent = initialize_agent(\n",
    "    tools,\n",
    "    llm,\n",
    "    agent=AgentType.CHAT_ZERO_SHOT_REACT_DESCRIPTION,\n",
    "    verbose=True,\n",
    "    callbacks=[\n",
    "        agentops_handler\n",
    "    ],  # You must pass in a callback handler to record your agent\n",
    "    handle_parsing_errors=True,\n",
    ")"
   ],
   "metadata": {
    "collapsed": false,
    "ExecuteTime": {
     "end_time": "2024-07-24T23:31:38.532554Z",
     "start_time": "2024-07-24T23:31:38.476137Z"
    }
   },
   "id": "2d2e83fa69b30add",
   "execution_count": 8
  },
  {
   "cell_type": "code",
   "outputs": [
    {
     "name": "stderr",
     "output_type": "stream",
     "text": [
      "Error in LangchainCallbackHandler.on_llm_start callback: ValueError()\n"
     ]
    },
    {
     "name": "stdout",
     "output_type": "stream",
     "text": [
      "<agentops.partners.langchain_callback_handler.Events object at 0x108b904d0>\n",
      "e227f422-cd98-431c-a7e6-117b1d97e24b\n",
      "\n",
      "added\n",
      "\n",
      "\n",
      "\u001B[1m> Entering new AgentExecutor chain...\u001B[0m\n"
     ]
    },
    {
     "name": "stderr",
     "output_type": "stream",
     "text": [
      "Error in LangchainCallbackHandler.on_llm_end callback: KeyError('7a98b364-b494-48d4-9322-ac51dc086a40')\n",
      "Error in LangchainCallbackHandler.on_agent_action callback: ValueError()\n",
      "Error in LangchainCallbackHandler.on_tool_start callback: ValueError()\n",
      "Error in LangchainCallbackHandler.on_tool_end callback: KeyError('adfe65f7-9749-47ab-bddf-83b1e678891b')\n",
      "Error in LangchainCallbackHandler.on_llm_start callback: ValueError()\n"
     ]
    },
    {
     "name": "stdout",
     "output_type": "stream",
     "text": [
      "\u001B[32;1m\u001B[1;3mQuestion: What comedies are playing?\n",
      "Thought: We should use the find_movie tool to search for currently playing comedy movies.\n",
      "Action:\n",
      "```\n",
      "{\n",
      "  \"action\": \"find_movie\",\n",
      "  \"action_input\": \"comedy\"\n",
      "}\n",
      "```\n",
      "\u001B[0m<agentops.partners.langchain_callback_handler.Events object at 0x108b904d0>\n",
      "adfe65f7-9749-47ab-bddf-83b1e678891b\n",
      "\n",
      "Observation: \u001B[36;1m\u001B[1;3mPineapple Express\u001B[0m\n",
      "Thought:"
     ]
    },
    {
     "name": "stderr",
     "output_type": "stream",
     "text": [
      "Error in LangchainCallbackHandler.on_llm_end callback: KeyError('a61b310c-567b-4a69-aa13-1d5a2dd22904')\n",
      "Error in LangchainCallbackHandler.on_agent_action callback: ValueError()\n",
      "Error in LangchainCallbackHandler.on_tool_start callback: ValueError()\n",
      "Error in LangchainCallbackHandler.on_tool_end callback: KeyError('984bb82e-025f-460d-948a-7801bd194633')\n",
      "Error in LangchainCallbackHandler.on_llm_start callback: ValueError()\n"
     ]
    },
    {
     "name": "stdout",
     "output_type": "stream",
     "text": [
      "\u001B[32;1m\u001B[1;3mI will continue where we left off and find more comedy movies.\n",
      "Action: \n",
      "```\n",
      "{\n",
      "  \"action\": \"find_movie\",\n",
      "  \"action_input\": \"comedy\"\n",
      "}\n",
      "```\u001B[0m<agentops.partners.langchain_callback_handler.Events object at 0x108b904d0>\n",
      "984bb82e-025f-460d-948a-7801bd194633\n",
      "\n",
      "Observation: \u001B[36;1m\u001B[1;3mPineapple Express\u001B[0m\n",
      "Thought:"
     ]
    },
    {
     "name": "stderr",
     "output_type": "stream",
     "text": [
      "Error in LangchainCallbackHandler.on_llm_end callback: KeyError('55610dff-672c-4501-b580-aebaaba180a4')\n",
      "Error in LangchainCallbackHandler.on_agent_action callback: ValueError()\n",
      "Error in LangchainCallbackHandler.on_tool_start callback: ValueError()\n",
      "Error in LangchainCallbackHandler.on_tool_end callback: KeyError('bf6a48fb-c310-4b29-a689-5c2c580a5945')\n",
      "Error in LangchainCallbackHandler.on_llm_start callback: ValueError()\n"
     ]
    },
    {
     "name": "stdout",
     "output_type": "stream",
     "text": [
      "\u001B[32;1m\u001B[1;3mI made a mistake in my previous actions. Let me correct that.\n",
      "Action:\n",
      "```\n",
      "{\n",
      "  \"action\": \"find_movie\",\n",
      "  \"action_input\": \"comedy\"\n",
      "}\n",
      "```\u001B[0m<agentops.partners.langchain_callback_handler.Events object at 0x108b904d0>\n",
      "bf6a48fb-c310-4b29-a689-5c2c580a5945\n",
      "\n",
      "Observation: \u001B[36;1m\u001B[1;3mPineapple Express\u001B[0m\n",
      "Thought:"
     ]
    },
    {
     "name": "stderr",
     "output_type": "stream",
     "text": [
      "Error in LangchainCallbackHandler.on_llm_end callback: KeyError('576459f2-fe1e-4e55-aa5a-75375650ccc5')\n",
      "Error in LangchainCallbackHandler.on_agent_finish callback: IndexError('list index out of range')\n",
      "Error in LangchainCallbackHandler.on_chain_end callback: KeyError('e227f422-cd98-431c-a7e6-117b1d97e24b')\n"
     ]
    },
    {
     "name": "stdout",
     "output_type": "stream",
     "text": [
      "\u001B[32;1m\u001B[1;3mI apologize for the mistake. Let me try again to find more comedy movies.\n",
      "Final Answer: Pineapple Express\u001B[0m\n",
      "\n",
      "\u001B[1m> Finished chain.\u001B[0m\n"
     ]
    },
    {
     "data": {
      "text/plain": "{'input': 'What comedies are playing?', 'output': 'Pineapple Express'}"
     },
     "execution_count": 9,
     "metadata": {},
     "output_type": "execute_result"
    }
   ],
   "source": [
    "agent.invoke(\"What comedies are playing?\", callbacks=[agentops_handler])"
   ],
   "metadata": {
    "collapsed": false,
    "ExecuteTime": {
     "end_time": "2024-07-24T23:31:47.119542Z",
     "start_time": "2024-07-24T23:31:38.531138Z"
    }
   },
   "id": "df2bc3a384493e1e",
   "execution_count": 9
  },
  {
   "cell_type": "markdown",
   "source": [
    "## Check your session\n",
    "Finally, check your run on [AgentOps](https://app.agentops.ai)\n",
    "![image.png](attachment:3d9393fa-3d6a-4193-b6c9-43413dc19d15.png)"
   ],
   "metadata": {
    "collapsed": false
   },
   "id": "2230edd919182a55"
  },
  {
   "cell_type": "markdown",
   "source": [
    "# Async Agents\n",
    "\n",
    "Several langchain agents require async callback handlers. AgentOps also supports this."
   ],
   "metadata": {
    "collapsed": false
   },
   "id": "fbf4a3ec5fa60d74"
  },
  {
   "cell_type": "code",
   "outputs": [],
   "source": [
    "import os\n",
    "from langchain.chat_models import ChatOpenAI\n",
    "from langchain.agents import initialize_agent, AgentType\n",
    "from langchain.agents import tool"
   ],
   "metadata": {
    "collapsed": false,
    "ExecuteTime": {
     "end_time": "2024-07-24T23:31:47.137667Z",
     "start_time": "2024-07-24T23:31:47.121630Z"
    }
   },
   "id": "ed63a166b343e1a2",
   "execution_count": 10
  },
  {
   "cell_type": "code",
   "outputs": [],
   "source": [
    "from agentops.partners.langchain_callback_handler import (\n",
    "    AsyncLangchainCallbackHandler as AgentOpsAsyncLangchainCallbackHandler,\n",
    ")"
   ],
   "metadata": {
    "collapsed": false,
    "ExecuteTime": {
     "end_time": "2024-07-24T23:31:47.138362Z",
     "start_time": "2024-07-24T23:31:47.136170Z"
    }
   },
   "id": "aa15223969f97b3d",
   "execution_count": 11
  },
  {
   "cell_type": "code",
   "outputs": [],
   "source": [
    "from dotenv import load_dotenv\n",
    "\n",
    "load_dotenv()\n",
    "\n",
    "AGENTOPS_API_KEY = os.environ.get(\"AGENTOPS_API_KEY\")\n",
    "OPENAI_API_KEY = os.environ.get(\"OPENAI_API_KEY\")"
   ],
   "metadata": {
    "collapsed": false,
    "ExecuteTime": {
     "end_time": "2024-07-24T23:31:47.156519Z",
     "start_time": "2024-07-24T23:31:47.138009Z"
    }
   },
   "id": "818357483f039b60",
   "execution_count": 12
  },
  {
   "cell_type": "code",
   "outputs": [
    {
     "name": "stderr",
     "output_type": "stream",
     "text": [
      "/opt/homebrew/lib/python3.11/site-packages/langchain_core/_api/deprecation.py:139: LangChainDeprecationWarning: The class `ChatOpenAI` was deprecated in LangChain 0.0.10 and will be removed in 0.3.0. An updated version of the class exists in the langchain-openai package and should be used instead. To use it run `pip install -U langchain-openai` and import as `from langchain_openai import ChatOpenAI`.\n",
      "  warn_deprecated(\n"
     ]
    },
    {
     "ename": "AttributeError",
     "evalue": "'Client' object has no attribute 'current_session_id'",
     "output_type": "error",
     "traceback": [
      "\u001B[0;31m---------------------------------------------------------------------------\u001B[0m",
      "\u001B[0;31mAttributeError\u001B[0m                            Traceback (most recent call last)",
      "Cell \u001B[0;32mIn[13], line 9\u001B[0m\n\u001B[1;32m      1\u001B[0m agentops_handler \u001B[38;5;241m=\u001B[39m AgentOpsAsyncLangchainCallbackHandler(\n\u001B[1;32m      2\u001B[0m     api_key\u001B[38;5;241m=\u001B[39mAGENTOPS_API_KEY, tags\u001B[38;5;241m=\u001B[39m[\u001B[38;5;124m\"\u001B[39m\u001B[38;5;124mAsync Example\u001B[39m\u001B[38;5;124m\"\u001B[39m]\n\u001B[1;32m      3\u001B[0m )\n\u001B[1;32m      5\u001B[0m llm \u001B[38;5;241m=\u001B[39m ChatOpenAI(\n\u001B[1;32m      6\u001B[0m     openai_api_key\u001B[38;5;241m=\u001B[39mOPENAI_API_KEY, callbacks\u001B[38;5;241m=\u001B[39m[agentops_handler], model\u001B[38;5;241m=\u001B[39m\u001B[38;5;124m\"\u001B[39m\u001B[38;5;124mgpt-3.5-turbo\u001B[39m\u001B[38;5;124m\"\u001B[39m\n\u001B[1;32m      7\u001B[0m )\n\u001B[0;32m----> 9\u001B[0m \u001B[38;5;28mprint\u001B[39m(\u001B[38;5;124m\"\u001B[39m\u001B[38;5;124mAgent Ops session ID: \u001B[39m\u001B[38;5;124m\"\u001B[39m \u001B[38;5;241m+\u001B[39m \u001B[38;5;28mstr\u001B[39m(\u001B[38;5;28;01mawait\u001B[39;00m agentops_handler\u001B[38;5;241m.\u001B[39msession_id))\n",
      "File \u001B[0;32m~/Developer/agentops/agentops/agentops/partners/langchain_callback_handler.py:740\u001B[0m, in \u001B[0;36mAsyncLangchainCallbackHandler.session_id\u001B[0;34m(self)\u001B[0m\n\u001B[1;32m    738\u001B[0m \u001B[38;5;129m@property\u001B[39m\n\u001B[1;32m    739\u001B[0m \u001B[38;5;28;01masync\u001B[39;00m \u001B[38;5;28;01mdef\u001B[39;00m \u001B[38;5;21msession_id\u001B[39m(\u001B[38;5;28mself\u001B[39m):\n\u001B[0;32m--> 740\u001B[0m     \u001B[38;5;28;01mreturn\u001B[39;00m \u001B[38;5;28;43mself\u001B[39;49m\u001B[38;5;241;43m.\u001B[39;49m\u001B[43mao_client\u001B[49m\u001B[38;5;241;43m.\u001B[39;49m\u001B[43mcurrent_session_id\u001B[49m\n",
      "\u001B[0;31mAttributeError\u001B[0m: 'Client' object has no attribute 'current_session_id'"
     ]
    }
   ],
   "source": [
    "agentops_handler = AgentOpsAsyncLangchainCallbackHandler(\n",
    "    api_key=AGENTOPS_API_KEY, tags=[\"Async Example\"]\n",
    ")\n",
    "\n",
    "llm = ChatOpenAI(\n",
    "    openai_api_key=OPENAI_API_KEY, callbacks=[agentops_handler], model=\"gpt-3.5-turbo\"\n",
    ")\n",
    "\n",
    "print(\"Agent Ops session ID: \" + str(await agentops_handler.session_id))"
   ],
   "metadata": {
    "collapsed": false,
    "ExecuteTime": {
     "end_time": "2024-07-24T23:31:47.273644Z",
     "start_time": "2024-07-24T23:31:47.141123Z"
    }
   },
   "id": "ae76cfe058f5e4e4",
   "execution_count": 13
  },
  {
   "cell_type": "code",
   "outputs": [],
   "source": [
    "@tool\n",
    "def find_movie(genre) -> str:\n",
    "    \"\"\"Find available movies\"\"\"\n",
    "    if genre == \"drama\":\n",
    "        return \"Dune 2\"\n",
    "    else:\n",
    "        return \"Pineapple Express\"\n",
    "\n",
    "\n",
    "tools = [find_movie]\n",
    "\n",
    "for t in tools:\n",
    "    t.callbacks = [agentops_handler]"
   ],
   "metadata": {
    "collapsed": false,
    "ExecuteTime": {
     "start_time": "2024-07-24T23:31:47.274811Z"
    }
   },
   "id": "1201049766be84a7"
  },
  {
   "cell_type": "code",
   "outputs": [],
   "source": [
    "agent = initialize_agent(\n",
    "    tools,\n",
    "    llm,\n",
    "    agent=AgentType.CHAT_ZERO_SHOT_REACT_DESCRIPTION,\n",
    "    verbose=True,\n",
    "    handle_parsing_errors=True,\n",
    "    callbacks=[agentops_handler],\n",
    ")\n",
    "\n",
    "await agent.arun(\"What comedies are playing?\")"
   ],
   "metadata": {
    "collapsed": false,
    "ExecuteTime": {
     "start_time": "2024-07-24T23:31:47.275583Z"
    }
   },
   "id": "8d4f9dd39b79d542"
  },
  {
   "cell_type": "markdown",
   "source": [
    "## Check your session\n",
    "Finally, check your run on [AgentOps](https://app.agentops.ai)\n",
    "\n",
    "![image.png](attachment:69f2121a-d437-4c09-bbbe-c76c9243ee19.png)"
   ],
   "metadata": {
    "collapsed": false
   },
   "id": "fb276a2e-f1c3-4f0f-8818-b7730e9d3ff7"
  }
 ],
 "metadata": {
  "kernelspec": {
   "display_name": "Python 3 (ipykernel)",
   "language": "python",
   "name": "python3"
  },
  "language_info": {
   "codemirror_mode": {
    "name": "ipython",
    "version": 3
   },
   "file_extension": ".py",
   "mimetype": "text/x-python",
   "name": "python",
   "nbconvert_exporter": "python",
   "pygments_lexer": "ipython3",
   "version": "3.12.2"
  }
 },
 "nbformat": 4,
 "nbformat_minor": 5
}
