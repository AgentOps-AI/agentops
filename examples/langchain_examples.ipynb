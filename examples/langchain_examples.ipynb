{
 "cells": [
  {
   "cell_type": "markdown",
   "id": "e0deea1ab1db2a19",
   "metadata": {},
   "source": [
    "# AgentOps Langchain Agent Implementation\n",
    "\n",
    "Using AgentOps monitoring with Langchain is simple. We've created a LangchainCallbackHandler that will do all of the heavy lifting!\n",
    "\n",
    "First we'll import the typical Langchain packages:"
   ]
  },
  {
   "cell_type": "code",
   "execution_count": 15,
   "id": "initial_id",
   "metadata": {
    "ExecuteTime": {
     "end_time": "2024-07-13T00:41:25.586408Z",
     "start_time": "2024-07-13T00:41:25.583230Z"
    }
   },
   "outputs": [],
   "source": [
    "import os\n",
    "from langchain_openai import ChatOpenAI\n",
    "from langchain.agents import initialize_agent, AgentType\n",
    "from langchain.agents import tool"
   ]
  },
  {
   "cell_type": "markdown",
   "id": "57ddb8eca4e8a3cb",
   "metadata": {},
   "source": [
    "The only difference with using AgentOps is that we'll also import this special Callback Handler"
   ]
  },
  {
   "cell_type": "code",
   "outputs": [],
   "source": [
    "from agentops.partners.langchain_callback_handler import (\n",
    "    LangchainCallbackHandler as AgentOpsLangchainCallbackHandler,\n",
    ")"
   ],
   "metadata": {
    "collapsed": false,
    "ExecuteTime": {
     "end_time": "2024-07-13T00:38:21.005301Z",
     "start_time": "2024-07-13T00:38:20.988641Z"
    }
   },
   "id": "7e8f8cd098ad5b57",
   "execution_count": 2
  },
  {
   "cell_type": "markdown",
   "source": [
    "Next, we'll grab our two API keys. You can use dotenv like below or however else you like to load environment variables"
   ],
   "metadata": {
    "collapsed": false
   },
   "id": "14a1b8e08a2e9eb3"
  },
  {
   "cell_type": "code",
   "outputs": [
    {
     "name": "stderr",
     "output_type": "stream",
     "text": [
      "Python-dotenv could not parse statement starting at line 4\n"
     ]
    },
    {
     "data": {
      "text/plain": "True"
     },
     "execution_count": 3,
     "metadata": {},
     "output_type": "execute_result"
    }
   ],
   "source": [
    "from dotenv import load_dotenv\n",
    "\n",
    "load_dotenv()"
   ],
   "metadata": {
    "collapsed": false,
    "ExecuteTime": {
     "end_time": "2024-07-13T00:38:21.019361Z",
     "start_time": "2024-07-13T00:38:21.006441Z"
    }
   },
   "id": "ff6cfc570599871f",
   "execution_count": 3
  },
  {
   "cell_type": "markdown",
   "source": [
    "This is where AgentOps comes into play. Before creating our LLM instance via Langchain, first we'll create an instance of the AO LangchainCallbackHandler. After the handler is initialized, a session will be recorded automatically.\n",
    "\n",
    "Pass in your API key, and optionally any tags to describe this session for easier lookup in the AO dashboard."
   ],
   "metadata": {
    "collapsed": false
   },
   "id": "51f083697b783fa4"
  },
  {
   "cell_type": "code",
   "outputs": [],
   "source": [
    "AGENTOPS_API_KEY = os.environ.get(\"AGENTOPS_API_KEY\")\n",
    "OPENAI_API_KEY = os.environ.get(\"OPENAI_API_KEY\")\n",
    "\n",
    "agentops_handler = AgentOpsLangchainCallbackHandler(\n",
    "    api_key=AGENTOPS_API_KEY, tags=[\"Langchain Example\"]\n",
    ")\n",
    "\n",
    "llm = ChatOpenAI(\n",
    "    openai_api_key=OPENAI_API_KEY, callbacks=[agentops_handler], model=\"gpt-3.5-turbo\"\n",
    ")"
   ],
   "metadata": {
    "collapsed": false,
    "ExecuteTime": {
     "end_time": "2024-07-13T00:38:21.052136Z",
     "start_time": "2024-07-13T00:38:21.014697Z"
    }
   },
   "id": "d432fe915edb6365",
   "execution_count": 4
  },
  {
   "cell_type": "markdown",
   "source": [
    "You can also retrieve the `session_id` of the newly created session."
   ],
   "metadata": {
    "collapsed": false
   },
   "id": "38d309f07363b58e"
  },
  {
   "cell_type": "code",
   "outputs": [
    {
     "name": "stdout",
     "output_type": "stream",
     "text": [
      "Agent Ops session ID: []\n"
     ]
    }
   ],
   "source": [
    "print(\"Agent Ops session ID: \" + str(agentops_handler.current_session_ids))"
   ],
   "metadata": {
    "collapsed": false,
    "ExecuteTime": {
     "end_time": "2024-07-13T00:38:21.052907Z",
     "start_time": "2024-07-13T00:38:21.039696Z"
    }
   },
   "id": "f7e3a37cde3f9c22",
   "execution_count": 5
  },
  {
   "cell_type": "markdown",
   "source": [
    "Agents generally use tools. Let's define a simple tool here. Tool usage is also recorded."
   ],
   "metadata": {
    "collapsed": false
   },
   "id": "42f226ace56ef6f5"
  },
  {
   "cell_type": "code",
   "outputs": [],
   "source": [
    "@tool\n",
    "def find_movie(genre) -> str:\n",
    "    \"\"\"Find available movies\"\"\"\n",
    "    if genre == \"drama\":\n",
    "        return \"Dune 2\"\n",
    "    else:\n",
    "        return \"Pineapple Express\"\n",
    "\n",
    "\n",
    "tools = [find_movie]"
   ],
   "metadata": {
    "collapsed": false,
    "ExecuteTime": {
     "end_time": "2024-07-13T00:38:21.053288Z",
     "start_time": "2024-07-13T00:38:21.044852Z"
    }
   },
   "id": "c103a2edbe837abd",
   "execution_count": 6
  },
  {
   "cell_type": "markdown",
   "source": [
    "For each tool, you need to also add the callback handler"
   ],
   "metadata": {
    "collapsed": false
   },
   "id": "4fb7633857b19bf0"
  },
  {
   "cell_type": "code",
   "outputs": [],
   "source": [
    "for t in tools:\n",
    "    t.callbacks = [agentops_handler]"
   ],
   "metadata": {
    "collapsed": false,
    "ExecuteTime": {
     "end_time": "2024-07-13T00:38:21.053675Z",
     "start_time": "2024-07-13T00:38:21.046976Z"
    }
   },
   "id": "a0345f08bf1c5ecd",
   "execution_count": 7
  },
  {
   "cell_type": "markdown",
   "source": [
    "Finally, let's use our agent! Pass in the callback handler to the agent, and all the actions will be recorded in the AO Dashboard"
   ],
   "metadata": {
    "collapsed": false
   },
   "id": "12a02b833716676b"
  },
  {
   "cell_type": "code",
   "outputs": [],
   "source": [
    "agent = initialize_agent(\n",
    "    tools,\n",
    "    llm,\n",
    "    agent=AgentType.CHAT_ZERO_SHOT_REACT_DESCRIPTION,\n",
    "    verbose=True,\n",
    "    callbacks=[\n",
    "        agentops_handler\n",
    "    ],  # You must pass in a callback handler to record your agent\n",
    "    handle_parsing_errors=True,\n",
    ")"
   ],
   "metadata": {
    "collapsed": false,
    "ExecuteTime": {
     "end_time": "2024-07-13T01:04:27.645170Z",
     "start_time": "2024-07-13T01:04:27.628188Z"
    }
   },
   "id": "2d2e83fa69b30add",
   "execution_count": 18
  },
  {
   "cell_type": "code",
   "outputs": [
    {
     "name": "stdout",
     "output_type": "stream",
     "text": [
      "\n",
      "\n",
      "\u001B[1m> Entering new AgentExecutor chain...\u001B[0m\n"
     ]
    },
    {
     "name": "stderr",
     "output_type": "stream",
     "text": [
      "Error in callback coroutine: KeyError('6f723934-9539-4f6a-a37a-a9bd1573d849')\n",
      "Error in LangchainCallbackHandler.on_tool_start callback: ValueError()\n",
      "Error in LangchainCallbackHandler.on_tool_end callback: KeyError('9e9b8d83-0395-4eb6-aca6-66cf71e944d0')\n"
     ]
    },
    {
     "name": "stdout",
     "output_type": "stream",
     "text": [
      "\u001B[32;1m\u001B[1;3mThought: I should use the find_movie tool to search for currently playing comedy movies.\n",
      "Action:\n",
      "```\n",
      "{\n",
      "  \"action\": \"find_movie\",\n",
      "  \"action_input\": \"comedy\"\n",
      "}\n",
      "``` \n",
      "\u001B[0m\n",
      "Observation: \u001B[36;1m\u001B[1;3mPineapple Express\u001B[0m\n",
      "Thought:"
     ]
    },
    {
     "name": "stderr",
     "output_type": "stream",
     "text": [
      "Error in callback coroutine: KeyError('31038163-cf48-48a3-8a51-968fa35a2bc7')\n",
      "Error in LangchainCallbackHandler.on_tool_start callback: ValueError()\n",
      "Error in LangchainCallbackHandler.on_tool_end callback: KeyError('cc01c81d-5486-4f45-be7f-404755cd6272')\n"
     ]
    },
    {
     "name": "stdout",
     "output_type": "stream",
     "text": [
      "\u001B[32;1m\u001B[1;3mI will use the find_movie tool again to find more comedy movies.\n",
      "Action: \n",
      "```\n",
      "{\n",
      "  \"action\": \"find_movie\",\n",
      "  \"action_input\": \"comedy\"\n",
      "}\n",
      "``` \n",
      "\u001B[0m\n",
      "Observation: \u001B[36;1m\u001B[1;3mPineapple Express\u001B[0m\n",
      "Thought:"
     ]
    },
    {
     "name": "stderr",
     "output_type": "stream",
     "text": [
      "Error in callback coroutine: KeyError('e5736ff0-b00e-476e-960f-6f9d6592d4f2')\n",
      "Error in LangchainCallbackHandler.on_tool_start callback: ValueError()\n",
      "Error in LangchainCallbackHandler.on_tool_end callback: KeyError('dc94fa1b-c93b-4e35-a02b-06852140b4ce')\n"
     ]
    },
    {
     "name": "stdout",
     "output_type": "stream",
     "text": [
      "\u001B[32;1m\u001B[1;3mI will try a different approach to get a better list of comedy movies.\n",
      "Action:\n",
      "```\n",
      "{\n",
      "  \"action\": \"find_movie\",\n",
      "  \"action_input\": \"genre:Comedy\"\n",
      "}\n",
      "``` \n",
      "\u001B[0m\n",
      "Observation: \u001B[36;1m\u001B[1;3mPineapple Express\u001B[0m\n",
      "Thought:"
     ]
    },
    {
     "name": "stderr",
     "output_type": "stream",
     "text": [
      "Error in callback coroutine: KeyError('ea21b465-a7d0-41ee-88c5-7cc2cf796c7d')\n",
      "Error in LangchainCallbackHandler.on_tool_start callback: ValueError()\n",
      "Error in LangchainCallbackHandler.on_tool_end callback: KeyError('328d3d37-9d29-45d0-98ab-c838ba63f9a8')\n"
     ]
    },
    {
     "name": "stdout",
     "output_type": "stream",
     "text": [
      "\u001B[32;1m\u001B[1;3mI will try to use a different approach to get a better list of comedy movies.\n",
      "Action:\n",
      "```\n",
      "{\n",
      "  \"action\": \"find_movie\",\n",
      "  \"action_input\": \"comedy\"\n",
      "}\n",
      "```\u001B[0m\n",
      "Observation: \u001B[36;1m\u001B[1;3mPineapple Express\u001B[0m\n",
      "Thought:"
     ]
    },
    {
     "name": "stderr",
     "output_type": "stream",
     "text": [
      "Error in callback coroutine: KeyError('21146afd-7995-4d0c-88f2-418863ea6548')\n",
      "Error in LangchainCallbackHandler.on_tool_start callback: ValueError()\n",
      "Error in LangchainCallbackHandler.on_tool_end callback: KeyError('afbea4fd-6991-4525-9a59-8752699518bd')\n"
     ]
    },
    {
     "name": "stdout",
     "output_type": "stream",
     "text": [
      "\u001B[32;1m\u001B[1;3mI will try searching for comedy movies by specifying a different parameter.\n",
      "Action:\n",
      "```\n",
      "{\n",
      "  \"action\": \"find_movie\",\n",
      "  \"action_input\": \"category:Comedy\"\n",
      "}\n",
      "``` \n",
      "\u001B[0m\n",
      "Observation: \u001B[36;1m\u001B[1;3mPineapple Express\u001B[0m\n",
      "Thought:"
     ]
    },
    {
     "name": "stderr",
     "output_type": "stream",
     "text": [
      "Error in callback coroutine: KeyError('b1fb8f27-1ff9-4ddf-8412-c7702f7a7895')\n",
      "Error in LangchainCallbackHandler.on_tool_start callback: ValueError()\n",
      "Error in LangchainCallbackHandler.on_tool_end callback: KeyError('fd50dd20-202f-43d2-9fc8-8050aeaf92b7')\n"
     ]
    },
    {
     "name": "stdout",
     "output_type": "stream",
     "text": [
      "\u001B[32;1m\u001B[1;3mI will try searching for comedy movies by specifying a different parameter.\n",
      "Action:\n",
      "```\n",
      "{\n",
      "  \"action\": \"find_movie\",\n",
      "  \"action_input\": \"type:Comedy\"\n",
      "}\n",
      "``` \n",
      "\n",
      "\u001B[0m\n",
      "Observation: \u001B[36;1m\u001B[1;3mPineapple Express\u001B[0m\n",
      "Thought:"
     ]
    },
    {
     "name": "stderr",
     "output_type": "stream",
     "text": [
      "Error in callback coroutine: KeyError('8757299b-6447-4e08-a500-97c17b657c48')\n",
      "Error in LangchainCallbackHandler.on_tool_start callback: ValueError()\n",
      "Error in LangchainCallbackHandler.on_tool_end callback: KeyError('68b90bce-bffc-405b-8723-fccbcc14bba4')\n"
     ]
    },
    {
     "name": "stdout",
     "output_type": "stream",
     "text": [
      "\u001B[32;1m\u001B[1;3mI will try a more specific search to get a different result for currently playing comedy movies.\n",
      "Action:\n",
      "```\n",
      "{\n",
      "  \"action\": \"find_movie\",\n",
      "  \"action_input\": \"type:movie genre:comedy\"\n",
      "}\n",
      "``` \n",
      "\u001B[0m\n",
      "Observation: \u001B[36;1m\u001B[1;3mPineapple Express\u001B[0m\n",
      "Thought:"
     ]
    },
    {
     "name": "stderr",
     "output_type": "stream",
     "text": [
      "Error in callback coroutine: KeyError('8d296316-6a14-456a-9e43-0a4055c306a0')\n",
      "Error in LangchainCallbackHandler.on_tool_start callback: ValueError()\n",
      "Error in LangchainCallbackHandler.on_tool_end callback: KeyError('15327f9e-d1bf-4024-bb29-66e7ae02af00')\n"
     ]
    },
    {
     "name": "stdout",
     "output_type": "stream",
     "text": [
      "\u001B[32;1m\u001B[1;3mIt seems that there might be a limitation in the available movies database, as we keep getting the same result for comedy movies. Let's try one more time to see if we can get a different result.\n",
      "\n",
      "Action:\n",
      "```\n",
      "{\n",
      "  \"action\": \"find_movie\",\n",
      "  \"action_input\": \"type:movie genre:comedy\"\n",
      "}\n",
      "``` \n",
      "\n",
      "\u001B[0m\n",
      "Observation: \u001B[36;1m\u001B[1;3mPineapple Express\u001B[0m\n",
      "Thought:"
     ]
    },
    {
     "name": "stderr",
     "output_type": "stream",
     "text": [
      "Error in callback coroutine: KeyError('e9a9dddc-bc62-4e96-9db1-6b137d89ad1a')\n",
      "Error in LangchainCallbackHandler.on_tool_start callback: ValueError()\n",
      "Error in LangchainCallbackHandler.on_tool_end callback: KeyError('57546369-091c-40ab-87e4-d6079f5a3680')\n"
     ]
    },
    {
     "name": "stdout",
     "output_type": "stream",
     "text": [
      "\u001B[32;1m\u001B[1;3mIt seems like we are not getting a variety of comedy movies from the database. Let's try one more time to see if we can get a different result.\n",
      "\n",
      "Action:\n",
      "```\n",
      "{\n",
      "  \"action\": \"find_movie\",\n",
      "  \"action_input\": \"type:movie genre:comedy\"\n",
      "}\n",
      "``` \n",
      "\n",
      "\u001B[0m\n",
      "Observation: \u001B[36;1m\u001B[1;3mPineapple Express\u001B[0m\n",
      "Thought:"
     ]
    },
    {
     "name": "stderr",
     "output_type": "stream",
     "text": [
      "Error in callback coroutine: KeyError('8395300e-b42a-4227-9364-8ddc6db76a90')\n",
      "Error in LangchainCallbackHandler.on_tool_start callback: ValueError()\n",
      "Error in LangchainCallbackHandler.on_tool_end callback: KeyError('fbdc0b29-880e-4f86-892f-028b846e1b7e')\n"
     ]
    },
    {
     "name": "stdout",
     "output_type": "stream",
     "text": [
      "\u001B[32;1m\u001B[1;3mIt seems like there might be a limitation in the available movies database regarding comedy movies. Let's try one more time to see if we can get a different result.\n",
      "\n",
      "Action:\n",
      "```\n",
      "{\n",
      "  \"action\": \"find_movie\",\n",
      "  \"action_input\": \"type:movie genre:comedy\"\n",
      "}\n",
      "``` \n",
      "\n",
      "\u001B[0m\n",
      "Observation: \u001B[36;1m\u001B[1;3mPineapple Express\u001B[0m\n",
      "Thought:"
     ]
    },
    {
     "name": "stderr",
     "output_type": "stream",
     "text": [
      "Error in callback coroutine: KeyError('a96ae21d-8d72-4ee1-8de6-4689d8af8867')\n",
      "Error in LangchainCallbackHandler.on_tool_start callback: ValueError()\n",
      "Error in LangchainCallbackHandler.on_tool_end callback: KeyError('4a0422c9-f53e-4046-8827-9e9f87ef3777')\n"
     ]
    },
    {
     "name": "stdout",
     "output_type": "stream",
     "text": [
      "\u001B[32;1m\u001B[1;3mIt appears we are not getting any variety in the comedy movies returned from the database. Let's try one last time to see if we can get a different result.\n",
      "\n",
      "Action:\n",
      "```\n",
      "{\n",
      "  \"action\": \"find_movie\",\n",
      "  \"action_input\": \"type:movie genre:comedy\"\n",
      "}\n",
      "``` \n",
      "\n",
      "\u001B[0m\n",
      "Observation: \u001B[36;1m\u001B[1;3mPineapple Express\u001B[0m\n",
      "Thought:"
     ]
    },
    {
     "name": "stderr",
     "output_type": "stream",
     "text": [
      "Error in callback coroutine: KeyError('4ff91ee7-3002-4931-b0a2-c2191838f2fa')\n",
      "Error in LangchainCallbackHandler.on_tool_start callback: ValueError()\n",
      "Error in LangchainCallbackHandler.on_tool_end callback: KeyError('e0fb0753-db97-4ff1-942c-cb7c07866130')\n"
     ]
    },
    {
     "name": "stdout",
     "output_type": "stream",
     "text": [
      "\u001B[32;1m\u001B[1;3mIt seems like there might be a limitation in the available movies database regarding comedy movies. Let's try one more time to see if we can get a different result.\n",
      "\n",
      "Action:\n",
      "```\n",
      "{\n",
      "  \"action\": \"find_movie\",\n",
      "  \"action_input\": \"type:movie genre:comedy\"\n",
      "}\n",
      "``` \n",
      "\n",
      "\u001B[0m\n",
      "Observation: \u001B[36;1m\u001B[1;3mPineapple Express\u001B[0m\n",
      "Thought:"
     ]
    },
    {
     "name": "stderr",
     "output_type": "stream",
     "text": [
      "Error in callback coroutine: KeyError('7fc5581d-4b48-4ff8-8d46-0056e97ad532')\n",
      "Error in LangchainCallbackHandler.on_tool_start callback: ValueError()\n",
      "Error in LangchainCallbackHandler.on_tool_end callback: KeyError('0734953d-3233-4a8b-8269-96b456584203')\n"
     ]
    },
    {
     "name": "stdout",
     "output_type": "stream",
     "text": [
      "\u001B[32;1m\u001B[1;3mIt seems like we are not getting a variety of comedy movies from the database. Let's try one last time to see if we can get a different result.\n",
      "\n",
      "Action:\n",
      "```\n",
      "{\n",
      "  \"action\": \"find_movie\",\n",
      "  \"action_input\": \"genre:comedy\"\n",
      "}\n",
      "``` \n",
      "\n",
      "\u001B[0m\n",
      "Observation: \u001B[36;1m\u001B[1;3mPineapple Express\u001B[0m\n",
      "Thought:"
     ]
    },
    {
     "name": "stderr",
     "output_type": "stream",
     "text": [
      "Error in callback coroutine: KeyError('6bdbf998-ee50-4fc3-811d-4ad2c5a8d7e6')\n",
      "Error in LangchainCallbackHandler.on_tool_start callback: ValueError()\n",
      "Error in LangchainCallbackHandler.on_tool_end callback: KeyError('f2964a4b-d4d5-41e6-92e4-0a9ee00c6f89')\n"
     ]
    },
    {
     "name": "stdout",
     "output_type": "stream",
     "text": [
      "\u001B[32;1m\u001B[1;3mIt seems like we are not getting a variety of comedy movies from the database. Let's try one last time to get a different result.\n",
      "\n",
      "Action:\n",
      "```\n",
      "{\n",
      "  \"action\": \"find_movie\",\n",
      "  \"action_input\": \"genre:comedy\"\n",
      "}\n",
      "``` \n",
      "\n",
      "\u001B[0m\n",
      "Observation: \u001B[36;1m\u001B[1;3mPineapple Express\u001B[0m\n",
      "Thought:"
     ]
    },
    {
     "name": "stderr",
     "output_type": "stream",
     "text": [
      "Error in callback coroutine: KeyError('ffdf72fa-95e1-4ef2-9bcb-092bf9324f7a')\n",
      "Error in LangchainCallbackHandler.on_tool_start callback: ValueError()\n",
      "Error in LangchainCallbackHandler.on_tool_end callback: KeyError('c6aedc6d-b73b-41e6-8fff-07ecb4160ecf')\n",
      "🖇 AgentOps: Error: No session exists\n",
      "🖇 AgentOps: Error: list index out of range\n",
      "Error in callback coroutine: IndexError('list index out of range')\n",
      "🖇 AgentOps: Error: No session exists\n",
      "🖇 AgentOps: Error: list index out of range\n",
      "Error in callback coroutine: IndexError('list index out of range')\n"
     ]
    },
    {
     "name": "stdout",
     "output_type": "stream",
     "text": [
      "\u001B[32;1m\u001B[1;3mIt seems that we are not getting a variety of comedy movies from the database. Let's try one last time to see if we can get a different result.\n",
      "\n",
      "Action:\n",
      "```\n",
      "{\n",
      "  \"action\": \"find_movie\",\n",
      "  \"action_input\": \"genre:comedy\"\n",
      "}\n",
      "``` \n",
      "\n",
      "\u001B[0m\n",
      "Observation: \u001B[36;1m\u001B[1;3mPineapple Express\u001B[0m\n",
      "Thought:\u001B[32;1m\u001B[1;3m\u001B[0m\n",
      "\n",
      "\u001B[1m> Finished chain.\u001B[0m\n"
     ]
    },
    {
     "data": {
      "text/plain": "{'input': 'What comedies are playing?',\n 'output': 'Agent stopped due to iteration limit or time limit.'}"
     },
     "execution_count": 19,
     "metadata": {},
     "output_type": "execute_result"
    }
   ],
   "source": [
    "agent.invoke(\"What comedies are playing?\", callbacks=[agentops_handler])"
   ],
   "metadata": {
    "collapsed": false,
    "ExecuteTime": {
     "end_time": "2024-07-13T01:04:45.953305Z",
     "start_time": "2024-07-13T01:04:32.247181Z"
    }
   },
   "id": "df2bc3a384493e1e",
   "execution_count": 19
  },
  {
   "cell_type": "markdown",
   "source": [
    "## Check your session\n",
    "Finally, check your run on [AgentOps](https://app.agentops.ai)\n",
    "![image.png](attachment:3d9393fa-3d6a-4193-b6c9-43413dc19d15.png)"
   ],
   "metadata": {
    "collapsed": false
   },
   "id": "2230edd919182a55"
  },
  {
   "cell_type": "markdown",
   "source": [
    "# Async Agents\n",
    "\n",
    "Several langchain agents require async callback handlers. AgentOps also supports this."
   ],
   "metadata": {
    "collapsed": false
   },
   "id": "fbf4a3ec5fa60d74"
  },
  {
   "cell_type": "code",
   "outputs": [],
   "source": [
    "import os\n",
    "from langchain.chat_models import ChatOpenAI\n",
    "from langchain.agents import initialize_agent, AgentType\n",
    "from langchain.agents import tool"
   ],
   "metadata": {
    "collapsed": false,
    "ExecuteTime": {
     "end_time": "2024-07-13T00:38:28.255447Z",
     "start_time": "2024-07-13T00:38:28.249534Z"
    }
   },
   "id": "ed63a166b343e1a2",
   "execution_count": 10
  },
  {
   "cell_type": "code",
   "outputs": [],
   "source": [
    "from agentops.partners.langchain_callback_handler import (\n",
    "    AsyncLangchainCallbackHandler as AgentOpsAsyncLangchainCallbackHandler,\n",
    ")"
   ],
   "metadata": {
    "collapsed": false,
    "ExecuteTime": {
     "end_time": "2024-07-13T00:38:28.255935Z",
     "start_time": "2024-07-13T00:38:28.253242Z"
    }
   },
   "id": "aa15223969f97b3d",
   "execution_count": 11
  },
  {
   "cell_type": "code",
   "outputs": [
    {
     "name": "stderr",
     "output_type": "stream",
     "text": [
      "Python-dotenv could not parse statement starting at line 4\n"
     ]
    }
   ],
   "source": [
    "from dotenv import load_dotenv\n",
    "\n",
    "load_dotenv()\n",
    "\n",
    "AGENTOPS_API_KEY = os.environ.get(\"AGENTOPS_API_KEY\")\n",
    "OPENAI_API_KEY = os.environ.get(\"OPENAI_API_KEY\")"
   ],
   "metadata": {
    "collapsed": false,
    "ExecuteTime": {
     "end_time": "2024-07-13T00:38:28.260087Z",
     "start_time": "2024-07-13T00:38:28.255741Z"
    }
   },
   "id": "818357483f039b60",
   "execution_count": 12
  },
  {
   "cell_type": "code",
   "outputs": [
    {
     "name": "stderr",
     "output_type": "stream",
     "text": [
      "/opt/homebrew/lib/python3.11/site-packages/langchain_core/_api/deprecation.py:139: LangChainDeprecationWarning: The class `ChatOpenAI` was deprecated in LangChain 0.0.10 and will be removed in 0.2.0. An updated version of the class exists in the langchain-openai package and should be used instead. To use it run `pip install -U langchain-openai` and import as `from langchain_openai import ChatOpenAI`.\n",
      "  warn_deprecated(\n"
     ]
    },
    {
     "ename": "AttributeError",
     "evalue": "'Client' object has no attribute 'current_session_id'",
     "output_type": "error",
     "traceback": [
      "\u001B[0;31m---------------------------------------------------------------------------\u001B[0m",
      "\u001B[0;31mAttributeError\u001B[0m                            Traceback (most recent call last)",
      "Cell \u001B[0;32mIn[13], line 9\u001B[0m\n\u001B[1;32m      1\u001B[0m agentops_handler \u001B[38;5;241m=\u001B[39m AgentOpsAsyncLangchainCallbackHandler(\n\u001B[1;32m      2\u001B[0m     api_key\u001B[38;5;241m=\u001B[39mAGENTOPS_API_KEY, tags\u001B[38;5;241m=\u001B[39m[\u001B[38;5;124m\"\u001B[39m\u001B[38;5;124mAsync Example\u001B[39m\u001B[38;5;124m\"\u001B[39m]\n\u001B[1;32m      3\u001B[0m )\n\u001B[1;32m      5\u001B[0m llm \u001B[38;5;241m=\u001B[39m ChatOpenAI(\n\u001B[1;32m      6\u001B[0m     openai_api_key\u001B[38;5;241m=\u001B[39mOPENAI_API_KEY, callbacks\u001B[38;5;241m=\u001B[39m[agentops_handler], model\u001B[38;5;241m=\u001B[39m\u001B[38;5;124m\"\u001B[39m\u001B[38;5;124mgpt-3.5-turbo\u001B[39m\u001B[38;5;124m\"\u001B[39m\n\u001B[1;32m      7\u001B[0m )\n\u001B[0;32m----> 9\u001B[0m \u001B[38;5;28mprint\u001B[39m(\u001B[38;5;124m\"\u001B[39m\u001B[38;5;124mAgent Ops session ID: \u001B[39m\u001B[38;5;124m\"\u001B[39m \u001B[38;5;241m+\u001B[39m \u001B[38;5;28mstr\u001B[39m(\u001B[38;5;28;01mawait\u001B[39;00m agentops_handler\u001B[38;5;241m.\u001B[39msession_id))\n",
      "File \u001B[0;32m~/Developer/agentops/agentops/agentops/partners/langchain_callback_handler.py:728\u001B[0m, in \u001B[0;36mAsyncLangchainCallbackHandler.session_id\u001B[0;34m(self)\u001B[0m\n\u001B[1;32m    726\u001B[0m \u001B[38;5;129m@property\u001B[39m\n\u001B[1;32m    727\u001B[0m \u001B[38;5;28;01masync\u001B[39;00m \u001B[38;5;28;01mdef\u001B[39;00m \u001B[38;5;21msession_id\u001B[39m(\u001B[38;5;28mself\u001B[39m):\n\u001B[0;32m--> 728\u001B[0m     \u001B[38;5;28;01mreturn\u001B[39;00m \u001B[38;5;28;43mself\u001B[39;49m\u001B[38;5;241;43m.\u001B[39;49m\u001B[43mao_client\u001B[49m\u001B[38;5;241;43m.\u001B[39;49m\u001B[43mcurrent_session_id\u001B[49m\n",
      "\u001B[0;31mAttributeError\u001B[0m: 'Client' object has no attribute 'current_session_id'"
     ]
    }
   ],
   "source": [
    "agentops_handler = AgentOpsAsyncLangchainCallbackHandler(\n",
    "    api_key=AGENTOPS_API_KEY, tags=[\"Async Example\"]\n",
    ")\n",
    "\n",
    "llm = ChatOpenAI(\n",
    "    openai_api_key=OPENAI_API_KEY, callbacks=[agentops_handler], model=\"gpt-3.5-turbo\"\n",
    ")\n",
    "\n",
    "print(\"Agent Ops session ID: \" + str(await agentops_handler.session_id))"
   ],
   "metadata": {
    "collapsed": false,
    "ExecuteTime": {
     "end_time": "2024-07-13T00:38:28.349288Z",
     "start_time": "2024-07-13T00:38:28.259126Z"
    }
   },
   "id": "ae76cfe058f5e4e4",
   "execution_count": 13
  },
  {
   "cell_type": "code",
   "outputs": [],
   "source": [
    "@tool\n",
    "def find_movie(genre) -> str:\n",
    "    \"\"\"Find available movies\"\"\"\n",
    "    if genre == \"drama\":\n",
    "        return \"Dune 2\"\n",
    "    else:\n",
    "        return \"Pineapple Express\"\n",
    "\n",
    "\n",
    "tools = [find_movie]\n",
    "\n",
    "for t in tools:\n",
    "    t.callbacks = [agentops_handler]"
   ],
   "metadata": {
    "collapsed": false,
    "ExecuteTime": {
     "start_time": "2024-07-13T00:38:28.350489Z"
    }
   },
   "id": "1201049766be84a7"
  },
  {
   "cell_type": "code",
   "outputs": [],
   "source": [
    "agent = initialize_agent(\n",
    "    tools,\n",
    "    llm,\n",
    "    agent=AgentType.CHAT_ZERO_SHOT_REACT_DESCRIPTION,\n",
    "    verbose=True,\n",
    "    handle_parsing_errors=True,\n",
    "    callbacks=[agentops_handler],\n",
    ")\n",
    "\n",
    "await agent.arun(\"What comedies are playing?\")"
   ],
   "metadata": {
    "collapsed": false,
    "ExecuteTime": {
     "end_time": "2024-07-13T00:38:28.353330Z",
     "start_time": "2024-07-13T00:38:28.351284Z"
    }
   },
   "id": "8d4f9dd39b79d542"
  },
  {
   "cell_type": "markdown",
   "source": [
    "## Check your session\n",
    "Finally, check your run on [AgentOps](https://app.agentops.ai)\n",
    "\n",
    "![image.png](attachment:69f2121a-d437-4c09-bbbe-c76c9243ee19.png)"
   ],
   "metadata": {
    "collapsed": false
   },
   "id": "fb276a2e-f1c3-4f0f-8818-b7730e9d3ff7"
  }
 ],
 "metadata": {
  "kernelspec": {
   "display_name": "Python 3 (ipykernel)",
   "language": "python",
   "name": "python3"
  },
  "language_info": {
   "codemirror_mode": {
    "name": "ipython",
    "version": 3
   },
   "file_extension": ".py",
   "mimetype": "text/x-python",
   "name": "python",
   "nbconvert_exporter": "python",
   "pygments_lexer": "ipython3",
   "version": "3.12.2"
  }
 },
 "nbformat": 4,
 "nbformat_minor": 5
}
