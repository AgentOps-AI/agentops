{
 "cells": [
  {
   "cell_type": "markdown",
   "id": "e0deea1ab1db2a19",
   "metadata": {},
   "source": [
    "# AgentOps Langchain Agent Implementation\n",
    "\n",
    "Using AgentOps monitoring with Langchain is simple. We've created a LangchainCallbackHandler that will do all of the heavy lifting!\n",
    "\n",
    "First let's install the required packages"
   ]
  },
  {
   "metadata": {
    "ExecuteTime": {
     "end_time": "2024-08-08T00:29:29.288644Z",
     "start_time": "2024-08-08T00:29:29.026314Z"
    }
   },
   "cell_type": "code",
   "source": [
    "%pip install langchain==0.2.9\n",
    "%pip install -U agentops\n",
    "%pip install -U python-dotenv"
   ],
   "id": "8e3d38adc7861277",
   "outputs": [],
   "execution_count": 1
  },
  {
   "metadata": {},
   "cell_type": "markdown",
   "source": "Then import them",
   "id": "effc8ee7453a6c3"
  },
  {
   "cell_type": "code",
   "source": [
    "import os\n",
    "from langchain_openai import ChatOpenAI\n",
    "from langchain.agents import tool, AgentExecutor, create_openai_tools_agent\n",
    "from dotenv import load_dotenv"
   ],
   "metadata": {
    "collapsed": false,
    "ExecuteTime": {
     "end_time": "2024-08-08T00:29:30.052348Z",
     "start_time": "2024-08-08T00:29:29.289841Z"
    }
   },
   "id": "d344305baa26d651",
   "outputs": [],
   "execution_count": 2
  },
  {
   "cell_type": "markdown",
   "source": [
    "The only difference with using AgentOps is that we'll also import this special Callback Handler"
   ],
   "metadata": {
    "collapsed": false
   },
   "id": "3584d84a441169b0"
  },
  {
   "cell_type": "code",
   "source": [
    "from agentops.partners.langchain_callback_handler import (\n",
    "    LangchainCallbackHandler as AgentOpsLangchainCallbackHandler,\n",
    ")"
   ],
   "metadata": {
    "collapsed": false,
    "ExecuteTime": {
     "end_time": "2024-08-08T00:29:30.058535Z",
     "start_time": "2024-08-08T00:29:30.054497Z"
    }
   },
   "id": "256f01cac66d7d90",
   "outputs": [],
   "execution_count": 3
  },
  {
   "cell_type": "markdown",
   "source": [
    "Next, we'll grab our two API keys. You can use dotenv like below or however else you like to load environment variables"
   ],
   "metadata": {
    "collapsed": false
   },
   "id": "afab0f7bbd847916"
  },
  {
   "cell_type": "code",
   "source": "load_dotenv()",
   "metadata": {
    "collapsed": false,
    "ExecuteTime": {
     "end_time": "2024-08-08T00:29:30.072366Z",
     "start_time": "2024-08-08T00:29:30.063997Z"
    }
   },
   "id": "3f9189f4d13ebd07",
   "outputs": [
    {
     "data": {
      "text/plain": [
       "True"
      ]
     },
     "execution_count": 4,
     "metadata": {},
     "output_type": "execute_result"
    }
   ],
   "execution_count": 4
  },
  {
   "cell_type": "markdown",
   "source": [
    "This is where AgentOps comes into play. Before creating our LLM instance via Langchain, first we'll create an instance of the AO LangchainCallbackHandler. After the handler is initialized, a session will be recorded automatically.\n",
    "\n",
    "Pass in your API key, and optionally any tags to describe this session for easier lookup in the AO dashboard."
   ],
   "metadata": {
    "collapsed": false
   },
   "id": "6f5a9ab030c636c6"
  },
  {
   "cell_type": "code",
   "source": [
    "from langchain_core.prompts import ChatPromptTemplate\n",
    "\n",
    "AGENTOPS_API_KEY = os.environ.get(\"AGENTOPS_API_KEY\")\n",
    "OPENAI_API_KEY = os.environ.get(\"OPENAI_API_KEY\")\n",
    "\n",
    "agentops_handler = AgentOpsLangchainCallbackHandler(\n",
    "    api_key=AGENTOPS_API_KEY, default_tags=[\"Langchain Example\"]\n",
    ")\n",
    "\n",
    "llm = ChatOpenAI(\n",
    "    openai_api_key=OPENAI_API_KEY, callbacks=[agentops_handler], model=\"gpt-3.5-turbo\"\n",
    ")\n",
    "\n",
    "# You must pass in a callback handler to record your agent\n",
    "llm.callbacks = [agentops_handler]\n",
    "\n",
    "prompt = ChatPromptTemplate.from_messages(\n",
    "    [\n",
    "        (\"system\", \"You are a helpful assistant. Respond only in Spanish.\"),\n",
    "        (\"human\", \"{input}\"),\n",
    "        # Placeholders fill up a **list** of messages\n",
    "        (\"placeholder\", \"{agent_scratchpad}\"),\n",
    "        # (\"tool_names\", \"find_movie\")\n",
    "    ]\n",
    ")"
   ],
   "metadata": {
    "collapsed": false,
    "ExecuteTime": {
     "end_time": "2024-08-08T00:29:31.018329Z",
     "start_time": "2024-08-08T00:29:30.074528Z"
    }
   },
   "id": "7d4accd2f68404fb",
   "outputs": [
    {
     "name": "stderr",
     "output_type": "stream",
     "text": [
      "🖇 AgentOps: \u001B[34m\u001B[34mSession Replay: https://app.agentops.ai/drilldown?session_id=418f60fc-a709-4a61-952c-6b9670406198\u001B[0m\u001B[0m\n"
     ]
    }
   ],
   "execution_count": 5
  },
  {
   "cell_type": "markdown",
   "source": [
    "You can also retrieve the `session_id` of the newly created session."
   ],
   "metadata": {
    "collapsed": false
   },
   "id": "821b2367b1082673"
  },
  {
   "cell_type": "code",
   "source": [
    "print(\"Agent Ops session ID: \" + str(agentops_handler.current_session_ids))"
   ],
   "metadata": {
    "collapsed": false,
    "ExecuteTime": {
     "end_time": "2024-08-08T00:29:31.021351Z",
     "start_time": "2024-08-08T00:29:31.019165Z"
    }
   },
   "id": "6bb30c31eaa5ba02",
   "outputs": [
    {
     "name": "stdout",
     "output_type": "stream",
     "text": [
      "Agent Ops session ID: ['418f60fc-a709-4a61-952c-6b9670406198']\n"
     ]
    }
   ],
   "execution_count": 6
  },
  {
   "cell_type": "markdown",
   "source": [
    "Agents generally use tools. Let's define a simple tool here. Tool usage is also recorded."
   ],
   "metadata": {
    "collapsed": false
   },
   "id": "f7362d89b6a7af4c"
  },
  {
   "cell_type": "code",
   "source": [
    "@tool\n",
    "def find_movie(genre: str) -> str:\n",
    "    \"\"\"Find available movies\"\"\"\n",
    "    if genre == \"drama\":\n",
    "        return \"Dune 2\"\n",
    "    else:\n",
    "        return \"Pineapple Express\"\n",
    "\n",
    "\n",
    "tools = [find_movie]"
   ],
   "metadata": {
    "collapsed": false,
    "ExecuteTime": {
     "end_time": "2024-08-08T00:29:31.071133Z",
     "start_time": "2024-08-08T00:29:31.022304Z"
    }
   },
   "id": "4a28f85842129016",
   "outputs": [],
   "execution_count": 7
  },
  {
   "cell_type": "markdown",
   "source": [
    "For each tool, you need to also add the callback handler"
   ],
   "metadata": {
    "collapsed": false
   },
   "id": "186984add993f839"
  },
  {
   "cell_type": "code",
   "source": [
    "for t in tools:\n",
    "    t.callbacks = [agentops_handler]"
   ],
   "metadata": {
    "collapsed": false,
    "ExecuteTime": {
     "end_time": "2024-08-08T00:29:31.073655Z",
     "start_time": "2024-08-08T00:29:31.071945Z"
    }
   },
   "id": "afe9113b61c67e80",
   "outputs": [],
   "execution_count": 8
  },
  {
   "metadata": {},
   "cell_type": "markdown",
   "source": "Add the tools to our LLM",
   "id": "6dd5f322d26f692"
  },
  {
   "metadata": {},
   "cell_type": "code",
   "outputs": [],
   "execution_count": 9,
   "source": "llm_with_tools = llm.bind_tools([find_movie])",
   "id": "e469ab337023053e"
  },
  {
   "cell_type": "markdown",
   "source": "Finally, let's create our agent! Pass in the callback handler to the agent, and all the actions will be recorded in the AO Dashboard",
   "metadata": {
    "collapsed": false
   },
   "id": "88b96e62db542900"
  },
  {
   "metadata": {
    "ExecuteTime": {
     "end_time": "2024-08-08T00:29:31.127744Z",
     "start_time": "2024-08-08T00:29:31.124945Z"
    }
   },
   "cell_type": "code",
   "source": [
    "agent = create_openai_tools_agent(llm, tools, prompt)\n",
    "agent_executor = AgentExecutor(agent=agent, tools=tools)"
   ],
   "id": "d45ff1b7a3843191",
   "outputs": [],
   "execution_count": 10
  },
  {
   "metadata": {
    "ExecuteTime": {
     "end_time": "2024-08-08T00:29:32.666768Z",
     "start_time": "2024-08-08T00:29:31.128749Z"
    }
   },
   "cell_type": "code",
   "source": [
    "agent_executor.invoke(\n",
    "    {\"input\": \"What comedies are playing?\"}, config={\"callback\": [agentops_handler]}\n",
    ")"
   ],
   "id": "bb90bf54b5a42a63",
   "outputs": [
    {
     "data": {
      "text/plain": [
       "{'input': 'What comedies are playing?',\n",
       " 'output': '\"Pineapple Express\" está disponible para ver. ¿Te gustaría saber más sobre esta película?'}"
      ]
     },
     "execution_count": 11,
     "metadata": {},
     "output_type": "execute_result"
    }
   ],
   "execution_count": 11
  },
  {
   "metadata": {},
   "cell_type": "markdown",
   "source": "Now if we look in the AgentOps dashboard, you will see a session recorded with the LLM calls and tool usage.",
   "id": "c466cb71c9dc68db"
  },
  {
   "metadata": {},
   "cell_type": "code",
   "outputs": [],
   "execution_count": null,
   "source": "assert False",
   "id": "8571b7ae931b3cb2"
  },
  {
   "cell_type": "markdown",
   "source": [
    "## Langchain V0.1 Example\n",
    "This example is out of date."
   ],
   "metadata": {
    "collapsed": false
   },
   "id": "97a1a264a71876"
  },
  {
   "metadata": {
    "ExecuteTime": {
     "end_time": "2024-08-08T00:29:32.741186Z",
     "start_time": "2024-08-08T00:29:32.741133Z"
    }
   },
   "cell_type": "code",
   "source": "%pip install langchain==0.1.6",
   "id": "decac159bb492462",
   "outputs": [],
   "execution_count": null
  },
  {
   "cell_type": "code",
   "id": "initial_id",
   "metadata": {
    "ExecuteTime": {
     "end_time": "2024-08-08T00:29:32.741653Z",
     "start_time": "2024-08-08T00:29:32.741599Z"
    }
   },
   "source": [
    "import os\n",
    "from langchain_openai import ChatOpenAI\n",
    "from langchain.agents import initialize_agent, AgentType\n",
    "from langchain.agents import tool"
   ],
   "outputs": [],
   "execution_count": null
  },
  {
   "cell_type": "markdown",
   "id": "57ddb8eca4e8a3cb",
   "metadata": {},
   "source": [
    "The only difference with using AgentOps is that we'll also import this special Callback Handler"
   ]
  },
  {
   "cell_type": "code",
   "source": [
    "from agentops.partners.langchain_callback_handler import (\n",
    "    LangchainCallbackHandler as AgentOpsLangchainCallbackHandler,\n",
    ")"
   ],
   "metadata": {
    "collapsed": false
   },
   "id": "7e8f8cd098ad5b57",
   "outputs": [],
   "execution_count": null
  },
  {
   "cell_type": "markdown",
   "source": [
    "Next, we'll grab our two API keys. You can use dotenv like below or however else you like to load environment variables"
   ],
   "metadata": {
    "collapsed": false
   },
   "id": "14a1b8e08a2e9eb3"
  },
  {
   "cell_type": "code",
   "source": [
    "from dotenv import load_dotenv\n",
    "\n",
    "load_dotenv()"
   ],
   "metadata": {
    "collapsed": false
   },
   "id": "ff6cfc570599871f",
   "outputs": [],
   "execution_count": null
  },
  {
   "cell_type": "markdown",
   "source": [
    "This is where AgentOps comes into play. Before creating our LLM instance via Langchain, first we'll create an instance of the AO LangchainCallbackHandler. After the handler is initialized, a session will be recorded automatically.\n",
    "\n",
    "Pass in your API key, and optionally any tags to describe this session for easier lookup in the AO dashboard."
   ],
   "metadata": {
    "collapsed": false
   },
   "id": "51f083697b783fa4"
  },
  {
   "cell_type": "code",
   "source": [
    "AGENTOPS_API_KEY = os.environ.get(\"AGENTOPS_API_KEY\")\n",
    "OPENAI_API_KEY = os.environ.get(\"OPENAI_API_KEY\")\n",
    "\n",
    "agentops_handler = AgentOpsLangchainCallbackHandler(\n",
    "    api_key=AGENTOPS_API_KEY, default_tags=[\"Langchain Example\"]\n",
    ")\n",
    "\n",
    "llm = ChatOpenAI(\n",
    "    openai_api_key=OPENAI_API_KEY, callbacks=[agentops_handler], model=\"gpt-3.5-turbo\"\n",
    ")"
   ],
   "metadata": {
    "collapsed": false
   },
   "id": "d432fe915edb6365",
   "outputs": [],
   "execution_count": null
  },
  {
   "cell_type": "markdown",
   "source": [
    "You can also retrieve the `session_id` of the newly created session."
   ],
   "metadata": {
    "collapsed": false
   },
   "id": "38d309f07363b58e"
  },
  {
   "cell_type": "code",
   "source": [
    "print(\"Agent Ops session ID: \" + str(agentops_handler.current_session_ids))"
   ],
   "metadata": {
    "collapsed": false
   },
   "id": "f7e3a37cde3f9c22",
   "outputs": [],
   "execution_count": null
  },
  {
   "cell_type": "markdown",
   "source": [
    "Agents generally use tools. Let's define a simple tool here. Tool usage is also recorded."
   ],
   "metadata": {
    "collapsed": false
   },
   "id": "42f226ace56ef6f5"
  },
  {
   "cell_type": "code",
   "source": [
    "@tool\n",
    "def find_movie(genre) -> str:\n",
    "    \"\"\"Find available movies\"\"\"\n",
    "    if genre == \"drama\":\n",
    "        return \"Dune 2\"\n",
    "    else:\n",
    "        return \"Pineapple Express\"\n",
    "\n",
    "\n",
    "tools = [find_movie]"
   ],
   "metadata": {
    "collapsed": false
   },
   "id": "c103a2edbe837abd",
   "outputs": [],
   "execution_count": null
  },
  {
   "cell_type": "markdown",
   "source": [
    "For each tool, you need to also add the callback handler"
   ],
   "metadata": {
    "collapsed": false
   },
   "id": "4fb7633857b19bf0"
  },
  {
   "cell_type": "code",
   "source": [
    "for t in tools:\n",
    "    t.callbacks = [agentops_handler]"
   ],
   "metadata": {
    "collapsed": false
   },
   "id": "a0345f08bf1c5ecd",
   "outputs": [],
   "execution_count": null
  },
  {
   "cell_type": "markdown",
   "source": [
    "Finally, let's use our agent! Pass in the callback handler to the agent, and all the actions will be recorded in the AO Dashboard"
   ],
   "metadata": {
    "collapsed": false
   },
   "id": "12a02b833716676b"
  },
  {
   "cell_type": "code",
   "source": [
    "agent = initialize_agent(\n",
    "    tools,\n",
    "    llm,\n",
    "    agent=AgentType.CHAT_ZERO_SHOT_REACT_DESCRIPTION,\n",
    "    verbose=True,\n",
    "    callbacks=[\n",
    "        agentops_handler\n",
    "    ],  # You must pass in a callback handler to record your agent\n",
    "    handle_parsing_errors=True,\n",
    ")"
   ],
   "metadata": {
    "collapsed": false
   },
   "id": "2d2e83fa69b30add",
   "outputs": [],
   "execution_count": null
  },
  {
   "cell_type": "code",
   "source": [
    "agent.invoke(\"What comedies are playing?\", callbacks=[agentops_handler])"
   ],
   "metadata": {
    "collapsed": false
   },
   "id": "df2bc3a384493e1e",
   "outputs": [],
   "execution_count": null
  },
  {
   "cell_type": "markdown",
   "source": [
    "## Check your session\n",
    "Finally, check your run on [AgentOps](https://app.agentops.ai)\n",
    "![image.png](attachment:3d9393fa-3d6a-4193-b6c9-43413dc19d15.png)"
   ],
   "metadata": {
    "collapsed": false
   },
   "id": "2230edd919182a55"
  },
  {
   "cell_type": "markdown",
   "source": [
    "# Async Agents\n",
    "\n",
    "Several langchain agents require async callback handlers. AgentOps also supports this."
   ],
   "metadata": {
    "collapsed": false
   },
   "id": "fbf4a3ec5fa60d74"
  },
  {
   "cell_type": "code",
   "source": [
    "import os\n",
    "from langchain.chat_models import ChatOpenAI\n",
    "from langchain.agents import initialize_agent, AgentType\n",
    "from langchain.agents import tool"
   ],
   "metadata": {
    "collapsed": false
   },
   "id": "ed63a166b343e1a2",
   "outputs": [],
   "execution_count": null
  },
  {
   "cell_type": "code",
   "source": [
    "from agentops.partners.langchain_callback_handler import (\n",
    "    AsyncLangchainCallbackHandler as AgentOpsAsyncLangchainCallbackHandler,\n",
    ")"
   ],
   "metadata": {
    "collapsed": false
   },
   "id": "aa15223969f97b3d",
   "outputs": [],
   "execution_count": null
  },
  {
   "cell_type": "code",
   "source": [
    "from dotenv import load_dotenv\n",
    "\n",
    "load_dotenv()\n",
    "\n",
    "AGENTOPS_API_KEY = os.environ.get(\"AGENTOPS_API_KEY\")\n",
    "OPENAI_API_KEY = os.environ.get(\"OPENAI_API_KEY\")"
   ],
   "metadata": {
    "collapsed": false
   },
   "id": "818357483f039b60",
   "outputs": [],
   "execution_count": null
  },
  {
   "cell_type": "code",
   "source": [
    "agentops_handler = AgentOpsAsyncLangchainCallbackHandler(\n",
    "    api_key=AGENTOPS_API_KEY, tags=[\"Async Example\"]\n",
    ")\n",
    "\n",
    "llm = ChatOpenAI(\n",
    "    openai_api_key=OPENAI_API_KEY, callbacks=[agentops_handler], model=\"gpt-3.5-turbo\"\n",
    ")\n",
    "\n",
    "print(\"Agent Ops session ID: \" + str(await agentops_handler.session_id))"
   ],
   "metadata": {
    "collapsed": false
   },
   "id": "ae76cfe058f5e4e4",
   "outputs": [],
   "execution_count": null
  },
  {
   "cell_type": "code",
   "source": [
    "@tool\n",
    "def find_movie(genre) -> str:\n",
    "    \"\"\"Find available movies\"\"\"\n",
    "    if genre == \"drama\":\n",
    "        return \"Dune 2\"\n",
    "    else:\n",
    "        return \"Pineapple Express\"\n",
    "\n",
    "\n",
    "tools = [find_movie]\n",
    "\n",
    "for t in tools:\n",
    "    t.callbacks = [agentops_handler]"
   ],
   "metadata": {
    "collapsed": false
   },
   "id": "1201049766be84a7",
   "outputs": [],
   "execution_count": null
  },
  {
   "cell_type": "code",
   "source": [
    "agent = initialize_agent(\n",
    "    tools,\n",
    "    llm,\n",
    "    agent=AgentType.CHAT_ZERO_SHOT_REACT_DESCRIPTION,\n",
    "    verbose=True,\n",
    "    handle_parsing_errors=True,\n",
    "    callbacks=[agentops_handler],\n",
    ")\n",
    "\n",
    "await agent.arun(\"What comedies are playing?\")"
   ],
   "metadata": {
    "collapsed": false
   },
   "id": "8d4f9dd39b79d542",
   "outputs": [],
   "execution_count": null
  },
  {
   "cell_type": "markdown",
   "source": [
    "## Check your session\n",
    "Finally, check your run on [AgentOps](https://app.agentops.ai)\n",
    "\n",
    "![image.png](attachment:69f2121a-d437-4c09-bbbe-c76c9243ee19.png)"
   ],
   "metadata": {
    "collapsed": false
   },
   "id": "fb276a2e-f1c3-4f0f-8818-b7730e9d3ff7"
  }
 ],
 "metadata": {
  "kernelspec": {
   "display_name": "Python 3 (ipykernel)",
   "language": "python",
   "name": "python3"
  },
  "language_info": {
   "codemirror_mode": {
    "name": "ipython",
    "version": 3
   },
   "file_extension": ".py",
   "mimetype": "text/x-python",
   "name": "python",
   "nbconvert_exporter": "python",
   "pygments_lexer": "ipython3",
   "version": "3.12.2"
  }
 },
 "nbformat": 4,
 "nbformat_minor": 5
}
