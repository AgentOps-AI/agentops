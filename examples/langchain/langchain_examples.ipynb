{
 "cells": [
  {
   "cell_type": "markdown",
   "id": "e0deea1ab1db2a19",
   "metadata": {},
   "source": [
    "# AgentOps Langchain Agent Implementation\n",
    "\n",
    "Using AgentOps monitoring with Langchain is simple. We've created a LangchainCallbackHandler that will do all of the heavy lifting!"
   ]
  },
  {
   "cell_type": "markdown",
   "id": "1516a90d",
   "metadata": {},
   "source": [
    "First let's install the required packages"
   ]
  },
  {
   "cell_type": "code",
   "execution_count": null,
   "id": "e5fc8497",
   "metadata": {},
   "outputs": [],
   "source": [
    "%pip install -U langchain\n",
    "%pip install -U agentops\n",
    "%pip install -U python-dotenv"
   ]
  },
  {
   "cell_type": "markdown",
   "id": "9480596a",
   "metadata": {},
   "source": [
    "Then import them"
   ]
  },
  {
   "cell_type": "code",
   "execution_count": null,
   "id": "initial_id",
   "metadata": {},
   "outputs": [],
   "source": [
    "from langchain.chat_models import ChatOpenAI\n",
    "from langchain.agents import initialize_agent, AgentType\n",
    "from langchain.agents import tool\n",
    "import os\n",
    "from dotenv import load_dotenv"
   ]
  },
  {
   "cell_type": "markdown",
   "id": "57ddb8eca4e8a3cb",
   "metadata": {},
   "source": [
    "The only difference with using AgentOps is that we'll also import this special Callback Handler"
   ]
  },
  {
   "cell_type": "code",
   "execution_count": null,
   "id": "7e8f8cd098ad5b57",
   "metadata": {
    "collapsed": false
   },
   "outputs": [],
   "source": [
    "from agentops.partners.langchain_callback_handler import (\n",
    "    LangchainCallbackHandler as AgentOpsLangchainCallbackHandler,\n",
    ")"
   ]
  },
  {
   "cell_type": "markdown",
   "id": "25f189b0",
   "metadata": {},
   "source": [
    "Next, we'll grab our API keys. You can use dotenv like below or however else you like to load environment variables"
   ]
  },
  {
   "cell_type": "code",
   "execution_count": null,
   "id": "974514a8",
   "metadata": {},
   "outputs": [],
   "source": [
    "load_dotenv()\n",
    "OPENAI_API_KEY = os.getenv(\"OPENAI_API_KEY\") or \"<your_openai_key>\"\n",
    "AGENTOPS_API_KEY = os.getenv(\"AGENTOPS_API_KEY\") or \"<your_agentops_key>\""
   ]
  },
  {
   "cell_type": "markdown",
   "id": "51f083697b783fa4",
   "metadata": {
    "collapsed": false
   },
   "source": [
    "This is where AgentOps comes into play. Before creating our LLM instance via Langchain, first we'll create an instance of the AO LangchainCallbackHandler. After the handler is initialized, a session will be recorded automatically.\n",
    "\n",
    "Optionally pass in any tags to describe this session for easier lookup in the AO dashboard."
   ]
  },
  {
   "cell_type": "code",
   "execution_count": null,
   "id": "d432fe915edb6365",
   "metadata": {
    "collapsed": false
   },
   "outputs": [],
   "source": [
    "agentops_handler = AgentOpsLangchainCallbackHandler(\n",
    "    api_key=AGENTOPS_API_KEY, tags=[\"Langchain Example\"]\n",
    ")\n",
    "\n",
    "llm = ChatOpenAI(\n",
    "    openai_api_key=OPENAI_API_KEY, callbacks=[agentops_handler], model=\"gpt-3.5-turbo\"\n",
    ")"
   ]
  },
  {
   "cell_type": "markdown",
   "id": "38d309f07363b58e",
   "metadata": {
    "collapsed": false
   },
   "source": [
    "You can also retrieve the `session_id` of the newly created session."
   ]
  },
  {
   "cell_type": "code",
   "execution_count": null,
   "id": "f7e3a37cde3f9c22",
   "metadata": {
    "collapsed": false
   },
   "outputs": [],
   "source": [
    "print(\"Agent Ops session ID: \" + str(agentops_handler.session_id))"
   ]
  },
  {
   "cell_type": "markdown",
   "id": "42f226ace56ef6f5",
   "metadata": {
    "collapsed": false
   },
   "source": [
    "Agents generally use tools. Let's define a simple tool here. Tool usage is also recorded."
   ]
  },
  {
   "cell_type": "code",
   "execution_count": null,
   "id": "c103a2edbe837abd",
   "metadata": {
    "collapsed": false
   },
   "outputs": [],
   "source": [
    "@tool\n",
    "def find_movie(genre) -> str:\n",
    "    \"\"\"Find available movies\"\"\"\n",
    "    if genre == \"drama\":\n",
    "        return \"Dune 2\"\n",
    "    else:\n",
    "        return \"Pineapple Express\"\n",
    "\n",
    "\n",
    "tools = [find_movie]"
   ]
  },
  {
   "cell_type": "markdown",
   "id": "4fb7633857b19bf0",
   "metadata": {
    "collapsed": false
   },
   "source": [
    "For each tool, you need to also add the callback handler"
   ]
  },
  {
   "cell_type": "code",
   "execution_count": null,
   "id": "a0345f08bf1c5ecd",
   "metadata": {
    "collapsed": false
   },
   "outputs": [],
   "source": [
    "for t in tools:\n",
    "    t.callbacks = [agentops_handler]"
   ]
  },
  {
   "cell_type": "markdown",
   "id": "12a02b833716676b",
   "metadata": {
    "collapsed": false
   },
   "source": [
    "Finally, let's use our agent! Pass in the callback handler to the agent, and all the actions will be recorded in the AO Dashboard"
   ]
  },
  {
   "cell_type": "code",
   "execution_count": null,
   "id": "2d2e83fa69b30add",
   "metadata": {
    "collapsed": false
   },
   "outputs": [],
   "source": [
    "agent = initialize_agent(\n",
    "    tools,\n",
    "    llm,\n",
    "    agent=AgentType.CHAT_ZERO_SHOT_REACT_DESCRIPTION,\n",
    "    verbose=True,\n",
    "    callbacks=[\n",
    "        agentops_handler\n",
    "    ],  # You must pass in a callback handler to record your agent\n",
    "    handle_parsing_errors=True,\n",
    ")"
   ]
  },
  {
   "cell_type": "code",
   "execution_count": null,
   "id": "df2bc3a384493e1e",
   "metadata": {
    "collapsed": false
   },
   "outputs": [],
   "source": [
    "agent.run(\"What comedies are playing?\", callbacks=[agentops_handler])"
   ]
  },
  {
   "cell_type": "markdown",
   "id": "2230edd919182a55",
   "metadata": {
    "collapsed": false
   },
   "source": [
    "## Check your session\n",
    "Finally, check your run on [AgentOps](https://app.agentops.ai)\n",
    "![image.png](attachment:3d9393fa-3d6a-4193-b6c9-43413dc19d15.png)"
   ]
  },
  {
   "cell_type": "markdown",
   "id": "fbf4a3ec5fa60d74",
   "metadata": {
    "collapsed": false
   },
   "source": [
    "# Async Agents\n",
    "\n",
    "Several langchain agents require async callback handlers. AgentOps also supports this."
   ]
  },
  {
   "cell_type": "code",
   "execution_count": null,
   "id": "ed63a166b343e1a2",
   "metadata": {
    "collapsed": false
   },
   "outputs": [],
   "source": [
    "from langchain.chat_models import ChatOpenAI\n",
    "from langchain.agents import initialize_agent, AgentType\n",
    "from langchain.agents import tool\n",
    "import os\n",
    "from dotenv import load_dotenv"
   ]
  },
  {
   "cell_type": "code",
   "execution_count": null,
   "id": "aa15223969f97b3d",
   "metadata": {
    "collapsed": false
   },
   "outputs": [],
   "source": [
    "from agentops.partners.langchain_callback_handler import (\n",
    "    AsyncLangchainCallbackHandler as AgentOpsAsyncLangchainCallbackHandler,\n",
    ")"
   ]
  },
  {
   "cell_type": "code",
   "execution_count": null,
   "id": "824e1d44",
   "metadata": {},
   "outputs": [],
   "source": [
    "load_dotenv()\n",
    "OPENAI_API_KEY = os.getenv(\"OPENAI_API_KEY\") or \"<your_openai_key>\"\n",
    "AGENTOPS_API_KEY = os.getenv(\"AGENTOPS_API_KEY\") or \"<your_agentops_key>\""
   ]
  },
  {
   "cell_type": "code",
   "execution_count": null,
   "id": "ae76cfe058f5e4e4",
   "metadata": {
    "collapsed": false
   },
   "outputs": [],
   "source": [
    "agentops_handler = AgentOpsAsyncLangchainCallbackHandler(\n",
    "    api_key=AGENTOPS_API_KEY, tags=[\"Async Example\"]\n",
    ")\n",
    "\n",
    "llm = ChatOpenAI(\n",
    "    openai_api_key=OPENAI_API_KEY, callbacks=[agentops_handler], model=\"gpt-3.5-turbo\"\n",
    ")\n",
    "\n",
    "print(\"Agent Ops session ID: \" + str(await agentops_handler.session_id))"
   ]
  },
  {
   "cell_type": "code",
   "execution_count": null,
   "id": "1201049766be84a7",
   "metadata": {
    "collapsed": false
   },
   "outputs": [],
   "source": [
    "@tool\n",
    "def find_movie(genre) -> str:\n",
    "    \"\"\"Find available movies\"\"\"\n",
    "    if genre == \"drama\":\n",
    "        return \"Dune 2\"\n",
    "    else:\n",
    "        return \"Pineapple Express\"\n",
    "\n",
    "\n",
    "tools = [find_movie]\n",
    "\n",
    "for t in tools:\n",
    "    t.callbacks = [agentops_handler]"
   ]
  },
  {
   "cell_type": "code",
   "execution_count": null,
   "id": "8d4f9dd39b79d542",
   "metadata": {
    "collapsed": false
   },
   "outputs": [],
   "source": [
    "agent = initialize_agent(\n",
    "    tools,\n",
    "    llm,\n",
    "    agent=AgentType.CHAT_ZERO_SHOT_REACT_DESCRIPTION,\n",
    "    verbose=True,\n",
    "    handle_parsing_errors=True,\n",
    "    callbacks=[agentops_handler],\n",
    ")\n",
    "\n",
    "await agent.arun(\"What comedies are playing?\")"
   ]
  },
  {
   "cell_type": "markdown",
   "id": "fb276a2e-f1c3-4f0f-8818-b7730e9d3ff7",
   "metadata": {
    "collapsed": false
   },
   "source": [
    "## Check your session\n",
    "Finally, check your run on [AgentOps](https://app.agentops.ai)\n",
    "\n",
    "![image.png](attachment:69f2121a-d437-4c09-bbbe-c76c9243ee19.png)"
   ]
  }
 ],
 "metadata": {
  "kernelspec": {
   "display_name": "Python 3 (ipykernel)",
   "language": "python",
   "name": "python3"
  },
  "language_info": {
   "codemirror_mode": {
    "name": "ipython",
    "version": 3
   },
   "file_extension": ".py",
   "mimetype": "text/x-python",
   "name": "python",
   "nbconvert_exporter": "python",
   "pygments_lexer": "ipython3",
   "version": "3.12.2"
  }
 },
 "nbformat": 4,
 "nbformat_minor": 5
}
