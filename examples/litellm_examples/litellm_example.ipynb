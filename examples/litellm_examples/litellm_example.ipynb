{
 "cells": [
  {
   "cell_type": "markdown",
   "metadata": {},
   "source": [
    "### NOTE:\n",
    "AgentOps requires that you import and call LiteLLM differently than LiteLLM's documentation.  \n",
    "Instead of\n",
    "``` python\n",
    "from litellm import completion\n",
    "completion()\n",
    "```\n",
    "You should import and call like this:\n",
    "``` python\n",
    "import litellm\n",
    "litellm.completion()\n",
    "```\n",
    "\n",
    "Please see examples below\n",
    "\n",
    "[See our LiteLLM docs](https://docs.agentops.ai/v1/integrations/litellm)"
   ]
  },
  {
   "cell_type": "markdown",
   "metadata": {},
   "source": [
    "First let's install the required packages"
   ]
  },
  {
   "cell_type": "code",
   "execution_count": null,
   "metadata": {},
   "outputs": [],
   "source": [
    "%pip install -U litellm\n",
    "%pip install -U agentops\n",
    "%pip install -U python-dotenv"
   ]
  },
  {
   "cell_type": "markdown",
   "metadata": {},
   "source": [
    "Then import them"
   ]
  },
  {
   "cell_type": "code",
   "execution_count": 6,
   "metadata": {},
   "outputs": [],
   "source": [
    "import litellm\n",
    "import agentops\n",
    "import os\n",
    "from dotenv import load_dotenv"
   ]
  },
  {
   "cell_type": "markdown",
   "metadata": {},
   "source": [
    "Next, we'll set our API keys. There are several ways to do this, the code below is just the most foolproof way for the purposes of this notebook. It accounts for both users who use environment variables and those who just want to set the API Key here in this notebook.\n",
    "\n",
    "[Get an AgentOps API key](https://agentops.ai/settings/projects)\n",
    "\n",
    "1. Create an environment variable in a .env file or other method. By default, the AgentOps `init()` function will look for an environment variable named `AGENTOPS_API_KEY`. Or...\n",
    "\n",
    "2. Replace `<your_agentops_key>` below and pass in the optional `api_key` parameter to the AgentOps `init(api_key=...)` function. Remember not to commit your API key to a public repo!"
   ]
  },
  {
   "cell_type": "markdown",
   "metadata": {},
   "source": [
    "LiteLLM allows you to use several models including from OpenAI, Llama, Mistral, Claude, Gemini, Gemma, Dall-E, Whisper, and more all using the OpenAI format. To use a different model all you need to change are the API KEY and model (litellm.completion(model=\"...\"))."
   ]
  },
  {
   "cell_type": "code",
   "execution_count": 7,
   "metadata": {},
   "outputs": [],
   "source": [
    "load_dotenv()\n",
    "litellm.callbacks = [\"otel\"]\n",
    "OPENAI_API_KEY = (\n",
    "    os.getenv(\"OPENAI_API_KEY\") or \"<your_openai_key>\"\n",
    ")  # or the provider of your choosing\n",
    "AGENTOPS_API_KEY = os.getenv(\"AGENTOPS_API_KEY\") or \"<your_agentops_key>\""
   ]
  },
  {
   "cell_type": "code",
   "execution_count": 8,
   "metadata": {},
   "outputs": [
    {
     "name": "stderr",
     "output_type": "stream",
     "text": [
      "Attempting to instrument while already instrumented\n",
      "Attempting to instrument while already instrumented\n",
      "Attempting to instrument while already instrumented\n",
      "Attempting to instrument while already instrumented\n",
      "Attempting to instrument while already instrumented\n",
      "Attempting to instrument while already instrumented\n",
      "Attempting to instrument while already instrumented\n",
      "Attempting to instrument while already instrumented\n"
     ]
    },
    {
     "name": "stdout",
     "output_type": "stream",
     "text": [
      "Initializing OTLPSpanExporter with endpoint: https://otlp.agentops.cloud/v1/traces\n"
     ]
    },
    {
     "data": {
      "text/plain": [
       "<agentops.session.session.Session at 0x14006a3dcd0>"
      ]
     },
     "execution_count": 8,
     "metadata": {},
     "output_type": "execute_result"
    },
    {
     "name": "stdout",
     "output_type": "stream",
     "text": [
      "Exporting spans: [<opentelemetry.sdk.trace.ReadableSpan object at 0x00000140317E7110>]\n"
     ]
    }
   ],
   "source": [
    "agentops.init(AGENTOPS_API_KEY, default_tags=[\"litellm-example\"])"
   ]
  },
  {
   "cell_type": "code",
   "execution_count": 9,
   "metadata": {},
   "outputs": [
    {
     "name": "stdout",
     "output_type": "stream",
     "text": [
      "Setting span attribute: gen_ai.system = OpenAI\n",
      "Setting span attribute: gen_ai.request.model = gpt-4\n",
      "Setting span attribute: gen_ai.request.max_tokens = None\n",
      "Setting span attribute: gen_ai.request.temperature = None\n",
      "Setting span attribute: gen_ai.request.top_p = None\n",
      "Setting span attribute: llm.frequency_penalty = None\n",
      "Setting span attribute: llm.presence_penalty = None\n",
      "Setting span attribute: llm.user = None\n",
      "Setting span attribute: llm.headers = None\n",
      "Setting span attribute: llm.headers = {'X-Stainless-Raw-Response': 'true'}\n",
      "Setting span attribute: llm.is_streaming = False\n",
      "Setting span attribute: gen_ai.openai.api_base = https://api.openai.com/v1/\n",
      "Setting span attribute: gen_ai.prompt.0.role = user\n",
      "Setting span attribute: gen_ai.prompt.0.content = Write a 12 word poem about secret agents.\n",
      "Setting span attribute: gen_ai.response.model = gpt-4-0613\n",
      "Setting span attribute: gen_ai.response.id = chatcmpl-B888PQ44MK7lj2OujRUvQJeWslyyC\n",
      "Setting span attribute: gen_ai.openai.system_fingerprint = None\n",
      "Setting span attribute: llm.usage.total_tokens = 35\n",
      "Setting span attribute: gen_ai.usage.completion_tokens = 18\n",
      "Setting span attribute: gen_ai.usage.prompt_tokens = 17\n",
      "Setting span attribute: gen_ai.completion.0.finish_reason = stop\n",
      "Setting span attribute: gen_ai.completion.0.role = assistant\n",
      "Setting span attribute: gen_ai.completion.0.content = Shadows dance, secrets whisper, agents lurk in silent play of discreet intrigue.\n",
      "\n",
      "Shadows dance, secrets whisper, agents lurk in silent play of discreet intrigue.\n",
      "\n"
     ]
    }
   ],
   "source": [
    "messages = [{\"role\": \"user\", \"content\": \"Write a 12 word poem about secret agents.\"}]\n",
    "response = litellm.completion(\n",
    "    model=\"gpt-4\", messages=messages\n",
    ")  # or the model of your choosing\n",
    "print(response.choices[0].message.content)"
   ]
  },
  {
   "cell_type": "code",
   "execution_count": 10,
   "metadata": {},
   "outputs": [],
   "source": [
    "agentops.end_session(\"Success\")"
   ]
  }
 ],
 "metadata": {
  "kernelspec": {
   "display_name": ".venv",
   "language": "python",
   "name": "python3"
  },
  "language_info": {
   "codemirror_mode": {
    "name": "ipython",
    "version": 3
   },
   "file_extension": ".py",
   "mimetype": "text/x-python",
   "name": "python",
   "nbconvert_exporter": "python",
   "pygments_lexer": "ipython3",
   "version": "3.11.9"
  }
 },
 "nbformat": 4,
 "nbformat_minor": 2
}
