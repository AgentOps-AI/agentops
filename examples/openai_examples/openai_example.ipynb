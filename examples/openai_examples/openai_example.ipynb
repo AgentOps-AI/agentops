{
 "cells": [
  {
   "cell_type": "markdown",
   "id": "bd5cda33",
   "metadata": {},
   "source": [
    "# Story Generation with OpenAI and AgentOps\n",
    "\n",
    "We are going to create a simple chatbot that creates stories based on a prompt. The chatbot will use GPT-3.5-turbo to generate stories based on user prompts.\n",
    "\n",
    "We will track the chatbot with AgentOps and see how it performs!"
   ]
  },
  {
   "cell_type": "markdown",
   "id": "5eb7d92a",
   "metadata": {},
   "source": [
    "First let's install the required packages"
   ]
  },
  {
   "cell_type": "code",
   "execution_count": 1,
   "id": "dadc8cb0",
   "metadata": {},
   "outputs": [
    {
     "name": "stdout",
     "output_type": "stream",
     "text": [
      "Collecting openai\n",
      "  Downloading openai-1.57.4-py3-none-any.whl.metadata (24 kB)\n",
      "Requirement already satisfied: anyio<5,>=3.5.0 in /home/ubuntu/.pyenv/versions/3.12.7/lib/python3.12/site-packages (from openai) (4.7.0)\n",
      "Collecting distro<2,>=1.7.0 (from openai)\n",
      "  Downloading distro-1.9.0-py3-none-any.whl.metadata (6.8 kB)\n",
      "Requirement already satisfied: httpx<1,>=0.23.0 in /home/ubuntu/.pyenv/versions/3.12.7/lib/python3.12/site-packages (from openai) (0.28.1)\n",
      "Collecting jiter<1,>=0.4.0 (from openai)\n",
      "  Downloading jiter-0.8.2-cp312-cp312-manylinux_2_17_x86_64.manylinux2014_x86_64.whl.metadata (5.2 kB)\n",
      "Requirement already satisfied: pydantic<3,>=1.9.0 in /home/ubuntu/.pyenv/versions/3.12.7/lib/python3.12/site-packages (from openai) (2.10.3)\n",
      "Requirement already satisfied: sniffio in /home/ubuntu/.pyenv/versions/3.12.7/lib/python3.12/site-packages (from openai) (1.3.1)\n",
      "Collecting tqdm>4 (from openai)\n",
      "  Downloading tqdm-4.67.1-py3-none-any.whl.metadata (57 kB)\n",
      "Requirement already satisfied: typing-extensions<5,>=4.11 in /home/ubuntu/.pyenv/versions/3.12.7/lib/python3.12/site-packages (from openai) (4.12.2)\n",
      "Requirement already satisfied: idna>=2.8 in /home/ubuntu/.pyenv/versions/3.12.7/lib/python3.12/site-packages (from anyio<5,>=3.5.0->openai) (3.10)\n",
      "Requirement already satisfied: certifi in /home/ubuntu/.pyenv/versions/3.12.7/lib/python3.12/site-packages (from httpx<1,>=0.23.0->openai) (2024.8.30)\n",
      "Requirement already satisfied: httpcore==1.* in /home/ubuntu/.pyenv/versions/3.12.7/lib/python3.12/site-packages (from httpx<1,>=0.23.0->openai) (1.0.7)\n",
      "Requirement already satisfied: h11<0.15,>=0.13 in /home/ubuntu/.pyenv/versions/3.12.7/lib/python3.12/site-packages (from httpcore==1.*->httpx<1,>=0.23.0->openai) (0.14.0)\n",
      "Requirement already satisfied: annotated-types>=0.6.0 in /home/ubuntu/.pyenv/versions/3.12.7/lib/python3.12/site-packages (from pydantic<3,>=1.9.0->openai) (0.7.0)\n",
      "Requirement already satisfied: pydantic-core==2.27.1 in /home/ubuntu/.pyenv/versions/3.12.7/lib/python3.12/site-packages (from pydantic<3,>=1.9.0->openai) (2.27.1)\n",
      "Downloading openai-1.57.4-py3-none-any.whl (390 kB)\n",
      "Downloading distro-1.9.0-py3-none-any.whl (20 kB)\n",
      "Downloading jiter-0.8.2-cp312-cp312-manylinux_2_17_x86_64.manylinux2014_x86_64.whl (345 kB)\n",
      "Downloading tqdm-4.67.1-py3-none-any.whl (78 kB)\n",
      "Installing collected packages: tqdm, jiter, distro, openai\n",
      "Successfully installed distro-1.9.0 jiter-0.8.2 openai-1.57.4 tqdm-4.67.1\n",
      "\n",
      "\u001b[1m[\u001b[0m\u001b[34;49mnotice\u001b[0m\u001b[1;39;49m]\u001b[0m\u001b[39;49m A new release of pip is available: \u001b[0m\u001b[31;49m24.2\u001b[0m\u001b[39;49m -> \u001b[0m\u001b[32;49m24.3.1\u001b[0m\n",
      "\u001b[1m[\u001b[0m\u001b[34;49mnotice\u001b[0m\u001b[1;39;49m]\u001b[0m\u001b[39;49m To update, run: \u001b[0m\u001b[32;49mpip install --upgrade pip\u001b[0m\n",
      "Note: you may need to restart the kernel to use updated packages.\n",
      "Requirement already satisfied: agentops in /home/ubuntu/.pyenv/versions/3.12.7/lib/python3.12/site-packages (0.3.21)\n",
      "Requirement already satisfied: requests<3.0.0,>=2.0.0 in /home/ubuntu/.pyenv/versions/3.12.7/lib/python3.12/site-packages (from agentops) (2.32.3)\n",
      "Requirement already satisfied: psutil<6.1.0,>=5.9.8 in /home/ubuntu/.pyenv/versions/3.12.7/lib/python3.12/site-packages (from agentops) (6.0.0)\n",
      "Requirement already satisfied: termcolor<2.5.0,>=2.3.0 in /home/ubuntu/.pyenv/versions/3.12.7/lib/python3.12/site-packages (from agentops) (2.4.0)\n",
      "Requirement already satisfied: PyYAML<7.0,>=5.3 in /home/ubuntu/.pyenv/versions/3.12.7/lib/python3.12/site-packages (from agentops) (6.0.2)\n",
      "Requirement already satisfied: opentelemetry-api<2.0.0,>=1.22.0 in /home/ubuntu/.pyenv/versions/3.12.7/lib/python3.12/site-packages (from agentops) (1.28.2)\n",
      "Requirement already satisfied: opentelemetry-sdk<2.0.0,>=1.22.0 in /home/ubuntu/.pyenv/versions/3.12.7/lib/python3.12/site-packages (from agentops) (1.28.2)\n",
      "Requirement already satisfied: opentelemetry-exporter-otlp-proto-http<2.0.0,>=1.22.0 in /home/ubuntu/.pyenv/versions/3.12.7/lib/python3.12/site-packages (from agentops) (1.28.2)\n",
      "Requirement already satisfied: deprecated>=1.2.6 in /home/ubuntu/.pyenv/versions/3.12.7/lib/python3.12/site-packages (from opentelemetry-api<2.0.0,>=1.22.0->agentops) (1.2.15)\n",
      "Requirement already satisfied: importlib-metadata<=8.5.0,>=6.0 in /home/ubuntu/.pyenv/versions/3.12.7/lib/python3.12/site-packages (from opentelemetry-api<2.0.0,>=1.22.0->agentops) (8.5.0)\n",
      "Requirement already satisfied: googleapis-common-protos~=1.52 in /home/ubuntu/.pyenv/versions/3.12.7/lib/python3.12/site-packages (from opentelemetry-exporter-otlp-proto-http<2.0.0,>=1.22.0->agentops) (1.66.0)\n",
      "Requirement already satisfied: opentelemetry-exporter-otlp-proto-common==1.28.2 in /home/ubuntu/.pyenv/versions/3.12.7/lib/python3.12/site-packages (from opentelemetry-exporter-otlp-proto-http<2.0.0,>=1.22.0->agentops) (1.28.2)\n",
      "Requirement already satisfied: opentelemetry-proto==1.28.2 in /home/ubuntu/.pyenv/versions/3.12.7/lib/python3.12/site-packages (from opentelemetry-exporter-otlp-proto-http<2.0.0,>=1.22.0->agentops) (1.28.2)\n",
      "Requirement already satisfied: protobuf<6.0,>=5.0 in /home/ubuntu/.pyenv/versions/3.12.7/lib/python3.12/site-packages (from opentelemetry-proto==1.28.2->opentelemetry-exporter-otlp-proto-http<2.0.0,>=1.22.0->agentops) (5.29.1)\n",
      "Requirement already satisfied: opentelemetry-semantic-conventions==0.49b2 in /home/ubuntu/.pyenv/versions/3.12.7/lib/python3.12/site-packages (from opentelemetry-sdk<2.0.0,>=1.22.0->agentops) (0.49b2)\n",
      "Requirement already satisfied: typing-extensions>=3.7.4 in /home/ubuntu/.pyenv/versions/3.12.7/lib/python3.12/site-packages (from opentelemetry-sdk<2.0.0,>=1.22.0->agentops) (4.12.2)\n",
      "Requirement already satisfied: charset-normalizer<4,>=2 in /home/ubuntu/.pyenv/versions/3.12.7/lib/python3.12/site-packages (from requests<3.0.0,>=2.0.0->agentops) (3.4.0)\n",
      "Requirement already satisfied: idna<4,>=2.5 in /home/ubuntu/.pyenv/versions/3.12.7/lib/python3.12/site-packages (from requests<3.0.0,>=2.0.0->agentops) (3.10)\n",
      "Requirement already satisfied: urllib3<3,>=1.21.1 in /home/ubuntu/.pyenv/versions/3.12.7/lib/python3.12/site-packages (from requests<3.0.0,>=2.0.0->agentops) (2.2.3)\n",
      "Requirement already satisfied: certifi>=2017.4.17 in /home/ubuntu/.pyenv/versions/3.12.7/lib/python3.12/site-packages (from requests<3.0.0,>=2.0.0->agentops) (2024.8.30)\n",
      "Requirement already satisfied: wrapt<2,>=1.10 in /home/ubuntu/.pyenv/versions/3.12.7/lib/python3.12/site-packages (from deprecated>=1.2.6->opentelemetry-api<2.0.0,>=1.22.0->agentops) (1.17.0)\n",
      "Requirement already satisfied: zipp>=3.20 in /home/ubuntu/.pyenv/versions/3.12.7/lib/python3.12/site-packages (from importlib-metadata<=8.5.0,>=6.0->opentelemetry-api<2.0.0,>=1.22.0->agentops) (3.21.0)\n",
      "\n",
      "\u001b[1m[\u001b[0m\u001b[34;49mnotice\u001b[0m\u001b[1;39;49m]\u001b[0m\u001b[39;49m A new release of pip is available: \u001b[0m\u001b[31;49m24.2\u001b[0m\u001b[39;49m -> \u001b[0m\u001b[32;49m24.3.1\u001b[0m\n",
      "\u001b[1m[\u001b[0m\u001b[34;49mnotice\u001b[0m\u001b[1;39;49m]\u001b[0m\u001b[39;49m To update, run: \u001b[0m\u001b[32;49mpip install --upgrade pip\u001b[0m\n",
      "Note: you may need to restart the kernel to use updated packages.\n",
      "Requirement already satisfied: python-dotenv in /home/ubuntu/.pyenv/versions/3.12.7/lib/python3.12/site-packages (1.0.1)\n",
      "\n",
      "\u001b[1m[\u001b[0m\u001b[34;49mnotice\u001b[0m\u001b[1;39;49m]\u001b[0m\u001b[39;49m A new release of pip is available: \u001b[0m\u001b[31;49m24.2\u001b[0m\u001b[39;49m -> \u001b[0m\u001b[32;49m24.3.1\u001b[0m\n",
      "\u001b[1m[\u001b[0m\u001b[34;49mnotice\u001b[0m\u001b[1;39;49m]\u001b[0m\u001b[39;49m To update, run: \u001b[0m\u001b[32;49mpip install --upgrade pip\u001b[0m\n",
      "Note: you may need to restart the kernel to use updated packages.\n"
     ]
    }
   ],
   "source": [
    "%pip install -U openai\n",
    "%pip install -U agentops\n",
    "%pip install -U python-dotenv"
   ]
  },
  {
   "cell_type": "markdown",
   "id": "18e8cf75",
   "metadata": {},
   "source": [
    "Then import them"
   ]
  },
  {
   "cell_type": "code",
   "execution_count": 2,
   "id": "9e5e8047",
   "metadata": {},
   "outputs": [],
   "source": [
    "from openai import OpenAI\n",
    "import agentops\n",
    "import os\n",
    "from dotenv import load_dotenv"
   ]
  },
  {
   "cell_type": "markdown",
   "id": "11b21871",
   "metadata": {},
   "source": [
    "Next, we'll grab our API keys. You can use dotenv like below or however else you like to load environment variables"
   ]
  },
  {
   "cell_type": "code",
   "execution_count": 3,
   "id": "ca0117b6",
   "metadata": {},
   "outputs": [],
   "source": [
    "load_dotenv()\n",
    "OPENAI_API_KEY = os.getenv(\"OPENAI_API_KEY\")\n",
    "AGENTOPS_API_KEY = os.getenv(\"AGENTOPS_API_KEY\")"
   ]
  },
  {
   "cell_type": "markdown",
   "id": "181fa55d",
   "metadata": {},
   "source": [
    "Next we initialize the AgentOps client."
   ]
  },
  {
   "cell_type": "code",
   "execution_count": 4,
   "id": "b410946a",
   "metadata": {},
   "outputs": [
    {
     "name": "stderr",
     "output_type": "stream",
     "text": [
      "🖇 AgentOps: \u001b[34m\u001b[34mSession Replay: https://app.agentops.ai/drilldown?session_id=ef605735-3248-4380-8822-7d855f482cb0\u001b[0m\u001b[0m\n"
     ]
    },
    {
     "data": {
      "text/plain": [
       "<agentops.session.Session at 0x7f208dc17440>"
      ]
     },
     "execution_count": 4,
     "metadata": {},
     "output_type": "execute_result"
    }
   ],
   "source": [
    "agentops.init(AGENTOPS_API_KEY, default_tags=[\"story-generation-example\"])"
   ]
  },
  {
   "cell_type": "markdown",
   "id": "3ac5932a",
   "metadata": {},
   "source": [
    "And we are all set! Note the session url above. We will use it to track the chatbot.\n",
    "\n",
    "Let's create a simple chatbot that generates stories."
   ]
  },
  {
   "cell_type": "code",
   "execution_count": 5,
   "id": "35417694",
   "metadata": {},
   "outputs": [],
   "source": [
    "client = OpenAI(api_key=OPENAI_API_KEY)\n",
    "\n",
    "system_prompt = \"\"\"\n",
    "You are a master storyteller, with the ability to create vivid and engaging stories.\n",
    "You have experience in writing for children and adults alike.\n",
    "You are given a prompt and you need to generate a story based on the prompt.\n",
    "\"\"\"\n",
    "\n",
    "user_prompt = \"Write a story about a cyber-warrior trapped in the imperial time period.\"\n",
    "\n",
    "messages = [\n",
    "    {\"role\": \"system\", \"content\": system_prompt},\n",
    "    {\"role\": \"user\", \"content\": user_prompt},\n",
    "]"
   ]
  },
  {
   "cell_type": "code",
   "execution_count": 6,
   "id": "9f3b000c",
   "metadata": {},
   "outputs": [
    {
     "name": "stdout",
     "output_type": "stream",
     "text": [
      "Once upon a time, in the year 3030, when technology reigned supreme and cyber-warriors were the heroes of the digital realm, there lived a skilled hacker named Nova. With her quick wit and unparalleled coding abilities, Nova was known far and wide as one of the most formidable cyber-warriors in the virtual world.\n",
      "\n",
      "One fateful day, during a routine mission to infiltrate a highly secure government database, Nova found herself caught in a powerful electromagnetic storm that sent her spiraling through time and space. When she finally regained consciousness, she was bewildered to find herself in a vastly different world - the imperial time period.\n",
      "\n",
      "Dressed in her futuristic cyber-armor, Nova stood out like a beacon amidst the ancient architecture and bustling markets of the imperial city. The people stared in awe and fear at this strange warrior who had seemingly appeared out of thin air. Nova quickly realized that her technology was useless in this time period, as there were no networks or devices for her to connect to.\n",
      "\n",
      "As Nova tried to make sense of her situation, she was approached by a group of rebels who had heard of her arrival and believed she was a sign from the heavens. They begged her to use her otherworldly powers to help them overthrow the oppressive imperial regime that had plagued their land for centuries.\n",
      "\n",
      "Despite feeling out of place and powerless without her technology, Nova saw an opportunity to make a difference in this new world. Drawing on her skills as a hacker, she devised a plan to disrupt the imperial forces using the knowledge she had gained from her time in the digital realm.\n",
      "\n",
      "With her guidance, the rebels launched a series of coordinated attacks on the imperial forces, causing chaos and confusion among their ranks. Nova's strategic prowess and quick thinking proved invaluable as they gained ground in their fight for freedom.\n",
      "\n",
      "As the final battle raged on, Nova found herself face to face with the imperial warlord, a formidable foe armed with ancient weapons and unwavering determination. In a daring move, Nova used her knowledge of technology to outsmart the warlord, disabling his weapons and securing victory for the rebels.\n",
      "\n",
      "In the aftermath of the battle, Nova was hailed as a hero by the people, a legendary figure whose bravery and cunning had changed the course of history. Despite the challenges she faced in this unfamiliar world, Nova had proven that a warrior's strength lies not only in their technology, but in their courage and determination to fight for what is right.\n",
      "\n",
      "And so, Nova's legend lived on in the annals of history, a cyber-warrior who had defied the odds and triumphed against all odds in the imperial time period.\n"
     ]
    }
   ],
   "source": [
    "response = client.chat.completions.create(\n",
    "    model=\"gpt-3.5-turbo\",\n",
    "    messages=messages,\n",
    ")\n",
    "\n",
    "print(response.choices[0].message.content)"
   ]
  },
  {
   "cell_type": "markdown",
   "id": "96b5d2f3",
   "metadata": {},
   "source": [
    "The response is a string that contains the story. We can track this with AgentOps by navigating to the session url and viewing the run.\n",
    "\n",
    "## Streaming Version\n",
    "We will demonstrate the streaming version of the API."
   ]
  },
  {
   "cell_type": "code",
   "execution_count": 7,
   "id": "6b89d3b9",
   "metadata": {},
   "outputs": [
    {
     "name": "stdout",
     "output_type": "stream",
     "text": [
      "In the year 2999, in a world where technology reigned supreme, there lived a skilled cyber-warrior named Orion. Orion was known throughout the digital realm for his expertise in battling malicious viruses and rogue AI. Armed with his trusty cyber-armour and razor-sharp intellect, he was a force to be reckoned with.\n",
      "\n",
      "One fateful day, while Orion was battling a particularly nefarious cyber-villain known as Malwarex, a sudden power surge disrupted his digital interface. When the surge passed, Orion found himself in a strange and unfamiliar place. Gone were the neon-lit skyscrapers and holographic displays of his world. Instead, he stood in the midst of a bustling imperial city, surrounded by cobblestone streets and horse-drawn carriages.\n",
      "\n",
      "Confused and disoriented, Orion realized with a shock that he had been transported back in time to the imperial era. As he tried to make sense of his new surroundings, he caught sight of a group of imperial guards approaching him with suspicion in their eyes.\n",
      "\n",
      "Thinking quickly, Orion activated his cyber-armour, the tell-tale glow of the technology drawing gasps of awe from the onlookers. The guards, seeing his formidable appearance, bowed before him, mistaking him for a powerful warrior from a distant land.\n",
      "\n",
      "Embracing his new role, Orion decided to make the best of his unexpected situation. Using his cybernetic skills to aid the people of the imperial city, he quickly became a legendary figure, known as the \"Cyber-Knight.\" With each day that passed, Orion learned more about the customs and traditions of the imperial era, while also using his futuristic knowledge to solve problems and protect the innocent.\n",
      "\n",
      "But as time went on, Orion began to feel a sense of longing for his own time and his friends in the digital realm. Despite his growing reputation and the admiration of the imperial citizens, he knew deep down that he didn't belong in this era.\n",
      "\n",
      "One night, as he gazed up at the stars, Orion whispered a wish into the cosmos, hoping to find a way back to his own time. And just as suddenly as he had been transported to the imperial era, a swirling vortex of digital light enveloped him, whisking him back to the world he knew.\n",
      "\n",
      "As he materialized back in his own time, Orion let out a sigh of relief, grateful to be back among the familiar sights and sounds of his cyber-realm. But as he looked back on his time in the imperial era, he knew that he would always cherish the memories of his adventures as the Cyber-Knight, a hero out of time."
     ]
    }
   ],
   "source": [
    "stream = client.chat.completions.create(\n",
    "    model=\"gpt-3.5-turbo\",\n",
    "    messages=messages,\n",
    "    stream=True,\n",
    ")\n",
    "\n",
    "for chunk in stream:\n",
    "    if chunk.choices[0].delta.content is not None:\n",
    "        print(chunk.choices[0].delta.content, end=\"\")"
   ]
  },
  {
   "cell_type": "markdown",
   "id": "caa3da92",
   "metadata": {},
   "source": [
    "Note that the response is a generator that yields chunks of the story. We can track this with AgentOps by navigating to the session url and viewing the run."
   ]
  },
  {
   "cell_type": "code",
   "execution_count": 8,
   "id": "fc805558",
   "metadata": {},
   "outputs": [
    {
     "name": "stderr",
     "output_type": "stream",
     "text": [
      "🖇 AgentOps: Session Stats - \u001b[1mDuration:\u001b[0m 10.7s | \u001b[1mCost:\u001b[0m $0.001659 | \u001b[1mLLMs:\u001b[0m 2 | \u001b[1mTools:\u001b[0m 0 | \u001b[1mActions:\u001b[0m 0 | \u001b[1mErrors:\u001b[0m 0\n",
      "🖇 AgentOps: \u001b[34m\u001b[34mSession Replay: https://app.agentops.ai/drilldown?session_id=ef605735-3248-4380-8822-7d855f482cb0\u001b[0m\u001b[0m\n"
     ]
    }
   ],
   "source": [
    "agentops.end_session(end_state=\"Success\", end_state_reason=\"The story was generated successfully.\")"
   ]
  },
  {
   "cell_type": "markdown",
   "id": "238775c5",
   "metadata": {},
   "source": [
    "We end the session with a success state and a success reason. This is useful if you want to track the success or failure of the chatbot. In that case you can set the end state to failure and provide a reason. By default the session will have an indeterminate end state.\n",
    "\n",
    "All done!"
   ]
  }
 ],
 "metadata": {
  "kernelspec": {
   "display_name": "Python 3 (ipykernel)",
   "language": "python",
   "name": "python3"
  },
  "language_info": {
   "codemirror_mode": {
    "name": "ipython",
    "version": 3
   },
   "file_extension": ".py",
   "mimetype": "text/x-python",
   "name": "python",
   "nbconvert_exporter": "python",
   "pygments_lexer": "ipython3",
   "version": "3.12.7"
  }
 },
 "nbformat": 4,
 "nbformat_minor": 5
}
