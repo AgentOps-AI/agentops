{
 "cells": [
  {
   "cell_type": "markdown",
   "id": "a457cd46",
   "metadata": {},
   "source": [
    "# Fireworks Example\n",
    "\n",
    "We are going to create a simple chatbot that creates stories based on a prompt. The chatbot will use the Llama-v3 LLM to generate the story using a user prompt.\n",
    "\n",
    "We will track the chatbot with AgentOps and see how it performs!"
   ]
  },
  {
   "cell_type": "markdown",
   "id": "d141e480",
   "metadata": {},
   "source": [
    "First let's install the required packages"
   ]
  },
  {
   "cell_type": "code",
   "execution_count": null,
   "id": "6b9c710d",
   "metadata": {},
   "outputs": [],
   "source": [
    "%pip install -U fireworks-ai\n",
    "%pip install -U agentops"
   ]
  },
  {
   "cell_type": "markdown",
   "id": "e50b6b9a",
   "metadata": {},
   "source": [
    "Then import them"
   ]
  },
  {
   "cell_type": "code",
   "execution_count": null,
   "id": "f90efbc2",
   "metadata": {},
   "outputs": [],
   "source": [
    "from fireworks.client import Fireworks\n",
    "import agentops\n",
    "import os\n",
    "from dotenv import load_dotenv"
   ]
  },
  {
   "cell_type": "markdown",
   "id": "8d757106",
   "metadata": {},
   "source": [
    "Next, we'll grab our API keys. You can use dotenv like below or however else you like to load environment variables"
   ]
  },
  {
   "cell_type": "code",
   "execution_count": null,
   "id": "f0419fba",
   "metadata": {},
   "outputs": [],
   "source": [
    "load_dotenv()\n",
    "FIREWORKS_API_KEY = os.getenv(\"FIREWORKS_API_KEY\") or \"<your_fireworks_key>\"\n",
    "AGENTOPS_API_KEY = os.getenv(\"AGENTOPS_API_KEY\") or \"<your_agentops_key>\""
   ]
  },
  {
   "cell_type": "markdown",
   "id": "86e7d80f",
   "metadata": {},
   "source": [
    "Next we initialize the AgentOps client."
   ]
  },
  {
   "cell_type": "code",
   "execution_count": null,
   "id": "1e60243e",
   "metadata": {},
   "outputs": [],
   "source": [
    "agentops.init(AGENTOPS_API_KEY, default_tags=[\"fireworks-example\"])"
   ]
  },
  {
   "cell_type": "markdown",
   "id": "bec3691a",
   "metadata": {},
   "source": [
    "And we are all set! Note the session url above. We will use it to track the chatbot.\n",
    "\n",
    "Let's create a simple chatbot that generates stories."
   ]
  },
  {
   "cell_type": "code",
   "execution_count": null,
   "id": "a9692a44",
   "metadata": {},
   "outputs": [],
   "source": [
    "client = Fireworks(api_key=FIREWORKS_API_KEY)\n",
    "\n",
    "system_prompt = \"\"\"\n",
    "You are a master storyteller, with the ability to create vivid and engaging stories.\n",
    "You have experience in writing for children and adults alike.\n",
    "You are given a prompt and you need to generate a story based on the prompt.\n",
    "\"\"\"\n",
    "\n",
    "user_prompt = \"Write a story about a cyber-warrior trapped in the imperial time period.\"\n",
    "\n",
    "messages = [\n",
    "    {\"role\": \"system\", \"content\": system_prompt},\n",
    "    {\"role\": \"user\", \"content\": user_prompt},\n",
    "]"
   ]
  },
  {
   "cell_type": "code",
   "execution_count": null,
   "id": "0ad5b6ef",
   "metadata": {},
   "outputs": [],
   "source": [
    "response = client.chat.completions.create(\n",
    "    model=\"accounts/fireworks/models/llama-v3p1-8b-instruct\",\n",
    "    messages=messages,\n",
    ")\n",
    "\n",
    "print(response.choices[0].message.content)"
   ]
  },
  {
   "cell_type": "markdown",
   "id": "6e59e2ef",
   "metadata": {},
   "source": [
    "The response is a string that contains the story. We can track this with AgentOps by navigating to the session url and viewing the run.\n",
    "\n",
    "## Streaming Version\n",
    "We will demonstrate the streaming version of the API."
   ]
  },
  {
   "cell_type": "code",
   "execution_count": null,
   "id": "58f5478f",
   "metadata": {},
   "outputs": [],
   "source": [
    "stream = client.chat.completions.create(\n",
    "    model=\"accounts/fireworks/models/llama-v3p1-8b-instruct\",\n",
    "    messages=messages,\n",
    "    stream=True,\n",
    ")\n",
    "\n",
    "for chunk in stream:\n",
    "    print(chunk.choices[0].delta.content or \"\", end=\"\")"
   ]
  },
  {
   "cell_type": "markdown",
   "id": "6c074e3b",
   "metadata": {},
   "source": [
    "Note that the response is a generator that yields chunks of the story. We can track this with AgentOps by navigating to the session url and viewing the run."
   ]
  },
  {
   "cell_type": "code",
   "execution_count": null,
   "id": "9ad8a05e",
   "metadata": {},
   "outputs": [],
   "source": [
    "agentops.end_session(end_state=\"Success\", end_state_reason=\"The story was generated successfully.\")"
   ]
  },
  {
   "cell_type": "markdown",
   "id": "e245ec0c",
   "metadata": {},
   "source": [
    "We end the session with a success state and a success reason. This is useful if you want to track the success or failure of the chatbot. In that case you can set the end state to failure and provide a reason. By default the session will have an indeterminate end state.\n",
    "\n",
    "All done!"
   ]
  }
 ],
 "metadata": {
  "kernelspec": {
   "display_name": "Python 3 (ipykernel)",
   "language": "python",
   "name": "python3"
  },
  "language_info": {
   "codemirror_mode": {
    "name": "ipython",
    "version": 3
   },
   "file_extension": ".py",
   "mimetype": "text/x-python",
   "name": "python",
   "nbconvert_exporter": "python",
   "pygments_lexer": "ipython3",
   "version": "3.12.7"
  }
 },
 "nbformat": 4,
 "nbformat_minor": 5
}
