{
 "cells": [
  {
   "cell_type": "code",
   "execution_count": 1,
   "id": "994a2dfc",
   "metadata": {
    "execution": {
     "iopub.execute_input": "2024-12-18T02:08:27.681561Z",
     "iopub.status.busy": "2024-12-18T02:08:27.681282Z",
     "iopub.status.idle": "2024-12-18T02:08:29.924803Z",
     "shell.execute_reply": "2024-12-18T02:08:29.923993Z"
    }
   },
   "outputs": [
    {
     "name": "stdout",
     "output_type": "stream",
     "text": [
      "Initializing AgentOps in development mode...\n"
     ]
    },
    {
     "name": "stderr",
     "output_type": "stream",
     "text": [
      "🖇 AgentOps: \u001b[34m\u001b[34mSession Replay: https://app.agentops.ai/drilldown?session_id=da7c7323-408b-43b9-a503-d7e0a308818a\u001b[0m\u001b[0m\n"
     ]
    },
    {
     "name": "stdout",
     "output_type": "stream",
     "text": [
      "Starting new AgentOps session...\n"
     ]
    },
    {
     "name": "stderr",
     "output_type": "stream",
     "text": [
      "🖇 AgentOps: \u001b[34m\u001b[34mSession Replay: https://app.agentops.ai/drilldown?session_id=390c35ff-0df4-4953-9d06-d142fec08719\u001b[0m\u001b[0m\n"
     ]
    },
    {
     "name": "stdout",
     "output_type": "stream",
     "text": [
      "AgentOps initialized. Session URL: https://app.agentops.ai/drilldown?session_id=390c35ff-0df4-4953-9d06-d142fec08719\n",
      "Initializing Fireworks client...\n",
      "Fireworks client initialized.\n"
     ]
    }
   ],
   "source": [
    "\n",
    "import os\n",
    "from dotenv import load_dotenv\n",
    "from fireworks.client import Fireworks\n",
    "import agentops\n",
    "from agentops.enums import EndState\n",
    "\n",
    "# Load environment variables\n",
    "load_dotenv()\n",
    "FIREWORKS_API_KEY = os.getenv(\"FIREWORKS_API_KEY\")\n",
    "\n",
    "# Initialize AgentOps in development mode\n",
    "print(\"Initializing AgentOps in development mode...\")\n",
    "agentops.init(\n",
    "    api_key=None,  # None for local development\n",
    "    default_tags=[\"fireworks-example\"]\n",
    ")\n",
    "print(\"Starting new AgentOps session...\")\n",
    "session = agentops.start_session()\n",
    "print(f\"AgentOps initialized. Session URL: {session.session_url}\")\n",
    "\n",
    "# Initialize Fireworks client\n",
    "print(\"Initializing Fireworks client...\")\n",
    "client = Fireworks(api_key=FIREWORKS_API_KEY)\n",
    "print(\"Fireworks client initialized.\")\n",
    "\n",
    "# Set up messages for story generation\n",
    "messages = [\n",
    "    {\"role\": \"system\", \"content\": \"You are a creative storyteller.\"},\n",
    "    {\"role\": \"user\", \"content\": \"Write a short story about a cyber-warrior trapped in the imperial era.\"}\n",
    "]\n"
   ]
  },
  {
   "cell_type": "code",
   "execution_count": 2,
   "id": "7f8b75ab",
   "metadata": {
    "execution": {
     "iopub.execute_input": "2024-12-18T02:08:29.927452Z",
     "iopub.status.busy": "2024-12-18T02:08:29.927179Z",
     "iopub.status.idle": "2024-12-18T02:08:32.272566Z",
     "shell.execute_reply": "2024-12-18T02:08:32.271746Z"
    }
   },
   "outputs": [
    {
     "name": "stdout",
     "output_type": "stream",
     "text": [
      "Generating story with Fireworks LLM...\n"
     ]
    },
    {
     "name": "stdout",
     "output_type": "stream",
     "text": [
      "\n",
      "LLM Response:\n",
      "**The Ghost in the Sand**\n",
      "\n",
      "Akeira crouched behind a crumbling column, her eyes scanning the dusty marketplace for any sign of the enemy. Her sleek, black armor was a stark contrast to the ancient stones and faded awnings of the imperial city. Her breathing was slow and deliberate, a habit honed from years of virtual combat, not the muggy desert air.\n",
      "\n",
      "\"Target offline,\" her combat comms interrupted, a holographic message flickering to life in front of her. \"Ghost-19, priority threat level: Critical.\"\n",
      "\n",
      "Akeira's gaze snapped towards the palace at the market's heart, where Emperor Marcus imperiously waved to his subjects from a rooftop balcony. Her finger itched to fire a cyber-warhead at the arrogant leader, but her briefing warned of collateral damage and political fallout. She was forced to play it cool.\n",
      "\n",
      "\"Affirmative, Ghost-19. Scoping primary target... now.\"\n",
      "\n",
      "She expertly picked off Imperial Guards one by one, each killing requiring a precise shot, precise control. It was her digital reflexes she relied on, rather than the stifling limitations of a bodily form trapped in a 19th-century prison. Her \"armor\" consisted of heavy pistols, a leather corset, and a woolen mask to conceal her true form – or rather, her digital soul.\n",
      "\n",
      "The fight spilled into alleys and streets, the clash of steel on steel echoing through the city. Akeira fought in a haze of gunfire and rage, a human proxy for the Empire's digital overreach. She was a specter of war, an anachronism in time.\n",
      "\n",
      "In a last, desperate bid to escape, Akeira snatched a horse from the marketplace stables and rode towards the city gate. Shots fired at her from above, but her agility and instinct allowed her to weave through the chaos.\n",
      "\n",
      "Finally, she hit the sand beyond the city walls. Breathing heavily, Akeira ripped off her mask, revealing her cybernetic implants and data-dispersed scalp. She gazed up at the setting sun, a shimmering gold glow that mirrored the digital void she called home.\n",
      "\n",
      "\"Ghost-19,\" her comms crackled, a digital whisper in her ear. \"Safe extraction protocols initiated... now.\"\n",
      "\n",
      "The woman-boy hybrid, a cybernetic chimera, swiveled toward the desert, the rising dunes swallowing her whole. The Imperium might see her as a renegade, a fugitive to be hunted down, but Akeira knew her world – a world of digital shadows and limitless potential.\n",
      "\n",
      "Event tracking details:\n",
      "Session URL: https://app.agentops.ai/drilldown?session_id=390c35ff-0df4-4953-9d06-d142fec08719\n"
     ]
    }
   ],
   "source": [
    "\n",
    "# Test non-streaming completion\n",
    "print(\"Generating story with Fireworks LLM...\")\n",
    "response = client.chat.completions.create(\n",
    "    model=\"accounts/fireworks/models/llama-v3p1-8b-instruct\",\n",
    "    messages=messages\n",
    ")\n",
    "print(\"\\nLLM Response:\")\n",
    "print(response.choices[0].message.content)\n",
    "print(\"\\nEvent tracking details:\")\n",
    "print(f\"Session URL: {session.session_url}\")\n"
   ]
  },
  {
   "cell_type": "code",
   "execution_count": 3,
   "id": "a54affac",
   "metadata": {
    "execution": {
     "iopub.execute_input": "2024-12-18T02:08:32.274896Z",
     "iopub.status.busy": "2024-12-18T02:08:32.274667Z",
     "iopub.status.idle": "2024-12-18T02:08:35.066213Z",
     "shell.execute_reply": "2024-12-18T02:08:35.064964Z"
    }
   },
   "outputs": [
    {
     "name": "stdout",
     "output_type": "stream",
     "text": [
      "\n",
      "Generating story with streaming enabled...\n",
      "\n",
      "Streaming LLM Response:\n"
     ]
    },
    {
     "name": "stdout",
     "output_type": "stream",
     "text": [
      "**The"
     ]
    },
    {
     "name": "stdout",
     "output_type": "stream",
     "text": [
      " Digital Captive**\n",
      "\n",
      "In the sweltering heat of a Roman sun, Lucius stumbled through the crowded market, his gaze scanning the throngs of pedestrians for any sign of safety. But"
     ]
    },
    {
     "name": "stdout",
     "output_type": "stream",
     "text": [
      " how could he, a cyber warrior, find"
     ]
    },
    {
     "name": "stdout",
     "output_type": "stream",
     "text": [
      " solace in this ancient era? His cybernetic limbs, once tailored for stealth and deception in the vast digital expanse of the net, now felt heavy and cumbersome in his tattered imperial attire.\n",
      "\n",
      "Just"
     ]
    },
    {
     "name": "stdout",
     "output_type": "stream",
     "text": [
      " hours ago, Lucius had been fighting a grueling skirmish against"
     ]
    },
    {
     "name": "stdout",
     "output_type": "stream",
     "text": [
      " a cyber-virus, his digits burning with code and adrenaline. Suddenly, a freak anomaly had pulled him through a wormhole, depositing him in the midst of a city that was none other than Rome"
     ]
    },
    {
     "name": "stdout",
     "output_type": "stream",
     "text": [
      ", 19 AD. The roar of"
     ]
    },
    {
     "name": "stdout",
     "output_type": "stream",
     "text": [
      " the Colosseum, the clanging of swords, and the murmur of the crowd now mocked him as he struggled to adjust to his new surroundings.\n",
      "\n",
      "Lucius, born Lucien Laroche in"
     ]
    },
    {
     "name": "stdout",
     "output_type": "stream",
     "text": [
      " the digital realm of NeoTokyo, had been recruited by the infamous cyber"
     ]
    },
    {
     "name": "stdout",
     "output_type": "stream",
     "text": [
      "-guerrilla group, Phoenix Rising. They had trained him in the art of digital warfare, exploiting the weaknesses of enemy firewalls and unraveling encrypted systems with ease. But in this alien world, his skills were more"
     ]
    },
    {
     "name": "stdout",
     "output_type": "stream",
     "text": [
      " hindrance than help.\n",
      "\n",
      "He spotted a group of legionnaires eyeing him"
     ]
    },
    {
     "name": "stdout",
     "output_type": "stream",
     "text": [
      " suspiciously, their hand on the hilts of their swords. Lucius knew he couldn't let them see the advanced cyberware embedded in his limbs. He swiftly donned a makeshift disguise, fashioning a toga from a nearby market stall to conceal his bizarre cybernetic appendages.\n",
      "\n",
      "As"
     ]
    },
    {
     "name": "stdout",
     "output_type": "stream",
     "text": [
      " the sun began to set over the imperial city, Lucius found himself lost in a labyrinth of narrow alleys. His thoughts wandered back to NeoTokyo, where his comrade, Zara, might be frantically searching for him. The disconnect was almost too much to bear"
     ]
    },
    {
     "name": "stdout",
     "output_type": "stream",
     "text": [
      ". He yearned to leap back into the digital realm, feeling like a moth trapped in a flame.\n",
      "\n",
      "With a furtive eye on the shadows, Lucius navigated the crowded streets, dodging glances from astonished civilians. No one suspected a thing"
     ]
    },
    {
     "name": "stdout",
     "output_type": "stream",
     "text": [
      "; they assumed him to be just another commoner, bewildered by the vast machinery of the imperial world. As the darkness deepened, Lucius spotted a"
     ]
    },
    {
     "name": "stdout",
     "output_type": "stream",
     "text": [
      " lone figure lurking in the shadows – a young woman with piercing green eyes, clad in a hooded cloak.\n",
      "\n",
      "\"Get word to Zara,\" the woman"
     ]
    },
    {
     "name": "stdout",
     "output_type": "stream",
     "text": [
      " whispered, as she vanished into the darkness. \"Phoenix Rising will come for you. Be ready, Lucien.\"\n",
      "\n",
      "Though imprisoned in"
     ]
    },
    {
     "name": "stdout",
     "output_type": "stream",
     "text": [
      " time, Lucien knew his cyber warrior's cry would be heard across the centuries, echoing through the digital expanse, seeking a beacon of hope to guide him back to the digital realm.\n",
      "\n",
      "Event tracking details:\n",
      "Session URL: https://app.agentops.ai/drilldown?session_id=390c35ff-0df4-4953-9d06-d142fec08719\n"
     ]
    }
   ],
   "source": [
    "\n",
    "# Test streaming completion\n",
    "print(\"\\nGenerating story with streaming enabled...\")\n",
    "stream = client.chat.completions.create(\n",
    "    model=\"accounts/fireworks/models/llama-v3p1-8b-instruct\",\n",
    "    messages=messages,\n",
    "    stream=True\n",
    ")\n",
    "\n",
    "print(\"\\nStreaming LLM Response:\")\n",
    "for chunk in stream:\n",
    "    if chunk.choices[0].delta.content:\n",
    "        print(chunk.choices[0].delta.content, end=\"\")\n",
    "print(\"\\n\\nEvent tracking details:\")\n",
    "print(f\"Session URL: {session.session_url}\")\n"
   ]
  },
  {
   "cell_type": "code",
   "execution_count": 4,
   "id": "aa628f19",
   "metadata": {
    "execution": {
     "iopub.execute_input": "2024-12-18T02:08:35.068909Z",
     "iopub.status.busy": "2024-12-18T02:08:35.068648Z",
     "iopub.status.idle": "2024-12-18T02:08:35.076179Z",
     "shell.execute_reply": "2024-12-18T02:08:35.075492Z"
    }
   },
   "outputs": [
    {
     "name": "stderr",
     "output_type": "stream",
     "text": [
      "🖇 AgentOps: Invalid end_state. Please use one of the EndState enums\n"
     ]
    },
    {
     "name": "stdout",
     "output_type": "stream",
     "text": [
      "\n",
      "Ending AgentOps session...\n"
     ]
    },
    {
     "name": "stdout",
     "output_type": "stream",
     "text": [
      "\n",
      "Session Statistics:\n",
      "No session statistics available\n"
     ]
    }
   ],
   "source": [
    "\n",
    "# End session and show detailed stats\n",
    "print(\"\\nEnding AgentOps session...\")\n",
    "try:\n",
    "    session_stats = session.end_session(\n",
    "        end_state=EndState.SUCCESS,  # Using the correct enum value\n",
    "        end_state_reason=\"Successfully generated stories using both streaming and non-streaming modes.\"\n",
    "    )\n",
    "    print(\"\\nSession Statistics:\")\n",
    "    if session_stats:\n",
    "        print(f\"Total LLM calls: {session_stats.get('llm_calls', 0)}\")\n",
    "        print(f\"Total duration: {session_stats.get('duration', 0):.2f}s\")\n",
    "        print(f\"Total cost: ${session_stats.get('cost', 0):.4f}\")\n",
    "        print(f\"Session URL: {session.session_url}\")\n",
    "    else:\n",
    "        print(\"No session statistics available\")\n",
    "except Exception as e:\n",
    "    print(f\"Error ending session: {str(e)}\")\n",
    "    print(\"Session URL for debugging:\", session.session_url)\n"
   ]
  }
 ],
 "metadata": {
  "kernelspec": {
   "display_name": "Python 3 (ipykernel)",
   "language": "python",
   "name": "python3"
  },
  "language_info": {
   "codemirror_mode": {
    "name": "ipython",
    "version": 3
   },
   "file_extension": ".py",
   "mimetype": "text/x-python",
   "name": "python",
   "nbconvert_exporter": "python",
   "pygments_lexer": "ipython3",
   "version": "3.12.7"
  }
 },
 "nbformat": 4,
 "nbformat_minor": 5
}
