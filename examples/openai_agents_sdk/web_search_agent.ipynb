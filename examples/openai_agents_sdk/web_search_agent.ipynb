{
 "cells": [
  {
   "cell_type": "code",
   "execution_count": null,
   "metadata": {},
   "outputs": [],
   "source": [
    "# IMPORTANT: After running this cell, restart the kernel before continuing.\n",
    "get_ipython().system(\"pip install -q -U agentops openai-agents\")"
   ]
  },
  {
   "cell_type": "code",
   "execution_count": null,
   "metadata": {},
   "outputs": [],
   "source": [
    "# Set the API keys for your AgentOps and OpenAI accounts.\n",
    "import os\n",
    "\n",
    "os.environ[\"OPENAI_API_KEY\"] = \"\"\n",
    "os.environ[\"AGENTOPS_API_KEY\"] = \"\"\n",
    "\n",
    "if os.environ[\"OPENAI_API_KEY\"] == \"\":\n",
    "    raise ValueError(\"OPENAI_API_KEY is not set. You can get one at https://platform.openai.com/api-keys\")\n",
    "if os.environ[\"AGENTOPS_API_KEY\"] == \"\":\n",
    "    raise ValueError(\"AGENTOPS_API_KEY is not set. You can get one at https://app.agentops.ai/\")"
   ]
  },
  {
   "cell_type": "code",
   "execution_count": null,
   "metadata": {},
   "outputs": [],
   "source": [
    "from agents import Agent, Runner, WebSearchTool, trace\n",
    "import agentops\n",
    "\n",
    "# AgentOps automatically reads the API key from the environment variable\n",
    "agentops.init(tags=[\"web-search-agent\", \"agentops-example\"])\n",
    "\n",
    "\n",
    "async def main():\n",
    "    agent = Agent(\n",
    "        name=\"Web searcher\",\n",
    "        instructions=\"You are a helpful agent.\",\n",
    "        tools=[WebSearchTool(user_location={\"type\": \"approximate\", \"city\": \"New York\"})],\n",
    "    )\n",
    "\n",
    "    with trace(\"Web search example\"):\n",
    "        result = await Runner.run(\n",
    "            agent,\n",
    "            \"search the web for 'local sports news' and give me 1 interesting update in a sentence.\",\n",
    "        )\n",
    "        print(result.final_output)\n",
    "        # The New York Giants are reportedly pursuing quarterback Aaron Rodgers after his ...\n",
    "\n",
    "\n",
    "await main()"
   ]
  },
  {
   "cell_type": "markdown",
   "metadata": {},
   "source": [
    "You can check the trace in the AgentOps UI: https://app.agentops.ai/traces"
   ]
  },
  {
   "cell_type": "code",
   "execution_count": null,
   "metadata": {},
   "outputs": [],
   "source": []
  }
 ],
 "metadata": {
  "kernelspec": {
   "display_name": "base",
   "language": "python",
   "name": "python3"
  },
  "language_info": {
   "codemirror_mode": {
    "name": "ipython",
    "version": 3
   },
   "file_extension": ".py",
   "mimetype": "text/x-python",
   "name": "python",
   "nbconvert_exporter": "python",
   "pygments_lexer": "ipython3",
   "version": "3.12.7"
  }
 },
 "nbformat": 4,
 "nbformat_minor": 2
}
