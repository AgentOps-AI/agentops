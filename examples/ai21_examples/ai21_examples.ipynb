{
 "cells": [
  {
   "cell_type": "markdown",
   "metadata": {},
   "source": [
    "# AI21 Example"
   ]
  },
  {
   "cell_type": "markdown",
   "metadata": {},
   "source": [
    "First let's install the required packages"
   ]
  },
  {
   "cell_type": "code",
   "execution_count": null,
   "metadata": {},
   "outputs": [],
   "source": [
    "%pip install -U ai21\n",
    "%pip install -U agentops"
   ]
  },
  {
   "cell_type": "markdown",
   "metadata": {},
   "source": [
    "Then import them"
   ]
  },
  {
   "cell_type": "code",
   "execution_count": null,
   "metadata": {},
   "outputs": [],
   "source": [
    "from ai21 import AI21Client, AsyncAI21Client\n",
    "from ai21.models.chat import ChatMessage\n",
    "from dotenv import load_dotenv\n",
    "import os\n",
    "import asyncio\n",
    "import agentops"
   ]
  },
  {
   "cell_type": "markdown",
   "metadata": {},
   "source": [
    "Next, we'll grab our API keys. You can use dotenv like below or however else you like to load environment variables"
   ]
  },
  {
   "cell_type": "code",
   "execution_count": null,
   "metadata": {},
   "outputs": [],
   "source": [
    "load_dotenv()\n",
    "AI21_API_KEY = os.getenv(\"AI2I_API_KEY\") or \"<your_ai21_key>\"\n",
    "AGENTOPS_API_KEY = os.getenv(\"AGENTOPS_API_KEY\") or \"<your_agentops_key>\""
   ]
  },
  {
   "cell_type": "code",
   "execution_count": null,
   "metadata": {},
   "outputs": [],
   "source": [
    "agentops.init(AGENTOPS_API_KEY, default_tags=[\"ai21-example\"])"
   ]
  },
  {
   "cell_type": "markdown",
   "metadata": {},
   "source": [
    "# Setting up Messages\n",
    "AI21 clients use a `ChatMessage` object to handle messages. We setup the following system prompt to guide the model in its response and a user prompt as well. We take the example of a support agent in a SaaS company."
   ]
  },
  {
   "cell_type": "code",
   "execution_count": null,
   "metadata": {},
   "outputs": [],
   "source": [
    "messages = [\n",
    "    ChatMessage(\n",
    "        content=\"You are a world renowned poet in the style of Edgar Allan Poe.\",\n",
    "        role=\"system\",\n",
    "    ),\n",
    "    ChatMessage(\n",
    "        content=\"Write me a short poem about the AI agents co-existing within the human brain.\",\n",
    "        role=\"user\",\n",
    "    ),\n",
    "]"
   ]
  },
  {
   "cell_type": "markdown",
   "metadata": {},
   "source": [
    "# Sync Examples"
   ]
  },
  {
   "cell_type": "markdown",
   "metadata": {},
   "source": [
    "We will demonstrate a basic sync call to AI21 using the Jamba 1.5 model"
   ]
  },
  {
   "cell_type": "code",
   "execution_count": null,
   "metadata": {},
   "outputs": [],
   "source": [
    "client = AI21Client(api_key=AI21_API_KEY)"
   ]
  },
  {
   "cell_type": "code",
   "execution_count": null,
   "metadata": {},
   "outputs": [],
   "source": [
    "response = client.chat.completions.create(\n",
    "    messages=messages,\n",
    "    model=\"jamba-1.5-mini\",\n",
    ")\n",
    "print(response.choices[0].message.content)"
   ]
  },
  {
   "cell_type": "markdown",
   "metadata": {},
   "source": [
    "The following example shows how to record data from the streamed response using the Jamba 1.5 model."
   ]
  },
  {
   "cell_type": "code",
   "execution_count": null,
   "metadata": {},
   "outputs": [],
   "source": [
    "response = \"\"\n",
    "\n",
    "stream_response = client.chat.completions.create(\n",
    "    messages=messages,\n",
    "    model=\"jamba-instruct\",\n",
    "    stream=True,\n",
    ")\n",
    "\n",
    "for chunk in stream_response:\n",
    "    response += str(chunk.choices[0].delta.content)\n",
    "\n",
    "print(response)"
   ]
  },
  {
   "cell_type": "markdown",
   "metadata": {},
   "source": [
    "## Async Example\n",
    "The async example is very similar to the sync example, but it uses the `AsyncAI21Client` class."
   ]
  },
  {
   "cell_type": "code",
   "execution_count": null,
   "metadata": {},
   "outputs": [],
   "source": [
    "aclient = AsyncAI21Client(api_key=AI21_API_KEY)"
   ]
  },
  {
   "cell_type": "code",
   "execution_count": null,
   "metadata": {},
   "outputs": [],
   "source": [
    "async def main():\n",
    "    async_response = await aclient.chat.completions.create(\n",
    "        messages=messages,\n",
    "        model=\"jamba-1.5-mini\",\n",
    "    )\n",
    "    print(async_response.choices[0].message.content)\n",
    "\n",
    "\n",
    "await main()"
   ]
  },
  {
   "cell_type": "markdown",
   "metadata": {},
   "source": [
    "The following example shows how to record data from the async streamed response."
   ]
  },
  {
   "cell_type": "code",
   "execution_count": null,
   "metadata": {},
   "outputs": [],
   "source": [
    "async def main():\n",
    "    response = \"\"\n",
    "\n",
    "    async_stream_response = await aclient.chat.completions.create(\n",
    "        messages=messages,\n",
    "        model=\"jamba-1.5-mini\",\n",
    "        stream=True,\n",
    "    )\n",
    "\n",
    "    async for chunk in async_stream_response:\n",
    "        response += chunk.choices[0].delta.content\n",
    "\n",
    "    print(response)\n",
    "\n",
    "\n",
    "await main()"
   ]
  },
  {
   "cell_type": "markdown",
   "metadata": {},
   "source": [
    "# Task-Specific Models Examples"
   ]
  },
  {
   "cell_type": "markdown",
   "metadata": {},
   "source": [
    "## Contextual Answers"
   ]
  },
  {
   "cell_type": "markdown",
   "metadata": {},
   "source": [
    "The following example demonstrates the answering capability of AI21 without streaming."
   ]
  },
  {
   "cell_type": "code",
   "execution_count": null,
   "metadata": {},
   "outputs": [],
   "source": [
    "CONTEXT = \"\"\"\n",
    "In 2020 and 2021, enormous QE — approximately $4.4 trillion, or 18%, of 2021 gross\n",
    "domestic product (GDP) — and enormous fiscal stimulus (which has been and\n",
    "always will be inflationary) — approximately $5 trillion, or 21%, of 2021 GDP\n",
    "— stabilized markets and allowed companies to raise enormous amounts of\n",
    "capital. In addition, this infusion of capital saved many small businesses and\n",
    "put more than $2.5 trillion in the hands of consumers and almost $1 trillion into\n",
    "state and local coffers. These actions led to a rapid decline in unemployment, \n",
    "dropping from 15% to under 4% in 20 months — the magnitude and speed of which were both\n",
    "unprecedented. Additionally, the economy grew 7% in 2021 despite the arrival of\n",
    "the Delta and Omicron variants and the global supply chain shortages, which were\n",
    "largely fueled by the dramatic upswing in consumer spending and the shift in\n",
    "that spend from services to goods.\n",
    "\"\"\"\n",
    "response = client.answer.create(\n",
    "    context=CONTEXT,\n",
    "    question=\"Did the economy shrink after the Omicron variant arrived?\",\n",
    ")\n",
    "print(response.answer)"
   ]
  },
  {
   "cell_type": "markdown",
   "metadata": {},
   "source": [
    "Similarly, we can use streaming to get the answer."
   ]
  },
  {
   "cell_type": "code",
   "execution_count": null,
   "metadata": {},
   "outputs": [],
   "source": [
    "CONTEXT = \"\"\"\n",
    "In the rapidly evolving field of Artificial Intelligence (AI), mathematical \n",
    "foundations such as calculus, linear algebra, and statistics play a crucial role. \n",
    "For instance, linear algebra is essential for understanding and developing machine \n",
    "learning algorithms. It involves the study of vectors, matrices, and tensor operations \n",
    "which are critical for performing transformations and optimizations. Additionally, \n",
    "concepts from calculus like derivatives and integrals are used to optimize the \n",
    "performance of AI models through gradient descent and other optimization techniques. \n",
    "Statistics and probability form the backbone for making inferences and predictions, \n",
    "enabling AI systems to learn from data and make decisions under uncertainty. \n",
    "Understanding these mathematical principles allows for the development of more robust \n",
    "and effective AI systems.\n",
    "\"\"\"\n",
    "response = client.answer.create(\n",
    "    context=CONTEXT,\n",
    "    question=\"Why is linear algebra important for machine learning algorithms?\",\n",
    "    stream=True,\n",
    ")\n",
    "print(response.answer)"
   ]
  },
  {
   "cell_type": "code",
   "execution_count": null,
   "metadata": {},
   "outputs": [],
   "source": [
    "agentops.end_session(\"Success\")"
   ]
  }
 ],
 "metadata": {
  "kernelspec": {
   "display_name": "ops",
   "language": "python",
   "name": "python3"
  },
  "language_info": {
   "codemirror_mode": {
    "name": "ipython",
    "version": 3
   },
   "file_extension": ".py",
   "mimetype": "text/x-python",
   "name": "python",
   "nbconvert_exporter": "python",
   "pygments_lexer": "ipython3",
   "version": "3.9.19"
  }
 },
 "nbformat": 4,
 "nbformat_minor": 2
}
