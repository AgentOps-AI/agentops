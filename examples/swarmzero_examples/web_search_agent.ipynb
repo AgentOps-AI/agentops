{
 "cells": [
  {
   "cell_type": "markdown",
   "metadata": {},
   "source": [
    "# Web Search Agent\n",
    "This notebook demonstrates a web search agent using SwarmZero framework and Tavily API."
   ]
  },
  {
   "cell_type": "code",
   "execution_count": null,
   "metadata": {},
   "source": [
    "import os\n",
    "\n",
    "import agentops\n",
    "from dotenv import load_dotenv\n",
    "from swarmzero import Agent\n",
    "from tavily import TavilyClient\n",
    "\n",
    "load_dotenv()\n",
    "agentops.init(os.getenv(\"AGENTOPS_API_KEY\"))\n",
    "tavily_client = TavilyClient(api_key=os.getenv(\"TAVILY_API_KEY\"))"
   ]
  },
  {
   "cell_type": "markdown",
   "metadata": {},
   "source": [
    "## Define Search Functions"
   ]
  },
  {
   "cell_type": "code",
   "execution_count": null,
   "metadata": {},
   "source": [
    "async def web_search(query: str) -> dict:\n",
    "    response = tavily_client.search(query)\n",
    "    results = []\n",
    "    for result in response[\"results\"][:3]:\n",
    "        results.append({\"title\": result[\"title\"], \"url\": result[\"url\"], \"content\": result[\"content\"]})\n",
    "    return results\n",
    "\n",
    "\n",
    "async def extract_from_urls(urls: list[str]) -> dict:\n",
    "    response = tavily_client.extract(urls=urls)\n",
    "\n",
    "    if response[\"failed_results\"]:\n",
    "        print(f\"Failed to extract from {response['failed_results']}\")\n",
    "\n",
    "    results = []\n",
    "    for result in response[\"results\"]:\n",
    "        results.append({\"url\": result[\"url\"], \"raw_content\": result[\"raw_content\"]})\n",
    "\n",
    "    return results"
   ]
  },
  {
   "cell_type": "markdown",
   "metadata": {},
   "source": [
    "## Initialize and Run Agent"
   ]
  },
  {
   "cell_type": "code",
   "execution_count": null,
   "metadata": {},
   "source": [
    "my_agent = Agent(\n",
    "    name=\"workflow-assistant\",\n",
    "    functions=[\n",
    "        web_search,\n",
    "        extract_from_urls,\n",
    "    ],\n",
    "    config_path=\"./swarmzero_config.toml\",\n",
    "    instruction=\"You are a helpful assistant that can search the web and extract information from a given URL.\",\n",
    ")\n",
    "\n",
    "my_agent.run()  # see agent API at localhost:8000/docs"
   ]
  }
 ],
 "metadata": {
  "kernelspec": {
   "display_name": "Python 3",
   "language": "python",
   "name": "python3"
  },
  "language_info": {
   "codemirror_mode": {
    "name": "ipython",
    "version": 3
   },
   "file_extension": ".py",
   "mimetype": "text/x-python",
   "name": "python",
   "nbconvert_exporter": "python",
   "pygments_lexer": "ipython3",
   "version": "3.11"
  }
 },
 "nbformat": 4,
 "nbformat_minor": 4
}
