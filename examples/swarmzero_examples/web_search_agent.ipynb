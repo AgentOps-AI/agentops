{
 "cells": [
  {
   "cell_type": "markdown",
   "metadata": {},
   "source": [
    "# Web Search Agent\n",
    "This notebook demonstrates a web search agent using SwarmZero framework and Tavily API."
   ]
  },
  {
   "cell_type": "code",
   "execution_count": null,
   "metadata": {},
   "outputs": [],
   "source": [
    "import os\n",
    "\n",
    "import agentops\n",
    "from dotenv import load_dotenv\n",
    "from swarmzero import Agent\n",
    "from tavily import TavilyClient\n",
    "\n",
    "load_dotenv()\n",
    "agentops.init(os.getenv(\"AGENTOPS_API_KEY\"))\n",
    "tavily_client = TavilyClient(api_key=os.getenv(\"TAVILY_API_KEY\"))"
   ]
  },
  {
   "cell_type": "markdown",
   "metadata": {},
   "source": [
    "## Define Search Functions"
   ]
  },
  {
   "cell_type": "code",
   "execution_count": null,
   "metadata": {},
   "outputs": [],
   "source": [
    "async def web_search(query: str) -> dict:\n",
    "    response = tavily_client.search(query)\n",
    "    results = []\n",
    "    for result in response[\"results\"][:3]:\n",
    "        results.append({\"title\": result[\"title\"], \"url\": result[\"url\"], \"content\": result[\"content\"]})\n",
    "    return results\n",
    "\n",
    "\n",
    "async def extract_from_urls(urls: list[str]) -> dict:\n",
    "    response = tavily_client.extract(urls=urls)\n",
    "\n",
    "    if response[\"failed_results\"]:\n",
    "        print(f\"Failed to extract from {response['failed_results']}\")\n",
    "\n",
    "    results = []\n",
    "    for result in response[\"results\"]:\n",
    "        results.append({\"url\": result[\"url\"], \"raw_content\": result[\"raw_content\"]})\n",
    "\n",
    "    return results"
   ]
  },
  {
   "cell_type": "markdown",
   "metadata": {},
   "source": [
    "## Initialize and Run Agent"
   ]
  },
  {
   "cell_type": "code",
   "execution_count": null,
   "metadata": {},
   "outputs": [],
   "source": [
    "my_agent = Agent(\n",
    "    name=\"workflow-assistant\",\n",
    "    functions=[\n",
    "        web_search,\n",
    "        extract_from_urls,\n",
    "    ],\n",
    "    config_path=\"./swarmzero_config.toml\", # see https://github.com/swarmzero/swarmzero/blob/main/swarmzero_config_example.toml\n",
    "    instruction=\"You are a helpful assistant that can search the web and extract information from a given URL.\",\n",
    "    # chat_only_mode=True  # remove comment only if using `my_agent.chat()`\n",
    ")"
   ]
  },
  {
   "cell_type": "markdown",
   "metadata": {},
   "source": [
    "### Option 1: Chat directly without starting the agent's server"
   ]
  },
  {
   "cell_type": "code",
   "execution_count": null,
   "metadata": {},
   "outputs": [],
   "source": [
    "import asyncio"
   ]
  },
  {
   "cell_type": "code",
   "execution_count": null,
   "metadata": {},
   "outputs": [],
   "source": [
    "response = asyncio.run(my_agent.chat(prompt=\"what is Decentralized-AI about about?\"))"
   ]
  },
  {
   "cell_type": "code",
   "execution_count": null,
   "metadata": {},
   "outputs": [],
   "source": [
    "print(response)"
   ]
  },
  {
   "cell_type": "markdown",
   "metadata": {},
   "source": [
    "### Option 2: Run agent server"
   ]
  },
  {
   "cell_type": "code",
   "execution_count": null,
   "metadata": {},
   "outputs": [],
   "source": [
    "# my_agent.run()  # see agent API at localhost:8000/docs"
   ]
  },
  {
   "cell_type": "markdown",
   "metadata": {},
   "source": [
    "Send a message to the agent:\n",
    "```bash\n",
    "curl -X 'POST' \\\n",
    "  'http://localhost:8000/api/v1/chat' \\\n",
    "  -H 'accept: application/json' \\\n",
    "  -H 'Content-Type: multipart/form-data' \\\n",
    "  -F 'user_id=test_user' \\\n",
    "  -F 'session_id=test_web_search_agent' \\\n",
    "  -F 'chat_data={\"messages\":[{\"role\":\"user\",\"content\":\"what is swarmzero.ai about?\"}]}'\n",
    "```"
   ]
  }
 ],
 "metadata": {
  "kernelspec": {
   "display_name": "Python 3",
   "language": "python",
   "name": "python3"
  },
  "language_info": {
   "codemirror_mode": {
    "name": "ipython",
    "version": 3
   },
   "file_extension": ".py",
   "mimetype": "text/x-python",
   "name": "python",
   "nbconvert_exporter": "python",
   "pygments_lexer": "ipython3",
   "version": "3.11"
  }
 },
 "nbformat": 4,
 "nbformat_minor": 4
}
