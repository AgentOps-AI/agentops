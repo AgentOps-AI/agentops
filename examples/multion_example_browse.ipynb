{
 "cells": [
  {
   "cell_type": "code",
   "execution_count": 1,
   "metadata": {},
   "outputs": [
    {
     "name": "stdout",
     "output_type": "stream",
     "text": [
      "Obtaining file:///Users/howardgil/Desktop/agentops/HowieG/multion-python\n",
      "  Installing build dependencies ... \u001b[?25ldone\n",
      "\u001b[?25h  Checking if build backend supports build_editable ... \u001b[?25ldone\n",
      "\u001b[?25h  Getting requirements to build editable ... \u001b[?25ldone\n",
      "\u001b[?25h  Preparing editable metadata (pyproject.toml) ... \u001b[?25ldone\n",
      "\u001b[?25hRequirement already satisfied: agentops<0.3.0,>=0.2.0 in /Users/howardgil/Desktop/agentops/AgentOps-AI/agentops/env/lib/python3.12/site-packages (from multion==1.2.0) (0.2.1)\n",
      "Requirement already satisfied: httpx>=0.21.2 in /Users/howardgil/Desktop/agentops/AgentOps-AI/agentops/env/lib/python3.12/site-packages (from multion==1.2.0) (0.27.0)\n",
      "Requirement already satisfied: httpx-sse==0.4.0 in /Users/howardgil/Desktop/agentops/AgentOps-AI/agentops/env/lib/python3.12/site-packages (from multion==1.2.0) (0.4.0)\n",
      "Requirement already satisfied: pydantic>=1.9.2 in /Users/howardgil/Desktop/agentops/AgentOps-AI/agentops/env/lib/python3.12/site-packages (from multion==1.2.0) (2.7.2)\n",
      "Requirement already satisfied: typing_extensions>=4.0.0 in /Users/howardgil/Desktop/agentops/AgentOps-AI/agentops/env/lib/python3.12/site-packages (from multion==1.2.0) (4.12.0)\n",
      "Requirement already satisfied: requests==2.31.0 in /Users/howardgil/Desktop/agentops/AgentOps-AI/agentops/env/lib/python3.12/site-packages (from agentops<0.3.0,>=0.2.0->multion==1.2.0) (2.31.0)\n",
      "Requirement already satisfied: psutil==5.9.8 in /Users/howardgil/Desktop/agentops/AgentOps-AI/agentops/env/lib/python3.12/site-packages (from agentops<0.3.0,>=0.2.0->multion==1.2.0) (5.9.8)\n",
      "Requirement already satisfied: packaging==23.2 in /Users/howardgil/Desktop/agentops/AgentOps-AI/agentops/env/lib/python3.12/site-packages (from agentops<0.3.0,>=0.2.0->multion==1.2.0) (23.2)\n",
      "Requirement already satisfied: termcolor==2.4.0 in /Users/howardgil/Desktop/agentops/AgentOps-AI/agentops/env/lib/python3.12/site-packages (from agentops<0.3.0,>=0.2.0->multion==1.2.0) (2.4.0)\n",
      "Requirement already satisfied: charset-normalizer<4,>=2 in /Users/howardgil/Desktop/agentops/AgentOps-AI/agentops/env/lib/python3.12/site-packages (from requests==2.31.0->agentops<0.3.0,>=0.2.0->multion==1.2.0) (3.3.2)\n",
      "Requirement already satisfied: idna<4,>=2.5 in /Users/howardgil/Desktop/agentops/AgentOps-AI/agentops/env/lib/python3.12/site-packages (from requests==2.31.0->agentops<0.3.0,>=0.2.0->multion==1.2.0) (3.7)\n",
      "Requirement already satisfied: urllib3<3,>=1.21.1 in /Users/howardgil/Desktop/agentops/AgentOps-AI/agentops/env/lib/python3.12/site-packages (from requests==2.31.0->agentops<0.3.0,>=0.2.0->multion==1.2.0) (2.2.1)\n",
      "Requirement already satisfied: certifi>=2017.4.17 in /Users/howardgil/Desktop/agentops/AgentOps-AI/agentops/env/lib/python3.12/site-packages (from requests==2.31.0->agentops<0.3.0,>=0.2.0->multion==1.2.0) (2024.2.2)\n",
      "Requirement already satisfied: anyio in /Users/howardgil/Desktop/agentops/AgentOps-AI/agentops/env/lib/python3.12/site-packages (from httpx>=0.21.2->multion==1.2.0) (4.4.0)\n",
      "Requirement already satisfied: httpcore==1.* in /Users/howardgil/Desktop/agentops/AgentOps-AI/agentops/env/lib/python3.12/site-packages (from httpx>=0.21.2->multion==1.2.0) (1.0.5)\n",
      "Requirement already satisfied: sniffio in /Users/howardgil/Desktop/agentops/AgentOps-AI/agentops/env/lib/python3.12/site-packages (from httpx>=0.21.2->multion==1.2.0) (1.3.1)\n",
      "Requirement already satisfied: h11<0.15,>=0.13 in /Users/howardgil/Desktop/agentops/AgentOps-AI/agentops/env/lib/python3.12/site-packages (from httpcore==1.*->httpx>=0.21.2->multion==1.2.0) (0.14.0)\n",
      "Requirement already satisfied: annotated-types>=0.4.0 in /Users/howardgil/Desktop/agentops/AgentOps-AI/agentops/env/lib/python3.12/site-packages (from pydantic>=1.9.2->multion==1.2.0) (0.7.0)\n",
      "Requirement already satisfied: pydantic-core==2.18.3 in /Users/howardgil/Desktop/agentops/AgentOps-AI/agentops/env/lib/python3.12/site-packages (from pydantic>=1.9.2->multion==1.2.0) (2.18.3)\n",
      "Building wheels for collected packages: multion\n",
      "  Building editable for multion (pyproject.toml) ... \u001b[?25ldone\n",
      "\u001b[?25h  Created wheel for multion: filename=multion-1.2.0-py3-none-any.whl size=2792 sha256=142c67040af03f6fd4e406d67bc5cdcf78f025c5b289ffe58f887de2f60c0b9c\n",
      "  Stored in directory: /private/var/folders/jb/71y2z4v178jdr5xcgbxfm0gc0000gp/T/pip-ephem-wheel-cache-b7qk12t7/wheels/df/4b/d9/cccd5ceada6ca92256cee7f065c3e64e9c91b3d307977e2bba\n",
      "Successfully built multion\n",
      "Installing collected packages: multion\n",
      "  Attempting uninstall: multion\n",
      "    Found existing installation: multion 1.2.0\n",
      "    Uninstalling multion-1.2.0:\n",
      "      Successfully uninstalled multion-1.2.0\n",
      "Successfully installed multion-1.2.0\n",
      "Note: you may need to restart the kernel to use updated packages.\n",
      "Processing /Users/howardgil/Desktop/agentops/AgentOps-AI/agentops\n",
      "  Installing build dependencies ... \u001b[?25ldone\n",
      "\u001b[?25h  Getting requirements to build wheel ... \u001b[?25ldone\n",
      "\u001b[?25h  Preparing metadata (pyproject.toml) ... \u001b[?25ldone\n",
      "\u001b[?25hRequirement already satisfied: requests==2.31.0 in /Users/howardgil/Desktop/agentops/AgentOps-AI/agentops/env/lib/python3.12/site-packages (from agentops==0.2.1) (2.31.0)\n",
      "Requirement already satisfied: psutil==5.9.8 in /Users/howardgil/Desktop/agentops/AgentOps-AI/agentops/env/lib/python3.12/site-packages (from agentops==0.2.1) (5.9.8)\n",
      "Requirement already satisfied: packaging==23.2 in /Users/howardgil/Desktop/agentops/AgentOps-AI/agentops/env/lib/python3.12/site-packages (from agentops==0.2.1) (23.2)\n",
      "Requirement already satisfied: termcolor==2.4.0 in /Users/howardgil/Desktop/agentops/AgentOps-AI/agentops/env/lib/python3.12/site-packages (from agentops==0.2.1) (2.4.0)\n",
      "Requirement already satisfied: charset-normalizer<4,>=2 in /Users/howardgil/Desktop/agentops/AgentOps-AI/agentops/env/lib/python3.12/site-packages (from requests==2.31.0->agentops==0.2.1) (3.3.2)\n",
      "Requirement already satisfied: idna<4,>=2.5 in /Users/howardgil/Desktop/agentops/AgentOps-AI/agentops/env/lib/python3.12/site-packages (from requests==2.31.0->agentops==0.2.1) (3.7)\n",
      "Requirement already satisfied: urllib3<3,>=1.21.1 in /Users/howardgil/Desktop/agentops/AgentOps-AI/agentops/env/lib/python3.12/site-packages (from requests==2.31.0->agentops==0.2.1) (2.2.1)\n",
      "Requirement already satisfied: certifi>=2017.4.17 in /Users/howardgil/Desktop/agentops/AgentOps-AI/agentops/env/lib/python3.12/site-packages (from requests==2.31.0->agentops==0.2.1) (2024.2.2)\n",
      "Building wheels for collected packages: agentops\n",
      "  Building wheel for agentops (pyproject.toml) ... \u001b[?25ldone\n",
      "\u001b[?25h  Created wheel for agentops: filename=agentops-0.2.1-py3-none-any.whl size=43115 sha256=e154480cfde179a77da859a210dbedc77feade7b01cf68ff97d40e271d930b57\n",
      "  Stored in directory: /private/var/folders/jb/71y2z4v178jdr5xcgbxfm0gc0000gp/T/pip-ephem-wheel-cache-z07zsgac/wheels/43/52/53/9286c77226c557a85392056462580d0d7db8d733d3a9c9be69\n",
      "Successfully built agentops\n",
      "Installing collected packages: agentops\n",
      "  Attempting uninstall: agentops\n",
      "    Found existing installation: agentops 0.2.1\n",
      "    Uninstalling agentops-0.2.1:\n",
      "      Successfully uninstalled agentops-0.2.1\n",
      "Successfully installed agentops-0.2.1\n",
      "Note: you may need to restart the kernel to use updated packages.\n"
     ]
    }
   ],
   "source": [
    "%pip install -e ../../../HowieG/multion-python\n",
    "%pip install .."
   ]
  },
  {
   "cell_type": "code",
   "execution_count": 2,
   "metadata": {},
   "outputs": [
    {
     "name": "stderr",
     "output_type": "stream",
     "text": [
      "🖇 AgentOps: Cannot record event - no current session\n",
      "🖇 AgentOps: \u001b[34m\u001b[34mSession Replay: https://app.agentops.ai/drilldown?session_id=6f01ccad-23a3-4d34-a497-e61ebafad847\u001b[0m\u001b[0m\n"
     ]
    },
    {
     "name": "stdout",
     "output_type": "stream",
     "text": [
      "Memorizing the following information: The features provided by AgentOps:\n",
      "1. Agent Agnostic SDK\n",
      "2. LLM Cost (OpenAI, etc)\n",
      "3. Replay Analytics\n",
      "\n"
     ]
    }
   ],
   "source": [
    "import multion\n",
    "from multion.client import MultiOn\n",
    "from multion.core.request_options import RequestOptions\n",
    "import os\n",
    "\n",
    "multion = MultiOn(\n",
    "    api_key=os.environ.get(\"MULTION_API_KEY\"),\n",
    "    agentops_api_key=os.environ.get(\"AGENTOPS_API_KEY\"),\n",
    ")\n",
    "cmd = \"what three things do i get with agentops\"\n",
    "request_options = RequestOptions(\n",
    "    timeout_in_seconds=60, max_retries=4, additional_headers={\"test\": \"ing\"}\n",
    ")\n",
    "browse_response = multion.browse(\n",
    "    cmd=\"what three things do i get with agentops\",\n",
    "    url=\"https://www.agentops.ai/\",\n",
    "    max_steps=4,\n",
    "    include_screenshot=True,\n",
    "    request_options=request_options,\n",
    ")\n",
    "\n",
    "print(browse_response.message)"
   ]
  }
 ],
 "metadata": {
  "kernelspec": {
   "display_name": "env",
   "language": "python",
   "name": "python3"
  },
  "language_info": {
   "codemirror_mode": {
    "name": "ipython",
    "version": 3
   },
   "file_extension": ".py",
   "mimetype": "text/x-python",
   "name": "python",
   "nbconvert_exporter": "python",
   "pygments_lexer": "ipython3",
   "version": "3.12.2"
  }
 },
 "nbformat": 4,
 "nbformat_minor": 2
}
