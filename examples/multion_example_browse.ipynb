{
 "cells": [
  {
   "cell_type": "code",
   "execution_count": null,
   "metadata": {},
   "outputs": [],
   "source": [
    "%pip install -e ../../../HowieG/multion-python\n",
    "%pip install -e .."
   ]
  },
  {
   "cell_type": "code",
   "execution_count": null,
   "metadata": {},
   "outputs": [],
   "source": [
    "import multion\n",
    "from multion.client import MultiOn\n",
    "from multion.core.request_options import RequestOptions\n",
    "import os\n",
    "\n",
    "multion = MultiOn(\n",
    "    api_key=os.environ.get(\"MULTION_API_KEY\"),\n",
    "    agentops_api_key=os.environ.get(\"AGENTOPS_API_KEY\"),\n",
    ")\n",
    "cmd = \"what three things do i get with agentops\"\n",
    "request_options = RequestOptions(\n",
    "    timeout_in_seconds=60, max_retries=4, additional_headers={\"test\": \"ing\"}\n",
    ")\n",
    "multion.browse(\n",
    "    cmd=\"what three things do i get with agentops\",\n",
    "    url=\"https://www.agentops.ai/\",\n",
    "    max_steps=4,\n",
    "    include_screenshot=True,\n",
    "    request_options=request_options,\n",
    ")"
   ]
  }
 ],
 "metadata": {
  "kernelspec": {
   "display_name": "env",
   "language": "python",
   "name": "python3"
  },
  "language_info": {
   "codemirror_mode": {
    "name": "ipython",
    "version": 3
   },
   "file_extension": ".py",
   "mimetype": "text/x-python",
   "name": "python",
   "nbconvert_exporter": "python",
   "pygments_lexer": "ipython3",
   "version": "3.12.2"
  }
 },
 "nbformat": 4,
 "nbformat_minor": 2
}
