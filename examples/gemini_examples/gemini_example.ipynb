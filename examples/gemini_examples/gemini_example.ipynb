{
 "cells": [
  {
   "cell_type": "markdown",
   "id": "580c85ac",
   "metadata": {},
   "source": [
    "# Gemini API Example with AgentOps\n",
    "\n",
    "This notebook demonstrates how to use AgentOps with Google's Gemini API for both synchronous and streaming text generation."
   ]
  },
  {
   "cell_type": "code",
   "execution_count": 1,
   "id": "d731924a",
   "metadata": {},
   "outputs": [],
   "source": [
    "from google import genai\n",
    "import agentops\n",
    "from dotenv import load_dotenv\n",
    "import os"
   ]
  },
  {
   "cell_type": "code",
   "execution_count": 2,
   "id": "a94545c9",
   "metadata": {},
   "outputs": [],
   "source": [
    "load_dotenv()\n",
    "\n",
    "GEMINI_API_KEY = os.getenv(\"GEMINI_API_KEY\") or \"your gemini api key\"\n",
    "AGENTOPS_API_KEY = os.getenv(\"AGENTOPS_API_KEY\") or \"your agentops api key\""
   ]
  },
  {
   "cell_type": "code",
   "execution_count": null,
   "id": "d632fe48",
   "metadata": {},
   "outputs": [],
   "source": [
    "# Initialize AgentOps and Gemini client\n",
    "agentops.init()\n",
    "client = genai.Client(api_key=GEMINI_API_KEY)"
   ]
  },
  {
   "cell_type": "code",
   "execution_count": null,
   "id": "3923b6b8",
   "metadata": {},
   "outputs": [],
   "source": [
    "# Test synchronous generation\n",
    "print(\"Testing synchronous generation:\")\n",
    "response = client.models.generate_content(\n",
    "    model=\"gemini-1.5-flash\",\n",
    "    contents=\"What are the three laws of robotics?\"\n",
    ")\n",
    "print(response.text)"
   ]
  },
  {
   "cell_type": "code",
   "execution_count": null,
   "id": "da54e521",
   "metadata": {},
   "outputs": [],
   "source": [
    "# Test streaming generation\n",
    "print(\"\\nTesting streaming generation:\")\n",
    "response_stream = client.models.generate_content_stream(\n",
    "    model=\"gemini-1.5-flash\",\n",
    "    contents=\"Explain the concept of machine learning in simple terms.\"\n",
    ")\n",
    "\n",
    "for chunk in response_stream:\n",
    "    print(chunk.text, end=\"\")\n",
    "print()  # Add newline after streaming output\n",
    "\n",
    "# Test another synchronous generation\n",
    "print(\"\\nTesting another synchronous generation:\")\n",
    "response = client.models.generate_content(\n",
    "    model=\"gemini-1.5-flash\",\n",
    "    contents=\"What is the difference between supervised and unsupervised learning?\"\n",
    ")\n",
    "print(response.text)"
   ]
  },
  {
   "cell_type": "code",
   "execution_count": null,
   "id": "fbb2a59c",
   "metadata": {},
   "outputs": [],
   "source": [
    "# Example of token counting\n",
    "print(\"\\nTesting token counting:\")\n",
    "token_response = client.models.count_tokens(\n",
    "    model=\"gemini-1.5-flash\",\n",
    "    contents=\"This is a test sentence to count tokens.\"\n",
    ")\n",
    "print(f\"Token count: {token_response.total_tokens}\")"
   ]
  }
 ],
 "metadata": {
  "kernelspec": {
   "display_name": ".venv",
   "language": "python",
   "name": "python3"
  },
  "language_info": {
   "codemirror_mode": {
    "name": "ipython",
    "version": 3
   },
   "file_extension": ".py",
   "mimetype": "text/x-python",
   "name": "python",
   "nbconvert_exporter": "python",
   "pygments_lexer": "ipython3",
   "version": "3.13.3"
  }
 },
 "nbformat": 4,
 "nbformat_minor": 5
}
