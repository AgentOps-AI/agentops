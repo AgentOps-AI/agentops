{
 "cells": [
  {
   "cell_type": "markdown",
   "id": "580c85ac",
   "metadata": {},
   "source": [
    "# Gemini API Example with AgentOps\n",
    "\n",
    "This notebook demonstrates how to use AgentOps with Google's Gemini API for both synchronous and streaming text generation."
   ]
  },
  {
   "cell_type": "code",
   "execution_count": null,
   "id": "d731924a",
   "metadata": {},
   "outputs": [],
   "source": [
    "import google.generativeai as genai\n",
    "import agentops\n",
    "from agentops.llms.providers.gemini import GeminiProvider"
   ]
  },
  {
   "cell_type": "code",
   "execution_count": null,
   "id": "a94545c9",
   "metadata": {},
   "outputs": [],
   "source": [
    "# Configure the Gemini API\n",
    "import os\n",
    "\n",
    "# Replace with your API key\n",
    "# You can get one at: https://ai.google.dev/tutorials/setup\n",
    "GEMINI_API_KEY = \"YOUR_API_KEY_HERE\"  # Replace with your API key\n",
    "genai.configure(api_key=GEMINI_API_KEY)\n",
    "\n",
    "# Note: In production, use environment variables:\n",
    "# import os\n",
    "# GEMINI_API_KEY = os.getenv(\"GEMINI_API_KEY\")\n",
    "# genai.configure(api_key=GEMINI_API_KEY)"
   ]
  },
  {
   "cell_type": "code",
   "execution_count": null,
   "id": "d632fe48",
   "metadata": {},
   "outputs": [],
   "source": [
    "# Initialize AgentOps and Gemini model\n",
    "ao_client = agentops.init()\n",
    "model = genai.GenerativeModel(\"gemini-1.5-flash\")\n",
    "\n",
    "# Initialize and override Gemini provider\n",
    "provider = GeminiProvider(model)\n",
    "provider.override()"
   ]
  },
  {
   "cell_type": "code",
   "execution_count": null,
   "id": "3923b6b8",
   "metadata": {},
   "outputs": [],
   "source": [
    "# Test synchronous generation\n",
    "print(\"Testing synchronous generation:\")\n",
    "response = model.generate_content(\n",
    "    \"What are the three laws of robotics?\",\n",
    "    session=ao_client\n",
    ")\n",
    "print(response.text)"
   ]
  },
  {
   "cell_type": "code",
   "execution_count": null,
   "id": "da54e521",
   "metadata": {},
   "outputs": [],
   "source": [
    "# Test streaming generation\n",
    "print(\"\\nTesting streaming generation:\")\n",
    "response = model.generate_content(\n",
    "    \"Explain the concept of machine learning in simple terms.\",\n",
    "    stream=True,\n",
    "    session=ao_client\n",
    ")\n",
    "\n",
    "for chunk in response:\n",
    "    print(chunk.text, end=\"\")\n",
    "print()  # Add newline after streaming output\n",
    "\n",
    "# Test another synchronous generation\n",
    "print(\"\\nTesting another synchronous generation:\")\n",
    "response = model.generate_content(\n",
    "    \"What is the difference between supervised and unsupervised learning?\",\n",
    "    session=ao_client\n",
    ")\n",
    "print(response.text)"
   ]
  },
  {
   "cell_type": "code",
   "execution_count": null,
   "id": "c6a674c0",
   "metadata": {},
   "outputs": [],
   "source": [
    "# End session and check stats\n",
    "agentops.end_session(\n",
    "    end_state=\"Success\",\n",
    "    end_state_reason=\"Gemini integration example completed successfully\"\n",
    ")"
   ]
  },
  {
   "cell_type": "code",
   "execution_count": null,
   "id": "b6d35f28",
   "metadata": {},
   "outputs": [],
   "source": [
    "# Clean up\n",
    "provider.undo_override()"
   ]
  }
 ],
 "metadata": {},
 "nbformat": 4,
 "nbformat_minor": 5
}
