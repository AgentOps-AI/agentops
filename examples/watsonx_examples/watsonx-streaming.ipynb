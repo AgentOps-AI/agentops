{
 "cells": [
  {
   "cell_type": "markdown",
   "metadata": {},
   "source": [
    "# IBM Watsonx AI Streaming with AgentOps\n",
    "\n",
    "This notebook demonstrates how to use IBM Watsonx AI for streaming text generation and streaming chat completion with AgentOps instrumentation."
   ]
  },
  {
   "cell_type": "markdown",
   "metadata": {},
   "source": [
    "## Setup\n",
    "\n",
    "First, let's import the necessary libraries and initialize AgentOps:"
   ]
  },
  {
   "cell_type": "code",
   "execution_count": null,
   "metadata": {},
   "outputs": [],
   "source": [
    "import agentops\n",
    "from ibm_watsonx_ai import Credentials\n",
    "from ibm_watsonx_ai.foundation_models import ModelInference\n",
    "from dotenv import load_dotenv\n",
    "import os\n",
    "\n",
    "# Load environment variables\n",
    "load_dotenv()\n",
    "\n",
    "# Initialize AgentOps\n",
    "agentops.init()"
   ]
  },
  {
   "cell_type": "markdown",
   "metadata": {},
   "source": [
    "## Initialize IBM Watsonx AI Credentials\n",
    "\n",
    "To use IBM Watsonx AI, you need to set up your credentials and project ID."
   ]
  },
  {
   "cell_type": "code",
   "execution_count": 2,
   "metadata": {},
   "outputs": [],
   "source": [
    "# Initialize credentials - replace with your own API key\n",
    "# Best practice: Store API keys in environment variables\n",
    "credentials = Credentials(\n",
    "    url=os.getenv(\"WATSONX_URL\", \"https://eu-de.ml.cloud.ibm.com\"),\n",
    "    api_key=os.getenv(\"WATSONX_API_KEY\", \"your-api-key-here\"),\n",
    ")\n",
    "\n",
    "# Project ID for your IBM Watsonx project\n",
    "project_id = os.getenv(\"WATSONX_PROJECT_ID\", \"your-project-id-here\")"
   ]
  },
  {
   "cell_type": "markdown",
   "metadata": {},
   "source": [
    "## Initialize Models\n",
    "\n",
    "Let's initialize models for our streaming examples:"
   ]
  },
  {
   "cell_type": "code",
   "execution_count": 3,
   "metadata": {},
   "outputs": [],
   "source": [
    "# Initialize text generation model\n",
    "gen_model = ModelInference(\n",
    "    model_id=\"google/flan-ul2\",\n",
    "    credentials=credentials,\n",
    "    project_id=project_id\n",
    ")\n",
    "\n",
    "# Initialize chat model\n",
    "chat_model = ModelInference(\n",
    "    model_id=\"meta-llama/llama-3-3-70b-instruct\",\n",
    "    credentials=credentials,\n",
    "    project_id=project_id\n",
    ")"
   ]
  },
  {
   "cell_type": "markdown",
   "metadata": {},
   "source": [
    "## Streaming Text Generation\n",
    "\n",
    "Let's use IBM Watsonx AI to generate streaming text:"
   ]
  },
  {
   "cell_type": "code",
   "execution_count": null,
   "metadata": {},
   "outputs": [],
   "source": [
    "# Streaming text generation\n",
    "prompt = \"List 3 benefits of machine learning:\"\n",
    "stream_response = gen_model.generate_text_stream(prompt)\n",
    "\n",
    "print(\"Streaming Response:\")\n",
    "full_stream_response = \"\"\n",
    "for chunk in stream_response:\n",
    "    if isinstance(chunk, str):\n",
    "        print(chunk, end=\"\", flush=True)\n",
    "        full_stream_response += chunk\n",
    "print(\"\\n\\nComplete Response:\")\n",
    "print(full_stream_response)"
   ]
  },
  {
   "cell_type": "markdown",
   "metadata": {},
   "source": [
    "## Streaming Chat Completion\n",
    "\n",
    "Now, let's try streaming chat completion:"
   ]
  },
  {
   "cell_type": "code",
   "execution_count": null,
   "metadata": {},
   "outputs": [],
   "source": [
    "# Format messages for chat\n",
    "chat_stream_messages = [\n",
    "    {\"role\": \"system\", \"content\": \"You are a concise assistant.\"},\n",
    "    {\"role\": \"user\", \"content\": \"Explain the concept of photosynthesis in one sentence.\"}\n",
    "]\n",
    "\n",
    "# Get streaming chat response\n",
    "chat_stream_response_gen = chat_model.chat_stream(messages=chat_stream_messages)\n",
    "\n",
    "print(\"Chat Stream Response:\")\n",
    "full_chat_stream_response = \"\"\n",
    "for chunk in chat_stream_response_gen:\n",
    "    try:\n",
    "        # Check structure based on SDK docstring example\n",
    "        if chunk and 'choices' in chunk and chunk['choices']:\n",
    "            delta = chunk['choices'][0].get('delta', {})\n",
    "            content_chunk = delta.get('content')\n",
    "            if content_chunk:\n",
    "                print(content_chunk, end=\"\", flush=True)\n",
    "                full_chat_stream_response += content_chunk\n",
    "    except Exception as e:\n",
    "        print(f\"Error processing chat stream chunk: {e}, Chunk: {chunk}\")\n",
    "\n",
    "print(\"\\n\\nComplete Chat Response:\")\n",
    "print(full_chat_stream_response)"
   ]
  },
  {
   "cell_type": "markdown",
   "metadata": {},
   "source": [
    "## Another Streaming Chat Example\n",
    "\n",
    "Let's try another example with a more complex query:"
   ]
  },
  {
   "cell_type": "code",
   "execution_count": null,
   "metadata": {},
   "outputs": [],
   "source": [
    "# New chat messages for streaming\n",
    "chat_stream_messages = [\n",
    "    {\"role\": \"system\", \"content\": \"You are a helpful assistant that provides step-by-step explanations.\"},\n",
    "    {\"role\": \"user\", \"content\": \"Explain how to make a simple chocolate cake.\"}\n",
    "]\n",
    "\n",
    "# Get streaming chat response\n",
    "chat_stream_response_gen = chat_model.chat_stream(messages=chat_stream_messages)\n",
    "\n",
    "print(\"Chat Stream Response:\")\n",
    "full_chat_stream_response = \"\"\n",
    "for chunk in chat_stream_response_gen:\n",
    "    try:\n",
    "        if chunk and 'choices' in chunk and chunk['choices']:\n",
    "            delta = chunk['choices'][0].get('delta', {})\n",
    "            content_chunk = delta.get('content')\n",
    "            if content_chunk:\n",
    "                print(content_chunk, end=\"\", flush=True)\n",
    "                full_chat_stream_response += content_chunk\n",
    "    except Exception as e:\n",
    "        print(f\"Error processing chat stream chunk: {e}, Chunk: {chunk}\")\n",
    "\n",
    "print(\"\\n\\nComplete Chat Response:\")\n",
    "print(full_chat_stream_response)"
   ]
  },
  {
   "cell_type": "markdown",
   "metadata": {},
   "source": [
    "## Clean Up\n",
    "\n",
    "Finally, let's close the persistent connection with the models:"
   ]
  },
  {
   "cell_type": "code",
   "execution_count": 7,
   "metadata": {},
   "outputs": [],
   "source": [
    "# Close connections\n",
    "gen_model.close_persistent_connection()\n",
    "chat_model.close_persistent_connection()"
   ]
  }
 ],
 "metadata": {
  "kernelspec": {
   "display_name": ".venv",
   "language": "python",
   "name": "python3"
  },
  "language_info": {
   "codemirror_mode": {
    "name": "ipython",
    "version": 3
   },
   "file_extension": ".py",
   "mimetype": "text/x-python",
   "name": "python",
   "nbconvert_exporter": "python",
   "pygments_lexer": "ipython3",
   "version": "3.11.12"
  }
 },
 "nbformat": 4,
 "nbformat_minor": 4
}
