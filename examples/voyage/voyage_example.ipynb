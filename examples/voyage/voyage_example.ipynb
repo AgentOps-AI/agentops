{
 "cells": [
  {
   "cell_type": "markdown",
   "id": "b320f985",
   "metadata": {},
   "source": [
    "# Voyage AI Integration Example\n",
    "\n",
    "This notebook demonstrates how to use the Voyage AI provider with AgentOps for embedding operations. The integration supports both synchronous and asynchronous operations, includes token usage tracking, and provides proper error handling.\n",
    "\n",
    "## Requirements\n",
    "- Python >= 3.9 (Voyage AI SDK requirement)\n",
    "- AgentOps library\n",
    "- Voyage AI API key"
   ]
  },
  {
   "cell_type": "code",
   "execution_count": null,
   "id": "1086e2be",
   "metadata": {},
   "outputs": [],
   "source": [
    "import os\n",
    "import asyncio\n",
    "import voyageai\n",
    "from agentops.llms.providers.voyage import VoyageProvider\n",
    "\n",
    "# Set up your Voyage AI API key\n",
    "os.environ[\"VOYAGE_API_KEY\"] = \"your-api-key-here\""
   ]
  },
  {
   "cell_type": "markdown",
   "id": "7e2b8952",
   "metadata": {},
   "source": [
    "## Initialize Voyage AI Provider\n",
    "\n",
    "First, we'll create a Voyage AI client and initialize the provider:"
   ]
  },
  {
   "cell_type": "code",
   "execution_count": null,
   "id": "9a981151",
   "metadata": {},
   "outputs": [],
   "source": [
    "# Initialize Voyage client and provider\n",
    "voyage_client = voyageai.Client()\n",
    "provider = VoyageProvider(voyage_client)\n",
    "\n",
    "print(\"Provider initialized successfully!\")"
   ]
  },
  {
   "cell_type": "markdown",
   "id": "b46c6d1b",
   "metadata": {},
   "source": [
    "## Basic Embedding Operation\n",
    "\n",
    "Let's create embeddings for some example text and examine the token usage:"
   ]
  },
  {
   "cell_type": "code",
   "execution_count": null,
   "id": "771c8190",
   "metadata": {},
   "outputs": [],
   "source": [
    "# Example text for embedding\n",
    "text = \"The quick brown fox jumps over the lazy dog.\"\n",
    "\n",
    "# Generate embeddings\n",
    "result = provider.embed(text)\n",
    "\n",
    "print(f\"Embedding dimension: {len(result['embeddings'][0])}\")\n",
    "print(f\"Token usage: {result['usage']}\")"
   ]
  },
  {
   "cell_type": "markdown",
   "id": "bb741f3f",
   "metadata": {},
   "source": [
    "## Asynchronous Embedding\n",
    "\n",
    "The provider also supports asynchronous operations for better performance when handling multiple requests:"
   ]
  },
  {
   "cell_type": "code",
   "execution_count": null,
   "id": "781d672a",
   "metadata": {},
   "outputs": [],
   "source": [
    "async def process_multiple_texts():\n",
    "    texts = [\n",
    "        \"First example text\",\n",
    "        \"Second example text\",\n",
    "        \"Third example text\"\n",
    "    ]\n",
    "\n",
    "    # Process texts concurrently\n",
    "    tasks = [provider.aembed(text) for text in texts]\n",
    "    results = await asyncio.gather(*tasks)\n",
    "\n",
    "    return results\n",
    "\n",
    "# Run async example\n",
    "results = await process_multiple_texts()\n",
    "\n",
    "# Display results\n",
    "for i, result in enumerate(results, 1):\n",
    "    print(f\"\\nText {i}:\")\n",
    "    print(f\"Embedding dimension: {len(result['embeddings'][0])}\")\n",
    "    print(f\"Token usage: {result['usage']}\")"
   ]
  },
  {
   "cell_type": "markdown",
   "id": "f447fe69",
   "metadata": {},
   "source": [
    "## Error Handling\n",
    "\n",
    "The provider includes proper error handling for various scenarios:"
   ]
  },
  {
   "cell_type": "code",
   "execution_count": null,
   "id": "c66abe58",
   "metadata": {},
   "outputs": [],
   "source": [
    "# Example: Handle invalid input\n",
    "try:\n",
    "    result = provider.embed(None)\n",
    "except ValueError as e:\n",
    "    print(f\"Caught ValueError: {e}\")\n",
    "\n",
    "# Example: Handle API errors\n",
    "try:\n",
    "    # Temporarily set invalid API key\n",
    "    os.environ[\"VOYAGE_API_KEY\"] = \"invalid-key\"\n",
    "    new_client = voyageai.Client()\n",
    "    new_provider = VoyageProvider(new_client)\n",
    "    result = new_provider.embed(\"test\")\n",
    "except Exception as e:\n",
    "    print(f\"Caught API error: {e}\")\n",
    "finally:\n",
    "    # Restore original API key\n",
    "    os.environ[\"VOYAGE_API_KEY\"] = \"your-api-key-here\""
   ]
  }
 ],
 "metadata": {
  "kernelspec": {
   "display_name": "Python 3",
   "language": "python",
   "name": "python3"
  },
  "language_info": {
   "codemirror_mode": {
    "name": "ipython",
    "version": 3
   },
   "file_extension": ".py",
   "mimetype": "text/x-python",
   "name": "python",
   "nbconvert_exporter": "python",
   "pygments_lexer": "ipython3",
   "version": "3.9.0"
  }
 },
 "nbformat": 4,
 "nbformat_minor": 5
}
