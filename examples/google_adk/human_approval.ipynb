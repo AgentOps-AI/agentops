{
 "cells": [
  {
   "cell_type": "markdown",
   "metadata": {},
   "source": [
    "# Google ADK Example: Human Approval Workflow with AgentOps"
   ]
  },
  {
   "cell_type": "markdown",
   "metadata": {},
   "source": [
    "This notebook demonstrates a complete human approval workflow using the Google ADK (Agent Development Kit), integrated with AgentOps for observability.\n",
    "\n",
    "**Key Features:**\n",
    "- **Sequential Agent Processing:** The workflow uses multiple agents chained together to handle different stages of the approval process.\n",
    "- **External Tool Integration:** An agent interacts with an external tool that simulates (or in this version, directly prompts for) human approval.\n",
    "- **Session State Management:** Information is passed between agents and persisted using session state.\n",
    "- **AgentOps Observability:** All agent actions, tool calls, and LLM interactions are traced and can be viewed in your AgentOps dashboard.\n",
    "- **Interactive Human Input:** The approval step now requires direct input from the user."
   ]
  },
  {
   "cell_type": "markdown",
   "metadata": {},
   "source": [
    "## 1. Setup and Dependencies"
   ]
  },
  {
   "cell_type": "markdown",
   "metadata": {},
   "source": [
    "First, let's install the necessary libraries if they are not already present and import them."
   ]
  },
  {
   "cell_type": "code",
   "execution_count": null,
   "metadata": {},
   "outputs": [],
   "source": [
    "%pip install google-adk agentops python-dotenv nest_asyncio asyncio"
   ]
  },
  {
   "cell_type": "code",
   "execution_count": 1,
   "metadata": {},
   "outputs": [],
   "source": [
    "import json\n",
    "import os\n",
    "import asyncio\n",
    "from google.adk.agents import LlmAgent, SequentialAgent\n",
    "from google.adk.tools import FunctionTool\n",
    "from google.adk.runners import Runner\n",
    "from google.adk.sessions import InMemorySessionService\n",
    "from google.genai import types\n",
    "from pydantic import BaseModel, Field\n",
    "import nest_asyncio\n",
    "import agentops\n",
    "from dotenv import load_dotenv"
   ]
  },
  {
   "cell_type": "markdown",
   "metadata": {},
   "source": [
    "## 2. Configuration and Initialization"
   ]
  },
  {
   "cell_type": "markdown",
   "metadata": {},
   "source": [
    "Load environment variables (especially `AGENTOPS_API_KEY` and your Google API key for Gemini) and initialize AgentOps."
   ]
  },
  {
   "cell_type": "code",
   "execution_count": null,
   "metadata": {},
   "outputs": [],
   "source": [
    "# Load environment variables from .env file\n",
    "load_dotenv()\n",
    "nest_asyncio.apply()\n",
    "AGENTOPS_API_KEY = os.getenv(\"AGENTOPS_API_KEY\") or \"your_agentops_api_key_here\"\n",
    "# Initialize AgentOps - Just 2 lines!\n",
    "agentops.init(AGENTOPS_API_KEY, trace_name=\"adk-human-approval-notebook\", auto_start_session=False)"
   ]
  },
  {
   "cell_type": "markdown",
   "metadata": {},
   "source": [
    "Define some constants for our application."
   ]
  },
  {
   "cell_type": "code",
   "execution_count": null,
   "metadata": {},
   "outputs": [],
   "source": [
    "APP_NAME = \"human_approval_app_notebook\"\n",
    "USER_ID = \"test_user_notebook_123\"\n",
    "SESSION_ID = \"approval_session_notebook_456\"\n",
    "MODEL_NAME = \"gemini-1.5-flash\"\n",
    "agentops.start_trace(trace_name=APP_NAME, tags=[\"google_adk\",\"notebook\"])"
   ]
  },
  {
   "cell_type": "markdown",
   "metadata": {},
   "source": [
    "## 3. Define Schemas"
   ]
  },
  {
   "cell_type": "markdown",
   "metadata": {},
   "source": [
    "Pydantic models are used to define the structure of data for approval requests and decisions. This helps with validation and clarity."
   ]
  },
  {
   "cell_type": "code",
   "execution_count": 4,
   "metadata": {},
   "outputs": [],
   "source": [
    "class ApprovalRequest(BaseModel):\n",
    "    amount: float = Field(description=\"The amount requiring approval\")\n",
    "    reason: str = Field(description=\"The reason for the request\")\n",
    "class ApprovalDecision(BaseModel):\n",
    "    decision: str = Field(description=\"The approval decision: 'approved' or 'rejected'\")\n",
    "    comments: str = Field(description=\"Additional comments from the approver\")"
   ]
  },
  {
   "cell_type": "markdown",
   "metadata": {},
   "source": [
    "## 4. External Approval Tool (with Human Interaction)"
   ]
  },
  {
   "cell_type": "markdown",
   "metadata": {},
   "source": [
    "This tool now directly prompts the user for an approval decision. In a real-world scenario, this might involve sending a notification to an approver and waiting for their response through a UI or API."
   ]
  },
  {
   "cell_type": "code",
   "execution_count": 5,
   "metadata": {},
   "outputs": [],
   "source": [
    "async def external_approval_tool(amount: float, reason: str) -> str:\n",
    "    \"\"\" \n",
    "    Prompts for human approval and returns the decision as a JSON string.\n",
    "    \"\"\"\n",
    "    print(f\"🔔 HUMAN APPROVAL REQUIRED:\")\n",
    "    print(f\"   Amount: ${amount:,.2f}\")\n",
    "    print(f\"   Reason: {reason}\")\n",
    "    decision = \"\"\n",
    "    while decision.lower() not in [\"approved\", \"rejected\"]:\n",
    "        decision = input(\"   Enter decision (approved/rejected): \").strip().lower()\n",
    "        if decision.lower() not in [\"approved\", \"rejected\"]:\n",
    "            print(\"   Invalid input. Please enter 'approved' or 'rejected'.\")\n",
    "    comments = input(\"   Enter comments (optional): \").strip()\n",
    "    print(f\"   Decision: {decision.upper()}\")\n",
    "    print(f\"   Comments: {comments if comments else 'N/A'}\")\n",
    "    return json.dumps({\n",
    "        \"decision\": decision,\n",
    "        \"comments\": comments,\n",
    "        \"amount\": amount,\n",
    "        \"reason\": reason\n",
    "    })\n",
    "\n",
    "# Create the approval tool instance\n",
    "approval_tool = FunctionTool(func=external_approval_tool)"
   ]
  },
  {
   "cell_type": "markdown",
   "metadata": {},
   "source": [
    "## 5. Define Agents"
   ]
  },
  {
   "cell_type": "markdown",
   "metadata": {},
   "source": [
    "We define three agents for our workflow:\n",
    "1.  **`PrepareApprovalAgent`**: Extracts details from the user's request.\n",
    "2.  **`RequestHumanApprovalAgent`**: Uses the `external_approval_tool` to get a decision.\n",
    "3.  **`ProcessDecisionAgent`**: Processes the decision and formulates a final response."
   ]
  },
  {
   "cell_type": "code",
   "execution_count": 6,
   "metadata": {},
   "outputs": [],
   "source": [
    "# Agent 1: Prepare the approval request\n",
    "prepare_request = LlmAgent(\n",
    "    model=MODEL_NAME,\n",
    "    name=\"PrepareApprovalAgent\",\n",
    "    description=\"Extracts and prepares approval request details from user input\",\n",
    "    instruction=\"\"\"You are an approval request preparation agent.\n",
    "        Your task:\n",
    "        1. Extract the amount and reason from the user's request\n",
    "        2. Store these values in the session state with keys 'approval_amount' and 'approval_reason'\n",
    "        3. Validate that both amount and reason are provided\n",
    "        4. Respond with a summary of what will be submitted for approval\n",
    "    If the user input is missing amount or reason, ask for clarification.\n",
    "    \"\"\",\n",
    "    output_key=\"request_prepared\"\n",
    ")\n",
    "\n",
    "# Agent 2: Request human approval using the tool\n",
    "request_approval = LlmAgent(\n",
    "    model=MODEL_NAME,\n",
    "    name=\"RequestHumanApprovalAgent\", \n",
    "    description=\"Calls the external approval system with prepared request details\",\n",
    "    instruction=\"\"\"You are a human approval request agent.\n",
    "        Your task:\n",
    "        1. Get the 'approval_amount' and 'approval_reason' from the session state\n",
    "        2. Use the external_approval_tool with these values\n",
    "        3. Store the approval decision in session state with key 'human_decision'\n",
    "        4. Respond with the approval status\n",
    "    Always use the exact values from the session state for the tool call.\n",
    "    \"\"\",\n",
    "    tools=[approval_tool],\n",
    "    output_key=\"approval_requested\"\n",
    ")\n",
    "\n",
    "# Agent 3: Process the approval decision\n",
    "process_decision = LlmAgent(\n",
    "    model=MODEL_NAME,\n",
    "    name=\"ProcessDecisionAgent\",\n",
    "    description=\"Processes the human approval decision and provides final response\",\n",
    "    instruction=\"\"\"You are a decision processing agent.\n",
    "        Your task:\n",
    "        1. Check the 'human_decision' from session state\n",
    "        2. Parse the approval decision JSON\n",
    "        3. If approved: congratulate and provide next steps\n",
    "        4. If rejected: explain the rejection and suggest alternatives\n",
    "        5. Provide a clear, helpful final response to the user\n",
    "\n",
    "    Be professional and helpful in your response.\n",
    "    \"\"\",\n",
    "    output_key=\"final_decision\"\n",
    ")"
   ]
  },
  {
   "cell_type": "markdown",
   "metadata": {},
   "source": [
    "## 6. Create Sequential Workflow"
   ]
  },
  {
   "cell_type": "markdown",
   "metadata": {},
   "source": [
    "Combine the agents into a sequential workflow. The `SequentialAgent` ensures that the sub-agents are executed in the specified order."
   ]
  },
  {
   "cell_type": "code",
   "execution_count": 7,
   "metadata": {},
   "outputs": [],
   "source": [
    "approval_workflow = SequentialAgent(\n",
    "    name=\"HumanApprovalWorkflowNotebook\",\n",
    "    description=\"Complete workflow for processing approval requests with human oversight\",\n",
    "    sub_agents=[prepare_request, request_approval, process_decision]\n",
    ")"
   ]
  },
  {
   "cell_type": "markdown",
   "metadata": {},
   "source": [
    "## 7. Session Management and Runner"
   ]
  },
  {
   "cell_type": "markdown",
   "metadata": {},
   "source": [
    "Set up an in-memory session service and the workflow runner."
   ]
  },
  {
   "cell_type": "code",
   "execution_count": 8,
   "metadata": {},
   "outputs": [],
   "source": [
    "session_service = InMemorySessionService()\n",
    "# Create runner\n",
    "workflow_runner = Runner(\n",
    "    agent=approval_workflow,\n",
    "    app_name=APP_NAME,\n",
    "    session_service=session_service\n",
    ")"
   ]
  },
  {
   "cell_type": "markdown",
   "metadata": {},
   "source": [
    "## 8. Helper Function to Run Workflow"
   ]
  },
  {
   "cell_type": "markdown",
   "metadata": {},
   "source": [
    "This function encapsulates the logic to run the workflow for a given user request and session ID."
   ]
  },
  {
   "cell_type": "code",
   "execution_count": 9,
   "metadata": {},
   "outputs": [],
   "source": [
    "async def run_approval_workflow_notebook(user_request: str, session_id: str):\n",
    "    \"\"\"Run the complete approval workflow with a user request in the notebook environment\"\"\"\n",
    "    print(f\"{'='*60}\")\n",
    "    print(f\" Starting Approval Workflow for Session: {session_id}\")\n",
    "    print(f\"{'='*60}\")\n",
    "    print(f\"User Request: {user_request}\")\n",
    "    # Create user message\n",
    "    user_content = types.Content(\n",
    "        role='user', \n",
    "        parts=[types.Part(text=user_request)]\n",
    "    )\n",
    "    step_count = 0\n",
    "    final_response = \"No response received\"\n",
    "    # Run the workflow\n",
    "    async for event in workflow_runner.run_async(\n",
    "        user_id=USER_ID,\n",
    "        session_id=session_id,\n",
    "        new_message=user_content,\n",
    "    ):\n",
    "        if event.author and event.content:\n",
    "            step_count += 1\n",
    "            print(f\"📋 Step {step_count} - {event.author}:\")\n",
    "            if event.content.parts:\n",
    "                response_text = event.content.parts[0].text\n",
    "                print(f\"   {response_text}\")\n",
    "                if event.is_final_response():\n",
    "                    final_response = response_text\n",
    "    session = await session_service.get_session(\n",
    "        app_name=APP_NAME,\n",
    "        user_id=USER_ID, \n",
    "        session_id=session_id,\n",
    "    )\n",
    "    print(f\"{'='*60}\")\n",
    "    print(f\"📊 Workflow Complete - Session State ({session_id}):\")\n",
    "    print(f\"{'='*60}\")\n",
    "    for key, value in session.state.items():\n",
    "        print(f\"   {key}: {value}\")\n",
    "    print(f\"🎯 Final Response: {final_response}\")\n",
    "    return final_response"
   ]
  },
  {
   "cell_type": "markdown",
   "metadata": {},
   "source": [
    "## 9. Main Execution Logic"
   ]
  },
  {
   "cell_type": "markdown",
   "metadata": {},
   "source": [
    "This cell contains the main logic to run the workflow with a few test cases. Each test case will run in its own session."
   ]
  },
  {
   "cell_type": "code",
   "execution_count": null,
   "metadata": {},
   "outputs": [],
   "source": [
    "async def main_notebook():\n",
    "    test_requests = [\n",
    "        \"I need approval for $750 for team lunch and celebrations\",\n",
    "        \"Please approve $3,000 for a conference ticket and travel expenses\",\n",
    "        \"I need $12,000 approved for critical software licenses renewal\"\n",
    "    ]\n",
    "    for i, request in enumerate(test_requests, 1):\n",
    "        current_session_id = f\"approval_session_notebook_{456 + i -1}\"\n",
    "        # Create the session before running the workflow\n",
    "        await session_service.create_session(\n",
    "            app_name=APP_NAME,\n",
    "            user_id=USER_ID,\n",
    "            session_id=current_session_id\n",
    "        )\n",
    "        print(f\"Created session: {current_session_id}\")\n",
    "        await run_approval_workflow_notebook(request, current_session_id)\n",
    "try:\n",
    "    asyncio.run(main_notebook())\n",
    "    agentops.end_trace(end_state=\"Success\")\n",
    "except Exception as e:\n",
    "    print(f\"Error: {e}\")\n",
    "    agentops.end_trace(end_state=\"Error\")"
   ]
  }
 ],
 "metadata": {
  "kernelspec": {
   "display_name": ".venv",
   "language": "python",
   "name": "python3"
  },
  "language_info": {
   "codemirror_mode": {
    "name": "ipython",
    "version": 3
   },
   "file_extension": ".py",
   "mimetype": "text/x-python",
   "name": "python",
   "nbconvert_exporter": "python",
   "pygments_lexer": "ipython3",
   "version": "3.11.12"
  }
 },
 "nbformat": 4,
 "nbformat_minor": 5
}
