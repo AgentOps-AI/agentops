{
 "cells": [
  {
   "cell_type": "code",
   "execution_count": 1,
   "metadata": {},
   "outputs": [
    {
     "name": "stdout",
     "output_type": "stream",
     "text": [
      "Requirement already satisfied: multion in /Users/howardgil/Desktop/agentops/AgentOps-AI/agentops/env/lib/python3.12/site-packages (1.1.0)\n",
      "Requirement already satisfied: httpx>=0.21.2 in /Users/howardgil/Desktop/agentops/AgentOps-AI/agentops/env/lib/python3.12/site-packages (from multion) (0.27.0)\n",
      "Requirement already satisfied: httpx-sse==0.4.0 in /Users/howardgil/Desktop/agentops/AgentOps-AI/agentops/env/lib/python3.12/site-packages (from multion) (0.4.0)\n",
      "Requirement already satisfied: pydantic>=1.9.2 in /Users/howardgil/Desktop/agentops/AgentOps-AI/agentops/env/lib/python3.12/site-packages (from multion) (2.7.1)\n",
      "Requirement already satisfied: typing_extensions>=4.0.0 in /Users/howardgil/Desktop/agentops/AgentOps-AI/agentops/env/lib/python3.12/site-packages (from multion) (4.11.0)\n",
      "Requirement already satisfied: anyio in /Users/howardgil/Desktop/agentops/AgentOps-AI/agentops/env/lib/python3.12/site-packages (from httpx>=0.21.2->multion) (4.3.0)\n",
      "Requirement already satisfied: certifi in /Users/howardgil/Desktop/agentops/AgentOps-AI/agentops/env/lib/python3.12/site-packages (from httpx>=0.21.2->multion) (2024.2.2)\n",
      "Requirement already satisfied: httpcore==1.* in /Users/howardgil/Desktop/agentops/AgentOps-AI/agentops/env/lib/python3.12/site-packages (from httpx>=0.21.2->multion) (1.0.5)\n",
      "Requirement already satisfied: idna in /Users/howardgil/Desktop/agentops/AgentOps-AI/agentops/env/lib/python3.12/site-packages (from httpx>=0.21.2->multion) (3.7)\n",
      "Requirement already satisfied: sniffio in /Users/howardgil/Desktop/agentops/AgentOps-AI/agentops/env/lib/python3.12/site-packages (from httpx>=0.21.2->multion) (1.3.1)\n",
      "Requirement already satisfied: h11<0.15,>=0.13 in /Users/howardgil/Desktop/agentops/AgentOps-AI/agentops/env/lib/python3.12/site-packages (from httpcore==1.*->httpx>=0.21.2->multion) (0.14.0)\n",
      "Requirement already satisfied: annotated-types>=0.4.0 in /Users/howardgil/Desktop/agentops/AgentOps-AI/agentops/env/lib/python3.12/site-packages (from pydantic>=1.9.2->multion) (0.7.0)\n",
      "Requirement already satisfied: pydantic-core==2.18.2 in /Users/howardgil/Desktop/agentops/AgentOps-AI/agentops/env/lib/python3.12/site-packages (from pydantic>=1.9.2->multion) (2.18.2)\n",
      "Note: you may need to restart the kernel to use updated packages.\n",
      "Requirement already satisfied: agentops in /Users/howardgil/Desktop/agentops/AgentOps-AI/agentops/env/lib/python3.12/site-packages (0.2.0)\n",
      "Requirement already satisfied: requests==2.31.0 in /Users/howardgil/Desktop/agentops/AgentOps-AI/agentops/env/lib/python3.12/site-packages (from agentops) (2.31.0)\n",
      "Requirement already satisfied: psutil==5.9.8 in /Users/howardgil/Desktop/agentops/AgentOps-AI/agentops/env/lib/python3.12/site-packages (from agentops) (5.9.8)\n",
      "Requirement already satisfied: packaging==23.2 in /Users/howardgil/Desktop/agentops/AgentOps-AI/agentops/env/lib/python3.12/site-packages (from agentops) (23.2)\n",
      "Requirement already satisfied: charset-normalizer<4,>=2 in /Users/howardgil/Desktop/agentops/AgentOps-AI/agentops/env/lib/python3.12/site-packages (from requests==2.31.0->agentops) (3.3.2)\n",
      "Requirement already satisfied: idna<4,>=2.5 in /Users/howardgil/Desktop/agentops/AgentOps-AI/agentops/env/lib/python3.12/site-packages (from requests==2.31.0->agentops) (3.7)\n",
      "Requirement already satisfied: urllib3<3,>=1.21.1 in /Users/howardgil/Desktop/agentops/AgentOps-AI/agentops/env/lib/python3.12/site-packages (from requests==2.31.0->agentops) (2.2.1)\n",
      "Requirement already satisfied: certifi>=2017.4.17 in /Users/howardgil/Desktop/agentops/AgentOps-AI/agentops/env/lib/python3.12/site-packages (from requests==2.31.0->agentops) (2024.2.2)\n",
      "Note: you may need to restart the kernel to use updated packages.\n",
      "Requirement already satisfied: python-dotenv in /Users/howardgil/Desktop/agentops/AgentOps-AI/agentops/env/lib/python3.12/site-packages (1.0.1)\n",
      "Note: you may need to restart the kernel to use updated packages.\n"
     ]
    }
   ],
   "source": [
    "%pip install multion\n",
    "%pip install agentops\n",
    "%pip install python-dotenv"
   ]
  },
  {
   "cell_type": "code",
   "execution_count": 5,
   "metadata": {},
   "outputs": [
    {
     "name": "stderr",
     "output_type": "stream",
     "text": [
      "🖇 AgentOps: Cannot start session - session already started\n"
     ]
    },
    {
     "name": "stdout",
     "output_type": "stream",
     "text": [
      "New Session Created\n",
      "I am searching for \"satellite phone\" on the REI website to find the top reviewed product.\n",
      "\n",
      "I am clicking on the Garmin inReach Mini 2, which has the highest number of reviews and a high average rating.\n",
      "\n",
      "I am clicking on the \"Add to cart\" button for the Garmin inReach Mini 2 and waiting to handle any modals that may appear.\n",
      "\n",
      "I am dismissing the modal by clicking \"No, thanks\" and waiting for it to close.\n",
      "\n",
      "I am clearing the search input field to reset the search and ensure no previous search results interfere.\n",
      "\n",
      "I am clicking the \"Verify\" button to complete any CAPTCHA verification that may be required.\n",
      "\n",
      "I am clicking on the Garmin inReach Mini 2, which has the highest number of reviews and a high average rating, to view its details and add it to the cart.\n",
      "\n",
      "I am clicking the \"Verify\" button to complete any CAPTCHA verification that may be required.\n",
      "\n",
      "I am clicking the \"Verify\" button to complete any CAPTCHA verification that may be required.\n",
      "\n",
      "I am clicking the \"Verify\" button to complete any CAPTCHA verification that may be required.\n",
      "\n",
      "I am clicking the \"Verify\" button to complete any CAPTCHA verification that may be required.\n",
      "\n",
      "I am clicking the \"Verify\" button to complete any CAPTCHA verification that may be required.\n",
      "\n",
      "I am clicking the \"Verify\" button to complete any CAPTCHA verification that may be required.\n",
      "\n",
      "I am typing \"satellite phone\" into the search bar and submitting the search to find the top reviewed satellite phone on REI.\n",
      "\n",
      "I am clearing the search bar, retyping \"satellite phone,\" and submitting the search to ensure accurate results.\n",
      "\n",
      "I am clicking the \"Verify\" button to complete any CAPTCHA verification that may be required.\n",
      "\n",
      "It appears that there are no results available for \"satellite phone\" on the REI website.\n",
      "\n",
      "task completed\n",
      "It appears that there are no results available for \"satellite phone\" on the REI website.\n",
      "\n",
      "screenshot of session:  https://multion-client-screenshots.s3.us-east-2.amazonaws.com/cb949723-57b6-407c-b4d1-80ff8aec30b1_02be3e0f-617a-4f6e-9ddc-ad4b015b9a1c_screenshot.png\n"
     ]
    },
    {
     "name": "stderr",
     "output_type": "stream",
     "text": [
      "🖇 AgentOps: Invalid end_state. Please use one of the EndState enums\n"
     ]
    },
    {
     "name": "stdout",
     "output_type": "stream",
     "text": [
      "close_session_response:  status='Session closed' session_id='cb949723-57b6-407c-b4d1-80ff8aec30b1'\n"
     ]
    }
   ],
   "source": [
    "import multion\n",
    "from multion.client import MultiOn\n",
    "import agentops\n",
    "from agentops import ActionEvent, LLMEvent, ToolEvent, ErrorEvent\n",
    "import os\n",
    "import dotenv\n",
    "from dotenv import load_dotenv\n",
    "\n",
    "load_dotenv()\n",
    "\n",
    "agentops.init(\"33413f5a-5cf1-4d8f-b0a2-e995a8d4298a\")\n",
    "multion = MultiOn(api_key=os.environ.get(\"MULTION_API_KEY\"), agentops_api_key=...)\n",
    "create_session_params= {\n",
    "    \"url\": \"https://www.rei.com/\"\n",
    "}\n",
    "action_event = ActionEvent(params=create_session_params,action_type=\"create_session\")\n",
    "create_session_response = multion.sessions.create(**create_session_params)\n",
    "action_event.returns = create_session_response.__dict__\n",
    "agentops.record(action_event)\n",
    "session_id = create_session_response.session_id\n",
    "print(create_session_response.message)\n",
    "cmd=\"find the top reviewed satellite phone on REI and add it to my cart. Dismiss any modals as necessary.\"\n",
    "step_session_params= {\n",
    "   \t\"session_id\": session_id,\n",
    "    \"cmd\": cmd,\n",
    "    \"url\": \"https://www.rei.com/\",\n",
    "    \"include_screenshot\":True,\n",
    "}\n",
    "llm_event = LLMEvent(prompt=cmd)\n",
    "agentops.record(llm_event)\n",
    "\n",
    "action_event = ActionEvent(params=step_session_params,action_type=\"step_session\")\n",
    "llm_event = LLMEvent()\n",
    "step_session_response = multion.sessions.step(**step_session_params)\n",
    "print(step_session_response.message)\n",
    "action_event.returns = step_session_response.__dict__\n",
    "action_event.screenshot = step_session_response.screenshot\n",
    "llm_event.prompt = step_session_response.message\n",
    "agentops.record(action_event)\n",
    "agentops.record(llm_event)\n",
    "\n",
    "while step_session_response.status == 'CONTINUE':\n",
    "  action_event = ActionEvent(params=step_session_params,action_type=\"step_session\")\n",
    "  llm_event = LLMEvent()\n",
    "  step_session_response = multion.sessions.step(**step_session_params)\n",
    "  print(step_session_response.message)\n",
    "  action_event.returns = step_session_response.__dict__\n",
    "  action_event.screenshot = step_session_response.screenshot\n",
    "  llm_event.prompt = step_session_response.message\n",
    "  agentops.record(action_event)\n",
    "  agentops.record(llm_event)\n",
    "  \n",
    "if step_session_response.status == 'DONE':\n",
    "    action_event = ActionEvent(params=step_session_params,action_type=\"step_session\")\n",
    "    llm_event = LLMEvent()\n",
    "    print('task completed')\n",
    "    action_event.returns = step_session_response.__dict__\n",
    "    action_event.screenshot = step_session_response.screenshot\n",
    "    llm_event.prompt = step_session_response.message\n",
    "    agentops.record(action_event)\n",
    "    agentops.record(llm_event)\n",
    "\n",
    "print(step_session_response.message)\n",
    "get_screenshot = multion.sessions.screenshot(session_id=session_id)\n",
    "print(\"screenshot of session: \", get_screenshot.screenshot)\n",
    "close_session_response = multion.sessions.close(session_id=session_id)\n",
    "print(\"close_session_response: \", close_session_response)\n",
    "\n",
    "# agentops.end_session(\"Success\")"
   ]
  }
 ],
 "metadata": {
  "kernelspec": {
   "display_name": "env",
   "language": "python",
   "name": "python3"
  },
  "language_info": {
   "codemirror_mode": {
    "name": "ipython",
    "version": 3
   },
   "file_extension": ".py",
   "mimetype": "text/x-python",
   "name": "python",
   "nbconvert_exporter": "python",
   "pygments_lexer": "ipython3",
   "version": "3.12.2"
  }
 },
 "nbformat": 4,
 "nbformat_minor": 2
}
