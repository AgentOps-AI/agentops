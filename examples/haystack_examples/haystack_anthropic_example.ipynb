{
 "cells": [
  {
   "cell_type": "markdown",
   "id": "87626697",
   "metadata": {},
   "source": [
    "First let's install the required packages"
   ]
  },
  {
   "cell_type": "code",
   "execution_count": null,
   "id": "9599cf93",
   "metadata": {},
   "outputs": [],
   "source": [
    "%pip install -U anthropic-haystack\n",
    "%pip install -U agentops\n",
    "%pip install -U python-dotenv"
   ]
  },
  {
   "cell_type": "markdown",
   "id": "intro_anthropic",
   "metadata": {},
   "source": [
    "# Anthropic-Haystack API Example with AgentOps (Philosopher Agent)\n",
    "\n",
    "This notebook demonstrates how to use AgentOps with Haystack's AnthropicGenerator (via the `anthropic-haystack` package) to create a Philosopher Agent. The agent leverages Anthropic's language model to answer philosophical queries with deep insight and thoughtful reasoning."
   ]
  },
  {
   "cell_type": "code",
   "execution_count": null,
   "id": "imports_anthropic",
   "metadata": {},
   "outputs": [],
   "source": [
    "import os\n",
    "from haystack_integrations.components.generators.anthropic import AnthropicGenerator\n",
    "import agentops\n",
    "from dotenv import load_dotenv\n",
    "\n",
    "# Load environment variables from a .env file if available\n",
    "load_dotenv()\n",
    "\n",
    "# Load API keys from environment variables or replace with your keys\n",
    "AGENTOPS_API_KEY = os.getenv(\"AGENTOPS_API_KEY\") or \"your_agentops_api_key\"\n",
    "ANTHROPIC_API_KEY = os.getenv(\"ANTHROPIC_API_KEY\") or \"your_anthropic_api_key\"\n",
    "\n",
    "# Configure your environment for Anthropic API\n",
    "os.environ[\"ANTHROPIC_API_KEY\"] = ANTHROPIC_API_KEY"
   ]
  },
  {
   "cell_type": "code",
   "execution_count": 2,
   "id": "init_anthropic",
   "metadata": {},
   "outputs": [
    {
     "name": "stderr",
     "output_type": "stream",
     "text": [
      "🖇 AgentOps: \u001b[34m\u001b[34mSession Replay: https://app.agentops.ai/drilldown?session_id=161c275b-e703-4569-9bd5-7f2f23ceeedd\u001b[0m\u001b[0m\n"
     ]
    }
   ],
   "source": [
    "# Initialize AgentOps with the API key\n",
    "agentops.init(\n",
    "    api_key=AGENTOPS_API_KEY,\n",
    "    default_tags=['haystack', 'llm', 'Anthropic']\n",
    ")\n",
    "\n",
    "# Initialize the Anthropic Generator\n",
    "generator = AnthropicGenerator()\n",
    "\n",
    "# Define a Philosopher Agent that uses the AnthropicGenerator to answer philosophical queries\n",
    "class PhilosopherAgent:\n",
    "    def __init__(self, generator):\n",
    "        self.generator = generator\n",
    "\n",
    "    def answer_question(self, question):\n",
    "        prompt = f\"You are a thoughtful philosopher. Answer the following question with deep insight and detailed reasoning: {question}\"\n",
    "        return self.generator.run(prompt)\n",
    "\n",
    "# Create an instance of the PhilosopherAgent\n",
    "agent = PhilosopherAgent(generator)"
   ]
  },
  {
   "cell_type": "code",
   "execution_count": 3,
   "id": "test_anthropic",
   "metadata": {},
   "outputs": [
    {
     "name": "stdout",
     "output_type": "stream",
     "text": [
      "Philosopher Agent Response:\n",
      "{'replies': ['Here is my attempt at a thoughtful philosophical perspective on the meaning of life:\\n\\nThe question of the meaning of life is one of the most fundamental existential quandaries that philosophers have grappled with throughout the ages. At its core, it probes the purpose and significance of our existence as conscious, reasoning beings in an unfathomably vast universe.\\n\\nOne perspective is that life itself has no inherent, predetermined meaning - that the universe is fundamentally devoid of any transcendent source of cosmic purpose or significance. Instead, meaning must be self-created and derived from the journey of living itself and the experiences, relationships, achievements, growth, and impact we have along the way. As the philosopher Jean-Paul Sartre put it, \"We are condemned to be free\" - freedom to carve out our own essence through the sum of our choices.\\n\\nAn opposing view is that life\\'s meaning transcends our physical existence, flowing from a higher spiritual plane or divine source of creation. Under this metaphysical framework, we are imbued with an essential purpose bestowed by God or the fundamental grounds of being itself, a telos to strive towards through virtuous living in accordance with a greater cosmic order.\\n\\nMy personal perspective is that while there may be no singular, objective meaning of life universally prescribed for all people, we each have the ability to cultivate profound personal meaning through the distinctly human pursuits of growth, connection, creativity, and impactful service to others. Living with authenticity, courage, compassion, and occasional awe at the mysteries of our universe. Striving to lead an ethical life enriched by reason, beauty, truth, and enduring bonds of love. In this way, we co-create webs of subjective meaning - not stamped by any cosmic source, but spun into existence by the miracle of consciousness itself.\\n\\nThese are just a few philosophical lenses through which to refract the enigma of life\\'s meaning - a question that will surely continue to be explored as long as human self-awareness persists. Ultimately, the journey of seeking this meaning, with all its richness of perspectives, may be what imbues life with its most profound significance.'], 'meta': [{'model': 'claude-3-sonnet-20240229', 'index': 0, 'finish_reason': 'end_turn', 'usage': {'cache_creation_input_tokens': 0, 'cache_read_input_tokens': 0, 'input_tokens': 32, 'output_tokens': 464}}]}\n"
     ]
    }
   ],
   "source": [
    "# Use the agent to answer a philosophical question\n",
    "response = agent.answer_question(\"What is the meaning of life?\")\n",
    "print(\"Philosopher Agent Response:\")\n",
    "print(response)"
   ]
  },
  {
   "cell_type": "code",
   "execution_count": 4,
   "id": "end_anthropic",
   "metadata": {},
   "outputs": [
    {
     "name": "stderr",
     "output_type": "stream",
     "text": [
      "🖇 AgentOps: Session Stats - \u001b[1mDuration:\u001b[0m 21.7s | \u001b[1mCost:\u001b[0m $0.007056 | \u001b[1mLLMs:\u001b[0m 1 | \u001b[1mTools:\u001b[0m 0 | \u001b[1mActions:\u001b[0m 0 | \u001b[1mErrors:\u001b[0m 0\n",
      "🖇 AgentOps: \u001b[34m\u001b[34mSession Replay: https://app.agentops.ai/drilldown?session_id=161c275b-e703-4569-9bd5-7f2f23ceeedd\u001b[0m\u001b[0m\n"
     ]
    }
   ],
   "source": [
    "# End the AgentOps session\n",
    "agentops.end_session(\"Success\")"
   ]
  }
 ],
 "metadata": {
  "kernelspec": {
   "display_name": "Python 3",
   "language": "python",
   "name": "python3"
  },
  "language_info": {
   "codemirror_mode": {
    "name": "ipython",
    "version": 3
   },
   "file_extension": ".py",
   "mimetype": "text/x-python",
   "name": "python",
   "nbconvert_exporter": "python",
   "pygments_lexer": "ipython3",
   "version": "3.11.9"
  }
 },
 "nbformat": 4,
 "nbformat_minor": 5
}
