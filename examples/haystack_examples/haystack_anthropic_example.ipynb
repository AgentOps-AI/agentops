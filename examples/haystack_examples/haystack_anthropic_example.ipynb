{
 "cells": [
  {
   "cell_type": "markdown",
   "id": "87626697",
   "metadata": {},
   "source": [
    "First let's install the required packages"
   ]
  },
  {
   "cell_type": "code",
   "execution_count": null,
   "id": "9599cf93",
   "metadata": {},
   "outputs": [],
   "source": [
    "%pip install -U anthropic-haystack\n",
    "%pip install -U agentops\n",
    "%pip install -U python-dotenv"
   ]
  },
  {
   "cell_type": "markdown",
   "id": "intro_anthropic",
   "metadata": {},
   "source": [
    "# Anthropic-Haystack API Example with AgentOps (Philosopher Agent)\n",
    "\n",
    "This notebook demonstrates how to use AgentOps with Haystack's AnthropicGenerator (via the `anthropic-haystack` package) to create a Philosopher Agent. The agent leverages Anthropic's language model to answer philosophical queries with deep insight and thoughtful reasoning."
   ]
  },
  {
   "cell_type": "code",
   "execution_count": null,
   "id": "imports_anthropic",
   "metadata": {},
   "outputs": [],
   "source": [
    "import os\n",
    "from haystack_integrations.components.generators.anthropic import AnthropicGenerator\n",
    "import agentops\n",
    "from dotenv import load_dotenv\n",
    "\n",
    "# Load environment variables from a .env file if available\n",
    "load_dotenv()\n",
    "\n",
    "# Load API keys from environment variables or replace with your keys\n",
    "AGENTOPS_API_KEY = os.getenv(\"AGENTOPS_API_KEY\") or \"your_agentops_api_key\"\n",
    "ANTHROPIC_API_KEY = os.getenv(\"ANTHROPIC_API_KEY\") or \"your_anthropic_api_key\"\n",
    "\n",
    "# Configure your environment for Anthropic API\n",
    "os.environ[\"ANTHROPIC_API_KEY\"] = ANTHROPIC_API_KEY"
   ]
  },
  {
   "cell_type": "code",
   "execution_count": null,
   "id": "init_anthropic",
   "metadata": {},
   "outputs": [],
   "source": [
    "# Initialize AgentOps with the API key\n",
    "agentops.init(\n",
    "    api_key=AGENTOPS_API_KEY,\n",
    "    default_tags=['haystack', 'llm', 'Anthropic']\n",
    ")\n",
    "\n",
    "# Initialize the Anthropic Generator\n",
    "generator = AnthropicGenerator()\n",
    "\n",
    "# Define a Philosopher Agent that uses the AnthropicGenerator to answer philosophical queries\n",
    "class PhilosopherAgent:\n",
    "    def __init__(self, generator):\n",
    "        self.generator = generator\n",
    "\n",
    "    def answer_question(self, question):\n",
    "        prompt = f\"You are a thoughtful philosopher. Answer the following question with deep insight and detailed reasoning: {question}\"\n",
    "        return self.generator.run(prompt)\n",
    "\n",
    "# Create an instance of the PhilosopherAgent\n",
    "agent = PhilosopherAgent(generator)"
   ]
  },
  {
   "cell_type": "code",
   "execution_count": null,
   "id": "test_anthropic",
   "metadata": {},
   "outputs": [],
   "source": [
    "# Use the agent to answer a philosophical question\n",
    "response = agent.answer_question(\"What is the meaning of life?\")\n",
    "print(\"Philosopher Agent Response:\")\n",
    "print(response)"
   ]
  },
  {
   "cell_type": "code",
   "execution_count": null,
   "id": "end_anthropic",
   "metadata": {},
   "outputs": [],
   "source": [
    "# End the AgentOps session\n",
    "agentops.end_session(\"Success\")"
   ]
  }
 ],
 "metadata": {
  "kernelspec": {
   "display_name": "Python 3",
   "language": "python",
   "name": "python3"
  },
  "language_info": {
   "codemirror_mode": {
    "name": "ipython",
    "version": 3
   },
   "file_extension": ".py",
   "mimetype": "text/x-python",
   "name": "python",
   "nbconvert_exporter": "python",
   "pygments_lexer": "ipython3",
   "version": "3.11.9"
  }
 },
 "nbformat": 4,
 "nbformat_minor": 5
}
