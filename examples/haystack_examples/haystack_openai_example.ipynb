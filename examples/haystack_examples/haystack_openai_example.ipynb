{
 "cells": [
  {
   "cell_type": "markdown",
   "id": "87626697",
   "metadata": {},
   "source": [
    "First let's install the required packages"
   ]
  },
  {
   "cell_type": "code",
   "execution_count": null,
   "id": "9599cf93",
   "metadata": {},
   "outputs": [],
   "source": [
    "%pip install -U haystack-ai\n",
    "%pip install -U agentops\n",
    "%pip install -U python-dotenv"
   ]
  },
  {
   "cell_type": "markdown",
   "id": "intro_openai",
   "metadata": {},
   "source": [
    "# OpenAIGenerator API Example with AgentOps (Mathematician Agent)\n",
    "\n",
    "This notebook demonstrates how to use AgentOps with Haystack's OpenAIGenerator to create a mathematician agent. The agent leverages OpenAI's language models to solve math problems and explain its reasoning step by step."
   ]
  },
  {
   "cell_type": "code",
   "execution_count": null,
   "id": "imports_openai",
   "metadata": {},
   "outputs": [],
   "source": [
    "import os\n",
    "from haystack.components.generators import OpenAIGenerator\n",
    "import agentops\n",
    "from dotenv import load_dotenv\n",
    "\n",
    "# Load environment variables from a .env file if available\n",
    "load_dotenv()\n",
    "\n",
    "# Load API keys from environment variables or replace with your keys\n",
    "AGENTOPS_API_KEY = os.getenv(\"AGENTOPS_API_KEY\") or \"your_agentops_api_key\"\n",
    "OPENAI_API_KEY = os.getenv(\"OPENAI_API_KEY\") or \"your_openai_api_key\"\n",
    "\n",
    "# Configure your environment for OpenAI API\n",
    "os.environ[\"OPENAI_API_KEY\"] = OPENAI_API_KEY"
   ]
  },
  {
   "cell_type": "code",
   "execution_count": null,
   "id": "init_agent",
   "metadata": {},
   "outputs": [],
   "source": [
    "# Initialize AgentOps with the API key\n",
    "agentops.init(\n",
    "    api_key=AGENTOPS_API_KEY,\n",
    "    default_tags=['haystack', 'llm', 'OpenAI']\n",
    ")\n",
    "\n",
    "# Initialize the OpenAIGenerator\n",
    "client = OpenAIGenerator(model=\"o3-mini\")\n",
    "\n",
    "# Define a Mathematician Agent that uses the OpenAIGenerator to solve math problems\n",
    "class MathematicianAgent:\n",
    "    def __init__(self, generator):\n",
    "        self.generator = generator\n",
    "\n",
    "    def solve_equation(self, equation):\n",
    "        prompt = f\"You are a mathematician. Solve the following equation and explain your reasoning step by step: {equation}\"\n",
    "        return self.generator.run(prompt)\n",
    "\n",
    "# Create an instance of the MathematicianAgent\n",
    "agent = MathematicianAgent(client)\n",
    "\n",
    "# Use the agent to solve a math problem\n",
    "response = agent.solve_equation(\"2x + 3 = 7\")\n",
    "print(\"Mathematician Agent Response:\")\n",
    "print(response)"
   ]
  },
  {
   "cell_type": "code",
   "execution_count": null,
   "id": "end_openai",
   "metadata": {},
   "outputs": [],
   "source": [
    "# End the AgentOps session\n",
    "agentops.end_session('Success')"
   ]
  }
 ],
 "metadata": {
  "kernelspec": {
   "display_name": "Python 3",
   "language": "python",
   "name": "python3"
  },
  "language_info": {
   "codemirror_mode": {
    "name": "ipython",
    "version": 3
   },
   "file_extension": ".py",
   "mimetype": "text/x-python",
   "name": "python",
   "nbconvert_exporter": "python",
   "pygments_lexer": "ipython3",
   "version": "3.11.9"
  }
 },
 "nbformat": 4,
 "nbformat_minor": 5
}
