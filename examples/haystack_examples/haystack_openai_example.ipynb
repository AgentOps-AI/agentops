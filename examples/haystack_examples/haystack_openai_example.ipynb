{
 "cells": [
  {
   "cell_type": "markdown",
   "id": "87626697",
   "metadata": {},
   "source": [
    "First let's install the required packages"
   ]
  },
  {
   "cell_type": "code",
   "execution_count": null,
   "id": "9599cf93",
   "metadata": {},
   "outputs": [],
   "source": [
    "%pip install -U haystack-ai\n",
    "%pip install -U agentops\n",
    "%pip install -U python-dotenv"
   ]
  },
  {
   "cell_type": "markdown",
   "id": "intro_openai",
   "metadata": {},
   "source": [
    "# OpenAIGenerator API Example with AgentOps (Mathematician Agent)\n",
    "\n",
    "This notebook demonstrates how to use AgentOps with Haystack's OpenAIGenerator to create a mathematician agent. The agent leverages OpenAI's language models to solve math problems and explain its reasoning step by step."
   ]
  },
  {
   "cell_type": "code",
   "execution_count": null,
   "id": "imports_openai",
   "metadata": {},
   "outputs": [],
   "source": [
    "import os\n",
    "from haystack.components.generators import OpenAIGenerator\n",
    "import agentops\n",
    "from dotenv import load_dotenv\n",
    "\n",
    "# Load environment variables from a .env file if available\n",
    "load_dotenv()\n",
    "\n",
    "# Load API keys from environment variables or replace with your keys\n",
    "AGENTOPS_API_KEY = os.getenv(\"AGENTOPS_API_KEY\") or \"your_agentops_api_key\"\n",
    "OPENAI_API_KEY = os.getenv(\"OPENAI_API_KEY\") or \"your_openai_api_key\"\n",
    "\n",
    "# Configure your environment for OpenAI API\n",
    "os.environ[\"OPENAI_API_KEY\"] = OPENAI_API_KEY"
   ]
  },
  {
   "cell_type": "code",
   "execution_count": 11,
   "id": "init_agent",
   "metadata": {},
   "outputs": [
    {
     "name": "stderr",
     "output_type": "stream",
     "text": [
      "🖇 AgentOps: AgentOps has already been initialized. If you are trying to start a session, call agentops.start_session() instead.\n"
     ]
    },
    {
     "name": "stdout",
     "output_type": "stream",
     "text": [
      "Mathematician Agent Response:\n",
      "{'replies': ['We start with the equation:\\n\\n\\u2003\\u20032x + 3 = 7\\n\\nStep 1: Eliminate the constant term\\nSubtract 3 from both sides of the equation to isolate the term with x:\\n\\n\\u2003\\u20032x + 3 − 3 = 7 − 3\\n\\nThis simplifies to:\\n\\n\\u2003\\u20032x = 4\\n\\nStep 2: Solve for x\\nNow, divide both sides by 2:\\n\\n\\u2003\\u2003(2x) / 2 = 4 / 2\\n\\nThis gives:\\n\\n\\u2003\\u2003x = 2\\n\\nThus, the solution to the equation 2x + 3 = 7 is x = 2.'], 'meta': [{'model': 'o3-mini-2025-01-31', 'index': 0, 'finish_reason': 'stop', 'usage': {'completion_tokens': 275, 'prompt_tokens': 33, 'total_tokens': 308, 'completion_tokens_details': CompletionTokensDetails(accepted_prediction_tokens=0, audio_tokens=0, reasoning_tokens=128, rejected_prediction_tokens=0), 'prompt_tokens_details': PromptTokensDetails(audio_tokens=0, cached_tokens=0)}}]}\n"
     ]
    }
   ],
   "source": [
    "# Initialize AgentOps with the API key\n",
    "agentops.init(\n",
    "    api_key=AGENTOPS_API_KEY,\n",
    "    default_tags=['haystack', 'llm', 'OpenAI']\n",
    ")\n",
    "\n",
    "# Initialize the OpenAIGenerator\n",
    "client = OpenAIGenerator(model=\"o3-mini\")\n",
    "\n",
    "# Define a Mathematician Agent that uses the OpenAIGenerator to solve math problems\n",
    "class MathematicianAgent:\n",
    "    def __init__(self, generator):\n",
    "        self.generator = generator\n",
    "\n",
    "    def solve_equation(self, equation):\n",
    "        prompt = f\"You are a mathematician. Solve the following equation and explain your reasoning step by step: {equation}\"\n",
    "        return self.generator.run(prompt)\n",
    "\n",
    "# Create an instance of the MathematicianAgent\n",
    "agent = MathematicianAgent(client)\n",
    "\n",
    "# Use the agent to solve a math problem\n",
    "response = agent.solve_equation(\"2x + 3 = 7\")\n",
    "print(\"Mathematician Agent Response:\")\n",
    "print(response)"
   ]
  },
  {
   "cell_type": "code",
   "execution_count": 12,
   "id": "end_openai",
   "metadata": {},
   "outputs": [
    {
     "name": "stderr",
     "output_type": "stream",
     "text": [
      "🖇 AgentOps: Session Stats - \u001b[1mDuration:\u001b[0m 1m 34.9s | \u001b[1mCost:\u001b[0m $0.001246 | \u001b[1mLLMs:\u001b[0m 1 | \u001b[1mTools:\u001b[0m 0 | \u001b[1mActions:\u001b[0m 0 | \u001b[1mErrors:\u001b[0m 0\n",
      "🖇 AgentOps: \u001b[34m\u001b[34mSession Replay: https://app.agentops.ai/drilldown?session_id=94c67c05-0800-4bd6-a815-b860a7698ec3\u001b[0m\u001b[0m\n"
     ]
    }
   ],
   "source": [
    "# End the AgentOps session\n",
    "agentops.end_session('Success')"
   ]
  }
 ],
 "metadata": {
  "kernelspec": {
   "display_name": "Python 3",
   "language": "python",
   "name": "python3"
  },
  "language_info": {
   "codemirror_mode": {
    "name": "ipython",
    "version": 3
   },
   "file_extension": ".py",
   "mimetype": "text/x-python",
   "name": "python",
   "nbconvert_exporter": "python",
   "pygments_lexer": "ipython3",
   "version": "3.11.9"
  }
 },
 "nbformat": 4,
 "nbformat_minor": 5
}
