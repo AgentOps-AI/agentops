{
 "cells": [
  {
   "cell_type": "markdown",
   "id": "1525bef7",
   "metadata": {},
   "source": [
    "Microsoft Autogen Swarm Team Example\n",
    "\n",
    "This example shows how you can have two AI agents work together to help a user refund a flight.\n",
    "Each agent has a special job, and they can \"handoff\" the conversation to each other or to the user as needed.\n",
    "All actions are tracked by AgentOps so you can see what happened in your dashboard."
   ]
  },
  {
   "cell_type": "code",
   "execution_count": null,
   "id": "8414d1ae",
   "metadata": {},
   "outputs": [],
   "source": [
    "# First let's install the required packages\n",
    "%pip install -U ag2[autogen-agentchat]\n",
    "%pip install -U \"autogen-ext[openai]\"\n",
    "%pip install -U agentops\n",
    "%pip install -U python-dotenv\n",
    "%pip install -U nest_asyncio"
   ]
  },
  {
   "cell_type": "code",
   "execution_count": null,
   "id": "2439f81d",
   "metadata": {},
   "outputs": [],
   "source": [
    "# Then import them\n",
    "from typing import Any, Dict, List\n",
    "import asyncio\n",
    "from autogen_agentchat.agents import AssistantAgent\n",
    "from autogen_agentchat.conditions import HandoffTermination, TextMentionTermination\n",
    "from autogen_agentchat.messages import HandoffMessage\n",
    "from autogen_agentchat.teams import Swarm\n",
    "from autogen_agentchat.ui import Console\n",
    "from autogen_ext.models.openai import OpenAIChatCompletionClient\n",
    "import os\n",
    "import agentops\n",
    "from dotenv import load_dotenv\n",
    "import nest_asyncio"
   ]
  },
  {
   "cell_type": "code",
   "execution_count": null,
   "id": "9aa32238",
   "metadata": {
    "lines_to_next_cell": 1
   },
   "outputs": [],
   "source": [
    "# Load environment variables (like API keys)\n",
    "load_dotenv()\n",
    "# Set up AgentOps to track everything that happens in this session\n",
    "agentops.init(auto_start_session=False, tags=[\"autogen-swarm-team\", \"agentops-example\"])\n",
    "tracer = agentops.start_trace(trace_name=\"autogen-swarm-team\")"
   ]
  },
  {
   "cell_type": "code",
   "execution_count": null,
   "id": "ccfa2986",
   "metadata": {
    "lines_to_next_cell": 1
   },
   "outputs": [],
   "source": [
    "# This is a pretend tool that \"refunds\" a flight when given a flight ID.\n",
    "def refund_flight(flight_id: str) -> str:\n",
    "    \"\"\"Refund a flight\"\"\"\n",
    "    return f\"Flight {flight_id} refunded\""
   ]
  },
  {
   "cell_type": "code",
   "execution_count": null,
   "id": "f393818b",
   "metadata": {},
   "outputs": [],
   "source": [
    "# Set up the AI model client (the brain for the agents)\n",
    "model_client = OpenAIChatCompletionClient(\n",
    "    model=\"gpt-4o\",\n",
    "    api_key=os.getenv(\"OPENAI_API_KEY\", \"your_openai_api_key_here\"),\n",
    ")"
   ]
  },
  {
   "cell_type": "code",
   "execution_count": null,
   "id": "e505972d",
   "metadata": {},
   "outputs": [],
   "source": [
    "# The travel agent helps with travel tasks and can hand off to the flights_refunder agent.\n",
    "travel_agent = AssistantAgent(\n",
    "    \"travel_agent\",\n",
    "    model_client=model_client,\n",
    "    handoffs=[\"flights_refunder\", \"\"],\n",
    "    system_message=\"\"\"You are a travel agent.\n",
    "    The flights_refunder is in charge of refunding flights.\n",
    "    If you need information from the user, you must first send your message, then you can handoff to the user.\n",
    "    Use TERMINATE when the travel planning is complete.\"\"\",\n",
    ")"
   ]
  },
  {
   "cell_type": "code",
   "execution_count": null,
   "id": "e4114e30",
   "metadata": {},
   "outputs": [],
   "source": [
    "# The flights_refunder agent specializes in refunding flights and can use the refund_flight tool.\n",
    "flights_refunder = AssistantAgent(\n",
    "    \"flights_refunder\",\n",
    "    model_client=model_client,\n",
    "    handoffs=[\"travel_agent\", \"user\"],\n",
    "    tools=[refund_flight],\n",
    "    system_message=\"\"\"You are an agent specialized in refunding flights.\n",
    "    You only need flight reference numbers to refund a flight.\n",
    "    You have the ability to refund a flight using the refund_flight tool.\n",
    "    If you need information from the user, you must first send your message, then you can handoff to the user.\n",
    "    When the transaction is complete, handoff to the travel agent to finalize.\"\"\",\n",
    ")"
   ]
  },
  {
   "cell_type": "code",
   "execution_count": null,
   "id": "ae59c536",
   "metadata": {
    "lines_to_next_cell": 1
   },
   "outputs": [],
   "source": [
    "# These rules decide when the conversation should stop:\n",
    "# - If the user is handed the conversation (handoff to user), or\n",
    "# - If someone says 'TERMINATE' in the chat\n",
    "termination = HandoffTermination(target=\"user\") | TextMentionTermination(\"TERMINATE\")\n",
    "# Put both agents together into a \"Swarm\" team so they can work together.\n",
    "team = Swarm([travel_agent, flights_refunder], termination_condition=termination)\n",
    "# This is the task the user wants help with.\n",
    "task = \"I need to refund my flight.\""
   ]
  },
  {
   "cell_type": "code",
   "execution_count": null,
   "id": "7082d252",
   "metadata": {
    "lines_to_next_cell": 1
   },
   "outputs": [],
   "source": [
    "# This function runs the team and handles the back-and-forth with the user.\n",
    "async def run_team_stream() -> None:\n",
    "    task_result = await Console(team.run_stream(task=task))\n",
    "    last_message = task_result.messages[-1]\n",
    "\n",
    "    # These are the user's replies, sent automatically to keep the example running.\n",
    "    scripted_responses = [\n",
    "        \"My flight reference is ABC123.\",\n",
    "        \"Yes, thank you. TERMINATE\",\n",
    "    ]\n",
    "    response_index = 0\n",
    "\n",
    "    # Keep going as long as the agents hand the conversation to the user.\n",
    "    while isinstance(last_message, HandoffMessage) and last_message.target == \"user\":\n",
    "        if response_index >= len(scripted_responses):\n",
    "            break  # Stop if we run out of replies\n",
    "\n",
    "        user_message = scripted_responses[response_index]\n",
    "        response_index += 1\n",
    "\n",
    "        task_result = await Console(\n",
    "            team.run_stream(\n",
    "                task=HandoffMessage(\n",
    "                    source=\"user\", target=last_message.source, content=user_message\n",
    "                )\n",
    "            )\n",
    "        )\n",
    "        last_message = task_result.messages[-1]"
   ]
  },
  {
   "cell_type": "code",
   "execution_count": null,
   "id": "686dd65b",
   "metadata": {
    "lines_to_next_cell": 2
   },
   "outputs": [],
   "source": [
    "# Start the team and let the agents and user work together to solve the problem.\n",
    "nest_asyncio.apply()\n",
    "asyncio.run(run_team_stream())"
   ]
  },
  {
   "cell_type": "markdown",
   "id": "f2625595",
   "metadata": {},
   "source": [
    "You can view data on this run at [app.agentops.ai](app.agentops.ai).\n",
    "\n",
    "The dashboard will display LLM events for each message sent by each agent, including those made by the human user."
   ]
  }
 ],
 "metadata": {
  "jupytext": {
   "cell_metadata_filter": "-all",
   "main_language": "python",
   "notebook_metadata_filter": "-all"
  },
  "kernelspec": {
   "display_name": ".venv",
   "language": "python",
   "name": "python3"
  },
  "language_info": {
   "codemirror_mode": {
    "name": "ipython",
    "version": 3
   },
   "file_extension": ".py",
   "mimetype": "text/x-python",
   "name": "python",
   "nbconvert_exporter": "python",
   "pygments_lexer": "ipython3",
   "version": "3.11.13"
  }
 },
 "nbformat": 4,
 "nbformat_minor": 5
}
