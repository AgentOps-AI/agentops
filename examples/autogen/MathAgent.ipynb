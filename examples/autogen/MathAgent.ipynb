{
 "cells": [
  {
   "cell_type": "code",
   "execution_count": null,
   "id": "def8a262",
   "metadata": {},
   "outputs": [],
   "source": [
    "# Microsoft Autogen Tool Example\n",
    "#\n",
    "# AgentOps automatically configures itself when it's initialized meaning your agent run data will be tracked and logged to your AgentOps account right away.\n",
    "# First let's install the required packages\n",
    "%pip install -U \"autogen-agentchat\"\n",
    "%pip install -U \"autogen-ext[openai]\"\n",
    "%pip install -U agentops\n",
    "%pip install -U python-dotenv\n",
    "%pip install -U nest_asyncio"
   ]
  },
  {
   "cell_type": "code",
   "execution_count": null,
   "id": "d0441ea7",
   "metadata": {},
   "outputs": [],
   "source": [
    "from typing import Annotated, Literal\n",
    "import asyncio\n",
    "import nest_asyncio\n",
    "import os\n",
    "from dotenv import load_dotenv\n",
    "import agentops\n",
    "from autogen_agentchat.agents import AssistantAgent\n",
    "from autogen_ext.models.openai import OpenAIChatCompletionClient\n",
    "from autogen_agentchat.messages import TextMessage\n",
    "from autogen_core import CancellationToken\n",
    "# Next, we'll set our API keys. There are several ways to do this, the code below is just the most foolproof way for the purposes of this notebook. It accounts for both users who use environment variables and those who just want to set the API Key here in this notebook.\n",
    "#\n",
    "# [Get an AgentOps API key](https://agentops.ai/settings/projects)\n",
    "#\n",
    "# 1. Create an environment variable in a .env file or other method. By default, the AgentOps `init()` function will look for an environment variable named `AGENTOPS_API_KEY`. Or...\n",
    "#\n",
    "# 2. Replace `<your_agentops_key>` below and pass in the optional `api_key` parameter to the AgentOps `init(api_key=...)` function. Remember not to commit your API key to a public repo!\n",
    "load_dotenv()\n",
    "os.environ[\"AGENTOPS_API_KEY\"] = os.getenv(\"AGENTOPS_API_KEY\", \"your_api_key_here\")\n",
    "os.environ[\"OPENAI_API_KEY\"] = os.getenv(\"OPENAI_API_KEY\", \"your_openai_api_key_here\")"
   ]
  },
  {
   "cell_type": "code",
   "execution_count": null,
   "id": "9516e204",
   "metadata": {},
   "outputs": [],
   "source": [
    "agentops.init(auto_start_session=False, trace_name=\"Autogen Math Agent Example\")\n",
    "tracer = agentops.start_trace(\n",
    "    trace_name=\"Microsoft Autogen Tool Example\", tags=[\"autogen-tool\", \"microsoft-autogen\", \"agentops-example\"]\n",
    ")"
   ]
  },
  {
   "cell_type": "code",
   "execution_count": null,
   "id": "695eed00",
   "metadata": {},
   "outputs": [],
   "source": [
    "# Autogen will now start automatically tracking\n",
    "#\n",
    "# * LLM prompts and completions\n",
    "# * Token usage and costs\n",
    "# * Agent names and actions\n",
    "# * Correspondence between agents\n",
    "# * Tool usage\n",
    "# * Errors\n",
    "# # Tool Example\n",
    "# # Define model and API key\n",
    "model_name = \"gpt-4-turbo\"\n",
    "api_key = os.getenv(\"OPENAI_API_KEY\")\n",
    "# Ensure API key is available\n",
    "if not api_key:\n",
    "    raise ValueError(\"OPENAI_API_KEY environment variable is required\")\n",
    "# Create the model client\n",
    "model_client = OpenAIChatCompletionClient(model=model_name, api_key=api_key, seed=42, temperature=0)\n",
    "Operator = Literal[\"+\", \"-\", \"*\", \"/\"]"
   ]
  },
  {
   "cell_type": "code",
   "execution_count": null,
   "id": "07656ee8",
   "metadata": {
    "lines_to_next_cell": 1
   },
   "outputs": [],
   "source": [
    "def calculator(a: int, b: int, operator: Annotated[Operator, \"operator\"]) -> int:\n",
    "    if operator == \"+\":\n",
    "        return a + b\n",
    "    elif operator == \"-\":\n",
    "        return a - b\n",
    "    elif operator == \"*\":\n",
    "        return a * b\n",
    "    elif operator == \"/\":\n",
    "        return int(a / b)\n",
    "    else:\n",
    "        raise ValueError(\"Invalid operator\")"
   ]
  },
  {
   "cell_type": "code",
   "execution_count": null,
   "id": "dd2d0fd2",
   "metadata": {
    "lines_to_next_cell": 1
   },
   "outputs": [],
   "source": [
    "async def main():\n",
    "    # Create an assistant agent that can help with math problems and use the calculator tool.\n",
    "    assistant = AssistantAgent(\n",
    "        name=\"Assistant\",\n",
    "        system_message=\"You are a helpful AI assistant. You can help with simple calculations. Return 'TERMINATE' when the task is done.\",\n",
    "        model_client=model_client,\n",
    "        tools=[calculator],\n",
    "        reflect_on_tool_use=True,\n",
    "        max_tool_iterations=5,\n",
    "    )\n",
    "\n",
    "    # This is the math question we want the assistant to solve.\n",
    "    initial_task_message = \"What is (1423 - 123) / 3 + (32 + 23) * 5?\"\n",
    "\n",
    "    try:\n",
    "        # Start tracking the assistant's work for the first way of running the task(on_messages method).\n",
    "        tracer = agentops.start_trace(\n",
    "            trace_name=\"autogen-math-agent-on-messages\", tags=[\"autogen-math\", \"agentops-example\"]\n",
    "        )\n",
    "        # Ask the assistant to solve the problem .\n",
    "        await assistant.on_messages([TextMessage(content=initial_task_message, source=\"user\")], CancellationToken())\n",
    "        agentops.end_trace(tracer, end_state=\"Success\")\n",
    " \n",
    "        # Start tracking for the second way of running the task(using the run method).\n",
    "        tracer = agentops.start_trace(\n",
    "            trace_name=\"autogen-math-agent-run\", tags=[\"autogen-math\", \"agentops-example\"]\n",
    "        )\n",
    "        # Ask the assistant to solve the problem .\n",
    "        await assistant.run(\n",
    "            task=[TextMessage(content=initial_task_message, source=\"user\")],\n",
    "            cancellation_token=CancellationToken()\n",
    "        )\n",
    "\n",
    "        agentops.end_trace(tracer, end_state=\"Success\")\n",
    "        # Start tracking for the third way: streaming the assistant's responses as they come in(run_stream method).\n",
    "        tracer = agentops.start_trace(\n",
    "            trace_name=\"autogen-math-agent-run-stream\", tags=[\"autogen-math\", \"agentops-example\"]\n",
    "        )\n",
    "        async for message in assistant.run_stream(\n",
    "            task=[TextMessage(content=initial_task_message, source=\"user\")],\n",
    "            cancellation_token=CancellationToken()\n",
    "        ):\n",
    "            pass\n",
    "        agentops.end_trace(tracer, end_state=\"Success\")\n",
    "        \n",
    "        # Start tracking for the fourth way: streaming with on_messages_stream(on_messages_stream method).\n",
    "        tracer = agentops.start_trace(\n",
    "            trace_name=\"autogen-math-agent-on-messages-stream\", tags=[\"autogen-math\", \"agentops-example\"]\n",
    "        )\n",
    "        async for message in assistant.on_messages_stream(\n",
    "            messages=[TextMessage(content=initial_task_message, source=\"user\")],\n",
    "            cancellation_token=CancellationToken()\n",
    "        ):\n",
    "            pass\n",
    "        agentops.end_trace(tracer, end_state=\"Success\")\n",
    "\n",
    "    except Exception as e:\n",
    "        print(f\"An error occurred: {e}\")\n",
    "        agentops.end_trace(tracer, end_state=\"Error\")\n",
    "    finally:\n",
    "        # Always close the model client when done.\n",
    "        await model_client.close()"
   ]
  },
  {
   "cell_type": "code",
   "execution_count": null,
   "id": "8d18460e",
   "metadata": {},
   "outputs": [],
   "source": [
    "nest_asyncio.apply()\n",
    "asyncio.run(main())"
   ]
  },
  {
   "cell_type": "markdown",
   "id": "192397db",
   "metadata": {},
   "source": [
    "You can see your run in action at [app.agentops.ai](app.agentops.ai). In this example, the AgentOps dashboard will show:\n",
    "\n",
    "* Agents talking to each other\n",
    "* Each use of the `calculator` tool\n",
    "* Each call to OpenAI for LLM use"
   ]
  }
 ],
 "metadata": {
  "jupytext": {
   "cell_metadata_filter": "-all",
   "main_language": "python",
   "notebook_metadata_filter": "-all"
  },
  "language_info": {
   "name": "python"
  }
 },
 "nbformat": 4,
 "nbformat_minor": 5
}
