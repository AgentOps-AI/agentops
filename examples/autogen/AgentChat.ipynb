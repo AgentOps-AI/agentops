{
 "cells": [
  {
   "attachments": {},
   "cell_type": "markdown",
   "id": "bb6538d8-2a5d-4a99-b2c1-7130963e4f7b",
   "metadata": {},
   "source": [
    "# Adding AgentOps to an existing Autogen service\n",
    "<img src=\"https://raw.githubusercontent.com/AgentOps-AI/agentops/main/docs/images/external/autogen/autogen-integration.png?raw=true\"/>\n",
    "\n",
    "To get started, you'll need to install the AgentOps package and [set an API key](app.agentops.ai).\n",
    "\n",
    "AgentOps automatically configures itself when it's initialized meaning your agent run data will be tracked and logged to your AgentOps account right away."
   ]
  },
  {
   "cell_type": "markdown",
   "id": "87626697",
   "metadata": {},
   "source": [
    "First let's install the required packages"
   ]
  },
  {
   "cell_type": "code",
   "execution_count": 6,
   "id": "9599cf93",
   "metadata": {},
   "outputs": [
    {
     "name": "stdout",
     "output_type": "stream",
     "text": [
      "Requirement already satisfied: pyautogen in /Users/howardgil/Desktop/agentops/AgentOps-AI/agentops/env/lib/python3.12/site-packages (0.2.35)\n",
      "Requirement already satisfied: diskcache in /Users/howardgil/Desktop/agentops/AgentOps-AI/agentops/env/lib/python3.12/site-packages (from pyautogen) (5.6.3)\n",
      "Requirement already satisfied: docker in /Users/howardgil/Desktop/agentops/AgentOps-AI/agentops/env/lib/python3.12/site-packages (from pyautogen) (7.1.0)\n",
      "Requirement already satisfied: flaml in /Users/howardgil/Desktop/agentops/AgentOps-AI/agentops/env/lib/python3.12/site-packages (from pyautogen) (2.2.0)\n",
      "Requirement already satisfied: numpy<2,>=1.17.0 in /Users/howardgil/Desktop/agentops/AgentOps-AI/agentops/env/lib/python3.12/site-packages (from pyautogen) (1.26.4)\n",
      "Requirement already satisfied: openai>=1.3 in /Users/howardgil/Desktop/agentops/AgentOps-AI/agentops/env/lib/python3.12/site-packages (from pyautogen) (1.40.8)\n",
      "Requirement already satisfied: packaging in /Users/howardgil/Desktop/agentops/AgentOps-AI/agentops/env/lib/python3.12/site-packages (from pyautogen) (23.2)\n",
      "Requirement already satisfied: pydantic!=2.6.0,<3,>=1.10 in /Users/howardgil/Desktop/agentops/AgentOps-AI/agentops/env/lib/python3.12/site-packages (from pyautogen) (2.8.2)\n",
      "Requirement already satisfied: python-dotenv in /Users/howardgil/Desktop/agentops/AgentOps-AI/agentops/env/lib/python3.12/site-packages (from pyautogen) (1.0.1)\n",
      "Requirement already satisfied: termcolor in /Users/howardgil/Desktop/agentops/AgentOps-AI/agentops/env/lib/python3.12/site-packages (from pyautogen) (2.4.0)\n",
      "Requirement already satisfied: tiktoken in /Users/howardgil/Desktop/agentops/AgentOps-AI/agentops/env/lib/python3.12/site-packages (from pyautogen) (0.7.0)\n",
      "Requirement already satisfied: anyio<5,>=3.5.0 in /Users/howardgil/Desktop/agentops/AgentOps-AI/agentops/env/lib/python3.12/site-packages (from openai>=1.3->pyautogen) (4.4.0)\n",
      "Requirement already satisfied: distro<2,>=1.7.0 in /Users/howardgil/Desktop/agentops/AgentOps-AI/agentops/env/lib/python3.12/site-packages (from openai>=1.3->pyautogen) (1.9.0)\n",
      "Requirement already satisfied: httpx<1,>=0.23.0 in /Users/howardgil/Desktop/agentops/AgentOps-AI/agentops/env/lib/python3.12/site-packages (from openai>=1.3->pyautogen) (0.27.0)\n",
      "Requirement already satisfied: jiter<1,>=0.4.0 in /Users/howardgil/Desktop/agentops/AgentOps-AI/agentops/env/lib/python3.12/site-packages (from openai>=1.3->pyautogen) (0.5.0)\n",
      "Requirement already satisfied: sniffio in /Users/howardgil/Desktop/agentops/AgentOps-AI/agentops/env/lib/python3.12/site-packages (from openai>=1.3->pyautogen) (1.3.1)\n",
      "Requirement already satisfied: tqdm>4 in /Users/howardgil/Desktop/agentops/AgentOps-AI/agentops/env/lib/python3.12/site-packages (from openai>=1.3->pyautogen) (4.66.5)\n",
      "Requirement already satisfied: typing-extensions<5,>=4.11 in /Users/howardgil/Desktop/agentops/AgentOps-AI/agentops/env/lib/python3.12/site-packages (from openai>=1.3->pyautogen) (4.12.2)\n",
      "Requirement already satisfied: annotated-types>=0.4.0 in /Users/howardgil/Desktop/agentops/AgentOps-AI/agentops/env/lib/python3.12/site-packages (from pydantic!=2.6.0,<3,>=1.10->pyautogen) (0.7.0)\n",
      "Requirement already satisfied: pydantic-core==2.20.1 in /Users/howardgil/Desktop/agentops/AgentOps-AI/agentops/env/lib/python3.12/site-packages (from pydantic!=2.6.0,<3,>=1.10->pyautogen) (2.20.1)\n",
      "Requirement already satisfied: requests>=2.26.0 in /Users/howardgil/Desktop/agentops/AgentOps-AI/agentops/env/lib/python3.12/site-packages (from docker->pyautogen) (2.31.0)\n",
      "Requirement already satisfied: urllib3>=1.26.0 in /Users/howardgil/Desktop/agentops/AgentOps-AI/agentops/env/lib/python3.12/site-packages (from docker->pyautogen) (2.2.2)\n",
      "Requirement already satisfied: regex>=2022.1.18 in /Users/howardgil/Desktop/agentops/AgentOps-AI/agentops/env/lib/python3.12/site-packages (from tiktoken->pyautogen) (2024.7.24)\n",
      "Requirement already satisfied: idna>=2.8 in /Users/howardgil/Desktop/agentops/AgentOps-AI/agentops/env/lib/python3.12/site-packages (from anyio<5,>=3.5.0->openai>=1.3->pyautogen) (3.7)\n",
      "Requirement already satisfied: certifi in /Users/howardgil/Desktop/agentops/AgentOps-AI/agentops/env/lib/python3.12/site-packages (from httpx<1,>=0.23.0->openai>=1.3->pyautogen) (2024.7.4)\n",
      "Requirement already satisfied: httpcore==1.* in /Users/howardgil/Desktop/agentops/AgentOps-AI/agentops/env/lib/python3.12/site-packages (from httpx<1,>=0.23.0->openai>=1.3->pyautogen) (1.0.5)\n",
      "Requirement already satisfied: h11<0.15,>=0.13 in /Users/howardgil/Desktop/agentops/AgentOps-AI/agentops/env/lib/python3.12/site-packages (from httpcore==1.*->httpx<1,>=0.23.0->openai>=1.3->pyautogen) (0.14.0)\n",
      "Requirement already satisfied: charset-normalizer<4,>=2 in /Users/howardgil/Desktop/agentops/AgentOps-AI/agentops/env/lib/python3.12/site-packages (from requests>=2.26.0->docker->pyautogen) (3.3.2)\n",
      "\n",
      "\u001b[1m[\u001b[0m\u001b[34;49mnotice\u001b[0m\u001b[1;39;49m]\u001b[0m\u001b[39;49m A new release of pip is available: \u001b[0m\u001b[31;49m24.0\u001b[0m\u001b[39;49m -> \u001b[0m\u001b[32;49m24.2\u001b[0m\n",
      "\u001b[1m[\u001b[0m\u001b[34;49mnotice\u001b[0m\u001b[1;39;49m]\u001b[0m\u001b[39;49m To update, run: \u001b[0m\u001b[32;49mpip install --upgrade pip\u001b[0m\n",
      "Note: you may need to restart the kernel to use updated packages.\n",
      "Requirement already satisfied: agentops in /Users/howardgil/Desktop/agentops/AgentOps-AI/agentops/env/lib/python3.12/site-packages (0.3.10)\n",
      "Requirement already satisfied: requests==2.31.0 in /Users/howardgil/Desktop/agentops/AgentOps-AI/agentops/env/lib/python3.12/site-packages (from agentops) (2.31.0)\n",
      "Requirement already satisfied: psutil==5.9.8 in /Users/howardgil/Desktop/agentops/AgentOps-AI/agentops/env/lib/python3.12/site-packages (from agentops) (5.9.8)\n",
      "Requirement already satisfied: packaging==23.2 in /Users/howardgil/Desktop/agentops/AgentOps-AI/agentops/env/lib/python3.12/site-packages (from agentops) (23.2)\n",
      "Requirement already satisfied: termcolor==2.4.0 in /Users/howardgil/Desktop/agentops/AgentOps-AI/agentops/env/lib/python3.12/site-packages (from agentops) (2.4.0)\n",
      "Requirement already satisfied: PyYAML==6.0.1 in /Users/howardgil/Desktop/agentops/AgentOps-AI/agentops/env/lib/python3.12/site-packages (from agentops) (6.0.1)\n",
      "Requirement already satisfied: charset-normalizer<4,>=2 in /Users/howardgil/Desktop/agentops/AgentOps-AI/agentops/env/lib/python3.12/site-packages (from requests==2.31.0->agentops) (3.3.2)\n",
      "Requirement already satisfied: idna<4,>=2.5 in /Users/howardgil/Desktop/agentops/AgentOps-AI/agentops/env/lib/python3.12/site-packages (from requests==2.31.0->agentops) (3.7)\n",
      "Requirement already satisfied: urllib3<3,>=1.21.1 in /Users/howardgil/Desktop/agentops/AgentOps-AI/agentops/env/lib/python3.12/site-packages (from requests==2.31.0->agentops) (2.2.2)\n",
      "Requirement already satisfied: certifi>=2017.4.17 in /Users/howardgil/Desktop/agentops/AgentOps-AI/agentops/env/lib/python3.12/site-packages (from requests==2.31.0->agentops) (2024.7.4)\n",
      "\n",
      "\u001b[1m[\u001b[0m\u001b[34;49mnotice\u001b[0m\u001b[1;39;49m]\u001b[0m\u001b[39;49m A new release of pip is available: \u001b[0m\u001b[31;49m24.0\u001b[0m\u001b[39;49m -> \u001b[0m\u001b[32;49m24.2\u001b[0m\n",
      "\u001b[1m[\u001b[0m\u001b[34;49mnotice\u001b[0m\u001b[1;39;49m]\u001b[0m\u001b[39;49m To update, run: \u001b[0m\u001b[32;49mpip install --upgrade pip\u001b[0m\n",
      "Note: you may need to restart the kernel to use updated packages.\n",
      "Requirement already satisfied: python-dotenv in /Users/howardgil/Desktop/agentops/AgentOps-AI/agentops/env/lib/python3.12/site-packages (1.0.1)\n",
      "\n",
      "\u001b[1m[\u001b[0m\u001b[34;49mnotice\u001b[0m\u001b[1;39;49m]\u001b[0m\u001b[39;49m A new release of pip is available: \u001b[0m\u001b[31;49m24.0\u001b[0m\u001b[39;49m -> \u001b[0m\u001b[32;49m24.2\u001b[0m\n",
      "\u001b[1m[\u001b[0m\u001b[34;49mnotice\u001b[0m\u001b[1;39;49m]\u001b[0m\u001b[39;49m To update, run: \u001b[0m\u001b[32;49mpip install --upgrade pip\u001b[0m\n",
      "Note: you may need to restart the kernel to use updated packages.\n"
     ]
    }
   ],
   "source": [
    "%pip install -U pyautogen\n",
    "%pip install -U agentops\n",
    "%pip install -U python-dotenv"
   ]
  },
  {
   "cell_type": "markdown",
   "id": "3506f401",
   "metadata": {},
   "source": [
    "Then import them"
   ]
  },
  {
   "cell_type": "code",
   "execution_count": 7,
   "id": "1b5c8b7b",
   "metadata": {},
   "outputs": [],
   "source": [
    "from autogen import ConversableAgent, UserProxyAgent\n",
    "import agentops\n",
    "import os\n",
    "from os import environ\n",
    "from dotenv import load_dotenv\n",
    "from IPython.core.error import StdinNotImplementedError"
   ]
  },
  {
   "cell_type": "markdown",
   "id": "70b502a2",
   "metadata": {},
   "source": [
    "Next, we'll grab our API keys. You can use dotenv like below or however else you like to load environment variables"
   ]
  },
  {
   "cell_type": "code",
   "execution_count": 8,
   "id": "7ae4152d",
   "metadata": {},
   "outputs": [],
   "source": [
    "load_dotenv()\n",
    "OPENAI_API_KEY = os.getenv(\"OPENAI_API_KEY\") or \"<your_openai_key>\"\n",
    "AGENTOPS_API_KEY = os.getenv(\"AGENTOPS_API_KEY\") or \"<your_agentops_key>\""
   ]
  },
  {
   "cell_type": "code",
   "execution_count": 9,
   "id": "d93f2339-7b99-4cf1-9232-c24faba49c7b",
   "metadata": {},
   "outputs": [
    {
     "name": "stderr",
     "output_type": "stream",
     "text": [
      "🖇 AgentOps: AgentOps has already been initialized. If you are trying to start a session, call agentops.start_session() instead.\n"
     ]
    },
    {
     "name": "stdout",
     "output_type": "stream",
     "text": [
      "AgentOps is now running. You can view your session in the link above\n"
     ]
    }
   ],
   "source": [
    "# When initializing AgentOps, you can pass in optional tags to help filter sessions\n",
    "agentops.init(AGENTOPS_API_KEY, default_tags=[\"simple-autogen-example\"])\n",
    "\n",
    "print(\"AgentOps is now running. You can view your session in the link above\")"
   ]
  },
  {
   "cell_type": "markdown",
   "id": "7858f0f6-9aca-4cdb-a514-9fbf7e353d50",
   "metadata": {},
   "source": [
    "AutoGen will now start automatically tracking\n",
    "\n",
    "* LLM prompts and completions\n",
    "* Token usage and costs\n",
    "* Agent names and actions\n",
    "* Correspondence between agents\n",
    "* Tool usage\n",
    "* Errors"
   ]
  },
  {
   "cell_type": "code",
   "execution_count": 10,
   "id": "2962d990-f7ef-43d8-ba09-d29bd8356d9f",
   "metadata": {},
   "outputs": [
    {
     "name": "stderr",
     "output_type": "stream",
     "text": [
      "🖇 AgentOps: Could not create agent - no sessions detected. Create a session by calling agentops.start_session()\n",
      "🖇 AgentOps: Could not create agent - no sessions detected. Create a session by calling agentops.start_session()\n",
      "🖇 AgentOps: Could not create agent - no sessions detected. Create a session by calling agentops.start_session()\n",
      "🖇 AgentOps: Could not record event - no sessions detected. Create a session by calling agentops.start_session()\n"
     ]
    },
    {
     "name": "stdout",
     "output_type": "stream",
     "text": [
      "\u001b[33magent\u001b[0m (to user):\n",
      "\n",
      "How can I help you today?\n",
      "\n",
      "--------------------------------------------------------------------------------\n",
      "\u001b[31m\n",
      ">>>>>>>> NO HUMAN INPUT RECEIVED.\u001b[0m\n",
      "\u001b[31m\n",
      ">>>>>>>> USING AUTO REPLY...\u001b[0m\n"
     ]
    },
    {
     "name": "stderr",
     "output_type": "stream",
     "text": [
      "🖇 AgentOps: Could not record event - no sessions detected. Create a session by calling agentops.start_session()\n",
      "🖇 AgentOps: Could not record event - no sessions detected. Create a session by calling agentops.start_session()\n",
      "🖇 AgentOps: Could not record event - no sessions detected. Create a session by calling agentops.start_session()\n",
      "🖇 AgentOps: Could not record event - no sessions detected. Create a session by calling agentops.start_session()\n",
      "🖇 AgentOps: Could not record event - no sessions detected. Create a session by calling agentops.start_session()\n"
     ]
    },
    {
     "name": "stdout",
     "output_type": "stream",
     "text": [
      "\u001b[33muser\u001b[0m (to agent):\n",
      "\n",
      "\n",
      "\n",
      "--------------------------------------------------------------------------------\n",
      "\u001b[31m\n",
      ">>>>>>>> USING AUTO REPLY...\u001b[0m\n"
     ]
    },
    {
     "name": "stderr",
     "output_type": "stream",
     "text": [
      "🖇 AgentOps: Could not record event - no sessions detected. Create a session by calling agentops.start_session()\n",
      "🖇 AgentOps: Could not record event - no sessions detected. Create a session by calling agentops.start_session()\n",
      "🖇 AgentOps: Could not record event - no sessions detected. Create a session by calling agentops.start_session()\n",
      "🖇 AgentOps: Could not record event - no sessions detected. Create a session by calling agentops.start_session()\n",
      "🖇 AgentOps: Could not record event - no sessions detected. Create a session by calling agentops.start_session()\n",
      "🖇 AgentOps: Could not record event - no sessions detected. Create a session by calling agentops.start_session()\n"
     ]
    },
    {
     "name": "stdout",
     "output_type": "stream",
     "text": [
      "\u001b[33magent\u001b[0m (to user):\n",
      "\n",
      "It looks like your message didn't come through. Could you send it again?\n",
      "\n",
      "--------------------------------------------------------------------------------\n"
     ]
    }
   ],
   "source": [
    "# Define model, openai api key, tags, etc in the agent configuration\n",
    "config_list = [\n",
    "    {\"model\": \"gpt-4-turbo\", \"api_key\": OPENAI_API_KEY, \"tags\": [\"gpt-4\", \"tool\"]}\n",
    "]\n",
    "\n",
    "# Create the agent that uses the LLM.\n",
    "assistant = ConversableAgent(\"agent\", llm_config={\"config_list\": config_list})\n",
    "\n",
    "# Create the agent that represents the user in the conversation.\n",
    "user_proxy = UserProxyAgent(\"user\", code_execution_config=False)\n",
    "\n",
    "# Let the assistant start the conversation.  It will end when the user types \"exit\".\n",
    "try:\n",
    "    assistant.initiate_chat(user_proxy, message=\"How can I help you today?\")\n",
    "except StdinNotImplementedError:\n",
    "    # This is only necessary for AgentOps testing automation which is headless and will not have user input\n",
    "    print(\"Stdin not implemented. Skipping initiate_chat\")\n",
    "\n",
    "# Close your AgentOps session to indicate that it completed.\n",
    "agentops.end_session(\"Success\")\n",
    "print(\"Success! Visit your AgentOps dashboard to see the replay\")"
   ]
  },
  {
   "cell_type": "markdown",
   "id": "7b422137-903a-41ef-a4ca-95b50aea4138",
   "metadata": {},
   "source": [
    "You can view data on this run at [app.agentops.ai](app.agentops.ai).\n",
    "\n",
    "The dashboard will display LLM events for each message sent by each agent, including those made by the human user."
   ]
  }
 ],
 "metadata": {
  "kernelspec": {
   "display_name": "Python 3 (ipykernel)",
   "language": "python",
   "name": "python3"
  },
  "language_info": {
   "codemirror_mode": {
    "name": "ipython",
    "version": 3
   },
   "file_extension": ".py",
   "mimetype": "text/x-python",
   "name": "python",
   "nbconvert_exporter": "python",
   "pygments_lexer": "ipython3",
   "version": "3.12.3"
  }
 },
 "nbformat": 4,
 "nbformat_minor": 5
}
