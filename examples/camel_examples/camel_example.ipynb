{
 "cells": [
  {
   "cell_type": "markdown",
   "id": "7e8f71fe",
   "metadata": {},
   "source": [
    "# CAMEL AI Integration Example\n",
    "This notebook demonstrates how to use AgentOps with CAMEL AI for agent monitoring."
   ]
  },
  {
   "cell_type": "code",
   "execution_count": null,
   "id": "830a2e8d",
   "metadata": {},
   "outputs": [],
   "source": [
    "import os\n",
    "import agentops\n",
    "from camel.agents import ChatAgent\n",
    "from camel.messages import BaseMessage\n",
    "from camel.types import ModelType, ModelPlatformType\n",
    "from camel.models import ModelFactory\n",
    "\n",
    "# Initialize AgentOps\n",
    "agentops.init(os.getenv(\"AGENTOPS_API_KEY\"))"
   ]
  },
  {
   "cell_type": "code",
   "execution_count": null,
   "id": "c5b118fc",
   "metadata": {},
   "outputs": [],
   "source": [
    "# Initialize CAMEL agent\n",
    "assistant = ChatAgent(\n",
    "    model=ModelFactory.create(\n",
    "        model_platform=ModelPlatformType.OPENAI,\n",
    "        model_type=ModelType.GPT_4O_MINI,\n",
    "    ),\n",
    "    system_message=\"You are a helpful AI assistant.\"\n",
    ")"
   ]
  },
  {
   "cell_type": "code",
   "execution_count": null,
   "id": "2d3357e7",
   "metadata": {},
   "outputs": [],
   "source": [
    "# Start a conversation\n",
    "message = BaseMessage(\n",
    "    role_name=\"Human\",\n",
    "    role_type=\"human\",\n",
    "    meta_dict={\"timestamp\": \"2024-01-01T00:00:01\"},\n",
    "    content=\"Can you help me write a Python function to calculate fibonacci numbers?\"\n",
    ")\n",
    "\n",
    "# Get assistant's response\n",
    "response = assistant.step(message)\n",
    "print(\"Assistant response:\", response)  # Print entire response object to inspect structure"
   ]
  }
 ],
 "metadata": {},
 "nbformat": 4,
 "nbformat_minor": 5
}
