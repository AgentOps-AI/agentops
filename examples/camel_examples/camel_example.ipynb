{
 "cells": [
  {
   "cell_type": "markdown",
   "id": "0de79fb7",
   "metadata": {},
   "source": [
    "# CAMEL Agent Tracking with AgentOps\n",
    "\n",
    "This notebook demonstrates how to use AgentOps to track and monitor CAMEL agents. We'll cover:\n",
    "1. Setting up CAMEL with AgentOps\n",
    "2. Running a single agent example\n",
    "3. Creating a multi-agent conversation\n",
    "4. Analyzing session data and costs"
   ]
  },
  {
   "cell_type": "markdown",
   "id": "4fec5e25",
   "metadata": {},
   "source": [
    "## Setup\n",
    "\n",
    "First, let's ensure we have all required packages installed and set up our environment."
   ]
  },
  {
   "cell_type": "code",
   "execution_count": 1,
   "id": "a1636c82",
   "metadata": {
    "execution": {
     "iopub.execute_input": "2024-12-12T08:56:55.090998Z",
     "iopub.status.busy": "2024-12-12T08:56:55.090772Z",
     "iopub.status.idle": "2024-12-12T08:56:56.597965Z",
     "shell.execute_reply": "2024-12-12T08:56:56.597081Z"
    }
   },
   "outputs": [
    {
     "name": "stdout",
     "output_type": "stream",
     "text": [
      "Installing camel-ai...\n"
     ]
    },
    {
     "name": "stdout",
     "output_type": "stream",
     "text": [
      "Requirement already satisfied: camel-ai in /home/ubuntu/repos/agentops/venv/lib/python3.12/site-packages (0.2.11)\n",
      "Requirement already satisfied: colorama<1,>=0 in /home/ubuntu/repos/agentops/venv/lib/python3.12/site-packages (from camel-ai) (0.4.6)\n",
      "Requirement already satisfied: curl_cffi==0.6.2 in /home/ubuntu/repos/agentops/venv/lib/python3.12/site-packages (from camel-ai) (0.6.2)\n",
      "Requirement already satisfied: docstring-parser<0.16,>=0.15 in /home/ubuntu/repos/agentops/venv/lib/python3.12/site-packages (from camel-ai) (0.15)\n",
      "Requirement already satisfied: eval-type-backport==0.2.0 in /home/ubuntu/repos/agentops/venv/lib/python3.12/site-packages (from camel-ai) (0.2.0)\n",
      "Requirement already satisfied: jsonschema<5,>=4 in /home/ubuntu/repos/agentops/venv/lib/python3.12/site-packages (from camel-ai) (4.23.0)\n",
      "Requirement already satisfied: numpy<2,>=1 in /home/ubuntu/repos/agentops/venv/lib/python3.12/site-packages (from camel-ai) (1.26.4)\n",
      "Requirement already satisfied: openai<2.0.0,>=1.45.0 in /home/ubuntu/repos/agentops/venv/lib/python3.12/site-packages (from camel-ai) (1.57.2)\n",
      "Requirement already satisfied: pandoc in /home/ubuntu/repos/agentops/venv/lib/python3.12/site-packages (from camel-ai) (2.4)\n",
      "Requirement already satisfied: pathlib<2.0.0,>=1.0.1 in /home/ubuntu/repos/agentops/venv/lib/python3.12/site-packages (from camel-ai) (1.0.1)\n",
      "Requirement already satisfied: protobuf<5,>=4 in /home/ubuntu/repos/agentops/venv/lib/python3.12/site-packages (from camel-ai) (4.25.5)\n",
      "Requirement already satisfied: pydantic<2.10,>=1.9 in /home/ubuntu/repos/agentops/venv/lib/python3.12/site-packages (from camel-ai) (2.9.2)\n",
      "Requirement already satisfied: tiktoken<0.8.0,>=0.7.0 in /home/ubuntu/repos/agentops/venv/lib/python3.12/site-packages (from camel-ai) (0.7.0)\n",
      "Requirement already satisfied: cffi>=1.12.0 in /home/ubuntu/repos/agentops/venv/lib/python3.12/site-packages (from curl_cffi==0.6.2->camel-ai) (1.17.1)\n",
      "Requirement already satisfied: certifi in /home/ubuntu/repos/agentops/venv/lib/python3.12/site-packages (from curl_cffi==0.6.2->camel-ai) (2024.8.30)\n",
      "Requirement already satisfied: attrs>=22.2.0 in /home/ubuntu/repos/agentops/venv/lib/python3.12/site-packages (from jsonschema<5,>=4->camel-ai) (24.2.0)\n",
      "Requirement already satisfied: jsonschema-specifications>=2023.03.6 in /home/ubuntu/repos/agentops/venv/lib/python3.12/site-packages (from jsonschema<5,>=4->camel-ai) (2023.12.1)\n",
      "Requirement already satisfied: referencing>=0.28.4 in /home/ubuntu/repos/agentops/venv/lib/python3.12/site-packages (from jsonschema<5,>=4->camel-ai) (0.35.1)\n",
      "Requirement already satisfied: rpds-py>=0.7.1 in /home/ubuntu/repos/agentops/venv/lib/python3.12/site-packages (from jsonschema<5,>=4->camel-ai) (0.22.3)\n",
      "Requirement already satisfied: anyio<5,>=3.5.0 in /home/ubuntu/repos/agentops/venv/lib/python3.12/site-packages (from openai<2.0.0,>=1.45.0->camel-ai) (4.7.0)\n",
      "Requirement already satisfied: distro<2,>=1.7.0 in /home/ubuntu/repos/agentops/venv/lib/python3.12/site-packages (from openai<2.0.0,>=1.45.0->camel-ai) (1.9.0)\n",
      "Requirement already satisfied: httpx<1,>=0.23.0 in /home/ubuntu/repos/agentops/venv/lib/python3.12/site-packages (from openai<2.0.0,>=1.45.0->camel-ai) (0.27.2)\n",
      "Requirement already satisfied: jiter<1,>=0.4.0 in /home/ubuntu/repos/agentops/venv/lib/python3.12/site-packages (from openai<2.0.0,>=1.45.0->camel-ai) (0.8.2)\n",
      "Requirement already satisfied: sniffio in /home/ubuntu/repos/agentops/venv/lib/python3.12/site-packages (from openai<2.0.0,>=1.45.0->camel-ai) (1.3.1)\n",
      "Requirement already satisfied: tqdm>4 in /home/ubuntu/repos/agentops/venv/lib/python3.12/site-packages (from openai<2.0.0,>=1.45.0->camel-ai) (4.67.1)\n",
      "Requirement already satisfied: typing-extensions<5,>=4.11 in /home/ubuntu/repos/agentops/venv/lib/python3.12/site-packages (from openai<2.0.0,>=1.45.0->camel-ai) (4.12.2)\n",
      "Requirement already satisfied: annotated-types>=0.6.0 in /home/ubuntu/repos/agentops/venv/lib/python3.12/site-packages (from pydantic<2.10,>=1.9->camel-ai) (0.7.0)\n",
      "Requirement already satisfied: pydantic-core==2.23.4 in /home/ubuntu/repos/agentops/venv/lib/python3.12/site-packages (from pydantic<2.10,>=1.9->camel-ai) (2.23.4)\n",
      "Requirement already satisfied: regex>=2022.1.18 in /home/ubuntu/repos/agentops/venv/lib/python3.12/site-packages (from tiktoken<0.8.0,>=0.7.0->camel-ai) (2024.11.6)\n",
      "Requirement already satisfied: requests>=2.26.0 in /home/ubuntu/repos/agentops/venv/lib/python3.12/site-packages (from tiktoken<0.8.0,>=0.7.0->camel-ai) (2.32.3)\n",
      "Requirement already satisfied: plumbum in /home/ubuntu/repos/agentops/venv/lib/python3.12/site-packages (from pandoc->camel-ai) (1.9.0)\n",
      "Requirement already satisfied: ply in /home/ubuntu/repos/agentops/venv/lib/python3.12/site-packages (from pandoc->camel-ai) (3.11)\n",
      "Requirement already satisfied: idna>=2.8 in /home/ubuntu/repos/agentops/venv/lib/python3.12/site-packages (from anyio<5,>=3.5.0->openai<2.0.0,>=1.45.0->camel-ai) (3.10)\n",
      "Requirement already satisfied: pycparser in /home/ubuntu/repos/agentops/venv/lib/python3.12/site-packages (from cffi>=1.12.0->curl_cffi==0.6.2->camel-ai) (2.22)\n",
      "Requirement already satisfied: httpcore==1.* in /home/ubuntu/repos/agentops/venv/lib/python3.12/site-packages (from httpx<1,>=0.23.0->openai<2.0.0,>=1.45.0->camel-ai) (1.0.7)\n",
      "Requirement already satisfied: h11<0.15,>=0.13 in /home/ubuntu/repos/agentops/venv/lib/python3.12/site-packages (from httpcore==1.*->httpx<1,>=0.23.0->openai<2.0.0,>=1.45.0->camel-ai) (0.14.0)\n",
      "Requirement already satisfied: charset-normalizer<4,>=2 in /home/ubuntu/repos/agentops/venv/lib/python3.12/site-packages (from requests>=2.26.0->tiktoken<0.8.0,>=0.7.0->camel-ai) (3.4.0)\n",
      "Requirement already satisfied: urllib3<3,>=1.21.1 in /home/ubuntu/repos/agentops/venv/lib/python3.12/site-packages (from requests>=2.26.0->tiktoken<0.8.0,>=0.7.0->camel-ai) (2.2.3)\n"
     ]
    },
    {
     "name": "stderr",
     "output_type": "stream",
     "text": [
      "\n",
      "\u001b[1m[\u001b[0m\u001b[34;49mnotice\u001b[0m\u001b[1;39;49m]\u001b[0m\u001b[39;49m A new release of pip is available: \u001b[0m\u001b[31;49m24.2\u001b[0m\u001b[39;49m -> \u001b[0m\u001b[32;49m24.3.1\u001b[0m\n",
      "\u001b[1m[\u001b[0m\u001b[34;49mnotice\u001b[0m\u001b[1;39;49m]\u001b[0m\u001b[39;49m To update, run: \u001b[0m\u001b[32;49mpip install --upgrade pip\u001b[0m\n"
     ]
    },
    {
     "name": "stdout",
     "output_type": "stream",
     "text": [
      "camel-ai installed successfully!\n"
     ]
    }
   ],
   "source": [
    "import sys\n",
    "import subprocess\n",
    "\n",
    "def install_package(package):\n",
    "    subprocess.check_call([sys.executable, \"-m\", \"pip\", \"install\", package])\n",
    "\n",
    "# Install required packages if not present\n",
    "required_packages = [\"camel-ai\", \"agentops\"]\n",
    "for package in required_packages:\n",
    "    try:\n",
    "        __import__(package.replace(\"-\", \"_\"))\n",
    "    except ImportError:\n",
    "        print(f\"Installing {package}...\")\n",
    "        install_package(package)\n",
    "        print(f\"{package} installed successfully!\")"
   ]
  },
  {
   "cell_type": "code",
   "execution_count": 2,
   "id": "b8ba8b32",
   "metadata": {
    "execution": {
     "iopub.execute_input": "2024-12-12T08:56:56.600808Z",
     "iopub.status.busy": "2024-12-12T08:56:56.600118Z",
     "iopub.status.idle": "2024-12-12T08:56:57.366255Z",
     "shell.execute_reply": "2024-12-12T08:56:57.365414Z"
    }
   },
   "outputs": [
    {
     "name": "stdout",
     "output_type": "stream",
     "text": [
      "2024-12-12 08:56:56,604 - camel - INFO - Camel library logging has been configured.\n"
     ]
    }
   ],
   "source": [
    "import os\n",
    "import agentops\n",
    "from camel.agents import ChatAgent\n",
    "from camel.messages import BaseMessage\n",
    "from camel.types import ModelPlatformType, ModelType\n",
    "from camel.models import ModelFactory\n",
    "import openai\n",
    "\n",
    "# Helper function to clean API keys\n",
    "def clean_api_key(key):\n",
    "    if key:\n",
    "        return key.strip().strip('\"').strip(\"'\")\n",
    "    return None\n",
    "\n",
    "# Get and validate API keys\n",
    "openai_key = clean_api_key(os.getenv(\"OPENAI_API_KEY\"))\n",
    "agentops_key = clean_api_key(os.getenv(\"AGENTOPS_API_KEY\"))\n",
    "\n",
    "if not openai_key:\n",
    "    raise ValueError(\"OPENAI_API_KEY environment variable is not set\")\n",
    "if not agentops_key:\n",
    "    raise ValueError(\"AGENTOPS_API_KEY environment variable is not set\")\n",
    "\n",
    "# Configure OpenAI client\n",
    "openai.api_key = openai_key\n",
    "if openai_key.startswith('sk-proj-'):\n",
    "    openai.api_base = \"https://api.openai.com/v1\"  # Ensure using standard API endpoint"
   ]
  },
  {
   "cell_type": "markdown",
   "id": "d0868b39",
   "metadata": {},
   "source": [
    "## Single Agent Example\n",
    "\n",
    "Let's create a simple example where we use a single CAMEL agent to explain Python concepts while tracking the interaction with AgentOps."
   ]
  },
  {
   "cell_type": "code",
   "execution_count": 3,
   "id": "3987b073",
   "metadata": {
    "execution": {
     "iopub.execute_input": "2024-12-12T08:56:57.369040Z",
     "iopub.status.busy": "2024-12-12T08:56:57.368715Z",
     "iopub.status.idle": "2024-12-12T08:57:02.060231Z",
     "shell.execute_reply": "2024-12-12T08:57:02.059500Z"
    }
   },
   "outputs": [
    {
     "name": "stderr",
     "output_type": "stream",
     "text": [
      "🖇 AgentOps: \u001b[34m\u001b[34mSession Replay: https://app.agentops.ai/drilldown?session_id=c998bf8f-4145-4cc6-a9d0-50a3c3894aad\u001b[0m\u001b[0m\n"
     ]
    },
    {
     "name": "stderr",
     "output_type": "stream",
     "text": [
      "🖇 AgentOps: Failed to track an agent with the @track_agent decorator.\n"
     ]
    },
    {
     "name": "stdout",
     "output_type": "stream",
     "text": [
      "User: What are Python decorators and how do they work?\n"
     ]
    },
    {
     "name": "stdout",
     "output_type": "stream",
     "text": [
      "2024-12-12 08:57:01,344 - httpx - INFO - HTTP Request: POST https://api.openai.com/v1/chat/completions \"HTTP/1.1 200 OK\"\n"
     ]
    },
    {
     "name": "stdout",
     "output_type": "stream",
     "text": [
      "2024-12-12 08:57:01,539 - camel.agents.chat_agent - INFO - Model gpt-3.5-turbo, index 0, processed these messages: [{'role': 'system', 'content': 'You are a helpful Python programming expert who can explain concepts clearly and concisely.'}, {'role': 'user', 'content': 'What are Python decorators and how do they work?'}]\n"
     ]
    },
    {
     "name": "stdout",
     "output_type": "stream",
     "text": [
      "\n",
      "Assistant: Python decorators are a powerful and advanced feature that allows you to modify or extend the behavior of functions or methods without changing their actual code. Decorators are implemented using the \"@\" symbol followed by the decorator function name, placed above the function definition.\n",
      "\n",
      "Here's a simple example to illustrate how decorators work:\n",
      "\n",
      "```python\n",
      "def my_decorator(func):\n",
      "    def wrapper():\n",
      "        print(\"Something is happening before the function is called.\")\n",
      "        func()\n",
      "        print(\"Something is happening after the function is called.\")\n",
      "    return wrapper\n",
      "\n",
      "@my_decorator\n",
      "def say_hello():\n",
      "    print(\"Hello!\")\n",
      "\n",
      "say_hello()\n",
      "```\n",
      "\n",
      "In this example, the `my_decorator` function is a decorator that adds some functionality before and after calling the `say_hello` function. When `say_hello` is called, it actually calls the `wrapper` function defined inside the `my_decorator` function, which then calls the original `say_hello` function.\n",
      "\n",
      "Decorators are commonly used for logging, authentication, memoization, and more. They provide a clean and concise way to modify the behavior of functions without changing their core implementation.\n",
      "\n",
      "Session Analytics:\n",
      "Total Messages: 2\n",
      "Total Costs: $0.0000\n",
      "\n",
      "Detailed Analytics:\n",
      "LLM calls: 2\n",
      "Tool calls: 0\n",
      "Actions: 0\n",
      "Errors: 0\n",
      "Duration: 3.5s\n",
      "Cost: 0.00\n"
     ]
    },
    {
     "name": "stderr",
     "output_type": "stream",
     "text": [
      "🖇 AgentOps: Session Stats - \u001b[1mDuration:\u001b[0m 3.8s | \u001b[1mCost:\u001b[0m $0.000362 | \u001b[1mLLMs:\u001b[0m 2 | \u001b[1mTools:\u001b[0m 0 | \u001b[1mActions:\u001b[0m 0 | \u001b[1mErrors:\u001b[0m 0\n"
     ]
    },
    {
     "name": "stderr",
     "output_type": "stream",
     "text": [
      "🖇 AgentOps: \u001b[34m\u001b[34mSession Replay: https://app.agentops.ai/drilldown?session_id=c998bf8f-4145-4cc6-a9d0-50a3c3894aad\u001b[0m\u001b[0m\n"
     ]
    },
    {
     "data": {
      "text/plain": [
       "Decimal('0.00036249999999999997501998194593397784046828746795654296875')"
      ]
     },
     "execution_count": 3,
     "metadata": {},
     "output_type": "execute_result"
    }
   ],
   "source": [
    "# Initialize AgentOps client\n",
    "ao_client = agentops.Client()\n",
    "ao_client.configure(api_key=agentops_key)\n",
    "\n",
    "# Initialize client and start session\n",
    "try:\n",
    "    session = ao_client.initialize()\n",
    "    if not session:\n",
    "        session = ao_client.start_session(tags=[\"camel_example\", \"single_agent\"])\n",
    "\n",
    "    if not session:\n",
    "        raise RuntimeError(\"Failed to create AgentOps session\")\n",
    "except Exception as e:\n",
    "    print(f\"Error initializing AgentOps: {e}\")\n",
    "    raise\n",
    "\n",
    "# Create a tracked version of ChatAgent\n",
    "class TrackedChatAgent(ChatAgent):\n",
    "    def __init__(self, system_message, model, name=\"agent\", session=None):\n",
    "        super().__init__(system_message=system_message, model=model)\n",
    "        self.name = name\n",
    "        self.session = session\n",
    "\n",
    "    def step(self, user_msg):\n",
    "        try:\n",
    "            response = super().step(user_msg)\n",
    "            # Record the interaction with basic parameters\n",
    "            if self.session:\n",
    "                try:\n",
    "                    self.session.record(\n",
    "                        agentops.LLMEvent(\n",
    "                            model=str(self.model_backend.model_type),\n",
    "                            prompt=user_msg,\n",
    "                            completion=response.msgs[0].content\n",
    "                        )\n",
    "                    )\n",
    "                except Exception as e:\n",
    "                    print(f\"Failed to record event: {e}\")\n",
    "            return response\n",
    "        except Exception as e:\n",
    "            print(f\"Error during agent step: {e}\")\n",
    "            raise\n",
    "\n",
    "# Set up the agent\n",
    "sys_msg = BaseMessage.make_assistant_message(\n",
    "    role_name=\"Python Expert\",\n",
    "    content=\"You are a helpful Python programming expert who can explain concepts clearly and concisely.\"\n",
    ")\n",
    "\n",
    "# Configure model with GPT-3.5\n",
    "model = ModelFactory.create(\n",
    "    model_platform=ModelPlatformType.OPENAI,\n",
    "    model_type=ModelType.GPT_3_5_TURBO,\n",
    ")\n",
    "\n",
    "# Create the agent with session\n",
    "camel_agent = TrackedChatAgent(\n",
    "    system_message=sys_msg,\n",
    "    model=model,\n",
    "    name=\"python_expert\",\n",
    "    session=session\n",
    ")\n",
    "\n",
    "# Run the agent\n",
    "user_msg = \"What are Python decorators and how do they work?\"\n",
    "print(\"User:\", user_msg)\n",
    "\n",
    "response = camel_agent.step(user_msg)\n",
    "print(\"\\nAssistant:\", response.msgs[0].content)\n",
    "\n",
    "# Get analytics\n",
    "print(\"\\nSession Analytics:\")\n",
    "analytics = session.get_analytics()\n",
    "print(f\"Total Messages: {session.event_counts['llms']}\")\n",
    "print(f\"Total Costs: ${session.token_cost:.4f}\\n\")\n",
    "\n",
    "# Print detailed analytics\n",
    "print(\"Detailed Analytics:\")\n",
    "for key, value in analytics.items():\n",
    "    print(f\"{key}: {value}\")\n",
    "\n",
    "# End the session\n",
    "session.end_session(end_state=\"Success\", end_state_reason=\"Completed CAMEL AI example\")"
   ]
  },
  {
   "cell_type": "markdown",
   "id": "21f9e0f2",
   "metadata": {},
   "source": [
    "## Multi-Agent Conversation\n",
    "\n",
    "Now let's demonstrate how to track a conversation between two CAMEL agents using AgentOps."
   ]
  },
  {
   "cell_type": "code",
   "execution_count": 4,
   "id": "0289960d",
   "metadata": {
    "execution": {
     "iopub.execute_input": "2024-12-12T08:57:02.062632Z",
     "iopub.status.busy": "2024-12-12T08:57:02.062409Z",
     "iopub.status.idle": "2024-12-12T08:57:07.710992Z",
     "shell.execute_reply": "2024-12-12T08:57:07.710087Z"
    }
   },
   "outputs": [
    {
     "name": "stderr",
     "output_type": "stream",
     "text": [
      "🖇 AgentOps: Failed to track an agent with the @track_agent decorator.\n"
     ]
    },
    {
     "name": "stdout",
     "output_type": "stream",
     "text": [
      "Starting multi-agent conversation...\n",
      "\n",
      "Student: Can you explain more about how to create decorators that accept arguments?\n"
     ]
    },
    {
     "name": "stdout",
     "output_type": "stream",
     "text": [
      "2024-12-12 08:57:04,170 - httpx - INFO - HTTP Request: POST https://api.openai.com/v1/chat/completions \"HTTP/1.1 200 OK\"\n"
     ]
    },
    {
     "name": "stderr",
     "output_type": "stream",
     "text": [
      "\u001b[31;1m🖇 AgentOps: Could not record event. Start a session by calling agentops.start_session().\u001b[0m\n"
     ]
    },
    {
     "name": "stdout",
     "output_type": "stream",
     "text": [
      "2024-12-12 08:57:04,197 - camel.agents.chat_agent - INFO - Model gpt-3.5-turbo, index 0, processed these messages: [{'role': 'system', 'content': 'You are a helpful Python programming expert who can explain concepts clearly and concisely.'}, {'role': 'user', 'content': 'What are Python decorators and how do they work?'}, {'role': 'assistant', 'content': 'Python decorators are a powerful and advanced feature that allows you to modify or extend the behavior of functions or methods without changing their actual code. Decorators are implemented using the \"@\" symbol followed by the decorator function name, placed above the function definition.\\n\\nHere\\'s a simple example to illustrate how decorators work:\\n\\n```python\\ndef my_decorator(func):\\n    def wrapper():\\n        print(\"Something is happening before the function is called.\")\\n        func()\\n        print(\"Something is happening after the function is called.\")\\n    return wrapper\\n\\n@my_decorator\\ndef say_hello():\\n    print(\"Hello!\")\\n\\nsay_hello()\\n```\\n\\nIn this example, the `my_decorator` function is a decorator that adds some functionality before and after calling the `say_hello` function. When `say_hello` is called, it actually calls the `wrapper` function defined inside the `my_decorator` function, which then calls the original `say_hello` function.\\n\\nDecorators are commonly used for logging, authentication, memoization, and more. They provide a clean and concise way to modify the behavior of functions without changing their core implementation.'}, {'role': 'user', 'content': 'Can you explain more about how to create decorators that accept arguments?'}]\n"
     ]
    },
    {
     "name": "stdout",
     "output_type": "stream",
     "text": [
      "\n",
      "Python Expert: To create decorators that accept arguments, you need to define a higher-order function that takes the arguments for the decorator and returns the actual decorator function. Here's an example to demonstrate how to create a decorator that accepts arguments:\n",
      "\n",
      "```python\n",
      "def repeat(num_times):\n",
      "    def decorator_repeat(func):\n",
      "        def wrapper(*args, **kwargs):\n",
      "            for _ in range(num_times):\n",
      "                result = func(*args, **kwargs)\n",
      "            return result\n",
      "        return wrapper\n",
      "    return decorator_repeat\n",
      "\n",
      "@repeat(num_times=3)\n",
      "def greet(name):\n",
      "    print(f\"Hello, {name}!\")\n",
      "\n",
      "greet(\"Alice\")\n",
      "```\n",
      "\n",
      "In this example, the `repeat` function is a higher-order function that takes the `num_times` argument and returns the actual decorator function `decorator_repeat`. The `decorator_repeat` function then defines the `wrapper` function, which will execute the original function `func` multiple times based on the `num_times` argument.\n",
      "\n",
      "When the `greet` function is decorated with `@repeat(num_times=3)`, it will be called three times when invoked with the argument `\"Alice\"`. This allows you to customize the behavior of the decorator based on the arguments provided.\n",
      "\n",
      "By using this pattern, you can create versatile decorators that can be customized with different arguments to modify the behavior of functions in various ways.\n",
      "\n",
      "Student: Could you provide a practical example of when to use decorators with arguments?\n"
     ]
    },
    {
     "name": "stdout",
     "output_type": "stream",
     "text": [
      "2024-12-12 08:57:07,507 - httpx - INFO - HTTP Request: POST https://api.openai.com/v1/chat/completions \"HTTP/1.1 200 OK\"\n"
     ]
    },
    {
     "name": "stderr",
     "output_type": "stream",
     "text": [
      "\u001b[31;1m🖇 AgentOps: Could not record event. Start a session by calling agentops.start_session().\u001b[0m\n"
     ]
    },
    {
     "name": "stdout",
     "output_type": "stream",
     "text": [
      "2024-12-12 08:57:07,532 - camel.agents.chat_agent - INFO - Model gpt-3.5-turbo, index 0, processed these messages: [{'role': 'system', 'content': 'You are a helpful Python programming expert who can explain concepts clearly and concisely.'}, {'role': 'user', 'content': 'What are Python decorators and how do they work?'}, {'role': 'assistant', 'content': 'Python decorators are a powerful and advanced feature that allows you to modify or extend the behavior of functions or methods without changing their actual code. Decorators are implemented using the \"@\" symbol followed by the decorator function name, placed above the function definition.\\n\\nHere\\'s a simple example to illustrate how decorators work:\\n\\n```python\\ndef my_decorator(func):\\n    def wrapper():\\n        print(\"Something is happening before the function is called.\")\\n        func()\\n        print(\"Something is happening after the function is called.\")\\n    return wrapper\\n\\n@my_decorator\\ndef say_hello():\\n    print(\"Hello!\")\\n\\nsay_hello()\\n```\\n\\nIn this example, the `my_decorator` function is a decorator that adds some functionality before and after calling the `say_hello` function. When `say_hello` is called, it actually calls the `wrapper` function defined inside the `my_decorator` function, which then calls the original `say_hello` function.\\n\\nDecorators are commonly used for logging, authentication, memoization, and more. They provide a clean and concise way to modify the behavior of functions without changing their core implementation.'}, {'role': 'user', 'content': 'Can you explain more about how to create decorators that accept arguments?'}, {'role': 'assistant', 'content': 'To create decorators that accept arguments, you need to define a higher-order function that takes the arguments for the decorator and returns the actual decorator function. Here\\'s an example to demonstrate how to create a decorator that accepts arguments:\\n\\n```python\\ndef repeat(num_times):\\n    def decorator_repeat(func):\\n        def wrapper(*args, **kwargs):\\n            for _ in range(num_times):\\n                result = func(*args, **kwargs)\\n            return result\\n        return wrapper\\n    return decorator_repeat\\n\\n@repeat(num_times=3)\\ndef greet(name):\\n    print(f\"Hello, {name}!\")\\n\\ngreet(\"Alice\")\\n```\\n\\nIn this example, the `repeat` function is a higher-order function that takes the `num_times` argument and returns the actual decorator function `decorator_repeat`. The `decorator_repeat` function then defines the `wrapper` function, which will execute the original function `func` multiple times based on the `num_times` argument.\\n\\nWhen the `greet` function is decorated with `@repeat(num_times=3)`, it will be called three times when invoked with the argument `\"Alice\"`. This allows you to customize the behavior of the decorator based on the arguments provided.\\n\\nBy using this pattern, you can create versatile decorators that can be customized with different arguments to modify the behavior of functions in various ways.'}, {'role': 'user', 'content': 'Could you provide a practical example of when to use decorators with arguments?'}]\n"
     ]
    },
    {
     "name": "stdout",
     "output_type": "stream",
     "text": [
      "\n",
      "Python Expert: Sure! One practical example of using decorators with arguments is implementing a rate-limiting decorator. This decorator can restrict how often a function can be called within a certain time frame. Here's an example implementation:\n",
      "\n",
      "```python\n",
      "import time\n",
      "\n",
      "def rate_limit(limit_per_second):\n",
      "    def decorator_rate_limit(func):\n",
      "        last_invocation = 0\n",
      "\n",
      "        def wrapper(*args, **kwargs):\n",
      "            nonlocal last_invocation\n",
      "            current_time = time.time()\n",
      "            elapsed_time = current_time - last_invocation\n",
      "\n",
      "            if elapsed_time < 1 / limit_per_second:\n",
      "                print(f\"Rate limit exceeded. Please wait before calling {func.__name__} again.\")\n",
      "            else:\n",
      "                last_invocation = current_time\n",
      "                return func(*args, **kwargs)\n",
      "\n",
      "        return wrapper\n",
      "    return decorator_rate_limit\n",
      "\n",
      "@rate_limit(limit_per_second=2)\n",
      "def api_call():\n",
      "    print(\"API call made.\")\n",
      "\n",
      "# Test the rate-limited function\n",
      "for _ in range(5):\n",
      "    api_call()\n",
      "    time.sleep(0.5)\n",
      "```\n",
      "\n",
      "In this example, the `rate_limit` decorator takes an argument `limit_per_second` to specify the maximum number of times the decorated function can be called per second. The `wrapper` function within the decorator keeps track of the last invocation time and enforces the rate limit.\n",
      "\n",
      "By decorating the `api_call` function with `@rate_limit(limit_per_second=2)`, we ensure that the function can only be called twice per second. If the rate limit is exceeded, a message is printed, and the function is not executed.\n",
      "\n",
      "This example demonstrates how decorators with arguments can be used to add custom behavior, such as rate limiting, to functions in a flexible and reusable way.\n",
      "\n",
      "Session Analytics:\n",
      "Total Messages: 2\n",
      "Total Costs: $0.0004\n",
      "\n",
      "Detailed Analytics:\n",
      "LLM calls: 2\n",
      "Tool calls: 0\n",
      "Actions: 0\n",
      "Errors: 0\n",
      "Duration: 3.8s\n",
      "Cost: 0.000362\n"
     ]
    }
   ],
   "source": [
    "# Create another agent for multi-agent conversation\n",
    "sys_msg_2 = BaseMessage.make_assistant_message(\n",
    "    role_name=\"Student\",\n",
    "    content=\"You are a curious student who asks follow-up questions about Python concepts.\"\n",
    ")\n",
    "\n",
    "# Create second agent with session\n",
    "student_agent = TrackedChatAgent(\n",
    "    system_message=sys_msg_2,\n",
    "    model=model,\n",
    "    name=\"student\",\n",
    "    session=session\n",
    ")\n",
    "\n",
    "# Run multi-agent conversation\n",
    "print(\"Starting multi-agent conversation...\")\n",
    "student_msg = \"Can you explain more about how to create decorators that accept arguments?\"\n",
    "print(\"\\nStudent:\", student_msg)\n",
    "\n",
    "expert_response = camel_agent.step(student_msg)\n",
    "print(\"\\nPython Expert:\", expert_response.msgs[0].content)\n",
    "\n",
    "student_followup = \"Could you provide a practical example of when to use decorators with arguments?\"\n",
    "print(\"\\nStudent:\", student_followup)\n",
    "\n",
    "expert_final = camel_agent.step(student_followup)\n",
    "print(\"\\nPython Expert:\", expert_final.msgs[0].content)\n",
    "\n",
    "# Get final analytics\n",
    "print(\"\\nSession Analytics:\")\n",
    "analytics = session.get_analytics()\n",
    "print(f\"Total Messages: {session.event_counts['llms']}\")\n",
    "print(f\"Total Costs: ${session.token_cost:.4f}\\n\")\n",
    "\n",
    "# Print detailed analytics\n",
    "print(\"Detailed Analytics:\")\n",
    "for key, value in analytics.items():\n",
    "    print(f\"{key}: {value}\")\n",
    "\n",
    "# End the session\n",
    "session.end_session(end_state=\"Success\", end_state_reason=\"Completed CAMEL AI example\")"
   ]
  },
  {
   "cell_type": "markdown",
   "id": "8129cdc8",
   "metadata": {},
   "source": [
    "## Conclusion\n",
    "\n",
    "In this notebook, we demonstrated how to:\n",
    "1. Track single-agent CAMEL interactions with AgentOps\n",
    "2. Monitor multi-agent conversations\n",
    "3. Collect analytics on message counts and costs\n",
    "4. Manage different agent roles and personalities\n",
    "\n",
    "For more information, visit:\n",
    "- [CAMEL AI Documentation](https://www.camel-ai.org/)\n",
    "- [AgentOps Dashboard](https://app.agentops.ai/)\n",
    "- [AgentOps Documentation](https://docs.agentops.ai/)"
   ]
  },
  {
   "cell_type": "markdown",
   "id": "cc65be77",
   "metadata": {},
   "source": [
    "---\n",
    "Generated with AgentOps - Observability for AI Agents\n"
   ]
  }
 ],
 "metadata": {
  "kernelspec": {
   "display_name": "Python 3",
   "language": "python",
   "name": "python3"
  },
  "language_info": {
   "codemirror_mode": {
    "name": "ipython",
    "version": 3
   },
   "file_extension": ".py",
   "mimetype": "text/x-python",
   "name": "python",
   "nbconvert_exporter": "python",
   "pygments_lexer": "ipython3",
   "version": "3.12.7"
  }
 },
 "nbformat": 4,
 "nbformat_minor": 5
}
