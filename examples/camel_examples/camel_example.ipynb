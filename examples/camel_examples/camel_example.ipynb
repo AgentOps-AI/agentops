{
 "cells": [
  {
   "cell_type": "markdown",
   "id": "4b0cfa79",
   "metadata": {},
   "source": [
    "# CAMEL AI Multi-Agent Example\n",
    "This notebook demonstrates how to use AgentOps with CAMEL AI for monitoring multi-agent interactions."
   ]
  },
  {
   "cell_type": "markdown",
   "id": "13e64774",
   "metadata": {},
   "source": [
    "First let's install the required packages"
   ]
  },
  {
   "cell_type": "code",
   "execution_count": null,
   "id": "5a6e7d82",
   "metadata": {},
   "outputs": [],
   "source": [
    "!pip install camel-ai[all] agentops"
   ]
  },
  {
   "cell_type": "markdown",
   "id": "c5e296fc",
   "metadata": {},
   "source": [
    "Then import them"
   ]
  },
  {
   "cell_type": "code",
   "execution_count": null,
   "id": "1c29fa2b",
   "metadata": {},
   "outputs": [],
   "source": [
    "import os\n",
    "import agentops\n",
    "from camel.agents import ChatAgent\n",
    "from camel.messages import BaseMessage\n",
    "from camel.types import ModelType, ModelPlatformType\n",
    "from camel.models import ModelFactory"
   ]
  },
  {
   "cell_type": "markdown",
   "id": "059be5df",
   "metadata": {},
   "source": [
    "Next, we'll set our API keys"
   ]
  },
  {
   "cell_type": "code",
   "execution_count": null,
   "id": "f999c353",
   "metadata": {},
   "outputs": [],
   "source": [
    "# Initialize AgentOps\n",
    "agentops.init(os.getenv(\"AGENTOPS_API_KEY\"))"
   ]
  },
  {
   "cell_type": "markdown",
   "id": "1ef587c7",
   "metadata": {},
   "source": [
    "# Multi-Agent Chat Example\n",
    "In this example, we'll create two agents: a Python expert who writes code and a code reviewer who provides feedback."
   ]
  },
  {
   "cell_type": "code",
   "execution_count": null,
   "id": "cf5b3882",
   "metadata": {},
   "outputs": [],
   "source": [
    "# Initialize two CAMEL agents\n",
    "assistant = ChatAgent(\n",
    "    model=ModelFactory.create(\n",
    "        model_platform=ModelPlatformType.OPENAI,\n",
    "        model_type=ModelType.GPT_4O_MINI,\n",
    "    ),\n",
    "    system_message=\"You are a Python expert who helps write clean, efficient code.\"\n",
    ")\n",
    "\n",
    "reviewer = ChatAgent(\n",
    "    model=ModelFactory.create(\n",
    "        model_platform=ModelPlatformType.OPENAI,\n",
    "        model_type=ModelType.GPT_4O_MINI,\n",
    "    ),\n",
    "    system_message=\"You are a code reviewer who focuses on code quality and best practices.\"\n",
    ")"
   ]
  },
  {
   "cell_type": "markdown",
   "id": "d62c6e1e",
   "metadata": {},
   "source": [
    "Now let's start a conversation about optimizing a Python function. The assistant will suggest improvements, and the reviewer will provide feedback."
   ]
  },
  {
   "cell_type": "code",
   "execution_count": null,
   "id": "42d9a004",
   "metadata": {},
   "outputs": [],
   "source": [
    "# Start a conversation about code optimization\n",
    "message = BaseMessage(\n",
    "    role_name=\"Human\",\n",
    "    role_type=\"human\",\n",
    "    meta_dict={\"timestamp\": \"2024-01-01T00:00:01\"},\n",
    "    content=\"I need help optimizing this Python function for calculating prime numbers:\\ndef is_prime(n):\\n    for i in range(2, n):\\n        if n % i == 0:\\n            return False\\n    return True\"\n",
    ")\n",
    "\n",
    "# Get assistant's response\n",
    "assistant_response = assistant.step(message)\n",
    "print(\"Assistant's suggestion:\", assistant_response.msgs[0].content)\n",
    "\n",
    "# Get reviewer's feedback\n",
    "reviewer_message = BaseMessage(\n",
    "    role_name=\"Human\",\n",
    "    role_type=\"human\",\n",
    "    meta_dict={\"timestamp\": \"2024-01-01T00:00:02\"},\n",
    "    content=f\"Please review this code suggestion:\\n{assistant_response.msgs[0].content}\"\n",
    ")\n",
    "reviewer_response = reviewer.step(reviewer_message)\n",
    "print(\"\\nReviewer's feedback:\", reviewer_response.msgs[0].content)\n",
    "\n",
    "# Implement reviewer's suggestions\n",
    "improvement_message = BaseMessage(\n",
    "    role_name=\"Human\",\n",
    "    role_type=\"human\",\n",
    "    meta_dict={\"timestamp\": \"2024-01-01T00:00:03\"},\n",
    "    content=f\"Please improve the code based on this feedback:\\n{reviewer_response.msgs[0].content}\"\n",
    ")\n",
    "final_response = assistant.step(improvement_message)\n",
    "print(\"\\nFinal improved code:\", final_response.msgs[0].content)"
   ]
  },
  {
   "cell_type": "markdown",
   "id": "11fecd6f",
   "metadata": {},
   "source": [
    "You can view the complete interaction and agent performance metrics at [app.agentops.ai](https://app.agentops.ai)\n",
    "\n",
    "In this example, you'll see:\n",
    "- Multiple agent initialization and configuration\n",
    "- Inter-agent communication and collaboration\n",
    "- Code review and improvement workflow\n",
    "- Complete tracking of all agent interactions"
   ]
  }
 ],
 "metadata": {},
 "nbformat": 4,
 "nbformat_minor": 5
}
