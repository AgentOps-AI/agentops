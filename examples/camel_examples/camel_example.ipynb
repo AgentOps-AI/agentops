{
 "cells": [
  {
   "cell_type": "markdown",
   "id": "ae1bd113",
   "metadata": {},
   "source": [
    "# CAMEL Agent Tracking with AgentOps\n",
    "\n",
    "This notebook demonstrates how to track CAMEL agents using AgentOps. We'll cover:\n",
    "1. Setting up CAMEL and AgentOps\n",
    "2. Running a single agent with tools\n",
    "3. Running multiple agents with tools\n",
    "\n",
    "## Installation\n",
    "\n",
    "First, install the required packages:"
   ]
  },
  {
   "cell_type": "code",
   "execution_count": null,
   "id": "5aa2fae5",
   "metadata": {},
   "outputs": [],
   "source": [
    "!pip install \"camel-ai[all]==0.2.11\"\n",
    "!pip install agentops"
   ]
  },
  {
   "cell_type": "markdown",
   "id": "6a690d18",
   "metadata": {},
   "source": [
    "## Setup\n",
    "\n",
    "Set up your API keys for OpenAI and AgentOps:"
   ]
  },
  {
   "cell_type": "code",
   "execution_count": null,
   "id": "c3767b4b",
   "metadata": {},
   "outputs": [],
   "source": [
    "import os\n",
    "from getpass import getpass\n",
    "\n",
    "# Set OpenAI API key\n",
    "if \"OPENAI_API_KEY\" not in os.environ:\n",
    "    os.environ[\"OPENAI_API_KEY\"] = getpass('Enter your OpenAI API key: ')\n",
    "\n",
    "# Set AgentOps API key\n",
    "if \"AGENTOPS_API_KEY\" not in os.environ:\n",
    "    os.environ[\"AGENTOPS_API_KEY\"] = getpass('Enter your AgentOps API key: ')"
   ]
  },
  {
   "cell_type": "markdown",
   "id": "b315933a",
   "metadata": {},
   "source": [
    "## Single Agent with Tools\n",
    "\n",
    "Let's create a single CAMEL agent that uses search tools and track it with AgentOps:"
   ]
  },
  {
   "cell_type": "code",
   "execution_count": null,
   "id": "cfed25a9",
   "metadata": {},
   "outputs": [],
   "source": [
    "import agentops\n",
    "from camel.agents import ChatAgent\n",
    "from camel.messages import BaseMessage\n",
    "from camel.models import ModelFactory\n",
    "from camel.types import ModelPlatformType, ModelType\n",
    "\n",
    "# Initialize AgentOps\n",
    "agentops.init(os.getenv(\"AGENTOPS_API_KEY\"), default_tags=[\"CAMEL Single Agent Example\"])\n",
    "\n",
    "# Import toolkits after AgentOps init for tracking\n",
    "from camel.toolkits import SearchToolkit\n",
    "\n",
    "# Set up the agent with search tools\n",
    "sys_msg = BaseMessage.make_assistant_message(\n",
    "    role_name='Tools calling operator',\n",
    "    content='You are a helpful assistant'\n",
    ")\n",
    "\n",
    "# Configure tools and model\n",
    "tools = [*SearchToolkit().get_tools()]\n",
    "model = ModelFactory.create(\n",
    "    model_platform=ModelPlatformType.OPENAI,\n",
    "    model_type=ModelType.GPT_4O_MINI,\n",
    ")\n",
    "\n",
    "# Create the agent\n",
    "camel_agent = ChatAgent(\n",
    "    system_message=sys_msg,\n",
    "    model=model,\n",
    "    tools=tools,\n",
    ")\n",
    "\n",
    "# Run the agent\n",
    "user_msg = 'What is CAMEL-AI.org?'\n",
    "response = camel_agent.step(user_msg)\n",
    "print(response)\n",
    "\n",
    "# End the session\n",
    "agentops.end_session(\"Success\")"
   ]
  },
  {
   "cell_type": "markdown",
   "id": "25de94f2",
   "metadata": {},
   "source": [
    "## Multi-Agent with Tools\n",
    "\n",
    "Now let's create multiple CAMEL agents that can work together and track their interactions:"
   ]
  },
  {
   "cell_type": "code",
   "execution_count": null,
   "id": "ad2605da",
   "metadata": {},
   "outputs": [],
   "source": [
    "import agentops\n",
    "from typing import List\n",
    "from camel.agents.chat_agent import FunctionCallingRecord\n",
    "from camel.societies import RolePlaying\n",
    "from camel.types import ModelPlatformType, ModelType\n",
    "\n",
    "# Initialize AgentOps with multi-agent tag\n",
    "agentops.start_session(tags=[\"CAMEL Multi-agent Example\"])\n",
    "\n",
    "# Import toolkits after AgentOps init\n",
    "from camel.toolkits import SearchToolkit, MathToolkit\n",
    "\n",
    "# Set up your task\n",
    "task_prompt = (\n",
    "    \"Assume now is 2024 in the Gregorian calendar, \"\n",
    "    \"estimate the current age of University of Oxford \"\n",
    "    \"and then add 10 more years to this age, \"\n",
    "    \"and get the current weather of the city where \"\n",
    "    \"the University is located.\"\n",
    ")\n",
    "\n",
    "# Create role-playing agents\n",
    "assistant_role_name = \"Research Assistant\"\n",
    "user_role_name = \"Task Requester\"\n",
    "\n",
    "# Configure model\n",
    "model = ModelFactory.create(\n",
    "    model_platform=ModelPlatformType.OPENAI,\n",
    "    model_type=ModelType.GPT_4O_MINI,\n",
    ")\n",
    "\n",
    "# Set up tools\n",
    "tools = [*SearchToolkit().get_tools(), *MathToolkit().get_tools()]\n",
    "\n",
    "# Create role-playing scenario\n",
    "role_play = RolePlaying(\n",
    "    assistant_role_name=assistant_role_name,\n",
    "    user_role_name=user_role_name,\n",
    "    task_prompt=task_prompt,\n",
    "    model=model,\n",
    "    tools=tools\n",
    ")\n",
    "\n",
    "# Start the conversation\n",
    "chat_history = role_play.chat()\n",
    "\n",
    "# Print the conversation\n",
    "for msg in chat_history:\n",
    "    print(f\"{msg.role_name}: {msg.content}\\n\")\n",
    "\n",
    "# End the session\n",
    "agentops.end_session(\"Success\")"
   ]
  },
  {
   "cell_type": "markdown",
   "id": "79c06175",
   "metadata": {},
   "source": [
    "## Viewing Results\n",
    "\n",
    "After running either example, you can view the detailed record of the run in the AgentOps dashboard. The dashboard will show:\n",
    "1. Agent interactions and messages\n",
    "2. Tool usage and results\n",
    "3. LLM calls and responses\n",
    "4. Session metadata and tags\n",
    "\n",
    "Visit [app.agentops.ai/drilldown](https://app.agentops.ai/drilldown) to see your agent's performance!"
   ]
  }
 ],
 "metadata": {
  "kernelspec": {
   "display_name": "Python 3",
   "language": "python",
   "name": "python3"
  },
  "language_info": {
   "codemirror_mode": {
    "name": "ipython",
    "version": 3
   },
   "file_extension": ".py",
   "mimetype": "text/x-python",
   "name": "python",
   "nbconvert_exporter": "python",
   "pygments_lexer": "ipython3",
   "version": "3.12"
  }
 },
 "nbformat": 4,
 "nbformat_minor": 5
}
