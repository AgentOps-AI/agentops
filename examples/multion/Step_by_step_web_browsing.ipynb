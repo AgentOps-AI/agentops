{
 "cells": [
  {
   "cell_type": "markdown",
   "metadata": {},
   "source": [
    "# MultiOn Step Tracing\n",
    "<img src=\"https://github.com/AgentOps-AI/agentops/blob/b4aac2d4b9fb16d6aa0a25aa9018210a94f1bef2/docs/logo/multion_integration.png?raw=true\" width=\"250px\" style=\"max-width: 100%; height: auto;\"/>\n",
    "    \n",
    "With AgentOps, agent actions as well as MultiOn browse events will get tracked. MultiOn browse events automatically trace screenshots as well.\n",
    "\n",
    "This example shows how to use MultiOn's session creator to launch a self-directed browser agent that accomplishes a specified objective using Step Mode. MultiOn agents can either accomplish tasks fully autonomously or managed one step at a time. In this example, we will launch a MutliOn agent and manage each individual step. "
   ]
  },
  {
   "cell_type": "code",
   "execution_count": null,
   "metadata": {},
   "outputs": [],
   "source": [
    "%pip install multion\n",
    "%pip install agentops"
   ]
  },
  {
   "cell_type": "markdown",
   "metadata": {},
   "source": [
    "# Session streaming\n",
    "In this example, we'll use MultiOn to stream individual steps to accomplish a task. To track your runs in the AgentOps dashboard, specify an `agentops_api_key` when initializing `MultiOn()`\n",
    "\n",
    "You can run MultiOn without running `agentops.init()`. However, you will only see events from MultiOn, and not any from your own agent.\n"
   ]
  },
  {
   "cell_type": "code",
   "execution_count": null,
   "metadata": {},
   "outputs": [],
   "source": [
    "# Set your API keys\n",
    "import os\n",
    "os.environ[\"MULTION_API_KEY\"] = \"multion_key\"\n",
    "os.environ[\"AGENTOPS_API_KEY\"] = \"agentops_key\""
   ]
  },
  {
   "cell_type": "code",
   "execution_count": null,
   "metadata": {},
   "outputs": [],
   "source": [
    "import multion\n",
    "from multion.client import MultiOn\n",
    "from multion.sessions.types.sessions_step_request_browser_params import (\n",
    "    SessionsStepRequestBrowserParams,\n",
    ")\n",
    "from multion.core.request_options import RequestOptions\n",
    "\n",
    "multion = MultiOn(\n",
    "    api_key=os.environ.get(\"MULTION_API_KEY\"),\n",
    "    agentops_api_key=os.environ.get(\"AGENTOPS_API_KEY\"),\n",
    ")\n",
    "\n",
    "url = \"https://www.agentops.ai/\"\n",
    "cmd = \"what three things do i get with agentops\"\n",
    "create_session_response = multion.sessions.create(url=url)\n",
    "session_id = create_session_response.session_id\n",
    "print(create_session_response.message)\n",
    "browser_params = SessionsStepRequestBrowserParams(height=1.1, width=1.1)\n",
    "request_options = RequestOptions(\n",
    "    timeout_in_seconds=60, max_retries=2, additional_headers={\"test\": \"ing\"}\n",
    ")\n",
    "step_session_response = multion.sessions.step(\n",
    "    session_id=session_id,\n",
    "    cmd=cmd,\n",
    "    url=url,\n",
    "    browser_params=browser_params,\n",
    "    include_screenshot=True,\n",
    "    request_options=request_options,\n",
    ")\n",
    "print(step_session_response.message)\n",
    "\n",
    "while step_session_response.status == \"CONTINUE\":\n",
    "    step_session_response = multion.sessions.step(\n",
    "        session_id=session_id,\n",
    "        cmd=cmd,\n",
    "        url=url,\n",
    "        include_screenshot=True,\n",
    "    )\n",
    "    print(step_session_response.message)\n",
    "\n",
    "if step_session_response.status == \"DONE\":\n",
    "    print(\"task completed\")\n",
    "\n",
    "get_screenshot = multion.sessions.screenshot(session_id=session_id)\n",
    "close_session_response = multion.sessions.close(session_id=session_id)"
   ]
  },
  {
   "cell_type": "markdown",
   "metadata": {},
   "source": [
    "# Step Stream\n",
    "Step stream is just like step, but it streams responses in the same way a streamed LLM response is received. Instead of waiting for the entire step to complete, MultiOn will return work in progress. To track your runs in the AgentOps dashboard, specify an `agentops_api_key` when initializing `MultiOn()`"
   ]
  },
  {
   "cell_type": "code",
   "execution_count": null,
   "metadata": {},
   "outputs": [],
   "source": [
    "import os\n",
    "\n",
    "os.environ[\"MULTION_API_KEY\"] = \"e8cbbd0f8fa042f49f267a44bf97425c\"\n",
    "os.environ[\"AGENTOPS_API_KEY\"] =\"a640373b-30ae-4655-a1f3-5caa882a8721\""
   ]
  },
  {
   "cell_type": "code",
   "execution_count": null,
   "metadata": {
    "scrolled": true
   },
   "outputs": [],
   "source": [
    "import multion\n",
    "from multion.client import MultiOn\n",
    "from multion.sessions.types.sessions_step_stream_request_browser_params import (\n",
    "    SessionsStepStreamRequestBrowserParams,\n",
    ")\n",
    "from multion.core.request_options import RequestOptions\n",
    "import os\n",
    "\n",
    "multion = MultiOn(\n",
    "    api_key=os.environ.get(\"MULTION_API_KEY\"),\n",
    "    agentops_api_key=os.environ.get(\"AGENTOPS_API_KEY\"),\n",
    ")\n",
    "\n",
    "url = \"https://www.agentops.ai/\"\n",
    "cmd = \"what three things do i get with agentops\"\n",
    "create_session_response = multion.sessions.create(url=url)\n",
    "session_id = create_session_response.session_id\n",
    "print(create_session_response.message)\n",
    "browser_params = SessionsStepStreamRequestBrowserParams(height=1.1, width=1.1)\n",
    "request_options = RequestOptions(\n",
    "    timeout_in_seconds=60, max_retries=2, additional_headers={\"test\": \"ing\"}\n",
    ")\n",
    "step_session_response = multion.sessions.step_stream(\n",
    "    session_id=session_id,\n",
    "    cmd=cmd,\n",
    "    url=url,\n",
    "    browser_params=browser_params,\n",
    "    include_screenshot=True,\n",
    "    request_options=request_options,\n",
    ")\n",
    "\n",
    "for chunk in step_session_response:\n",
    "    if chunk.type == \"final_event\":\n",
    "        break\n",
    "    print(chunk.delta[\"content\"])\n",
    "\n",
    "while chunk.delta[\"status\"] == \"CONTINUE\":\n",
    "    step_session_response = multion.sessions.step_stream(\n",
    "        session_id=session_id,\n",
    "        cmd=cmd,\n",
    "        url=url,\n",
    "        include_screenshot=True,\n",
    "    )\n",
    "    for chunk in step_session_response:\n",
    "        if chunk.type == \"final_event\":\n",
    "            break\n",
    "        print(chunk.delta[\"content\"])\n",
    "\n",
    "if chunk.delta[\"status\"] == \"DONE\":\n",
    "    print(\"task completed\")\n",
    "\n",
    "get_screenshot = multion.sessions.screenshot(session_id=session_id)\n",
    "close_session_response = multion.sessions.close(session_id=session_id)"
   ]
  },
  {
   "cell_type": "markdown",
   "metadata": {},
   "source": [
    "## Check your session\n",
    "Check your session on [AgentOps](https://app.agentops.ai)\n",
    "\n",
    "![AgentOps MultiOn Step](https://github.com/AgentOps-AI/agentops/blob/main/docs/images/agentops-multion-step.gif?raw=true)\n",
    "\n",
    "![AgentOps Session Overview](https://github.com/AgentOps-AI/agentops/blob/main/docs/images/agentops-session-overview.png?raw=true)"
   ]
  }
 ],
 "metadata": {
  "kernelspec": {
   "display_name": "Python 3 (ipykernel)",
   "language": "python",
   "name": "python3"
  },
  "language_info": {
   "codemirror_mode": {
    "name": "ipython",
    "version": 3
   },
   "file_extension": ".py",
   "mimetype": "text/x-python",
   "name": "python",
   "nbconvert_exporter": "python",
   "pygments_lexer": "ipython3",
   "version": "3.11.5"
  }
 },
 "nbformat": 4,
 "nbformat_minor": 4
}
