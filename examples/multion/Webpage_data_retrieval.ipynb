{
 "cells": [
  {
   "cell_type": "markdown",
   "metadata": {},
   "source": [
    "# MultiOn Autonomous Session Tracing\n",
    "<img src=\"https://github.com/AgentOps-AI/agentops/blob/b4aac2d4b9fb16d6aa0a25aa9018210a94f1bef2/docs/logo/multion_integration.png?raw=true\" width=\"250px\" style=\"max-width: 100%; height: auto;\"/>\n",
    "    \n",
    "With AgentOps, agent actions as well as MultiOn retrieve events will get tracked. MultiOn browse events automatically trace screenshots as well.\n",
    "\n",
    "This example shows how to use MultiOn's session creator to launch a self-directed browser agent that accomplishes a specified objective."
   ]
  },
  {
   "cell_type": "code",
   "execution_count": 1,
   "metadata": {},
   "outputs": [
    {
     "name": "stdout",
     "output_type": "stream",
     "text": [
      "Obtaining file:///Users/howardgil/Desktop/agentops/HowieG/multion-python\n",
      "  Installing build dependencies ... \u001b[?25ldone\n",
      "\u001b[?25h  Checking if build backend supports build_editable ... \u001b[?25ldone\n",
      "\u001b[?25h  Getting requirements to build editable ... \u001b[?25ldone\n",
      "\u001b[?25h  Preparing editable metadata (pyproject.toml) ... \u001b[?25ldone\n",
      "\u001b[?25hRequirement already satisfied: agentops<0.3.0,>=0.2.3 in /Users/howardgil/Desktop/agentops/AgentOps-AI/agentops/env/lib/python3.12/site-packages (from multion==1.3.0) (0.2.3)\n",
      "Requirement already satisfied: httpx>=0.21.2 in /Users/howardgil/Desktop/agentops/AgentOps-AI/agentops/env/lib/python3.12/site-packages (from multion==1.3.0) (0.27.0)\n",
      "Requirement already satisfied: httpx-sse==0.4.0 in /Users/howardgil/Desktop/agentops/AgentOps-AI/agentops/env/lib/python3.12/site-packages (from multion==1.3.0) (0.4.0)\n",
      "Requirement already satisfied: pydantic>=1.9.2 in /Users/howardgil/Desktop/agentops/AgentOps-AI/agentops/env/lib/python3.12/site-packages (from multion==1.3.0) (2.7.3)\n",
      "Requirement already satisfied: typing_extensions>=4.0.0 in /Users/howardgil/Desktop/agentops/AgentOps-AI/agentops/env/lib/python3.12/site-packages (from multion==1.3.0) (4.12.2)\n",
      "Requirement already satisfied: requests==2.31.0 in /Users/howardgil/Desktop/agentops/AgentOps-AI/agentops/env/lib/python3.12/site-packages (from agentops<0.3.0,>=0.2.3->multion==1.3.0) (2.31.0)\n",
      "Requirement already satisfied: psutil==5.9.8 in /Users/howardgil/Desktop/agentops/AgentOps-AI/agentops/env/lib/python3.12/site-packages (from agentops<0.3.0,>=0.2.3->multion==1.3.0) (5.9.8)\n",
      "Requirement already satisfied: packaging==23.2 in /Users/howardgil/Desktop/agentops/AgentOps-AI/agentops/env/lib/python3.12/site-packages (from agentops<0.3.0,>=0.2.3->multion==1.3.0) (23.2)\n",
      "Requirement already satisfied: termcolor==2.4.0 in /Users/howardgil/Desktop/agentops/AgentOps-AI/agentops/env/lib/python3.12/site-packages (from agentops<0.3.0,>=0.2.3->multion==1.3.0) (2.4.0)\n",
      "Requirement already satisfied: charset-normalizer<4,>=2 in /Users/howardgil/Desktop/agentops/AgentOps-AI/agentops/env/lib/python3.12/site-packages (from requests==2.31.0->agentops<0.3.0,>=0.2.3->multion==1.3.0) (3.3.2)\n",
      "Requirement already satisfied: idna<4,>=2.5 in /Users/howardgil/Desktop/agentops/AgentOps-AI/agentops/env/lib/python3.12/site-packages (from requests==2.31.0->agentops<0.3.0,>=0.2.3->multion==1.3.0) (3.7)\n",
      "Requirement already satisfied: urllib3<3,>=1.21.1 in /Users/howardgil/Desktop/agentops/AgentOps-AI/agentops/env/lib/python3.12/site-packages (from requests==2.31.0->agentops<0.3.0,>=0.2.3->multion==1.3.0) (2.2.1)\n",
      "Requirement already satisfied: certifi>=2017.4.17 in /Users/howardgil/Desktop/agentops/AgentOps-AI/agentops/env/lib/python3.12/site-packages (from requests==2.31.0->agentops<0.3.0,>=0.2.3->multion==1.3.0) (2024.6.2)\n",
      "Requirement already satisfied: anyio in /Users/howardgil/Desktop/agentops/AgentOps-AI/agentops/env/lib/python3.12/site-packages (from httpx>=0.21.2->multion==1.3.0) (4.4.0)\n",
      "Requirement already satisfied: httpcore==1.* in /Users/howardgil/Desktop/agentops/AgentOps-AI/agentops/env/lib/python3.12/site-packages (from httpx>=0.21.2->multion==1.3.0) (1.0.5)\n",
      "Requirement already satisfied: sniffio in /Users/howardgil/Desktop/agentops/AgentOps-AI/agentops/env/lib/python3.12/site-packages (from httpx>=0.21.2->multion==1.3.0) (1.3.1)\n",
      "Requirement already satisfied: h11<0.15,>=0.13 in /Users/howardgil/Desktop/agentops/AgentOps-AI/agentops/env/lib/python3.12/site-packages (from httpcore==1.*->httpx>=0.21.2->multion==1.3.0) (0.14.0)\n",
      "Requirement already satisfied: annotated-types>=0.4.0 in /Users/howardgil/Desktop/agentops/AgentOps-AI/agentops/env/lib/python3.12/site-packages (from pydantic>=1.9.2->multion==1.3.0) (0.7.0)\n",
      "Requirement already satisfied: pydantic-core==2.18.4 in /Users/howardgil/Desktop/agentops/AgentOps-AI/agentops/env/lib/python3.12/site-packages (from pydantic>=1.9.2->multion==1.3.0) (2.18.4)\n",
      "Building wheels for collected packages: multion\n",
      "  Building editable for multion (pyproject.toml) ... \u001b[?25ldone\n",
      "\u001b[?25h  Created wheel for multion: filename=multion-1.3.0-py3-none-any.whl size=2792 sha256=b2b38c3945c6ecdeb1d758dff93faf4ba5c7b21a73179e41e47cd6db18be770d\n",
      "  Stored in directory: /private/var/folders/jb/71y2z4v178jdr5xcgbxfm0gc0000gp/T/pip-ephem-wheel-cache-jc9um1as/wheels/df/4b/d9/cccd5ceada6ca92256cee7f065c3e64e9c91b3d307977e2bba\n",
      "Successfully built multion\n",
      "Installing collected packages: multion\n",
      "  Attempting uninstall: multion\n",
      "    Found existing installation: multion 1.3.0\n",
      "    Uninstalling multion-1.3.0:\n",
      "      Successfully uninstalled multion-1.3.0\n",
      "Successfully installed multion-1.3.0\n",
      "Note: you may need to restart the kernel to use updated packages.\n",
      "Obtaining file:///Users/howardgil/Desktop/agentops/AgentOps-AI/agentops\n",
      "  Installing build dependencies ... \u001b[?25ldone\n",
      "\u001b[?25h  Checking if build backend supports build_editable ... \u001b[?25ldone\n",
      "\u001b[?25h  Getting requirements to build editable ... \u001b[?25ldone\n",
      "\u001b[?25h  Preparing editable metadata (pyproject.toml) ... \u001b[?25ldone\n",
      "\u001b[?25hRequirement already satisfied: requests==2.31.0 in /Users/howardgil/Desktop/agentops/AgentOps-AI/agentops/env/lib/python3.12/site-packages (from agentops==0.2.3) (2.31.0)\n",
      "Requirement already satisfied: psutil==5.9.8 in /Users/howardgil/Desktop/agentops/AgentOps-AI/agentops/env/lib/python3.12/site-packages (from agentops==0.2.3) (5.9.8)\n",
      "Requirement already satisfied: packaging==23.2 in /Users/howardgil/Desktop/agentops/AgentOps-AI/agentops/env/lib/python3.12/site-packages (from agentops==0.2.3) (23.2)\n",
      "Requirement already satisfied: termcolor==2.4.0 in /Users/howardgil/Desktop/agentops/AgentOps-AI/agentops/env/lib/python3.12/site-packages (from agentops==0.2.3) (2.4.0)\n",
      "Requirement already satisfied: charset-normalizer<4,>=2 in /Users/howardgil/Desktop/agentops/AgentOps-AI/agentops/env/lib/python3.12/site-packages (from requests==2.31.0->agentops==0.2.3) (3.3.2)\n",
      "Requirement already satisfied: idna<4,>=2.5 in /Users/howardgil/Desktop/agentops/AgentOps-AI/agentops/env/lib/python3.12/site-packages (from requests==2.31.0->agentops==0.2.3) (3.7)\n",
      "Requirement already satisfied: urllib3<3,>=1.21.1 in /Users/howardgil/Desktop/agentops/AgentOps-AI/agentops/env/lib/python3.12/site-packages (from requests==2.31.0->agentops==0.2.3) (2.2.1)\n",
      "Requirement already satisfied: certifi>=2017.4.17 in /Users/howardgil/Desktop/agentops/AgentOps-AI/agentops/env/lib/python3.12/site-packages (from requests==2.31.0->agentops==0.2.3) (2024.6.2)\n",
      "Building wheels for collected packages: agentops\n",
      "  Building editable for agentops (pyproject.toml) ... \u001b[?25ldone\n",
      "\u001b[?25h  Created wheel for agentops: filename=agentops-0.2.3-0.editable-py3-none-any.whl size=7576 sha256=19d4cf74b20496b7c08aea402bf1f3adef27adef81236e78b9791897fa37624e\n",
      "  Stored in directory: /private/var/folders/jb/71y2z4v178jdr5xcgbxfm0gc0000gp/T/pip-ephem-wheel-cache-4vlijp8q/wheels/43/52/53/9286c77226c557a85392056462580d0d7db8d733d3a9c9be69\n",
      "Successfully built agentops\n",
      "Installing collected packages: agentops\n",
      "  Attempting uninstall: agentops\n",
      "    Found existing installation: agentops 0.2.3\n",
      "    Uninstalling agentops-0.2.3:\n",
      "      Successfully uninstalled agentops-0.2.3\n",
      "Successfully installed agentops-0.2.3\n",
      "Note: you may need to restart the kernel to use updated packages.\n"
     ]
    }
   ],
   "source": [
    "%pip install multion\n",
    "%pip install agentops"
   ]
  },
  {
   "cell_type": "code",
   "execution_count": 2,
   "metadata": {},
   "outputs": [],
   "source": [
    "# Set your API keys\n",
    "import os\n",
    "\n",
    "os.environ[\"MULTION_API_KEY\"] = \"multion_key\"\n",
    "os.environ[\"AGENTOPS_API_KEY\"] = \"agentops_key\""
   ]
  },
  {
   "cell_type": "code",
   "execution_count": 3,
   "metadata": {},
   "outputs": [
    {
     "name": "stderr",
     "output_type": "stream",
     "text": [
      "🖇 AgentOps: \u001b[34m\u001b[34mSession Replay: https://app.agentops.ai/drilldown?session_id=26936502-d921-4bbc-8ed1-4615abcb89b4\u001b[0m\u001b[0m\n"
     ]
    },
    {
     "name": "stdout",
     "output_type": "stream",
     "text": [
      "Retrieved data successfully\n",
      "task completed\n"
     ]
    }
   ],
   "source": [
    "import multion\n",
    "from multion.client import MultiOn\n",
    "\n",
    "multion = MultiOn(\n",
    "    api_key=os.environ.get(\"MULTION_API_KEY\"),\n",
    "    agentops_api_key=os.environ.get(\"AGENTOPS_API_KEY\"),\n",
    ")\n",
    "\n",
    "cmd = \"what three things do i get with agentops\"\n",
    "url = \"https://www.agentops.ai/\"\n",
    "\n",
    "retrieve_response = multion.retrieve(\n",
    "    cmd=cmd, url=url, fields=[\"price\"], include_screenshot=True\n",
    ")\n",
    "print(retrieve_response.message)\n",
    "\n",
    "while retrieve_response.status == \"CONTINUE\":\n",
    "    retrieve_response = multion.retrieve(\n",
    "        cmd=cmd,\n",
    "        url=url,\n",
    "        fields=[\"price\"],\n",
    "        include_screenshot=True,\n",
    "    )\n",
    "    print(retrieve_response.message)\n",
    "\n",
    "if retrieve_response.status == \"DONE\":\n",
    "    print(\"task completed\")"
   ]
  },
  {
   "cell_type": "markdown",
   "metadata": {},
   "source": [
    "## Check your session\n",
    "Check your session on [AgentOps](https://app.agentops.ai)\n",
    "\n",
    "![AgentOps Multion Retrieve](https://github.com/AgentOps-AI/agentops/blob/main/docs/images/agentops-multion-retrieve.gif?raw=true)"
   ]
  },
  {
   "cell_type": "code",
   "execution_count": null,
   "metadata": {},
   "outputs": [],
   "source": []
  }
 ],
 "metadata": {
  "kernelspec": {
   "display_name": "Python 3 (ipykernel)",
   "language": "python",
   "name": "python3"
  },
  "language_info": {
   "codemirror_mode": {
    "name": "ipython",
    "version": 3
   },
   "file_extension": ".py",
   "mimetype": "text/x-python",
   "name": "python",
   "nbconvert_exporter": "python",
   "pygments_lexer": "ipython3",
   "version": "3.12.3"
  }
 },
 "nbformat": 4,
 "nbformat_minor": 4
}
