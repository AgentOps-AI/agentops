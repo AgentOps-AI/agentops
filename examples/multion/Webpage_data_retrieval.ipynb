{
 "cells": [
  {
   "cell_type": "markdown",
   "metadata": {},
   "source": [
    "# MultiOn Autonomous Session Tracing\n",
    "<img src=\"https://github.com/AgentOps-AI/agentops/blob/b4aac2d4b9fb16d6aa0a25aa9018210a94f1bef2/docs/logo/multion_integration.png?raw=true\" width=\"250px\" style=\"max-width: 100%; height: auto;\"/>\n",
    "    \n",
    "With AgentOps, agent actions as well as MultiOn retrieve events will get tracked. MultiOn browse events automatically trace screenshots as well.\n",
    "\n",
    "This example shows how to use MultiOn's session creator to launch a self-directed browser agent that accomplishes a specified objective."
   ]
  },
  {
   "cell_type": "code",
   "execution_count": null,
   "metadata": {},
   "outputs": [],
   "source": [
    "%pip install multion\n",
    "%pip install agentops"
   ]
  },
  {
   "cell_type": "code",
   "execution_count": null,
   "metadata": {},
   "outputs": [],
   "source": [
    "# Set your API keys\n",
    "import os\n",
    "os.environ[\"MULTION_API_KEY\"] = \"multion_key\"\n",
    "os.environ[\"AGENTOPS_API_KEY\"] = \"agentops_key\""
   ]
  },
  {
   "cell_type": "code",
   "execution_count": null,
   "metadata": {},
   "outputs": [],
   "source": [
    "import multion\n",
    "from multion.client import MultiOn\n",
    "\n",
    "multion = MultiOn(\n",
    "    api_key=os.environ.get(\"MULTION_API_KEY\"),\n",
    "    agentops_api_key=os.environ.get(\"AGENTOPS_API_KEY\"),\n",
    ")\n",
    "create_session_params = {\"url\": \"https://www.rei.com/\"}\n",
    "\n",
    "create_session_response = multion.sessions.create(**create_session_params)\n",
    "session_id = create_session_response.session_id\n",
    "cmd = \"find the cheapest satellite phone on REI\"\n",
    "print(create_session_response.message)\n",
    "\n",
    "retrieve_response = multion.sessions.retrieve(session_id=session_id, cmd=cmd, url=\"https://www.rei.com/\", fields=[\"price\"], include_screenshot=True)\n",
    "print(retrieve_response.message)\n",
    "\n",
    "while retrieve_response.status == \"CONTINUE\":\n",
    "    retrieve_response = multion.sessions.retrieve(\n",
    "        session_id=session_id,\n",
    "        cmd=cmd,\n",
    "        url=\"https://www.rei.com/\",\n",
    "        fields=[\"price\"],\n",
    "        include_screenshot=True,\n",
    "    )\n",
    "    print(retrieve_response.message)\n",
    "\n",
    "if retrieve_response.status == \"DONE\":\n",
    "    print(\"task completed\")\n",
    "\n",
    "get_screenshot = multion.sessions.screenshot(session_id=session_id)\n",
    "close_session_response = multion.sessions.close(session_id=session_id)"
   ]
  },
  {
   "cell_type": "markdown",
   "metadata": {},
   "source": [
    "## Check your session\n",
    "Check your session on [AgentOps](https://app.agentops.ai)\n",
    "\n",
    "![AgentOps Multion Retrieve](https://github.com/AgentOps-AI/agentops/blob/main/docs/images/agentops-multion-retrieve.gif?raw=true)"
   ]
  },
  {
   "cell_type": "code",
   "execution_count": null,
   "metadata": {},
   "outputs": [],
   "source": []
  }
 ],
 "metadata": {
  "kernelspec": {
   "display_name": "Python 3 (ipykernel)",
   "language": "python",
   "name": "python3"
  },
  "language_info": {
   "codemirror_mode": {
    "name": "ipython",
    "version": 3
   },
   "file_extension": ".py",
   "mimetype": "text/x-python",
   "name": "python",
   "nbconvert_exporter": "python",
   "pygments_lexer": "ipython3",
   "version": "3.11.5"
  }
 },
 "nbformat": 4,
 "nbformat_minor": 4
}
