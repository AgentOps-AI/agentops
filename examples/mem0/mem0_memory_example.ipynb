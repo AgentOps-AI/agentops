{
 "cells": [
  {
   "cell_type": "markdown",
   "id": "4695c5e8",
   "metadata": {},
   "source": [
    "\n",
    "# Memory Operations with Mem0\n",
    "\n",
    "This example demonstrates how to use Mem0's memory management capabilities with both synchronous and asynchronous operations to store, search, and manage conversational context and user preferences.\n",
    "\n",
    "## Overview\n",
    "\n",
    "This example showcases practical memory management operations where we:\n",
    "\n",
    "1. **Initialize Mem0 Memory instances** for both sync and async operations\n",
    "2. **Store conversation history** and user preferences with metadata\n",
    "3. **Search memories** using natural language queries\n",
    "4. **Compare performance** between synchronous and asynchronous memory operations\n",
    "\n",
    "By using async operations, you can perform multiple memory operations simultaneously instead of waiting for each one to complete sequentially. This is particularly beneficial when dealing with multiple memory additions or searches.\n"
   ]
  },
  {
   "cell_type": "code",
   "execution_count": null,
   "id": "443ab37e",
   "metadata": {},
   "outputs": [],
   "source": [
    "# Install the required dependencies:\n",
    "%pip install agentops\n",
    "%pip install mem0ai\n",
    "%pip install python-dotenv"
   ]
  },
  {
   "cell_type": "markdown",
   "id": "994a6771",
   "metadata": {},
   "source": [
    "## Setup and Imports\n",
    "\n",
    "Import the required libraries for local memory management with Mem0. We'll use both Memory and AsyncMemory classes to demonstrate different execution patterns for memory operations.\n"
   ]
  },
  {
   "cell_type": "code",
   "execution_count": 73,
   "id": "dbc4d41d",
   "metadata": {},
   "outputs": [],
   "source": [
    "\n",
    "from mem0 import Memory, AsyncMemory\n",
    "import os\n",
    "import asyncio\n",
    "import logging\n",
    "from dotenv import load_dotenv\n",
    "import agentops"
   ]
  },
  {
   "cell_type": "markdown",
   "id": "970fc737",
   "metadata": {},
   "source": [
    "## Environment Configuration\n",
    "\n",
    "Set up environment variables for API keys. These are essential for authenticating with AgentOps for tracing and OpenAI for the language model used in memory operations.\n"
   ]
  },
  {
   "cell_type": "code",
   "execution_count": null,
   "id": "502e4b22",
   "metadata": {
    "lines_to_next_cell": 1
   },
   "outputs": [],
   "source": [
    "os.environ[\"AGENTOPS_API_KEY\"] = os.getenv(\"AGENTOPS_API_KEY\")\n",
    "os.environ[\"OPENAI_API_KEY\"] = os.getenv(\"OPENAI_API_KEY\")"
   ]
  },
  {
   "cell_type": "markdown",
   "id": "91bb29c1",
   "metadata": {},
   "source": [
    "## Configuration and Sample Data\n",
    "\n",
    "Set up the configuration for local memory storage and define sample user data. The configuration specifies the LLM provider and model settings for processing memories.\n"
   ]
  },
  {
   "cell_type": "code",
   "execution_count": 75,
   "id": "6a99b32f",
   "metadata": {},
   "outputs": [],
   "source": [
    "local_config = {\n",
    "    \"llm\": {\n",
    "        \"provider\": \"openai\",\n",
    "        \"config\": {\n",
    "            \"model\": \"gpt-4o-mini\",\n",
    "            \"temperature\": 0.1,\n",
    "            \"max_tokens\": 2000,\n",
    "        },\n",
    "    }\n",
    "}\n",
    "user_id = \"alice_demo\"\n",
    "agent_id = \"assistant_demo\"\n",
    "run_id = \"session_001\"\n",
    "\n",
    "sample_messages = [\n",
    "    {\"role\": \"user\", \"content\": \"I'm planning to watch a movie tonight. Any recommendations?\"},\n",
    "    {\"role\": \"assistant\", \"content\": \"How about a thriller? They can be quite engaging.\"},\n",
    "    {\"role\": \"user\", \"content\": \"I'm not a big fan of thriller movies but I love sci-fi movies.\"},\n",
    "    {\n",
    "        \"role\": \"assistant\",\n",
    "        \"content\": \"Got it! I'll avoid thriller recommendations and suggest sci-fi movies in the future.\",\n",
    "    },\n",
    "]\n",
    "\n",
    "sample_preferences = [\n",
    "    \"I prefer dark roast coffee over light roast\",\n",
    "    \"I exercise every morning at 6 AM\",\n",
    "    \"I'm vegetarian and avoid all meat products\",\n",
    "    \"I love reading science fiction novels\",\n",
    "    \"I work in software engineering\",\n",
    "]"
   ]
  },
  {
   "cell_type": "markdown",
   "id": "2def0966",
   "metadata": {},
   "source": [
    "## Synchronous Memory Operations\n",
    "\n",
    "This function demonstrates sequential memory operations using the synchronous Memory class. While straightforward to implement, each operation must complete before the next begins, which can impact performance.\n"
   ]
  },
  {
   "cell_type": "code",
   "execution_count": 76,
   "id": "b863e6ed",
   "metadata": {},
   "outputs": [],
   "source": [
    "def demonstrate_sync_memory(local_config, sample_messages, sample_preferences, user_id):\n",
    "    \"\"\"\n",
    "    Demonstrate synchronous Memory class operations.\n",
    "    \"\"\"\n",
    "\n",
    "    agentops.start_trace(\"mem0_memory_example\", tags=[\"mem0_memory_example\"])\n",
    "    try:\n",
    "        \n",
    "        memory = Memory.from_config(local_config)\n",
    "\n",
    "        result = memory.add(\n",
    "            sample_messages, user_id=user_id, metadata={\"category\": \"movie_preferences\", \"session\": \"demo\"}\n",
    "        )\n",
    "\n",
    "        for i, preference in enumerate(sample_preferences):\n",
    "            result = memory.add(preference, user_id=user_id, metadata={\"type\": \"preference\", \"index\": i})\n",
    "       \n",
    "        search_queries = [\n",
    "            \"What movies does the user like?\",\n",
    "            \"What are the user's food preferences?\",\n",
    "            \"When does the user exercise?\",\n",
    "        ]\n",
    "\n",
    "        for query in search_queries:\n",
    "            results = memory.search(query, user_id=user_id)\n",
    "        \n",
    "            if results and \"results\" in results:\n",
    "                for j, result in enumerate(results): \n",
    "                    print(f\"Result {j+1}: {result.get('memory', 'N/A')}\")\n",
    "            else:\n",
    "                print(\"No results found\")\n",
    "\n",
    "        all_memories = memory.get_all(user_id=user_id)\n",
    "        if all_memories and \"results\" in all_memories:\n",
    "            print(f\"Total memories: {len(all_memories['results'])}\")\n",
    "\n",
    "        delete_all_result = memory.delete_all(user_id=user_id)\n",
    "        print(f\"Delete all result: {delete_all_result}\")\n",
    "\n",
    "        agentops.end_trace(end_state=\"success\")\n",
    "    except Exception as e:\n",
    "        agentops.end_trace(end_state=\"error\")"
   ]
  },
  {
   "cell_type": "markdown",
   "id": "66965f64",
   "metadata": {},
   "source": [
    "## Asynchronous Memory Operations\n",
    "\n",
    "This function showcases concurrent memory operations using AsyncMemory. By leveraging asyncio.gather(), multiple operations execute simultaneously, significantly reducing total execution time for I/O-bound tasks.\n"
   ]
  },
  {
   "cell_type": "code",
   "execution_count": 77,
   "id": "eae41613",
   "metadata": {},
   "outputs": [],
   "source": [
    "async def demonstrate_async_memory(local_config, sample_messages, sample_preferences, user_id):\n",
    "    \"\"\"\n",
    "    Demonstrate asynchronous Memory class operations with concurrent execution.\n",
    "    \"\"\"\n",
    "\n",
    "    agentops.start_trace(\"mem0_memory_async_example\", tags=[\"mem0_memory_async_example\"])\n",
    "    try:\n",
    "\n",
    "        async_memory = await AsyncMemory.from_config(local_config)\n",
    "\n",
    "        result = await async_memory.add(\n",
    "            sample_messages, user_id=user_id, metadata={\"category\": \"async_movie_preferences\", \"session\": \"async_demo\"}\n",
    "        )\n",
    "\n",
    "        async def add_preference(preference, index):\n",
    "            \"\"\"Helper function to add a single preference asynchronously.\"\"\"\n",
    "            return await async_memory.add(\n",
    "                preference, user_id=user_id, metadata={\"type\": \"async_preference\", \"index\": index}\n",
    "            )\n",
    "\n",
    "        tasks = [add_preference(pref, i) for i, pref in enumerate(sample_preferences)]\n",
    "        results = await asyncio.gather(*tasks)\n",
    "        for i, result in enumerate(results):\n",
    "            print(f\"Added async preference {i+1}: {result}\")\n",
    "\n",
    "        search_queries = [\n",
    "            \"What movies does the user like?\",\n",
    "            \"What are the user's dietary restrictions?\",\n",
    "            \"What does the user do for work?\",\n",
    "        ]\n",
    "\n",
    "        async def search_memory(query):\n",
    "            \"\"\"Helper function to perform async memory search.\"\"\"\n",
    "            return await async_memory.search(query, user_id=user_id), query\n",
    "\n",
    "        search_tasks = [search_memory(query) for query in search_queries]\n",
    "        search_results = await asyncio.gather(*search_tasks)\n",
    "\n",
    "        for result, query in search_results:\n",
    "            if result and \"results\" in result:\n",
    "                for j, res in enumerate(result[\"results\"]):\n",
    "                    print(f\"Result {j+1}: {res.get('memory', 'N/A')}\")\n",
    "            else:\n",
    "                print(\"No results found\")\n",
    "\n",
    "        all_memories = await async_memory.get_all(user_id=user_id)\n",
    "        if all_memories and \"results\" in all_memories:\n",
    "            print(f\"Total async memories: {len(all_memories['results'])}\")\n",
    "\n",
    "        delete_all_result = await async_memory.delete_all(user_id=user_id)\n",
    "        print(f\"Delete all result: {delete_all_result}\")\n",
    "\n",
    "        agentops.end_trace(end_state=\"success\")\n",
    "\n",
    "    except Exception as e:\n",
    "        agentops.end_trace(end_state=\"error\")"
   ]
  },
  {
   "cell_type": "markdown",
   "id": "9689055c",
   "metadata": {},
   "source": [
    "## Execute Demonstrations\n",
    "\n",
    "Run both synchronous and asynchronous demonstrations to compare their execution patterns and performance. The async version demonstrates the benefits of concurrent execution for multiple memory operations.\n"
   ]
  },
  {
   "cell_type": "code",
   "execution_count": null,
   "id": "714436f5",
   "metadata": {},
   "outputs": [],
   "source": [
    "# Execute both sync and async demonstrations\n",
    "demonstrate_sync_memory(local_config, sample_messages, sample_preferences, user_id)\n",
    "await demonstrate_async_memory(local_config, sample_messages, sample_preferences, user_id)"
   ]
  }
 ],
 "metadata": {
  "jupytext": {
   "cell_metadata_filter": "-all",
   "main_language": "python",
   "notebook_metadata_filter": "-all"
  },
  "kernelspec": {
   "display_name": "venv",
   "language": "python",
   "name": "python3"
  },
  "language_info": {
   "codemirror_mode": {
    "name": "ipython",
    "version": 3
   },
   "file_extension": ".py",
   "mimetype": "text/x-python",
   "name": "python",
   "nbconvert_exporter": "python",
   "pygments_lexer": "ipython3",
   "version": "3.11.9"
  }
 },
 "nbformat": 4,
 "nbformat_minor": 5
}
