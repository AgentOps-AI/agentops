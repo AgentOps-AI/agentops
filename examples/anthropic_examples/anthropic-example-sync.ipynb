{
 "cells": [
  {
   "cell_type": "code",
   "execution_count": null,
   "id": "76997b1d",
   "metadata": {
    "lines_to_next_cell": 0
   },
   "outputs": [],
   "source": []
  },
  {
   "cell_type": "code",
   "execution_count": null,
   "id": "d68ac943",
   "metadata": {},
   "outputs": [],
   "source": [
    "\"\"\"\n",
    "Anthropic Sync Example\n",
    "\n",
    "We are going to create a program called \"Nier Storyteller\". In short, it uses a message\n",
    "system similar to Nier Automata's to generate a one sentence summary before creating\n",
    "a short story.\n",
    "\n",
    "Example:\n",
    "{A foolish doll} {died in a world} {of ended dreams.} turns into \"In a forgotten land\n",
    "where sunlight barely touched the ground, a little doll wandered through the remains\n",
    "of shattered dreams. Its porcelain face, cracked and wea...\"\n",
    "\"\"\""
   ]
  },
  {
   "cell_type": "code",
   "execution_count": null,
   "id": "8de44f2e",
   "metadata": {},
   "outputs": [],
   "source": [
    "# First, we start by importing Agentops and Anthropic\n",
    "from anthropic import Anthropic\n",
    "import agentops\n",
    "from dotenv import load_dotenv\n",
    "import os\n",
    "import random"
   ]
  },
  {
   "cell_type": "code",
   "execution_count": null,
   "id": "f27eb4ac",
   "metadata": {},
   "outputs": [],
   "source": [
    "# Setup environment and API keys\n",
    "load_dotenv()\n",
    "ANTHROPIC_API_KEY = os.getenv(\"ANTHROPIC_API_KEY\") or \"ANTHROPIC KEY HERE\"\n",
    "AGENTOPS_API_KEY = os.getenv(\"AGENTOPS_API_KEY\") or \"AGENTOPS KEY HERE\""
   ]
  },
  {
   "cell_type": "code",
   "execution_count": null,
   "id": "3961bde4",
   "metadata": {},
   "outputs": [],
   "source": [
    "# Initialize Anthropic client and AgentOps session\n",
    "client = Anthropic(api_key=ANTHROPIC_API_KEY)\n",
    "agentops.init(AGENTOPS_API_KEY, default_tags=[\"anthropic-example\"])"
   ]
  },
  {
   "cell_type": "code",
   "execution_count": null,
   "id": "6e5f1834",
   "metadata": {},
   "outputs": [],
   "source": [
    "\"\"\"\n",
    "As of writing, claude-3-5-sonnet-20240620 has a 150k word, 680k character length with\n",
    "an 8192 context length. This allows us to set an example for the script.\n",
    "\n",
    "We have three roles:\n",
    "- user (the person speaking)\n",
    "- assistant (the AI itself)\n",
    "- computer (the way the LLM gets references from)\n",
    "\"\"\""
   ]
  },
  {
   "cell_type": "code",
   "execution_count": null,
   "id": "4b177972",
   "metadata": {},
   "outputs": [],
   "source": [
    "# Set default story as a script\n",
    "defaultstory = \"\"\"In a forgotten land where sunlight barely touched the ground, a little doll wandered through the remains of shattered dreams. Its porcelain face, cracked and weathered, reflected the emptiness that hung in the air like a lingering fog. The doll's painted eyes, now chipped and dull, stared into the distance, searching for something—anything—that still held life. It had once belonged to a child who dreamt of endless adventures, of castles in the clouds and whispered secrets under starry skies. But those dreams had long since crumbled to dust, leaving behind nothing but a hollow world where even hope dared not tread. The doll, a relic of a life that had faded, trudged through the darkness, its tiny feet stumbling over broken wishes and forgotten stories. Each step took more effort than the last, as if the world itself pulled at the doll's limbs, weary and bitter. It reached a place where the ground fell away into an abyss of despair, the edge crumbling under its weight. The doll paused, teetering on the brink. It reached out, as though to catch a fading dream, but there was nothing left to hold onto. With a faint crack, its brittle body gave way, and the doll tumbled silently into the void. And so, in a world where dreams had died, the foolish little doll met its end. There were no tears, no mourning. Only the soft, empty echo of its fall, fading into the darkness, as the land of ended dreams swallowed the last trace of what once was.\"\"\""
   ]
  },
  {
   "cell_type": "code",
   "execution_count": null,
   "id": "9740ddd3",
   "metadata": {},
   "outputs": [],
   "source": [
    "# Define sentence fragment lists for story generation\n",
    "first = [\n",
    "    \"A unremarkable soldier\",\n",
    "    \"A lone swordsman\",\n",
    "    \"A lone lancer\",\n",
    "    \"A lone pugilist\",\n",
    "    \"A dual-wielder\",\n",
    "    \"A weaponless soldier\",\n",
    "    \"A beautiful android\",\n",
    "    \"A small android\",\n",
    "    \"A double-crossing android\",\n",
    "    \"A weapon carrying android\",\n",
    "]"
   ]
  },
  {
   "cell_type": "code",
   "execution_count": null,
   "id": "42159a3b",
   "metadata": {},
   "outputs": [],
   "source": [
    "second = [\n",
    "    \"felt despair at this cold world\",\n",
    "    \"held nothing back\",\n",
    "    \"gave it all\",\n",
    "    \"could not get up again\",\n",
    "    \"grimaced in anger\",\n",
    "    \"missed the chance of a lifetime\",\n",
    "    \"couldn't find a weakpoint\",\n",
    "    \"was overwhelmed\",\n",
    "    \"was totally outmatched\",\n",
    "    \"was distracted by a flower\",\n",
    "    \"hesitated to land the killing blow\",\n",
    "    \"was attacked from behind\",\n",
    "    \"fell to the ground\",\n",
    "]"
   ]
  },
  {
   "cell_type": "code",
   "execution_count": null,
   "id": "ad51f5e2",
   "metadata": {},
   "outputs": [],
   "source": [
    "third = [\n",
    "    \"in a dark hole beneath a city\",\n",
    "    \"underground\",\n",
    "    \"at the enemy's lair\",\n",
    "    \"inside an empty ship\",\n",
    "    \"at a tower built by the gods\",\n",
    "    \"on a tower smiled upon by angels\",\n",
    "    \"inside a tall tower\",\n",
    "    \"at a peace-loving village\",\n",
    "    \"at a village of refugees\",\n",
    "    \"in the free skies\",\n",
    "    \"below dark skies\",\n",
    "    \"in a blood-soaked battlefield\",\n",
    "]"
   ]
  },
  {
   "cell_type": "code",
   "execution_count": null,
   "id": "a9dcb16d",
   "metadata": {},
   "outputs": [],
   "source": [
    "# Generate a random sentence\n",
    "generatedsentence = f\"{random.choice(first)} {random.choice(second)} {random.choice(third)}.\""
   ]
  },
  {
   "cell_type": "code",
   "execution_count": null,
   "id": "b9775cf3",
   "metadata": {},
   "outputs": [],
   "source": [
    "# Create a story using the context handler pattern for streaming\n",
    "print(\"Generated prompt:\", generatedsentence)\n",
    "print(\"\\nGenerating story...\\n\")"
   ]
  },
  {
   "cell_type": "code",
   "execution_count": null,
   "id": "1cc3e233",
   "metadata": {},
   "outputs": [],
   "source": [
    "with client.messages.create(\n",
    "    max_tokens=2400,\n",
    "    model=\"claude-3-5-sonnet-20240620\",\n",
    "    messages=[\n",
    "        {\n",
    "            \"role\": \"user\",\n",
    "            \"content\": \"Create a story based on the three sentence fragments given to you, it has been combined into one below.\",\n",
    "        },\n",
    "        {\n",
    "            \"role\": \"assistant\",\n",
    "            \"content\": \"{A foolish doll} {died in a world} {of ended dreams.}\",\n",
    "        },\n",
    "        {\"role\": \"assistant\", \"content\": defaultstory},\n",
    "        {\n",
    "            \"role\": \"user\",\n",
    "            \"content\": \"Create a story based on the three sentence fragments given to you, it has been combined into one below.\",\n",
    "        },\n",
    "        {\"role\": \"assistant\", \"content\": generatedsentence},\n",
    "    ],\n",
    "    stream=True,\n",
    ") as stream:\n",
    "    for text in stream.text_stream:\n",
    "        print(text, end=\"\", flush=True)"
   ]
  },
  {
   "cell_type": "code",
   "execution_count": null,
   "id": "f35f57b4",
   "metadata": {},
   "outputs": [],
   "source": [
    "print(\"\\n\\nStory generation complete!\")"
   ]
  },
  {
   "cell_type": "code",
   "execution_count": null,
   "id": "63e88bd5",
   "metadata": {},
   "outputs": [],
   "source": [
    "# End the AgentOps session with success status\n",
    "agentops.end_session(\"Success\")"
   ]
  }
 ],
 "metadata": {
  "jupytext": {
   "cell_metadata_filter": "-all",
   "encoding": "# coding: utf-8",
   "executable": "/usr/bin/env python",
   "main_language": "python",
   "notebook_metadata_filter": "-all"
  }
 },
 "nbformat": 4,
 "nbformat_minor": 5
}
