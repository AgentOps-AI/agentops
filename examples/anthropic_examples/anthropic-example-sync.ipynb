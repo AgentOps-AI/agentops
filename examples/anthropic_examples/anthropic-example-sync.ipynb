{
 "metadata": {
  "kernelspec": {
   "language": "python",
   "display_name": "Python 3",
   "name": "python3"
  },
  "language_info": {
   "name": "python",
   "version": "3.10.14",
   "mimetype": "text/x-python",
   "codemirror_mode": {
    "name": "ipython",
    "version": 3
   },
   "pygments_lexer": "ipython3",
   "nbconvert_exporter": "python",
   "file_extension": ".py"
  },
  "kaggle": {
   "accelerator": "none",
   "dataSources": [],
   "dockerImageVersionId": 30786,
   "isInternetEnabled": true,
   "language": "python",
   "sourceType": "notebook",
   "isGpuEnabled": false
  }
 },
 "nbformat_minor": 4,
 "nbformat": 4,
 "cells": [
  {
   "cell_type": "markdown",
   "source": "We are going to create a program called \"Nier Storyteller\". In short, it uses a message system similar to Nier Automata's to generate a one sentence summary before creating a short story.\n\nExample:\n\n{A foolish doll} {died in a world} {of ended dreams.} turns into \"In a forgotten land where sunlight barely touched the ground, a little doll wandered through the remains of shattered dreams. Its porcelain face, cracked and wea...\"",
   "metadata": {}
  },
  {
   "cell_type": "markdown",
   "source": "First, we start by importing Agentops and Anthropic",
   "metadata": {}
  },
  {
   "cell_type": "code",
   "source": "!pip install agentops\n!pip install anthropic",
   "metadata": {
    "execution": {
     "iopub.status.busy": "2024-11-09T19:19:24.428366Z",
     "iopub.execute_input": "2024-11-09T19:19:24.428838Z",
     "iopub.status.idle": "2024-11-09T19:19:58.542271Z",
     "shell.execute_reply.started": "2024-11-09T19:19:24.428796Z",
     "shell.execute_reply": "2024-11-09T19:19:58.540331Z"
    },
    "trusted": true
   },
   "execution_count": 3,
   "outputs": [
    {
     "name": "stdout",
     "text": "Collecting agentops\n  Downloading agentops-0.3.16-py3-none-any.whl.metadata (24 kB)\nRequirement already satisfied: requests<3.0.0,>=2.0.0 in /opt/conda/lib/python3.10/site-packages (from agentops) (2.32.3)\nCollecting psutil>=5.9.8 (from agentops)\n  Downloading psutil-6.1.0-cp36-abi3-manylinux_2_12_x86_64.manylinux2010_x86_64.manylinux_2_17_x86_64.manylinux2014_x86_64.whl.metadata (22 kB)\nCollecting packaging==23.2 (from agentops)\n  Downloading packaging-23.2-py3-none-any.whl.metadata (3.2 kB)\nRequirement already satisfied: termcolor>=2.3.0 in /opt/conda/lib/python3.10/site-packages (from agentops) (2.4.0)\nRequirement already satisfied: PyYAML<7.0,>=5.3 in /opt/conda/lib/python3.10/site-packages (from agentops) (6.0.2)\nRequirement already satisfied: charset-normalizer<4,>=2 in /opt/conda/lib/python3.10/site-packages (from requests<3.0.0,>=2.0.0->agentops) (3.3.2)\nRequirement already satisfied: idna<4,>=2.5 in /opt/conda/lib/python3.10/site-packages (from requests<3.0.0,>=2.0.0->agentops) (3.7)\nRequirement already satisfied: urllib3<3,>=1.21.1 in /opt/conda/lib/python3.10/site-packages (from requests<3.0.0,>=2.0.0->agentops) (1.26.18)\nRequirement already satisfied: certifi>=2017.4.17 in /opt/conda/lib/python3.10/site-packages (from requests<3.0.0,>=2.0.0->agentops) (2024.8.30)\nDownloading agentops-0.3.16-py3-none-any.whl (55 kB)\n\u001b[2K   \u001b[90m━━━━━━━━━━━━━━━━━━━━━━━━━━━━━━━━━━━━━━━━\u001b[0m \u001b[32m55.4/55.4 kB\u001b[0m \u001b[31m2.7 MB/s\u001b[0m eta \u001b[36m0:00:00\u001b[0m\n\u001b[?25hDownloading packaging-23.2-py3-none-any.whl (53 kB)\n\u001b[2K   \u001b[90m━━━━━━━━━━━━━━━━━━━━━━━━━━━━━━━━━━━━━━━━\u001b[0m \u001b[32m53.0/53.0 kB\u001b[0m \u001b[31m2.9 MB/s\u001b[0m eta \u001b[36m0:00:00\u001b[0m\n\u001b[?25hDownloading psutil-6.1.0-cp36-abi3-manylinux_2_12_x86_64.manylinux2010_x86_64.manylinux_2_17_x86_64.manylinux2014_x86_64.whl (287 kB)\n\u001b[2K   \u001b[90m━━━━━━━━━━━━━━━━━━━━━━━━━━━━━━━━━━━━━━━━\u001b[0m \u001b[32m287.3/287.3 kB\u001b[0m \u001b[31m14.3 MB/s\u001b[0m eta \u001b[36m0:00:00\u001b[0m\n\u001b[?25hInstalling collected packages: psutil, packaging, agentops\n  Attempting uninstall: psutil\n    Found existing installation: psutil 5.9.3\n    Uninstalling psutil-5.9.3:\n      Successfully uninstalled psutil-5.9.3\n  Attempting uninstall: packaging\n    Found existing installation: packaging 21.3\n    Uninstalling packaging-21.3:\n      Successfully uninstalled packaging-21.3\n\u001b[31mERROR: pip's dependency resolver does not currently take into account all the packages that are installed. This behaviour is the source of the following dependency conflicts.\nbeatrix-jupyterlab 2024.66.154055 requires jupyterlab~=3.6.0, but you have jupyterlab 4.2.5 which is incompatible.\ngoogle-cloud-bigquery 2.34.4 requires packaging<22.0dev,>=14.3, but you have packaging 23.2 which is incompatible.\njupyterlab 4.2.5 requires jupyter-lsp>=2.0.0, but you have jupyter-lsp 1.5.1 which is incompatible.\njupyterlab-lsp 5.1.0 requires jupyter-lsp>=2.0.0, but you have jupyter-lsp 1.5.1 which is incompatible.\nlibpysal 4.9.2 requires shapely>=2.0.1, but you have shapely 1.8.5.post1 which is incompatible.\nthinc 8.3.2 requires numpy<2.1.0,>=2.0.0; python_version >= \"3.9\", but you have numpy 1.26.4 which is incompatible.\nydata-profiling 4.10.0 requires scipy<1.14,>=1.4.1, but you have scipy 1.14.1 which is incompatible.\u001b[0m\u001b[31m\n\u001b[0mSuccessfully installed agentops-0.3.16 packaging-23.2 psutil-5.9.8\nCollecting anthropic\n  Downloading anthropic-0.39.0-py3-none-any.whl.metadata (22 kB)\nRequirement already satisfied: anyio<5,>=3.5.0 in /opt/conda/lib/python3.10/site-packages (from anthropic) (4.4.0)\nRequirement already satisfied: distro<2,>=1.7.0 in /opt/conda/lib/python3.10/site-packages (from anthropic) (1.9.0)\nRequirement already satisfied: httpx<1,>=0.23.0 in /opt/conda/lib/python3.10/site-packages (from anthropic) (0.27.0)\nCollecting jiter<1,>=0.4.0 (from anthropic)\n  Downloading jiter-0.7.0-cp310-cp310-manylinux_2_17_x86_64.manylinux2014_x86_64.whl.metadata (5.2 kB)\nRequirement already satisfied: pydantic<3,>=1.9.0 in /opt/conda/lib/python3.10/site-packages (from anthropic) (2.9.2)\nRequirement already satisfied: sniffio in /opt/conda/lib/python3.10/site-packages (from anthropic) (1.3.1)\nRequirement already satisfied: typing-extensions<5,>=4.7 in /opt/conda/lib/python3.10/site-packages (from anthropic) (4.12.2)\nRequirement already satisfied: idna>=2.8 in /opt/conda/lib/python3.10/site-packages (from anyio<5,>=3.5.0->anthropic) (3.7)\nRequirement already satisfied: exceptiongroup>=1.0.2 in /opt/conda/lib/python3.10/site-packages (from anyio<5,>=3.5.0->anthropic) (1.2.0)\nRequirement already satisfied: certifi in /opt/conda/lib/python3.10/site-packages (from httpx<1,>=0.23.0->anthropic) (2024.8.30)\nRequirement already satisfied: httpcore==1.* in /opt/conda/lib/python3.10/site-packages (from httpx<1,>=0.23.0->anthropic) (1.0.5)\nRequirement already satisfied: h11<0.15,>=0.13 in /opt/conda/lib/python3.10/site-packages (from httpcore==1.*->httpx<1,>=0.23.0->anthropic) (0.14.0)\nRequirement already satisfied: annotated-types>=0.6.0 in /opt/conda/lib/python3.10/site-packages (from pydantic<3,>=1.9.0->anthropic) (0.7.0)\nRequirement already satisfied: pydantic-core==2.23.4 in /opt/conda/lib/python3.10/site-packages (from pydantic<3,>=1.9.0->anthropic) (2.23.4)\nDownloading anthropic-0.39.0-py3-none-any.whl (198 kB)\n\u001b[2K   \u001b[90m━━━━━━━━━━━━━━━━━━━━━━━━━━━━━━━━━━━━━━━━\u001b[0m \u001b[32m198.4/198.4 kB\u001b[0m \u001b[31m7.6 MB/s\u001b[0m eta \u001b[36m0:00:00\u001b[0m\n\u001b[?25hDownloading jiter-0.7.0-cp310-cp310-manylinux_2_17_x86_64.manylinux2014_x86_64.whl (327 kB)\n\u001b[2K   \u001b[90m━━━━━━━━━━━━━━━━━━━━━━━━━━━━━━━━━━━━━━━━\u001b[0m \u001b[32m327.5/327.5 kB\u001b[0m \u001b[31m14.0 MB/s\u001b[0m eta \u001b[36m0:00:00\u001b[0m\n\u001b[?25hInstalling collected packages: jiter, anthropic\nSuccessfully installed anthropic-0.39.0 jiter-0.7.0\n",
     "output_type": "stream"
    }
   ]
  },
  {
   "cell_type": "markdown",
   "source": "Setup our generic default statements",
   "metadata": {}
  },
  {
   "cell_type": "code",
   "source": [
    "from anthropic import Anthropic, AsyncAnthropic\n",
    "import agentops\n",
    "import os\n",
    "import random  # We don't need this for agentops, we use this to generate a message later\n",
    "from dotenv import load_dotenv"
   ],
   "metadata": {
    "execution": {
     "iopub.status.busy": "2024-11-09T19:20:59.990855Z",
     "iopub.execute_input": "2024-11-09T19:20:59.991361Z",
     "iopub.status.idle": "2024-11-09T19:21:00.999929Z",
     "shell.execute_reply.started": "2024-11-09T19:20:59.991315Z",
     "shell.execute_reply": "2024-11-09T19:21:00.998751Z"
    },
    "trusted": true
   },
   "execution_count": 4,
   "outputs": []
  },
  {
   "cell_type": "markdown",
   "source": "And set our API keys.",
   "metadata": {}
  },
  {
   "cell_type": "code",
   "source": "load_dotenv()\nANTHROPIC_API_KEY = os.getenv(\"ANTHROPIC_API_KEY\") or \"ANTHROPIC KEY HERE\"\nAGENTOPS_API_KEY = os.getenv(\"AGENTOPS_API_KEY\") or \"AGENTOPS KEY HERE\"",
   "metadata": {
    "execution": {
     "iopub.status.busy": "2024-11-09T19:21:23.838379Z",
     "iopub.execute_input": "2024-11-09T19:21:23.838837Z",
     "iopub.status.idle": "2024-11-09T19:21:23.845690Z",
     "shell.execute_reply.started": "2024-11-09T19:21:23.838785Z",
     "shell.execute_reply": "2024-11-09T19:21:23.844372Z"
    },
    "trusted": true
   },
   "execution_count": 6,
   "outputs": []
  },
  {
   "cell_type": "markdown",
   "source": "Now let's set the client as Anthropic and an AgentOps session!",
   "metadata": {}
  },
  {
   "cell_type": "code",
   "source": "client = Anthropic(api_key=ANTHROPIC_API_KEY)",
   "metadata": {
    "execution": {
     "iopub.status.busy": "2024-11-09T19:21:25.807585Z",
     "iopub.execute_input": "2024-11-09T19:21:25.808135Z",
     "iopub.status.idle": "2024-11-09T19:21:25.828306Z",
     "shell.execute_reply.started": "2024-11-09T19:21:25.808078Z",
     "shell.execute_reply": "2024-11-09T19:21:25.826994Z"
    },
    "trusted": true
   },
   "execution_count": 7,
   "outputs": []
  },
  {
   "cell_type": "code",
   "source": "agentops.init(AGENTOPS_API_KEY, default_tags=[\"anthropic-example\"])",
   "metadata": {
    "trusted": true
   },
   "execution_count": null,
   "outputs": []
  },
  {
   "cell_type": "raw",
   "source": "Remember that story we made earlier? As of writing, claude-3-5-sonnet-20240620 (the version we will be using) has a 150k word, 680k character length. We also get an 8192 context length. This is great because we can actually set an example for the script! \n\nLet's assume we have user (the person speaking), assistant (the AI itself) for now and computer (the way the LLM gets references from).",
   "metadata": {}
  },
  {
   "cell_type": "markdown",
   "source": "Let's set a default story as a script!",
   "metadata": {}
  },
  {
   "cell_type": "code",
   "source": "defaultstory = \"In a forgotten land where sunlight barely touched the ground, a little doll wandered through the remains of shattered dreams. Its porcelain face, cracked and weathered, reflected the emptiness that hung in the air like a lingering fog. The doll's painted eyes, now chipped and dull, stared into the distance, searching for something—anything—that still held life. It had once belonged to a child who dreamt of endless adventures, of castles in the clouds and whispered secrets under starry skies. But those dreams had long since crumbled to dust, leaving behind nothing but a hollow world where even hope dared not tread. The doll, a relic of a life that had faded, trudged through the darkness, its tiny feet stumbling over broken wishes and forgotten stories. Each step took more effort than the last, as if the world itself pulled at the doll's limbs, weary and bitter. It reached a place where the ground fell away into an abyss of despair, the edge crumbling under its weight. The doll paused, teetering on the brink. It reached out, as though to catch a fading dream, but there was nothing left to hold onto. With a faint crack, its brittle body gave way, and the doll tumbled silently into the void. And so, in a world where dreams had died, the foolish little doll met its end. There were no tears, no mourning. Only the soft, empty echo of its fall, fading into the darkness, as the land of ended dreams swallowed the last trace of what once was.\"",
   "metadata": {
    "execution": {
     "iopub.status.busy": "2024-11-09T19:21:34.091200Z",
     "iopub.execute_input": "2024-11-09T19:21:34.091673Z",
     "iopub.status.idle": "2024-11-09T19:21:34.098273Z",
     "shell.execute_reply.started": "2024-11-09T19:21:34.091630Z",
     "shell.execute_reply": "2024-11-09T19:21:34.096957Z"
    },
    "trusted": true
   },
   "execution_count": 10,
   "outputs": []
  },
  {
   "cell_type": "markdown",
   "source": "We are almost done! Let's generate a one sentence story summary by taking 3 random sentence fragments and connecting them!",
   "metadata": {}
  },
  {
   "cell_type": "code",
   "source": [
    "# Define the lists\n",
    "first = [\n",
    "    \"A unremarkable soldier\",\n",
    "    \"A lone swordsman\",\n",
    "    \"A lone lancer\",\n",
    "    \"A lone pugilist\",\n",
    "    \"A dual-wielder\",\n",
    "    \"A weaponless soldier\",\n",
    "    \"A beautiful android\",\n",
    "    \"A small android\",\n",
    "    \"A double-crossing android\",\n",
    "    \"A weapon carrying android\",\n",
    "]\n",
    "\n",
    "second = [\n",
    "    \"felt despair at this cold world\",\n",
    "    \"held nothing back\",\n",
    "    \"gave it all\",\n",
    "    \"could not get up again\",\n",
    "    \"grimaced in anger\",\n",
    "    \"missed the chance of a lifetime\",\n",
    "    \"couldn't find a weakpoint\",\n",
    "    \"was overwhelmed\",\n",
    "    \"was totally outmatched\",\n",
    "    \"was distracted by a flower\",\n",
    "    \"hesitated to land the killing blow\",\n",
    "    \"was attacked from behind\",\n",
    "    \"fell to the ground\",\n",
    "]\n",
    "\n",
    "third = [\n",
    "    \"in a dark hole beneath a city\",\n",
    "    \"underground\",\n",
    "    \"at the enemy's lair\",\n",
    "    \"inside an empty ship\",\n",
    "    \"at a tower built by the gods\",\n",
    "    \"on a tower smiled upon by angels\",\n",
    "    \"inside a tall tower\",\n",
    "    \"at a peace-loving village\",\n",
    "    \"at a village of refugees\",\n",
    "    \"in the free skies\",\n",
    "    \"below dark skies\",\n",
    "    \"in a blood-soaked battlefield\",\n",
    "]\n",
    "\n",
    "# Generate a random sentence\n",
    "generatedsentence = (\n",
    "    f\"{random.choice(first)} {random.choice(second)} {random.choice(third)}.\"\n",
    ")"
   ],
   "metadata": {
    "execution": {
     "iopub.status.busy": "2024-11-09T19:21:35.472107Z",
     "iopub.execute_input": "2024-11-09T19:21:35.472609Z",
     "iopub.status.idle": "2024-11-09T19:21:35.481452Z",
     "shell.execute_reply.started": "2024-11-09T19:21:35.472556Z",
     "shell.execute_reply": "2024-11-09T19:21:35.480022Z"
    },
    "trusted": true
   },
   "execution_count": 11,
   "outputs": []
  },
  {
   "cell_type": "markdown",
   "source": "And now to construct a stream/message! We set an example for the assistant now!",
   "metadata": {}
  },
  {
   "cell_type": "code",
   "source": [
    "stream = client.messages.create(\n",
    "    max_tokens=2400,\n",
    "    model=\"claude-3-5-sonnet-20240620\",  # Comma added here\n",
    "    messages=[\n",
    "        {\n",
    "            \"role\": \"user\",\n",
    "            \"content\": \"Create a story based on the three sentence fragments given to you, it has been combined into one below.\",\n",
    "        },\n",
    "        {\n",
    "            \"role\": \"assistant\",\n",
    "            \"content\": \"{A foolish doll} {died in a world} {of ended dreams.}\",\n",
    "        },\n",
    "        {\"role\": \"assistant\", \"content\": defaultstory},\n",
    "        {\n",
    "            \"role\": \"user\",\n",
    "            \"content\": \"Create a story based on the three sentence fragments  given to you, it has been combined into one below.\",\n",
    "        },\n",
    "        {\"role\": \"assistant\", \"content\": generatedsentence},\n",
    "    ],\n",
    "    stream=True,\n",
    ")\n",
    "\n",
    "response = \"\"\n",
    "for event in stream:\n",
    "    if event.type == \"content_block_delta\":\n",
    "        response += event.delta.text\n",
    "    elif event.type == \"message_stop\":\n",
    "        print(generatedsentence)\n",
    "        print(response)"
   ],
   "metadata": {
    "execution": {
     "iopub.status.busy": "2024-11-09T19:21:38.031097Z",
     "iopub.execute_input": "2024-11-09T19:21:38.031580Z",
     "iopub.status.idle": "2024-11-09T19:21:47.760983Z",
     "shell.execute_reply.started": "2024-11-09T19:21:38.031536Z",
     "shell.execute_reply": "2024-11-09T19:21:47.759589Z"
    },
    "trusted": true
   },
   "execution_count": 12,
   "outputs": [
    {
     "name": "stdout",
     "text": "A weaponless soldier grimaced in anger inside an empty ship.\n\n\nThe cavernous hull of the abandoned starship echoed with the frustrated growls of Sergeant Maria Vega as she paced its empty corridors. Her hands, calloused from years of combat, clenched and unclenched at her sides, a habit born of the unsettling absence of her trusty plasma rifle. Just hours ago, she had been part of an elite squad tasked with investigating a distress signal from this very vessel, but a series of unfortunate events had left her separated from her team and stripped of her weapons.\n\nThe ship, once a bustling hub of interstellar commerce, now drifted lifelessly through the void, its systems offline and its crew mysteriously vanished. As Maria moved through the ghostly interior, her anger at her predicament slowly gave way to a creeping sense of dread. Without her weapons, she felt naked and vulnerable, acutely aware of every shadow and unexplained noise.\n\nRounding a corner, she froze as a metallic clang echoed from a nearby chamber. Her soldier's instincts kicked in, and she pressed herself against the wall, straining to hear any further sounds. As the silence stretched on, Maria realized that surviving this mission—and uncovering the truth behind the ship's fate—would require more than just firepower. It would take all of her training, wit, and courage to face whatever lurked in the depths of this forsaken vessel.\n\nWith a deep breath, she steeled herself and moved towards the source of the noise. Weaponless she may be, but a soldier is never truly defenseless. As she approached the chamber, Maria vowed to solve the mystery of the empty ship and find her way back to her team, no matter what horrors awaited her in the darkness ahead.\n",
     "output_type": "stream"
    }
   ]
  },
  {
   "cell_type": "markdown",
   "source": "Finally, we put the session to sleep! Go to your AgentOps dashboard and you should see this session reflected!",
   "metadata": {}
  },
  {
   "cell_type": "code",
   "source": "agentops.end_session(\"Success\")",
   "metadata": {
    "trusted": true
   },
   "execution_count": null,
   "outputs": []
  }
 ]
}