{
 "cells": [
  {
   "cell_type": "markdown",
   "metadata": {},
   "source": [
    "# Anthropic Sync Example\n",
    "\n",
    "We are going to create a program called \"Nier Storyteller\". In short, it uses a message system similar to Nier Automata's to generate a one sentence summary before creating a short story.\n",
    "\n",
    "Example:\n",
    "\n",
    "{A foolish doll} {died in a world} {of ended dreams.} turns into \"In a forgotten land where sunlight barely touched the ground, a little doll wandered through the remains of shattered dreams. Its porcelain face, cracked and wea...\""
   ]
  },
  {
   "cell_type": "markdown",
   "metadata": {},
   "source": [
    "First, we start by importing Agentops and Anthropic"
   ]
  },
  {
   "cell_type": "code",
   "execution_count": null,
   "metadata": {
    "execution": {
     "iopub.execute_input": "2024-11-09T19:19:24.428838Z",
     "iopub.status.busy": "2024-11-09T19:19:24.428366Z",
     "iopub.status.idle": "2024-11-09T19:19:58.542271Z",
     "shell.execute_reply": "2024-11-09T19:19:58.540331Z",
     "shell.execute_reply.started": "2024-11-09T19:19:24.428796Z"
    },
    "trusted": true
   },
   "outputs": [],
   "source": [
    "%pip install agentops\n",
    "%pip install anthropic"
   ]
  },
  {
   "cell_type": "markdown",
   "metadata": {},
   "source": [
    "Setup our generic default statements"
   ]
  },
  {
   "cell_type": "code",
   "execution_count": 4,
   "metadata": {
    "execution": {
     "iopub.execute_input": "2024-11-09T19:20:59.991361Z",
     "iopub.status.busy": "2024-11-09T19:20:59.990855Z",
     "iopub.status.idle": "2024-11-09T19:21:00.999929Z",
     "shell.execute_reply": "2024-11-09T19:21:00.998751Z",
     "shell.execute_reply.started": "2024-11-09T19:20:59.991315Z"
    },
    "trusted": true
   },
   "outputs": [],
   "source": [
    "from anthropic import Anthropic, AsyncAnthropic\n",
    "import agentops\n",
    "from dotenv import load_dotenv\n",
    "import os\n",
    "import random"
   ]
  },
  {
   "cell_type": "markdown",
   "metadata": {},
   "source": [
    "And set our API keys."
   ]
  },
  {
   "cell_type": "code",
   "execution_count": 6,
   "metadata": {
    "execution": {
     "iopub.execute_input": "2024-11-09T19:21:23.838837Z",
     "iopub.status.busy": "2024-11-09T19:21:23.838379Z",
     "iopub.status.idle": "2024-11-09T19:21:23.845690Z",
     "shell.execute_reply": "2024-11-09T19:21:23.844372Z",
     "shell.execute_reply.started": "2024-11-09T19:21:23.838785Z"
    },
    "trusted": true
   },
   "outputs": [],
   "source": [
    "load_dotenv()\n",
    "ANTHROPIC_API_KEY = os.getenv(\"ANTHROPIC_API_KEY\") or \"ANTHROPIC KEY HERE\"\n",
    "AGENTOPS_API_KEY = os.getenv(\"AGENTOPS_API_KEY\") or \"AGENTOPS KEY HERE\""
   ]
  },
  {
   "cell_type": "markdown",
   "metadata": {},
   "source": [
    "Now let's set the client as Anthropic and an AgentOps session!"
   ]
  },
  {
   "cell_type": "code",
   "execution_count": 7,
   "metadata": {
    "execution": {
     "iopub.execute_input": "2024-11-09T19:21:25.808135Z",
     "iopub.status.busy": "2024-11-09T19:21:25.807585Z",
     "iopub.status.idle": "2024-11-09T19:21:25.828306Z",
     "shell.execute_reply": "2024-11-09T19:21:25.826994Z",
     "shell.execute_reply.started": "2024-11-09T19:21:25.808078Z"
    },
    "trusted": true
   },
   "outputs": [],
   "source": [
    "client = Anthropic(api_key=ANTHROPIC_API_KEY)"
   ]
  },
  {
   "cell_type": "code",
   "execution_count": null,
   "metadata": {
    "trusted": true
   },
   "outputs": [],
   "source": [
    "agentops.init(AGENTOPS_API_KEY, default_tags=[\"anthropic-example\"])"
   ]
  },
  {
   "cell_type": "raw",
   "metadata": {},
   "source": [
    "Remember that story we made earlier? As of writing, claude-3-5-sonnet-20240620 (the version we will be using) has a 150k word, 680k character length. We also get an 8192 context length. This is great because we can actually set an example for the script! \n",
    "\n",
    "Let's assume we have user (the person speaking), assistant (the AI itself) for now and computer (the way the LLM gets references from)."
   ]
  },
  {
   "cell_type": "markdown",
   "metadata": {},
   "source": [
    "Let's set a default story as a script!"
   ]
  },
  {
   "cell_type": "code",
   "execution_count": 10,
   "metadata": {
    "execution": {
     "iopub.execute_input": "2024-11-09T19:21:34.091673Z",
     "iopub.status.busy": "2024-11-09T19:21:34.091200Z",
     "iopub.status.idle": "2024-11-09T19:21:34.098273Z",
     "shell.execute_reply": "2024-11-09T19:21:34.096957Z",
     "shell.execute_reply.started": "2024-11-09T19:21:34.091630Z"
    },
    "trusted": true
   },
   "outputs": [],
   "source": [
    "defaultstory = \"In a forgotten land where sunlight barely touched the ground, a little doll wandered through the remains of shattered dreams. Its porcelain face, cracked and weathered, reflected the emptiness that hung in the air like a lingering fog. The doll's painted eyes, now chipped and dull, stared into the distance, searching for something—anything—that still held life. It had once belonged to a child who dreamt of endless adventures, of castles in the clouds and whispered secrets under starry skies. But those dreams had long since crumbled to dust, leaving behind nothing but a hollow world where even hope dared not tread. The doll, a relic of a life that had faded, trudged through the darkness, its tiny feet stumbling over broken wishes and forgotten stories. Each step took more effort than the last, as if the world itself pulled at the doll's limbs, weary and bitter. It reached a place where the ground fell away into an abyss of despair, the edge crumbling under its weight. The doll paused, teetering on the brink. It reached out, as though to catch a fading dream, but there was nothing left to hold onto. With a faint crack, its brittle body gave way, and the doll tumbled silently into the void. And so, in a world where dreams had died, the foolish little doll met its end. There were no tears, no mourning. Only the soft, empty echo of its fall, fading into the darkness, as the land of ended dreams swallowed the last trace of what once was.\""
   ]
  },
  {
   "cell_type": "markdown",
   "metadata": {},
   "source": [
    "We are almost done! Let's generate a one sentence story summary by taking 3 random sentence fragments and connecting them!"
   ]
  },
  {
   "cell_type": "code",
   "execution_count": 11,
   "metadata": {
    "execution": {
     "iopub.execute_input": "2024-11-09T19:21:35.472609Z",
     "iopub.status.busy": "2024-11-09T19:21:35.472107Z",
     "iopub.status.idle": "2024-11-09T19:21:35.481452Z",
     "shell.execute_reply": "2024-11-09T19:21:35.480022Z",
     "shell.execute_reply.started": "2024-11-09T19:21:35.472556Z"
    },
    "trusted": true
   },
   "outputs": [],
   "source": [
    "# Define the lists\n",
    "first = [\n",
    "    \"A unremarkable soldier\",\n",
    "    \"A lone swordsman\",\n",
    "    \"A lone lancer\",\n",
    "    \"A lone pugilist\",\n",
    "    \"A dual-wielder\",\n",
    "    \"A weaponless soldier\",\n",
    "    \"A beautiful android\",\n",
    "    \"A small android\",\n",
    "    \"A double-crossing android\",\n",
    "    \"A weapon carrying android\",\n",
    "]\n",
    "\n",
    "second = [\n",
    "    \"felt despair at this cold world\",\n",
    "    \"held nothing back\",\n",
    "    \"gave it all\",\n",
    "    \"could not get up again\",\n",
    "    \"grimaced in anger\",\n",
    "    \"missed the chance of a lifetime\",\n",
    "    \"couldn't find a weakpoint\",\n",
    "    \"was overwhelmed\",\n",
    "    \"was totally outmatched\",\n",
    "    \"was distracted by a flower\",\n",
    "    \"hesitated to land the killing blow\",\n",
    "    \"was attacked from behind\",\n",
    "    \"fell to the ground\",\n",
    "]\n",
    "\n",
    "third = [\n",
    "    \"in a dark hole beneath a city\",\n",
    "    \"underground\",\n",
    "    \"at the enemy's lair\",\n",
    "    \"inside an empty ship\",\n",
    "    \"at a tower built by the gods\",\n",
    "    \"on a tower smiled upon by angels\",\n",
    "    \"inside a tall tower\",\n",
    "    \"at a peace-loving village\",\n",
    "    \"at a village of refugees\",\n",
    "    \"in the free skies\",\n",
    "    \"below dark skies\",\n",
    "    \"in a blood-soaked battlefield\",\n",
    "]\n",
    "\n",
    "# Generate a random sentence\n",
    "generatedsentence = (\n",
    "    f\"{random.choice(first)} {random.choice(second)} {random.choice(third)}.\"\n",
    ")"
   ]
  },
  {
   "cell_type": "markdown",
   "metadata": {},
   "source": [
    "And now to construct a stream/message! We set an example for the assistant now!"
   ]
  },
  {
   "cell_type": "code",
   "execution_count": null,
   "metadata": {
    "execution": {
     "iopub.execute_input": "2024-11-09T19:21:38.031580Z",
     "iopub.status.busy": "2024-11-09T19:21:38.031097Z",
     "iopub.status.idle": "2024-11-09T19:21:47.760983Z",
     "shell.execute_reply": "2024-11-09T19:21:47.759589Z",
     "shell.execute_reply.started": "2024-11-09T19:21:38.031536Z"
    },
    "trusted": true
   },
   "outputs": [],
   "source": [
    "stream = client.messages.create(\n",
    "    max_tokens=2400,\n",
    "    model=\"claude-3-5-sonnet-20240620\",  # Comma added here\n",
    "    messages=[\n",
    "        {\n",
    "            \"role\": \"user\",\n",
    "            \"content\": \"Create a story based on the three sentence fragments given to you, it has been combined into one below.\",\n",
    "        },\n",
    "        {\n",
    "            \"role\": \"assistant\",\n",
    "            \"content\": \"{A foolish doll} {died in a world} {of ended dreams.}\",\n",
    "        },\n",
    "        {\"role\": \"assistant\", \"content\": defaultstory},\n",
    "        {\n",
    "            \"role\": \"user\",\n",
    "            \"content\": \"Create a story based on the three sentence fragments  given to you, it has been combined into one below.\",\n",
    "        },\n",
    "        {\"role\": \"assistant\", \"content\": generatedsentence},\n",
    "    ],\n",
    "    stream=True,\n",
    ")\n",
    "\n",
    "response = \"\"\n",
    "for event in stream:\n",
    "    if event.type == \"content_block_delta\":\n",
    "        response += event.delta.text\n",
    "    elif event.type == \"message_stop\":\n",
    "        print(generatedsentence)\n",
    "        print(response)"
   ]
  },
  {
   "cell_type": "markdown",
   "metadata": {},
   "source": [
    "We can observe the session in the AgentOps dashboard by going to the session URL provided above.\n",
    "\n",
    "Now we will end the session with a success message. We can also end the session with a failure or intdeterminate status. By default, the session will be marked as indeterminate."
   ]
  },
  {
   "cell_type": "code",
   "execution_count": null,
   "metadata": {
    "trusted": true
   },
   "outputs": [],
   "source": [
    "agentops.end_session(\"Success\")"
   ]
  }
 ],
 "metadata": {
  "kaggle": {
   "accelerator": "none",
   "dataSources": [],
   "dockerImageVersionId": 30786,
   "isGpuEnabled": false,
   "isInternetEnabled": true,
   "language": "python",
   "sourceType": "notebook"
  },
  "kernelspec": {
   "display_name": "Python 3",
   "language": "python",
   "name": "python3"
  },
  "language_info": {
   "codemirror_mode": {
    "name": "ipython",
    "version": 3
   },
   "file_extension": ".py",
   "mimetype": "text/x-python",
   "name": "python",
   "nbconvert_exporter": "python",
   "pygments_lexer": "ipython3",
   "version": "3.10.14"
  }
 },
 "nbformat": 4,
 "nbformat_minor": 4
}
