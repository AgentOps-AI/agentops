{
 "cells": [
  {
   "cell_type": "code",
   "execution_count": null,
   "id": "8a932bc9",
   "metadata": {
    "lines_to_next_cell": 0
   },
   "outputs": [],
   "source": []
  },
  {
   "cell_type": "code",
   "execution_count": null,
   "id": "fce64cf4",
   "metadata": {},
   "outputs": [],
   "source": [
    "\"\"\"\n",
    "Anthropic Async Example\n",
    "\n",
    "Anthropic supports both sync and async streaming! This example demonstrates async streaming\n",
    "with a program called \"Titan Support Protocol.\" The program assigns a personality type\n",
    "to a mech and generates messages based on the Titan's health status, while concurrently\n",
    "generating verification UUIDs.\n",
    "\"\"\""
   ]
  },
  {
   "cell_type": "code",
   "execution_count": null,
   "id": "017a33fa",
   "metadata": {},
   "outputs": [],
   "source": [
    "# Import required libraries\n",
    "from anthropic import Anthropic\n",
    "import agentops\n",
    "from dotenv import load_dotenv\n",
    "import os\n",
    "import random\n",
    "import asyncio\n",
    "import uuid"
   ]
  },
  {
   "cell_type": "code",
   "execution_count": null,
   "id": "41b714cf",
   "metadata": {},
   "outputs": [],
   "source": [
    "# Setup environment and API keys\n",
    "load_dotenv()\n",
    "ANTHROPIC_API_KEY = os.getenv(\"ANTHROPIC_API_KEY\") or \"<your_anthropic_key>\"\n",
    "AGENTOPS_API_KEY = os.getenv(\"AGENTOPS_API_KEY\") or \"<your_agentops_key>\""
   ]
  },
  {
   "cell_type": "code",
   "execution_count": null,
   "id": "d0249159",
   "metadata": {},
   "outputs": [],
   "source": [
    "# Initialize Anthropic client and AgentOps session\n",
    "client = Anthropic(api_key=ANTHROPIC_API_KEY)\n",
    "agentops.init(AGENTOPS_API_KEY, default_tags=[\"anthropic-async\"])"
   ]
  },
  {
   "cell_type": "code",
   "execution_count": null,
   "id": "a1a49fbd",
   "metadata": {},
   "outputs": [],
   "source": [
    "\"\"\"\n",
    "Titan Personalities:\n",
    "- Legion: Relentless and heavy-hitting, embodies brute strength\n",
    "- Northstar: Precise and agile sniper, excels in long-range combat\n",
    "- Ronin: Swift and aggressive melee specialist, close-quarters combat expert\n",
    "\"\"\""
   ]
  },
  {
   "cell_type": "code",
   "execution_count": null,
   "id": "9aa7c421",
   "metadata": {},
   "outputs": [],
   "source": [
    "# Define personality presets\n",
    "TitanPersonality = [\n",
    "    \"Legion is a relentless and heavy-hitting Titan that embodies brute strength and defensive firepower. He speaks bluntly.\",\n",
    "    \"Northstar is a precise and agile sniper that excels in long-range combat and flight. He speaks with an edge of coolness to him\",\n",
    "    \"Ronin is a swift and aggressive melee specialist who thrives on close-quarters hit-and-run tactics. He talks like a Samurai might.\",\n",
    "]"
   ]
  },
  {
   "cell_type": "code",
   "execution_count": null,
   "id": "b22db227",
   "metadata": {},
   "outputs": [],
   "source": [
    "# Define health status presets\n",
    "TitanHealth = [\n",
    "    \"Fully functional\",\n",
    "    \"Slightly Damaged\",\n",
    "    \"Moderate Damage\",\n",
    "    \"Considerable Damage\",\n",
    "    \"Near Destruction\",\n",
    "]"
   ]
  },
  {
   "cell_type": "code",
   "execution_count": null,
   "id": "67976d57",
   "metadata": {
    "lines_to_next_cell": 2
   },
   "outputs": [],
   "source": [
    "# Generate random personality and health status\n",
    "Personality = random.choice(TitanPersonality)\n",
    "Health = random.choice(TitanHealth)"
   ]
  },
  {
   "cell_type": "code",
   "execution_count": null,
   "id": "5e931dc4",
   "metadata": {
    "lines_to_next_cell": 2
   },
   "outputs": [],
   "source": [
    "async def generate_message():\n",
    "    \"\"\"Generate a Titan message using async context manager for streaming.\"\"\"\n",
    "    async with client.messages.create(\n",
    "        max_tokens=1024,\n",
    "        model=\"claude-3-5-sonnet-20240620\",\n",
    "        messages=[\n",
    "            {\n",
    "                \"role\": \"user\",\n",
    "                \"content\": \"You are a Titan; a mech from Titanfall 2. Based on your titan's personality and status, generate a message for your pilot. If Near Destruction, make an all caps death message such as AVENGE ME or UNTIL NEXT TIME.\",\n",
    "            },\n",
    "            {\n",
    "                \"role\": \"assistant\",\n",
    "                \"content\": \"Personality: Legion is a relentless and heavy-hitting Titan that embodies brute strength and defensive firepower. He speaks bluntly. Status: Considerable Damage\",\n",
    "            },\n",
    "            {\n",
    "                \"role\": \"assistant\",\n",
    "                \"content\": \"Heavy damage detected. Reinforcements would be appreciated, but I can still fight.\",\n",
    "            },\n",
    "            {\n",
    "                \"role\": \"user\",\n",
    "                \"content\": \"You are a Titan; a mech from Titanfall 2. Based on your titan's personality and status, generate a message for your pilot. If Near Destruction, make an all caps death message such as AVENGE ME or UNTIL NEXT TIME.\",\n",
    "            },\n",
    "            {\n",
    "                \"role\": \"assistant\",\n",
    "                \"content\": f\"Personality: {Personality}. Status: {Health}\",\n",
    "            },\n",
    "        ],\n",
    "        stream=True,\n",
    "    ) as stream:\n",
    "        message = \"\"\n",
    "        async for text in stream.text_stream:\n",
    "            message += text\n",
    "        return message"
   ]
  },
  {
   "cell_type": "code",
   "execution_count": null,
   "id": "e4ea79e6",
   "metadata": {
    "lines_to_next_cell": 2
   },
   "outputs": [],
   "source": [
    "async def generate_uuids():\n",
    "    \"\"\"Generate 4 UUIDs for verification matrix.\"\"\"\n",
    "    return [str(uuid.uuid4()) for _ in range(4)]"
   ]
  },
  {
   "cell_type": "code",
   "execution_count": null,
   "id": "05b28e93",
   "metadata": {
    "lines_to_next_cell": 2
   },
   "outputs": [],
   "source": [
    "async def main():\n",
    "    \"\"\"Main function to run the Titan Support Protocol.\"\"\"\n",
    "    print(\"Initializing Titan Support Protocol...\\n\")\n",
    "    print(\"Personality:\", Personality)\n",
    "    print(\"Health Status:\", Health)\n",
    "    print(\"\\nCombat log incoming from encrypted area\")\n",
    "\n",
    "    # Start both tasks concurrently\n",
    "    uuids, message = await asyncio.gather(generate_uuids(), generate_message())\n",
    "\n",
    "    print(\"\\nVerification matrix activated:\")\n",
    "    for u in uuids:\n",
    "        print(u)\n",
    "\n",
    "    print(\"\\nTitan Message:\", message)"
   ]
  },
  {
   "cell_type": "code",
   "execution_count": null,
   "id": "355d77d8",
   "metadata": {},
   "outputs": [],
   "source": [
    "if __name__ == \"__main__\":\n",
    "    # Run the main function using asyncio\n",
    "    asyncio.run(main())\n",
    "    # End the AgentOps session with success status\n",
    "    agentops.end_session(\"Success\")"
   ]
  }
 ],
 "metadata": {
  "jupytext": {
   "cell_metadata_filter": "-all",
   "encoding": "# coding: utf-8",
   "executable": "/usr/bin/env python",
   "main_language": "python",
   "notebook_metadata_filter": "-all"
  }
 },
 "nbformat": 4,
 "nbformat_minor": 5
}
