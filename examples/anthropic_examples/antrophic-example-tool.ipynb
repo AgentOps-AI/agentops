{
 "cells": [
  {
   "cell_type": "markdown",
   "metadata": {},
   "source": [
    "Anthropic supports tools, allowing you to easily connect with different external APIs and the like!\n",
    "\n",
    "For this example, we are going to make a tool called \"Cyberware\" which will be our tool; we will create a dummy API that gives specs for cyberware from a specific company before the LLM says if the cyberware is good for a build. To do so, we will use both the tool system and an async function!"
   ]
  },
  {
   "cell_type": "markdown",
   "metadata": {},
   "source": [
    "First, we start by importing Agentops and Anthropic"
   ]
  },
  {
   "cell_type": "code",
   "execution_count": null,
   "metadata": {
    "execution": {
     "iopub.execute_input": "2024-11-09T19:58:34.879322Z",
     "iopub.status.busy": "2024-11-09T19:58:34.878657Z",
     "iopub.status.idle": "2024-11-09T19:59:00.718845Z",
     "shell.execute_reply": "2024-11-09T19:59:00.717724Z",
     "shell.execute_reply.started": "2024-11-09T19:58:34.879282Z"
    },
    "trusted": true
   },
   "outputs": [],
   "source": [
    "!pip install agentops\n",
    "!pip install anthropic"
   ]
  },
  {
   "cell_type": "markdown",
   "metadata": {},
   "source": [
    "Setup our generic default statements"
   ]
  },
  {
   "cell_type": "code",
   "execution_count": 4,
   "metadata": {
    "execution": {
     "iopub.execute_input": "2024-11-09T19:59:59.532140Z",
     "iopub.status.busy": "2024-11-09T19:59:59.531722Z",
     "iopub.status.idle": "2024-11-09T20:00:00.316206Z",
     "shell.execute_reply": "2024-11-09T20:00:00.315436Z",
     "shell.execute_reply.started": "2024-11-09T19:59:59.532101Z"
    },
    "trusted": true
   },
   "outputs": [],
   "source": [
    "from anthropic import Anthropic, AsyncAnthropic\n",
    "import agentops\n",
    "import os\n",
    "import random  # We don't need this for agentops, we use this to generate a message later\n",
    "import time  # We don't need this for agentops either, we use this when simulating an API later\n",
    "import re  # Regex for formatting\n",
    "from dotenv import load_dotenv"
   ]
  },
  {
   "cell_type": "markdown",
   "metadata": {},
   "source": [
    "And set our API keys."
   ]
  },
  {
   "cell_type": "code",
   "execution_count": 5,
   "metadata": {
    "execution": {
     "iopub.execute_input": "2024-11-09T20:00:02.860678Z",
     "iopub.status.busy": "2024-11-09T20:00:02.860124Z",
     "iopub.status.idle": "2024-11-09T20:00:02.866414Z",
     "shell.execute_reply": "2024-11-09T20:00:02.865290Z",
     "shell.execute_reply.started": "2024-11-09T20:00:02.860635Z"
    },
    "trusted": true
   },
   "outputs": [],
   "source": [
    "load_dotenv()\n",
    "ANTHROPIC_API_KEY = os.getenv(\"ANTHROPIC_API_KEY\") or \"ANTHROPIC API KEY\"\n",
    "AGENTOPS_API_KEY = os.getenv(\"AGENTOPS_API_KEY\") or \"AGENTOPS API KEY\""
   ]
  },
  {
   "cell_type": "markdown",
   "metadata": {},
   "source": [
    "\n",
    "Now let's set the client as Anthropic and start an AgentOps session"
   ]
  },
  {
   "cell_type": "code",
   "execution_count": null,
   "metadata": {},
   "outputs": [],
   "source": [
    "agentops.init(AGENTOPS_API_KEY, default_tags=[\"anthropic-example-tool\"])"
   ]
  },
  {
   "cell_type": "code",
   "execution_count": 6,
   "metadata": {
    "execution": {
     "iopub.execute_input": "2024-11-09T20:00:05.338711Z",
     "iopub.status.busy": "2024-11-09T20:00:05.338079Z",
     "iopub.status.idle": "2024-11-09T20:00:05.354458Z",
     "shell.execute_reply": "2024-11-09T20:00:05.353577Z",
     "shell.execute_reply.started": "2024-11-09T20:00:05.338647Z"
    },
    "trusted": true
   },
   "outputs": [],
   "source": [
    "client = Anthropic(api_key=ANTHROPIC_API_KEY)"
   ]
  },
  {
   "cell_type": "markdown",
   "metadata": {},
   "source": [
    "Let's create a dummy tool now! First off, let's create a list of companies for the system to choose from"
   ]
  },
  {
   "cell_type": "code",
   "execution_count": 9,
   "metadata": {
    "execution": {
     "iopub.execute_input": "2024-11-09T20:00:08.563085Z",
     "iopub.status.busy": "2024-11-09T20:00:08.562702Z",
     "iopub.status.idle": "2024-11-09T20:00:08.569085Z",
     "shell.execute_reply": "2024-11-09T20:00:08.568239Z",
     "shell.execute_reply.started": "2024-11-09T20:00:08.563049Z"
    },
    "trusted": true
   },
   "outputs": [],
   "source": [
    "Corpo = [\n",
    "    \"Kiroshi\",\n",
    "    \"Arasaka\",\n",
    "    \"Kang Tao\",\n",
    "    \"Militech\",\n",
    "    \"Biotechnica\",\n",
    "    \"Zetatech\",\n",
    "    \"Dynalar\",\n",
    "]"
   ]
  },
  {
   "cell_type": "markdown",
   "metadata": {},
   "source": [
    "And now we create a DB! This could be anything from an .xml/.json to Postgres or MySQL! For our intent of a test, we will just include a dictionary."
   ]
  },
  {
   "cell_type": "code",
   "execution_count": 55,
   "metadata": {
    "execution": {
     "iopub.execute_input": "2024-11-09T20:32:14.377597Z",
     "iopub.status.busy": "2024-11-09T20:32:14.377202Z",
     "iopub.status.idle": "2024-11-09T20:32:14.402830Z",
     "shell.execute_reply": "2024-11-09T20:32:14.401893Z",
     "shell.execute_reply.started": "2024-11-09T20:32:14.377561Z"
    },
    "jupyter": {
     "source_hidden": true
    },
    "trusted": true
   },
   "outputs": [],
   "source": [
    "cyberware_list = [\n",
    "    {\n",
    "        \"name\": \"Kiroshi Optics\",\n",
    "        \"creator\": \"Kiroshi\",\n",
    "        \"bio\": \"Advanced cybernetic eye implants providing enhanced vision, a heads-up display (HUD), and scanning capabilities.\",\n",
    "        \"stats\": {\n",
    "            \"vision_modes\": [\"Thermal\", \"Night Vision\", \"Zoom\"],\n",
    "            \"target_analysis\": \"Enemy Weak Spots Highlighted\",\n",
    "        },\n",
    "    },\n",
    "    {\n",
    "        \"name\": \"Gorilla Arms\",\n",
    "        \"creator\": \"Arasaka\",\n",
    "        \"bio\": \"Mechanical arms designed to enhance physical strength, allowing for powerful melee attacks and the ability to rip open doors.\",\n",
    "        \"stats\": {\"melee_damage_bonus\": \"+100%\", \"strength_check_bonus\": \"+20\"},\n",
    "    },\n",
    "    {\n",
    "        \"name\": \"Mantis Blades\",\n",
    "        \"creator\": \"Arasaka\",\n",
    "        \"bio\": \"Arm-mounted blades used for close combat, retractable from the forearms and capable of delivering high-speed slashes.\",\n",
    "        \"stats\": {\n",
    "            \"damage_type\": \"Physical\",\n",
    "            \"attack_speed\": \"+30%\",\n",
    "            \"bleed_chance\": \"50%\",\n",
    "        },\n",
    "    },\n",
    "    {\n",
    "        \"name\": \"Monowire\",\n",
    "        \"creator\": \"Kang Tao\",\n",
    "        \"bio\": \"A high-tech fiber-optic whip weapon that can slice through enemies with ease and can be charged for extra damage.\",\n",
    "        \"stats\": {\n",
    "            \"damage_type\": \"Physical/Electrical\",\n",
    "            \"charge_bonus_damage\": \"+200%\",\n",
    "            \"range\": \"5 meters\",\n",
    "        },\n",
    "    },\n",
    "    {\n",
    "        \"name\": \"Projectile Launch System\",\n",
    "        \"creator\": \"Militech\",\n",
    "        \"bio\": \"An arm-mounted cannon that allows the user to launch various types of projectiles, including grenades and explosive rounds.\",\n",
    "        \"stats\": {\n",
    "            \"ammo_types\": [\"Explosive\", \"Incendiary\", \"EMP\"],\n",
    "            \"blast_radius\": \"3 meters\",\n",
    "        },\n",
    "    },\n",
    "    {\n",
    "        \"name\": \"Syn-Lungs\",\n",
    "        \"creator\": \"Biotechnica\",\n",
    "        \"bio\": \"Synthetic lungs that improve the user's breathing efficiency and stamina, allowing for prolonged physical exertion.\",\n",
    "        \"stats\": {\"stamina_regen_rate\": \"+25%\", \"oxygen_capacity\": \"+30%\"},\n",
    "    },\n",
    "    {\n",
    "        \"name\": \"Reinforced Tendons\",\n",
    "        \"creator\": \"Arasaka\",\n",
    "        \"bio\": \"Muscular enhancements that allow the user to jump higher and perform acrobatic movements.\",\n",
    "        \"stats\": {\"jump_height\": \"+2 meters\", \"stamina_cost_reduction\": \"20%\"},\n",
    "    },\n",
    "    {\n",
    "        \"name\": \"Bionic Joints\",\n",
    "        \"creator\": \"Zetatech\",\n",
    "        \"bio\": \"Cybernetic enhancements to the joints, providing increased flexibility and limb strength.\",\n",
    "        \"stats\": {\"mobility_increase\": \"+15%\", \"limb_strength\": \"+20\"},\n",
    "    },\n",
    "    {\n",
    "        \"name\": \"Subdermal Armor\",\n",
    "        \"creator\": \"Militech\",\n",
    "        \"bio\": \"Under-the-skin armor implants that increase the user's resistance to damage.\",\n",
    "        \"stats\": {\"armor_bonus\": \"+200\", \"damage_resistance\": \"20%\"},\n",
    "    },\n",
    "    {\n",
    "        \"name\": \"Sandevistan\",\n",
    "        \"creator\": \"Dynalar\",\n",
    "        \"bio\": \"Reflex booster that slows down time for the user, allowing them to move at superhuman speed.\",\n",
    "        \"stats\": {\n",
    "            \"duration\": \"8 seconds\",\n",
    "            \"cooldown\": \"30 seconds\",\n",
    "            \"speed_increase\": \"+50%\",\n",
    "        },\n",
    "    },\n",
    "    {\n",
    "        \"name\": \"Berserk\",\n",
    "        \"creator\": \"Arasaka\",\n",
    "        \"bio\": \"An adrenaline-inducing cyberware that temporarily boosts the user's physical capabilities, including strength and damage resistance.\",\n",
    "        \"stats\": {\n",
    "            \"duration\": \"10 seconds\",\n",
    "            \"strength_bonus\": \"+30\",\n",
    "            \"damage_reduction\": \"15%\",\n",
    "        },\n",
    "    },\n",
    "    {\n",
    "        \"name\": \"Cyberdeck\",\n",
    "        \"creator\": \"NetWatch\",\n",
    "        \"bio\": \"Cybernetic interface used for hacking, allowing the user to deploy quickhacks and breach enemy systems.\",\n",
    "        \"stats\": {\"RAM_slots\": \"8\", \"quickhack_upload_speed\": \"+30%\"},\n",
    "    },\n",
    "    {\n",
    "        \"name\": \"Pain Editor\",\n",
    "        \"creator\": \"Biotechnica\",\n",
    "        \"bio\": \"A neurological implant that reduces the perception of pain, allowing the user to endure more damage.\",\n",
    "        \"stats\": {\"damage_taken_reduction\": \"10%\", \"bleed_resistance\": \"+50%\"},\n",
    "    },\n",
    "    {\n",
    "        \"name\": \"Blood Pump\",\n",
    "        \"creator\": \"Arasaka\",\n",
    "        \"bio\": \"An enhanced circulatory system that improves health regeneration during combat.\",\n",
    "        \"stats\": {\"health_regen_per_second\": \"+5%\", \"activation_duration\": \"6 seconds\"},\n",
    "    },\n",
    "    {\n",
    "        \"name\": \"Heal-On-Kill\",\n",
    "        \"creator\": \"Militech\",\n",
    "        \"bio\": \"A system that restores a portion of the user's health each time they defeat an enemy.\",\n",
    "        \"stats\": {\"health_restored_per_kill\": \"20%\", \"cooldown\": \"3 seconds\"},\n",
    "    },\n",
    "    {\n",
    "        \"name\": \"Smart Link\",\n",
    "        \"creator\": \"Kang Tao\",\n",
    "        \"bio\": \"A wrist implant that increases smart weapon accuracy and locks onto targets for better aim.\",\n",
    "        \"stats\": {\"smart_weapon_accuracy\": \"+15%\", \"target_lock_speed\": \"+25%\"},\n",
    "    },\n",
    "    {\n",
    "        \"name\": \"Nano Relays\",\n",
    "        \"creator\": \"Zetatech\",\n",
    "        \"bio\": \"Enhances the duration of Sandevistan or Berserk by boosting neural signal transmission.\",\n",
    "        \"stats\": {\"duration_increase\": \"+2 seconds\"},\n",
    "    },\n",
    "    {\n",
    "        \"name\": \"Optical Camo\",\n",
    "        \"creator\": \"Militech\",\n",
    "        \"bio\": \"A cloaking device that provides temporary invisibility to the user.\",\n",
    "        \"stats\": {\"invisibility_duration\": \"10 seconds\", \"cooldown\": \"30 seconds\"},\n",
    "    },\n",
    "    {\n",
    "        \"name\": \"Bioconductor\",\n",
    "        \"creator\": \"Biotechnica\",\n",
    "        \"bio\": \"Regulates the body’s internal processes, reducing cyberware cooldowns.\",\n",
    "        \"stats\": {\"cooldown_reduction\": \"20%\"},\n",
    "    },\n",
    "    {\n",
    "        \"name\": \"Second Heart\",\n",
    "        \"creator\": \"Biotechnica\",\n",
    "        \"bio\": \"A failsafe biological implant that revives the user once when they die.\",\n",
    "        \"stats\": {\"revive_health\": \"50%\", \"cooldown\": \"2 minutes\"},\n",
    "    },\n",
    "    {\n",
    "        \"name\": \"Biomonitor\",\n",
    "        \"creator\": \"Arasaka\",\n",
    "        \"bio\": \"Monitors the user's vital signs and triggers healing if health drops too low.\",\n",
    "        \"stats\": {\"activation_threshold\": \"15% health\", \"healing_amount\": \"30%\"},\n",
    "    },\n",
    "    {\n",
    "        \"name\": \"Neofiber\",\n",
    "        \"creator\": \"Zetatech\",\n",
    "        \"bio\": \"A muscle fiber enhancement that increases evasion and movement speed.\",\n",
    "        \"stats\": {\"evasion_increase\": \"+10%\", \"movement_speed_bonus\": \"+5%\"},\n",
    "    },\n",
    "    {\n",
    "        \"name\": \"Cataresist\",\n",
    "        \"creator\": \"Biotechnica\",\n",
    "        \"bio\": \"Improves the user's resistance to toxins and shock-based damage.\",\n",
    "        \"stats\": {\"poison_resistance\": \"+30%\", \"shock_resistance\": \"+25%\"},\n",
    "    },\n",
    "    {\n",
    "        \"name\": \"Microgenerator\",\n",
    "        \"creator\": \"Militech\",\n",
    "        \"bio\": \"Releases a shockwave when the user takes damage, knocking back enemies.\",\n",
    "        \"stats\": {\"shockwave_radius\": \"3 meters\", \"cooldown\": \"10 seconds\"},\n",
    "    },\n",
    "    {\n",
    "        \"name\": \"Fortified Ankles\",\n",
    "        \"creator\": \"Dynalar\",\n",
    "        \"bio\": \"Reinforces the legs to allow for charged jumps and enhanced mobility.\",\n",
    "        \"stats\": {\"charged_jump_height\": \"+3 meters\", \"stamina_cost\": \"15%\"},\n",
    "    },\n",
    "    {\n",
    "        \"name\": \"Reflex Tuner\",\n",
    "        \"creator\": \"Arasaka\",\n",
    "        \"bio\": \"Slows time when the user's health falls below a certain level, providing a brief window for recovery.\",\n",
    "        \"stats\": {\"activation_threshold\": \"25% health\", \"duration\": \"5 seconds\"},\n",
    "    },\n",
    "    {\n",
    "        \"name\": \"Techgogs\",\n",
    "        \"creator\": \"Kiroshi\",\n",
    "        \"bio\": \"Enhanced goggles that provide better target acquisition and analysis.\",\n",
    "        \"stats\": {\"targeting_accuracy\": \"+20%\", \"analyze_speed\": \"+25%\"},\n",
    "    },\n",
    "]"
   ]
  },
  {
   "cell_type": "markdown",
   "metadata": {},
   "source": [
    "And finally we make build types! We will keep to 6 based off the Edgerunners anime! (Try guessing which archetype is who)"
   ]
  },
  {
   "cell_type": "code",
   "execution_count": 11,
   "metadata": {
    "execution": {
     "iopub.execute_input": "2024-11-09T20:00:14.285035Z",
     "iopub.status.busy": "2024-11-09T20:00:14.284254Z",
     "iopub.status.idle": "2024-11-09T20:00:14.291284Z",
     "shell.execute_reply": "2024-11-09T20:00:14.290236Z",
     "shell.execute_reply.started": "2024-11-09T20:00:14.284994Z"
    },
    "jupyter": {
     "source_hidden": true
    },
    "trusted": true
   },
   "outputs": [],
   "source": [
    "edgerunners_builds = [\n",
    "    {\n",
    "        \"name\": \"The Agile Fighter\",\n",
    "        \"description\": \"An adaptable build that focuses on speed and reflexes. Excelling in close-quarters combat, this fighter utilizes a mix of melee and ranged weapons, quickly adapting to any situation and embodying the spirit of a street fighter.\",\n",
    "    },\n",
    "    {\n",
    "        \"name\": \"The Chaotic Gunner\",\n",
    "        \"description\": \"An unpredictable build specializing in dual-wielding firearms and fast-paced combat. With high energy and a penchant for mayhem, this gunner overwhelms enemies with speed and accuracy, making them a force to be reckoned with in any firefight.\",\n",
    "    },\n",
    "    {\n",
    "        \"name\": \"The Heavy Brawler\",\n",
    "        \"description\": \"A build centered around strength and durability, combining powerful weaponry with advanced cybernetic enhancements. This brawler can absorb damage and unleash devastating attacks, making them a formidable frontline combatant.\",\n",
    "    },\n",
    "    {\n",
    "        \"name\": \"The Stealth Hacker\",\n",
    "        \"description\": \"A stealthy and agile build focused on evasion and hacking. Utilizing advanced cyberware, this infiltrator manipulates the environment and sneaks past enemy lines without detection, excelling in covert operations.\",\n",
    "    },\n",
    "    {\n",
    "        \"name\": \"The Tactical Defender\",\n",
    "        \"description\": \"A defensive build that excels in protecting allies and providing support on the battlefield. With resilience and tactical prowess, this defender can absorb enemy fire while counterattacking, ideal for players who prefer a supportive role.\",\n",
    "    },\n",
    "    {\n",
    "        \"name\": \"The Supportive Strategist\",\n",
    "        \"description\": \"A build focused on enhancing team performance. Utilizing a mix of hacking and buffing skills, this strategist provides advantages in combat, ensuring that allies remain strong and focused during engagements.\",\n",
    "    },\n",
    "]"
   ]
  },
  {
   "cell_type": "markdown",
   "metadata": {},
   "source": [
    "Now that that's done, we can make a function! We will take the input from the user; for this test, we can assume we will always get a proper corpo name. We have a two second wait to simulate an online API request"
   ]
  },
  {
   "cell_type": "code",
   "execution_count": 13,
   "metadata": {
    "execution": {
     "iopub.execute_input": "2024-11-09T20:00:23.150097Z",
     "iopub.status.busy": "2024-11-09T20:00:23.149239Z",
     "iopub.status.idle": "2024-11-09T20:00:23.157206Z",
     "shell.execute_reply": "2024-11-09T20:00:23.156013Z",
     "shell.execute_reply.started": "2024-11-09T20:00:23.150045Z"
    },
    "jupyter": {
     "source_hidden": true
    },
    "trusted": true
   },
   "outputs": [],
   "source": [
    "def get_cyberware_by_creator(creator_name):\n",
    "    # Filter the items by creator name (case-insensitive)\n",
    "    filtered_items = [\n",
    "        item\n",
    "        for item in cyberware_list\n",
    "        if item[\"creator\"].lower() == creator_name.lower()\n",
    "    ]\n",
    "\n",
    "    # If there are no items found, handle it appropriately\n",
    "    if not filtered_items:\n",
    "        return \"No cyberware found for this creator.\"\n",
    "\n",
    "    # Select a random item from the filtered list\n",
    "    returned_item = random.choice(filtered_items)\n",
    "\n",
    "    # Pause for 2 seconds (simulate some kind of delay)\n",
    "    time.sleep(2)\n",
    "\n",
    "    # Create a final formatted string to return\n",
    "    final = f'Name: {returned_item[\"name\"]}, Creator: {returned_item[\"creator\"]}, Bio: {returned_item[\"bio\"]}, Stats: {returned_item[\"stats\"]}'\n",
    "\n",
    "    return final"
   ]
  },
  {
   "cell_type": "code",
   "execution_count": 14,
   "metadata": {
    "execution": {
     "iopub.execute_input": "2024-11-09T20:00:29.289810Z",
     "iopub.status.busy": "2024-11-09T20:00:29.288885Z",
     "iopub.status.idle": "2024-11-09T20:00:31.298240Z",
     "shell.execute_reply": "2024-11-09T20:00:31.297326Z",
     "shell.execute_reply.started": "2024-11-09T20:00:29.289769Z"
    },
    "trusted": true
   },
   "outputs": [
    {
     "data": {
      "text/plain": [
       "\"Name: Projectile Launch System, Creator: Militech, Bio: An arm-mounted cannon that allows the user to launch various types of projectiles, including grenades and explosive rounds., Stats: {'ammo_types': ['Explosive', 'Incendiary', 'EMP'], 'blast_radius': '3 meters'}\""
      ]
     },
     "execution_count": 14,
     "metadata": {},
     "output_type": "execute_result"
    }
   ],
   "source": [
    "get_cyberware_by_creator(\"Militech\")"
   ]
  },
  {
   "cell_type": "markdown",
   "metadata": {},
   "source": [
    "Now to the real core of this; making our message stream! We create this as a function we can call later! I create examples since the LLM's context size can handle it!\n",
    "\n",
    "We are also going to take several steps here; we must create an example of the tool being used as context. Next, we must add the generated lines to the messages list once done being generated. Finally, we will parse the text for the format we want and request another line"
   ]
  },
  {
   "cell_type": "markdown",
   "metadata": {},
   "source": [
    "Now we make a message!"
   ]
  },
  {
   "cell_type": "code",
   "execution_count": 15,
   "metadata": {
    "execution": {
     "iopub.execute_input": "2024-11-09T20:00:34.415759Z",
     "iopub.status.busy": "2024-11-09T20:00:34.415063Z",
     "iopub.status.idle": "2024-11-09T20:00:34.426528Z",
     "shell.execute_reply": "2024-11-09T20:00:34.425555Z",
     "shell.execute_reply.started": "2024-11-09T20:00:34.415719Z"
    },
    "trusted": true
   },
   "outputs": [],
   "source": [
    "# We make our history a separate block to be easier to add to and get a random build to begin\n",
    "\n",
    "# Get a random build\n",
    "random_build = random.choice(edgerunners_builds)\n",
    "\n",
    "# We make our history a separate block to be easier to add to and get a random build to begin\n",
    "initialmessages = [\n",
    "    {\n",
    "        \"role\": \"user\",\n",
    "        \"content\": \"The Heavy Tank - This build focuses on durability and defense, sacrificing speed for maximum resilience. Ideal for handling sustained combat and enduring powerful hits. Requested corporation is Arasaka.\",\n",
    "    },\n",
    "    {\n",
    "        \"role\": \"assistant\",\n",
    "        \"content\": \"Starting Search! get_cyberware_by_creator[Arasaka]\",\n",
    "    },\n",
    "    {\n",
    "        \"role\": \"assistant\",\n",
    "        \"content\": \"Name: Reinforced Subdermal Armor, Creator: Arasaka, Bio: Provides additional layers of armor under the skin to absorb heavy impact, Stats: +50% physical damage resistance, -10% agility\",\n",
    "    },\n",
    "    {\n",
    "        \"role\": \"assistant\",\n",
    "        \"content\": \"The Reinforced Subdermal Armor is a solid choice for The Heavy Tank build. The additional 50% damage resistance will allow you to endure powerful attacks, which is perfect for your defensive style. Be aware of the slight agility decrease, though it aligns with your build's focus on resilience over speed.\",\n",
    "    },\n",
    "    {\n",
    "        \"role\": \"user\",\n",
    "        \"content\": \"The Silent Assassin - A stealth-focused build that emphasizes silent takedowns and avoiding detection. This assassin utilizes a combination of stealth and high precision in ranged combat. Requested corporation is Militech.\",\n",
    "    },\n",
    "    {\n",
    "        \"role\": \"assistant\",\n",
    "        \"content\": \"Starting Search! get_cyberware_by_creator[Militech]\",\n",
    "    },\n",
    "    {\n",
    "        \"role\": \"assistant\",\n",
    "        \"content\": \"Name: Optical Camouflage System, Creator: Militech, Bio: A cloaking system that renders the user nearly invisible for a short duration, Stats: Duration: 10 seconds, Cooldown: 40 seconds\",\n",
    "    },\n",
    "    {\n",
    "        \"role\": \"assistant\",\n",
    "        \"content\": \"The Optical Camouflage System is highly suitable for The Silent Assassin build. Its invisibility feature will allow you to bypass enemies and perform stealth takedowns without being noticed. Just be cautious of its cooldown and plan your escape if needed.\",\n",
    "    },\n",
    "    {\n",
    "        \"role\": \"user\",\n",
    "        \"content\": \"The Tech Savant - A build that excels in using advanced technology and gadgets, specializing in hacking and controlling devices. This tech expert uses drones and automated turrets in combat. Requested corporation is Zetatech.\",\n",
    "    },\n",
    "    {\n",
    "        \"role\": \"assistant\",\n",
    "        \"content\": \"Starting Search! get_cyberware_by_creator[Zetatech]\",\n",
    "    },\n",
    "    {\n",
    "        \"role\": \"assistant\",\n",
    "        \"content\": \"Name: Drone Control Interface, Creator: Zetatech, Bio: Allows the user to control multiple drones simultaneously and provides an enhanced HUD for drone operations, Stats: Drone Capacity: +2, HUD enhancement for better drone tracking\",\n",
    "    },\n",
    "    {\n",
    "        \"role\": \"assistant\",\n",
    "        \"content\": \"The Drone Control Interface is ideal for The Tech Savant build, as it increases your ability to control multiple drones and improves your situational awareness through the enhanced HUD. This item will amplify your tech-based combat strategy significantly.\",\n",
    "    },\n",
    "    {\n",
    "        \"role\": \"user\",\n",
    "        \"content\": \"The Cyber Sniper - A long-range build specializing in precision and high-damage shots from a distance. This sniper focuses on accuracy and stability. Requested corporation is Kang Tao.\",\n",
    "    },\n",
    "    {\n",
    "        \"role\": \"assistant\",\n",
    "        \"content\": \"Starting Search! get_cyberware_by_creator[Kang Tao]\",\n",
    "    },\n",
    "    {\n",
    "        \"role\": \"assistant\",\n",
    "        \"content\": \"Name: Stabilizer Arms, Creator: Kang Tao, Bio: Cybernetic arms with built-in stabilizers to reduce weapon sway, Stats: Recoil Reduction: 80%, Increased Precision: +30%\",\n",
    "    },\n",
    "    {\n",
    "        \"role\": \"assistant\",\n",
    "        \"content\": \"The Stabilizer Arms are an excellent choice for The Cyber Sniper. The enhanced precision and recoil reduction will improve your accuracy, making it easier to land precise, high-damage shots from long range. Perfect for maintaining a steady aim during extended engagements.\",\n",
    "    },\n",
    "    {\n",
    "        \"role\": \"user\",\n",
    "        \"content\": f\"Based on the user's build type and requested corporation, get a random item from the corporation and tell if it will be a good idea to use; {random_build['name']} - {random_build['description']}, Requested Coroporation is {random.choice(Corpo)}\",\n",
    "    },\n",
    "]"
   ]
  },
  {
   "cell_type": "markdown",
   "metadata": {},
   "source": [
    "For now, this is where we will talk to the LLM! Stream on seems to have a few problems so we get the output as one chunk! "
   ]
  },
  {
   "cell_type": "code",
   "execution_count": 16,
   "metadata": {
    "execution": {
     "iopub.execute_input": "2024-11-09T20:00:38.500868Z",
     "iopub.status.busy": "2024-11-09T20:00:38.500148Z",
     "iopub.status.idle": "2024-11-09T20:00:41.670002Z",
     "shell.execute_reply": "2024-11-09T20:00:41.669032Z",
     "shell.execute_reply.started": "2024-11-09T20:00:38.500827Z"
    },
    "trusted": true
   },
   "outputs": [
    {
     "name": "stdout",
     "output_type": "stream",
     "text": [
      "Message(id='msg_01Afykywq3GD2EoHaGGxujRy', content=[TextBlock(text=\"Certainly! Let's see what Zetatech has to offer for The Stealth Hacker build. I'll retrieve a random item from Zetatech and evaluate its suitability for your build.\", type='text'), ToolUseBlock(id='toolu_011JwtgPzy3a88NR1s9BmgNL', input={'creator': 'Zetatech'}, name='get_cyberware_by_creator', type='tool_use')], model='claude-3-5-sonnet-20240620', role='assistant', stop_reason='tool_use', stop_sequence=None, type='message', usage=Usage(input_tokens=1206, output_tokens=109))\n"
     ]
    }
   ],
   "source": [
    "response = client.messages.create(\n",
    "    max_tokens=5000,\n",
    "    model=\"claude-3-5-sonnet-20240620\",\n",
    "    tools=[\n",
    "        {\n",
    "            \"name\": \"get_cyberware_by_creator\",\n",
    "            \"description\": \"Retrieve cyberware information based on the manufacturer corporation\",\n",
    "            \"input_schema\": {\n",
    "                \"type\": \"object\",\n",
    "                \"properties\": {\n",
    "                    \"creator\": {\n",
    "                        \"type\": \"string\",\n",
    "                        \"description\": \"The name of the cyberware creator\",\n",
    "                    }\n",
    "                },\n",
    "                \"required\": [\"creator\"],\n",
    "            },\n",
    "        }\n",
    "    ],\n",
    "    messages=initialmessages,\n",
    ")\n",
    "\n",
    "print(response)"
   ]
  },
  {
   "cell_type": "markdown",
   "metadata": {},
   "source": [
    "Now to get the tool used! We know it will be used and can pretty much ignore the AI's text, still let's show it anyways! We are going to see if the tool name is called get_cyberware_by_creator (And we know it's going to %99 be there)"
   ]
  },
  {
   "cell_type": "code",
   "execution_count": 47,
   "metadata": {
    "execution": {
     "iopub.execute_input": "2024-11-09T20:23:38.711991Z",
     "iopub.status.busy": "2024-11-09T20:23:38.711588Z",
     "iopub.status.idle": "2024-11-09T20:23:40.718852Z",
     "shell.execute_reply": "2024-11-09T20:23:40.718027Z",
     "shell.execute_reply.started": "2024-11-09T20:23:38.711953Z"
    },
    "trusted": true
   },
   "outputs": [
    {
     "name": "stdout",
     "output_type": "stream",
     "text": [
      "[TextBlock(text=\"Certainly! Let's see what Zetatech has to offer for The Stealth Hacker build. I'll retrieve a random item from Zetatech and evaluate its suitability for your build.\", type='text'), ToolUseBlock(id='toolu_011JwtgPzy3a88NR1s9BmgNL', input={'creator': 'Zetatech'}, name='get_cyberware_by_creator', type='tool_use')]\n"
     ]
    }
   ],
   "source": [
    "SearchResult = \"\"\n",
    "\n",
    "# Print response content to see the data\n",
    "print(response.content)\n",
    "\n",
    "# Assuming ToolUseBlock is at index 1\n",
    "tool_use_block = response.content[1]\n",
    "\n",
    "# Get the tool name and input\n",
    "tool_name = tool_use_block.name\n",
    "tool_input = tool_use_block.input\n",
    "\n",
    "# Extract creator (e.g., 'Militech')\n",
    "tool_creator = tool_input[\"creator\"]\n",
    "\n",
    "# Check if the tool name is \"get_cyberware_by_creator\"\n",
    "if tool_name == \"get_cyberware_by_creator\":\n",
    "    # Call the function with the tool creator as an argument\n",
    "    SearchResult = get_cyberware_by_creator(tool_creator)"
   ]
  },
  {
   "cell_type": "markdown",
   "metadata": {},
   "source": [
    "Now, we will add an item to the history and create our next request!"
   ]
  },
  {
   "cell_type": "code",
   "execution_count": 49,
   "metadata": {
    "execution": {
     "iopub.execute_input": "2024-11-09T20:24:59.777625Z",
     "iopub.status.busy": "2024-11-09T20:24:59.776900Z",
     "iopub.status.idle": "2024-11-09T20:24:59.782123Z",
     "shell.execute_reply": "2024-11-09T20:24:59.781171Z",
     "shell.execute_reply.started": "2024-11-09T20:24:59.777585Z"
    },
    "trusted": true
   },
   "outputs": [],
   "source": [
    "initialmessages.append({\"role\": \"assistant\", \"content\": SearchResult})\n",
    "\n",
    "initialmessages.append({\"role\": \"user\", \"content\": \"Is this a good match?\"})"
   ]
  },
  {
   "cell_type": "markdown",
   "metadata": {},
   "source": [
    "Now let's see if this is good!"
   ]
  },
  {
   "cell_type": "code",
   "execution_count": 50,
   "metadata": {
    "execution": {
     "iopub.execute_input": "2024-11-09T20:25:02.863142Z",
     "iopub.status.busy": "2024-11-09T20:25:02.862732Z",
     "iopub.status.idle": "2024-11-09T20:25:12.630165Z",
     "shell.execute_reply": "2024-11-09T20:25:12.629235Z",
     "shell.execute_reply.started": "2024-11-09T20:25:02.863103Z"
    },
    "trusted": true
   },
   "outputs": [
    {
     "name": "stdout",
     "output_type": "stream",
     "text": [
      "Message(id='msg_01YWrpDbF475reehYXHNv7nE', content=[TextBlock(text='Yes, the Neofiber cyberware from Zetatech is an excellent match for The Stealth Hacker build you described. Let\\'s break down why:\\n\\n1. Alignment with build focus: The Stealth Hacker is described as a \"stealthy and agile build focused on evasion.\" The Neofiber directly enhances both stealth and agility aspects of this build.\\n\\n2. Evasion increase: The +10% evasion increase is particularly valuable for a character that aims to avoid detection and enemy attacks. This will make it easier to sneak past enemy lines and escape if spotted.\\n\\n3. Movement speed bonus: The +5% movement speed bonus complements the build\\'s agility focus. Faster movement allows for quicker repositioning, easier escapes, and more efficient navigation through complex environments during covert operations.\\n\\n4. Synergy with hacking: While this cyberware doesn\\'t directly enhance hacking abilities, the improved evasion and speed will help the character get into optimal positions for hacking operations and quickly retreat if necessary.\\n\\n5. Non-interference with stealth: Unlike some combat-focused cyberware that might be noisy or visually obvious, this muscle fiber enhancement is subtle and won\\'t compromise the character\\'s ability to remain undetected.\\n\\n6. Correct corporation: The item is from Zetatech, which matches the requested corporation.\\n\\nOverall, the Neofiber cyberware enhances the core aspects of The Stealth Hacker build - stealth, agility, and evasion. It will allow the character to move more quickly and avoid detection more effectively, which is crucial for an infiltrator focused on covert operations. This cyberware provides a solid foundation for the build, leaving room for additional hacking-specific augmentations to round out the character\\'s capabilities.', type='text')], model='claude-3-5-sonnet-20240620', role='assistant', stop_reason='end_turn', stop_sequence=None, type='message', usage=Usage(input_tokens=1385, output_tokens=408))\n"
     ]
    }
   ],
   "source": [
    "response = client.messages.create(\n",
    "    max_tokens=5000,\n",
    "    model=\"claude-3-5-sonnet-20240620\",\n",
    "    tools=[\n",
    "        {\n",
    "            \"name\": \"get_cyberware_by_creator\",\n",
    "            \"description\": \"Retrieve cyberware information based on the manufacturer corporation\",\n",
    "            \"input_schema\": {\n",
    "                \"type\": \"object\",\n",
    "                \"properties\": {\n",
    "                    \"creator\": {\n",
    "                        \"type\": \"string\",\n",
    "                        \"description\": \"The name of the cyberware creator\",\n",
    "                    }\n",
    "                },\n",
    "                \"required\": [\"creator\"],\n",
    "            },\n",
    "        }\n",
    "    ],\n",
    "    messages=initialmessages,\n",
    ")\n",
    "\n",
    "print(response)"
   ]
  },
  {
   "cell_type": "markdown",
   "metadata": {},
   "source": [
    "Now to display the output!"
   ]
  },
  {
   "cell_type": "code",
   "execution_count": 54,
   "metadata": {
    "execution": {
     "iopub.execute_input": "2024-11-09T20:30:57.591951Z",
     "iopub.status.busy": "2024-11-09T20:30:57.591539Z",
     "iopub.status.idle": "2024-11-09T20:30:57.597218Z",
     "shell.execute_reply": "2024-11-09T20:30:57.596320Z",
     "shell.execute_reply.started": "2024-11-09T20:30:57.591906Z"
    },
    "trusted": true
   },
   "outputs": [
    {
     "name": "stdout",
     "output_type": "stream",
     "text": [
      "Yes, the Neofiber cyberware from Zetatech is an excellent match for The Stealth Hacker build you described. Let's break down why:\n",
      "\n",
      "1. Alignment with build focus: The Stealth Hacker is described as a \"stealthy and agile build focused on evasion.\" The Neofiber directly enhances both stealth and agility aspects of this build.\n",
      "\n",
      "2. Evasion increase: The +10% evasion increase is particularly valuable for a character that aims to avoid detection and enemy attacks. This will make it easier to sneak past enemy lines and escape if spotted.\n",
      "\n",
      "3. Movement speed bonus: The +5% movement speed bonus complements the build's agility focus. Faster movement allows for quicker repositioning, easier escapes, and more efficient navigation through complex environments during covert operations.\n",
      "\n",
      "4. Synergy with hacking: While this cyberware doesn't directly enhance hacking abilities, the improved evasion and speed will help the character get into optimal positions for hacking operations and quickly retreat if necessary.\n",
      "\n",
      "5. Non-interference with stealth: Unlike some combat-focused cyberware that might be noisy or visually obvious, this muscle fiber enhancement is subtle and won't compromise the character's ability to remain undetected.\n",
      "\n",
      "6. Correct corporation: The item is from Zetatech, which matches the requested corporation.\n",
      "\n",
      "Overall, the Neofiber cyberware enhances the core aspects of The Stealth Hacker build - stealth, agility, and evasion. It will allow the character to move more quickly and avoid detection more effectively, which is crucial for an infiltrator focused on covert operations. This cyberware provides a solid foundation for the build, leaving room for additional hacking-specific augmentations to round out the character's capabilities.\n"
     ]
    }
   ],
   "source": [
    "message = response.content[0].text\n",
    "print(message)"
   ]
  },
  {
   "cell_type": "markdown",
   "metadata": {},
   "source": [
    "Run this to end the session!"
   ]
  },
  {
   "cell_type": "code",
   "execution_count": null,
   "metadata": {
    "trusted": true
   },
   "outputs": [],
   "source": [
    "agentops.end_session(\"Success\")"
   ]
  }
 ],
 "metadata": {
  "kaggle": {
   "accelerator": "gpu",
   "dataSources": [],
   "dockerImageVersionId": 30786,
   "isGpuEnabled": true,
   "isInternetEnabled": true,
   "language": "python",
   "sourceType": "notebook"
  },
  "kernelspec": {
   "display_name": "Python 3",
   "language": "python",
   "name": "python3"
  },
  "language_info": {
   "codemirror_mode": {
    "name": "ipython",
    "version": 3
   },
   "file_extension": ".py",
   "mimetype": "text/x-python",
   "name": "python",
   "nbconvert_exporter": "python",
   "pygments_lexer": "ipython3",
   "version": "3.10.14"
  }
 },
 "nbformat": 4,
 "nbformat_minor": 4
}
