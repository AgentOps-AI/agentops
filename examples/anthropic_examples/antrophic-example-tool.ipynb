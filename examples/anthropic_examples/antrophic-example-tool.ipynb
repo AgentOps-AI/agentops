{
 "metadata": {
  "kernelspec": {
   "language": "python",
   "display_name": "Python 3",
   "name": "python3"
  },
  "language_info": {
   "name": "python",
   "version": "3.10.14",
   "mimetype": "text/x-python",
   "codemirror_mode": {
    "name": "ipython",
    "version": 3
   },
   "pygments_lexer": "ipython3",
   "nbconvert_exporter": "python",
   "file_extension": ".py"
  },
  "kaggle": {
   "accelerator": "gpu",
   "dataSources": [],
   "dockerImageVersionId": 30786,
   "isInternetEnabled": true,
   "language": "python",
   "sourceType": "notebook",
   "isGpuEnabled": true
  }
 },
 "nbformat_minor": 4,
 "nbformat": 4,
 "cells": [
  {
   "cell_type": "markdown",
   "source": "Anthropic supports tools, allowing you to easily connect with different external APIs and the like!\n\nFor this example, we are going to make a tool called \"Cyberware\" which will be our tool; we will create a dummy API that gives specs for cyberware from a specific company before the LLM says if the cyberware is good for a build. To do so, we will use both the tool system and an async function!",
   "metadata": {}
  },
  {
   "cell_type": "markdown",
   "source": "First, we start by importing Agentops and Anthropic",
   "metadata": {}
  },
  {
   "cell_type": "code",
   "source": "!pip install agentops\n!pip install anthropic",
   "metadata": {
    "execution": {
     "iopub.status.busy": "2024-11-09T19:58:34.878657Z",
     "iopub.execute_input": "2024-11-09T19:58:34.879322Z",
     "iopub.status.idle": "2024-11-09T19:59:00.718845Z",
     "shell.execute_reply.started": "2024-11-09T19:58:34.879282Z",
     "shell.execute_reply": "2024-11-09T19:59:00.717724Z"
    },
    "trusted": true
   },
   "execution_count": 3,
   "outputs": [
    {
     "name": "stdout",
     "text": "Collecting agentops\n  Downloading agentops-0.3.16-py3-none-any.whl.metadata (24 kB)\nRequirement already satisfied: requests<3.0.0,>=2.0.0 in /opt/conda/lib/python3.10/site-packages (from agentops) (2.32.3)\nCollecting psutil>=5.9.8 (from agentops)\n  Downloading psutil-6.1.0-cp36-abi3-manylinux_2_12_x86_64.manylinux2010_x86_64.manylinux_2_17_x86_64.manylinux2014_x86_64.whl.metadata (22 kB)\nCollecting packaging==23.2 (from agentops)\n  Downloading packaging-23.2-py3-none-any.whl.metadata (3.2 kB)\nRequirement already satisfied: termcolor>=2.3.0 in /opt/conda/lib/python3.10/site-packages (from agentops) (2.4.0)\nRequirement already satisfied: PyYAML<7.0,>=5.3 in /opt/conda/lib/python3.10/site-packages (from agentops) (6.0.2)\nRequirement already satisfied: charset-normalizer<4,>=2 in /opt/conda/lib/python3.10/site-packages (from requests<3.0.0,>=2.0.0->agentops) (3.3.2)\nRequirement already satisfied: idna<4,>=2.5 in /opt/conda/lib/python3.10/site-packages (from requests<3.0.0,>=2.0.0->agentops) (3.7)\nRequirement already satisfied: urllib3<3,>=1.21.1 in /opt/conda/lib/python3.10/site-packages (from requests<3.0.0,>=2.0.0->agentops) (1.26.18)\nRequirement already satisfied: certifi>=2017.4.17 in /opt/conda/lib/python3.10/site-packages (from requests<3.0.0,>=2.0.0->agentops) (2024.8.30)\nDownloading agentops-0.3.16-py3-none-any.whl (55 kB)\n\u001b[2K   \u001b[90m━━━━━━━━━━━━━━━━━━━━━━━━━━━━━━━━━━━━━━━━\u001b[0m \u001b[32m55.4/55.4 kB\u001b[0m \u001b[31m4.1 MB/s\u001b[0m eta \u001b[36m0:00:00\u001b[0m\n\u001b[?25hDownloading packaging-23.2-py3-none-any.whl (53 kB)\n\u001b[2K   \u001b[90m━━━━━━━━━━━━━━━━━━━━━━━━━━━━━━━━━━━━━━━━\u001b[0m \u001b[32m53.0/53.0 kB\u001b[0m \u001b[31m3.7 MB/s\u001b[0m eta \u001b[36m0:00:00\u001b[0m\n\u001b[?25hDownloading psutil-6.1.0-cp36-abi3-manylinux_2_12_x86_64.manylinux2010_x86_64.manylinux_2_17_x86_64.manylinux2014_x86_64.whl (287 kB)\n\u001b[2K   \u001b[90m━━━━━━━━━━━━━━━━━━━━━━━━━━━━━━━━━━━━━━━━\u001b[0m \u001b[32m287.3/287.3 kB\u001b[0m \u001b[31m21.3 MB/s\u001b[0m eta \u001b[36m0:00:00\u001b[0m\n\u001b[?25hInstalling collected packages: psutil, packaging, agentops\n  Attempting uninstall: psutil\n    Found existing installation: psutil 5.9.3\n    Uninstalling psutil-5.9.3:\n      Successfully uninstalled psutil-5.9.3\n  Attempting uninstall: packaging\n    Found existing installation: packaging 21.3\n    Uninstalling packaging-21.3:\n      Successfully uninstalled packaging-21.3\n\u001b[31mERROR: pip's dependency resolver does not currently take into account all the packages that are installed. This behaviour is the source of the following dependency conflicts.\ncudf 24.8.3 requires cubinlinker, which is not installed.\ncudf 24.8.3 requires cupy-cuda11x>=12.0.0, which is not installed.\ncudf 24.8.3 requires ptxcompiler, which is not installed.\ncuml 24.8.0 requires cupy-cuda11x>=12.0.0, which is not installed.\ndask-cudf 24.8.3 requires cupy-cuda11x>=12.0.0, which is not installed.\nbeatrix-jupyterlab 2024.66.154055 requires jupyterlab~=3.6.0, but you have jupyterlab 4.2.5 which is incompatible.\ncudf 24.8.3 requires cuda-python<12.0a0,>=11.7.1, but you have cuda-python 12.6.0 which is incompatible.\ndistributed 2024.7.1 requires dask==2024.7.1, but you have dask 2024.9.1 which is incompatible.\ngoogle-cloud-bigquery 2.34.4 requires packaging<22.0dev,>=14.3, but you have packaging 23.2 which is incompatible.\njupyterlab 4.2.5 requires jupyter-lsp>=2.0.0, but you have jupyter-lsp 1.5.1 which is incompatible.\njupyterlab-lsp 5.1.0 requires jupyter-lsp>=2.0.0, but you have jupyter-lsp 1.5.1 which is incompatible.\nlibpysal 4.9.2 requires shapely>=2.0.1, but you have shapely 1.8.5.post1 which is incompatible.\nrapids-dask-dependency 24.8.0a0 requires dask==2024.7.1, but you have dask 2024.9.1 which is incompatible.\nydata-profiling 4.10.0 requires scipy<1.14,>=1.4.1, but you have scipy 1.14.1 which is incompatible.\u001b[0m\u001b[31m\n\u001b[0mSuccessfully installed agentops-0.3.16 packaging-23.2 psutil-5.9.8\nCollecting anthropic\n  Downloading anthropic-0.39.0-py3-none-any.whl.metadata (22 kB)\nRequirement already satisfied: anyio<5,>=3.5.0 in /opt/conda/lib/python3.10/site-packages (from anthropic) (4.4.0)\nRequirement already satisfied: distro<2,>=1.7.0 in /opt/conda/lib/python3.10/site-packages (from anthropic) (1.9.0)\nRequirement already satisfied: httpx<1,>=0.23.0 in /opt/conda/lib/python3.10/site-packages (from anthropic) (0.27.0)\nCollecting jiter<1,>=0.4.0 (from anthropic)\n  Downloading jiter-0.7.0-cp310-cp310-manylinux_2_17_x86_64.manylinux2014_x86_64.whl.metadata (5.2 kB)\nRequirement already satisfied: pydantic<3,>=1.9.0 in /opt/conda/lib/python3.10/site-packages (from anthropic) (2.9.2)\nRequirement already satisfied: sniffio in /opt/conda/lib/python3.10/site-packages (from anthropic) (1.3.1)\nRequirement already satisfied: typing-extensions<5,>=4.7 in /opt/conda/lib/python3.10/site-packages (from anthropic) (4.12.2)\nRequirement already satisfied: idna>=2.8 in /opt/conda/lib/python3.10/site-packages (from anyio<5,>=3.5.0->anthropic) (3.7)\nRequirement already satisfied: exceptiongroup>=1.0.2 in /opt/conda/lib/python3.10/site-packages (from anyio<5,>=3.5.0->anthropic) (1.2.0)\nRequirement already satisfied: certifi in /opt/conda/lib/python3.10/site-packages (from httpx<1,>=0.23.0->anthropic) (2024.8.30)\nRequirement already satisfied: httpcore==1.* in /opt/conda/lib/python3.10/site-packages (from httpx<1,>=0.23.0->anthropic) (1.0.5)\nRequirement already satisfied: h11<0.15,>=0.13 in /opt/conda/lib/python3.10/site-packages (from httpcore==1.*->httpx<1,>=0.23.0->anthropic) (0.14.0)\nRequirement already satisfied: annotated-types>=0.6.0 in /opt/conda/lib/python3.10/site-packages (from pydantic<3,>=1.9.0->anthropic) (0.7.0)\nRequirement already satisfied: pydantic-core==2.23.4 in /opt/conda/lib/python3.10/site-packages (from pydantic<3,>=1.9.0->anthropic) (2.23.4)\nDownloading anthropic-0.39.0-py3-none-any.whl (198 kB)\n\u001b[2K   \u001b[90m━━━━━━━━━━━━━━━━━━━━━━━━━━━━━━━━━━━━━━━━\u001b[0m \u001b[32m198.4/198.4 kB\u001b[0m \u001b[31m7.7 MB/s\u001b[0m eta \u001b[36m0:00:00\u001b[0m\n\u001b[?25hDownloading jiter-0.7.0-cp310-cp310-manylinux_2_17_x86_64.manylinux2014_x86_64.whl (327 kB)\n\u001b[2K   \u001b[90m━━━━━━━━━━━━━━━━━━━━━━━━━━━━━━━━━━━━━━━━\u001b[0m \u001b[32m327.5/327.5 kB\u001b[0m \u001b[31m19.5 MB/s\u001b[0m eta \u001b[36m0:00:00\u001b[0m\n\u001b[?25hInstalling collected packages: jiter, anthropic\nSuccessfully installed anthropic-0.39.0 jiter-0.7.0\n",
     "output_type": "stream"
    }
   ]
  },
  {
   "cell_type": "markdown",
   "source": "Setup our generic default statements",
   "metadata": {}
  },
  {
   "cell_type": "code",
   "source": [
    "from anthropic import Anthropic, AsyncAnthropic\n",
    "import agentops\n",
    "import os\n",
    "import random  # We don't need this for agentops, we use this to generate a message later\n",
    "import time  # We don't need this for agentops either, we use this when simulating an API later\n",
    "import re  # Regex for formatting\n",
    "from dotenv import load_dotenv"
   ],
   "metadata": {
    "execution": {
     "iopub.status.busy": "2024-11-09T19:59:59.531722Z",
     "iopub.execute_input": "2024-11-09T19:59:59.532140Z",
     "iopub.status.idle": "2024-11-09T20:00:00.316206Z",
     "shell.execute_reply.started": "2024-11-09T19:59:59.532101Z",
     "shell.execute_reply": "2024-11-09T20:00:00.315436Z"
    },
    "trusted": true
   },
   "execution_count": 4,
   "outputs": []
  },
  {
   "cell_type": "markdown",
   "source": "And set our API keys.",
   "metadata": {}
  },
  {
   "cell_type": "code",
   "source": "load_dotenv()\nANTHROPIC_API_KEY = os.getenv(\"ANTHROPIC_API_KEY\") or \"ANTHROPIC API KEY\"\nAGENTOPS_API_KEY = os.getenv(\"AGENTOPS_API_KEY\") or \"AGENTOPS API KEY\"",
   "metadata": {
    "execution": {
     "iopub.status.busy": "2024-11-09T20:00:02.860124Z",
     "iopub.execute_input": "2024-11-09T20:00:02.860678Z",
     "iopub.status.idle": "2024-11-09T20:00:02.866414Z",
     "shell.execute_reply.started": "2024-11-09T20:00:02.860635Z",
     "shell.execute_reply": "2024-11-09T20:00:02.865290Z"
    },
    "trusted": true
   },
   "execution_count": 5,
   "outputs": []
  },
  {
   "cell_type": "markdown",
   "source": "\nNow let's set the client as Anthropic and start an AgentOps session",
   "metadata": {}
  },
  {
   "cell_type": "code",
   "source": "agentops.init(AGENTOPS_API_KEY, default_tags=[\"anthropic-example-tool\"])",
   "metadata": {},
   "execution_count": null,
   "outputs": []
  },
  {
   "cell_type": "code",
   "source": "client = Anthropic(api_key=ANTHROPIC_API_KEY)",
   "metadata": {
    "execution": {
     "iopub.status.busy": "2024-11-09T20:00:05.338079Z",
     "iopub.execute_input": "2024-11-09T20:00:05.338711Z",
     "iopub.status.idle": "2024-11-09T20:00:05.354458Z",
     "shell.execute_reply.started": "2024-11-09T20:00:05.338647Z",
     "shell.execute_reply": "2024-11-09T20:00:05.353577Z"
    },
    "trusted": true
   },
   "execution_count": 6,
   "outputs": []
  },
  {
   "cell_type": "markdown",
   "source": "Let's create a dummy tool now! First off, let's create a list of companies for the system to choose from",
   "metadata": {}
  },
  {
   "cell_type": "code",
   "source": [
    "Corpo = [\n",
    "    \"Kiroshi\",\n",
    "    \"Arasaka\",\n",
    "    \"Kang Tao\",\n",
    "    \"Militech\",\n",
    "    \"Biotechnica\",\n",
    "    \"Zetatech\",\n",
    "    \"Dynalar\",\n",
    "]"
   ],
   "metadata": {
    "execution": {
     "iopub.status.busy": "2024-11-09T20:00:08.562702Z",
     "iopub.execute_input": "2024-11-09T20:00:08.563085Z",
     "iopub.status.idle": "2024-11-09T20:00:08.569085Z",
     "shell.execute_reply.started": "2024-11-09T20:00:08.563049Z",
     "shell.execute_reply": "2024-11-09T20:00:08.568239Z"
    },
    "trusted": true
   },
   "execution_count": 9,
   "outputs": []
  },
  {
   "cell_type": "markdown",
   "source": "And now we create a DB! This could be anything from an .xml/.json to Postgres or MySQL! For our intent of a test, we will just include a dictionary.",
   "metadata": {}
  },
  {
   "cell_type": "code",
   "source": [
    "cyberware_list = [\n",
    "    {\n",
    "        \"name\": \"Kiroshi Optics\",\n",
    "        \"creator\": \"Kiroshi\",\n",
    "        \"bio\": \"Advanced cybernetic eye implants providing enhanced vision, a heads-up display (HUD), and scanning capabilities.\",\n",
    "        \"stats\": {\n",
    "            \"vision_modes\": [\"Thermal\", \"Night Vision\", \"Zoom\"],\n",
    "            \"target_analysis\": \"Enemy Weak Spots Highlighted\",\n",
    "        },\n",
    "    },\n",
    "    {\n",
    "        \"name\": \"Gorilla Arms\",\n",
    "        \"creator\": \"Arasaka\",\n",
    "        \"bio\": \"Mechanical arms designed to enhance physical strength, allowing for powerful melee attacks and the ability to rip open doors.\",\n",
    "        \"stats\": {\"melee_damage_bonus\": \"+100%\", \"strength_check_bonus\": \"+20\"},\n",
    "    },\n",
    "    {\n",
    "        \"name\": \"Mantis Blades\",\n",
    "        \"creator\": \"Arasaka\",\n",
    "        \"bio\": \"Arm-mounted blades used for close combat, retractable from the forearms and capable of delivering high-speed slashes.\",\n",
    "        \"stats\": {\n",
    "            \"damage_type\": \"Physical\",\n",
    "            \"attack_speed\": \"+30%\",\n",
    "            \"bleed_chance\": \"50%\",\n",
    "        },\n",
    "    },\n",
    "    {\n",
    "        \"name\": \"Monowire\",\n",
    "        \"creator\": \"Kang Tao\",\n",
    "        \"bio\": \"A high-tech fiber-optic whip weapon that can slice through enemies with ease and can be charged for extra damage.\",\n",
    "        \"stats\": {\n",
    "            \"damage_type\": \"Physical/Electrical\",\n",
    "            \"charge_bonus_damage\": \"+200%\",\n",
    "            \"range\": \"5 meters\",\n",
    "        },\n",
    "    },\n",
    "    {\n",
    "        \"name\": \"Projectile Launch System\",\n",
    "        \"creator\": \"Militech\",\n",
    "        \"bio\": \"An arm-mounted cannon that allows the user to launch various types of projectiles, including grenades and explosive rounds.\",\n",
    "        \"stats\": {\n",
    "            \"ammo_types\": [\"Explosive\", \"Incendiary\", \"EMP\"],\n",
    "            \"blast_radius\": \"3 meters\",\n",
    "        },\n",
    "    },\n",
    "    {\n",
    "        \"name\": \"Syn-Lungs\",\n",
    "        \"creator\": \"Biotechnica\",\n",
    "        \"bio\": \"Synthetic lungs that improve the user's breathing efficiency and stamina, allowing for prolonged physical exertion.\",\n",
    "        \"stats\": {\"stamina_regen_rate\": \"+25%\", \"oxygen_capacity\": \"+30%\"},\n",
    "    },\n",
    "    {\n",
    "        \"name\": \"Reinforced Tendons\",\n",
    "        \"creator\": \"Arasaka\",\n",
    "        \"bio\": \"Muscular enhancements that allow the user to jump higher and perform acrobatic movements.\",\n",
    "        \"stats\": {\"jump_height\": \"+2 meters\", \"stamina_cost_reduction\": \"20%\"},\n",
    "    },\n",
    "    {\n",
    "        \"name\": \"Bionic Joints\",\n",
    "        \"creator\": \"Zetatech\",\n",
    "        \"bio\": \"Cybernetic enhancements to the joints, providing increased flexibility and limb strength.\",\n",
    "        \"stats\": {\"mobility_increase\": \"+15%\", \"limb_strength\": \"+20\"},\n",
    "    },\n",
    "    {\n",
    "        \"name\": \"Subdermal Armor\",\n",
    "        \"creator\": \"Militech\",\n",
    "        \"bio\": \"Under-the-skin armor implants that increase the user's resistance to damage.\",\n",
    "        \"stats\": {\"armor_bonus\": \"+200\", \"damage_resistance\": \"20%\"},\n",
    "    },\n",
    "    {\n",
    "        \"name\": \"Sandevistan\",\n",
    "        \"creator\": \"Dynalar\",\n",
    "        \"bio\": \"Reflex booster that slows down time for the user, allowing them to move at superhuman speed.\",\n",
    "        \"stats\": {\n",
    "            \"duration\": \"8 seconds\",\n",
    "            \"cooldown\": \"30 seconds\",\n",
    "            \"speed_increase\": \"+50%\",\n",
    "        },\n",
    "    },\n",
    "    {\n",
    "        \"name\": \"Berserk\",\n",
    "        \"creator\": \"Arasaka\",\n",
    "        \"bio\": \"An adrenaline-inducing cyberware that temporarily boosts the user's physical capabilities, including strength and damage resistance.\",\n",
    "        \"stats\": {\n",
    "            \"duration\": \"10 seconds\",\n",
    "            \"strength_bonus\": \"+30\",\n",
    "            \"damage_reduction\": \"15%\",\n",
    "        },\n",
    "    },\n",
    "    {\n",
    "        \"name\": \"Cyberdeck\",\n",
    "        \"creator\": \"NetWatch\",\n",
    "        \"bio\": \"Cybernetic interface used for hacking, allowing the user to deploy quickhacks and breach enemy systems.\",\n",
    "        \"stats\": {\"RAM_slots\": \"8\", \"quickhack_upload_speed\": \"+30%\"},\n",
    "    },\n",
    "    {\n",
    "        \"name\": \"Pain Editor\",\n",
    "        \"creator\": \"Biotechnica\",\n",
    "        \"bio\": \"A neurological implant that reduces the perception of pain, allowing the user to endure more damage.\",\n",
    "        \"stats\": {\"damage_taken_reduction\": \"10%\", \"bleed_resistance\": \"+50%\"},\n",
    "    },\n",
    "    {\n",
    "        \"name\": \"Blood Pump\",\n",
    "        \"creator\": \"Arasaka\",\n",
    "        \"bio\": \"An enhanced circulatory system that improves health regeneration during combat.\",\n",
    "        \"stats\": {\"health_regen_per_second\": \"+5%\", \"activation_duration\": \"6 seconds\"},\n",
    "    },\n",
    "    {\n",
    "        \"name\": \"Heal-On-Kill\",\n",
    "        \"creator\": \"Militech\",\n",
    "        \"bio\": \"A system that restores a portion of the user's health each time they defeat an enemy.\",\n",
    "        \"stats\": {\"health_restored_per_kill\": \"20%\", \"cooldown\": \"3 seconds\"},\n",
    "    },\n",
    "    {\n",
    "        \"name\": \"Smart Link\",\n",
    "        \"creator\": \"Kang Tao\",\n",
    "        \"bio\": \"A wrist implant that increases smart weapon accuracy and locks onto targets for better aim.\",\n",
    "        \"stats\": {\"smart_weapon_accuracy\": \"+15%\", \"target_lock_speed\": \"+25%\"},\n",
    "    },\n",
    "    {\n",
    "        \"name\": \"Nano Relays\",\n",
    "        \"creator\": \"Zetatech\",\n",
    "        \"bio\": \"Enhances the duration of Sandevistan or Berserk by boosting neural signal transmission.\",\n",
    "        \"stats\": {\"duration_increase\": \"+2 seconds\"},\n",
    "    },\n",
    "    {\n",
    "        \"name\": \"Optical Camo\",\n",
    "        \"creator\": \"Militech\",\n",
    "        \"bio\": \"A cloaking device that provides temporary invisibility to the user.\",\n",
    "        \"stats\": {\"invisibility_duration\": \"10 seconds\", \"cooldown\": \"30 seconds\"},\n",
    "    },\n",
    "    {\n",
    "        \"name\": \"Bioconductor\",\n",
    "        \"creator\": \"Biotechnica\",\n",
    "        \"bio\": \"Regulates the body’s internal processes, reducing cyberware cooldowns.\",\n",
    "        \"stats\": {\"cooldown_reduction\": \"20%\"},\n",
    "    },\n",
    "    {\n",
    "        \"name\": \"Second Heart\",\n",
    "        \"creator\": \"Biotechnica\",\n",
    "        \"bio\": \"A failsafe biological implant that revives the user once when they die.\",\n",
    "        \"stats\": {\"revive_health\": \"50%\", \"cooldown\": \"2 minutes\"},\n",
    "    },\n",
    "    {\n",
    "        \"name\": \"Biomonitor\",\n",
    "        \"creator\": \"Arasaka\",\n",
    "        \"bio\": \"Monitors the user's vital signs and triggers healing if health drops too low.\",\n",
    "        \"stats\": {\"activation_threshold\": \"15% health\", \"healing_amount\": \"30%\"},\n",
    "    },\n",
    "    {\n",
    "        \"name\": \"Neofiber\",\n",
    "        \"creator\": \"Zetatech\",\n",
    "        \"bio\": \"A muscle fiber enhancement that increases evasion and movement speed.\",\n",
    "        \"stats\": {\"evasion_increase\": \"+10%\", \"movement_speed_bonus\": \"+5%\"},\n",
    "    },\n",
    "    {\n",
    "        \"name\": \"Cataresist\",\n",
    "        \"creator\": \"Biotechnica\",\n",
    "        \"bio\": \"Improves the user's resistance to toxins and shock-based damage.\",\n",
    "        \"stats\": {\"poison_resistance\": \"+30%\", \"shock_resistance\": \"+25%\"},\n",
    "    },\n",
    "    {\n",
    "        \"name\": \"Microgenerator\",\n",
    "        \"creator\": \"Militech\",\n",
    "        \"bio\": \"Releases a shockwave when the user takes damage, knocking back enemies.\",\n",
    "        \"stats\": {\"shockwave_radius\": \"3 meters\", \"cooldown\": \"10 seconds\"},\n",
    "    },\n",
    "    {\n",
    "        \"name\": \"Fortified Ankles\",\n",
    "        \"creator\": \"Dynalar\",\n",
    "        \"bio\": \"Reinforces the legs to allow for charged jumps and enhanced mobility.\",\n",
    "        \"stats\": {\"charged_jump_height\": \"+3 meters\", \"stamina_cost\": \"15%\"},\n",
    "    },\n",
    "    {\n",
    "        \"name\": \"Reflex Tuner\",\n",
    "        \"creator\": \"Arasaka\",\n",
    "        \"bio\": \"Slows time when the user's health falls below a certain level, providing a brief window for recovery.\",\n",
    "        \"stats\": {\"activation_threshold\": \"25% health\", \"duration\": \"5 seconds\"},\n",
    "    },\n",
    "    {\n",
    "        \"name\": \"Techgogs\",\n",
    "        \"creator\": \"Kiroshi\",\n",
    "        \"bio\": \"Enhanced goggles that provide better target acquisition and analysis.\",\n",
    "        \"stats\": {\"targeting_accuracy\": \"+20%\", \"analyze_speed\": \"+25%\"},\n",
    "    },\n",
    "]"
   ],
   "metadata": {
    "execution": {
     "iopub.status.busy": "2024-11-09T20:32:14.377202Z",
     "iopub.execute_input": "2024-11-09T20:32:14.377597Z",
     "iopub.status.idle": "2024-11-09T20:32:14.402830Z",
     "shell.execute_reply.started": "2024-11-09T20:32:14.377561Z",
     "shell.execute_reply": "2024-11-09T20:32:14.401893Z"
    },
    "jupyter": {
     "source_hidden": true
    },
    "trusted": true
   },
   "execution_count": 55,
   "outputs": []
  },
  {
   "cell_type": "markdown",
   "source": "And finally we make build types! We will keep to 6 based off the Edgerunners anime! (Try guessing which archetype is who)",
   "metadata": {}
  },
  {
   "cell_type": "code",
   "source": [
    "edgerunners_builds = [\n",
    "    {\n",
    "        \"name\": \"The Agile Fighter\",\n",
    "        \"description\": \"An adaptable build that focuses on speed and reflexes. Excelling in close-quarters combat, this fighter utilizes a mix of melee and ranged weapons, quickly adapting to any situation and embodying the spirit of a street fighter.\",\n",
    "    },\n",
    "    {\n",
    "        \"name\": \"The Chaotic Gunner\",\n",
    "        \"description\": \"An unpredictable build specializing in dual-wielding firearms and fast-paced combat. With high energy and a penchant for mayhem, this gunner overwhelms enemies with speed and accuracy, making them a force to be reckoned with in any firefight.\",\n",
    "    },\n",
    "    {\n",
    "        \"name\": \"The Heavy Brawler\",\n",
    "        \"description\": \"A build centered around strength and durability, combining powerful weaponry with advanced cybernetic enhancements. This brawler can absorb damage and unleash devastating attacks, making them a formidable frontline combatant.\",\n",
    "    },\n",
    "    {\n",
    "        \"name\": \"The Stealth Hacker\",\n",
    "        \"description\": \"A stealthy and agile build focused on evasion and hacking. Utilizing advanced cyberware, this infiltrator manipulates the environment and sneaks past enemy lines without detection, excelling in covert operations.\",\n",
    "    },\n",
    "    {\n",
    "        \"name\": \"The Tactical Defender\",\n",
    "        \"description\": \"A defensive build that excels in protecting allies and providing support on the battlefield. With resilience and tactical prowess, this defender can absorb enemy fire while counterattacking, ideal for players who prefer a supportive role.\",\n",
    "    },\n",
    "    {\n",
    "        \"name\": \"The Supportive Strategist\",\n",
    "        \"description\": \"A build focused on enhancing team performance. Utilizing a mix of hacking and buffing skills, this strategist provides advantages in combat, ensuring that allies remain strong and focused during engagements.\",\n",
    "    },\n",
    "]"
   ],
   "metadata": {
    "execution": {
     "iopub.status.busy": "2024-11-09T20:00:14.284254Z",
     "iopub.execute_input": "2024-11-09T20:00:14.285035Z",
     "iopub.status.idle": "2024-11-09T20:00:14.291284Z",
     "shell.execute_reply.started": "2024-11-09T20:00:14.284994Z",
     "shell.execute_reply": "2024-11-09T20:00:14.290236Z"
    },
    "jupyter": {
     "source_hidden": true
    },
    "trusted": true
   },
   "execution_count": 11,
   "outputs": []
  },
  {
   "cell_type": "markdown",
   "source": "Now that that's done, we can make a function! We will take the input from the user; for this test, we can assume we will always get a proper corpo name. We have a two second wait to simulate an online API request",
   "metadata": {}
  },
  {
   "cell_type": "code",
   "source": [
    "def get_cyberware_by_creator(creator_name):\n",
    "    # Filter the items by creator name (case-insensitive)\n",
    "    filtered_items = [\n",
    "        item\n",
    "        for item in cyberware_list\n",
    "        if item[\"creator\"].lower() == creator_name.lower()\n",
    "    ]\n",
    "\n",
    "    # If there are no items found, handle it appropriately\n",
    "    if not filtered_items:\n",
    "        return \"No cyberware found for this creator.\"\n",
    "\n",
    "    # Select a random item from the filtered list\n",
    "    returned_item = random.choice(filtered_items)\n",
    "\n",
    "    # Pause for 2 seconds (simulate some kind of delay)\n",
    "    time.sleep(2)\n",
    "\n",
    "    # Create a final formatted string to return\n",
    "    final = f'Name: {returned_item[\"name\"]}, Creator: {returned_item[\"creator\"]}, Bio: {returned_item[\"bio\"]}, Stats: {returned_item[\"stats\"]}'\n",
    "\n",
    "    return final"
   ],
   "metadata": {
    "execution": {
     "iopub.status.busy": "2024-11-09T20:00:23.149239Z",
     "iopub.execute_input": "2024-11-09T20:00:23.150097Z",
     "iopub.status.idle": "2024-11-09T20:00:23.157206Z",
     "shell.execute_reply.started": "2024-11-09T20:00:23.150045Z",
     "shell.execute_reply": "2024-11-09T20:00:23.156013Z"
    },
    "jupyter": {
     "source_hidden": true
    },
    "trusted": true
   },
   "execution_count": 13,
   "outputs": []
  },
  {
   "cell_type": "code",
   "source": "get_cyberware_by_creator(\"Militech\")",
   "metadata": {
    "execution": {
     "iopub.status.busy": "2024-11-09T20:00:29.288885Z",
     "iopub.execute_input": "2024-11-09T20:00:29.289810Z",
     "iopub.status.idle": "2024-11-09T20:00:31.298240Z",
     "shell.execute_reply.started": "2024-11-09T20:00:29.289769Z",
     "shell.execute_reply": "2024-11-09T20:00:31.297326Z"
    },
    "trusted": true
   },
   "execution_count": 14,
   "outputs": [
    {
     "execution_count": 14,
     "output_type": "execute_result",
     "data": {
      "text/plain": "\"Name: Projectile Launch System, Creator: Militech, Bio: An arm-mounted cannon that allows the user to launch various types of projectiles, including grenades and explosive rounds., Stats: {'ammo_types': ['Explosive', 'Incendiary', 'EMP'], 'blast_radius': '3 meters'}\""
     },
     "metadata": {}
    }
   ]
  },
  {
   "cell_type": "markdown",
   "source": "Now to the real core of this; making our message stream! We create this as a function we can call later! I create examples since the LLM's context size can handle it!\n\nWe are also going to take several steps here; we must create an example of the tool being used as context. Next, we must add the generated lines to the messages list once done being generated. Finally, we will parse the text for the format we want and request another line",
   "metadata": {}
  },
  {
   "cell_type": "markdown",
   "source": "Now we make a message!",
   "metadata": {}
  },
  {
   "cell_type": "code",
   "source": [
    "# We make our history a separate block to be easier to add to and get a random build to begin\n",
    "\n",
    "# Get a random build\n",
    "random_build = random.choice(edgerunners_builds)\n",
    "\n",
    "# We make our history a separate block to be easier to add to and get a random build to begin\n",
    "initialmessages = [\n",
    "    {\n",
    "        \"role\": \"user\",\n",
    "        \"content\": \"The Heavy Tank - This build focuses on durability and defense, sacrificing speed for maximum resilience. Ideal for handling sustained combat and enduring powerful hits. Requested corporation is Arasaka.\",\n",
    "    },\n",
    "    {\n",
    "        \"role\": \"assistant\",\n",
    "        \"content\": \"Starting Search! get_cyberware_by_creator[Arasaka]\",\n",
    "    },\n",
    "    {\n",
    "        \"role\": \"assistant\",\n",
    "        \"content\": \"Name: Reinforced Subdermal Armor, Creator: Arasaka, Bio: Provides additional layers of armor under the skin to absorb heavy impact, Stats: +50% physical damage resistance, -10% agility\",\n",
    "    },\n",
    "    {\n",
    "        \"role\": \"assistant\",\n",
    "        \"content\": \"The Reinforced Subdermal Armor is a solid choice for The Heavy Tank build. The additional 50% damage resistance will allow you to endure powerful attacks, which is perfect for your defensive style. Be aware of the slight agility decrease, though it aligns with your build's focus on resilience over speed.\",\n",
    "    },\n",
    "    {\n",
    "        \"role\": \"user\",\n",
    "        \"content\": \"The Silent Assassin - A stealth-focused build that emphasizes silent takedowns and avoiding detection. This assassin utilizes a combination of stealth and high precision in ranged combat. Requested corporation is Militech.\",\n",
    "    },\n",
    "    {\n",
    "        \"role\": \"assistant\",\n",
    "        \"content\": \"Starting Search! get_cyberware_by_creator[Militech]\",\n",
    "    },\n",
    "    {\n",
    "        \"role\": \"assistant\",\n",
    "        \"content\": \"Name: Optical Camouflage System, Creator: Militech, Bio: A cloaking system that renders the user nearly invisible for a short duration, Stats: Duration: 10 seconds, Cooldown: 40 seconds\",\n",
    "    },\n",
    "    {\n",
    "        \"role\": \"assistant\",\n",
    "        \"content\": \"The Optical Camouflage System is highly suitable for The Silent Assassin build. Its invisibility feature will allow you to bypass enemies and perform stealth takedowns without being noticed. Just be cautious of its cooldown and plan your escape if needed.\",\n",
    "    },\n",
    "    {\n",
    "        \"role\": \"user\",\n",
    "        \"content\": \"The Tech Savant - A build that excels in using advanced technology and gadgets, specializing in hacking and controlling devices. This tech expert uses drones and automated turrets in combat. Requested corporation is Zetatech.\",\n",
    "    },\n",
    "    {\n",
    "        \"role\": \"assistant\",\n",
    "        \"content\": \"Starting Search! get_cyberware_by_creator[Zetatech]\",\n",
    "    },\n",
    "    {\n",
    "        \"role\": \"assistant\",\n",
    "        \"content\": \"Name: Drone Control Interface, Creator: Zetatech, Bio: Allows the user to control multiple drones simultaneously and provides an enhanced HUD for drone operations, Stats: Drone Capacity: +2, HUD enhancement for better drone tracking\",\n",
    "    },\n",
    "    {\n",
    "        \"role\": \"assistant\",\n",
    "        \"content\": \"The Drone Control Interface is ideal for The Tech Savant build, as it increases your ability to control multiple drones and improves your situational awareness through the enhanced HUD. This item will amplify your tech-based combat strategy significantly.\",\n",
    "    },\n",
    "    {\n",
    "        \"role\": \"user\",\n",
    "        \"content\": \"The Cyber Sniper - A long-range build specializing in precision and high-damage shots from a distance. This sniper focuses on accuracy and stability. Requested corporation is Kang Tao.\",\n",
    "    },\n",
    "    {\n",
    "        \"role\": \"assistant\",\n",
    "        \"content\": \"Starting Search! get_cyberware_by_creator[Kang Tao]\",\n",
    "    },\n",
    "    {\n",
    "        \"role\": \"assistant\",\n",
    "        \"content\": \"Name: Stabilizer Arms, Creator: Kang Tao, Bio: Cybernetic arms with built-in stabilizers to reduce weapon sway, Stats: Recoil Reduction: 80%, Increased Precision: +30%\",\n",
    "    },\n",
    "    {\n",
    "        \"role\": \"assistant\",\n",
    "        \"content\": \"The Stabilizer Arms are an excellent choice for The Cyber Sniper. The enhanced precision and recoil reduction will improve your accuracy, making it easier to land precise, high-damage shots from long range. Perfect for maintaining a steady aim during extended engagements.\",\n",
    "    },\n",
    "    {\n",
    "        \"role\": \"user\",\n",
    "        \"content\": f\"Based on the user's build type and requested corporation, get a random item from the corporation and tell if it will be a good idea to use; {random_build['name']} - {random_build['description']}, Requested Coroporation is {random.choice(Corpo)}\",\n",
    "    },\n",
    "]"
   ],
   "metadata": {
    "execution": {
     "iopub.status.busy": "2024-11-09T20:00:34.415063Z",
     "iopub.execute_input": "2024-11-09T20:00:34.415759Z",
     "iopub.status.idle": "2024-11-09T20:00:34.426528Z",
     "shell.execute_reply.started": "2024-11-09T20:00:34.415719Z",
     "shell.execute_reply": "2024-11-09T20:00:34.425555Z"
    },
    "trusted": true
   },
   "execution_count": 15,
   "outputs": []
  },
  {
   "cell_type": "markdown",
   "source": "For now, this is where we will talk to the LLM! Stream on seems to have a few problems so we get the output as one chunk! ",
   "metadata": {}
  },
  {
   "cell_type": "code",
   "source": [
    "response = client.messages.create(\n",
    "    max_tokens=5000,\n",
    "    model=\"claude-3-5-sonnet-20240620\",\n",
    "    tools=[\n",
    "        {\n",
    "            \"name\": \"get_cyberware_by_creator\",\n",
    "            \"description\": \"Retrieve cyberware information based on the manufacturer corporation\",\n",
    "            \"input_schema\": {\n",
    "                \"type\": \"object\",\n",
    "                \"properties\": {\n",
    "                    \"creator\": {\n",
    "                        \"type\": \"string\",\n",
    "                        \"description\": \"The name of the cyberware creator\",\n",
    "                    }\n",
    "                },\n",
    "                \"required\": [\"creator\"],\n",
    "            },\n",
    "        }\n",
    "    ],\n",
    "    messages=initialmessages,\n",
    ")\n",
    "\n",
    "print(response)"
   ],
   "metadata": {
    "execution": {
     "iopub.status.busy": "2024-11-09T20:00:38.500148Z",
     "iopub.execute_input": "2024-11-09T20:00:38.500868Z",
     "iopub.status.idle": "2024-11-09T20:00:41.670002Z",
     "shell.execute_reply.started": "2024-11-09T20:00:38.500827Z",
     "shell.execute_reply": "2024-11-09T20:00:41.669032Z"
    },
    "trusted": true
   },
   "execution_count": 16,
   "outputs": [
    {
     "name": "stdout",
     "text": "Message(id='msg_01Afykywq3GD2EoHaGGxujRy', content=[TextBlock(text=\"Certainly! Let's see what Zetatech has to offer for The Stealth Hacker build. I'll retrieve a random item from Zetatech and evaluate its suitability for your build.\", type='text'), ToolUseBlock(id='toolu_011JwtgPzy3a88NR1s9BmgNL', input={'creator': 'Zetatech'}, name='get_cyberware_by_creator', type='tool_use')], model='claude-3-5-sonnet-20240620', role='assistant', stop_reason='tool_use', stop_sequence=None, type='message', usage=Usage(input_tokens=1206, output_tokens=109))\n",
     "output_type": "stream"
    }
   ]
  },
  {
   "cell_type": "markdown",
   "source": "Now to get the tool used! We know it will be used and can pretty much ignore the AI's text, still let's show it anyways! We are going to see if the tool name is called get_cyberware_by_creator (And we know it's going to %99 be there)",
   "metadata": {}
  },
  {
   "cell_type": "code",
   "source": [
    "SearchResult = \"\"\n",
    "\n",
    "# Print response content to see the data\n",
    "print(response.content)\n",
    "\n",
    "# Assuming ToolUseBlock is at index 1\n",
    "tool_use_block = response.content[1]\n",
    "\n",
    "# Get the tool name and input\n",
    "tool_name = tool_use_block.name\n",
    "tool_input = tool_use_block.input\n",
    "\n",
    "# Extract creator (e.g., 'Militech')\n",
    "tool_creator = tool_input[\"creator\"]\n",
    "\n",
    "# Check if the tool name is \"get_cyberware_by_creator\"\n",
    "if tool_name == \"get_cyberware_by_creator\":\n",
    "    # Call the function with the tool creator as an argument\n",
    "    SearchResult = get_cyberware_by_creator(tool_creator)"
   ],
   "metadata": {
    "execution": {
     "iopub.status.busy": "2024-11-09T20:23:38.711588Z",
     "iopub.execute_input": "2024-11-09T20:23:38.711991Z",
     "iopub.status.idle": "2024-11-09T20:23:40.718852Z",
     "shell.execute_reply.started": "2024-11-09T20:23:38.711953Z",
     "shell.execute_reply": "2024-11-09T20:23:40.718027Z"
    },
    "trusted": true
   },
   "execution_count": 47,
   "outputs": [
    {
     "name": "stdout",
     "text": "[TextBlock(text=\"Certainly! Let's see what Zetatech has to offer for The Stealth Hacker build. I'll retrieve a random item from Zetatech and evaluate its suitability for your build.\", type='text'), ToolUseBlock(id='toolu_011JwtgPzy3a88NR1s9BmgNL', input={'creator': 'Zetatech'}, name='get_cyberware_by_creator', type='tool_use')]\n",
     "output_type": "stream"
    }
   ]
  },
  {
   "cell_type": "markdown",
   "source": "Now, we will add an item to the history and create our next request!",
   "metadata": {}
  },
  {
   "cell_type": "code",
   "source": [
    "initialmessages.append({\"role\": \"assistant\", \"content\": SearchResult})\n",
    "\n",
    "initialmessages.append({\"role\": \"user\", \"content\": \"Is this a good match?\"})"
   ],
   "metadata": {
    "execution": {
     "iopub.status.busy": "2024-11-09T20:24:59.776900Z",
     "iopub.execute_input": "2024-11-09T20:24:59.777625Z",
     "iopub.status.idle": "2024-11-09T20:24:59.782123Z",
     "shell.execute_reply.started": "2024-11-09T20:24:59.777585Z",
     "shell.execute_reply": "2024-11-09T20:24:59.781171Z"
    },
    "trusted": true
   },
   "execution_count": 49,
   "outputs": []
  },
  {
   "cell_type": "markdown",
   "source": "Now let's see if this is good!",
   "metadata": {}
  },
  {
   "cell_type": "code",
   "source": [
    "response = client.messages.create(\n",
    "    max_tokens=5000,\n",
    "    model=\"claude-3-5-sonnet-20240620\",\n",
    "    tools=[\n",
    "        {\n",
    "            \"name\": \"get_cyberware_by_creator\",\n",
    "            \"description\": \"Retrieve cyberware information based on the manufacturer corporation\",\n",
    "            \"input_schema\": {\n",
    "                \"type\": \"object\",\n",
    "                \"properties\": {\n",
    "                    \"creator\": {\n",
    "                        \"type\": \"string\",\n",
    "                        \"description\": \"The name of the cyberware creator\",\n",
    "                    }\n",
    "                },\n",
    "                \"required\": [\"creator\"],\n",
    "            },\n",
    "        }\n",
    "    ],\n",
    "    messages=initialmessages,\n",
    ")\n",
    "\n",
    "print(response)"
   ],
   "metadata": {
    "execution": {
     "iopub.status.busy": "2024-11-09T20:25:02.862732Z",
     "iopub.execute_input": "2024-11-09T20:25:02.863142Z",
     "iopub.status.idle": "2024-11-09T20:25:12.630165Z",
     "shell.execute_reply.started": "2024-11-09T20:25:02.863103Z",
     "shell.execute_reply": "2024-11-09T20:25:12.629235Z"
    },
    "trusted": true
   },
   "execution_count": 50,
   "outputs": [
    {
     "name": "stdout",
     "text": "Message(id='msg_01YWrpDbF475reehYXHNv7nE', content=[TextBlock(text='Yes, the Neofiber cyberware from Zetatech is an excellent match for The Stealth Hacker build you described. Let\\'s break down why:\\n\\n1. Alignment with build focus: The Stealth Hacker is described as a \"stealthy and agile build focused on evasion.\" The Neofiber directly enhances both stealth and agility aspects of this build.\\n\\n2. Evasion increase: The +10% evasion increase is particularly valuable for a character that aims to avoid detection and enemy attacks. This will make it easier to sneak past enemy lines and escape if spotted.\\n\\n3. Movement speed bonus: The +5% movement speed bonus complements the build\\'s agility focus. Faster movement allows for quicker repositioning, easier escapes, and more efficient navigation through complex environments during covert operations.\\n\\n4. Synergy with hacking: While this cyberware doesn\\'t directly enhance hacking abilities, the improved evasion and speed will help the character get into optimal positions for hacking operations and quickly retreat if necessary.\\n\\n5. Non-interference with stealth: Unlike some combat-focused cyberware that might be noisy or visually obvious, this muscle fiber enhancement is subtle and won\\'t compromise the character\\'s ability to remain undetected.\\n\\n6. Correct corporation: The item is from Zetatech, which matches the requested corporation.\\n\\nOverall, the Neofiber cyberware enhances the core aspects of The Stealth Hacker build - stealth, agility, and evasion. It will allow the character to move more quickly and avoid detection more effectively, which is crucial for an infiltrator focused on covert operations. This cyberware provides a solid foundation for the build, leaving room for additional hacking-specific augmentations to round out the character\\'s capabilities.', type='text')], model='claude-3-5-sonnet-20240620', role='assistant', stop_reason='end_turn', stop_sequence=None, type='message', usage=Usage(input_tokens=1385, output_tokens=408))\n",
     "output_type": "stream"
    }
   ]
  },
  {
   "cell_type": "markdown",
   "source": "Now to display the output!",
   "metadata": {}
  },
  {
   "cell_type": "code",
   "source": "message = response.content[0].text\nprint(message)",
   "metadata": {
    "execution": {
     "iopub.status.busy": "2024-11-09T20:30:57.591539Z",
     "iopub.execute_input": "2024-11-09T20:30:57.591951Z",
     "iopub.status.idle": "2024-11-09T20:30:57.597218Z",
     "shell.execute_reply.started": "2024-11-09T20:30:57.591906Z",
     "shell.execute_reply": "2024-11-09T20:30:57.596320Z"
    },
    "trusted": true
   },
   "execution_count": 54,
   "outputs": [
    {
     "name": "stdout",
     "text": "Yes, the Neofiber cyberware from Zetatech is an excellent match for The Stealth Hacker build you described. Let's break down why:\n\n1. Alignment with build focus: The Stealth Hacker is described as a \"stealthy and agile build focused on evasion.\" The Neofiber directly enhances both stealth and agility aspects of this build.\n\n2. Evasion increase: The +10% evasion increase is particularly valuable for a character that aims to avoid detection and enemy attacks. This will make it easier to sneak past enemy lines and escape if spotted.\n\n3. Movement speed bonus: The +5% movement speed bonus complements the build's agility focus. Faster movement allows for quicker repositioning, easier escapes, and more efficient navigation through complex environments during covert operations.\n\n4. Synergy with hacking: While this cyberware doesn't directly enhance hacking abilities, the improved evasion and speed will help the character get into optimal positions for hacking operations and quickly retreat if necessary.\n\n5. Non-interference with stealth: Unlike some combat-focused cyberware that might be noisy or visually obvious, this muscle fiber enhancement is subtle and won't compromise the character's ability to remain undetected.\n\n6. Correct corporation: The item is from Zetatech, which matches the requested corporation.\n\nOverall, the Neofiber cyberware enhances the core aspects of The Stealth Hacker build - stealth, agility, and evasion. It will allow the character to move more quickly and avoid detection more effectively, which is crucial for an infiltrator focused on covert operations. This cyberware provides a solid foundation for the build, leaving room for additional hacking-specific augmentations to round out the character's capabilities.\n",
     "output_type": "stream"
    }
   ]
  },
  {
   "cell_type": "markdown",
   "source": "Run this to end the session!",
   "metadata": {}
  },
  {
   "cell_type": "code",
   "source": "agentops.end_session(\"Success\")",
   "metadata": {
    "trusted": true
   },
   "execution_count": null,
   "outputs": []
  }
 ]
}