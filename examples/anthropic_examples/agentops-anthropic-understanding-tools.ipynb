{
 "cells": [
  {
   "cell_type": "markdown",
   "metadata": {},
   "source": [
    "# Anthropic Example for understanding Tools\n",
    "\n",
    "Anthropic's tool returns are not as simple as getting a few strings! While this system is more complex than those before it, it's also simple enough to be used without problem once you understand how it works! "
   ]
  },
  {
   "cell_type": "markdown",
   "metadata": {},
   "source": [
    "To get started, we will import Agentops and Anthropic"
   ]
  },
  {
   "cell_type": "code",
   "execution_count": null,
   "metadata": {},
   "outputs": [],
   "source": [
    "%pip install agentops\n",
    "%pip install anthropic"
   ]
  },
  {
   "cell_type": "markdown",
   "metadata": {},
   "source": [
    "Setup our generic default statements"
   ]
  },
  {
   "cell_type": "code",
   "execution_count": 2,
   "metadata": {},
   "outputs": [],
   "source": [
    "import agentops\n",
    "from anthropic import Anthropic, AsyncAnthropic\n",
    "from dotenv import load_dotenv\n",
    "import os\n",
    "import random\n",
    "import time\n",
    "import re"
   ]
  },
  {
   "cell_type": "markdown",
   "metadata": {},
   "source": [
    "And set our API keys."
   ]
  },
  {
   "cell_type": "code",
   "execution_count": 3,
   "metadata": {},
   "outputs": [],
   "source": [
    "load_dotenv()\n",
    "ANTHROPIC_API_KEY = os.getenv(\"ANTHROPIC_API_KEY\") or \"ANTHROPIC API KEY\"\n",
    "AGENTOPS_API_KEY = os.getenv(\"AGENTOPS_API_KEY\") or \"AGENTOPS API KEY\""
   ]
  },
  {
   "cell_type": "markdown",
   "metadata": {},
   "source": [
    "\n",
    "Now let's set the client as Anthropic and make an AgentOps session"
   ]
  },
  {
   "cell_type": "code",
   "execution_count": null,
   "metadata": {},
   "outputs": [],
   "source": [
    "agentops.init(AGENTOPS_API_KEY, default_tags=[\"anthropic-example-tool-tutorials\"])"
   ]
  },
  {
   "cell_type": "code",
   "execution_count": 5,
   "metadata": {},
   "outputs": [],
   "source": [
    "client = Anthropic(api_key=ANTHROPIC_API_KEY)"
   ]
  },
  {
   "cell_type": "markdown",
   "metadata": {},
   "source": [
    "Now to create a simple dummy tool! We are going to make a tool that will tell us about the demon infestation levels for 3 areas. From there, we will have VEGA, our AI determine the best place for the Doom Slayer to attack."
   ]
  },
  {
   "cell_type": "code",
   "execution_count": 6,
   "metadata": {},
   "outputs": [],
   "source": [
    "locations = [\n",
    "    {\n",
    "        \"Name\": \"Super Gore Nest\",\n",
    "        \"Description\": \"A grotesque mass of demonic growth and organic structures infesting the ruins of an urban area on Earth. The Super Gore Nest serves as a massive, pulsating hive for Hell’s forces, complete with rivers of blood, twisted tendrils, and a dark, organic design that shows how deeply Hell has taken root in the city.\",\n",
    "    },\n",
    "    {\n",
    "        \"Name\": \"Exultia\",\n",
    "        \"Description\": \"An ancient, mystical world that holds the ruins of the Night Sentinels' kingdom, with gothic structures and arcane symbols throughout. This realm is filled with epic landscapes, medieval architecture, and hints of the powerful civilization that once defended against Hell’s forces.\",\n",
    "    },\n",
    "    {\n",
    "        \"Name\": \"Cultist Base\",\n",
    "        \"Description\": \"A grim fortress hidden within the icy mountains, where a fanatical cult worships demons. Filled with chilling sacrificial chambers, traps, and rituals, the Cultist Base is a hostile stronghold where Doom Slayer must confront the cult leaders aiding Hell's invasion of Earth.\",\n",
    "    },\n",
    "    {\n",
    "        \"Name\": \"Taras Nabad\",\n",
    "        \"Description\": \"A war-ravaged city on the homeworld of the Night Sentinels, showcasing grandiose, ancient architecture in the midst of destruction. Taras Nabad's sprawling structures and historical significance reveal glimpses into the Doom Slayer’s past and the once-thriving Sentinel civilization.\",\n",
    "    },\n",
    "    {\n",
    "        \"Name\": \"Nekravol\",\n",
    "        \"Description\": \"A hellish, industrial fortress where souls are processed into Argent energy. With conveyor belts moving the damned and a skyline dominated by fire and darkness, Nekravol is a nightmarish facility that powers Hell's armies and embodies the horrific machinery of Hell's cruelty.\",\n",
    "    },\n",
    "    {\n",
    "        \"Name\": \"Urdak\",\n",
    "        \"Description\": \"A surreal, high-tech realm that serves as the home of the angelic Maykrs. Urdak’s sleek, pristine architecture and ethereal ambiance sharply contrast with Hell’s brutal landscapes, yet this realm holds its own dark secrets and a critical role in Hell's invasion of Earth.\",\n",
    "    },\n",
    "    {\n",
    "        \"Name\": \"UAC Base\",\n",
    "        \"Description\": \"A futuristic military base on Earth controlled by the Union Aerospace Corporation (UAC), filled with high-tech weaponry and security systems. The UAC Base serves as a human foothold in the fight against Hell, though some within its ranks may have darker intentions.\",\n",
    "    },\n",
    "]\n",
    "\n",
    "combat_casualties = [\"Nonexistent\", \"Low\", \"Medium\", \"High\", \"Extinction\"]\n",
    "\n",
    "missions = [\n",
    "    \"Locate and confront a key leader of Hell’s invasion forces.\",\n",
    "    \"Clear out demonic infestations to secure a strategic foothold.\",\n",
    "    \"Disrupt Hell's control over the area by eliminating critical targets.\",\n",
    "    \"Enter a critical demonic stronghold to disrupt enemy operations.\",\n",
    "    \"Locate and destroy the central power source to weaken enemy forces.\",\n",
    "    \"Collect essential resources before the area becomes unstable.\",\n",
    "]"
   ]
  },
  {
   "cell_type": "markdown",
   "metadata": {},
   "source": [
    "Now that that's done, we can make a function! We will generate three random missions and pass it off to the AI."
   ]
  },
  {
   "cell_type": "code",
   "execution_count": 7,
   "metadata": {},
   "outputs": [],
   "source": [
    "def generate_missions():\n",
    "    selectedmissions = []\n",
    "    loop = 0\n",
    "\n",
    "    while loop < 3:\n",
    "        location = random.choice(locations)\n",
    "        casualties = random.choice(combat_casualties)\n",
    "        mission = random.choice(missions)\n",
    "        final = (\n",
    "            f'LocationName: {location[\"Name\"]}, '\n",
    "            f'LocationInfo: {location[\"Description\"]}, '\n",
    "            f\"HumanCombatCasualties: {casualties}, \"\n",
    "            f\"Mission: {mission}\"\n",
    "        )\n",
    "\n",
    "        selectedmissions.append(final)\n",
    "        loop += 1\n",
    "\n",
    "    # Combine all mission strings into a single string with a separator (e.g., newline or comma)\n",
    "    missions_string = \"\\n\".join(\n",
    "        missions\n",
    "    )  # Or \", \".join(missions) for a comma-separated string\n",
    "    print(missions_string)\n",
    "    return missions_string"
   ]
  },
  {
   "cell_type": "code",
   "execution_count": null,
   "metadata": {},
   "outputs": [],
   "source": [
    "generate_missions()"
   ]
  },
  {
   "cell_type": "markdown",
   "metadata": {},
   "source": [
    "Now to the real core of this; making our message stream! We create this as a function we can call later! I create examples since the LLM's context size can handle it (and it's generally good practice)!\n",
    "\n",
    "We are also going to take several steps here; we must create an example of the tool being used as context. Next, we must add the generated lines to the messages list once done being generated. Finally, we will parse the text for the format we want and request another line"
   ]
  },
  {
   "cell_type": "markdown",
   "metadata": {},
   "source": [
    "Now we make a message! This time around we will skip making an intial message that has too much context, unlike in the past!"
   ]
  },
  {
   "cell_type": "code",
   "execution_count": 9,
   "metadata": {},
   "outputs": [],
   "source": [
    "# We make our history a separate block to be easier to add to later on! This is essentially our history\n",
    "initial_messages = [\n",
    "    {\n",
    "        \"role\": \"user\",\n",
    "        \"content\": \"You are VEGA, the assistant to the DOOMGUY. Get three missions from the ship's API and tell me which mission is most to least important for quellng the forces of hell.  \",\n",
    "    }\n",
    "]"
   ]
  },
  {
   "cell_type": "markdown",
   "metadata": {},
   "source": [
    "Now to construct a request!"
   ]
  },
  {
   "cell_type": "code",
   "execution_count": null,
   "metadata": {},
   "outputs": [],
   "source": [
    "response = client.messages.create(\n",
    "    max_tokens=5000,\n",
    "    model=\"claude-3-5-sonnet-20240620\",\n",
    "    tools=[\n",
    "        {\n",
    "            \"name\": \"generate_missions\",\n",
    "            \"description\": \"Retrieve three missions for the DoomSlayer\",\n",
    "            \"input_schema\": {\"type\": \"object\", \"properties\": {}, \"required\": []},\n",
    "        }\n",
    "    ],\n",
    "    messages=initial_messages,\n",
    ")\n",
    "\n",
    "print(response.content)"
   ]
  },
  {
   "cell_type": "markdown",
   "metadata": {},
   "source": [
    "Having trouble understanding this? The first block given is always Ai dialouge! You can use response.content[0].text to get the AI's text! Let's try it below."
   ]
  },
  {
   "cell_type": "code",
   "execution_count": null,
   "metadata": {},
   "outputs": [],
   "source": [
    "message = response.content[0].text\n",
    "print(message)"
   ]
  },
  {
   "cell_type": "markdown",
   "metadata": {},
   "source": [
    "The code below finds the tool used!"
   ]
  },
  {
   "cell_type": "code",
   "execution_count": null,
   "metadata": {},
   "outputs": [],
   "source": [
    "gen_mission_result = \"\"\n",
    "\n",
    "# Print response content to see the data\n",
    "print(response.content)\n",
    "\n",
    "# Assuming ToolUseBlock is at index 1\n",
    "tool_use_block = response.content[1]\n",
    "\n",
    "# Get the tool name and input\n",
    "tool_name = tool_use_block.name\n",
    "tool_input = tool_use_block.input\n",
    "\n",
    "# We don't need to look to extract any inputs since we don't use any\n",
    "\n",
    "# Check if the tool name is \"generate_missions\"\n",
    "if tool_name == \"generate_missions\":\n",
    "    # Call the function with the tool creator as an argument\n",
    "    gen_mission_result = generate_missions()"
   ]
  },
  {
   "cell_type": "markdown",
   "metadata": {},
   "source": [
    "Now we add these as context to the LLM through intial messages!"
   ]
  },
  {
   "cell_type": "code",
   "execution_count": 13,
   "metadata": {},
   "outputs": [],
   "source": [
    "initial_messages.append({\"role\": \"assistant\", \"content\": gen_mission_result})\n",
    "\n",
    "initial_messages.append(\n",
    "    {\n",
    "        \"role\": \"user\",\n",
    "        \"content\": \"Based on these, which location should take priority and why?\",\n",
    "    }\n",
    ")"
   ]
  },
  {
   "cell_type": "markdown",
   "metadata": {},
   "source": [
    "And now to get a response!"
   ]
  },
  {
   "cell_type": "code",
   "execution_count": null,
   "metadata": {},
   "outputs": [],
   "source": [
    "response = client.messages.create(\n",
    "    max_tokens=5000,\n",
    "    model=\"claude-3-5-sonnet-20240620\",\n",
    "    tools=[\n",
    "        {\n",
    "            \"name\": \"generate_missions\",\n",
    "            \"description\": \"Retrieve three missions for the DoomSlayer\",\n",
    "            \"input_schema\": {\"type\": \"object\", \"properties\": {}, \"required\": []},\n",
    "        }\n",
    "    ],\n",
    "    messages=initial_messages,\n",
    ")\n",
    "\n",
    "print(response)"
   ]
  },
  {
   "cell_type": "markdown",
   "metadata": {},
   "source": [
    "Isolate again!"
   ]
  },
  {
   "cell_type": "code",
   "execution_count": null,
   "metadata": {},
   "outputs": [],
   "source": [
    "message = response.content[0].text\n",
    "print(message)"
   ]
  },
  {
   "cell_type": "markdown",
   "metadata": {},
   "source": [
    "Hmmm, what if we wanted to include more tools and add inputs? Let's create two new functions to display this!\n",
    "\n",
    "One will show the kind of demon we are facing, whereas another one will take our weapon input to determine what the best weapon chain to use is (You heard that right, we believe in quick weapon switches around these parts)"
   ]
  },
  {
   "cell_type": "code",
   "execution_count": 16,
   "metadata": {},
   "outputs": [],
   "source": [
    "demons = [\n",
    "    {\n",
    "        \"Name\": \"Imp\",\n",
    "        \"Description\": \"A fast, agile demon that hurls fireballs and uses its claws to tear apart its prey. Imps are commonly found in Hell’s army, notorious for their quickness and ability to climb walls, making them dangerous adversaries in any environment.\",\n",
    "    },\n",
    "    {\n",
    "        \"Name\": \"Cacodemon\",\n",
    "        \"Description\": \"A floating, spherical demon with a large mouth full of teeth and an ability to launch explosive projectiles. Cacodemons are often encountered in open areas, where their aerial agility and relentless attacks pose a constant threat.\",\n",
    "    },\n",
    "    {\n",
    "        \"Name\": \"Hell Knight\",\n",
    "        \"Description\": \"A towering, brutish demon with immense strength and durability. The Hell Knight is capable of charging at the Doom Slayer and delivering devastating melee attacks. Its tough hide makes it resistant to most forms of damage.\",\n",
    "    },\n",
    "    {\n",
    "        \"Name\": \"Mancubus\",\n",
    "        \"Description\": \"A grotesque, overweight demon that releases powerful fireballs from its massive arm cannons. Mancubus demons are slow-moving but dangerous due to their firepower and the ability to overwhelm enemies with their fiery onslaughts.\",\n",
    "    },\n",
    "]\n",
    "\n",
    "\n",
    "weapons = [\n",
    "    {\n",
    "        \"Name\": \"Super Shotgun\",\n",
    "        \"Description\": \"A powerful, double-barreled shotgun that delivers devastating close-range damage. Known for its sheer stopping power, the Super Shotgun can tear through enemies with ease, especially when equipped with the Meat Hook attachment, allowing for rapid mobility and devastating hits.\",\n",
    "    },\n",
    "    {\n",
    "        \"Name\": \"Rocket Launcher\",\n",
    "        \"Description\": \"A high-powered weapon that fires explosive rockets capable of dealing massive area damage. The Rocket Launcher is invaluable for taking down groups of enemies or dealing significant damage to larger demons, especially when upgraded with the Lock-On Burst mod.\",\n",
    "    },\n",
    "    {\n",
    "        \"Name\": \"Chaingun\",\n",
    "        \"Description\": \"A rapid-fire weapon that can unleash a torrent of bullets at a high rate of speed. The Chaingun is perfect for mowing down enemies and can be equipped with the Heat Blast mod, allowing for explosive energy rounds that can clear multiple enemies at once.\",\n",
    "    },\n",
    "    {\n",
    "        \"Name\": \"BFG 9000\",\n",
    "        \"Description\": \"One of the most iconic weapons in the *Doom* franchise, the BFG 9000 fires a massive energy beam that obliterates anything in its path. With its massive damage potential, the BFG 9000 is a game-changer, especially in dealing with large groups of enemies or the toughest foes.\",\n",
    "    },\n",
    "    {\n",
    "        \"Name\": \"Ice Bomb\",\n",
    "        \"Description\": \"A special grenade that freezes enemies in a wide area, giving the Doom Slayer a chance to deal with multiple foes at once. The Ice Bomb is effective for crowd control, allowing for easy Glory Kills or creating distance from overwhelming enemies.\",\n",
    "    },\n",
    "]"
   ]
  },
  {
   "cell_type": "markdown",
   "metadata": {},
   "source": [
    "Now we can keep the initialmessages from before actually! However let's change the context"
   ]
  },
  {
   "cell_type": "code",
   "execution_count": 17,
   "metadata": {},
   "outputs": [],
   "source": [
    "initial_messages.append(\n",
    "    {\n",
    "        \"role\": \"user\",\n",
    "        \"content\": \"The first priority mission was selected. At the same time, scan for enemies and check inventory to determine the best combat strategy. You should use both tools at once.\",\n",
    "    }\n",
    ")"
   ]
  },
  {
   "cell_type": "markdown",
   "metadata": {},
   "source": [
    "And we of course make functions"
   ]
  },
  {
   "cell_type": "code",
   "execution_count": 18,
   "metadata": {},
   "outputs": [],
   "source": [
    "def enemyscan(amount):\n",
    "    enemiesonscene = []\n",
    "    loop = 0\n",
    "\n",
    "    while loop < amount + 1:\n",
    "        scannedenemy = random.choice(demons)\n",
    "\n",
    "        # Append just the name of the demon to the list\n",
    "        enemiesonscene.append(scannedenemy[\"Name\"])\n",
    "        enemiesonscene.append(scannedenemy[\"Description\"])\n",
    "        loop += 1\n",
    "\n",
    "    # Combine all mission strings into a single string with a separator (e.g., newline or comma)\n",
    "    enemies_string = \"\\n\".join(enemiesonscene)\n",
    "    print(enemies_string)\n",
    "    return enemies_string"
   ]
  },
  {
   "cell_type": "code",
   "execution_count": null,
   "metadata": {},
   "outputs": [],
   "source": [
    "enemyscan(5)"
   ]
  },
  {
   "cell_type": "markdown",
   "metadata": {},
   "source": [
    "And now inventory"
   ]
  },
  {
   "cell_type": "code",
   "execution_count": 20,
   "metadata": {},
   "outputs": [],
   "source": [
    "def inventoryscan():\n",
    "    weapons_at_hand = []\n",
    "    loop = 0\n",
    "\n",
    "    while loop < 5:\n",
    "        weapon = random.choice(weapons)\n",
    "\n",
    "        # Append just the name of the demon to the list\n",
    "        weapons_at_hand.append(weapon[\"Name\"])\n",
    "        weapons_at_hand.append(weapon[\"Description\"])\n",
    "        loop += 1\n",
    "\n",
    "    # Combine all mission strings into a single string with a separator (e.g., newline or comma)\n",
    "    weapons_string = \"\\n\".join(weapons_at_hand)\n",
    "    print(weapons_string)\n",
    "    return weapons_string"
   ]
  },
  {
   "cell_type": "code",
   "execution_count": null,
   "metadata": {},
   "outputs": [],
   "source": [
    "inventoryscan()"
   ]
  },
  {
   "cell_type": "markdown",
   "metadata": {},
   "source": [
    "With that, let's construct our new tools and run this!!"
   ]
  },
  {
   "cell_type": "code",
   "execution_count": null,
   "metadata": {},
   "outputs": [],
   "source": [
    "response = client.messages.create(\n",
    "    max_tokens=5000,\n",
    "    model=\"claude-3-5-sonnet-20240620\",\n",
    "    tools=[\n",
    "        {\n",
    "            \"name\": \"enemyscan_tool\",\n",
    "            \"description\": \"Retrieve a list of demons currently present in the area.\",\n",
    "            \"input_schema\": {\n",
    "                \"type\": \"object\",\n",
    "                \"properties\": {\n",
    "                    \"amount\": {\n",
    "                        \"type\": \"integer\",\n",
    "                        \"description\": \"Number of enemies to scan.\",\n",
    "                    }\n",
    "                },\n",
    "                \"required\": [\"amount\"],\n",
    "            },\n",
    "        },\n",
    "        {\n",
    "            \"name\": \"inventoryscan_tool\",\n",
    "            \"description\": \"Retrieve a list of weapons the Doom Slayer has at hand.\",\n",
    "            \"input_schema\": {\"type\": \"object\", \"properties\": {}, \"required\": []},\n",
    "        },\n",
    "    ],\n",
    "    messages=initial_messages,\n",
    ")\n",
    "\n",
    "print(response)"
   ]
  },
  {
   "cell_type": "markdown",
   "metadata": {},
   "source": [
    "Display just the text"
   ]
  },
  {
   "cell_type": "code",
   "execution_count": null,
   "metadata": {},
   "outputs": [],
   "source": [
    "message = response.content[0].text\n",
    "print(message)"
   ]
  },
  {
   "cell_type": "code",
   "execution_count": 24,
   "metadata": {},
   "outputs": [],
   "source": [
    "initial_messages.append({\"role\": \"assistant\", \"content\": f\"{str(response)}\"})"
   ]
  },
  {
   "cell_type": "markdown",
   "metadata": {},
   "source": [
    "And now to get the information and put it all together! PLEASE read the comments!"
   ]
  },
  {
   "cell_type": "code",
   "execution_count": null,
   "metadata": {},
   "outputs": [],
   "source": [
    "inv_scan_res = \"\"\n",
    "enemy_scan_res = \"\"\n",
    "\n",
    "\n",
    "response_str = str(response)\n",
    "tool_use_count = response_str.count(\n",
    "    \"ToolUseBlock\"\n",
    ")  # We know the ToolUseBlock will appear once for each tool request so we check how many time it appears\n",
    "\n",
    "\n",
    "# You can use print(tool_use_count)to validate the ToolBlocks here if you wish\n",
    "\n",
    "loop = 0\n",
    "\n",
    "# We do this instead of a (foreach) because we need to skip the first block! This contains the message from the AI, not the tool! This way allows us to reference the item we want as easily as possible without complex logic needed!\n",
    "\n",
    "while loop < tool_use_count:  # We will get the tools now\n",
    "    tool_use_block = response.content[\n",
    "        loop + 1\n",
    "    ]  # We start at 1 since 0 holds the AI mesage\n",
    "    tool_name = tool_use_block.name\n",
    "    tool_input = tool_use_block.input\n",
    "\n",
    "    if tool_name == \"inventoryscan_tool\":\n",
    "        # Call the inventoryscan function for inventoryscan_tool\n",
    "        inv_scan_res = inventoryscan()\n",
    "    elif tool_name == \"enemyscan_tool\":\n",
    "        # Get the amount for enemyscan_tool\n",
    "        amount = tool_input[\"amount\"]\n",
    "        # Call the enemyscan function with the amount\n",
    "        enemy_scan_res = enemyscan(amount)\n",
    "\n",
    "    loop = loop + 1\n",
    "print(inv_scan_res)\n",
    "print(enemy_scan_res)"
   ]
  },
  {
   "cell_type": "markdown",
   "metadata": {},
   "source": [
    "And now we are basically done! We can give this to th AI and see what we get"
   ]
  },
  {
   "cell_type": "code",
   "execution_count": 26,
   "metadata": {},
   "outputs": [],
   "source": [
    "initial_messages.append(\n",
    "    {\n",
    "        \"role\": \"assistant\",\n",
    "        \"content\": f\"Weapons Inventory Scan Result: {inv_scan_res}\\nEnemy Scans Result: {enemy_scan_res}\",\n",
    "    }\n",
    ")\n",
    "\n",
    "\n",
    "initial_messages.append(\n",
    "    {\n",
    "        \"role\": \"user\",\n",
    "        \"content\": \"What is the combat plan for killing these demons? Based on the last message, tell me which demons to kill first, in which order and using which weapons as well as any sweakpoints.\",\n",
    "    }\n",
    ")"
   ]
  },
  {
   "cell_type": "code",
   "execution_count": null,
   "metadata": {},
   "outputs": [],
   "source": [
    "response = client.messages.create(\n",
    "    max_tokens=5000,\n",
    "    model=\"claude-3-5-sonnet-20240620\",\n",
    "    tools=[\n",
    "        {\n",
    "            \"name\": \"enemyscan_tool\",\n",
    "            \"description\": \"Retrieve a list of demons currently present in the area.\",\n",
    "            \"input_schema\": {\n",
    "                \"type\": \"object\",\n",
    "                \"properties\": {\n",
    "                    \"amount\": {\n",
    "                        \"type\": \"integer\",\n",
    "                        \"description\": \"Number of enemies to scan.\",\n",
    "                    }\n",
    "                },\n",
    "                \"required\": [\"amount\"],\n",
    "            },\n",
    "        },\n",
    "        {\n",
    "            \"name\": \"inventoryscan_tool\",\n",
    "            \"description\": \"Retrieve a list of weapons the Doom Slayer has at hand.\",\n",
    "            \"input_schema\": {\"type\": \"object\", \"properties\": {}, \"required\": []},\n",
    "        },\n",
    "    ],\n",
    "    messages=initial_messages,\n",
    ")\n",
    "\n",
    "message = response.content[0].text\n",
    "print(message)"
   ]
  },
  {
   "cell_type": "markdown",
   "metadata": {},
   "source": [
    "Awesome! We can track all this information in the AgentOps dashboard by going to the session URL provided above. Now we will end the session with a success message. We can also end the session with a failure or intdeterminate status. By default, the session will be marked as indeterminate."
   ]
  },
  {
   "cell_type": "code",
   "execution_count": null,
   "metadata": {},
   "outputs": [],
   "source": [
    "agentops.end_session(\"Success\")"
   ]
  }
 ],
 "metadata": {
  "kaggle": {
   "accelerator": "none",
   "dataSources": [],
   "dockerImageVersionId": 30787,
   "isGpuEnabled": false,
   "isInternetEnabled": true,
   "language": "python",
   "sourceType": "notebook"
  },
  "kernelspec": {
   "display_name": "Python 3 (ipykernel)",
   "language": "python",
   "name": "python3"
  },
  "language_info": {
   "codemirror_mode": {
    "name": "ipython",
    "version": 3
   },
   "file_extension": ".py",
   "mimetype": "text/x-python",
   "name": "python",
   "nbconvert_exporter": "python",
   "pygments_lexer": "ipython3",
   "version": "3.11.5"
  }
 },
 "nbformat": 4,
 "nbformat_minor": 4
}
