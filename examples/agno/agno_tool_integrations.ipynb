{
 "cells": [
  {
   "cell_type": "raw",
   "metadata": {
    "vscode": {
     "languageId": "raw"
    }
   },
   "source": [
    "# Tool Integration with RAG (Retrieval-Augmented Generation)\n",
    "\n",
    "This notebook demonstrates how to build intelligent agents that can access and reason over external knowledge bases using RAG technology.\n",
    "\n",
    "## What is RAG?\n",
    "\n",
    "**Retrieval-Augmented Generation (RAG)** combines the power of large language models with the ability to retrieve information from external sources. Instead of relying solely on training data, RAG-enabled agents can:\n",
    "\n",
    "- Access up-to-date information from documents, websites, and databases\n",
    "- Provide accurate, source-backed responses\n",
    "- Reduce hallucinations by grounding answers in retrieved content\n",
    "- Scale to large knowledge bases without retraining\n",
    "\n",
    "## Key Components\n",
    "\n",
    "### 1. Knowledge Base\n",
    "- Loads content from URLs, documents, or databases\n",
    "- Processes and indexes information for efficient retrieval\n",
    "\n",
    "### 2. Vector Database\n",
    "- Stores document embeddings (numerical representations)\n",
    "- Enables semantic search based on meaning, not just keywords\n",
    "- Supports hybrid search combining semantic and keyword matching\n",
    "\n",
    "### 3. Embeddings & Reranking\n",
    "- **Embeddings**: Convert text to vectors for similarity comparison\n",
    "- **Reranking**: Improves search results by re-scoring them based on relevance\n",
    "\n",
    "### 4. Reasoning Tools\n",
    "- Enable step-by-step problem solving\n",
    "- Show transparent reasoning process\n",
    "- Combine retrieved information with logical thinking\n",
    "\n",
    "## Pre-requisites\n",
    "\n",
    "This demo requires three API keys:\n",
    "- **AgentOps API key** from [AgentOps](https://agentops.ai)\n",
    "- **OpenAI API key** from [OpenAI](https://openai.com)\n",
    "- **Cohere API key** from [Cohere](https://cohere.com) (for embeddings)\n",
    "\n",
    "Create a `.env` file:\n",
    "```\n",
    "AGENTOPS_API_KEY=your_agentops_key\n",
    "OPENAI_API_KEY=your_openai_key\n",
    "COHERE_API_KEY=your_cohere_key\n",
    "```\n"
   ]
  },
  {
   "cell_type": "raw",
   "metadata": {
    "vscode": {
     "languageId": "raw"
    }
   },
   "source": [
    "## Implementation Overview\n",
    "\n",
    "Let's build a RAG-enabled agent that can access documentation and provide informed responses with source citations.\n"
   ]
  },
  {
   "cell_type": "raw",
   "metadata": {
    "vscode": {
     "languageId": "raw"
    }
   },
   "source": [
    "### Import Core Libraries\n",
    "\n",
    "First, we'll import the basic libraries needed for our agent:\n"
   ]
  },
  {
   "cell_type": "code",
   "execution_count": null,
   "id": "c49901be",
   "metadata": {},
   "outputs": [],
   "source": [
    "import os\n",
    "from agno.agent import Agent\n",
    "from agno.team import Team\n",
    "from agno.models.openai import OpenAIChat\n",
    "import asyncio\n",
    "import agentops\n",
    "from dotenv import load_dotenv"
   ]
  },
  {
   "cell_type": "raw",
   "metadata": {
    "vscode": {
     "languageId": "raw"
    }
   },
   "source": [
    "### Import RAG Components\n",
    "\n",
    "Now let's import the specialized components for RAG functionality:\n"
   ]
  },
  {
   "cell_type": "code",
   "execution_count": null,
   "id": "a75c84fc",
   "metadata": {},
   "outputs": [],
   "source": [
    "# Knowledge and RAG components\n",
    "from agno.knowledge.url import UrlKnowledge  # For loading knowledge from URLs\n",
    "from agno.vectordb.lancedb import LanceDb  # Vector database for storing embeddings\n",
    "from agno.vectordb.search import SearchType  # Search strategies (hybrid, semantic, etc.)\n",
    "from agno.embedder.cohere import CohereEmbedder  # For creating text embeddings\n",
    "from agno.reranker.cohere import CohereReranker  # For improving search results\n",
    "from agno.tools.reasoning import ReasoningTools  # Advanced reasoning capabilities"
   ]
  },
  {
   "cell_type": "raw",
   "metadata": {
    "vscode": {
     "languageId": "raw"
    }
   },
   "source": [
    "### Environment Setup\n",
    "\n",
    "Load environment variables and initialize monitoring:\n"
   ]
  },
  {
   "cell_type": "code",
   "execution_count": null,
   "id": "ee6b59d8",
   "metadata": {},
   "outputs": [],
   "source": [
    "# Load environment variables\n",
    "load_dotenv()\n",
    "\n",
    "# Initialize AgentOps for monitoring\n",
    "agentops.init(api_key=os.getenv(\"AGENTOPS_API_KEY\"))\n",
    "\n",
    "# API keys and configuration\n",
    "cohere_api_key = os.getenv(\"COHERE_API_KEY\")  # Required for embeddings and reranking\n",
    "MODEL_ID = \"gpt-4o-mini\"  # Default model for agents"
   ]
  },
  {
   "cell_type": "raw",
   "id": "5bfac31e",
   "metadata": {
    "vscode": {
     "languageId": "raw"
    }
   },
   "source": [
    "## Environment Validation\n",
    "\n",
    "Before proceeding, let's ensure all required API keys are configured:\n"
   ]
  },
  {
   "cell_type": "code",
   "execution_count": null,
   "id": "f6923641",
   "metadata": {},
   "outputs": [],
   "source": [
    "def check_environment():\n",
    "    \"\"\"\n",
    "    Verify that all required API keys are properly configured.\n",
    "    \n",
    "    This demo requires:\n",
    "    - AGENTOPS_API_KEY: For monitoring agent behavior\n",
    "    - OPENAI_API_KEY: For the AI model\n",
    "    - COHERE_API_KEY: For embeddings and reranking\n",
    "    \n",
    "    Returns:\n",
    "        bool: True if all required environment variables are set\n",
    "    \"\"\"\n",
    "    required_vars = [\"AGENTOPS_API_KEY\", \"OPENAI_API_KEY\", \"COHERE_API_KEY\"]\n",
    "    missing_vars = [var for var in required_vars if not os.getenv(var)]\n",
    "\n",
    "    if missing_vars:\n",
    "        print(f\"Missing required environment variables: {missing_vars}\")\n",
    "        print(\"Please set these in your .env file or environment\")\n",
    "        print(\"\\nExample .env file:\")\n",
    "        print(\"AGENTOPS_API_KEY=your_agentops_key\")\n",
    "        print(\"OPENAI_API_KEY=your_openai_key\")\n",
    "        print(\"COHERE_API_KEY=your_cohere_key\")\n",
    "        return False\n",
    "\n",
    "    print(\"✓ Environment variables checked successfully\")\n",
    "    return True"
   ]
  },
  {
   "cell_type": "raw",
   "id": "2740686f",
   "metadata": {
    "vscode": {
     "languageId": "raw"
    }
   },
   "source": [
    "## Building a RAG-Enabled Agent\n",
    "\n",
    "The following function demonstrates the complete process of creating a RAG-enabled agent:\n",
    "\n",
    "### Step 1: Knowledge Base Creation\n",
    "We'll load documentation from a URL and prepare it for semantic search.\n",
    "\n",
    "### Step 2: Vector Database Setup\n",
    "Configure LanceDB with:\n",
    "- **Hybrid search**: Combines keyword and semantic search\n",
    "- **Cohere embeddings**: High-quality text representations\n",
    "- **Reranking**: Improves result relevance\n",
    "\n",
    "### Step 3: Agent Configuration\n",
    "Create an agent with:\n",
    "- Access to the knowledge base\n",
    "- On-demand search capabilities\n",
    "- Reasoning tools for complex queries\n",
    "- Instructions for proper citation\n"
   ]
  },
  {
   "cell_type": "code",
   "execution_count": null,
   "id": "01bc16c0",
   "metadata": {
    "lines_to_next_cell": 1
   },
   "outputs": [],
   "source": [
    "def demonstrate_tool_integration():\n",
    "    \"\"\"\n",
    "    Demonstrate advanced tool integration with RAG and knowledge bases.\n",
    "    \n",
    "    This function shows how to:\n",
    "    1. Create a knowledge base from external sources\n",
    "    2. Set up a vector database with embeddings\n",
    "    3. Configure an agent with RAG capabilities\n",
    "    4. Enable reasoning tools for complex problem-solving\n",
    "    \"\"\"\n",
    "    print(\"\\n\" + \"=\" * 60)\n",
    "    print(\"TOOL INTEGRATION WITH RAG (Retrieval-Augmented Generation)\")\n",
    "    print(\"=\" * 60)\n",
    "\n",
    "    try:\n",
    "        print(\"\\n1. Setting up knowledge base and vector database...\")\n",
    "        \n",
    "        # Create knowledge base from documentation URLs\n",
    "        # This loads content from the specified URLs and prepares it for RAG\n",
    "        knowledge_base = UrlKnowledge(\n",
    "            urls=[\"https://docs.agno.com/introduction/agents.md\"],  # Documentation to learn from\n",
    "            # Configure vector database for efficient semantic search\n",
    "            vector_db=LanceDb(\n",
    "                uri=\"tmp/lancedb\",  # Local storage path for the database\n",
    "                table_name=\"agno_docs\",  # Table to store document embeddings\n",
    "                search_type=SearchType.hybrid,  # Combines keyword and semantic search\n",
    "                # Embedder converts text to numerical vectors for similarity search\n",
    "                embedder=CohereEmbedder(\n",
    "                    id=\"embed-v4.0\",  # Cohere's embedding model\n",
    "                    api_key=cohere_api_key\n",
    "                ),\n",
    "                # Reranker improves search results by re-scoring them\n",
    "                reranker=CohereReranker(\n",
    "                    model=\"rerank-v3.5\",  # Cohere's reranking model\n",
    "                    api_key=cohere_api_key\n",
    "                ),\n",
    "            ),\n",
    "        )\n",
    "        print(\"   ✓ Knowledge base created from documentation\")\n",
    "        print(\"   ✓ Vector database configured with hybrid search\")\n",
    "\n",
    "        # Create an intelligent agent with RAG capabilities\n",
    "        print(\"\\n2. Creating RAG-enabled agent...\")\n",
    "        agent = Agent(\n",
    "            model=OpenAIChat(id=MODEL_ID),\n",
    "            # Agentic RAG is automatically enabled when knowledge is provided\n",
    "            knowledge=knowledge_base,\n",
    "            # Allow the agent to search its knowledge base on demand\n",
    "            search_knowledge=True,\n",
    "            # Add reasoning tools for step-by-step problem solving\n",
    "            tools=[ReasoningTools(add_instructions=True)],\n",
    "            # Custom instructions for how the agent should behave\n",
    "            instructions=[\n",
    "                \"Include sources in your response.\",  # Cite where information comes from\n",
    "                \"Always search your knowledge before answering the question.\",  # Use RAG first\n",
    "                \"Only include the output in your response. No other text.\",  # Clean responses\n",
    "            ],\n",
    "            markdown=True,  # Format responses in markdown\n",
    "        )\n",
    "        print(\"   ✓ Agent created with:\")\n",
    "        print(\"     - Knowledge base access\")\n",
    "        print(\"     - On-demand search capability\")\n",
    "        print(\"     - Reasoning tools\")\n",
    "        print(\"     - Source citation requirements\")\n",
    "\n",
    "        # Test the RAG agent with a question about its knowledge base\n",
    "        print(\"\\n3. Testing RAG agent with knowledge query...\")\n",
    "        print(\"   Question: 'What are Agents?'\")\n",
    "        print(\"\\n\" + \"-\" * 60)\n",
    "        \n",
    "        # Print response with full reasoning process visible\n",
    "        agent.print_response(\n",
    "            \"What are Agents?\",\n",
    "            show_full_reasoning=True,  # Shows how the agent searches and reasons\n",
    "        )\n",
    "        \n",
    "        print(\"\\n\" + \"-\" * 60)\n",
    "        print(\"✓ RAG demonstration completed\")\n",
    "        print(\"\\nNotice how the agent:\")\n",
    "        print(\"- Searched the knowledge base for relevant information\")\n",
    "        print(\"- Used reasoning tools to formulate the answer\")\n",
    "        print(\"- Included sources from the documentation\")\n",
    "\n",
    "    except Exception as e:\n",
    "        print(f\"\\nError during tool integration: {e}\")\n",
    "        print(\"This might be due to:\")\n",
    "        print(\"- Missing API keys (especially COHERE_API_KEY)\")\n",
    "        print(\"- Network issues accessing documentation URLs\")\n",
    "        print(\"- Vector database initialization problems\")"
   ]
  },
  {
   "cell_type": "raw",
   "id": "8495b685",
   "metadata": {
    "vscode": {
     "languageId": "raw"
    }
   },
   "source": [
    "## Main Orchestration Function\n",
    "\n",
    "The main function coordinates the entire demonstration:\n"
   ]
  },
  {
   "cell_type": "code",
   "execution_count": null,
   "id": "37692f77",
   "metadata": {},
   "outputs": [],
   "source": [
    "async def main():\n",
    "    \"\"\"\n",
    "    Main function that orchestrates the tool integration demonstration.\n",
    "    \n",
    "    This async function handles:\n",
    "    - Environment validation\n",
    "    - Running the RAG and tool integration demo\n",
    "    - Error handling and user feedback\n",
    "    \"\"\"\n",
    "    print(\"Welcome to Agno Tool Integration Demo\")\n",
    "    print(\"This demo showcases RAG (Retrieval-Augmented Generation)\")\n",
    "    print(\"and advanced tool integration capabilities.\")\n",
    "    print()\n",
    "    \n",
    "    # Validate environment setup\n",
    "    if not check_environment():\n",
    "        print(\"\\nCannot proceed without proper API configuration\")\n",
    "        print(\"Please obtain a Cohere API key from: https://cohere.com\")\n",
    "        return\n",
    "\n",
    "    # Run demonstration\n",
    "    print(\"\\nStarting tool integration demonstration...\")\n",
    "\n",
    "    try:\n",
    "        demonstrate_tool_integration()\n",
    "        print(\"\\n\\n✓ Tool integration demo completed successfully!\")\n",
    "        print(\"\\nKey Takeaways:\")\n",
    "        print(\"- RAG enables agents to access external knowledge bases\")\n",
    "        print(\"- Vector databases provide efficient semantic search\")\n",
    "        print(\"- Embeddings and reranking improve information retrieval\")\n",
    "        print(\"- Reasoning tools enhance problem-solving capabilities\")\n",
    "        print(\"- AgentOps tracks all tool usage and knowledge searches\")\n",
    "        \n",
    "    except Exception as e:\n",
    "        print(f\"Demo failed: {e}\")\n",
    "        print(\"Please check your API keys and network connection\")"
   ]
  },
  {
   "cell_type": "raw",
   "id": "87b383cf",
   "metadata": {
    "vscode": {
     "languageId": "raw"
    }
   },
   "source": [
    "## Execute the Demo\n",
    "\n",
    "Run the following cell to see RAG in action:\n"
   ]
  },
  {
   "cell_type": "code",
   "execution_count": null,
   "id": "095a7df6",
   "metadata": {},
   "outputs": [],
   "source": [
    "if __name__ == \"__main__\":\n",
    "    \"\"\"\n",
    "    Entry point for the script.\n",
    "    \n",
    "    Uses asyncio to run the main function, maintaining consistency\n",
    "    with other examples and preparing for async operations.\n",
    "    \"\"\"\n",
    "    asyncio.run(main())"
   ]
  }
 ],
 "metadata": {
  "jupytext": {
   "cell_metadata_filter": "-all",
   "main_language": "python",
   "notebook_metadata_filter": "-all"
  },
  "language_info": {
   "name": "python"
  }
 },
 "nbformat": 4,
 "nbformat_minor": 5
}
