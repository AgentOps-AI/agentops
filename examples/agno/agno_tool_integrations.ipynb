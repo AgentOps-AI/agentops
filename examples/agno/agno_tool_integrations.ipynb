{
 "cells": [
  {
   "cell_type": "markdown",
   "id": "813b80b7",
   "metadata": {},
   "source": [
    "\n",
    "# Tool Integration with RAG (Retrieval-Augmented Generation) in Agno\n",
    "\n",
    "This example demonstrates how to enhance Agno agents with RAG capabilities, allowing them to access and reason over external knowledge bases for more accurate and source-backed responses.\n",
    "\n",
    "**Overview**\n",
    "\n",
    "This example shows how to integrate RAG with Agno agents where we:\n",
    "\n",
    "1. **Set up a knowledge base** with documents, URLs, and other external sources\n",
    "2. **Configure vector databases** (like Pinecone, Weaviate, or ChromaDB) for efficient semantic search\n",
    "3. **Implement retrieval** using embeddings and reranking for accurate information access\n",
    "4. **Create RAG-enabled agents** that can search, retrieve, and reason over the knowledge base\n",
    "\n",
    "By using RAG, agents can provide responses backed by external sources rather than relying solely on their training data, significantly improving accuracy and verifiability of their outputs.\n",
    "\n",
    "RAG enables agents to access and reason over large knowledge bases,\n"
   ]
  },
  {
   "cell_type": "code",
   "execution_count": null,
   "id": "dfa7ae6b",
   "metadata": {},
   "outputs": [],
   "source": [
    "# Install the required dependencies:\n",
    "%pip install agentops\n",
    "%pip install agno\n",
    "%pip install python-dotenv"
   ]
  },
  {
   "cell_type": "code",
   "execution_count": null,
   "id": "208656e8",
   "metadata": {},
   "outputs": [],
   "source": [
    "import os\n",
    "from dotenv import load_dotenv\n",
    "\n",
    "import agentops\n",
    "from agno.agent import Agent\n",
    "from agno.models.openai import OpenAIChat\n",
    "\n",
    "# Knowledge & RAG components\n",
    "from agno.knowledge.url import UrlKnowledge\n",
    "from agno.vectordb.lancedb import LanceDb\n",
    "from agno.vectordb.search import SearchType\n",
    "from agno.embedder.cohere import CohereEmbedder\n",
    "from agno.reranker.cohere import CohereReranker\n",
    "from agno.tools.reasoning import ReasoningTools"
   ]
  },
  {
   "cell_type": "code",
   "execution_count": null,
   "id": "50eedd68",
   "metadata": {},
   "outputs": [],
   "source": [
    "# Load environment variables\n",
    "load_dotenv()\n",
    "os.environ[\"OPENAI_API_KEY\"] = os.getenv(\"OPENAI_API_KEY\", \"your_openai_api_key_here\")\n",
    "os.environ[\"AGENTOPS_API_KEY\"] = os.getenv(\"AGENTOPS_API_KEY\", \"your_agentops_api_key_here\")\n",
    "os.environ[\"COHERE_API_KEY\"] = os.getenv(\"COHERE_API_KEY\")"
   ]
  },
  {
   "cell_type": "code",
   "execution_count": null,
   "id": "51235ba1",
   "metadata": {},
   "outputs": [],
   "source": [
    "# Initialize AgentOps for monitoring\n",
    "agentops.init(auto_start_session=False, tags=[\"agno-example\", \"tool-integrations\"])"
   ]
  },
  {
   "cell_type": "code",
   "execution_count": 28,
   "id": "24da7b0b",
   "metadata": {},
   "outputs": [],
   "source": [
    "def demonstrate_tool_integration():\n",
    "    \"\"\"\n",
    "    Demonstrate advanced tool integration with RAG and knowledge bases.\n",
    "\n",
    "    This function shows how to:\n",
    "    1. Create a knowledge base from external sources\n",
    "    2. Set up a vector database with embeddings\n",
    "    3. Configure an agent with RAG capabilities\n",
    "    4. Enable reasoning tools for complex problem-solving\n",
    "    \"\"\"\n",
    "    tracer = agentops.start_trace(trace_name=\"Agno Tool Integration Demonstration\")\n",
    "    try:\n",
    "        # Create knowledge base from documentation URLs\n",
    "        # This loads content from the specified URLs and prepares it for RAG\n",
    "        knowledge_base = UrlKnowledge(\n",
    "            urls=[\"https://docs.agno.com/introduction/agents.md\"],\n",
    "            vector_db=LanceDb(\n",
    "                uri=\"tmp/lancedb\",\n",
    "                table_name=\"agno_docs\",\n",
    "                search_type=SearchType.hybrid,\n",
    "                embedder=CohereEmbedder(\n",
    "                    id=\"embed-v4.0\",\n",
    "         \n",
    "                ),\n",
    "                reranker=CohereReranker(\n",
    "                    model=\"rerank-v3.5\",\n",
    "                \n",
    "                ),\n",
    "            ),\n",
    "        )\n",
    "\n",
    "        # Create an intelligent agent with RAG capabilities\n",
    "        agent = Agent(\n",
    "            model=OpenAIChat(id=\"gpt-4o-mini\"),\n",
    "            knowledge=knowledge_base,\n",
    "            search_knowledge=True,\n",
    "            tools=[ReasoningTools(add_instructions=True)],\n",
    "            instructions=[\n",
    "                \"Include sources in your response.\",\n",
    "                \"Always search your knowledge before answering the question.\",\n",
    "                \"Only include the output in your response. No other text.\",\n",
    "            ],\n",
    "        )\n",
    "\n",
    "        # Print response with full reasoning process visible\n",
    "        agent.print_response(\n",
    "            \"What are Agents?\",\n",
    "            show_full_reasoning=True,\n",
    "        )\n",
    "        agentops.end_trace(tracer, end_state=\"Success\")\n",
    "    except Exception:\n",
    "        agentops.end_trace(tracer, end_state=\"Error\")"
   ]
  },
  {
   "cell_type": "code",
   "execution_count": null,
   "id": "3cd3e2dc",
   "metadata": {},
   "outputs": [],
   "source": [
    "\n",
    "demonstrate_tool_integration()"
   ]
  }
 ],
 "metadata": {
  "jupytext": {
   "cell_metadata_filter": "-all",
   "main_language": "python",
   "notebook_metadata_filter": "-all"
  },
  "language_info": {
   "name": "python"
  }
 },
 "nbformat": 4,
 "nbformat_minor": 5
}
