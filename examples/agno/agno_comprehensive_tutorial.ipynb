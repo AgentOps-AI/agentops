{
 "cells": [
  {
   "cell_type": "raw",
   "metadata": {
    "vscode": {
     "languageId": "raw"
    }
   },
   "source": [
    "# Agno Framework Comprehensive Tutorial with AgentOps\n",
    "\n",
    "This tutorial demonstrates the powerful capabilities of the Agno framework for building AI agents and teams. Agno provides a flexible and intuitive way to create intelligent agents that can collaborate, use tools, and perform complex tasks.\n",
    "\n",
    "## What You'll Learn\n",
    "\n",
    "1. **Basic Agents and Teams** - Creating individual agents and coordinating them in teams\n",
    "2. **Tool Integration with RAG** - Integrating tools and knowledge bases for enhanced capabilities\n",
    "3. **Workflows with Caching** - Building efficient workflows with state management\n",
    "4. **Collaborative Research Teams** - Creating specialized agents that work together\n",
    "5. **Async Operations** - Running agents asynchronously for better performance\n",
    "\n",
    "Throughout this tutorial, AgentOps will track all agent activities, providing detailed insights into your AI system's behavior.\n"
   ]
  },
  {
   "cell_type": "raw",
   "metadata": {
    "vscode": {
     "languageId": "raw"
    }
   },
   "source": [
    "## Getting Started\n",
    "\n",
    "First, let's import the necessary libraries and set up our environment. We'll need Agno for building agents and AgentOps for monitoring and tracking.\n"
   ]
  },
  {
   "cell_type": "code",
   "execution_count": null,
   "id": "afacf485",
   "metadata": {},
   "outputs": [],
   "source": [
    "import os\n",
    "import asyncio\n",
    "from typing import Iterator\n",
    "from textwrap import dedent\n",
    "from dotenv import load_dotenv"
   ]
  },
  {
   "cell_type": "code",
   "execution_count": null,
   "id": "376e56d8",
   "metadata": {},
   "outputs": [],
   "source": [
    "# Load environment variables\n",
    "load_dotenv()"
   ]
  },
  {
   "cell_type": "raw",
   "metadata": {
    "vscode": {
     "languageId": "raw"
    }
   },
   "source": [
    "## Environment Setup\n",
    "\n",
    "Now we'll load environment variables and import the Agno framework components. The order of imports is important - we import agno first to ensure proper instrumentation, then import specific classes we'll use.\n"
   ]
  },
  {
   "cell_type": "code",
   "execution_count": null,
   "id": "f8fb8c25",
   "metadata": {},
   "outputs": [],
   "source": [
    "# Now import agno to trigger instrumentation, then import specific classes\n",
    "from agno.agent import Agent, RunResponse \n",
    "from agno.team import Team  \n",
    "from agno.models.openai import OpenAIChat  \n",
    "from agno.workflow import Workflow  \n",
    "from agno.tools.duckduckgo import DuckDuckGoTools \n",
    "from agno.tools.hackernews import HackerNewsTools \n",
    "from agno.tools.reasoning import ReasoningTools  \n",
    "from agno.tools.arxiv import ArxivTools  \n",
    "from agno.tools.googlesearch import GoogleSearchTools  \n",
    "from agno.knowledge.url import UrlKnowledge  \n",
    "from agno.utils.pprint import pprint_run_response \n",
    "from agno.utils.log import logger  \n",
    "from agno.vectordb.lancedb import LanceDb  \n",
    "from agno.vectordb.search import SearchType  \n",
    "from agno.embedder.cohere import CohereEmbedder \n",
    "from agno.reranker.cohere import CohereReranker\n",
    "import agentops  \n",
    "  "
   ]
  },
  {
   "cell_type": "raw",
   "id": "c8b9232b",
   "metadata": {
    "vscode": {
     "languageId": "raw"
    }
   },
   "source": [
    "## Initialize AgentOps\n",
    "\n",
    "Let's initialize AgentOps to start tracking our agent activities. Make sure you have your AGENTOPS_API_KEY set in your environment variables.\n"
   ]
  },
  {
   "cell_type": "code",
   "execution_count": null,
   "id": "13c47f0c",
   "metadata": {},
   "outputs": [],
   "source": [
    "agentops.init(api_key=os.getenv(\"AGENTOPS_API_KEY\"))\n",
    "# Sample configuration\n",
    "MODEL_ID = \"gpt-4o-mini\""
   ]
  },
  {
   "cell_type": "code",
   "execution_count": null,
   "id": "129c88ab",
   "metadata": {},
   "outputs": [],
   "source": [
    "def check_environment():\n",
    "    \"\"\"Check if required environment variables are set.\"\"\"\n",
    "    required_vars = [\"AGENTOPS_API_KEY\", \"OPENAI_API_KEY\"]\n",
    "    missing_vars = [var for var in required_vars if not os.getenv(var)]\n",
    "\n",
    "    if missing_vars:\n",
    "        print(f\"Missing required environment variables: {missing_vars}\")\n",
    "        print(\"Please set these in your .env file or environment\")\n",
    "        return False\n",
    "\n",
    "    print(\"Environment variables checked successfully\")\n",
    "    return True"
   ]
  },
  {
   "cell_type": "raw",
   "id": "eb9628b8",
   "metadata": {
    "vscode": {
     "languageId": "raw"
    }
   },
   "source": [
    "## 1. Basic Agents and Teams\n",
    "\n",
    "Let's start with the fundamentals - creating individual agents and organizing them into teams. In Agno, agents are AI-powered entities with specific roles, and teams coordinate multiple agents to accomplish complex tasks.\n",
    "\n",
    "### Key Concepts:\n",
    "- **Agent**: An individual AI entity with a specific role and model\n",
    "- **Team**: A group of agents that can work together in different modes\n",
    "- **Coordination Mode**: How agents interact (e.g., 'coordinate' mode)\n"
   ]
  },
  {
   "cell_type": "code",
   "execution_count": null,
   "id": "ccf4268c",
   "metadata": {},
   "outputs": [],
   "source": [
    "def demonstrate_basic_agents():\n",
    "    \"\"\"Demonstrate basic agent creation and team coordination.\"\"\"\n",
    "    print(\"\\n\" + \"=\" * 60)\n",
    "    print(\"BASIC AGENTS AND TEAMS\")\n",
    "    print(\"=\" * 60)\n",
    "\n",
    "    try:\n",
    "        # Create individual agents\n",
    "        news_agent = Agent(name=\"News Agent\", role=\"Get the latest news\", model=OpenAIChat(id=MODEL_ID))\n",
    "\n",
    "        weather_agent = Agent(\n",
    "            name=\"Weather Agent\", role=\"Get the weather for the next 7 days\", model=OpenAIChat(id=MODEL_ID)\n",
    "        )\n",
    "\n",
    "        # Create a team with coordination mode\n",
    "        team = Team(name=\"News and Weather Team\", mode=\"coordinate\", members=[news_agent, weather_agent])\n",
    "\n",
    "        # Run team task\n",
    "        response = team.run(\"What is the weather in Tokyo?\")\n",
    "        print(f\"Team Response: {response.content}\")\n",
    "\n",
    "    except Exception as e:\n",
    "        print(f\"Basic agents error: {e}\")"
   ]
  },
  {
   "cell_type": "raw",
   "id": "4f7feccc",
   "metadata": {
    "vscode": {
     "languageId": "raw"
    }
   },
   "source": [
    "## 2. Tool Integration with RAG (Retrieval-Augmented Generation)\n",
    "\n",
    "One of Agno's most powerful features is the ability to integrate tools and knowledge bases. This example shows how to create an agent with:\n",
    "- **Knowledge Base**: Using URLs as sources of information\n",
    "- **Vector Database**: LanceDB for efficient similarity search\n",
    "- **Embeddings**: Cohere embeddings for semantic understanding\n",
    "- **Reranking**: Improving search results with Cohere reranker\n",
    "- **Reasoning Tools**: Adding logical reasoning capabilities\n",
    "\n",
    "This creates an agent that can search through documentation and provide informed answers with sources.\n"
   ]
  },
  {
   "cell_type": "code",
   "execution_count": null,
   "id": "3ff48560",
   "metadata": {},
   "outputs": [],
   "source": [
    "def demonstrate_tool_integration():\n",
    "    \"\"\"Demonstrate tool integration with RAG and knowledge base.\"\"\"\n",
    "    print(\"\\n\" + \"=\" * 60)\n",
    "    print(\"TOOL INTEGRATION WITH RAG\")\n",
    "    print(\"=\" * 60)\n",
    "\n",
    "    try:\n",
    "        # Create knowledge base with vector database\n",
    "        knowledge_base = UrlKnowledge(\n",
    "            urls=[\"https://docs.agno.com/introduction/agents.md\"],\n",
    "            # Use LanceDB as the vector database, store embeddings in the `agno_docs` table\n",
    "            vector_db=LanceDb(\n",
    "                uri=\"tmp/lancedb\",\n",
    "                table_name=\"agno_docs\",\n",
    "                search_type=SearchType.hybrid,\n",
    "                embedder=CohereEmbedder(id=\"embed-v4.0\"),  # noqa: E821\n",
    "                reranker=CohereReranker(model=\"rerank-v3.5\"),  # noqa: E821\n",
    "            ),  # noqa: E821\n",
    "        )\n",
    "\n",
    "        # Create agent with knowledge and reasoning tools\n",
    "        agent = Agent(\n",
    "            model=OpenAIChat(id=MODEL_ID),\n",
    "            # Agentic RAG is enabled by default when `knowledge` is provided to the Agent.\n",
    "            knowledge=knowledge_base,\n",
    "            # search_knowledge=True gives the Agent the ability to search on demand\n",
    "            search_knowledge=True,\n",
    "            tools=[ReasoningTools(add_instructions=True)],\n",
    "            instructions=[\n",
    "                \"Include sources in your response.\",\n",
    "                \"Always search your knowledge before answering the question.\",\n",
    "                \"Only include the output in your response. No other text.\",\n",
    "            ],\n",
    "            markdown=True,\n",
    "        )\n",
    "\n",
    "        print(\"Running RAG agent with knowledge base...\")\n",
    "        agent.print_response(\n",
    "            \"What are Agents?\",\n",
    "            show_full_reasoning=True,\n",
    "        )\n",
    "\n",
    "    except Exception as e:\n",
    "        print(f\"Tool integration error: {e}\")"
   ]
  },
  {
   "cell_type": "raw",
   "metadata": {
    "vscode": {
     "languageId": "raw"
    }
   },
   "source": [
    "## 3. Workflows with Caching\n",
    "\n",
    "Workflows in Agno allow you to create reusable, stateful processes. This example demonstrates a caching workflow that:\n",
    "- Stores previous responses in session state\n",
    "- Checks cache before running expensive operations\n",
    "- Yields responses in a streaming fashion\n",
    "- Improves performance by avoiding redundant computations\n",
    "\n",
    "This is particularly useful for applications where users might ask similar questions repeatedly.\n"
   ]
  },
  {
   "cell_type": "code",
   "execution_count": null,
   "id": "b4408138",
   "metadata": {},
   "outputs": [],
   "source": [
    "class CacheWorkflow(Workflow):\n",
    "    \"\"\"A workflow that demonstrates caching capabilities.\"\"\"\n",
    "\n",
    "    # Purely descriptive, not used by the workflow\n",
    "    description: str = \"A workflow that caches previous outputs\"\n",
    "\n",
    "    # Add agents or teams as attributes on the workflow\n",
    "    agent = Agent(model=OpenAIChat(id=MODEL_ID))\n",
    "\n",
    "    # Write the logic in the `run()` method\n",
    "    def run(self, message: str) -> Iterator[RunResponse]:\n",
    "        logger.info(f\"Checking cache for '{message}'\")\n",
    "        # Check if the output is already cached\n",
    "        if self.session_state.get(message):\n",
    "            logger.info(f\"Cache hit for '{message}'\")\n",
    "            yield RunResponse(run_id=self.run_id, content=self.session_state.get(message))\n",
    "            return\n",
    "\n",
    "        logger.info(f\"Cache miss for '{message}'\")\n",
    "        # Run the agent and yield the response\n",
    "        yield from self.agent.run(message, stream=True)\n",
    "\n",
    "        # Cache the output after response is yielded\n",
    "        self.session_state[message] = self.agent.run_response.content"
   ]
  },
  {
   "cell_type": "code",
   "execution_count": null,
   "id": "2f8e1e6c",
   "metadata": {},
   "outputs": [],
   "source": [
    "def demonstrate_workflows():\n",
    "    \"\"\"Demonstrate workflow capabilities with caching.\"\"\"\n",
    "    print(\"\\n\" + \"=\" * 60)\n",
    "    print(\"WORKFLOWS WITH CACHING\")\n",
    "    print(\"=\" * 60)\n",
    "\n",
    "    try:\n",
    "        workflow = CacheWorkflow()\n",
    "\n",
    "        print(\"First run (cache miss):\")\n",
    "        # Run workflow (this takes ~1s)\n",
    "        response: Iterator[RunResponse] = workflow.run(message=\"Tell me a joke.\")\n",
    "        # Print the response\n",
    "        pprint_run_response(response, markdown=True, show_time=True)\n",
    "\n",
    "        print(\"\\nSecond run (cache hit):\")\n",
    "        # Run workflow again (this is immediate because of caching)\n",
    "        response: Iterator[RunResponse] = workflow.run(message=\"Tell me a joke.\")\n",
    "        # Print the response\n",
    "        pprint_run_response(response, markdown=True, show_time=True)\n",
    "\n",
    "    except Exception as e:\n",
    "        print(f\"Workflow error: {e}\")"
   ]
  },
  {
   "cell_type": "raw",
   "metadata": {
    "vscode": {
     "languageId": "raw"
    }
   },
   "source": [
    "## 4. Collaborative Research Teams\n",
    "\n",
    "This is where Agno truly shines - creating teams of specialized agents that collaborate to solve complex problems. In this example, we create:\n",
    "\n",
    "### Specialized Agents:\n",
    "- **Reddit Researcher**: Searches Reddit for community discussions\n",
    "- **HackerNews Researcher**: Finds technical discussions on HackerNews\n",
    "- **Academic Paper Researcher**: Searches scholarly articles and papers\n",
    "- **Twitter Researcher**: Tracks real-time discussions and trends\n",
    "\n",
    "### Team Configuration:\n",
    "- **Collaborate Mode**: Agents work together and discuss findings\n",
    "- **Discussion Master**: The team lead that manages the conversation\n",
    "- **Success Criteria**: Defines when the team has reached consensus\n",
    "- **Agentic Context**: Agents maintain context throughout the discussion\n",
    "\n",
    "This demonstrates how multiple AI agents can work together like a human research team!\n"
   ]
  },
  {
   "cell_type": "code",
   "execution_count": null,
   "id": "db870fdb",
   "metadata": {},
   "outputs": [],
   "source": [
    "def demonstrate_research_team():\n",
    "    \"\"\"Demonstrate collaborative research team with multiple specialized agents.\"\"\"\n",
    "    print(\"\\n\" + \"=\" * 60)\n",
    "    print(\"COLLABORATIVE RESEARCH TEAM\")\n",
    "    print(\"=\" * 60)\n",
    "\n",
    "    try:\n",
    "        # Create specialized research agents\n",
    "        reddit_researcher = Agent(\n",
    "            name=\"Reddit Researcher\",\n",
    "            role=\"Research a topic on Reddit\",\n",
    "            model=OpenAIChat(id=\"gpt-4o\"),\n",
    "            tools=[GoogleSearchTools()],\n",
    "            add_name_to_instructions=True,\n",
    "            instructions=dedent(\n",
    "                \"\"\"\n",
    "                You are a Reddit researcher.\n",
    "                You will be given a topic to research on Reddit.\n",
    "                You will need to find the most relevant posts on Reddit.\n",
    "            \"\"\"\n",
    "            ),\n",
    "        )\n",
    "\n",
    "        hackernews_researcher = Agent(\n",
    "            name=\"HackerNews Researcher\",\n",
    "            model=OpenAIChat(\"gpt-4o\"),\n",
    "            role=\"Research a topic on HackerNews.\",\n",
    "            tools=[HackerNewsTools()],\n",
    "            add_name_to_instructions=True,\n",
    "            instructions=dedent(\n",
    "                \"\"\"\n",
    "                You are a HackerNews researcher.\n",
    "                You will be given a topic to research on HackerNews.\n",
    "                You will need to find the most relevant posts on HackerNews.\n",
    "            \"\"\"\n",
    "            ),\n",
    "        )\n",
    "\n",
    "        academic_paper_researcher = Agent(\n",
    "            name=\"Academic Paper Researcher\",\n",
    "            model=OpenAIChat(\"gpt-4o\"),\n",
    "            role=\"Research academic papers and scholarly content\",\n",
    "            tools=[GoogleSearchTools(), ArxivTools()],\n",
    "            add_name_to_instructions=True,\n",
    "            instructions=dedent(\n",
    "                \"\"\"\n",
    "                You are an academic paper researcher.\n",
    "                You will be given a topic to research in academic literature.\n",
    "                You will need to find relevant scholarly articles, papers, and academic discussions.\n",
    "                Focus on peer-reviewed content and citations from reputable sources.\n",
    "                Provide brief summaries of key findings and methodologies.\n",
    "            \"\"\"\n",
    "            ),\n",
    "        )\n",
    "\n",
    "        twitter_researcher = Agent(\n",
    "            name=\"Twitter Researcher\",\n",
    "            model=OpenAIChat(\"gpt-4o\"),\n",
    "            role=\"Research trending discussions and real-time updates\",\n",
    "            tools=[DuckDuckGoTools()],\n",
    "            add_name_to_instructions=True,\n",
    "            instructions=dedent(\n",
    "                \"\"\"\n",
    "                You are a Twitter/X researcher.\n",
    "                You will be given a topic to research on Twitter/X.\n",
    "                You will need to find trending discussions, influential voices, and real-time updates.\n",
    "                Focus on verified accounts and credible sources when possible.\n",
    "                Track relevant hashtags and ongoing conversations.\n",
    "            \"\"\"\n",
    "            ),\n",
    "        )\n",
    "\n",
    "        # Create collaborative team\n",
    "        agent_team = Team(\n",
    "            name=\"Discussion Team\",\n",
    "            mode=\"collaborate\",\n",
    "            model=OpenAIChat(\"gpt-4o\"),\n",
    "            members=[\n",
    "                reddit_researcher,\n",
    "                hackernews_researcher,\n",
    "                academic_paper_researcher,\n",
    "                twitter_researcher,\n",
    "            ],\n",
    "            instructions=[\n",
    "                \"You are a discussion master.\",\n",
    "                \"You have to stop the discussion when you think the team has reached a consensus.\",\n",
    "            ],\n",
    "            success_criteria=\"The team has reached a consensus.\",\n",
    "            enable_agentic_context=True,\n",
    "            add_context=True,\n",
    "            show_tool_calls=True,\n",
    "            markdown=True,\n",
    "            debug_mode=True,\n",
    "            show_members_responses=True,\n",
    "        )\n",
    "\n",
    "        print(\"Running collaborative research team...\")\n",
    "        agent_team.print_response(\n",
    "            message=\"Start the discussion on the topic: 'What is the best way to learn to code?'\",\n",
    "            stream=True,\n",
    "            stream_intermediate_steps=True,\n",
    "        )\n",
    "\n",
    "    except Exception as e:\n",
    "        print(f\"Research team error: {e}\")"
   ]
  },
  {
   "cell_type": "raw",
   "id": "72f38f42",
   "metadata": {
    "vscode": {
     "languageId": "raw"
    }
   },
   "source": [
    "## 5. Async Operations\n",
    "\n",
    "Modern applications often need to run multiple AI tasks concurrently. Agno supports async operations out of the box, allowing you to:\n",
    "- Run multiple agent tasks in parallel\n",
    "- Improve response times for complex queries\n",
    "- Handle multiple user requests simultaneously\n",
    "- Build scalable AI applications\n",
    "\n",
    "This example shows how to run three different agent tasks concurrently using Python's asyncio.\n"
   ]
  },
  {
   "cell_type": "code",
   "execution_count": null,
   "id": "17e09033",
   "metadata": {},
   "outputs": [],
   "source": [
    "async def demonstrate_async_operations():\n",
    "    \"\"\"Demonstrate async operations with Agno agents.\"\"\"\n",
    "    print(\"\\n\" + \"=\" * 60)\n",
    "    print(\"ASYNC OPERATIONS\")\n",
    "    print(\"=\" * 60)\n",
    "\n",
    "    try:\n",
    "        # Create async tasks with different agents\n",
    "        agent = Agent(model=OpenAIChat(id=MODEL_ID))\n",
    "\n",
    "        # Define async tasks\n",
    "        async def task1():\n",
    "            response = await agent.arun(\"Explain Python in one paragraph\")\n",
    "            return f\"Task 1: {response.content}\"\n",
    "\n",
    "        async def task2():\n",
    "            response = await agent.arun(\"Explain JavaScript in one paragraph\")\n",
    "            return f\"Task 2: {response.content}\"\n",
    "\n",
    "        async def task3():\n",
    "            response = await agent.arun(\"Compare them briefly\")\n",
    "            return f\"Task 3: {response.content}\"\n",
    "\n",
    "        # Run tasks concurrently\n",
    "        print(\"Running async tasks concurrently...\")\n",
    "        results = await asyncio.gather(task1(), task2(), task3())\n",
    "\n",
    "        for result in results:\n",
    "            print(result)\n",
    "            print()\n",
    "\n",
    "    except Exception as e:\n",
    "        print(f\"Async operations error: {e}\")"
   ]
  },
  {
   "cell_type": "raw",
   "id": "0df119bd",
   "metadata": {
    "vscode": {
     "languageId": "raw"
    }
   },
   "source": [
    "## Running the Complete Tutorial\n",
    "\n",
    "The main function orchestrates all the demonstrations, showing how different Agno features work together. Each section is wrapped in error handling to ensure the tutorial continues even if one section encounters issues.\n",
    "\n",
    "### What Happens When You Run This:\n",
    "1. Environment variables are checked\n",
    "2. AgentOps begins tracking all agent activities\n",
    "3. Each demonstration runs in sequence\n",
    "4. Results are displayed in the console\n",
    "5. All activities are logged to your AgentOps dashboard\n",
    "\n",
    "### Viewing Results in AgentOps:\n",
    "After running this tutorial, visit your AgentOps dashboard to see:\n",
    "- Agent conversation traces\n",
    "- Tool usage analytics\n",
    "- Performance metrics\n",
    "- Error tracking\n",
    "- Team collaboration patterns\n"
   ]
  },
  {
   "cell_type": "code",
   "execution_count": null,
   "id": "b617da0c",
   "metadata": {},
   "outputs": [],
   "source": [
    "async def main():\n",
    "    \"\"\"Main function to run all Agno demonstrations.\"\"\"\n",
    "    print(\"Starting Comprehensive Agno Example with AgentOps\")\n",
    "    print(\"=\" * 80)\n",
    "\n",
    "    # Check environment\n",
    "    if not check_environment():\n",
    "        return\n",
    "\n",
    "    # Run all demonstrations\n",
    "    print(\"\\nRunning all Agno demonstrations...\")\n",
    "\n",
    "    # Research teams\n",
    "    try:\n",
    "        demonstrate_research_team()\n",
    "    except Exception as e:\n",
    "        print(f\"Skipping research team demo due to: {e}\")\n",
    "\n",
    "    # Basic functionality\n",
    "    demonstrate_basic_agents()\n",
    "\n",
    "    # Tool integration\n",
    "    try:\n",
    "        demonstrate_tool_integration()\n",
    "    except Exception as e:\n",
    "        print(f\"Skipping tool integration demo due to: {e}\")\n",
    "\n",
    "    # Workflows\n",
    "    try:\n",
    "        demonstrate_workflows()\n",
    "    except Exception as e:\n",
    "        print(f\"Skipping workflow demo due to: {e}\")\n",
    "\n",
    "    # Async operations\n",
    "    try:\n",
    "        await demonstrate_async_operations()\n",
    "    except Exception as e:\n",
    "        print(f\"Skipping async demo due to: {e}\")\n",
    "\n",
    "    print(\"\\nAll Agno demonstrations completed!\")\n",
    "    print(\"Check your AgentOps dashboard for detailed traces and metrics.\")"
   ]
  },
  {
   "cell_type": "code",
   "execution_count": null,
   "id": "5da195a4",
   "metadata": {},
   "outputs": [],
   "source": [
    "if __name__ == \"__main__\":\n",
    "    asyncio.run(main())"
   ]
  },
  {
   "cell_type": "raw",
   "metadata": {
    "vscode": {
     "languageId": "raw"
    }
   },
   "source": [
    "## Summary and Next Steps\n",
    "\n",
    "Congratulations! You've explored the key features of the Agno framework:\n",
    "\n",
    "### What We Covered:\n",
    "- ✅ Creating and coordinating basic agents and teams\n",
    "- ✅ Integrating tools and knowledge bases with RAG\n",
    "- ✅ Building efficient workflows with caching\n",
    "- ✅ Creating collaborative research teams with specialized agents\n",
    "- ✅ Running agents asynchronously for better performance\n",
    "\n",
    "### Next Steps:\n",
    "1. **Experiment with Different Models**: Try using different LLMs (GPT-4, Claude, etc.)\n",
    "2. **Add More Tools**: Explore Agno's extensive tool library\n",
    "3. **Build Custom Workflows**: Create workflows for your specific use cases\n",
    "4. **Scale Your Teams**: Add more agents with specialized roles\n",
    "5. **Monitor with AgentOps**: Use the dashboard to optimize your agents\n",
    "\n",
    "### Resources:\n",
    "- [Agno Documentation](https://docs.agno.com)\n",
    "- [AgentOps Dashboard](https://app.agentops.ai)\n",
    "- [More Examples](https://github.com/agno-ai/agno/tree/main/examples)\n",
    "\n",
    "Happy building with Agno! 🚀\n"
   ]
  }
 ],
 "metadata": {
  "jupytext": {
   "cell_metadata_filter": "-all",
   "main_language": "python",
   "notebook_metadata_filter": "-all"
  },
  "language_info": {
   "name": "python"
  }
 },
 "nbformat": 4,
 "nbformat_minor": 5
}
