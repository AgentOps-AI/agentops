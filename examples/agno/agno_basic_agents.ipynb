{
 "cells": [
  {
   "cell_type": "raw",
   "metadata": {
    "vscode": {
     "languageId": "raw"
    }
   },
   "source": [
    "# Basic Agents and Teams with Agno\n",
    "\n",
    "This notebook demonstrates the fundamentals of creating AI agents and organizing them into collaborative teams using the Agno framework.\n",
    "\n",
    "## Overview\n",
    "\n",
    "In this example, you'll learn how to:\n",
    "- **Create specialized AI agents** with specific roles and expertise\n",
    "- **Organize agents into teams** for collaborative problem-solving\n",
    "- **Use coordination modes** for effective agent communication\n",
    "- **Monitor agent interactions** with AgentOps integration\n",
    "\n",
    "## Key Concepts\n",
    "\n",
    "### Agents\n",
    "Individual AI entities with specific roles and capabilities. Each agent can be assigned a particular area of expertise, making them specialists in their domain.\n",
    "\n",
    "### Teams\n",
    "Collections of agents that work together to solve complex tasks. Teams can coordinate their responses, share information, and delegate tasks based on each agent's expertise.\n",
    "\n",
    "### Coordination Modes\n",
    "Different strategies for how agents within a team interact and collaborate. The \"coordinate\" mode enables intelligent task routing and information sharing.\n",
    "\n",
    "## Pre-requisites\n",
    "\n",
    "Before running this notebook, ensure you have:\n",
    "- **AgentOps API key** from [AgentOps](https://agentops.ai)\n",
    "- **OpenAI API key** from [OpenAI](https://openai.com)\n",
    "\n",
    "Create a `.env` file in your project root with:\n",
    "```\n",
    "AGENTOPS_API_KEY=your_agentops_key_here\n",
    "OPENAI_API_KEY=your_openai_key_here\n",
    "```\n"
   ]
  },
  {
   "cell_type": "raw",
   "metadata": {
    "vscode": {
     "languageId": "raw"
    }
   },
   "source": [
    "## Implementation\n",
    "\n",
    "Let's start by importing the necessary libraries and setting up our environment.\n"
   ]
  },
  {
   "cell_type": "code",
   "execution_count": null,
   "id": "39ad00cb",
   "metadata": {},
   "outputs": [],
   "source": [
    "import os\n",
    "from agno.agent import Agent\n",
    "from agno.team import Team\n",
    "from agno.models.openai import OpenAIChat\n",
    "import asyncio\n",
    "import agentops\n",
    "from dotenv import load_dotenv\n",
    "\n",
    "# Load environment variables from .env file\n",
    "load_dotenv()\n",
    "\n",
    "# Initialize AgentOps for monitoring and analytics\n",
    "agentops.init(api_key=os.getenv(\"AGENTOPS_API_KEY\"))\n",
    "\n",
    "# Configuration\n",
    "MODEL_ID = \"gpt-4o-mini\"  "
   ]
  },
  {
   "cell_type": "raw",
   "metadata": {
    "vscode": {
     "languageId": "raw"
    }
   },
   "source": [
    "## Environment Validation\n",
    "\n",
    "Before we create our agents, let's ensure all required API keys are properly configured:\n"
   ]
  },
  {
   "cell_type": "code",
   "execution_count": null,
   "id": "439ff736",
   "metadata": {},
   "outputs": [],
   "source": [
    "def check_environment():\n",
    "    \"\"\"\n",
    "    Verify that all required API keys are properly configured.\n",
    "    \n",
    "    Returns:\n",
    "        bool: True if all required environment variables are set\n",
    "    \"\"\"\n",
    "    required_vars = [\"AGENTOPS_API_KEY\", \"OPENAI_API_KEY\"]\n",
    "    missing_vars = [var for var in required_vars if not os.getenv(var)]\n",
    "\n",
    "    if missing_vars:\n",
    "        print(f\"Missing required environment variables: {missing_vars}\")\n",
    "        print(\"Please set these in your .env file or environment\")\n",
    "        return False\n",
    "\n",
    "    print(\"✓ Environment variables checked successfully\")\n",
    "    return True"
   ]
  },
  {
   "cell_type": "raw",
   "metadata": {
    "vscode": {
     "languageId": "raw"
    }
   },
   "source": [
    "## Creating Agents and Teams\n",
    "\n",
    "Now let's create our specialized agents and organize them into a collaborative team:\n",
    "\n",
    "### Step 1: Create Individual Agents\n",
    "We'll create two agents with different specializations:\n",
    "- **News Agent**: Specializes in gathering and analyzing news\n",
    "- **Weather Agent**: Specializes in weather forecasting and analysis\n",
    "\n",
    "### Step 2: Form a Team\n",
    "We'll combine these agents into a team using the \"coordinate\" mode, which enables:\n",
    "- Intelligent task routing based on agent expertise\n",
    "- Information sharing between agents\n",
    "- Collaborative problem-solving\n",
    "\n",
    "### Step 3: Execute Tasks\n",
    "The team will automatically delegate tasks to the most appropriate agent(s) based on the query.\n"
   ]
  },
  {
   "cell_type": "code",
   "execution_count": null,
   "id": "f872be2e",
   "metadata": {},
   "outputs": [],
   "source": [
    "def demonstrate_basic_agents():\n",
    "    \"\"\"\n",
    "    Demonstrate basic agent creation and team coordination.\n",
    "    \n",
    "    This function shows how to:\n",
    "    1. Create specialized agents with specific roles\n",
    "    2. Organize agents into a team\n",
    "    3. Use the team to solve tasks that require multiple perspectives\n",
    "    \"\"\"\n",
    "    print(\"\\n\" + \"=\" * 60)\n",
    "    print(\"BASIC AGENTS AND TEAMS DEMONSTRATION\")\n",
    "    print(\"=\" * 60)\n",
    "\n",
    "    try:\n",
    "        # Create individual agents with specific roles\n",
    "        # Each agent has a name and a role that defines its expertise\n",
    "        \n",
    "        print(\"\\n1. Creating specialized agents...\")\n",
    "        \n",
    "        # News Agent: Specializes in gathering and analyzing news information\n",
    "        news_agent = Agent(\n",
    "            name=\"News Agent\", \n",
    "            role=\"Get the latest news and provide news analysis\", \n",
    "            model=OpenAIChat(id=MODEL_ID)\n",
    "        )\n",
    "        print(\"   ✓ News Agent created\")\n",
    "\n",
    "        # Weather Agent: Specializes in weather forecasting and analysis\n",
    "        weather_agent = Agent(\n",
    "            name=\"Weather Agent\", \n",
    "            role=\"Get weather forecasts and provide weather analysis\", \n",
    "            model=OpenAIChat(id=MODEL_ID)\n",
    "        )\n",
    "        print(\"   ✓ Weather Agent created\")\n",
    "\n",
    "        # Create a team with coordination mode\n",
    "        # The \"coordinate\" mode allows agents to work together and share information\n",
    "        print(\"\\n2. Creating a team with coordination capabilities...\")\n",
    "        team = Team(\n",
    "            name=\"News and Weather Team\", \n",
    "            mode=\"coordinate\",  # Agents will coordinate their responses\n",
    "            members=[news_agent, weather_agent]\n",
    "        )\n",
    "        print(\"   ✓ Team created with 2 agents\")\n",
    "\n",
    "        # Run a task that requires team coordination\n",
    "        # The team will automatically determine which agent(s) should respond\n",
    "        print(\"\\n3. Running team task...\")\n",
    "        print(\"   Query: 'What is the weather in Tokyo?'\")\n",
    "        \n",
    "        response = team.run(\"What is the weather in Tokyo?\")\n",
    "        \n",
    "        print(\"\\n4. Team Response:\")\n",
    "        print(\"-\" * 60)\n",
    "        print(f\"{response.content}\")\n",
    "        print(\"-\" * 60)\n",
    "\n",
    "\n",
    "    except Exception as e:\n",
    "        print(f\"Error during basic agents demonstration: {e}\")\n",
    "        print(\"This might be due to API issues or configuration problems\")"
   ]
  },
  {
   "cell_type": "raw",
   "metadata": {
    "vscode": {
     "languageId": "raw"
    }
   },
   "source": [
    "## Running the Demo\n",
    "\n",
    "Let's execute our main function to see the agents and teams in action:\n"
   ]
  },
  {
   "cell_type": "code",
   "execution_count": null,
   "id": "d7c1373b",
   "metadata": {},
   "outputs": [],
   "source": [
    "async def main():\n",
    "    \"\"\"\n",
    "    Main function that orchestrates the demonstration.\n",
    "    \n",
    "    This async function handles:\n",
    "    - Environment validation\n",
    "    - Running the basic agents demonstration\n",
    "    - Error handling and user feedback\n",
    "    \"\"\"\n",
    "    print(\"Welcome to Agno Basic Agents Demo\")\n",
    "    print(\"This demo shows how to create and coordinate AI agents\")\n",
    "    print()\n",
    "    \n",
    "    # Validate environment setup\n",
    "    if not check_environment():\n",
    "        print(\"Cannot proceed without proper API configuration\")\n",
    "        return\n",
    "\n",
    "    # Run demonstrations\n",
    "    print(\"\\nStarting demonstrations...\")\n",
    "\n",
    "    # Basic agents and teams demonstration\n",
    "    try:\n",
    "        demonstrate_basic_agents()\n",
    "        print(\"\\n✓ Demo completed successfully!\")\n",
    "        print(\"\\nKey Takeaways:\")\n",
    "        print(\"- Agents can have specialized roles and expertise\")\n",
    "        print(\"- Teams enable multiple agents to collaborate on tasks\")\n",
    "        print(\"- Coordination mode allows intelligent task delegation\")\n",
    "        print(\"- AgentOps tracks all agent interactions for monitoring\")\n",
    "        \n",
    "    except Exception as e:\n",
    "        print(f\"Demo failed: {e}\")\n",
    "        print(\"Please check your API keys and network connection\")"
   ]
  },
  {
   "cell_type": "raw",
   "metadata": {
    "vscode": {
     "languageId": "raw"
    }
   },
   "source": [
    "## Execute the Demo\n",
    "\n",
    "Run the cell below to see how agents collaborate within a team:\n"
   ]
  },
  {
   "cell_type": "code",
   "execution_count": null,
   "id": "3b51cb77",
   "metadata": {},
   "outputs": [],
   "source": [
    "if __name__ == \"__main__\":\n",
    "    \"\"\"\n",
    "    Entry point for the script.\n",
    "    \n",
    "    Uses asyncio to run the main function, preparing for future\n",
    "    async operations and maintaining consistency with other examples.\n",
    "    \"\"\"\n",
    "    asyncio.run(main())"
   ]
  },
  {
   "cell_type": "raw",
   "id": "0a05b8c0",
   "metadata": {},
   "source": [
    "\n"
   ]
  }
 ],
 "metadata": {
  "jupytext": {
   "cell_metadata_filter": "-all",
   "main_language": "python",
   "notebook_metadata_filter": "-all"
  },
  "language_info": {
   "name": "python"
  }
 },
 "nbformat": 4,
 "nbformat_minor": 5
}
