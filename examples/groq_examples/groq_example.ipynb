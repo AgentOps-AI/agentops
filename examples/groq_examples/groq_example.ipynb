{
 "cells": [
  {
   "cell_type": "markdown",
   "metadata": {},
   "source": [
    "# Groq Integration with AgentOps\n",
    "\n",
    "This notebook demonstrates how to use Groq's LLM API with AgentOps for tracking and monitoring. Groq is known for its high-performance inference, particularly with models like Llama 2 and Mixtral.\n",
    "\n",
    "We'll create a simple chatbot that generates stories based on a prompt."
   ]
  },
  {
   "cell_type": "markdown",
   "metadata": {},
   "source": [
    "## Setup\n",
    "\n",
    "First, let's install the required packages:"
   ]
  },
  {
   "cell_type": "code",
   "execution_count": null,
   "metadata": {},
   "outputs": [],
   "source": [
    "%pip install -U groq\n",
    "%pip install -U agentops\n",
    "%pip install -U python-dotenv"
   ]
  },
  {
   "cell_type": "markdown",
   "metadata": {},
   "source": [
    "Now, let's import the necessary libraries:"
   ]
  },
  {
   "cell_type": "code",
   "execution_count": 1,
   "metadata": {},
   "outputs": [],
   "source": [
    "import groq\n",
    "import agentops\n",
    "import os\n",
    "from dotenv import load_dotenv"
   ]
  },
  {
   "cell_type": "markdown",
   "metadata": {},
   "source": [
    "## API Keys\n",
    "\n",
    "Next, we'll set up our API keys. You can use dotenv to load environment variables or set them directly:"
   ]
  },
  {
   "cell_type": "code",
   "execution_count": 2,
   "metadata": {},
   "outputs": [],
   "source": [
    "load_dotenv()\n",
    "GROQ_API_KEY = os.getenv(\"GROQ_API_KEY\") or \"<your_agentops_api_key>\"\n",
    "AGENTOPS_API_KEY = os.getenv(\"AGENTOPS_API_KEY\") or \"<your_agentops_api_key>\""
   ]
  },
  {
   "cell_type": "markdown",
   "metadata": {},
   "source": [
    "## Initialize AgentOps\n",
    "\n",
    "Now we initialize the AgentOps client to track our interactions with Groq:"
   ]
  },
  {
   "cell_type": "code",
   "execution_count": null,
   "metadata": {},
   "outputs": [],
   "source": [
    "agentops.init('a640373b-30ae-4655-a1f3-5caa882a8721', default_tags=[\"groq-example\"])"
   ]
  },
  {
   "cell_type": "markdown",
   "metadata": {},
   "source": [
    "## Create a Groq Client\n",
    "\n",
    "Let's create a Groq client and set up our prompts:"
   ]
  },
  {
   "cell_type": "code",
   "execution_count": 4,
   "metadata": {},
   "outputs": [],
   "source": [
    "client = groq.Client(api_key=GROQ_API_KEY)\n",
    "\n",
    "system_prompt = \"\"\"\n",
    "You are a master storyteller, with the ability to create vivid and engaging stories.\n",
    "You have experience in writing for children and adults alike.\n",
    "You are given a prompt and you need to generate a story based on the prompt.\n",
    "\"\"\"\n",
    "\n",
    "user_prompt = \"Write a story about a cyber-warrior trapped in the imperial time period.\"\n",
    "\n",
    "messages = [\n",
    "    {\"role\": \"system\", \"content\": system_prompt},\n",
    "    {\"role\": \"user\", \"content\": user_prompt},\n",
    "]\n",
    "\n",
    "response = client.chat.completions.create(\n",
    "    model=\"llama3-8b-8192\",  # Groq's Llama 2 model\n",
    "    messages=messages,\n",
    "    temperature=0.7,\n",
    "    max_tokens=1024,\n",
    ")\n",
    "\n",
    "print(response.choices[0].message.content)"
   ]
  },
  {
   "cell_type": "markdown",
   "metadata": {},
   "source": [
    "## Conclusion\n",
    "\n",
    "In this notebook, we've demonstrated how to use Groq's API with AgentOps for tracking and monitoring. Groq offers high-performance inference for various models, and AgentOps provides the tools to monitor and optimize your LLM applications.\n",
    "\n",
    "Key takeaways:\n",
    "1. Groq provides a simple API similar to OpenAI's\n",
    "2. AgentOps automatically tracks your interactions with Groq\n",
    "4. Groq is known for its high-speed inference capabilities"
   ]
  }
 ],
 "metadata": {
  "kernelspec": {
   "display_name": "Python 3",
   "language": "python",
   "name": "python3"
  },
  "language_info": {
   "codemirror_mode": {
    "name": "ipython",
    "version": 3
   },
   "file_extension": ".py",
   "mimetype": "text/x-python",
   "name": "python",
   "nbconvert_exporter": "python",
   "pygments_lexer": "ipython3",
   "version": "3.11.9"
  }
 },
 "nbformat": 4,
 "nbformat_minor": 2
}
