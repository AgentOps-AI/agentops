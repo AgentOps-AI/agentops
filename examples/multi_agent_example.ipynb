{
 "cells": [
  {
   "cell_type": "markdown",
   "id": "a2e266428cefc683",
   "metadata": {
    "collapsed": false
   },
   "source": [
    "# Multi-Agent Support\n",
    "This is an example implementation of tracking events from two separate agents"
   ]
  },
  {
   "cell_type": "code",
   "execution_count": 1,
   "id": "7c566fac57d3b6ce",
   "metadata": {
    "collapsed": false
   },
   "outputs": [],
   "source": [
    "import agentops\n",
    "from agentops.agent import track_agent\n",
    "from dotenv import load_dotenv\n",
    "import os\n",
    "import openai\n",
    "import logging\n",
    "\n",
    "from IPython.display import display, Markdown"
   ]
  },
  {
   "cell_type": "code",
   "execution_count": 2,
   "id": "9f8c52496c04693",
   "metadata": {
    "collapsed": false
   },
   "outputs": [],
   "source": [
    "load_dotenv()\n",
    "OPENAI_API_KEY = os.getenv('OPENAI_API_KEY', \"<your_openai_key>\")\n",
    "AGENTOPS_API_KEY = \"6b7a1469-bdcb-4d47-85ba-c4824bc8486e\"\n",
    "logging.basicConfig(level=logging.DEBUG) # this will let us see that calls are assigned to an agent"
   ]
  },
  {
   "cell_type": "code",
   "execution_count": 3,
   "id": "af062552554d60ce",
   "metadata": {
    "collapsed": false
   },
   "outputs": [
    {
     "name": "stderr",
     "output_type": "stream",
     "text": [
      "DEBUG:urllib3.connectionpool:Starting new HTTP connection (1): localhost:8000\n",
      "DEBUG:urllib3.connectionpool:http://localhost:8000 \"POST /sessions HTTP/1.1\" 200 9\n",
      "INFO:root:View info on this session at https://agentops.ai/dashboard?session_id=8c3c3362-0e84-4408-bdf8-a7b34b5700e2\n",
      "DEBUG:httpx:load_ssl_context verify=True cert=None trust_env=True http2=False\n",
      "DEBUG:httpx:load_verify_locations cafile='/home/siyangqiu/DevDrive/pythonsdk/env/lib/python3.11/site-packages/certifi/cacert.pem'\n"
     ]
    },
    {
     "name": "stderr",
     "output_type": "stream",
     "text": [
      "DEBUG:urllib3.connectionpool:Starting new HTTP connection (1): localhost:8000\n",
      "DEBUG:urllib3.connectionpool:http://localhost:8000 \"POST /events HTTP/1.1\" 200 9\n"
     ]
    }
   ],
   "source": [
    "agentops.init(AGENTOPS_API_KEY, endpoint=\"http://localhost:8000\")\n",
    "openai_client = openai.Client()"
   ]
  },
  {
   "cell_type": "markdown",
   "id": "95d212546aaf1f82",
   "metadata": {
    "collapsed": false
   },
   "source": [
    "Now lets create a few agents!"
   ]
  },
  {
   "cell_type": "code",
   "execution_count": 4,
   "id": "727e3cc26ce3ec3",
   "metadata": {
    "collapsed": false
   },
   "outputs": [],
   "source": [
    "@track_agent(name='qa')\n",
    "class QaAgent:\n",
    "    def completion(self, prompt: str):\n",
    "        res = openai_client.chat.completions.create(model='gpt-3.5-turbo', messages=[{\"role\": \"system\", \"content\": \"You are a qa engineer and only output python code, no markdown tags.\"},\n",
    "    {\"role\": \"user\", \"content\": prompt}], temperature=0.5)\n",
    "        return res.choices[0].message.content\n",
    "        \n",
    "@track_agent(name='engineer')\n",
    "class EngineerAgent:\n",
    "    def completion(self, prompt: str):\n",
    "        res = openai_client.chat.completions.create(model='gpt-3.5-turbo', messages=[{\"role\": \"system\", \"content\": \"You are a software engineer and only output python code, no markdown tags.\"},\n",
    "    {\"role\": \"user\", \"content\": prompt}], temperature=0.5)\n",
    "        return res.choices[0].message.content"
   ]
  },
  {
   "cell_type": "code",
   "execution_count": 5,
   "id": "79b75d65de738522",
   "metadata": {
    "collapsed": false
   },
   "outputs": [
    {
     "name": "stderr",
     "output_type": "stream",
     "text": [
      "DEBUG:urllib3.connectionpool:Starting new HTTP connection (1): localhost:8000\n",
      "DEBUG:urllib3.connectionpool:http://localhost:8000 \"POST /agents HTTP/1.1\" 200 9\n",
      "DEBUG:urllib3.connectionpool:Starting new HTTP connection (1): localhost:8000\n",
      "DEBUG:urllib3.connectionpool:http://localhost:8000 \"POST /agents HTTP/1.1\" 200 9\n"
     ]
    }
   ],
   "source": [
    "qa = QaAgent()\n",
    "engineer = EngineerAgent()"
   ]
  },
  {
   "cell_type": "markdown",
   "id": "69dd3af9206308cc",
   "metadata": {
    "collapsed": false
   },
   "source": [
    "Now we have our agents and we tagged them with the `@track_agent` decorator. Any LLM calls that go through this class will now be tagged as agent calls in AgentOps.\n",
    "\n",
    "Lets use these agents!"
   ]
  },
  {
   "cell_type": "code",
   "execution_count": 6,
   "id": "69e76061a626549",
   "metadata": {
    "collapsed": false
   },
   "outputs": [
    {
     "name": "stderr",
     "output_type": "stream",
     "text": [
      "DEBUG:openai._base_client:Request options: {'method': 'post', 'url': '/chat/completions', 'files': None, 'json_data': {'messages': [{'role': 'system', 'content': 'You are a software engineer and only output python code, no markdown tags.'}, {'role': 'user', 'content': 'Write a python function that accepts two numbers and multiplies them together, then divides by two. No example.'}], 'model': 'gpt-3.5-turbo', 'temperature': 0.5}}\n",
      "DEBUG:httpcore.connection:connect_tcp.started host='api.openai.com' port=443 local_address=None timeout=5.0 socket_options=None\n",
      "DEBUG:httpcore.connection:connect_tcp.complete return_value=<httpcore._backends.sync.SyncStream object at 0x7fcb6643bed0>\n",
      "DEBUG:httpcore.connection:start_tls.started ssl_context=<ssl.SSLContext object at 0x7fcb841184d0> server_hostname='api.openai.com' timeout=5.0\n",
      "DEBUG:httpcore.connection:start_tls.complete return_value=<httpcore._backends.sync.SyncStream object at 0x7fcb664739d0>\n",
      "DEBUG:httpcore.http11:send_request_headers.started request=<Request [b'POST']>\n",
      "DEBUG:httpcore.http11:send_request_headers.complete\n",
      "DEBUG:httpcore.http11:send_request_body.started request=<Request [b'POST']>\n",
      "DEBUG:httpcore.http11:send_request_body.complete\n",
      "DEBUG:httpcore.http11:receive_response_headers.started request=<Request [b'POST']>\n",
      "DEBUG:httpcore.http11:receive_response_headers.complete return_value=(b'HTTP/1.1', 200, b'OK', [(b'Date', b'Wed, 27 Mar 2024 20:45:53 GMT'), (b'Content-Type', b'application/json'), (b'Transfer-Encoding', b'chunked'), (b'Connection', b'keep-alive'), (b'access-control-allow-origin', b'*'), (b'Cache-Control', b'no-cache, must-revalidate'), (b'openai-model', b'gpt-3.5-turbo-0125'), (b'openai-organization', b'roam'), (b'openai-processing-ms', b'1776'), (b'openai-version', b'2020-10-01'), (b'strict-transport-security', b'max-age=15724800; includeSubDomains'), (b'x-ratelimit-limit-requests', b'10000'), (b'x-ratelimit-limit-tokens', b'2000000'), (b'x-ratelimit-remaining-requests', b'9999'), (b'x-ratelimit-remaining-tokens', b'1999935'), (b'x-ratelimit-reset-requests', b'6ms'), (b'x-ratelimit-reset-tokens', b'1ms'), (b'x-request-id', b'req_9f8122a8a15d539ca5ef69f2e810551e'), (b'CF-Cache-Status', b'DYNAMIC'), (b'Set-Cookie', b'__cf_bm=icV0SXG710Y0M0NazZ3T.2GquFKUMVXKXzxBddK4b84-1711572353-1.0.1.1-axZD1Ukhadlnaoo.Ec.lxFpePon.zikdM3SvT8A_yq8oTVQuUSD7g2C5.9UOO0fVbt5aeLSsEGAq05clhxNXKQ; path=/; expires=Wed, 27-Mar-24 21:15:53 GMT; domain=.api.openai.com; HttpOnly; Secure; SameSite=None'), (b'Set-Cookie', b'_cfuvid=9lGTnDSrJYqiIywadHadZA4RV6MAuOqA3zD7AN4metc-1711572353207-0.0.1.1-604800000; path=/; domain=.api.openai.com; HttpOnly; Secure; SameSite=None'), (b'Server', b'cloudflare'), (b'CF-RAY', b'86b239fbd91415d2-SJC'), (b'Content-Encoding', b'gzip'), (b'alt-svc', b'h3=\":443\"; ma=86400')])\n",
      "INFO:httpx:HTTP Request: POST https://api.openai.com/v1/chat/completions \"HTTP/1.1 200 OK\"\n",
      "DEBUG:httpcore.http11:receive_response_body.started request=<Request [b'POST']>\n",
      "DEBUG:httpcore.http11:receive_response_body.complete\n",
      "DEBUG:httpcore.http11:response_closed.started\n",
      "DEBUG:httpcore.http11:response_closed.complete\n",
      "DEBUG:openai._base_client:HTTP Request: POST https://api.openai.com/v1/chat/completions \"200 OK\"\n",
      "DEBUG:root:LLM call from agent named: engineer\n"
     ]
    }
   ],
   "source": [
    "generated_func = engineer.completion(\"Write a python function that accepts two numbers and multiplies them together, then divides by two. No example.\")"
   ]
  },
  {
   "cell_type": "code",
   "execution_count": 7,
   "id": "830b86dac47dceb3",
   "metadata": {
    "collapsed": false
   },
   "outputs": [
    {
     "data": {
      "text/markdown": [
       "```python\n",
       "def multiply_and_divide(num1, num2):\n",
       "    result = (num1 * num2) / 2\n",
       "    return result\n",
       "```"
      ],
      "text/plain": [
       "<IPython.core.display.Markdown object>"
      ]
     },
     "metadata": {},
     "output_type": "display_data"
    }
   ],
   "source": [
    "display(Markdown('```python\\n' + generated_func + '\\n```'))"
   ]
  },
  {
   "cell_type": "code",
   "execution_count": 8,
   "id": "63c9d0d457aee91a",
   "metadata": {
    "collapsed": false
   },
   "outputs": [
    {
     "name": "stderr",
     "output_type": "stream",
     "text": [
      "DEBUG:openai._base_client:Request options: {'method': 'post', 'url': '/chat/completions', 'files': None, 'json_data': {'messages': [{'role': 'system', 'content': 'You are a qa engineer and only output python code, no markdown tags.'}, {'role': 'user', 'content': 'Write a python unit test that test the following function: \\n def multiply_and_divide(num1, num2):\\n    result = (num1 * num2) / 2\\n    return result'}], 'model': 'gpt-3.5-turbo', 'temperature': 0.5}}\n",
      "DEBUG:httpcore.http11:send_request_headers.started request=<Request [b'POST']>\n",
      "DEBUG:httpcore.http11:send_request_headers.complete\n",
      "DEBUG:httpcore.http11:send_request_body.started request=<Request [b'POST']>\n",
      "DEBUG:httpcore.http11:send_request_body.complete\n",
      "DEBUG:httpcore.http11:receive_response_headers.started request=<Request [b'POST']>\n"
     ]
    },
    {
     "name": "stderr",
     "output_type": "stream",
     "text": [
      "DEBUG:httpcore.http11:receive_response_headers.complete return_value=(b'HTTP/1.1', 200, b'OK', [(b'Date', b'Wed, 27 Mar 2024 20:45:55 GMT'), (b'Content-Type', b'application/json'), (b'Transfer-Encoding', b'chunked'), (b'Connection', b'keep-alive'), (b'access-control-allow-origin', b'*'), (b'Cache-Control', b'no-cache, must-revalidate'), (b'openai-model', b'gpt-3.5-turbo-0125'), (b'openai-organization', b'roam'), (b'openai-processing-ms', b'2429'), (b'openai-version', b'2020-10-01'), (b'strict-transport-security', b'max-age=15724800; includeSubDomains'), (b'x-ratelimit-limit-requests', b'10000'), (b'x-ratelimit-limit-tokens', b'2000000'), (b'x-ratelimit-remaining-requests', b'9999'), (b'x-ratelimit-remaining-tokens', b'1999928'), (b'x-ratelimit-reset-requests', b'6ms'), (b'x-ratelimit-reset-tokens', b'2ms'), (b'x-request-id', b'req_01547b8c536873f5d8fbc0395ce18c8c'), (b'CF-Cache-Status', b'DYNAMIC'), (b'Server', b'cloudflare'), (b'CF-RAY', b'86b23a084ca815d2-SJC'), (b'Content-Encoding', b'gzip'), (b'alt-svc', b'h3=\":443\"; ma=86400')])\n",
      "INFO:httpx:HTTP Request: POST https://api.openai.com/v1/chat/completions \"HTTP/1.1 200 OK\"\n",
      "DEBUG:httpcore.http11:receive_response_body.started request=<Request [b'POST']>\n",
      "DEBUG:httpcore.http11:receive_response_body.complete\n",
      "DEBUG:httpcore.http11:response_closed.started\n",
      "DEBUG:httpcore.http11:response_closed.complete\n",
      "DEBUG:openai._base_client:HTTP Request: POST https://api.openai.com/v1/chat/completions \"200 OK\"\n",
      "DEBUG:root:LLM call from agent named: qa\n"
     ]
    }
   ],
   "source": [
    "generated_test = qa.completion(\"Write a python unit test that test the following function: \\n \" + generated_func)"
   ]
  },
  {
   "cell_type": "code",
   "execution_count": 9,
   "id": "a88ffcbd2015d422",
   "metadata": {
    "collapsed": false
   },
   "outputs": [
    {
     "data": {
      "text/markdown": [
       "```python\n",
       "import unittest\n",
       "\n",
       "def multiply_and_divide(num1, num2):\n",
       "    result = (num1 * num2) / 2\n",
       "    return result\n",
       "\n",
       "class TestMultiplyAndDivide(unittest.TestCase):\n",
       "    \n",
       "    def test_positive_numbers(self):\n",
       "        self.assertEqual(multiply_and_divide(5, 2), 5.0)\n",
       "    \n",
       "    def test_negative_numbers(self):\n",
       "        self.assertEqual(multiply_and_divide(-4, 3), -6.0)\n",
       "    \n",
       "    def test_zero(self):\n",
       "        self.assertEqual(multiply_and_divide(0, 10), 0.0)\n",
       "\n",
       "if __name__ == '__main__':\n",
       "    unittest.main()\n",
       "```"
      ],
      "text/plain": [
       "<IPython.core.display.Markdown object>"
      ]
     },
     "metadata": {},
     "output_type": "display_data"
    }
   ],
   "source": [
    "display(Markdown('```python\\n' + generated_test + '\\n```'))"
   ]
  },
  {
   "cell_type": "markdown",
   "id": "1bd312ed049a5511",
   "metadata": {
    "collapsed": false
   },
   "source": [
    "Perfect! It generated the code as expected, and in the DEBUG logs, you can see that the calls were made by agents named \"engineer\" and \"qa\"!"
   ]
  },
  {
   "cell_type": "markdown",
   "id": "cbd0817a31756397",
   "metadata": {
    "collapsed": false
   },
   "source": [
    "Lets verify one more thing! If we make an LLM call outside of the context of a tracked agent, we want to make sure it gets assigned to the Default Agent."
   ]
  },
  {
   "cell_type": "code",
   "execution_count": 10,
   "id": "122e923cb07fd5f4",
   "metadata": {
    "collapsed": false
   },
   "outputs": [
    {
     "name": "stderr",
     "output_type": "stream",
     "text": [
      "DEBUG:openai._base_client:Request options: {'method': 'post', 'url': '/chat/completions', 'files': None, 'json_data': {'messages': [{'role': 'system', 'content': 'You are not a tracked agent'}, {'role': 'user', 'content': 'Say hello'}], 'model': 'gpt-3.5-turbo'}}\n",
      "DEBUG:httpcore.http11:send_request_headers.started request=<Request [b'POST']>\n",
      "DEBUG:httpcore.http11:send_request_headers.complete\n",
      "DEBUG:httpcore.http11:send_request_body.started request=<Request [b'POST']>\n",
      "DEBUG:httpcore.http11:send_request_body.complete\n",
      "DEBUG:httpcore.http11:receive_response_headers.started request=<Request [b'POST']>\n"
     ]
    },
    {
     "name": "stderr",
     "output_type": "stream",
     "text": [
      "DEBUG:httpcore.http11:receive_response_headers.complete return_value=(b'HTTP/1.1', 200, b'OK', [(b'Date', b'Wed, 27 Mar 2024 20:45:57 GMT'), (b'Content-Type', b'application/json'), (b'Transfer-Encoding', b'chunked'), (b'Connection', b'keep-alive'), (b'access-control-allow-origin', b'*'), (b'Cache-Control', b'no-cache, must-revalidate'), (b'openai-model', b'gpt-3.5-turbo-0125'), (b'openai-organization', b'roam'), (b'openai-processing-ms', b'1098'), (b'openai-version', b'2020-10-01'), (b'strict-transport-security', b'max-age=15724800; includeSubDomains'), (b'x-ratelimit-limit-requests', b'10000'), (b'x-ratelimit-limit-tokens', b'2000000'), (b'x-ratelimit-remaining-requests', b'9999'), (b'x-ratelimit-remaining-tokens', b'1999972'), (b'x-ratelimit-reset-requests', b'6ms'), (b'x-ratelimit-reset-tokens', b'0s'), (b'x-request-id', b'req_5cdbb4b4723b0f404ccb22cc6123a9e7'), (b'CF-Cache-Status', b'DYNAMIC'), (b'Server', b'cloudflare'), (b'CF-RAY', b'86b23a193e0b15d2-SJC'), (b'Content-Encoding', b'gzip'), (b'alt-svc', b'h3=\":443\"; ma=86400')])\n",
      "INFO:httpx:HTTP Request: POST https://api.openai.com/v1/chat/completions \"HTTP/1.1 200 OK\"\n",
      "DEBUG:httpcore.http11:receive_response_body.started request=<Request [b'POST']>\n",
      "DEBUG:httpcore.http11:receive_response_body.complete\n",
      "DEBUG:httpcore.http11:response_closed.started\n",
      "DEBUG:httpcore.http11:response_closed.complete\n",
      "DEBUG:openai._base_client:HTTP Request: POST https://api.openai.com/v1/chat/completions \"200 OK\"\n"
     ]
    },
    {
     "data": {
      "text/plain": [
       "'Hello! How can I assist you today?'"
      ]
     },
     "execution_count": 10,
     "metadata": {},
     "output_type": "execute_result"
    }
   ],
   "source": [
    "res = openai_client.chat.completions.create(\n",
    "    model=\"gpt-3.5-turbo\",\n",
    "    messages=[{\"role\": \"system\", \"content\": \"You are not a tracked agent\"},\n",
    "    {\"role\": \"user\", \"content\": \"Say hello\"}]\n",
    ")\n",
    "res.choices[0].message.content"
   ]
  },
  {
   "cell_type": "markdown",
   "id": "a30909020c6a1ada",
   "metadata": {
    "collapsed": false
   },
   "source": [
    "You'll notice that we didn't log an agent name, so the AgentOps backend will assign it to the Default Agent for the session!"
   ]
  }
 ],
 "metadata": {
  "kernelspec": {
   "display_name": "Python 3",
   "language": "python",
   "name": "python3"
  },
  "language_info": {
   "codemirror_mode": {
    "name": "ipython",
    "version": 3
   },
   "file_extension": ".py",
   "mimetype": "text/x-python",
   "name": "python",
   "nbconvert_exporter": "python",
   "pygments_lexer": "ipython3",
   "version": "3.11.8"
  }
 },
 "nbformat": 4,
 "nbformat_minor": 5
}
