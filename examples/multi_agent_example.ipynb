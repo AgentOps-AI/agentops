{
 "cells": [
  {
   "cell_type": "markdown",
   "source": [
    "# Multi-Agent Support\n",
    "This is an example implementation of tracking events from two separate agents"
   ],
   "metadata": {
    "collapsed": false
   },
   "id": "a2e266428cefc683"
  },
  {
   "cell_type": "code",
   "outputs": [],
   "source": [
    "import agentops\n",
    "from agentops.agent import track_agent\n",
    "from dotenv import load_dotenv\n",
    "import os\n",
    "import openai\n",
    "import logging\n",
    "import traceback\n",
    "\n",
    "from IPython.display import display, Markdown"
   ],
   "metadata": {
    "collapsed": false,
    "ExecuteTime": {
     "end_time": "2024-03-08T01:10:43.313773Z",
     "start_time": "2024-03-08T01:10:43.072138Z"
    }
   },
   "id": "7c566fac57d3b6ce",
   "execution_count": 1
  },
  {
   "cell_type": "code",
   "outputs": [],
   "source": [
    "load_dotenv()\n",
    "OPENAI_API_KEY = os.getenv('OPENAI_API_KEY', \"<your_openai_key>\")\n",
    "AGENTOPS_API_KEY = os.getenv('AGENTOPS_API_KEY', \"<your_agentops_key>\")\n",
    "logging.basicConfig(level=logging.INFO)"
   ],
   "metadata": {
    "collapsed": false,
    "ExecuteTime": {
     "end_time": "2024-03-08T01:10:43.320611Z",
     "start_time": "2024-03-08T01:10:43.315050Z"
    }
   },
   "id": "9f8c52496c04693",
   "execution_count": 2
  },
  {
   "cell_type": "code",
   "outputs": [
    {
     "name": "stderr",
     "output_type": "stream",
     "text": [
      "INFO:root:View info on this session at https://agentops.ai/dashboard?session_id=47aef9e1-94d3-4e69-8d75-d40c453b5b74\n"
     ]
    }
   ],
   "source": [
    "ao_client = agentops.Client(AGENTOPS_API_KEY, endpoint='http://localhost:8000')\n",
    "openai_client = openai.Client()"
   ],
   "metadata": {
    "collapsed": false,
    "ExecuteTime": {
     "end_time": "2024-03-08T01:10:43.398524Z",
     "start_time": "2024-03-08T01:10:43.318539Z"
    }
   },
   "id": "af062552554d60ce",
   "execution_count": 3
  },
  {
   "cell_type": "markdown",
   "source": [
    "Now lets create a few agents!"
   ],
   "metadata": {
    "collapsed": false
   },
   "id": "95d212546aaf1f82"
  },
  {
   "cell_type": "code",
   "outputs": [],
   "source": [
    "res = openai_client.chat.completions.create(\n",
    "    model=\"gpt-3.5-turbo\",\n",
    "    messages=[{\"role\": \"system\", \"content\": \"You are not a tracked agent\"},\n",
    "    {\"role\": \"user\", \"content\": \"Say hello\"}]\n",
    ")\n",
    "# traceback.print_exc()\n",
    "# raise Exception()\n",
    "res.choices[0].message.content"
   ],
   "metadata": {
    "collapsed": false,
    "is_executing": true,
    "ExecuteTime": {
     "start_time": "2024-03-08T01:11:26.561763Z"
    }
   },
   "id": "bf2875d35c8458ae",
   "execution_count": null
  },
  {
   "cell_type": "code",
   "outputs": [],
   "source": [
    "@track_agent(name='qa')\n",
    "class QaAgent:\n",
    "    def completion(self, prompt: str):\n",
    "        res = openai_client.chat.completions.create(model='gpt-3.5-turbo', messages=[{\"role\": \"system\", \"content\": \"You are a qa engineer and only output python code, no markdown tags.\"},\n",
    "    {\"role\": \"user\", \"content\": prompt}], temperature=0.5)\n",
    "        return res.choices[0].message.content\n",
    "        \n",
    "@track_agent(name='engineer')\n",
    "class EngineerAgent:\n",
    "    def completion(self, prompt: str):\n",
    "        res = openai_client.chat.completions.create(model='gpt-3.5-turbo', messages=[{\"role\": \"system\", \"content\": \"You are a software engineer and only output python code, no markdown tags.\"},\n",
    "    {\"role\": \"user\", \"content\": prompt}], temperature=0.5)\n",
    "        return res.choices[0].message.content"
   ],
   "metadata": {
    "collapsed": false,
    "ExecuteTime": {
     "end_time": "2024-03-08T01:10:55.986322Z",
     "start_time": "2024-03-08T01:10:55.905312Z"
    }
   },
   "id": "727e3cc26ce3ec3",
   "execution_count": 6
  },
  {
   "cell_type": "code",
   "outputs": [],
   "source": [
    "qa = QaAgent()\n",
    "engineer = EngineerAgent()"
   ],
   "metadata": {
    "collapsed": false,
    "ExecuteTime": {
     "end_time": "2024-03-08T01:10:56.511730Z",
     "start_time": "2024-03-08T01:10:56.506571Z"
    }
   },
   "id": "79b75d65de738522",
   "execution_count": 7
  },
  {
   "cell_type": "code",
   "outputs": [
    {
     "data": {
      "text/plain": "'engineer'"
     },
     "execution_count": 8,
     "metadata": {},
     "output_type": "execute_result"
    }
   ],
   "source": [
    "engineer._ao_agent_name"
   ],
   "metadata": {
    "collapsed": false,
    "ExecuteTime": {
     "end_time": "2024-03-08T01:10:56.705542Z",
     "start_time": "2024-03-08T01:10:56.701470Z"
    }
   },
   "id": "513819204dde0e0a",
   "execution_count": 8
  },
  {
   "cell_type": "code",
   "outputs": [
    {
     "name": "stderr",
     "output_type": "stream",
     "text": [
      "INFO:httpx:HTTP Request: POST https://api.openai.com/v1/chat/completions \"HTTP/1.1 200 OK\"\n",
      "INFO:root:LLM call from agent named: engineer\n"
     ]
    },
    {
     "name": "stdout",
     "output_type": "stream",
     "text": [
      "<agentops.llm_tracker.LlmTracker object at 0x1074d8250>\n",
      "ChatCompletion(id='chatcmpl-90J3B0QxoJxMWjCGnqOKjXLAWwk3T', choices=[Choice(finish_reason='stop', index=0, logprobs=None, message=ChatCompletionMessage(content='def multiply_and_divide(num1, num2):\\n    result = (num1 * num2) / 2\\n    return result', role='assistant', function_call=None, tool_calls=None))], created=1709860257, model='gpt-3.5-turbo-0125', object='chat.completion', system_fingerprint='fp_2b778c6b35', usage=CompletionUsage(completion_tokens=28, prompt_tokens=48, total_tokens=76))\n",
      "{'model': 'gpt-3.5-turbo', 'messages': [{'role': 'system', 'content': 'You are a software engineer and only output python code, no markdown tags.'}, {'role': 'user', 'content': 'Write a python function that accepts two numbers and multiplies them together, then divides by two. No example.'}], 'temperature': 0.5}\n",
      "2024-03-08T01:10:56.869Z\n",
      "<class 'openai.Stream'>\n",
      "<class 'openai.AsyncStream'>\n",
      "<class 'openai.types.chat.chat_completion_chunk.ChatCompletionChunk'>\n",
      "<class 'openai.resources.completions.AsyncCompletions'>\n",
      "<function LlmTracker._handle_response_v1_openai.<locals>.handle_stream_chunk at 0x10948fb00>\n",
      "(<openai.resources.chat.completions.Completions object at 0x108a1e2d0>,)\n",
      "{'model': 'gpt-3.5-turbo', 'messages': [{'role': 'system', 'content': 'You are a software engineer and only output python code, no markdown tags.'}, {'role': 'user', 'content': 'Write a python function that accepts two numbers and multiplies them together, then divides by two. No example.'}], 'temperature': 0.5}\n",
      "2024-03-08T01:10:56.869Z\n",
      "ChatCompletion(id='chatcmpl-90J3B0QxoJxMWjCGnqOKjXLAWwk3T', choices=[Choice(finish_reason='stop', index=0, logprobs=None, message=ChatCompletionMessage(content='def multiply_and_divide(num1, num2):\\n    result = (num1 * num2) / 2\\n    return result', role='assistant', function_call=None, tool_calls=None))], created=1709860257, model='gpt-3.5-turbo-0125', object='chat.completion', system_fingerprint='fp_2b778c6b35', usage=CompletionUsage(completion_tokens=28, prompt_tokens=48, total_tokens=76))\n",
      "<function Completions.create at 0x108901800>\n",
      "<agentops.llm_tracker.LlmTracker object at 0x1074d8250>\n",
      "<__main__.EngineerAgent object at 0x1094e2090>\n",
      "Unable to parse a chunk for LLM call {'model': 'gpt-3.5-turbo', 'messages': [{'role': 'system', 'content': 'You are a software engineer and only output python code, no markdown tags.'}, {'role': 'user', 'content': 'Write a python function that accepts two numbers and multiplies them together, then divides by two. No example.'}], 'temperature': 0.5} - skipping upload to AgentOps\n"
     ]
    }
   ],
   "source": [
    "generated_func = engineer.completion(\"Write a python function that accepts two numbers and multiplies them together, then divides by two. No example.\")"
   ],
   "metadata": {
    "collapsed": false,
    "ExecuteTime": {
     "end_time": "2024-03-08T01:10:58.082806Z",
     "start_time": "2024-03-08T01:10:56.872314Z"
    }
   },
   "id": "69e76061a626549",
   "execution_count": 9
  },
  {
   "cell_type": "code",
   "outputs": [
    {
     "data": {
      "text/plain": "<IPython.core.display.Markdown object>",
      "text/markdown": "```python\ndef multiply_and_divide(num1, num2):\n    result = (num1 * num2) / 2\n    return result\n```"
     },
     "metadata": {},
     "output_type": "display_data"
    }
   ],
   "source": [
    "display(Markdown('```python\\n' + generated_func + '\\n```'))\n"
   ],
   "metadata": {
    "collapsed": false,
    "ExecuteTime": {
     "end_time": "2024-03-08T01:10:58.083272Z",
     "start_time": "2024-03-08T01:10:58.076792Z"
    }
   },
   "id": "830b86dac47dceb3",
   "execution_count": 10
  },
  {
   "cell_type": "code",
   "outputs": [
    {
     "name": "stderr",
     "output_type": "stream",
     "text": [
      "INFO:httpx:HTTP Request: POST https://api.openai.com/v1/chat/completions \"HTTP/1.1 200 OK\"\n",
      "INFO:root:LLM call from agent named: qa\n"
     ]
    },
    {
     "name": "stdout",
     "output_type": "stream",
     "text": [
      "<agentops.llm_tracker.LlmTracker object at 0x1074d8250>\n",
      "ChatCompletion(id='chatcmpl-90J3COBfcX26PVyuihVOXdOvG3jJW', choices=[Choice(finish_reason='stop', index=0, logprobs=None, message=ChatCompletionMessage(content=\"import unittest\\n\\ndef multiply_and_divide(num1, num2):\\n    result = (num1 * num2) / 2\\n    return result\\n\\nclass TestMultiplyAndDivide(unittest.TestCase):\\n\\n    def test_multiply_and_divide(self):\\n        self.assertEqual(multiply_and_divide(4, 2), 4)\\n        self.assertEqual(multiply_and_divide(0, 5), 0)\\n        self.assertEqual(multiply_and_divide(-3, 6), -9)\\n\\nif __name__ == '__main__':\\n    unittest.main()\", role='assistant', function_call=None, tool_calls=None))], created=1709860258, model='gpt-3.5-turbo-0125', object='chat.completion', system_fingerprint='fp_2b778c6b35', usage=CompletionUsage(completion_tokens=113, prompt_tokens=66, total_tokens=179))\n",
      "{'model': 'gpt-3.5-turbo', 'messages': [{'role': 'system', 'content': 'You are a qa engineer and only output python code, no markdown tags.'}, {'role': 'user', 'content': 'Write a python unit test that test the following function: \\n def multiply_and_divide(num1, num2):\\n    result = (num1 * num2) / 2\\n    return result'}], 'temperature': 0.5}\n",
      "2024-03-08T01:10:58.078Z\n",
      "<class 'openai.Stream'>\n",
      "<class 'openai.AsyncStream'>\n",
      "<class 'openai.types.chat.chat_completion_chunk.ChatCompletionChunk'>\n",
      "<class 'openai.resources.completions.AsyncCompletions'>\n",
      "<function LlmTracker._handle_response_v1_openai.<locals>.handle_stream_chunk at 0x1094b7420>\n",
      "(<openai.resources.chat.completions.Completions object at 0x108a1e2d0>,)\n",
      "{'model': 'gpt-3.5-turbo', 'messages': [{'role': 'system', 'content': 'You are a qa engineer and only output python code, no markdown tags.'}, {'role': 'user', 'content': 'Write a python unit test that test the following function: \\n def multiply_and_divide(num1, num2):\\n    result = (num1 * num2) / 2\\n    return result'}], 'temperature': 0.5}\n",
      "2024-03-08T01:10:58.078Z\n",
      "ChatCompletion(id='chatcmpl-90J3COBfcX26PVyuihVOXdOvG3jJW', choices=[Choice(finish_reason='stop', index=0, logprobs=None, message=ChatCompletionMessage(content=\"import unittest\\n\\ndef multiply_and_divide(num1, num2):\\n    result = (num1 * num2) / 2\\n    return result\\n\\nclass TestMultiplyAndDivide(unittest.TestCase):\\n\\n    def test_multiply_and_divide(self):\\n        self.assertEqual(multiply_and_divide(4, 2), 4)\\n        self.assertEqual(multiply_and_divide(0, 5), 0)\\n        self.assertEqual(multiply_and_divide(-3, 6), -9)\\n\\nif __name__ == '__main__':\\n    unittest.main()\", role='assistant', function_call=None, tool_calls=None))], created=1709860258, model='gpt-3.5-turbo-0125', object='chat.completion', system_fingerprint='fp_2b778c6b35', usage=CompletionUsage(completion_tokens=113, prompt_tokens=66, total_tokens=179))\n",
      "<function Completions.create at 0x108901800>\n",
      "<agentops.llm_tracker.LlmTracker object at 0x1074d8250>\n",
      "<__main__.QaAgent object at 0x1094e3050>\n",
      "Unable to parse a chunk for LLM call {'model': 'gpt-3.5-turbo', 'messages': [{'role': 'system', 'content': 'You are a qa engineer and only output python code, no markdown tags.'}, {'role': 'user', 'content': 'Write a python unit test that test the following function: \\n def multiply_and_divide(num1, num2):\\n    result = (num1 * num2) / 2\\n    return result'}], 'temperature': 0.5} - skipping upload to AgentOps\n"
     ]
    }
   ],
   "source": [
    "generated_test = qa.completion(\"Write a python unit test that test the following function: \\n \" + generated_func)"
   ],
   "metadata": {
    "collapsed": false,
    "ExecuteTime": {
     "end_time": "2024-03-08T01:11:00.069430Z",
     "start_time": "2024-03-08T01:10:58.080774Z"
    }
   },
   "id": "63c9d0d457aee91a",
   "execution_count": 11
  },
  {
   "cell_type": "code",
   "outputs": [
    {
     "data": {
      "text/plain": "<IPython.core.display.Markdown object>",
      "text/markdown": "```python\nimport unittest\n\ndef multiply_and_divide(num1, num2):\n    result = (num1 * num2) / 2\n    return result\n\nclass TestMultiplyAndDivide(unittest.TestCase):\n\n    def test_multiply_and_divide(self):\n        self.assertEqual(multiply_and_divide(4, 2), 4)\n        self.assertEqual(multiply_and_divide(0, 5), 0)\n        self.assertEqual(multiply_and_divide(-3, 6), -9)\n\nif __name__ == '__main__':\n    unittest.main()\n```"
     },
     "metadata": {},
     "output_type": "display_data"
    }
   ],
   "source": [
    "display(Markdown('```python\\n' + generated_test + '\\n```'))"
   ],
   "metadata": {
    "collapsed": false,
    "ExecuteTime": {
     "end_time": "2024-03-08T01:11:00.070307Z",
     "start_time": "2024-03-08T01:11:00.067841Z"
    }
   },
   "id": "a88ffcbd2015d422",
   "execution_count": 12
  },
  {
   "cell_type": "code",
   "outputs": [],
   "source": [],
   "metadata": {
    "collapsed": false,
    "ExecuteTime": {
     "start_time": "2024-03-08T01:10:44.447430Z"
    }
   },
   "id": "e5003033f93eb21b",
   "execution_count": null
  }
 ],
 "metadata": {
  "kernelspec": {
   "display_name": "Python 3",
   "language": "python",
   "name": "python3"
  },
  "language_info": {
   "codemirror_mode": {
    "name": "ipython",
    "version": 2
   },
   "file_extension": ".py",
   "mimetype": "text/x-python",
   "name": "python",
   "nbconvert_exporter": "python",
   "pygments_lexer": "ipython2",
   "version": "2.7.6"
  }
 },
 "nbformat": 4,
 "nbformat_minor": 5
}
