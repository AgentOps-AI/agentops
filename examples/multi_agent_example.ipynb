{
 "cells": [
  {
   "cell_type": "markdown",
   "source": [
    "# Multi-Agent Support\n",
    "This is an example implementation of tracking events from two separate agents"
   ],
   "metadata": {
    "collapsed": false
   },
   "id": "a2e266428cefc683"
  },
  {
   "cell_type": "code",
   "outputs": [],
   "source": [
    "import agentops\n",
    "from agentops.agent import track_agent\n",
    "from dotenv import load_dotenv\n",
    "import os\n",
    "from openai import OpenAI\n",
    "import logging\n",
    "\n",
    "from IPython.display import display, Markdown"
   ],
   "metadata": {
    "collapsed": false
   },
   "id": "7c566fac57d3b6ce",
   "execution_count": null
  },
  {
   "cell_type": "code",
   "outputs": [],
   "source": [
    "load_dotenv()\n",
    "OPENAI_API_KEY = os.getenv('OPENAI_API_KEY', \"<your_openai_key>\")\n",
    "AGENTOPS_API_KEY = os.getenv('AGENTOPS_API_KEY', \"<your_agentops_key>\")\n",
    "logging.basicConfig(level=logging.DEBUG) # this will let us see that calls are assigned to an agent"
   ],
   "metadata": {
    "collapsed": false
   },
   "id": "9f8c52496c04693",
   "execution_count": null
  },
  {
   "cell_type": "code",
   "outputs": [],
   "source": [
    "agentops.init(AGENTOPS_API_KEY)\n",
    "openai_client = openai_client = OpenAI(api_key = OPENAI_API_KEY )"
   ],
   "metadata": {
    "collapsed": false
   },
   "id": "af062552554d60ce",
   "execution_count": null
  },
  {
   "cell_type": "markdown",
   "source": [
    "Now lets create a few agents!"
   ],
   "metadata": {
    "collapsed": false
   },
   "id": "95d212546aaf1f82"
  },
  {
   "cell_type": "code",
   "outputs": [],
   "source": [
    "@track_agent(name='qa')\n",
    "class QaAgent:\n",
    "    def completion(self, prompt: str):\n",
    "        res = openai_client.chat.completions.create(model='gpt-3.5-turbo', messages=[{\"role\": \"system\", \"content\": \"You are a qa engineer and only output python code, no markdown tags.\"},\n",
    "    {\"role\": \"user\", \"content\": prompt}], temperature=0.5)\n",
    "        return res.choices[0].message.content\n",
    "        \n",
    "@track_agent(name='engineer')\n",
    "class EngineerAgent:\n",
    "    def completion(self, prompt: str):\n",
    "        res = openai_client.chat.completions.create(model='gpt-3.5-turbo', messages=[{\"role\": \"system\", \"content\": \"You are a software engineer and only output python code, no markdown tags.\"},\n",
    "    {\"role\": \"user\", \"content\": prompt}], temperature=0.5)\n",
    "        return res.choices[0].message.content"
   ],
   "metadata": {
    "collapsed": false
   },
   "id": "727e3cc26ce3ec3",
   "execution_count": null
  },
  {
   "cell_type": "code",
   "outputs": [],
   "source": [
    "qa = QaAgent()\n",
    "engineer = EngineerAgent()"
   ],
   "metadata": {
    "collapsed": false
   },
   "id": "79b75d65de738522",
   "execution_count": null
  },
  {
   "cell_type": "markdown",
   "source": [
    "Now we have our agents and we tagged them with the `@track_agent` decorator. Any LLM calls that go through this class will now be tagged as agent calls in AgentOps.\n",
    "\n",
    "Lets use these agents!"
   ],
   "metadata": {
    "collapsed": false
   },
   "id": "69dd3af9206308cc"
  },
  {
   "cell_type": "code",
   "outputs": [],
   "source": [
    "generated_func = engineer.completion(\"Write a python function that accepts two numbers and multiplies them together, then divides by two. No example.\")"
   ],
   "metadata": {
    "collapsed": false
   },
   "id": "69e76061a626549",
   "execution_count": null
  },
  {
   "cell_type": "code",
   "outputs": [],
   "source": [
    "display(Markdown('```python\\n' + generated_func + '\\n```'))"
   ],
   "metadata": {
    "collapsed": false
   },
   "id": "830b86dac47dceb3",
   "execution_count": null
  },
  {
   "cell_type": "code",
   "outputs": [],
   "source": [
    "generated_test = qa.completion(\"Write a python unit test that test the following function: \\n \" + generated_func)"
   ],
   "metadata": {
    "collapsed": false
   },
   "id": "63c9d0d457aee91a",
   "execution_count": null
  },
  {
   "cell_type": "code",
   "outputs": [],
   "source": [
    "display(Markdown('```python\\n' + generated_test + '\\n```'))"
   ],
   "metadata": {
    "collapsed": false
   },
   "id": "a88ffcbd2015d422",
   "execution_count": null
  },
  {
   "cell_type": "markdown",
   "source": [
    "Perfect! It generated the code as expected, and in the DEBUG logs, you can see that the calls were made by agents named \"engineer\" and \"qa\"!"
   ],
   "metadata": {
    "collapsed": false
   },
   "id": "1bd312ed049a5511"
  },
  {
   "cell_type": "markdown",
   "source": [
    "Lets verify one more thing! If we make an LLM call outside of the context of a tracked agent, we want to make sure it gets assigned to the Default Agent."
   ],
   "metadata": {
    "collapsed": false
   },
   "id": "cbd0817a31756397"
  },
  {
   "cell_type": "code",
   "outputs": [],
   "source": [
    "res = openai_client.chat.completions.create(\n",
    "    model=\"gpt-3.5-turbo\",\n",
    "    messages=[{\"role\": \"system\", \"content\": \"You are not a tracked agent\"},\n",
    "    {\"role\": \"user\", \"content\": \"Say hello\"}]\n",
    ")\n",
    "res.choices[0].message.content"
   ],
   "metadata": {
    "collapsed": false
   },
   "id": "122e923cb07fd5f4",
   "execution_count": null
  },
  {
   "cell_type": "markdown",
   "source": [
    "You'll notice that we didn't log an agent name, so the AgentOps backend will assign it to the Default Agent for the session!"
   ],
   "metadata": {
    "collapsed": false
   },
   "id": "a30909020c6a1ada"
  }
 ],
 "metadata": {
  "kernelspec": {
   "display_name": "Python 3",
   "language": "python",
   "name": "python3"
  },
  "language_info": {
   "codemirror_mode": {
    "name": "ipython",
    "version": 2
   },
   "file_extension": ".py",
   "mimetype": "text/x-python",
   "name": "python",
   "nbconvert_exporter": "python",
   "pygments_lexer": "ipython2",
   "version": "2.7.6"
  }
 },
 "nbformat": 4,
 "nbformat_minor": 5
}
