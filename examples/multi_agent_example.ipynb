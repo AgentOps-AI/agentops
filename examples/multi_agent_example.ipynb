{
 "cells": [
  {
   "cell_type": "markdown",
   "source": [
    "# Multi-Agent Support\n",
    "This is an example implementation of tracking events from two separate agents"
   ],
   "metadata": {
    "collapsed": false
   },
   "id": "a2e266428cefc683"
  },
  {
   "cell_type": "code",
   "outputs": [],
   "source": [
    "import agentops\n",
    "from agentops.agent import track_agent\n",
    "from dotenv import load_dotenv\n",
    "import os\n",
    "import openai\n",
    "import logging\n",
    "import traceback\n",
    "\n",
    "from IPython.display import display, Markdown"
   ],
   "metadata": {
    "collapsed": false,
    "ExecuteTime": {
     "end_time": "2024-03-08T20:18:22.647026Z",
     "start_time": "2024-03-08T20:18:22.400023Z"
    }
   },
   "id": "7c566fac57d3b6ce",
   "execution_count": 1
  },
  {
   "cell_type": "code",
   "outputs": [],
   "source": [
    "load_dotenv()\n",
    "OPENAI_API_KEY = os.getenv('OPENAI_API_KEY', \"<your_openai_key>\")\n",
    "AGENTOPS_API_KEY = os.getenv('AGENTOPS_API_KEY', \"<your_agentops_key>\")\n",
    "logging.basicConfig(level=logging.INFO)"
   ],
   "metadata": {
    "collapsed": false,
    "ExecuteTime": {
     "end_time": "2024-03-08T20:18:22.647457Z",
     "start_time": "2024-03-08T20:18:22.642757Z"
    }
   },
   "id": "9f8c52496c04693",
   "execution_count": 2
  },
  {
   "cell_type": "code",
   "outputs": [
    {
     "name": "stderr",
     "output_type": "stream",
     "text": [
      "INFO:root:View info on this session at https://agentops.ai/dashboard?session_id=5193a9a7-aa7f-485d-843b-36518566e983\n"
     ]
    }
   ],
   "source": [
    "ao_client = agentops.Client(AGENTOPS_API_KEY, endpoint='http://localhost:8000')\n",
    "openai_client = openai.Client()"
   ],
   "metadata": {
    "collapsed": false,
    "ExecuteTime": {
     "end_time": "2024-03-08T20:18:22.714693Z",
     "start_time": "2024-03-08T20:18:22.646071Z"
    }
   },
   "id": "af062552554d60ce",
   "execution_count": 3
  },
  {
   "cell_type": "markdown",
   "source": [
    "Now lets create a few agents!"
   ],
   "metadata": {
    "collapsed": false
   },
   "id": "95d212546aaf1f82"
  },
  {
   "cell_type": "code",
   "outputs": [
    {
     "name": "stderr",
     "output_type": "stream",
     "text": [
      "INFO:httpx:HTTP Request: POST https://api.openai.com/v1/chat/completions \"HTTP/1.1 200 OK\"\n"
     ]
    },
    {
     "name": "stdout",
     "output_type": "stream",
     "text": [
      "Unable to parse a chunk for LLM call {'model': 'gpt-3.5-turbo', 'messages': [{'role': 'system', 'content': 'You are not a tracked agent'}, {'role': 'user', 'content': 'Say hello'}]} - skipping upload to AgentOps\n"
     ]
    },
    {
     "data": {
      "text/plain": "'Hello! How can I assist you today?'"
     },
     "execution_count": 12,
     "metadata": {},
     "output_type": "execute_result"
    }
   ],
   "source": [
    "res = openai_client.chat.completions.create(\n",
    "    model=\"gpt-3.5-turbo\",\n",
    "    messages=[{\"role\": \"system\", \"content\": \"You are not a tracked agent\"},\n",
    "    {\"role\": \"user\", \"content\": \"Say hello\"}]\n",
    ")\n",
    "# traceback.print_exc()\n",
    "# raise Exception()\n",
    "res.choices[0].message.content"
   ],
   "metadata": {
    "collapsed": false,
    "ExecuteTime": {
     "end_time": "2024-03-08T20:18:31.386272Z",
     "start_time": "2024-03-08T20:18:31.060728Z"
    }
   },
   "id": "bf2875d35c8458ae",
   "execution_count": 12
  },
  {
   "cell_type": "code",
   "outputs": [],
   "source": [
    "@track_agent(name='qa')\n",
    "class QaAgent:\n",
    "    def completion(self, prompt: str):\n",
    "        res = openai_client.chat.completions.create(model='gpt-3.5-turbo', messages=[{\"role\": \"system\", \"content\": \"You are a qa engineer and only output python code, no markdown tags.\"},\n",
    "    {\"role\": \"user\", \"content\": prompt}], temperature=0.5)\n",
    "        return res.choices[0].message.content\n",
    "        \n",
    "@track_agent(name='engineer')\n",
    "class EngineerAgent:\n",
    "    def completion(self, prompt: str):\n",
    "        res = openai_client.chat.completions.create(model='gpt-3.5-turbo', messages=[{\"role\": \"system\", \"content\": \"You are a software engineer and only output python code, no markdown tags.\"},\n",
    "    {\"role\": \"user\", \"content\": prompt}], temperature=0.5)\n",
    "        return res.choices[0].message.content"
   ],
   "metadata": {
    "collapsed": false,
    "ExecuteTime": {
     "end_time": "2024-03-08T20:18:23.471733Z",
     "start_time": "2024-03-08T20:18:23.466899Z"
    }
   },
   "id": "727e3cc26ce3ec3",
   "execution_count": 5
  },
  {
   "cell_type": "code",
   "outputs": [],
   "source": [
    "qa = QaAgent()\n",
    "qa2 = QaAgent()\n",
    "engineer = EngineerAgent()"
   ],
   "metadata": {
    "collapsed": false,
    "ExecuteTime": {
     "end_time": "2024-03-08T20:18:23.565195Z",
     "start_time": "2024-03-08T20:18:23.468586Z"
    }
   },
   "id": "79b75d65de738522",
   "execution_count": 6
  },
  {
   "cell_type": "code",
   "outputs": [
    {
     "name": "stdout",
     "output_type": "stream",
     "text": [
      "engineer\n",
      "fc947d29-c909-4470-bd33-f0da4687f81a\n",
      "3ecfe8d2-df1a-4189-85b1-0736d4314843\n"
     ]
    }
   ],
   "source": [
    "print(engineer._ao_agent_name)\n",
    "print(qa._ao_agent_id)\n",
    "print(qa2._ao_agent_id)"
   ],
   "metadata": {
    "collapsed": false,
    "ExecuteTime": {
     "end_time": "2024-03-08T20:18:23.566003Z",
     "start_time": "2024-03-08T20:18:23.563967Z"
    }
   },
   "id": "513819204dde0e0a",
   "execution_count": 7
  },
  {
   "cell_type": "code",
   "outputs": [
    {
     "name": "stderr",
     "output_type": "stream",
     "text": [
      "INFO:httpx:HTTP Request: POST https://api.openai.com/v1/chat/completions \"HTTP/1.1 200 OK\"\n",
      "INFO:root:LLM call from agent named: engineer\n"
     ]
    },
    {
     "name": "stdout",
     "output_type": "stream",
     "text": [
      "Unable to parse a chunk for LLM call {'model': 'gpt-3.5-turbo', 'messages': [{'role': 'system', 'content': 'You are a software engineer and only output python code, no markdown tags.'}, {'role': 'user', 'content': 'Write a python function that accepts two numbers and multiplies them together, then divides by two. No example.'}], 'temperature': 0.5} - skipping upload to AgentOps\n"
     ]
    }
   ],
   "source": [
    "generated_func = engineer.completion(\"Write a python function that accepts two numbers and multiplies them together, then divides by two. No example.\")"
   ],
   "metadata": {
    "collapsed": false,
    "ExecuteTime": {
     "end_time": "2024-03-08T20:18:24.427146Z",
     "start_time": "2024-03-08T20:18:23.566776Z"
    }
   },
   "id": "69e76061a626549",
   "execution_count": 8
  },
  {
   "cell_type": "code",
   "outputs": [
    {
     "data": {
      "text/plain": "<IPython.core.display.Markdown object>",
      "text/markdown": "```python\ndef multiply_and_divide(num1, num2):\n    result = (num1 * num2) / 2\n    return result\n```"
     },
     "metadata": {},
     "output_type": "display_data"
    }
   ],
   "source": [
    "display(Markdown('```python\\n' + generated_func + '\\n```'))\n"
   ],
   "metadata": {
    "collapsed": false,
    "ExecuteTime": {
     "end_time": "2024-03-08T20:18:24.427763Z",
     "start_time": "2024-03-08T20:18:24.424968Z"
    }
   },
   "id": "830b86dac47dceb3",
   "execution_count": 9
  },
  {
   "cell_type": "code",
   "outputs": [
    {
     "name": "stderr",
     "output_type": "stream",
     "text": [
      "INFO:httpx:HTTP Request: POST https://api.openai.com/v1/chat/completions \"HTTP/1.1 200 OK\"\n",
      "INFO:root:LLM call from agent named: qa\n"
     ]
    },
    {
     "name": "stdout",
     "output_type": "stream",
     "text": [
      "Unable to parse a chunk for LLM call {'model': 'gpt-3.5-turbo', 'messages': [{'role': 'system', 'content': 'You are a qa engineer and only output python code, no markdown tags.'}, {'role': 'user', 'content': 'Write a python unit test that test the following function: \\n def multiply_and_divide(num1, num2):\\n    result = (num1 * num2) / 2\\n    return result'}], 'temperature': 0.5} - skipping upload to AgentOps\n"
     ]
    }
   ],
   "source": [
    "generated_test = qa.completion(\"Write a python unit test that test the following function: \\n \" + generated_func)"
   ],
   "metadata": {
    "collapsed": false,
    "ExecuteTime": {
     "end_time": "2024-03-08T20:18:27.148493Z",
     "start_time": "2024-03-08T20:18:24.429637Z"
    }
   },
   "id": "63c9d0d457aee91a",
   "execution_count": 10
  },
  {
   "cell_type": "code",
   "outputs": [
    {
     "data": {
      "text/plain": "<IPython.core.display.Markdown object>",
      "text/markdown": "```python\nimport unittest\n\ndef multiply_and_divide(num1, num2):\n    result = (num1 * num2) / 2\n    return result\n\nclass TestMultiplyAndDivide(unittest.TestCase):\n\n    def test_multiply_and_divide(self):\n        self.assertEqual(multiply_and_divide(4, 2), 4.0)\n        self.assertEqual(multiply_and_divide(5, 3), 7.5)\n        self.assertEqual(multiply_and_divide(0, 10), 0.0)\n        self.assertEqual(multiply_and_divide(-6, 3), -9.0)\n\nif __name__ == '__main__':\n    unittest.main()\n```"
     },
     "metadata": {},
     "output_type": "display_data"
    }
   ],
   "source": [
    "display(Markdown('```python\\n' + generated_test + '\\n```'))"
   ],
   "metadata": {
    "collapsed": false,
    "ExecuteTime": {
     "end_time": "2024-03-08T20:18:27.151987Z",
     "start_time": "2024-03-08T20:18:27.148793Z"
    }
   },
   "id": "a88ffcbd2015d422",
   "execution_count": 11
  },
  {
   "cell_type": "code",
   "outputs": [],
   "source": [],
   "metadata": {
    "collapsed": false,
    "ExecuteTime": {
     "end_time": "2024-03-08T20:18:27.155679Z",
     "start_time": "2024-03-08T20:18:27.151979Z"
    }
   },
   "id": "e5003033f93eb21b",
   "execution_count": 11
  }
 ],
 "metadata": {
  "kernelspec": {
   "display_name": "Python 3",
   "language": "python",
   "name": "python3"
  },
  "language_info": {
   "codemirror_mode": {
    "name": "ipython",
    "version": 2
   },
   "file_extension": ".py",
   "mimetype": "text/x-python",
   "name": "python",
   "nbconvert_exporter": "python",
   "pygments_lexer": "ipython2",
   "version": "2.7.6"
  }
 },
 "nbformat": 4,
 "nbformat_minor": 5
}
