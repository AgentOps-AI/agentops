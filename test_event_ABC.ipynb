{
 "cells": [
  {
   "cell_type": "code",
   "execution_count": null,
   "metadata": {},
   "outputs": [],
   "source": [
    "%pip install .\n",
    "import agentops\n",
    "agentopsClient = agentops.Client(api_key=\"\", tags=[\"event-ABC-test\"], endpoint=\"http://localhost:8000\")"
   ]
  },
  {
   "cell_type": "code",
   "execution_count": null,
   "metadata": {},
   "outputs": [],
   "source": [
    "action = agentops.ActionEvent(action_type=\"action-test\",detail=\"This is a test event\", logs=\"blah\")\n",
    "event = agentopsClient.record(agentops.ActionEvent(action_type=\"action-test\", detail=\"This is a test event\", logs=\"blah\"))"
   ]
  },
  {
   "cell_type": "code",
   "execution_count": null,
   "metadata": {},
   "outputs": [],
   "source": [
    "# llmEvent = agentops_rename.LLMEvent(model=\"gpt-4\",prompt=\"ligma\",prompt_tokens=\"69\",completion_tokens=\"420\")\n",
    "# event = agentopsClient.record(llmEvent)"
   ]
  },
  {
   "cell_type": "code",
   "execution_count": null,
   "metadata": {},
   "outputs": [],
   "source": [
    "# toolEvent = agentops_rename.ToolEvent(name=\"tool-test\",inputs=\"test\",outputs=\"test\",logs=\"test\")\n",
    "# event = agentopsClient.record(toolEvent)"
   ]
  },
  {
   "cell_type": "code",
   "execution_count": null,
   "metadata": {},
   "outputs": [],
   "source": [
    "# errorEvent = agentops_rename.ErrorEvent(error_type=\"f\", code=\"404\", details=\"ligma\", logs=\"69\")\n",
    "# event = agentopsClient.record(errorEvent)"
   ]
  }
 ],
 "metadata": {
  "kernelspec": {
   "display_name": "env",
   "language": "python",
   "name": "python3"
  },
  "language_info": {
   "codemirror_mode": {
    "name": "ipython",
    "version": 3
   },
   "file_extension": ".py",
   "mimetype": "text/x-python",
   "name": "python",
   "nbconvert_exporter": "python",
   "pygments_lexer": "ipython3",
   "version": "3.12.2"
  }
 },
 "nbformat": 4,
 "nbformat_minor": 2
}
