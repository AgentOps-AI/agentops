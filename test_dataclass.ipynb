{
  "cells": [
    {
      "cell_type": "code",
      "execution_count": null,
      "metadata": {},
      "outputs": [],
      "source": [
        "%pip install .\n",
        "import agentops\n",
        "agentopsClient = agentops.Client(tags=[\"event-dataclass-test\"], endpoint=\"http://localhost:8000\")"
      ]
    },
    {
      "cell_type": "code",
      "execution_count": null,
      "metadata": {},
      "outputs": [],
      "source": [
        "action = agentops.ActionEvent(agent_id=\"bab61b5e-d79d-11ee-a73d-1691af3348bd\",action_type=\"action-test\", detail=\"This is a test event\",\n",
        "                              logs=\"blah\")\n",
        "agentopsClient.record(action)\n",
        "\n",
        "#TODO: agent_id required"
      ]
    },
    {
      "cell_type": "code",
      "execution_count": null,
      "metadata": {},
      "outputs": [],
      "source": [
        "llmEvent = agentops.LLMEvent(thread_id=\"8e9b80e0-d79d-11ee-a73d-1691af3348bd\", model=\"gpt-4\", prompt=\"ligma\", prompt_tokens=\"69\",\n",
        "                             completion_tokens=\"420\")\n",
        "agentopsClient.record(llmEvent)\n",
        "\n",
        "# TODO: thread_id required"
      ]
    },
    {
      "cell_type": "code",
      "execution_count": null,
      "metadata": {},
      "outputs": [],
      "source": [
        "toolEvent = agentops.ToolEvent(name=\"tool-test\", agent_id=\"bab61b5e-d79d-11ee-a73d-1691af3348bd\", inputs=\"test\",outputs=\"test\",logs=\"test\")\n",
        "agentopsClient.record(toolEvent)"
      ]
    },
    {
      "cell_type": "code",
      "execution_count": null,
      "metadata": {},
      "outputs": [],
      "source": [
        "errorEvent = agentops.ErrorEvent(error_type=\"critical\", code=\"404\", details=\"ligma\", logs=\"69\")\n",
        "agentopsClient.record(errorEvent)"
      ]
    }
  ],
  "metadata": {
    "kernelspec": {
      "display_name": "env",
      "language": "python",
      "name": "python3"
    },
    "language_info": {
      "codemirror_mode": {
        "name": "ipython",
        "version": 3
      },
      "file_extension": ".py",
      "mimetype": "text/x-python",
      "name": "python",
      "nbconvert_exporter": "python",
      "pygments_lexer": "ipython3",
      "version": "3.12.2"
    }
  },
  "nbformat": 4,
  "nbformat_minor": 2
}
